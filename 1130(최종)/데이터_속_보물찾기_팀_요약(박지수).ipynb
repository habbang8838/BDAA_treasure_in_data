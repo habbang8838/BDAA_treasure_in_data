{
 "cells": [
  {
   "cell_type": "markdown",
   "id": "e9ec2ba0",
   "metadata": {
    "colab_type": "text",
    "id": "view-in-github"
   },
   "source": [
    "<a href=\"https://colab.research.google.com/github/habbang8838/BDAA_treasure_in_data/blob/main/%EB%8D%B0%EC%9D%B4%ED%84%B0_%EC%86%8D_%EB%B3%B4%EB%AC%BC%EC%B0%BE%EA%B8%B0_%ED%8C%80.ipynb\" target=\"_parent\"><img src=\"https://colab.research.google.com/assets/colab-badge.svg\" alt=\"Open In Colab\"/></a>"
   ]
  },
  {
   "cell_type": "markdown",
   "id": "2K5ohs6QHP9t",
   "metadata": {
    "id": "2K5ohs6QHP9t"
   },
   "source": [
    "# 1. 데이터 전처리 하기"
   ]
  },
  {
   "cell_type": "code",
   "execution_count": 19,
   "id": "5ec1e6e9",
   "metadata": {
    "id": "5ec1e6e9"
   },
   "outputs": [],
   "source": [
    "#먼저 필요한 모듈을 import해줍니다\n",
    "\n",
    "import pandas as pd\n",
    "from datetime import datetime\n",
    "import matplotlib.pyplot as plt\n",
    "import seaborn as sns"
   ]
  },
  {
   "cell_type": "code",
   "execution_count": 20,
   "id": "tD9kSq4Tkfid",
   "metadata": {
    "id": "tD9kSq4Tkfid"
   },
   "outputs": [],
   "source": [
    "# 시각화 과정에서 한글 깨짐 방지 코드입니다.\n",
    "\n",
    "from matplotlib import font_manager, rc\n",
    "import matplotlib\n",
    "import platform\n",
    "import matplotlib.pyplot as plt\n",
    "\n",
    "%matplotlib inline \n",
    "\n",
    "if platform.system() == 'Windows':\n",
    "    font_name = font_manager.FontProperties(fname=\"c:/Windows/Fonts/malgun.ttf\").get_name()\n",
    "    rc('font', family = font_name)\n",
    "else:\n",
    "    rc('font',family='AppleGothic')\n",
    "    \n",
    "matplotlib.rcParams['axes.unicode_minus']=False\n",
    "%matplotlib inline"
   ]
  },
  {
   "cell_type": "code",
   "execution_count": 21,
   "id": "308b466e",
   "metadata": {
    "id": "308b466e"
   },
   "outputs": [
    {
     "ename": "FileNotFoundError",
     "evalue": "[Errno 2] No such file or directory: 'BDAA_1회 내부 공모전 데이터.xlsx'",
     "output_type": "error",
     "traceback": [
      "\u001b[1;31m---------------------------------------------------------------------------\u001b[0m",
      "\u001b[1;31mFileNotFoundError\u001b[0m                         Traceback (most recent call last)",
      "Cell \u001b[1;32mIn [21], line 4\u001b[0m\n\u001b[0;32m      2\u001b[0m df \u001b[38;5;241m=\u001b[39m []\n\u001b[0;32m      3\u001b[0m \u001b[38;5;28;01mfor\u001b[39;00m i \u001b[38;5;129;01min\u001b[39;00m \u001b[38;5;28mrange\u001b[39m(\u001b[38;5;241m9\u001b[39m):\n\u001b[1;32m----> 4\u001b[0m     df\u001b[38;5;241m.\u001b[39mappend(\u001b[43mpd\u001b[49m\u001b[38;5;241;43m.\u001b[39;49m\u001b[43mread_excel\u001b[49m\u001b[43m(\u001b[49m\u001b[38;5;124;43m'\u001b[39;49m\u001b[38;5;124;43mBDAA_1회 내부 공모전 데이터.xlsx\u001b[39;49m\u001b[38;5;124;43m'\u001b[39;49m\u001b[43m,\u001b[49m\u001b[43m \u001b[49m\u001b[43msheet_name\u001b[49m\u001b[38;5;241;43m=\u001b[39;49m\u001b[43mi\u001b[49m\u001b[43m)\u001b[49m)\n",
      "File \u001b[1;32m~\\anaconda3\\lib\\site-packages\\pandas\\util\\_decorators.py:311\u001b[0m, in \u001b[0;36mdeprecate_nonkeyword_arguments.<locals>.decorate.<locals>.wrapper\u001b[1;34m(*args, **kwargs)\u001b[0m\n\u001b[0;32m    305\u001b[0m \u001b[38;5;28;01mif\u001b[39;00m \u001b[38;5;28mlen\u001b[39m(args) \u001b[38;5;241m>\u001b[39m num_allow_args:\n\u001b[0;32m    306\u001b[0m     warnings\u001b[38;5;241m.\u001b[39mwarn(\n\u001b[0;32m    307\u001b[0m         msg\u001b[38;5;241m.\u001b[39mformat(arguments\u001b[38;5;241m=\u001b[39marguments),\n\u001b[0;32m    308\u001b[0m         \u001b[38;5;167;01mFutureWarning\u001b[39;00m,\n\u001b[0;32m    309\u001b[0m         stacklevel\u001b[38;5;241m=\u001b[39mstacklevel,\n\u001b[0;32m    310\u001b[0m     )\n\u001b[1;32m--> 311\u001b[0m \u001b[38;5;28;01mreturn\u001b[39;00m func(\u001b[38;5;241m*\u001b[39margs, \u001b[38;5;241m*\u001b[39m\u001b[38;5;241m*\u001b[39mkwargs)\n",
      "File \u001b[1;32m~\\anaconda3\\lib\\site-packages\\pandas\\io\\excel\\_base.py:457\u001b[0m, in \u001b[0;36mread_excel\u001b[1;34m(io, sheet_name, header, names, index_col, usecols, squeeze, dtype, engine, converters, true_values, false_values, skiprows, nrows, na_values, keep_default_na, na_filter, verbose, parse_dates, date_parser, thousands, decimal, comment, skipfooter, convert_float, mangle_dupe_cols, storage_options)\u001b[0m\n\u001b[0;32m    455\u001b[0m \u001b[38;5;28;01mif\u001b[39;00m \u001b[38;5;129;01mnot\u001b[39;00m \u001b[38;5;28misinstance\u001b[39m(io, ExcelFile):\n\u001b[0;32m    456\u001b[0m     should_close \u001b[38;5;241m=\u001b[39m \u001b[38;5;28;01mTrue\u001b[39;00m\n\u001b[1;32m--> 457\u001b[0m     io \u001b[38;5;241m=\u001b[39m \u001b[43mExcelFile\u001b[49m\u001b[43m(\u001b[49m\u001b[43mio\u001b[49m\u001b[43m,\u001b[49m\u001b[43m \u001b[49m\u001b[43mstorage_options\u001b[49m\u001b[38;5;241;43m=\u001b[39;49m\u001b[43mstorage_options\u001b[49m\u001b[43m,\u001b[49m\u001b[43m \u001b[49m\u001b[43mengine\u001b[49m\u001b[38;5;241;43m=\u001b[39;49m\u001b[43mengine\u001b[49m\u001b[43m)\u001b[49m\n\u001b[0;32m    458\u001b[0m \u001b[38;5;28;01melif\u001b[39;00m engine \u001b[38;5;129;01mand\u001b[39;00m engine \u001b[38;5;241m!=\u001b[39m io\u001b[38;5;241m.\u001b[39mengine:\n\u001b[0;32m    459\u001b[0m     \u001b[38;5;28;01mraise\u001b[39;00m \u001b[38;5;167;01mValueError\u001b[39;00m(\n\u001b[0;32m    460\u001b[0m         \u001b[38;5;124m\"\u001b[39m\u001b[38;5;124mEngine should not be specified when passing \u001b[39m\u001b[38;5;124m\"\u001b[39m\n\u001b[0;32m    461\u001b[0m         \u001b[38;5;124m\"\u001b[39m\u001b[38;5;124man ExcelFile - ExcelFile already has the engine set\u001b[39m\u001b[38;5;124m\"\u001b[39m\n\u001b[0;32m    462\u001b[0m     )\n",
      "File \u001b[1;32m~\\anaconda3\\lib\\site-packages\\pandas\\io\\excel\\_base.py:1376\u001b[0m, in \u001b[0;36mExcelFile.__init__\u001b[1;34m(self, path_or_buffer, engine, storage_options)\u001b[0m\n\u001b[0;32m   1374\u001b[0m     ext \u001b[38;5;241m=\u001b[39m \u001b[38;5;124m\"\u001b[39m\u001b[38;5;124mxls\u001b[39m\u001b[38;5;124m\"\u001b[39m\n\u001b[0;32m   1375\u001b[0m \u001b[38;5;28;01melse\u001b[39;00m:\n\u001b[1;32m-> 1376\u001b[0m     ext \u001b[38;5;241m=\u001b[39m \u001b[43minspect_excel_format\u001b[49m\u001b[43m(\u001b[49m\n\u001b[0;32m   1377\u001b[0m \u001b[43m        \u001b[49m\u001b[43mcontent_or_path\u001b[49m\u001b[38;5;241;43m=\u001b[39;49m\u001b[43mpath_or_buffer\u001b[49m\u001b[43m,\u001b[49m\u001b[43m \u001b[49m\u001b[43mstorage_options\u001b[49m\u001b[38;5;241;43m=\u001b[39;49m\u001b[43mstorage_options\u001b[49m\n\u001b[0;32m   1378\u001b[0m \u001b[43m    \u001b[49m\u001b[43m)\u001b[49m\n\u001b[0;32m   1379\u001b[0m     \u001b[38;5;28;01mif\u001b[39;00m ext \u001b[38;5;129;01mis\u001b[39;00m \u001b[38;5;28;01mNone\u001b[39;00m:\n\u001b[0;32m   1380\u001b[0m         \u001b[38;5;28;01mraise\u001b[39;00m \u001b[38;5;167;01mValueError\u001b[39;00m(\n\u001b[0;32m   1381\u001b[0m             \u001b[38;5;124m\"\u001b[39m\u001b[38;5;124mExcel file format cannot be determined, you must specify \u001b[39m\u001b[38;5;124m\"\u001b[39m\n\u001b[0;32m   1382\u001b[0m             \u001b[38;5;124m\"\u001b[39m\u001b[38;5;124man engine manually.\u001b[39m\u001b[38;5;124m\"\u001b[39m\n\u001b[0;32m   1383\u001b[0m         )\n",
      "File \u001b[1;32m~\\anaconda3\\lib\\site-packages\\pandas\\io\\excel\\_base.py:1250\u001b[0m, in \u001b[0;36minspect_excel_format\u001b[1;34m(content_or_path, storage_options)\u001b[0m\n\u001b[0;32m   1247\u001b[0m \u001b[38;5;28;01mif\u001b[39;00m \u001b[38;5;28misinstance\u001b[39m(content_or_path, \u001b[38;5;28mbytes\u001b[39m):\n\u001b[0;32m   1248\u001b[0m     content_or_path \u001b[38;5;241m=\u001b[39m BytesIO(content_or_path)\n\u001b[1;32m-> 1250\u001b[0m \u001b[38;5;28;01mwith\u001b[39;00m \u001b[43mget_handle\u001b[49m\u001b[43m(\u001b[49m\n\u001b[0;32m   1251\u001b[0m \u001b[43m    \u001b[49m\u001b[43mcontent_or_path\u001b[49m\u001b[43m,\u001b[49m\u001b[43m \u001b[49m\u001b[38;5;124;43m\"\u001b[39;49m\u001b[38;5;124;43mrb\u001b[39;49m\u001b[38;5;124;43m\"\u001b[39;49m\u001b[43m,\u001b[49m\u001b[43m \u001b[49m\u001b[43mstorage_options\u001b[49m\u001b[38;5;241;43m=\u001b[39;49m\u001b[43mstorage_options\u001b[49m\u001b[43m,\u001b[49m\u001b[43m \u001b[49m\u001b[43mis_text\u001b[49m\u001b[38;5;241;43m=\u001b[39;49m\u001b[38;5;28;43;01mFalse\u001b[39;49;00m\n\u001b[0;32m   1252\u001b[0m \u001b[43m\u001b[49m\u001b[43m)\u001b[49m \u001b[38;5;28;01mas\u001b[39;00m handle:\n\u001b[0;32m   1253\u001b[0m     stream \u001b[38;5;241m=\u001b[39m handle\u001b[38;5;241m.\u001b[39mhandle\n\u001b[0;32m   1254\u001b[0m     stream\u001b[38;5;241m.\u001b[39mseek(\u001b[38;5;241m0\u001b[39m)\n",
      "File \u001b[1;32m~\\anaconda3\\lib\\site-packages\\pandas\\io\\common.py:795\u001b[0m, in \u001b[0;36mget_handle\u001b[1;34m(path_or_buf, mode, encoding, compression, memory_map, is_text, errors, storage_options)\u001b[0m\n\u001b[0;32m    786\u001b[0m         handle \u001b[38;5;241m=\u001b[39m \u001b[38;5;28mopen\u001b[39m(\n\u001b[0;32m    787\u001b[0m             handle,\n\u001b[0;32m    788\u001b[0m             ioargs\u001b[38;5;241m.\u001b[39mmode,\n\u001b[1;32m   (...)\u001b[0m\n\u001b[0;32m    791\u001b[0m             newline\u001b[38;5;241m=\u001b[39m\u001b[38;5;124m\"\u001b[39m\u001b[38;5;124m\"\u001b[39m,\n\u001b[0;32m    792\u001b[0m         )\n\u001b[0;32m    793\u001b[0m     \u001b[38;5;28;01melse\u001b[39;00m:\n\u001b[0;32m    794\u001b[0m         \u001b[38;5;66;03m# Binary mode\u001b[39;00m\n\u001b[1;32m--> 795\u001b[0m         handle \u001b[38;5;241m=\u001b[39m \u001b[38;5;28;43mopen\u001b[39;49m\u001b[43m(\u001b[49m\u001b[43mhandle\u001b[49m\u001b[43m,\u001b[49m\u001b[43m \u001b[49m\u001b[43mioargs\u001b[49m\u001b[38;5;241;43m.\u001b[39;49m\u001b[43mmode\u001b[49m\u001b[43m)\u001b[49m\n\u001b[0;32m    796\u001b[0m     handles\u001b[38;5;241m.\u001b[39mappend(handle)\n\u001b[0;32m    798\u001b[0m \u001b[38;5;66;03m# Convert BytesIO or file objects passed with an encoding\u001b[39;00m\n",
      "\u001b[1;31mFileNotFoundError\u001b[0m: [Errno 2] No such file or directory: 'BDAA_1회 내부 공모전 데이터.xlsx'"
     ]
    }
   ],
   "source": [
    "# 데이터프레임은 월별로 시트가 여러개이므로, csv 파일로 불러오는 것이 불가능하여, 리스트에 요소별로 데이터프레임을 추가하고, concat하는 방식으로 하였습니다.\n",
    "df = []\n",
    "for i in range(9):\n",
    "    df.append(pd.read_excel('BDAA_1회 내부 공모전 데이터.xlsx', sheet_name=i))"
   ]
  },
  {
   "cell_type": "code",
   "execution_count": null,
   "id": "c4854c65",
   "metadata": {
    "id": "c4854c65"
   },
   "outputs": [],
   "source": [
    "df = pd.concat([df[i] for i in range(9)], axis = 0)"
   ]
  },
  {
   "cell_type": "code",
   "execution_count": null,
   "id": "c50a2268",
   "metadata": {
    "colab": {
     "base_uri": "https://localhost:8080/",
     "height": 887
    },
    "id": "c50a2268",
    "outputId": "2aaf1a87-5f55-46bf-bd5b-af58f7f8f079"
   },
   "outputs": [],
   "source": [
    "df.head()"
   ]
  },
  {
   "cell_type": "code",
   "execution_count": null,
   "id": "7d2dd89a",
   "metadata": {
    "colab": {
     "base_uri": "https://localhost:8080/",
     "height": 1000
    },
    "id": "7d2dd89a",
    "outputId": "a51ddc19-b5c4-4a9c-de16-2abe270d3eb2"
   },
   "outputs": [],
   "source": [
    "#날짜 중 '일'이 역순으로 되어 있어 순서대로 정렬하였습니다.\n",
    "df = df.sort_values('주문접수일시')\n",
    "df"
   ]
  },
  {
   "cell_type": "markdown",
   "id": "1264610d",
   "metadata": {
    "id": "1264610d"
   },
   "source": [
    "## 1) 분석에 필요하지 않은 칼럼 삭제하기"
   ]
  },
  {
   "cell_type": "code",
   "execution_count": null,
   "id": "bca68e5b",
   "metadata": {
    "colab": {
     "base_uri": "https://localhost:8080/"
    },
    "id": "bca68e5b",
    "outputId": "69ff1437-01d4-481f-c8a6-ed3d93889426"
   },
   "outputs": [],
   "source": [
    "df.info()"
   ]
  },
  {
   "cell_type": "code",
   "execution_count": null,
   "id": "6abb1497",
   "metadata": {
    "colab": {
     "base_uri": "https://localhost:8080/"
    },
    "id": "6abb1497",
    "outputId": "1251be78-b18d-4b2a-98ce-7074883f1cc8"
   },
   "outputs": [],
   "source": [
    "df.isna().sum()"
   ]
  },
  {
   "cell_type": "markdown",
   "id": "fb369419",
   "metadata": {
    "id": "fb369419"
   },
   "source": [
    "- 엑셀 파일 분석 결과 '진행상태 (약식)', '배송회차', '모델번호'는 일절 쓰지 않는 칼럼(총 데이터가 102077개인데 na가 102077개),\n",
    "- '롯데멤버스오프라인고객번호', '롯데맴버스온라인고객번호','회원번호'는 6~9월에만 사용했던 칼럼이기에,\n",
    "- 이 변수들로는 1 ~ 9월의 주문 경향을 분석하기에는 다소 어려움이 있어, 칼럼을 삭제하도록 하겠습니다.\n",
    "- '추가옵션'이라는 칼럼 또한 모든 값이 []라는 널 값이기에, 삭제하였습니다."
   ]
  },
  {
   "cell_type": "code",
   "execution_count": null,
   "id": "eb50a134",
   "metadata": {
    "id": "eb50a134"
   },
   "outputs": [],
   "source": [
    "df = df.drop(['진행상태 (약식)', '모델번호', '롯데맴버스오프라인고객번호', '롯데맴버스온라인고객번호', '회원번호'], axis = 1)"
   ]
  },
  {
   "cell_type": "markdown",
   "id": "e639d7a3",
   "metadata": {
    "id": "e639d7a3"
   },
   "source": [
    "- 칼럼이 너무 많아서, 단일 값이거나, 널값인 칼럼은 제거하도록 하겠습니다."
   ]
  },
  {
   "cell_type": "code",
   "execution_count": null,
   "id": "d03ad5d2",
   "metadata": {
    "colab": {
     "base_uri": "https://localhost:8080/"
    },
    "id": "d03ad5d2",
    "outputId": "5c23da7c-64ac-4946-f231-1813cd649259"
   },
   "outputs": [],
   "source": [
    "for i in range(len(df.columns)):\n",
    "    print(df.columns[i], len(df[df.columns[i]].unique()))"
   ]
  },
  {
   "cell_type": "code",
   "execution_count": null,
   "id": "6ac7713c",
   "metadata": {
    "colab": {
     "base_uri": "https://localhost:8080/"
    },
    "id": "6ac7713c",
    "outputId": "ad446b0c-ffb8-40d2-cb0d-30b5ca2d2487"
   },
   "outputs": [],
   "source": [
    "print(df['배송수단'].unique())\n",
    "print(df['배송상품유형'].unique())\n",
    "print(df['배송처리유형'].unique())\n",
    "print(df['배송예약구분'].unique())\n",
    "print(df['배송회차'].unique())\n",
    "print(df['추가옵션'].unique())\n",
    "print(df['주문판매유형'].unique())\n",
    "print(df['상품유형'].unique())"
   ]
  },
  {
   "cell_type": "code",
   "execution_count": null,
   "id": "6c278c1e",
   "metadata": {
    "colab": {
     "base_uri": "https://localhost:8080/"
    },
    "id": "6c278c1e",
    "outputId": "f84c90ea-e0fa-4cc8-e33c-b9e26158b9db"
   },
   "outputs": [],
   "source": [
    "# 브랜드명의 경우 전부 값이 씨제이 제일제당으로 같으므로 제거해주겠습니다.\n",
    "df['브랜드'].value_counts()"
   ]
  },
  {
   "cell_type": "code",
   "execution_count": null,
   "id": "7cb66d2f",
   "metadata": {
    "id": "7cb66d2f"
   },
   "outputs": [],
   "source": [
    "df = df.drop(['배송수단', '배송상품유형', '배송처리유형', '배송예약구분', '배송회차', '추가옵션', '주문판매유형', '상품유형', '브랜드'], axis=1)"
   ]
  },
  {
   "cell_type": "code",
   "execution_count": null,
   "id": "6e292356",
   "metadata": {
    "colab": {
     "base_uri": "https://localhost:8080/"
    },
    "id": "6e292356",
    "outputId": "cf4c6245-dd6a-4f90-9476-dd4bcfa49383"
   },
   "outputs": [],
   "source": [
    "# 불필요한 칼럼을 제거하고, 27개로 남긴 상태입니다.\n",
    "len(df.columns)"
   ]
  },
  {
   "cell_type": "code",
   "execution_count": null,
   "id": "9c622d58",
   "metadata": {
    "colab": {
     "base_uri": "https://localhost:8080/"
    },
    "id": "9c622d58",
    "outputId": "6e677b23-e7b3-4d30-acb6-2cf342422545"
   },
   "outputs": [],
   "source": [
    "df['예외처리구분'].unique()"
   ]
  },
  {
   "cell_type": "code",
   "execution_count": null,
   "id": "ff763a25",
   "metadata": {
    "colab": {
     "base_uri": "https://localhost:8080/",
     "height": 591
    },
    "id": "ff763a25",
    "outputId": "b6f8168a-7344-4025-f53a-0728f336be29",
    "scrolled": true
   },
   "outputs": [],
   "source": [
    "df[df['예외처리구분'] == '발송약정']"
   ]
  },
  {
   "cell_type": "code",
   "execution_count": null,
   "id": "21b2efd3",
   "metadata": {
    "colab": {
     "base_uri": "https://localhost:8080/"
    },
    "id": "21b2efd3",
    "outputId": "87dfc15f-cde1-4b5a-c116-956d3032b5b4"
   },
   "outputs": [],
   "source": [
    "print(df['유형'].unique())\n",
    "print(df['구매확정'].unique())\n",
    "print(df['예외처리구분'].unique())"
   ]
  },
  {
   "cell_type": "code",
   "execution_count": null,
   "id": "DWm53QK4MimO",
   "metadata": {
    "colab": {
     "base_uri": "https://localhost:8080/",
     "height": 1000
    },
    "id": "DWm53QK4MimO",
    "outputId": "d655f9a5-f671-4831-a240-620fdb51acda"
   },
   "outputs": [],
   "source": [
    "df[df['구매확정일시'].isna()]"
   ]
  },
  {
   "cell_type": "markdown",
   "id": "bTzlnETCLxp0",
   "metadata": {
    "id": "bTzlnETCLxp0"
   },
   "source": [
    "## 2)주문완료된 데이터만 추출하기"
   ]
  },
  {
   "cell_type": "code",
   "execution_count": null,
   "id": "0824793a",
   "metadata": {
    "id": "0824793a"
   },
   "outputs": [],
   "source": [
    "# 반품 및 교환 항목, 구매확정이 되지 않은 항목, \n",
    "# 예외처리구분(구매확정이 되었어도 이후 취소된 항목, 미수령되어 철회된 항목 등)은 제외하고, \n",
    "# 확실하게 주문이 성공된 상품에 대해서만 df_ordered라는 데이터프레임에 넣어주도록 하겠습니다.\n",
    "\n",
    "df_ordered = df[df['유형'] == '주문']\n",
    "df_ordered = df_ordered[df_ordered['구매확정'] == '구매확정']\n",
    "df_ordered = df_ordered[df_ordered['예외처리구분'].isna()]"
   ]
  },
  {
   "cell_type": "code",
   "execution_count": null,
   "id": "c693b71f",
   "metadata": {
    "colab": {
     "base_uri": "https://localhost:8080/",
     "height": 1000
    },
    "id": "c693b71f",
    "outputId": "e8ebab00-f001-47fa-a43e-49a4edfd2c83"
   },
   "outputs": [],
   "source": [
    "df_ordered"
   ]
  },
  {
   "cell_type": "markdown",
   "id": "8gB0SOJPNLJC",
   "metadata": {
    "id": "8gB0SOJPNLJC"
   },
   "source": [
    "## 3) 필요한 변수 생성하기"
   ]
  },
  {
   "cell_type": "code",
   "execution_count": null,
   "id": "4aa3c059",
   "metadata": {
    "id": "4aa3c059"
   },
   "outputs": [],
   "source": [
    "#판매액 변수 생성\n",
    "df_ordered['판매액'] = df_ordered['판매가'] * df_ordered['수량']"
   ]
  },
  {
   "cell_type": "code",
   "execution_count": null,
   "id": "50adf53c",
   "metadata": {
    "id": "50adf53c"
   },
   "outputs": [],
   "source": [
    "#데이트 형식으로 변경\n",
    "df_ordered['주문접수일시'] = pd.to_datetime(df_ordered['주문접수일시'], format = \"%Y-%m-%d %H:%M:%S\")"
   ]
  },
  {
   "cell_type": "code",
   "execution_count": null,
   "id": "afc67944",
   "metadata": {
    "id": "afc67944"
   },
   "outputs": [],
   "source": [
    "#월별 파악하기 위해 변수설정\n",
    "df_ordered['주문월'] = df_ordered['주문접수일시'].dt.month"
   ]
  },
  {
   "cell_type": "code",
   "execution_count": null,
   "id": "b8cc1429",
   "metadata": {
    "id": "b8cc1429"
   },
   "outputs": [],
   "source": [
    "df_ordered = df_ordered.reset_index()"
   ]
  },
  {
   "cell_type": "code",
   "execution_count": null,
   "id": "452a27cb",
   "metadata": {
    "id": "452a27cb"
   },
   "outputs": [],
   "source": [
    "df_ordered = df_ordered.drop(['index'], axis=1)"
   ]
  },
  {
   "cell_type": "code",
   "execution_count": null,
   "id": "680a3713",
   "metadata": {
    "colab": {
     "base_uri": "https://localhost:8080/",
     "height": 1000
    },
    "id": "680a3713",
    "outputId": "f8097adb-956b-4efc-a23c-d8293ea989bb",
    "scrolled": false
   },
   "outputs": [],
   "source": [
    "df_ordered.head()"
   ]
  },
  {
   "cell_type": "code",
   "execution_count": null,
   "id": "b21bae54",
   "metadata": {
    "colab": {
     "base_uri": "https://localhost:8080/"
    },
    "id": "b21bae54",
    "outputId": "5a598b4d-9fa8-43af-8f1f-287945f37c45"
   },
   "outputs": [],
   "source": [
    "for i in range(len(df_ordered.columns)):\n",
    "    print(df_ordered.columns[i], len(df_ordered[df_ordered.columns[i]].unique()))"
   ]
  },
  {
   "cell_type": "code",
   "execution_count": null,
   "id": "ce997dbc",
   "metadata": {
    "id": "ce997dbc"
   },
   "outputs": [],
   "source": [
    "# 주문 확정된 상품에서 더 이상 필요하지 않은 변수를 삭제하였습니다.\n",
    "df_ordered.drop(['유형', '배송회수구분', '구매확정', '예외처리구분'], axis = 1, inplace=True)"
   ]
  },
  {
   "cell_type": "code",
   "execution_count": null,
   "id": "2919ad41",
   "metadata": {
    "id": "2919ad41"
   },
   "outputs": [],
   "source": [
    "# 주문 확정된 상품 파일로 저장\n",
    "# df_ordered.to_csv('CJ제일제당 주문 데이터(전처리).csv')"
   ]
  },
  {
   "cell_type": "code",
   "execution_count": null,
   "id": "2ceceaab",
   "metadata": {
    "id": "2ceceaab"
   },
   "outputs": [],
   "source": [
    "df = pd.read_csv(path+'CJ제일제당 주문 데이터(전처리).csv')"
   ]
  },
  {
   "cell_type": "markdown",
   "id": "HGXZvyELfl-x",
   "metadata": {
    "id": "HGXZvyELfl-x"
   },
   "source": [
    "# 2. 월별로 구매 특징 분석하기"
   ]
  },
  {
   "cell_type": "code",
   "execution_count": null,
   "id": "NtSHlE7QgoU7",
   "metadata": {
    "id": "NtSHlE7QgoU7"
   },
   "outputs": [],
   "source": [
    "df['주문접수일시'] = pd.to_datetime(df['주문접수일시'], format = \"%Y-%m-%d %H:%M:%S\")"
   ]
  },
  {
   "cell_type": "code",
   "execution_count": null,
   "id": "HNyMebx8f5_0",
   "metadata": {
    "id": "HNyMebx8f5_0"
   },
   "outputs": [],
   "source": [
    "# 시간대 파악을 위한 변수 생성\n",
    "df['시간대'] = df['주문접수일시'].dt.hour\n",
    "df['시간대 대분류'] = '21 ~ 00'\n",
    "df.loc[(df['시간대'] >= 0) & (df['시간대'] < 3),'시간대 대분류'] = '00 ~ 03'\n",
    "df.loc[(df['시간대'] >= 3) & (df['시간대'] < 6),'시간대 대분류'] = '03 ~ 06'\n",
    "df.loc[(df['시간대'] >= 6) & (df['시간대'] < 9),'시간대 대분류'] = '06 ~ 09'\n",
    "df.loc[(df['시간대'] >= 9) & (df['시간대'] < 12),'시간대 대분류'] = '09 ~ 12'\n",
    "df.loc[(df['시간대'] >= 12) & (df['시간대'] < 15),'시간대 대분류'] = '12 ~ 15'\n",
    "df.loc[(df['시간대'] >= 15) & (df['시간대'] < 18),'시간대 대분류'] = '15 ~ 18'\n",
    "df.loc[(df['시간대'] >= 18) & (df['시간대'] < 21),'시간대 대분류'] = '18 ~ 21'"
   ]
  },
  {
   "cell_type": "code",
   "execution_count": null,
   "id": "pn1a0333g3-S",
   "metadata": {
    "colab": {
     "base_uri": "https://localhost:8080/"
    },
    "id": "pn1a0333g3-S",
    "outputId": "e9fee6f7-7546-4c6c-af4f-5f4f0983791e"
   },
   "outputs": [],
   "source": [
    "df['유입채널'].value_counts().head(20)"
   ]
  },
  {
   "cell_type": "code",
   "execution_count": null,
   "id": "5AnYA9cTg2vo",
   "metadata": {
    "id": "5AnYA9cTg2vo"
   },
   "outputs": [],
   "source": [
    "#유입채널 변수가 너무 다양하고 손쉽게 파악이 되지 않아 많이 나오는 변수대로 키워드를 묶어주었습니다.\n",
    "df['유입채널 대분류'] = '기타 및 이벤트 광고'\n",
    "df.loc[((df['유입채널'] == '유실 채널상세') | (df['유입채널'] == '디폴트 채널상세')), '유입채널 대분류'] = 'CJ 앱/사이트'\n",
    "df.loc[df['유입채널'].str.contains('가격비교'), '유입채널 대분류'] = '가격비교'\n",
    "df.loc[df['유입채널'].str.contains('모바일'), '유입채널 대분류'] = '모바일 공유'\n",
    "df.loc[df['유입채널'].str.contains('검색'), '유입채널 대분류'] = '검색'"
   ]
  },
  {
   "cell_type": "code",
   "execution_count": null,
   "id": "cvnHMqfdjJLt",
   "metadata": {
    "id": "cvnHMqfdjJLt"
   },
   "outputs": [],
   "source": [
    "#잠시 파악하기 쉽게 변수를 한정하겠습니다.\n",
    "df = df[['주문접수일시', '주문번호', '유입채널 대분류', '시간대 대분류', '주문월', '아이디', '판매자상품명', '판매가', '표준카테고리']]"
   ]
  },
  {
   "cell_type": "code",
   "execution_count": null,
   "id": "Q9TVYk25jfDm",
   "metadata": {
    "colab": {
     "base_uri": "https://localhost:8080/",
     "height": 250
    },
    "id": "Q9TVYk25jfDm",
    "outputId": "14cb4889-fe2d-4ee2-a40c-b4fa204fc13a"
   },
   "outputs": [],
   "source": [
    "df.head()"
   ]
  },
  {
   "cell_type": "code",
   "execution_count": null,
   "id": "g5pO-3d_jhiv",
   "metadata": {
    "id": "g5pO-3d_jhiv"
   },
   "outputs": [],
   "source": [
    "#월별로 데이터 나누기\n",
    "df_1 = df[df['주문월'] == 1]\n",
    "df_2 = df[df['주문월'] == 2]\n",
    "df_3 = df[df['주문월'] == 3]\n",
    "df_4 = df[df['주문월'] == 4]\n",
    "df_5 = df[df['주문월'] == 5]\n",
    "df_6 = df[df['주문월'] == 6]\n",
    "df_7 = df[df['주문월'] == 7]\n",
    "df_8 = df[df['주문월'] == 8]\n",
    "df_9 = df[df['주문월'] == 9]"
   ]
  },
  {
   "cell_type": "markdown",
   "id": "YlVOttscj0jh",
   "metadata": {
    "id": "YlVOttscj0jh"
   },
   "source": [
    "## 1) 1월 분석하기"
   ]
  },
  {
   "cell_type": "code",
   "execution_count": null,
   "id": "LQ07c6DUjy2H",
   "metadata": {
    "colab": {
     "base_uri": "https://localhost:8080/",
     "height": 1000
    },
    "id": "LQ07c6DUjy2H",
    "outputId": "d7854ffa-dcf5-4daf-9b51-46f40af0a20c"
   },
   "outputs": [],
   "source": [
    "df_1['판매자상품명'].value_counts().head(10)\n",
    "sns.countplot(y='판매자상품명', data=df_1, order=[df_1['판매자상품명'].value_counts().head(10).index[i] for i in range(0,10)])"
   ]
  },
  {
   "cell_type": "code",
   "execution_count": null,
   "id": "Z5V3EjDsj8JL",
   "metadata": {
    "colab": {
     "base_uri": "https://localhost:8080/",
     "height": 1000
    },
    "id": "Z5V3EjDsj8JL",
    "outputId": "4352efc2-f711-46c0-b9eb-e3a09b04d1d2"
   },
   "outputs": [],
   "source": [
    "plt.figure(figsize=(6,3))\n",
    "sns.countplot(y='표준카테고리', data=df_1, order=[df_1['표준카테고리'].value_counts().head(5).index[i] for i in range(0,5)])"
   ]
  },
  {
   "cell_type": "markdown",
   "id": "6BTQi8agk0TX",
   "metadata": {
    "id": "6BTQi8agk0TX"
   },
   "source": [
    "-> 1월 : 만두 > 선물세트 > 즉석밥 > 국/탕 > 스테이크, 햄 등등\n",
    "* 아무래도 설날 준비를 이유로 만두와 선물세트의 구매율이 많은 것으로 보입니다.\n",
    "* 2022년 설 1~2주전에 만두와 선물세트에 대한 광고와 할인을 하는 실시하는 것을 제안합니다."
   ]
  },
  {
   "cell_type": "markdown",
   "id": "0i7yo8bAlqVR",
   "metadata": {
    "id": "0i7yo8bAlqVR"
   },
   "source": [
    "## 2) 2월 분석하기"
   ]
  },
  {
   "cell_type": "code",
   "execution_count": null,
   "id": "nZrdPEPRlnHA",
   "metadata": {
    "colab": {
     "base_uri": "https://localhost:8080/",
     "height": 1000
    },
    "id": "nZrdPEPRlnHA",
    "outputId": "71f2a63b-acde-4b7c-d871-5d4efe551567"
   },
   "outputs": [],
   "source": [
    "df_2['판매자상품명'].value_counts().head(10)\n",
    "sns.countplot(y='판매자상품명', data=df_2, order=[df_2['판매자상품명'].value_counts().head(10).index[i] for i in range(0,10)])"
   ]
  },
  {
   "cell_type": "code",
   "execution_count": null,
   "id": "SOZyyinVl5Vx",
   "metadata": {
    "colab": {
     "base_uri": "https://localhost:8080/",
     "height": 1000
    },
    "id": "SOZyyinVl5Vx",
    "outputId": "f3700175-ab66-4492-acbf-3ee00464a701"
   },
   "outputs": [],
   "source": [
    "plt.figure(figsize=(6,5))\n",
    "sns.countplot(y='표준카테고리', data=df_2, order=[df_2['표준카테고리'].value_counts().head(10).index[i] for i in range(0,10)])"
   ]
  },
  {
   "cell_type": "markdown",
   "id": "LtKxfXjMmGj9",
   "metadata": {
    "id": "LtKxfXjMmGj9"
   },
   "source": [
    "-> 2월 : 만두 > 요리소스 > 즉석밥 > 국/탕 > 스테이크, 햄 등등\n",
    "* 만두의 비율이 압도적으로 많으므로 할인을 실시했는지 원인 살펴보겠습니다.(코드 삽입)"
   ]
  },
  {
   "cell_type": "markdown",
   "id": "e1c0d729",
   "metadata": {},
   "source": [
    "## 2-1) 만두 할인 분석 코드"
   ]
  },
  {
   "cell_type": "code",
   "execution_count": null,
   "id": "99ca9f82",
   "metadata": {},
   "outputs": [],
   "source": [
    "# 2월에 가장 많이 팔린 만두 '판매자상품명' 10개 출력\n",
    "\n",
    "df_2[df_2['표준카테고리'] == '냉장/냉동/간편식 > 떡볶이/만두 > 만두']['판매자상품명'].value_counts().head(10).index"
   ]
  },
  {
   "cell_type": "code",
   "execution_count": null,
   "id": "e07dcafc",
   "metadata": {
    "scrolled": true
   },
   "outputs": [],
   "source": [
    "df_2_mandu = df_2[df_2['표준카테고리'] == '냉장/냉동/간편식 > 떡볶이/만두 > 만두'].groupby('판매자상품명')[['판매가']].mean()\n",
    "df_2_mandu.head()"
   ]
  },
  {
   "cell_type": "code",
   "execution_count": null,
   "id": "0232cad2",
   "metadata": {},
   "outputs": [],
   "source": [
    "df_mandu = df[(df['표준카테고리'] == '냉장/냉동/간편식 > 떡볶이/만두 > 만두') & (df['주문월'] !=2)].groupby('판매자상품명')[['판매가']].mean() \n",
    "df_mandu.head()"
   ]
  },
  {
   "cell_type": "code",
   "execution_count": null,
   "id": "86461594",
   "metadata": {},
   "outputs": [],
   "source": [
    "df_mandu_c = df_2[df_2['표준카테고리'] == '냉장/냉동/간편식 > 떡볶이/만두 > 만두'].groupby('판매자상품명')[['판매가']].count()\n",
    "df_mandu_c.head()"
   ]
  },
  {
   "cell_type": "code",
   "execution_count": null,
   "id": "e454d3db",
   "metadata": {},
   "outputs": [],
   "source": [
    "df_man = pd.merge(df_2_mandu, df_mandu_c, on='판매자상품명')"
   ]
  },
  {
   "cell_type": "code",
   "execution_count": null,
   "id": "4ca4453f",
   "metadata": {},
   "outputs": [],
   "source": [
    "df_man1 = pd.merge(df_man, df_mandu, on='판매자상품명')\n",
    "df_man1.rename(columns={'판매가_x':'2월 평균단가', '판매가_y' : '2월 주문수', '판매가':'타월 평균단가'}, inplace=True)\n",
    "df_man1.head()"
   ]
  },
  {
   "cell_type": "code",
   "execution_count": null,
   "id": "3df43a11",
   "metadata": {},
   "outputs": [],
   "source": [
    "df_man1['평균 할인율'] = ((df_man1['2월 평균단가'] / df_man1['타월 평균단가']) - 1) * 100"
   ]
  },
  {
   "cell_type": "code",
   "execution_count": null,
   "id": "e7ee2b69",
   "metadata": {},
   "outputs": [],
   "source": [
    "df_man1.sort_values(by='2월 주문수', ascending=False).head(10)"
   ]
  },
  {
   "cell_type": "markdown",
   "id": "cb9d4c79",
   "metadata": {},
   "source": [
    "'[특가+증정] CJ 비비고 왕교자 1.05kg X 3개 + 찐만두 증정' 상품의 할인이 2월의 만두 매출에 영향이었을 것이며,\n",
    "타월의 평균단가보다 비싼 상품은, 2월 이후에 더 싼 가격에 판매하여, 매출을 올렸을 것으로 판단된다."
   ]
  },
  {
   "cell_type": "markdown",
   "id": "POcctptemLQk",
   "metadata": {
    "id": "POcctptemLQk"
   },
   "source": [
    "## 3) 3월 분석하기"
   ]
  },
  {
   "cell_type": "code",
   "execution_count": null,
   "id": "towbpxlgmjey",
   "metadata": {
    "id": "towbpxlgmjey"
   },
   "outputs": [],
   "source": [
    "df_3['판매자상품명'].value_counts().head(10)\n",
    "sns.countplot(y='판매자상품명', data=df_3, order=[df_3['판매자상품명'].value_counts().head(10).index[i] for i in range(0,10)])"
   ]
  },
  {
   "cell_type": "code",
   "execution_count": null,
   "id": "fD09gr7smol7",
   "metadata": {
    "id": "fD09gr7smol7"
   },
   "outputs": [],
   "source": [
    "plt.figure(figsize=(6,5))\n",
    "sns.countplot(y='표준카테고리', data=df_3, order=[df_3['표준카테고리'].value_counts().head(10).index[i] for i in range(0,10)])"
   ]
  },
  {
   "cell_type": "markdown",
   "id": "JflHxoGEmtiT",
   "metadata": {
    "id": "JflHxoGEmtiT"
   },
   "source": [
    "3월은 만두 > 조미료 > 국/탕 > 즉석밥/죽 > 돈가스"
   ]
  },
  {
   "cell_type": "markdown",
   "id": "I8grIIhom_IY",
   "metadata": {
    "id": "I8grIIhom_IY"
   },
   "source": [
    "## 4) 4월 분석하기"
   ]
  },
  {
   "cell_type": "code",
   "execution_count": null,
   "id": "DrRBTva-m2Av",
   "metadata": {
    "id": "DrRBTva-m2Av"
   },
   "outputs": [],
   "source": [
    "df_4['판매자상품명'].value_counts().head(10)\n",
    "sns.countplot(y='판매자상품명', data=df_4, order=[df_4['판매자상품명'].value_counts().head(10).index[i] for i in range(0,10)])"
   ]
  },
  {
   "cell_type": "code",
   "execution_count": null,
   "id": "SzrHGBxgnDA3",
   "metadata": {
    "id": "SzrHGBxgnDA3"
   },
   "outputs": [],
   "source": [
    "plt.figure(figsize=(6,5))\n",
    "sns.countplot(y='표준카테고리', data=df_4, order=[df_4['표준카테고리'].value_counts().head(10).index[i] for i in range(0,10)])"
   ]
  },
  {
   "cell_type": "markdown",
   "id": "9HuC5e18nMDe",
   "metadata": {
    "id": "9HuC5e18nMDe"
   },
   "source": [
    "4월 - 만두 > 즉석밥 > 장류 > 돈가스 > 식용유"
   ]
  },
  {
   "cell_type": "markdown",
   "id": "dxGqq258nnwb",
   "metadata": {
    "id": "dxGqq258nnwb"
   },
   "source": [
    "## 5) 5월 분석하기"
   ]
  },
  {
   "cell_type": "code",
   "execution_count": null,
   "id": "m8kpM93snm_P",
   "metadata": {
    "id": "m8kpM93snm_P"
   },
   "outputs": [],
   "source": [
    "df_5['판매자상품명'].value_counts().head(10)\n",
    "sns.countplot(y='판매자상품명', data=df_5, order=[df_5['판매자상품명'].value_counts().head(10).index[i] for i in range(0,10)])"
   ]
  },
  {
   "cell_type": "code",
   "execution_count": null,
   "id": "e_WUAd_8ntOb",
   "metadata": {
    "id": "e_WUAd_8ntOb"
   },
   "outputs": [],
   "source": [
    "plt.figure(figsize=(6,5))\n",
    "sns.countplot(y='표준카테고리', data=df_5, order=[df_5['표준카테고리'].value_counts().head(10).index[i] for i in range(0,10)])"
   ]
  },
  {
   "cell_type": "markdown",
   "id": "DQEkcmHGnmf7",
   "metadata": {
    "id": "DQEkcmHGnmf7"
   },
   "source": [
    "5월: 식용유 > 만두 > 즉석밥 > 젤리/푸딩\n",
    "* 식용유 할인했는지 유입채널은 무엇인지 살펴보겠습니다.(코드 삽입)"
   ]
  },
  {
   "cell_type": "markdown",
   "id": "45bb705f",
   "metadata": {},
   "source": [
    "### 5-1) 식용유 매출의 원인 분석하기"
   ]
  },
  {
   "cell_type": "code",
   "execution_count": null,
   "id": "3b572e72",
   "metadata": {},
   "outputs": [],
   "source": [
    "# 포도씨유 900ML * 2개 상품만을 차지하고 있어, 카테고리에 해당되는 상품별로 가격을 비교할 필요는 없어보입니다.\n",
    "\n",
    "df_5[df_5['표준카테고리'] == '가공식품 > 식용유/오일 > 식용유/오일선물세트']['판매자상품명'].value_counts().index"
   ]
  },
  {
   "cell_type": "code",
   "execution_count": null,
   "id": "81caaf12",
   "metadata": {},
   "outputs": [],
   "source": [
    "# 5월달의 식용유 가격대, 평균가, 최빈가 / # 타월의 식용유 가격대, 평균가, 최빈가\n",
    "\n",
    "print(df_5[df_5['판매자상품명'] == '[CJ직배송]포도씨유 900ML X 2개']['판매가'].unique())\n",
    "print(df_5[df_5['판매자상품명'] == '[CJ직배송]포도씨유 900ML X 2개']['판매가'].mean())\n",
    "print(df_5[df_5['판매자상품명'] == '[CJ직배송]포도씨유 900ML X 2개']['판매가'].mode())\n",
    "print('---------------------------------------------')\n",
    "print(df[(df['판매자상품명'] == '[CJ직배송]포도씨유 900ML X 2개') & (df['주문월'] != 5)]['판매가'].unique())\n",
    "print(df[(df['판매자상품명'] == '[CJ직배송]포도씨유 900ML X 2개') & (df['주문월'] != 5)]['판매가'].mean())\n",
    "print(df[(df['판매자상품명'] == '[CJ직배송]포도씨유 900ML X 2개') & (df['주문월'] != 5)]['판매가'].mode())\n"
   ]
  },
  {
   "cell_type": "code",
   "execution_count": null,
   "id": "d91ddf35",
   "metadata": {},
   "outputs": [],
   "source": [
    "df_5[df_5['판매자상품명'] == '[CJ직배송]포도씨유 900ML X 2개']['유입채널 대분류'].value_counts()"
   ]
  },
  {
   "cell_type": "markdown",
   "id": "09d9e0fc",
   "metadata": {},
   "source": [
    "* 5월에는 할인이 매출 상승의 원인으로 파악할 수 있을 것이며, 모바일 공유/ 가격비교를 통해 많이 유입했음을 알 수 있습니다.\n",
    "* 할인 행사에 대한 블로그 홍보글 등의 입소문을 타고 많이 유입했을 것으로 판단됩니다."
   ]
  },
  {
   "cell_type": "markdown",
   "id": "Y6UmE_jrnLow",
   "metadata": {
    "id": "Y6UmE_jrnLow"
   },
   "source": [
    "## 6) 6월 분석하기"
   ]
  },
  {
   "cell_type": "code",
   "execution_count": null,
   "id": "FQLl0MHlogi5",
   "metadata": {
    "id": "FQLl0MHlogi5"
   },
   "outputs": [],
   "source": [
    "df_6['판매자상품명'].value_counts().head(10)\n",
    "sns.countplot(y='판매자상품명', data=df_6, order=[df_6['판매자상품명'].value_counts().head(10).index[i] for i in range(0,10)])"
   ]
  },
  {
   "cell_type": "code",
   "execution_count": null,
   "id": "Xpym-57hojdn",
   "metadata": {
    "id": "Xpym-57hojdn"
   },
   "outputs": [],
   "source": [
    "plt.figure(figsize=(6,5))\n",
    "sns.countplot(y='표준카테고리', data=df_6, order=[df_6['표준카테고리'].value_counts().head(10).index[i] for i in range(0,10)])"
   ]
  },
  {
   "cell_type": "markdown",
   "id": "iubS8QORol9B",
   "metadata": {
    "id": "iubS8QORol9B"
   },
   "source": [
    "6월 : 즉석밥 > 국/탕 > 볶음밥 > 만두 > 돈가스\n",
    "* 즉석밥, 곰탕의 비율이 높다. 할인했는지, 유입채널은 무엇인지 살펴보겠습니다.(코드삽입)"
   ]
  },
  {
   "cell_type": "markdown",
   "id": "9b9d0dc3",
   "metadata": {},
   "source": [
    "### 6-1) 즉석밥의 매출이 높은 원인 분석하기"
   ]
  },
  {
   "cell_type": "code",
   "execution_count": null,
   "id": "8aa238e1",
   "metadata": {},
   "outputs": [],
   "source": [
    "df_6[df_6['표준카테고리'] == '냉장/냉동/간편식 > 즉석밥/죽/스프 > 즉석밥']['판매자상품명'].value_counts().head(10).index"
   ]
  },
  {
   "cell_type": "code",
   "execution_count": null,
   "id": "d3131c3e",
   "metadata": {
    "scrolled": true
   },
   "outputs": [],
   "source": [
    "df_6_rice = df_6[df_6['표준카테고리'] == '냉장/냉동/간편식 > 즉석밥/죽/스프 > 즉석밥'].groupby('판매자상품명')[['판매가']].mean()\n",
    "df_6_rice"
   ]
  },
  {
   "cell_type": "code",
   "execution_count": null,
   "id": "3f580399",
   "metadata": {
    "scrolled": true
   },
   "outputs": [],
   "source": [
    "df_6_ricec = df_6[df_6['표준카테고리'] == '냉장/냉동/간편식 > 즉석밥/죽/스프 > 즉석밥'].groupby('판매자상품명')[['판매가']].count()\n",
    "df_6_ricec"
   ]
  },
  {
   "cell_type": "code",
   "execution_count": null,
   "id": "a0feaa70",
   "metadata": {},
   "outputs": [],
   "source": [
    "df_6_rice1 = pd.merge(df_6_rice, df_6_ricec, on='판매자상품명')\n",
    "df_6_rice1"
   ]
  },
  {
   "cell_type": "code",
   "execution_count": null,
   "id": "5b2ea955",
   "metadata": {},
   "outputs": [],
   "source": [
    "df_n6_rice = df[(df['표준카테고리'] == '냉장/냉동/간편식 > 즉석밥/죽/스프 > 즉석밥') & (df['주문월'] !=6)].groupby('판매자상품명')[['판매가']].mean() \n",
    "df_n6_rice"
   ]
  },
  {
   "cell_type": "code",
   "execution_count": null,
   "id": "e6a231b9",
   "metadata": {},
   "outputs": [],
   "source": [
    "df_6_rice = pd.merge(df_6_rice1, df_n6_rice, on='판매자상품명')\n",
    "df_6_rice.rename(columns={'판매가_x':'6월 평균단가', '판매가_y' : '6월 주문수', '판매가':'타월 평균단가'}, inplace=True)\n",
    "df_6_rice.head()"
   ]
  },
  {
   "cell_type": "code",
   "execution_count": null,
   "id": "0593828d",
   "metadata": {},
   "outputs": [],
   "source": [
    "df_6_rice['평균 할인율'] = ((df_6_rice['6월 평균단가'] / df_6_rice['타월 평균단가']) - 1) * 100"
   ]
  },
  {
   "cell_type": "code",
   "execution_count": null,
   "id": "e4290569",
   "metadata": {
    "scrolled": true
   },
   "outputs": [],
   "source": [
    "df_6_rice.sort_values(by='6월 주문수', ascending=False).head(10)"
   ]
  },
  {
   "cell_type": "code",
   "execution_count": null,
   "id": "23d2bf17",
   "metadata": {},
   "outputs": [],
   "source": [
    "df_6[df_6['표준카테고리'] == '냉장/냉동/간편식 > 국/탕/찌개 > 국/탕']['판매자상품명'].value_counts().head(10).index"
   ]
  },
  {
   "cell_type": "code",
   "execution_count": null,
   "id": "6830b40d",
   "metadata": {},
   "outputs": [],
   "source": [
    "df_6_gook = df_6[df_6['표준카테고리'] == '냉장/냉동/간편식 > 국/탕/찌개 > 국/탕'].groupby('판매자상품명')[['판매가']].mean()\n",
    "df_6_gookc = df_6[df_6['표준카테고리'] == '냉장/냉동/간편식 > 국/탕/찌개 > 국/탕'].groupby('판매자상품명')[['판매가']].count()\n",
    "df_6_gook1 = pd.merge(df_6_gook, df_6_gookc, on='판매자상품명')\n",
    "df_n6_gook = df[(df['표준카테고리'] == '냉장/냉동/간편식 > 국/탕/찌개 > 국/탕') & (df['주문월'] !=6)].groupby('판매자상품명')[['판매가']].mean()\n",
    "df_6_gook = pd.merge(df_6_gook1, df_n6_gook, on='판매자상품명')\n",
    "df_6_gook.rename(columns={'판매가_x':'6월 평균단가', '판매가_y' : '6월 주문수', '판매가':'타월 평균단가'}, inplace=True)\n",
    "df_6_gook['평균 할인율'] = ((df_6_gook['6월 평균단가'] / df_6_gook['타월 평균단가']) - 1) * 100\n",
    "df_6_gook.sort_values(by='6월 주문수', ascending=False).head(10)"
   ]
  },
  {
   "cell_type": "code",
   "execution_count": null,
   "id": "928b7d32",
   "metadata": {},
   "outputs": [],
   "source": [
    "df_6[df_6['표준카테고리'] == '냉장/냉동/간편식 > 즉석밥/죽/스프 > 즉석밥']['유입채널 대분류'].value_counts()"
   ]
  },
  {
   "cell_type": "code",
   "execution_count": null,
   "id": "f900ba48",
   "metadata": {},
   "outputs": [],
   "source": [
    "df_6[df_6['표준카테고리'] == '냉장/냉동/간편식 > 국/탕/찌개 > 국/탕']['유입채널 대분류'].value_counts()"
   ]
  },
  {
   "cell_type": "markdown",
   "id": "775ba3d8",
   "metadata": {},
   "source": [
    "-> 두 카테고리 모두, CJ 앱/사이트 내에서 유입하여 주문한 경우가 대부분으로, 앱 내에서의 광고 효과가 많은 영향을 끼친 것 같습니다.\n",
    "\n",
    "국/ 꼬리곰탕의 경우에는 할인 행사가 매출에 중대한 영향을 끼친 것으로 판단되며,\n",
    "\n",
    "즉석밥의 경우에는 증정행사 및 LPoint 지급 행사가 중대한 영향을 끼친 것으로 판단할 수 있을 것입니다."
   ]
  },
  {
   "cell_type": "markdown",
   "id": "Fw5p5GRzo7XP",
   "metadata": {
    "id": "Fw5p5GRzo7XP"
   },
   "source": [
    "## 7) 7월 분석하기"
   ]
  },
  {
   "cell_type": "code",
   "execution_count": null,
   "id": "FaTu4OWro6J8",
   "metadata": {
    "id": "FaTu4OWro6J8"
   },
   "outputs": [],
   "source": [
    "df_7['판매자상품명'].value_counts().head(10)\n",
    "sns.countplot(y='판매자상품명', data=df_7, order=[df_7['판매자상품명'].value_counts().head(10).index[i] for i in range(0,10)])"
   ]
  },
  {
   "cell_type": "code",
   "execution_count": null,
   "id": "KvgWwNEKpBR9",
   "metadata": {
    "id": "KvgWwNEKpBR9",
    "scrolled": true
   },
   "outputs": [],
   "source": [
    "plt.figure(figsize=(6,5))\n",
    "sns.countplot(y='표준카테고리', data=df_7, order=[df_7['표준카테고리'].value_counts().head(10).index[i] for i in range(0,10)])"
   ]
  },
  {
   "cell_type": "markdown",
   "id": "utBgQ0lZpdsQ",
   "metadata": {
    "id": "utBgQ0lZpdsQ"
   },
   "source": [
    "7월: 즉석밥 > 푸딩 > 면 > 소스 > 국/탕 (즉석밥 행사 여전, 푸딩 행사 시작)\n",
    "행사실시 코드 삽입"
   ]
  },
  {
   "cell_type": "markdown",
   "id": "58e8494e",
   "metadata": {},
   "source": [
    "## 7-1) 푸딩의 매출 폭등 원인 분석하기"
   ]
  },
  {
   "cell_type": "code",
   "execution_count": null,
   "id": "45f91260",
   "metadata": {},
   "outputs": [],
   "source": [
    "# 6월의 젤리/푸딩 주문 파악\n",
    "\n",
    "df_6[df_6['표준카테고리'] == '과자/간식 > 캔디/껌/캐러멜 > 젤리/푸딩'].groupby(['판매자상품명', '판매가'])[['주문번호']].count().sort_values(by='주문번호', ascending=False).head(10)"
   ]
  },
  {
   "cell_type": "code",
   "execution_count": null,
   "id": "478dac0c",
   "metadata": {},
   "outputs": [],
   "source": [
    "# 7월의 젤리/푸딩 주문 파악\n",
    "\n",
    "df_7[df_7['표준카테고리'] == '과자/간식 > 캔디/껌/캐러멜 > 젤리/푸딩'].groupby(['판매자상품명', '판매가'])[['주문번호']].count().sort_values(by='주문번호', ascending=False).head(10)"
   ]
  },
  {
   "cell_type": "code",
   "execution_count": null,
   "id": "fb89f293",
   "metadata": {},
   "outputs": [],
   "source": [
    "# 묶음 단위 행사로서, 가격대 비교는 의미가 없을듯 하여 삭제하여도 좋을 것 같습니다.\n",
    "\n",
    "df_7_jel = df_7[df_7['표준카테고리'] == '과자/간식 > 캔디/껌/캐러멜 > 젤리/푸딩'].groupby('판매자상품명')[['판매가']].mean()\n",
    "df_7_jelc = df_7[df_7['표준카테고리'] == '과자/간식 > 캔디/껌/캐러멜 > 젤리/푸딩'].groupby('판매자상품명')[['판매가']].count()\n",
    "df_7_jel1 = pd.merge(df_7_jel, df_7_jelc, on='판매자상품명')\n",
    "df_n7_jel = df[(df['표준카테고리'] == '과자/간식 > 캔디/껌/캐러멜 > 젤리/푸딩') & (df['주문월'] !=7)].groupby('판매자상품명')[['판매가']].mean()\n",
    "df_7_jel = pd.merge(df_7_jel1, df_n7_jel, on='판매자상품명')\n",
    "df_7_jel.rename(columns={'판매가_x':'7월 평균단가', '판매가_y' : '7월 주문수', '판매가':'타월 평균단가'}, inplace=True)\n",
    "df_7_jel['평균 할인율'] = ((df_7_jel['7월 평균단가'] / df_7_jel['타월 평균단가']) - 1) * 100\n",
    "df_7_jel[df_7_jel['평균 할인율'] !=0].sort_values(by='7월 주문수', ascending=False).head(10)"
   ]
  },
  {
   "cell_type": "markdown",
   "id": "8139f2be",
   "metadata": {},
   "source": [
    "계절성 상품인 물젤리 상품을 묶음 단위로 할인하여 판매하였으며, \n",
    "\n",
    "6월까지만 해도 210g짜리 10개씩 팔던 상품을 조금 더 싼 가격으로 7월에 90g,130ml짜리 30개 묶음으로 판매하였더니 주문량이 폭발적으로 증가한 것을 알 수 있다. \n",
    "\n",
    "물젤리 상품은, 적은 부피의 많은 양을 묶음으로 팔아야 주문이 폭발적으로 증가하는 경향이 있다고 파악할 수 있겠습니다."
   ]
  },
  {
   "cell_type": "markdown",
   "id": "r1ng50KppoI3",
   "metadata": {
    "id": "r1ng50KppoI3"
   },
   "source": [
    "## 8) 8월 분석하기"
   ]
  },
  {
   "cell_type": "code",
   "execution_count": null,
   "id": "4u4i1RkzqTE0",
   "metadata": {
    "id": "4u4i1RkzqTE0"
   },
   "outputs": [],
   "source": [
    "df_8['판매자상품명'].value_counts().head(10)\n",
    "sns.countplot(y='판매자상품명', data=df_8, order=[df_8['판매자상품명'].value_counts().head(10).index[i] for i in range(0,10)])"
   ]
  },
  {
   "cell_type": "code",
   "execution_count": null,
   "id": "Wc6b0xV1qjLL",
   "metadata": {
    "id": "Wc6b0xV1qjLL"
   },
   "outputs": [],
   "source": [
    "plt.figure(figsize=(6,5))\n",
    "sns.countplot(y='표준카테고리', data=df_8, order=[df_8['표준카테고리'].value_counts().head(10).index[i] for i in range(0,10)])"
   ]
  },
  {
   "cell_type": "markdown",
   "id": "QtM7OhrmqhN4",
   "metadata": {
    "id": "QtM7OhrmqhN4"
   },
   "source": [
    "8월 : 즉석밥 > 국/탕 > 햄통조림 > 만두 > 식용유 (즉석밥 여러 행사 진행중, 국/탕 및 통조림 행사가 매출에 큰 영향을 주는걸로 보입니다.)\n",
    "코드 삽입해보겠습니다."
   ]
  },
  {
   "cell_type": "markdown",
   "id": "29c5df8b",
   "metadata": {},
   "source": [
    "## 8-1) 국/탕, 햄통조림의 매출 7월 vs 8월 분석"
   ]
  },
  {
   "cell_type": "code",
   "execution_count": null,
   "id": "07173174",
   "metadata": {},
   "outputs": [],
   "source": [
    "# 7월의 국/탕 주문 파악\n",
    "\n",
    "df_7[df_7['표준카테고리'] == '냉장/냉동/간편식 > 국/탕/찌개 > 국/탕'].groupby(['판매자상품명', '판매가'])[['주문번호']].count().sort_values(by='주문번호', ascending=False).head(10)"
   ]
  },
  {
   "cell_type": "code",
   "execution_count": null,
   "id": "e5853c6b",
   "metadata": {},
   "outputs": [],
   "source": [
    "# 8월의 국/탕 주문 파악\n",
    "\n",
    "df_8[df_8['표준카테고리'] == '냉장/냉동/간편식 > 국/탕/찌개 > 국/탕'].groupby(['판매자상품명', '판매가'])[['주문번호']].count().sort_values(by='주문번호', ascending=False).head(10)"
   ]
  },
  {
   "cell_type": "code",
   "execution_count": null,
   "id": "e8999585",
   "metadata": {},
   "outputs": [],
   "source": [
    "# 7월의 햄통조림 주문 파악\n",
    "\n",
    "df_7[df_7['표준카테고리'] == '가공식품 > 통조림/캔 > 햄통조림'].groupby(['판매자상품명', '판매가'])[['주문번호']].count().sort_values(by='주문번호', ascending=False).head(10)"
   ]
  },
  {
   "cell_type": "code",
   "execution_count": null,
   "id": "c1e97601",
   "metadata": {},
   "outputs": [],
   "source": [
    "# 8월의 햄통조림 주문 파악\n",
    "\n",
    "df_8[df_8['표준카테고리'] == '가공식품 > 통조림/캔 > 햄통조림'].groupby(['판매자상품명', '판매가'])[['주문번호']].count().sort_values(by='주문번호', ascending=False).head(10)"
   ]
  },
  {
   "cell_type": "markdown",
   "id": "3e65212d",
   "metadata": {},
   "source": [
    "* 국/탕의 인기상품은 7월과 대체로 비슷하지만, 8월에 폭발적으로 증가한 것을 보면, 홍보 효과 및 증정품 이벤트 효과인 것 같다.\n",
    "* 햄통조림은 8월에 20000원 4개 골라담기 행사를 시행하였고, 이로 인한 입소문이 빠르게 번진 것으로 파악된다."
   ]
  },
  {
   "cell_type": "markdown",
   "id": "HbRirPpmqayL",
   "metadata": {
    "id": "HbRirPpmqayL"
   },
   "source": [
    "## 9) 9월 분석하기"
   ]
  },
  {
   "cell_type": "code",
   "execution_count": null,
   "id": "lh0vla3lqwC-",
   "metadata": {
    "id": "lh0vla3lqwC-"
   },
   "outputs": [],
   "source": [
    "df_9['판매자상품명'].value_counts().head(10)\n",
    "sns.countplot(y='판매자상품명', data=df_9, order=[df_9['판매자상품명'].value_counts().head(10).index[i] for i in range(0,10)])"
   ]
  },
  {
   "cell_type": "code",
   "execution_count": null,
   "id": "sBQYuRrgqw0s",
   "metadata": {
    "id": "sBQYuRrgqw0s"
   },
   "outputs": [],
   "source": [
    "plt.figure(figsize=(6,5))\n",
    "sns.countplot(y='표준카테고리', data=df_9, order=[df_9['표준카테고리'].value_counts().head(10).index[i] for i in range(0,10)])"
   ]
  },
  {
   "cell_type": "code",
   "execution_count": null,
   "id": "VMuPJpb1rP5c",
   "metadata": {
    "id": "VMuPJpb1rP5c"
   },
   "outputs": [],
   "source": [
    "import matplotlib.gridspec as gridspec\n",
    "grid = gridspec.GridSpec(5,2) # 그래프를 9개를 그려보겠습니다.\n",
    "\n",
    "plt.figure(figsize=(15,30))  \n",
    "plt.subplots_adjust(wspace=0.5, hspace=0.3) \n",
    "\n",
    "months = [i for i in range(1, 10)]\n",
    "\n",
    "for idx, month in enumerate(months):\n",
    "    ax = plt.subplot(grid[idx])\n",
    "    \n",
    "    sns.countplot(y='표준카테고리',\n",
    "                data=df[df['주문월'] == month],\n",
    "                order=[df[df['주문월'] == month]['표준카테고리'].value_counts().head(10).index[i] for i in range(0,10)],\n",
    "                palette='pastel',\n",
    "                ax=ax\n",
    "                )\n",
    "    ax.set_title(f'Month {month}')"
   ]
  },
  {
   "cell_type": "markdown",
   "id": "3TB7NWncrW2W",
   "metadata": {
    "id": "3TB7NWncrW2W"
   },
   "source": [
    "* 월별로 수요가 많은 상품에 대해 할인, 행사한 상품의 가격을 살펴보고 재무 상황에 맞추어 할인 주기적으로 진행하길 제안합니다.\n",
    "* 월별로 수요가 많은 상품의 유입채널을 살펴보아 광고 활성화하길 제안합니다.\n"
   ]
  },
  {
   "cell_type": "markdown",
   "id": "kM0DH2vQsFs9",
   "metadata": {
    "id": "kM0DH2vQsFs9"
   },
   "source": [
    "# 상품별 마케팅 방안 고안해보기"
   ]
  },
  {
   "cell_type": "markdown",
   "id": "VXxwNEYSvwrQ",
   "metadata": {
    "id": "VXxwNEYSvwrQ"
   },
   "source": [
    "## 상관관계를 통해 분석하기"
   ]
  },
  {
   "cell_type": "code",
   "execution_count": null,
   "id": "ZwJS-CRFsCoN",
   "metadata": {
    "colab": {
     "base_uri": "https://localhost:8080/"
    },
    "id": "ZwJS-CRFsCoN",
    "outputId": "4d154423-1fee-4109-c4cb-de4d46b5f284"
   },
   "outputs": [],
   "source": [
    "df.groupby(['주문월', '표준카테고리'])['주문접수일시'].count()"
   ]
  },
  {
   "cell_type": "code",
   "execution_count": null,
   "id": "ZyonADNisS02",
   "metadata": {
    "id": "ZyonADNisS02"
   },
   "outputs": [],
   "source": [
    "df_tops = pd.DataFrame(data = [[0] * 9 for i in range(65)], \n",
    "                       columns=['1월', '2월', '3월', '4월', '5월', '6월', '7월', '8월', '9월'], \n",
    "                       index=df['표준카테고리'].value_counts().sort_index().index )\n",
    "df_tops['1월'] = df_1['표준카테고리'].value_counts().sort_values()\n",
    "df_tops['2월'] = df_2['표준카테고리'].value_counts().sort_values()\n",
    "df_tops['3월'] = df_3['표준카테고리'].value_counts().sort_values()\n",
    "df_tops['4월'] = df_4['표준카테고리'].value_counts().sort_values()\n",
    "df_tops['5월'] = df_5['표준카테고리'].value_counts().sort_values()\n",
    "df_tops['6월'] = df_6['표준카테고리'].value_counts().sort_values()\n",
    "df_tops['7월'] = df_7['표준카테고리'].value_counts().sort_values()\n",
    "df_tops['8월'] = df_8['표준카테고리'].value_counts().sort_values()\n",
    "df_tops['9월'] = df_9['표준카테고리'].value_counts().sort_values()\n",
    "\n",
    "df_tops = df_tops.fillna(0)"
   ]
  },
  {
   "cell_type": "code",
   "execution_count": null,
   "id": "S59u5ryvsVtI",
   "metadata": {
    "colab": {
     "base_uri": "https://localhost:8080/",
     "height": 424
    },
    "id": "S59u5ryvsVtI",
    "outputId": "30a00499-0d9d-4f5a-82a6-704de06dc269"
   },
   "outputs": [],
   "source": [
    "df_tops"
   ]
  },
  {
   "cell_type": "code",
   "execution_count": null,
   "id": "FCVf7ftGsZDZ",
   "metadata": {
    "id": "FCVf7ftGsZDZ"
   },
   "outputs": [],
   "source": [
    "df_topT = df_tops.transpose()"
   ]
  },
  {
   "cell_type": "code",
   "execution_count": null,
   "id": "3_wJbxj-scD3",
   "metadata": {
    "colab": {
     "base_uri": "https://localhost:8080/",
     "height": 700
    },
    "id": "3_wJbxj-scD3",
    "outputId": "e5f4236e-e88a-42d4-ab4e-08fa899d2c49"
   },
   "outputs": [],
   "source": [
    "df_topT"
   ]
  },
  {
   "cell_type": "code",
   "execution_count": null,
   "id": "bjaQuhKIse8z",
   "metadata": {
    "colab": {
     "base_uri": "https://localhost:8080/",
     "height": 1000
    },
    "id": "bjaQuhKIse8z",
    "outputId": "0a964d34-d230-477e-8745-e1462ec755a1"
   },
   "outputs": [],
   "source": [
    "df_topT.corr().head()"
   ]
  },
  {
   "cell_type": "code",
   "execution_count": null,
   "id": "Jb0GZXRNsigz",
   "metadata": {
    "colab": {
     "base_uri": "https://localhost:8080/"
    },
    "id": "Jb0GZXRNsigz",
    "outputId": "03d439c2-bc76-4cf8-ff25-9d10b7b9b43e"
   },
   "outputs": [],
   "source": [
    "df_topT.corr()['냉장/냉동/간편식 > 떡볶이/만두 > 만두'].sort_values(ascending=False)[1:6]"
   ]
  },
  {
   "cell_type": "code",
   "execution_count": null,
   "id": "T3lv8LQTslJ7",
   "metadata": {
    "colab": {
     "base_uri": "https://localhost:8080/"
    },
    "id": "T3lv8LQTslJ7",
    "outputId": "dc7b7e0e-2cce-4473-ff6b-c534a4291878"
   },
   "outputs": [],
   "source": [
    "df_topT.corr()['냉장/냉동/간편식 > 떡볶이/만두 > 만두'].sort_values(ascending=False).index[1:6]"
   ]
  },
  {
   "cell_type": "code",
   "execution_count": null,
   "id": "ETWwRX4EsoJM",
   "metadata": {
    "colab": {
     "base_uri": "https://localhost:8080/",
     "height": 1000
    },
    "id": "ETWwRX4EsoJM",
    "outputId": "63b6752d-4c03-4ca3-bfae-234528e184fd"
   },
   "outputs": [],
   "source": [
    "sns.barplot(y=df_topT.corr()['냉장/냉동/간편식 > 떡볶이/만두 > 만두'].sort_values(ascending=False).index[1:6],\n",
    "            x=df_topT.corr()['냉장/냉동/간편식 > 떡볶이/만두 > 만두'].sort_values(ascending=False)[1:6])"
   ]
  },
  {
   "cell_type": "code",
   "execution_count": null,
   "id": "CFyVf127sqN8",
   "metadata": {
    "colab": {
     "base_uri": "https://localhost:8080/"
    },
    "id": "CFyVf127sqN8",
    "outputId": "c131fe95-aa04-483a-e379-48e7ba73fdf5"
   },
   "outputs": [],
   "source": [
    "df_topT.corr()['가공식품 > 소스/드레싱 > 굴소스/중화요리소스'].sort_values(ascending=False)"
   ]
  },
  {
   "cell_type": "code",
   "execution_count": null,
   "id": "ajh9htz-sxOs",
   "metadata": {
    "id": "ajh9htz-sxOs"
   },
   "outputs": [],
   "source": [
    "sns.barplot(y=df_topT.corr()['가공식품 > 소스/드레싱 > 굴소스/중화요리소스'].sort_values(ascending=False).index[1:6],\n",
    "            x=df_topT.corr()['가공식품 > 소스/드레싱 > 굴소스/중화요리소스'].sort_values(ascending=False)[1:6])"
   ]
  },
  {
   "cell_type": "code",
   "execution_count": null,
   "id": "J_pCMDbQsxLH",
   "metadata": {
    "colab": {
     "base_uri": "https://localhost:8080/"
    },
    "id": "J_pCMDbQsxLH",
    "outputId": "760126aa-dace-4b60-b03c-25f6a4087809"
   },
   "outputs": [],
   "source": [
    "df_topT.corr()['가공식품 > 식용유/오일 > 식용유/오일선물세트'].sort_values(ascending=False)"
   ]
  },
  {
   "cell_type": "code",
   "execution_count": null,
   "id": "bcQBnpBTsxIc",
   "metadata": {
    "id": "bcQBnpBTsxIc"
   },
   "outputs": [],
   "source": [
    "sns.barplot(y=df_topT.corr()['가공식품 > 식용유/오일 > 식용유/오일선물세트'].sort_values(ascending=False).index[1:6],\n",
    "            x=df_topT.corr()['가공식품 > 식용유/오일 > 식용유/오일선물세트'].sort_values(ascending=False)[1:6])"
   ]
  },
  {
   "cell_type": "code",
   "execution_count": null,
   "id": "7pO8pLwDsxF2",
   "metadata": {
    "colab": {
     "base_uri": "https://localhost:8080/"
    },
    "id": "7pO8pLwDsxF2",
    "outputId": "0630605f-318a-4682-eb8a-c8143663c17b"
   },
   "outputs": [],
   "source": [
    "df_topT.corr()['가공식품 > 장류 > 고추장/초고추장'].sort_values(ascending=False)"
   ]
  },
  {
   "cell_type": "code",
   "execution_count": null,
   "id": "mPESadyasxDP",
   "metadata": {
    "id": "mPESadyasxDP"
   },
   "outputs": [],
   "source": [
    "sns.barplot(y=df_topT.corr()['가공식품 > 장류 > 고추장/초고추장'].sort_values(ascending=False).index[1:6],\n",
    "            x=df_topT.corr()['가공식품 > 장류 > 고추장/초고추장'].sort_values(ascending=False)[1:6])"
   ]
  },
  {
   "cell_type": "markdown",
   "id": "JzxtwEIZthDE",
   "metadata": {
    "id": "JzxtwEIZthDE"
   },
   "source": [
    "## 상품별 마케팅 제안"
   ]
  },
  {
   "cell_type": "markdown",
   "id": "OQElnwB5tQwL",
   "metadata": {
    "id": "OQElnwB5tQwL"
   },
   "source": [
    "* 각 상품별로 분석\n",
    "\n",
    "* 1. 만두, 즉석밥, 국/탕, 돈가스 - 매월 상위권 차트에 있으며, 계절에 상관없이 많이 사는 것으로 파악됩니다. 계절 상관없이, 이벤트를 진행한다면, 매출이 많이 오를 가능성이 보입니다.\n",
    "\n",
    "* 2. 캔/통조림 선물세트 - 주로 설/추석 기간에 선물세트로 주문 상위권에 올라오는 것 같으며, 명절 기간에 홍보, 할인 이벤트를 집중적으로 하는걸 제안합니다..\n",
    "\n",
    "* 3. 젤리/푸딩 - 유독 여름에만 매출이 많은 상품으로, 여름에 홍보 효과를 강화하길 제안합니다.\n",
    "\n",
    "* 4. 식용유 및 고추장 - 각자 상관관계가 높은 상품과 함께 이벤트 진행하길 제안합니다.(예를 들어 상관관계가 0.77이상인 식용유와 부침가루와 함께 묶어 행사 진행, 상관관계가 0.95이상인 고추장과 즉석밥을 묶어 행사 진행)"
   ]
  },
  {
   "cell_type": "markdown",
   "id": "fccb7e6a",
   "metadata": {
    "id": "fccb7e6a"
   },
   "source": [
    "# 3. 월별로 매출과 판매량이 가장 많은 날짜를 중점으로 분석하기"
   ]
  },
  {
   "cell_type": "markdown",
   "id": "xurEu1N_WGIq",
   "metadata": {
    "id": "xurEu1N_WGIq"
   },
   "source": [
    "## 1) 필요한 변수 생성하기"
   ]
  },
  {
   "cell_type": "code",
   "execution_count": null,
   "id": "185cb8e2",
   "metadata": {},
   "outputs": [],
   "source": [
    "df = pd.read_csv(path+'CJ제일제당 주문 데이터(전처리).csv')"
   ]
  },
  {
   "cell_type": "code",
   "execution_count": null,
   "id": "4eIp3QZPwiaM",
   "metadata": {
    "id": "4eIp3QZPwiaM"
   },
   "outputs": [],
   "source": [
    "df['유입채널 대분류'] = '기타 및 이벤트 광고'\n",
    "df.loc[((df['유입채널'] == '유실 채널상세') | (df['유입채널'] == '디폴트 채널상세')), '유입채널 대분류'] = 'CJ 앱/사이트'\n",
    "df.loc[df['유입채널'].str.contains('가격비교'), '유입채널 대분류'] = '가격비교'\n",
    "df.loc[df['유입채널'].str.contains('모바일'), '유입채널 대분류'] = '모바일 공유'\n",
    "df.loc[df['유입채널'].str.contains('검색'), '유입채널 대분류'] = '검색'"
   ]
  },
  {
   "cell_type": "code",
   "execution_count": null,
   "id": "WkvvAZjdQ7tV",
   "metadata": {
    "id": "WkvvAZjdQ7tV"
   },
   "outputs": [],
   "source": [
    "#주문 시간빼고 날짜만 있는 변수 생성\n",
    "df['주문날짜'] = df['주문번호']//(10**8)"
   ]
  },
  {
   "cell_type": "code",
   "execution_count": null,
   "id": "oVHWqbJQViqg",
   "metadata": {
    "colab": {
     "base_uri": "https://localhost:8080/"
    },
    "id": "oVHWqbJQViqg",
    "outputId": "e0d06621-53a5-4152-8f2f-b96084a8fe64"
   },
   "outputs": [],
   "source": [
    "df['주문날짜'].astype(str)"
   ]
  },
  {
   "cell_type": "code",
   "execution_count": null,
   "id": "JOub-xsdVinz",
   "metadata": {
    "id": "JOub-xsdVinz"
   },
   "outputs": [],
   "source": [
    "df['주문날짜'] = pd.to_datetime(df['주문날짜'], format = \"%Y%m%d\")"
   ]
  },
  {
   "cell_type": "code",
   "execution_count": null,
   "id": "o_M4LG-xVilH",
   "metadata": {
    "colab": {
     "base_uri": "https://localhost:8080/"
    },
    "id": "o_M4LG-xVilH",
    "outputId": "0bfd62d7-1212-461a-f769-d436e86ecadc"
   },
   "outputs": [],
   "source": [
    "df['주문날짜'].head()"
   ]
  },
  {
   "cell_type": "code",
   "execution_count": null,
   "id": "UfHwR702Viii",
   "metadata": {
    "id": "UfHwR702Viii"
   },
   "outputs": [],
   "source": [
    "#일별 파악을 위해 변수 생성\n",
    "df['주문day'] = df['주문날짜'].dt.day"
   ]
  },
  {
   "cell_type": "code",
   "execution_count": null,
   "id": "PtitSbDOVifT",
   "metadata": {
    "colab": {
     "base_uri": "https://localhost:8080/"
    },
    "id": "PtitSbDOVifT",
    "outputId": "fc21a7cf-d414-4f92-dd47-f0e153564192"
   },
   "outputs": [],
   "source": [
    "df['주문day']"
   ]
  },
  {
   "cell_type": "code",
   "execution_count": null,
   "id": "9Zf3Wg4mVicr",
   "metadata": {
    "colab": {
     "base_uri": "https://localhost:8080/"
    },
    "id": "9Zf3Wg4mVicr",
    "outputId": "5a379f57-c92f-4808-d6fd-0cbc1ada9618"
   },
   "outputs": [],
   "source": [
    "#판매량이 많은 순서를 알아보기\n",
    "df.groupby('주문날짜')['주문번호'].count()"
   ]
  },
  {
   "cell_type": "markdown",
   "id": "c3p8VuoGXnS6",
   "metadata": {
    "id": "c3p8VuoGXnS6"
   },
   "source": [
    "## 2) 월별로 가장 많은 판매량이 나온 날짜 그래프를 통해 분석하기"
   ]
  },
  {
   "cell_type": "code",
   "execution_count": null,
   "id": "Sf9crp5wViZ_",
   "metadata": {
    "colab": {
     "base_uri": "https://localhost:8080/",
     "height": 1000
    },
    "id": "Sf9crp5wViZ_",
    "outputId": "4b08ba09-3dfd-4782-fdf8-d372418185ce"
   },
   "outputs": [],
   "source": [
    "import matplotlib.gridspec as gridspec\n",
    "grid = gridspec.GridSpec(3,3) # 그래프를 9개를 그려보겠습니다.\n",
    "\n",
    "plt.figure(figsize=(15,15))  \n",
    "plt.subplots_adjust(wspace=0.5, hspace=0.3) \n",
    "\n",
    "months = [i for i in range(1, 10)]\n",
    "\n",
    "for idx, month in enumerate(months):\n",
    "    ax = plt.subplot(grid[idx])\n",
    "    \n",
    "    sns.histplot(x='주문day',\n",
    "                 data=df[df['주문월'] == month],\n",
    "                 palette='pastel',\n",
    "                 bins=max(df['주문day']),\n",
    "                 ax=ax\n",
    "                )\n",
    "    ax.set_title(f'Month {month}')"
   ]
  },
  {
   "cell_type": "markdown",
   "id": "tN74Ws1-XFIM",
   "metadata": {
    "id": "tN74Ws1-XFIM"
   },
   "source": [
    "- 판매량이 많은 날짜\n",
    "(-주변 날짜보다 2~3배 이상 눈에 띄게 큰 날짜를 중점적으로 파악하였습니다. -2월은 판매량 자체가 너무 적으므로 생략하였습니다.)\n",
    "* 1월 - 9일\n",
    "* 3월 - 13, 14일, 21일\n",
    "* 4월 - 24일\n",
    "* 5월 - 16일, 25일 (2천건 이상)\n",
    "* 6월 - 8일, 9일(3천건), 12일, 25일\n",
    "* 7월 - 4일, 13일, 21일, 27일, 29일\n",
    "* 8월 - 3일, 6일, 7일(가장 많음, 7천건 이상), 17일, 31일에도 유독 많음\n",
    "* 9월 - 19일 (상대적으로 다른 달에 비해 너무 적지만 그나마 많은 날짜)"
   ]
  },
  {
   "cell_type": "markdown",
   "id": "eW3fQimbXlk6",
   "metadata": {
    "id": "eW3fQimbXlk6"
   },
   "source": [
    "## 3) 월별로 가장 많은 판매액(매출)이 나온 날짜 그래프를 통해 분석하기"
   ]
  },
  {
   "cell_type": "code",
   "execution_count": null,
   "id": "zeIkqbSsViT9",
   "metadata": {
    "colab": {
     "base_uri": "https://localhost:8080/",
     "height": 1000
    },
    "id": "zeIkqbSsViT9",
    "outputId": "3f812757-6979-482e-99e0-73645bdde6dd"
   },
   "outputs": [],
   "source": [
    "import matplotlib.gridspec as gridspec\n",
    "grid = gridspec.GridSpec(5,2) # 그래프를 9개를 그려보겠습니다.\n",
    "\n",
    "plt.figure(figsize=(15,30))  \n",
    "plt.subplots_adjust(wspace=0.5, hspace=0.3) \n",
    "\n",
    "months = [i for i in range(1, 10)]\n",
    "\n",
    "for idx, month in enumerate(months):\n",
    "    ax = plt.subplot(grid[idx])\n",
    "    \n",
    "    sns.barplot(x='주문day',\n",
    "                y='판매액',\n",
    "                estimator=sum,\n",
    "                ci=None,\n",
    "                data=df[df['주문월'] == month],\n",
    "                palette='pastel',\n",
    "                ax=ax\n",
    "                )\n",
    "    ax.set_title(f'Month {month}')"
   ]
  },
  {
   "cell_type": "markdown",
   "id": "3VCDbYI1YUhr",
   "metadata": {
    "id": "3VCDbYI1YUhr"
   },
   "source": [
    "* 매출이 큰 날짜 \n",
    "(-상대적으로 매출이 적은 2월은 제외하였습니다.\n",
    "-또한 9월은 판매량이 적고 매출도 눈에 띄게 많이 나온 날짜가 없어 제외하였습니다.)\n",
    "* 1월 - 9일, 24일\n",
    "* 3월 - 13, 14일, 21일\n",
    "* 4월 - 13, 24일\n",
    "* 5월 - 16일, 25일\n",
    "* 6월 - 8일, 9일(3천건), 12일, 25일\n",
    "* 7월 - 4일, 13일, 21일, 27일, 29일\n",
    "* 8월 - 3일, 6일, 7일(가장 많음, 7천건 이상), 17, 25, 31일에도 유독 많았습니다."
   ]
  },
  {
   "cell_type": "markdown",
   "id": "dg1VEpiDdG3Z",
   "metadata": {
    "id": "dg1VEpiDdG3Z"
   },
   "source": [
    "* 주문건수가 많은 날은 대체로 매출도 높은 경향이 있습니다.\n",
    "* 특히 주문건수, 매출이 모두 높은 날짜\n",
    "\n",
    "* 1월 9, 24일 \n",
    "* 3월 13, 14, 21일, \n",
    "* 4월 24일, \n",
    "* 5월 16, 25일 (5월부터 기하급수적으로 늘어나기 시작) \n",
    "* 6월 8,9,11, 25일, \n",
    "* 7월 4, 13, 21, 27, 29일, \n",
    "* 8월 3, 6, 7일"
   ]
  },
  {
   "cell_type": "markdown",
   "id": "JArjEf5hd9lQ",
   "metadata": {
    "id": "JArjEf5hd9lQ"
   },
   "source": [
    "### 3-1) 1월 데이터 (9, 24일)"
   ]
  },
  {
   "cell_type": "code",
   "execution_count": null,
   "id": "t9XEJJGiePL-",
   "metadata": {
    "id": "t9XEJJGiePL-"
   },
   "outputs": [],
   "source": [
    "# 1월 데이터 (9, 24일 살펴보기)\n",
    "\n",
    "df0109 = df[df['주문날짜'] == '2022-01-09']\n",
    "df0124 = df[df['주문날짜'] == '2022-01-24']"
   ]
  },
  {
   "cell_type": "markdown",
   "id": "nmHoFrsR6Pvz",
   "metadata": {
    "id": "nmHoFrsR6Pvz"
   },
   "source": [
    "9일부터 살펴보겠습니다."
   ]
  },
  {
   "cell_type": "code",
   "execution_count": null,
   "id": "QN-dNZ1sePom",
   "metadata": {
    "colab": {
     "base_uri": "https://localhost:8080/"
    },
    "id": "QN-dNZ1sePom",
    "outputId": "ae694a81-5983-4c46-d6a6-0bb261267843"
   },
   "outputs": [],
   "source": [
    "# 왕교자, 사골곰탕, 짬뽕 등이 이날 유독 많이 판매되었습니다.\n",
    "df0109['판매자상품명'].value_counts().head(10)"
   ]
  },
  {
   "cell_type": "code",
   "execution_count": null,
   "id": "DA4ZmNdWePlx",
   "metadata": {
    "colab": {
     "base_uri": "https://localhost:8080/"
    },
    "id": "DA4ZmNdWePlx",
    "outputId": "5e6d1b02-b47d-4c11-c809-b95b393c7876"
   },
   "outputs": [],
   "source": [
    "df0109['유입채널 대분류'].value_counts()"
   ]
  },
  {
   "cell_type": "code",
   "execution_count": null,
   "id": "93Lkw6nrePi7",
   "metadata": {
    "colab": {
     "base_uri": "https://localhost:8080/"
    },
    "id": "93Lkw6nrePi7",
    "outputId": "4c44c1d8-cb73-424f-997a-eea2f509cb3b"
   },
   "outputs": [],
   "source": [
    "df0109.groupby('판매자상품명')['판매액'].sum().sort_values(ascending=False)"
   ]
  },
  {
   "cell_type": "code",
   "execution_count": null,
   "id": "N2zEDdqHePf9",
   "metadata": {
    "colab": {
     "base_uri": "https://localhost:8080/"
    },
    "id": "N2zEDdqHePf9",
    "outputId": "aead3191-a793-45d0-93e8-35178acb142c"
   },
   "outputs": [],
   "source": [
    "print(df[df['판매자상품명'] == '[CJ직배송]CJ비비고왕교자1.05KG X 2개']['판매가'].unique())\n",
    "print(df[df['판매자상품명'] == '[CJ직배송][22년 설 선물세트]21년 설 비비고 토종김 5호']['판매가'].unique())"
   ]
  },
  {
   "cell_type": "code",
   "execution_count": null,
   "id": "tfU37OyOePaG",
   "metadata": {
    "colab": {
     "base_uri": "https://localhost:8080/"
    },
    "id": "tfU37OyOePaG",
    "outputId": "08a65102-7b1e-4733-f94a-e78bcff4bd50"
   },
   "outputs": [],
   "source": [
    "# 9일을 살펴보니 할인을 진행했다는 것을 알 수 있습니다.\n",
    "\n",
    "print(df0109[df0109['판매자상품명'] == '[CJ직배송]CJ비비고왕교자1.05KG X 2개']['판매가'].unique())\n",
    "print(df0109[df0109['판매자상품명'] == '[CJ직배송][22년 설 선물세트]21년 설 비비고 토종김 5호']['판매가'].unique())"
   ]
  },
  {
   "cell_type": "code",
   "execution_count": null,
   "id": "VZEkFIUSePWy",
   "metadata": {
    "id": "VZEkFIUSePWy"
   },
   "outputs": [],
   "source": [
    "# 이건 매출액이 커서 살펴보았더니 주문 한 건에서 250개를 사갔습니다.\n",
    "# 이건 순간적인 효과라서 중요한 변수로 보긴 어려울 것 같습니다.\n",
    "# 수량보다는 주문 건수가 중요한 변수인 것으로 보입니다.\n",
    "\n",
    "df0109[df0109['판매자상품명'] == '[CJ직배송][22년 설 선물세트]21년 설 비비고 토종김 5호']['수량']"
   ]
  },
  {
   "cell_type": "code",
   "execution_count": null,
   "id": "OxZC5_DDePTp",
   "metadata": {
    "colab": {
     "base_uri": "https://localhost:8080/"
    },
    "id": "OxZC5_DDePTp",
    "outputId": "8aaba80f-3383-4ea7-99a4-70f484d3ae86"
   },
   "outputs": [],
   "source": [
    "## 1월 9일날은 가격비교 사이트가 압도적으로 높았습니다.\n",
    "\n",
    "df0109.groupby('유입채널 대분류')['판매액'].sum().sort_values(ascending=False)"
   ]
  },
  {
   "cell_type": "code",
   "execution_count": null,
   "id": "DUkPE5ShzSQQ",
   "metadata": {
    "colab": {
     "base_uri": "https://localhost:8080/"
    },
    "id": "DUkPE5ShzSQQ",
    "outputId": "b8bdfa55-523c-4de8-bfd7-bb13cc83910d"
   },
   "outputs": [],
   "source": [
    "## 1월 9일날은 가격비교 사이트가 압도적으로 높았습니다.\n",
    "\n",
    "df0109.groupby('유입채널')['판매액'].sum().sort_values(ascending=False)"
   ]
  },
  {
   "cell_type": "markdown",
   "id": "-2RijtqYxk_7",
   "metadata": {
    "id": "-2RijtqYxk_7"
   },
   "source": [
    "1월 설에는 만두나 설 선물세트 할인행사를 활성화하고 가격비교 사이트에 광고를 싣는 것을 제안합니다.\n",
    "또한 CJ/앱 푸시알림을 전 고객에게 활성화하는 것을 제안합니다."
   ]
  },
  {
   "cell_type": "markdown",
   "id": "9a767725",
   "metadata": {
    "id": "oryCAEiU6S5y"
   },
   "source": [
    "24일 살펴보겠습니다."
   ]
  },
  {
   "cell_type": "code",
   "execution_count": null,
   "id": "vyUG3VDKyZEJ",
   "metadata": {
    "colab": {
     "base_uri": "https://localhost:8080/"
    },
    "id": "vyUG3VDKyZEJ",
    "outputId": "e0ba0d39-12ac-4a0a-e17b-0a9da9b711f3"
   },
   "outputs": [],
   "source": [
    "# 1/24날은 설 선물 세트로 매출을 올린 것 같아 보입니다.\n",
    "df0124.groupby('판매자상품명')['판매액'].sum().sort_values(ascending=False).head(10)"
   ]
  },
  {
   "cell_type": "code",
   "execution_count": null,
   "id": "mEFg2Q3KykUv",
   "metadata": {
    "colab": {
     "base_uri": "https://localhost:8080/"
    },
    "id": "mEFg2Q3KykUv",
    "outputId": "390c899b-08d8-48b3-da28-7f2b1b4b33f6"
   },
   "outputs": [],
   "source": [
    "# 하지만 1/24날 가장 많은 주문이 들어온 상품은 주문건수가 극단적으로 많지 않습니다.\n",
    "print(df0124[df0124['판매자상품명'] == '[CJ직배송][22년 설 선물세트]스팸3호']['유입채널 대분류'].value_counts())\n",
    "print('\\n')\n",
    "print(df0124[df0124['판매자상품명'] == '[CJ직배송]특별한선택 Y호']['유입채널 대분류'].value_counts())\n",
    "print('\\n')\n",
    "print(df0124[df0124['판매자상품명'] == '[CJ직배송]특별한선택 Y호']['수량'].unique())"
   ]
  },
  {
   "cell_type": "code",
   "execution_count": null,
   "id": "QOQ02edqy32q",
   "metadata": {
    "colab": {
     "base_uri": "https://localhost:8080/"
    },
    "id": "QOQ02edqy32q",
    "outputId": "a56a8df0-7ef4-4480-df78-2204022d3c84"
   },
   "outputs": [],
   "source": [
    "# 1월 9일날은 가격비교 사이트 9백 만원의 매출을 거두었는데, 이 날은 123만원을 거두었습니다.\n",
    "df0124.groupby('유입채널 대분류')['판매액'].sum().sort_values(ascending=False)"
   ]
  },
  {
   "cell_type": "markdown",
   "id": "Osj5J6Dw0QEF",
   "metadata": {
    "id": "Osj5J6Dw0QEF"
   },
   "source": [
    "* 1월 9일 판매 데이터는 네이버를 통한 PCS 가격비교_롯데ON이 142건이나 되는데, 1월 24일 판매 데이터는 디폴트 채널에서만 거의 판매되었습니다. 가격에 대한 메리트가 크지 않아 그런 것이라 생각되지만 설 선물세트는 매출을 크게 차지하는 만큼 광고를 활성화하면 좋을 것을 생각됩니다."
   ]
  },
  {
   "cell_type": "markdown",
   "id": "d-ezz8h61B2I",
   "metadata": {
    "id": "d-ezz8h61B2I"
   },
   "source": [
    "### 3-2) 3월 데이터 (13~14, 21일)"
   ]
  },
  {
   "cell_type": "code",
   "execution_count": null,
   "id": "4rhtiLiQ1E9S",
   "metadata": {
    "id": "4rhtiLiQ1E9S"
   },
   "outputs": [],
   "source": [
    "df0313 = df[(df['주문날짜'] == '2022-03-13') | (df['주문날짜'] == '2022-03-14')]\n",
    "df0321 = df[df['주문날짜'] == '2022-03-21']"
   ]
  },
  {
   "cell_type": "markdown",
   "id": "298Ic3Ik6HOa",
   "metadata": {
    "id": "298Ic3Ik6HOa"
   },
   "source": [
    "13일부터 살펴보겠습니다."
   ]
  },
  {
   "cell_type": "code",
   "execution_count": null,
   "id": "Tms5bmuD1Jtu",
   "metadata": {
    "colab": {
     "base_uri": "https://localhost:8080/"
    },
    "id": "Tms5bmuD1Jtu",
    "outputId": "5f282119-3877-4cd6-c343-bd9b3ff61a51"
   },
   "outputs": [],
   "source": [
    "# 이 날은 CJ 만두, 비비고 식품 등이 많이 팔렸습니다.\n",
    "df0313['판매자상품명'].value_counts()"
   ]
  },
  {
   "cell_type": "code",
   "execution_count": null,
   "id": "bv7-2zmI1OFO",
   "metadata": {
    "colab": {
     "base_uri": "https://localhost:8080/"
    },
    "id": "bv7-2zmI1OFO",
    "outputId": "fa9edeb8-248f-4b6f-a299-b9bdfa7ede74"
   },
   "outputs": [],
   "source": [
    "# 가격비교를 통해 약 300~400건, CJ 앱/사이트를 통해 약 500건 정도 주문이 들어왔습니다.\n",
    "df0313['유입채널 대분류'].value_counts()"
   ]
  },
  {
   "cell_type": "code",
   "execution_count": null,
   "id": "q_veM1M41eQ9",
   "metadata": {
    "colab": {
     "base_uri": "https://localhost:8080/"
    },
    "id": "q_veM1M41eQ9",
    "outputId": "ca7ee435-01b2-4455-9dfa-daa0d12bdeeb"
   },
   "outputs": [],
   "source": [
    "# 이날은 만두가 매출이 무려 1187만원이나 될어 원인을 분석해보았습니다.\n",
    "df0313.groupby('판매자상품명')['판매액'].sum().sort_values(ascending=False).head(10)"
   ]
  },
  {
   "cell_type": "code",
   "execution_count": null,
   "id": "ncXI9V111eNp",
   "metadata": {
    "colab": {
     "base_uri": "https://localhost:8080/"
    },
    "id": "ncXI9V111eNp",
    "outputId": "0e6cfc70-6cf8-43d6-86b4-57a8880eb1e2"
   },
   "outputs": [],
   "source": [
    "# 할인도 하지 않았습니다.\n",
    "print(df0313[df0313['판매자상품명'] == '[CJ직배송][CJ] 비비고 왕교자1.05KG X 3봉 + 수제고기만두 증정']['판매가'].unique())\n",
    "print(df[df['판매자상품명'] == '[CJ직배송][CJ] 비비고 왕교자1.05KG X 3봉 + 수제고기만두 증정']['판매가'].unique())"
   ]
  },
  {
   "cell_type": "code",
   "execution_count": null,
   "id": "yjVac1FK1eKg",
   "metadata": {
    "colab": {
     "base_uri": "https://localhost:8080/"
    },
    "id": "yjVac1FK1eKg",
    "outputId": "4676b068-7fa8-4527-fc56-f560f89ee71c"
   },
   "outputs": [],
   "source": [
    "# 수량에 이상치가 있나 확인해보아도 다들 1개나 2개씩 밖에 주문하지 않았습니다.\n",
    "df0313[df0313['판매자상품명'] == '[CJ직배송][CJ] 비비고 왕교자1.05KG X 3봉 + 수제고기만두 증정']['수량'].unique()"
   ]
  },
  {
   "cell_type": "code",
   "execution_count": null,
   "id": "GAZB26tz1eGF",
   "metadata": {
    "colab": {
     "base_uri": "https://localhost:8080/"
    },
    "id": "GAZB26tz1eGF",
    "outputId": "7c0ae1f5-51d2-44ff-f665-6454d40e1053"
   },
   "outputs": [],
   "source": [
    "# 네이버가 엄청난 매출을 올리는데 도와준 것 같습니다. 원인은 유입매체였습니다.\n",
    "df0313[df0313['판매자상품명'] == '[CJ직배송][CJ] 비비고 왕교자1.05KG X 3봉 + 수제고기만두 증정']['유입채널'].value_counts()"
   ]
  },
  {
   "cell_type": "markdown",
   "id": "c4qoaYhE6LoZ",
   "metadata": {
    "id": "c4qoaYhE6LoZ"
   },
   "source": [
    "21일 살펴보겠습니다."
   ]
  },
  {
   "cell_type": "code",
   "execution_count": null,
   "id": "r19Z52uh1eCQ",
   "metadata": {
    "colab": {
     "base_uri": "https://localhost:8080/"
    },
    "id": "r19Z52uh1eCQ",
    "outputId": "702dc7cf-57cd-49cc-b32e-dab92264cc29"
   },
   "outputs": [],
   "source": [
    "df0321['판매자상품명'].value_counts()"
   ]
  },
  {
   "cell_type": "code",
   "execution_count": null,
   "id": "wNueN0HG1d73",
   "metadata": {
    "colab": {
     "base_uri": "https://localhost:8080/"
    },
    "id": "wNueN0HG1d73",
    "outputId": "1ad4bbaf-b78c-4526-88cd-c17e85b1da45"
   },
   "outputs": [],
   "source": [
    "# 3/13과는 다르게 이번에는 네이버가 원인이지 않습니다.\n",
    "df0321['유입채널 대분류'].value_counts()"
   ]
  },
  {
   "cell_type": "code",
   "execution_count": null,
   "id": "StijFkFP2dd-",
   "metadata": {
    "colab": {
     "base_uri": "https://localhost:8080/"
    },
    "id": "StijFkFP2dd-",
    "outputId": "3f34d9f4-9f9f-416a-b71a-734624349a0f"
   },
   "outputs": [],
   "source": [
    "# 이번에도 만두의 비율이 매출에 영향을 많이 끼쳤습니다.\n",
    "df0321.groupby('판매자상품명')['판매액'].sum().sort_values(ascending=False).head(10)"
   ]
  },
  {
   "cell_type": "code",
   "execution_count": null,
   "id": "HJw6tDC-2lK7",
   "metadata": {
    "colab": {
     "base_uri": "https://localhost:8080/"
    },
    "id": "HJw6tDC-2lK7",
    "outputId": "d36d0413-bbad-45f7-f339-7946984ff97d"
   },
   "outputs": [],
   "source": [
    "# 원인은 할인이였던 것으로 분석되었습니다.\n",
    "print(df0321[df0321['판매자상품명'] == '[CJ직배송][CJ] 비비고 왕교자1.05KG X 3봉 + 수제고기만두 증정']['판매가'].unique())\n",
    "print(df[df['판매자상품명'] == '[CJ직배송][CJ] 비비고 왕교자1.05KG X 3봉 + 수제고기만두 증정']['판매가'].unique())"
   ]
  },
  {
   "cell_type": "markdown",
   "id": "jO072Q-r2ujH",
   "metadata": {
    "id": "jO072Q-r2ujH"
   },
   "source": [
    "만두는 네이버에 광고를 지속적으로 띄우거나 할인행사를 진행할 때 앱 푸시 알림을 더욱더 활성화시켜야 하겠습니다."
   ]
  },
  {
   "cell_type": "markdown",
   "id": "Ah-jDMHd29Yd",
   "metadata": {
    "id": "Ah-jDMHd29Yd"
   },
   "source": [
    "### 3-3) 4월 데이터 (24일)\n",
    "* 4/13은 주문 건수가 적은데, 매출만 커서 1/9때 250개 주문한 효과인 것 같아 24일만 분석해보았습니다."
   ]
  },
  {
   "cell_type": "code",
   "execution_count": null,
   "id": "Etpbu0wO3MdR",
   "metadata": {
    "id": "Etpbu0wO3MdR"
   },
   "outputs": [],
   "source": [
    "df0424 = df[df['주문날짜'] == '2022-04-24']"
   ]
  },
  {
   "cell_type": "code",
   "execution_count": null,
   "id": "o9wfM1ec3Ucg",
   "metadata": {
    "colab": {
     "base_uri": "https://localhost:8080/"
    },
    "id": "o9wfM1ec3Ucg",
    "outputId": "cc74e84e-7846-4e8a-9c65-d42169593a00"
   },
   "outputs": [],
   "source": [
    "# 천일염/ 곰탕 특가, 포도씨유의 주문건수가 높습니다.\n",
    "df0424['판매자상품명'].value_counts()"
   ]
  },
  {
   "cell_type": "code",
   "execution_count": null,
   "id": "ymE8ozIY35ak",
   "metadata": {
    "colab": {
     "base_uri": "https://localhost:8080/"
    },
    "id": "ymE8ozIY35ak",
    "outputId": "6712c7b8-cb94-48f8-e569-e112c11ac83a"
   },
   "outputs": [],
   "source": [
    "# 많이 팔리고, 매출도 큰 포도씨유를 집중 분석하겠습니다.\n",
    "df0424.groupby('판매자상품명')['판매액'].sum().sort_values(ascending=False).head(10)"
   ]
  },
  {
   "cell_type": "code",
   "execution_count": null,
   "id": "WKGNjHKI3ktJ",
   "metadata": {
    "colab": {
     "base_uri": "https://localhost:8080/"
    },
    "id": "WKGNjHKI3ktJ",
    "outputId": "c40cc9bc-d31e-4349-8a9f-432c32ead978"
   },
   "outputs": [],
   "source": [
    "# 천일염/ 곰탕은 특가여서 건수가 많지만 포도씨유야가 높은 원인을 살펴봐야겠습니다.\n",
    "df0424['판매자상품명'].value_counts()"
   ]
  },
  {
   "cell_type": "code",
   "execution_count": null,
   "id": "M1Vz3EN73klu",
   "metadata": {
    "colab": {
     "base_uri": "https://localhost:8080/"
    },
    "id": "M1Vz3EN73klu",
    "outputId": "87623ace-6849-4423-b738-48d554c76972"
   },
   "outputs": [],
   "source": [
    "# 보통 유입채널로 들어왔습니다.\n",
    "print(df0424[df0424['판매자상품명'] == '[CJ직배송]포도씨유 900ML X 2개']['유입채널 대분류'].value_counts())"
   ]
  },
  {
   "cell_type": "code",
   "execution_count": null,
   "id": "0ZSmCN8j3kia",
   "metadata": {
    "colab": {
     "base_uri": "https://localhost:8080/"
    },
    "id": "0ZSmCN8j3kia",
    "outputId": "c22fb55a-3594-4063-a38e-bf66464d75ef"
   },
   "outputs": [],
   "source": [
    "# 할인의 효과도 아닌 것 같습니다.\n",
    "\n",
    "print(df0424[df0424['판매자상품명'] == '[CJ직배송]포도씨유 900ML X 2개']['판매가'].unique())\n",
    "print(df[df['판매자상품명'] == '[CJ직배송]포도씨유 900ML X 2개']['판매가'].unique())\n",
    "print(df[df['판매자상품명'] == '[CJ직배송]포도씨유 900ML X 2개']['판매가'].mean())"
   ]
  },
  {
   "cell_type": "code",
   "execution_count": null,
   "id": "-FX_IZi-3ker",
   "metadata": {
    "id": "-FX_IZi-3ker"
   },
   "outputs": [],
   "source": [
    "# 수량에 이상치는 없습니다.\n",
    "df0424[df0424['판매자상품명'] == '[CJ직배송]포도씨유 900ML X 2개']['수량'].unique()"
   ]
  },
  {
   "cell_type": "markdown",
   "id": "4MccKDaV4hbg",
   "metadata": {
    "id": "4MccKDaV4hbg"
   },
   "source": [
    "포도씨유는 주문건수가 높지 않더라도 매출액의 큰 비중을 차지하기 때문에 할인행사를 열거나 광고 빈도를 높이는 것을 제안합니다."
   ]
  },
  {
   "cell_type": "markdown",
   "id": "J102JpB64x5l",
   "metadata": {
    "id": "J102JpB64x5l"
   },
   "source": [
    "### 3-4) 5월 데이터 (16, 25일)"
   ]
  },
  {
   "cell_type": "code",
   "execution_count": null,
   "id": "knjQT2Ce3kbD",
   "metadata": {
    "id": "knjQT2Ce3kbD"
   },
   "outputs": [],
   "source": [
    "df0516 = df[df['주문날짜'] == '2022-05-16']\n",
    "df0525 = df[df['주문날짜'] == '2022-05-25']"
   ]
  },
  {
   "cell_type": "markdown",
   "id": "jOb2bB8G6Xj4",
   "metadata": {
    "id": "jOb2bB8G6Xj4"
   },
   "source": [
    "16일부터 살펴보겠습니다."
   ]
  },
  {
   "cell_type": "code",
   "execution_count": null,
   "id": "JFnNDeQi3kXE",
   "metadata": {
    "colab": {
     "base_uri": "https://localhost:8080/"
    },
    "id": "JFnNDeQi3kXE",
    "outputId": "770afe6e-c6b1-470f-fb70-24e5c3b9d982"
   },
   "outputs": [],
   "source": [
    "# 아까 4월에 등장했던 포도씨유의 수량이 높습니다.\n",
    "df0516['판매자상품명'].value_counts().head()"
   ]
  },
  {
   "cell_type": "code",
   "execution_count": null,
   "id": "_BydhLaB3kSi",
   "metadata": {
    "colab": {
     "base_uri": "https://localhost:8080/"
    },
    "id": "_BydhLaB3kSi",
    "outputId": "72ffdfb4-9119-4cd9-cd4e-23945945712b"
   },
   "outputs": [],
   "source": [
    "# 모바일에서 홍보를 크게한 모양입니다. 그리고 CJ앱/사이트도 많습니다.\n",
    "# 이건 모바일 어디에서 홍보글 보고 바로 들어왔거나, 읽고 조금 생각해보다 사야겠다 하고 채널로 직접 들어온 거 같습니다.\n",
    "# 결론은 블로그나 SNS를 통한 홍보가 큰 역할을 한 것으로 보입니다.\n",
    "df0516['유입채널 대분류'].value_counts().head()"
   ]
  },
  {
   "cell_type": "code",
   "execution_count": null,
   "id": "Rchs_yty5cp6",
   "metadata": {
    "colab": {
     "base_uri": "https://localhost:8080/"
    },
    "id": "Rchs_yty5cp6",
    "outputId": "15226936-56ea-4f51-dbe1-8a15da72308d"
   },
   "outputs": [],
   "source": [
    "# 포도씨유의 매출액이 무려 4천 4백만원이나 됩니다.\n",
    "df0516.groupby('판매자상품명')['판매액'].sum().sort_values(ascending=False).head(10)"
   ]
  },
  {
   "cell_type": "code",
   "execution_count": null,
   "id": "JGF6eekd5cme",
   "metadata": {
    "colab": {
     "base_uri": "https://localhost:8080/"
    },
    "id": "JGF6eekd5cme",
    "outputId": "aac63649-d90d-4ddc-d6cb-0a35e05fc654"
   },
   "outputs": [],
   "source": [
    "print(df0516[df0516['판매자상품명'] == '[CJ직배송]포도씨유 900ML X 2개']['판매가'].unique())"
   ]
  },
  {
   "cell_type": "code",
   "execution_count": null,
   "id": "wTMI-AVY5cjt",
   "metadata": {
    "colab": {
     "base_uri": "https://localhost:8080/"
    },
    "id": "wTMI-AVY5cjt",
    "outputId": "a7273eab-c1dc-415b-834f-110916bf72a7"
   },
   "outputs": [],
   "source": [
    "# SNS에서 2만원에 판다는 홍보글에 사람들이 많이 구매한 것으로 보입니다.\n",
    "df0516[df0516['판매자상품명'] == '[CJ직배송]포도씨유 900ML X 2개'].groupby('유입매체')['판매가'].value_counts().head(20)"
   ]
  },
  {
   "cell_type": "markdown",
   "id": "T-pFF62z59Zb",
   "metadata": {
    "id": "T-pFF62z59Zb"
   },
   "source": [
    "25일 살펴보겠습니다."
   ]
  },
  {
   "cell_type": "code",
   "execution_count": null,
   "id": "8d3n0Efp5chC",
   "metadata": {
    "colab": {
     "base_uri": "https://localhost:8080/"
    },
    "id": "8d3n0Efp5chC",
    "outputId": "9de1bed9-2f07-4060-8956-32d4cc317935"
   },
   "outputs": [],
   "source": [
    "# 왕교자는 원래 수요가 좋은데 이날은 5% 할인 소식에 많이 구매하는 것으로 보입니다.\n",
    "# 갑자기 이날은 죽 골라담기 주문 또한 할인의 영향으로 많이 유입된 것으로 보입니다.\n",
    "\n",
    "df0525['판매자상품명'].value_counts()"
   ]
  },
  {
   "cell_type": "code",
   "execution_count": null,
   "id": "v5hyRtvr5ceU",
   "metadata": {
    "colab": {
     "base_uri": "https://localhost:8080/"
    },
    "id": "v5hyRtvr5ceU",
    "outputId": "5a484897-7bb0-44a6-f90e-09dea8f0eb06"
   },
   "outputs": [],
   "source": [
    "# 아무래도 할인 쿠폰 제공이니 앱/웹을 통한 유입이 많습니다.\n",
    "df0525['유입채널 대분류'].value_counts().head()"
   ]
  },
  {
   "cell_type": "code",
   "execution_count": null,
   "id": "ppBLnBZl6vEc",
   "metadata": {
    "colab": {
     "base_uri": "https://localhost:8080/"
    },
    "id": "ppBLnBZl6vEc",
    "outputId": "8af393df-cf56-4d62-863a-fb6ffa1de572"
   },
   "outputs": [],
   "source": [
    "# 엄청난 매출을 두 상품이 차지하고 있습니다.\n",
    "df0525.groupby('판매자상품명')['판매액'].sum().sort_values(ascending=False).head(10)"
   ]
  },
  {
   "cell_type": "markdown",
   "id": "NmmRkAAs6yuY",
   "metadata": {
    "id": "NmmRkAAs6yuY"
   },
   "source": [
    "만두는 원래 수요가 좋고 죽 골라담기 상품은 매출이 매우 높으니 주기적으로 할인을 진행하는 것을 제안합니다."
   ]
  },
  {
   "cell_type": "markdown",
   "id": "KB6dq0mo7Afd",
   "metadata": {
    "id": "KB6dq0mo7Afd"
   },
   "source": [
    "### 3-5) 6월 데이터 (8, 9, 25일) "
   ]
  },
  {
   "cell_type": "code",
   "execution_count": null,
   "id": "kx8nKKTE69Kx",
   "metadata": {
    "id": "kx8nKKTE69Kx"
   },
   "outputs": [],
   "source": [
    "df0608 = df[(df['주문날짜'] == '2022-06-08') | (df['주문날짜'] == '2022-06-09')]\n",
    "df0625 = df[df['주문날짜'] == '2022-06-25']"
   ]
  },
  {
   "cell_type": "markdown",
   "id": "nJSoqxyq7Par",
   "metadata": {
    "id": "nJSoqxyq7Par"
   },
   "source": [
    "8일 살펴보겠습니다."
   ]
  },
  {
   "cell_type": "code",
   "execution_count": null,
   "id": "Cqvp5hyM7Oqw",
   "metadata": {
    "colab": {
     "base_uri": "https://localhost:8080/"
    },
    "id": "Cqvp5hyM7Oqw",
    "outputId": "947757e5-67b3-4630-cb59-a6cb822ea5a8"
   },
   "outputs": [],
   "source": [
    "#8일에는 곰탕, 볶음밥 제품이 압도적입니다.\n",
    "df0608['판매자상품명'].value_counts().head()"
   ]
  },
  {
   "cell_type": "code",
   "execution_count": null,
   "id": "VltmV7W87dkY",
   "metadata": {
    "colab": {
     "base_uri": "https://localhost:8080/"
    },
    "id": "VltmV7W87dkY",
    "outputId": "db888879-8a17-484c-8a93-d2198922d9df"
   },
   "outputs": [],
   "source": [
    "df0608['유입채널 대분류'].value_counts().head()"
   ]
  },
  {
   "cell_type": "code",
   "execution_count": null,
   "id": "fRluvTJU7hqg",
   "metadata": {
    "colab": {
     "base_uri": "https://localhost:8080/"
    },
    "id": "fRluvTJU7hqg",
    "outputId": "71e68cfd-db05-490e-8e19-1bdcdaa457de"
   },
   "outputs": [],
   "source": [
    "df0608.groupby('판매자상품명')['판매액'].sum().sort_values(ascending=False).head(10)"
   ]
  },
  {
   "cell_type": "code",
   "execution_count": null,
   "id": "OxHskVqh7k_r",
   "metadata": {
    "colab": {
     "base_uri": "https://localhost:8080/"
    },
    "id": "OxHskVqh7k_r",
    "outputId": "72a1e9b7-b651-4d45-8088-928ee1b68be0"
   },
   "outputs": [],
   "source": [
    "print(df0608[df0608['판매자상품명'] == '비비고 BEST 볶음밥 3종 특가[불고기 비빔밥 + 매콤부추고기볶음밥 + 간장버터장조림볶음밥]']['판매가'].unique())\n",
    "print(df[df['판매자상품명'] == '비비고 BEST 볶음밥 3종 특가[불고기 비빔밥 + 매콤부추고기볶음밥 + 간장버터장조림볶음밥]']['판매가'].unique())\n",
    "print(df[df['판매자상품명'] == '비비고 BEST 볶음밥 3종 특가[불고기 비빔밥 + 매콤부추고기볶음밥 + 간장버터장조림볶음밥]']['판매가'].mean())"
   ]
  },
  {
   "cell_type": "code",
   "execution_count": null,
   "id": "OocZ3RNo70SK",
   "metadata": {
    "id": "OocZ3RNo70SK"
   },
   "outputs": [],
   "source": [
    "print(df0608[df0608['판매자상품명'] == '비비고 BEST 볶음밥 3종 특가[불고기 비빔밥 + 매콤부추고기볶음밥 + 간장버터장조림볶음밥]']['판매가'].value_counts())"
   ]
  },
  {
   "cell_type": "markdown",
   "id": "9bf618e0",
   "metadata": {},
   "source": [
    "원인은 할인이였고 그렇기에 앱/웹을 통한 유입이 많았더것으로 보입니다."
   ]
  },
  {
   "cell_type": "markdown",
   "id": "s5wtuRu279vO",
   "metadata": {
    "id": "s5wtuRu279vO"
   },
   "source": [
    "25일 살펴보겠습니다."
   ]
  },
  {
   "cell_type": "code",
   "execution_count": null,
   "id": "xOMTJZtK79cG",
   "metadata": {
    "colab": {
     "base_uri": "https://localhost:8080/"
    },
    "id": "xOMTJZtK79cG",
    "outputId": "a13ccfd5-b4c4-4ec1-c17e-7e17193a5963"
   },
   "outputs": [],
   "source": [
    "df0625['판매자상품명'].value_counts().head()"
   ]
  },
  {
   "cell_type": "code",
   "execution_count": null,
   "id": "wnk9GEUd8DLa",
   "metadata": {
    "colab": {
     "base_uri": "https://localhost:8080/"
    },
    "id": "wnk9GEUd8DLa",
    "outputId": "4e52f83d-3eeb-46bb-8ce2-a3cd5a6eb574"
   },
   "outputs": [],
   "source": [
    "df0625['유입채널 대분류'].value_counts().head()"
   ]
  },
  {
   "cell_type": "code",
   "execution_count": null,
   "id": "8fhu71dd8K7G",
   "metadata": {
    "colab": {
     "base_uri": "https://localhost:8080/"
    },
    "id": "8fhu71dd8K7G",
    "outputId": "8ef2fb17-dd38-4d09-a691-ea3fa37e1d16"
   },
   "outputs": [],
   "source": [
    "df0625.groupby('판매자상품명')['판매액'].sum().sort_values(ascending=False).head(10)"
   ]
  },
  {
   "cell_type": "code",
   "execution_count": null,
   "id": "ywROvcRL8K3f",
   "metadata": {
    "colab": {
     "base_uri": "https://localhost:8080/"
    },
    "id": "ywROvcRL8K3f",
    "outputId": "bf6545ba-8436-4f1a-e987-0c7d789d0959"
   },
   "outputs": [],
   "source": [
    "print(df0625[df0625['판매자상품명'] == '[Lpoint 1,000P 지급]햇반 작은공기, 100% 현미밥 x 36개 특가 (1,000set 한정)']['판매가'].unique())\n",
    "print(df[df['판매자상품명'] == '[Lpoint 1,000P 지급]햇반 작은공기, 100% 현미밥 x 36개 특가 (1,000set 한정)']['판매가'].unique())\n",
    "print(df[df['판매자상품명'] == '[Lpoint 1,000P 지급]햇반 작은공기, 100% 현미밥 x 36개 특가 (1,000set 한정)']['판매가'].mean())"
   ]
  },
  {
   "cell_type": "markdown",
   "id": "SGTERF4Q8SRL",
   "metadata": {
    "id": "SGTERF4Q8SRL"
   },
   "source": [
    "특가 행사로 인하여 매출이 많은 것으로 보입니다. 앱, 웹을 통해 매출이 높은 햇반 종류 할인을 할 때 푸시알림을 활성화하는 것이 좋을 것 같습니다."
   ]
  },
  {
   "cell_type": "markdown",
   "id": "e278c64d",
   "metadata": {},
   "source": [
    "### 3-6) 7월 데이터 분석 (4, 13, 21, 27, 29일) 분석"
   ]
  },
  {
   "cell_type": "code",
   "execution_count": null,
   "id": "576ccd34",
   "metadata": {},
   "outputs": [],
   "source": [
    "df0704 = df[df['주문날짜'] == '2022-07-04']\n",
    "df0713 = df[df['주문날짜'] == '2022-07-13']\n",
    "df0721 = df[df['주문날짜'] == '2022-07-21']\n",
    "df0727 = df[df['주문날짜'] == '2022-07-27']\n",
    "df0729 = df[df['주문날짜'] == '2022-07-29']"
   ]
  },
  {
   "cell_type": "markdown",
   "id": "c7f310eb",
   "metadata": {},
   "source": [
    "#### 3-6-1) 7월 4일"
   ]
  },
  {
   "cell_type": "code",
   "execution_count": null,
   "id": "8bbd5c22",
   "metadata": {},
   "outputs": [],
   "source": [
    "# 4일에는 현미밥 제품이 압도적으로 많습니다.\n",
    "df0704['판매자상품명'].value_counts().head()"
   ]
  },
  {
   "cell_type": "code",
   "execution_count": null,
   "id": "2a25c08a",
   "metadata": {},
   "outputs": [],
   "source": [
    "df0704['유입채널 대분류'].value_counts().head()"
   ]
  },
  {
   "cell_type": "code",
   "execution_count": null,
   "id": "8079c254",
   "metadata": {},
   "outputs": [],
   "source": [
    "df0704.groupby('판매자상품명')['판매액'].sum().sort_values(ascending=False).head(10)"
   ]
  },
  {
   "cell_type": "code",
   "execution_count": null,
   "id": "6c9158fd",
   "metadata": {},
   "outputs": [],
   "source": [
    "print(df0704[df0704['판매자상품명'] == '햇반 작은공기/100% 현미밥130g x 36개']['판매가'].unique())\n",
    "print(df[df['판매자상품명'] == '햇반 작은공기/100% 현미밥130g x 36개']['판매가'].unique())\n",
    "print(df[df['판매자상품명'] == '햇반 작은공기/100% 현미밥130g x 36개']['판매가'].mean())"
   ]
  },
  {
   "cell_type": "markdown",
   "id": "d78139bd",
   "metadata": {},
   "source": [
    "이 또한, 특가 행사로 인하여 매출이 많은 것으로 보입니다. 앱, 웹을 통해 매출이 높은 햇반 종류 할인을 할 때 푸시알림을 활성화하는 것이 좋을 것 같습니다."
   ]
  },
  {
   "cell_type": "markdown",
   "id": "5221afec",
   "metadata": {},
   "source": [
    "#### 3-6-2) 7월 13일"
   ]
  },
  {
   "cell_type": "code",
   "execution_count": null,
   "id": "311ec82f",
   "metadata": {},
   "outputs": [],
   "source": [
    "# 죽 상품이 압도적으로 많습니다.\n",
    "df0713['판매자상품명'].value_counts().head()"
   ]
  },
  {
   "cell_type": "code",
   "execution_count": null,
   "id": "e0c05077",
   "metadata": {},
   "outputs": [],
   "source": [
    "df0713.groupby('판매자상품명')['판매액'].sum().sort_values(ascending=False).head(10)"
   ]
  },
  {
   "cell_type": "code",
   "execution_count": null,
   "id": "69d440dc",
   "metadata": {},
   "outputs": [],
   "source": [
    "df0713['유입채널 대분류'].value_counts().head()"
   ]
  },
  {
   "cell_type": "code",
   "execution_count": null,
   "id": "324edf80",
   "metadata": {},
   "outputs": [],
   "source": [
    "print(df0713[df0713['판매자상품명'] == '[전참시 속 보양식사]누룽지닭백숙죽/전복삼계죽/녹두닭죽 外 + 보양닭백숙죽 증정']['판매가'].unique())\n",
    "print(df[df['판매자상품명'] == '[전참시 속 보양식사]누룽지닭백숙죽/전복삼계죽/녹두닭죽 外 + 보양닭백숙죽 증정']['판매가'].unique())\n",
    "print(df[df['판매자상품명'] == '[전참시 속 보양식사]누룽지닭백숙죽/전복삼계죽/녹두닭죽 外 + 보양닭백숙죽 증정']['판매가'].mean())"
   ]
  },
  {
   "cell_type": "markdown",
   "id": "7af6d5e4",
   "metadata": {},
   "source": [
    "당일 주문량이 많았던 원인은 할인이였고 그렇기에 앱/웹을 통한 유입이 많았더것으로 보입니다."
   ]
  },
  {
   "cell_type": "markdown",
   "id": "f9f0ccc4",
   "metadata": {},
   "source": [
    "21일 살펴보겠습니다."
   ]
  },
  {
   "cell_type": "code",
   "execution_count": null,
   "id": "fa33d253",
   "metadata": {},
   "outputs": [],
   "source": [
    "# 냉면의 주문이 압도적으로 많습니다.\n",
    "df0721['판매자상품명'].value_counts().head()"
   ]
  },
  {
   "cell_type": "code",
   "execution_count": null,
   "id": "4cb71b65",
   "metadata": {},
   "outputs": [],
   "source": [
    "df0721.groupby('판매자상품명')['판매액'].sum().sort_values(ascending=False).head(10)"
   ]
  },
  {
   "cell_type": "code",
   "execution_count": null,
   "id": "cd466310",
   "metadata": {},
   "outputs": [],
   "source": [
    "df0721['유입채널 대분류'].value_counts().head()"
   ]
  },
  {
   "cell_type": "code",
   "execution_count": null,
   "id": "66354931",
   "metadata": {},
   "outputs": [],
   "source": [
    "print(df0721[df0721['판매자상품명'] == '[CJ직배송]CJ 고메 중화짬뽕 + 중화짜장 + 탕수육 + 깐풍기 세트']['판매가'].unique())\n",
    "print(df[df['판매자상품명'] == '[CJ직배송]CJ 고메 중화짬뽕 + 중화짜장 + 탕수육 + 깐풍기 세트']['판매가'].unique())\n",
    "print(df[df['판매자상품명'] == '[CJ직배송]CJ 고메 중화짬뽕 + 중화짜장 + 탕수육 + 깐풍기 세트']['판매가'].mean())"
   ]
  },
  {
   "cell_type": "markdown",
   "id": "4831c217",
   "metadata": {},
   "source": [
    "원인은 할인이였고 그렇기에 앱/웹을 통한 유입이 많았더것으로 보입니다."
   ]
  },
  {
   "cell_type": "markdown",
   "id": "f9270420",
   "metadata": {},
   "source": [
    "#### 3-6-3) 7월 27일"
   ]
  },
  {
   "cell_type": "code",
   "execution_count": null,
   "id": "9e5a7f0a",
   "metadata": {},
   "outputs": [],
   "source": [
    "df0727['판매자상품명'].value_counts().head()"
   ]
  },
  {
   "cell_type": "code",
   "execution_count": null,
   "id": "a1affcca",
   "metadata": {},
   "outputs": [],
   "source": [
    "df0727.groupby('판매자상품명')['판매액'].sum().sort_values(ascending=False).head(10)"
   ]
  },
  {
   "cell_type": "code",
   "execution_count": null,
   "id": "bda3d90b",
   "metadata": {},
   "outputs": [],
   "source": [
    "df0727['유입채널 대분류'].value_counts().head()"
   ]
  },
  {
   "cell_type": "code",
   "execution_count": null,
   "id": "363ee039",
   "metadata": {},
   "outputs": [],
   "source": [
    "print(df0727[df0727['판매자상품명'] == '[CJ직배송]쁘띠첼 5종 세트_30개(포도파인애플복숭아밀감 망고)']['판매가'].unique())\n",
    "print(df[df['판매자상품명'] == '[CJ직배송]쁘띠첼 5종 세트_30개(포도파인애플복숭아밀감 망고)']['판매가'].unique())\n",
    "print(df[df['판매자상품명'] == '[CJ직배송]쁘띠첼 5종 세트_30개(포도파인애플복숭아밀감 망고)']['판매가'].mean())"
   ]
  },
  {
   "cell_type": "markdown",
   "id": "5c4b9a7c",
   "metadata": {},
   "source": [
    "특가 행사로 인하여 매출이 많은 것으로 보입니다. 앱, 웹을 통해 특히 여름에 매출이 높은 푸딩(젤리) 종류 할인을 할 때 푸시알림을 활성화하는 것이 좋을 것 같습니다."
   ]
  },
  {
   "cell_type": "markdown",
   "id": "5d1a3c30",
   "metadata": {},
   "source": [
    "#### 3-6-4) 7월 29일"
   ]
  },
  {
   "cell_type": "code",
   "execution_count": null,
   "id": "0657d461",
   "metadata": {},
   "outputs": [],
   "source": [
    "# 햇반 종류 상품이 매출, 주문량이 압도적으로 많습니다.\n",
    "df0729['판매자상품명'].value_counts().head()"
   ]
  },
  {
   "cell_type": "code",
   "execution_count": null,
   "id": "38550433",
   "metadata": {},
   "outputs": [],
   "source": [
    "df0729.groupby('판매자상품명')['판매액'].sum().sort_values(ascending=False).head(10)"
   ]
  },
  {
   "cell_type": "code",
   "execution_count": null,
   "id": "625797bf",
   "metadata": {},
   "outputs": [],
   "source": [
    "df0729['유입채널 대분류'].value_counts().head()"
   ]
  },
  {
   "cell_type": "code",
   "execution_count": null,
   "id": "bed1766c",
   "metadata": {},
   "outputs": [],
   "source": [
    "print(df0729[df0729['판매자상품명'] == '[Lpoint&스벅커피쿠폰증정]햇반 솥반 프리미엄 6종 골라담기[택 1]']['판매가'].unique())\n",
    "print(df[df['판매자상품명'] == '[Lpoint&스벅커피쿠폰증정]햇반 솥반 프리미엄 6종 골라담기[택 1]']['판매가'].unique())\n",
    "print(df[df['판매자상품명'] == '[Lpoint&스벅커피쿠폰증정]햇반 솥반 프리미엄 6종 골라담기[택 1]']['판매가'].mean())"
   ]
  },
  {
   "cell_type": "markdown",
   "id": "f35d6079",
   "metadata": {},
   "source": [
    "특가 행사로 인하여 매출이 많은 것으로 보입니다. 앱, 웹을 통해 매출이 높은 햇반 종류 할인을 할 때 푸시알림을 활성화하는 것이 좋을 것 같습니다."
   ]
  },
  {
   "cell_type": "markdown",
   "id": "a2c121c2",
   "metadata": {},
   "source": [
    "### 3-7) 8월 데이터 (3, 6, 7일)"
   ]
  },
  {
   "cell_type": "code",
   "execution_count": null,
   "id": "fda0aecf",
   "metadata": {},
   "outputs": [],
   "source": [
    "df0803 = df[df['주문날짜'] == '2022-08-03']\n",
    "df0806 = df[df['주문날짜'] == '2022-08-06']\n",
    "df0807 = df[df['주문날짜'] == '2022-08-07']"
   ]
  },
  {
   "cell_type": "markdown",
   "id": "116ca503",
   "metadata": {},
   "source": [
    "#### 3-7-1) 8월 3일"
   ]
  },
  {
   "cell_type": "code",
   "execution_count": null,
   "id": "4ee495e7",
   "metadata": {},
   "outputs": [],
   "source": [
    "# 스팸, 만두 상품의 매출, 주문량이 압도적으로 많습니다.\n",
    "df0803['판매자상품명'].value_counts().head()"
   ]
  },
  {
   "cell_type": "code",
   "execution_count": null,
   "id": "6880f993",
   "metadata": {},
   "outputs": [],
   "source": [
    "df0803.groupby('판매자상품명')['판매액'].sum().sort_values(ascending=False).head(10)"
   ]
  },
  {
   "cell_type": "code",
   "execution_count": null,
   "id": "33336f69",
   "metadata": {},
   "outputs": [],
   "source": [
    "df0803.groupby('판매자상품명')['판매액'].sum().sort_values(ascending=False).head(10)"
   ]
  },
  {
   "cell_type": "code",
   "execution_count": null,
   "id": "efa668a2",
   "metadata": {},
   "outputs": [],
   "source": [
    "df0803['유입채널 대분류'].value_counts().head()"
   ]
  },
  {
   "cell_type": "code",
   "execution_count": null,
   "id": "8291e005",
   "metadata": {},
   "outputs": [],
   "source": [
    "# 원인은 할인이였고 특가 이벤트 행사로 인해 CJ 앱/웹을 통한 유입이 많았더것으로 보입니다.\n",
    "print(df0803[df0803['판매자상품명'] == 'CJ 스팸 25%라이트/ 스팸클래식 4개 골라담기 [ 택 1]']['판매가'].unique())\n",
    "print(df[df['판매자상품명'] == 'CJ 스팸 25%라이트/ 스팸클래식 4개 골라담기 [ 택 1]']['판매가'].unique())\n",
    "print(df[df['판매자상품명'] == 'CJ 스팸 25%라이트/ 스팸클래식 4개 골라담기 [ 택 1]']['판매가'].mean())"
   ]
  },
  {
   "cell_type": "markdown",
   "id": "8c5c9961",
   "metadata": {},
   "source": [
    "#### 3-7-2) 8월 6일 / 8월 7일"
   ]
  },
  {
   "cell_type": "code",
   "execution_count": null,
   "id": "46966131",
   "metadata": {},
   "outputs": [],
   "source": [
    "df0806['판매자상품명'].value_counts().head()"
   ]
  },
  {
   "cell_type": "code",
   "execution_count": null,
   "id": "c3cb83d8",
   "metadata": {},
   "outputs": [],
   "source": [
    "df0806.groupby('판매자상품명')['판매액'].sum().sort_values(ascending=False).head(10)"
   ]
  },
  {
   "cell_type": "code",
   "execution_count": null,
   "id": "5176c902",
   "metadata": {},
   "outputs": [],
   "source": [
    "df0806['유입채널 대분류'].value_counts().head()"
   ]
  },
  {
   "cell_type": "markdown",
   "id": "0d2e967e",
   "metadata": {},
   "source": [
    "증정행사로 인해 매출이 많은 것으로 보입니다. 앱, 웹을 통해 매출이 높은 국/탕 증정행사를 할 때 푸시알림을 활성화하는 것이 좋을 것 같습니다."
   ]
  },
  {
   "cell_type": "code",
   "execution_count": null,
   "id": "ac5f9220",
   "metadata": {},
   "outputs": [],
   "source": [
    "df0807['판매자상품명'].value_counts().head()"
   ]
  },
  {
   "cell_type": "code",
   "execution_count": null,
   "id": "c17bdd2f",
   "metadata": {},
   "outputs": [],
   "source": [
    "df0807.groupby('판매자상품명')['판매액'].sum().sort_values(ascending=False).head(10)"
   ]
  },
  {
   "cell_type": "code",
   "execution_count": null,
   "id": "a3769b50",
   "metadata": {},
   "outputs": [],
   "source": [
    "df0807['유입채널 대분류'].value_counts().head()"
   ]
  },
  {
   "cell_type": "markdown",
   "id": "9e91fab0",
   "metadata": {},
   "source": [
    "8/7도 증정 행사로 인하여 매출이 많은 것으로 보입니다. 앱, 웹을 통해 매출이 높은 국/탕, 햇반 골라담기, 기름 등의 증정행사를 할 때 푸시알림을 활성화하는 것이 좋을 것 같습니다."
   ]
  },
  {
   "cell_type": "markdown",
   "id": "e96fd6b8",
   "metadata": {},
   "source": [
    "# 4. 회원별 분석하기"
   ]
  },
  {
   "cell_type": "markdown",
   "id": "abe58453",
   "metadata": {},
   "source": [
    "## 1) 분석 용이해지도록 데이터 정리"
   ]
  },
  {
   "cell_type": "code",
   "execution_count": null,
   "id": "69981f35",
   "metadata": {},
   "outputs": [],
   "source": [
    "from datetime import datetime\n",
    "import matplotlib.pyplot as plt\n",
    "import seaborn as sns"
   ]
  },
  {
   "cell_type": "code",
   "execution_count": null,
   "id": "4386b5af",
   "metadata": {},
   "outputs": [],
   "source": [
    "df = pd.read_excel('CJ제일제당 주문 데이터(전처리).xlsx')"
   ]
  },
  {
   "cell_type": "code",
   "execution_count": null,
   "id": "50f03013",
   "metadata": {},
   "outputs": [],
   "source": [
    "# 아이디는 약 5만개, 주문은 총 9만개가 검색되는 것으로, 회원별 재구매 패턴을 파악하는 것이 중요할 것으로 판단된다.\n",
    "print(df['아이디'].nunique())\n",
    "print(len(df))"
   ]
  },
  {
   "cell_type": "code",
   "execution_count": null,
   "id": "ac79d24f",
   "metadata": {},
   "outputs": [],
   "source": [
    "df['시간대'] = df['주문접수일시'].dt.hour\n",
    "df['시간대 대분류'] = '21 ~ 00'\n",
    "df.loc[(df['시간대'] >= 0) & (df['시간대'] < 3),'시간대 대분류'] = '00 ~ 03'\n",
    "df.loc[(df['시간대'] >= 3) & (df['시간대'] < 6),'시간대 대분류'] = '03 ~ 06'\n",
    "df.loc[(df['시간대'] >= 6) & (df['시간대'] < 9),'시간대 대분류'] = '06 ~ 09'\n",
    "df.loc[(df['시간대'] >= 9) & (df['시간대'] < 12),'시간대 대분류'] = '09 ~ 12'\n",
    "df.loc[(df['시간대'] >= 12) & (df['시간대'] < 15),'시간대 대분류'] = '12 ~ 15'\n",
    "df.loc[(df['시간대'] >= 15) & (df['시간대'] < 18),'시간대 대분류'] = '15 ~ 18'\n",
    "df.loc[(df['시간대'] >= 18) & (df['시간대'] < 21),'시간대 대분류'] = '18 ~ 21'"
   ]
  },
  {
   "cell_type": "code",
   "execution_count": null,
   "id": "7a775061",
   "metadata": {},
   "outputs": [],
   "source": [
    "df['유입채널 대분류'] = '기타 및 이벤트 광고'\n",
    "df.loc[((df['유입채널'] == '유실 채널상세') | (df['유입채널'] == '디폴트 채널상세')), '유입채널 대분류'] = 'CJ 앱/사이트'\n",
    "df.loc[df['유입채널'].str.contains('가격비교'), '유입채널 대분류'] = '가격비교'\n",
    "df.loc[df['유입채널'].str.contains('모바일'), '유입채널 대분류'] = '모바일 공유'\n",
    "df.loc[df['유입채널'].str.contains('검색'), '유입채널 대분류'] = '검색'"
   ]
  },
  {
   "cell_type": "code",
   "execution_count": null,
   "id": "0b287bc2",
   "metadata": {},
   "outputs": [],
   "source": [
    "df['유입채널 대분류'].value_counts()"
   ]
  },
  {
   "cell_type": "code",
   "execution_count": null,
   "id": "b21b7f0c",
   "metadata": {},
   "outputs": [],
   "source": [
    "# id 및 유입채널 별로 분석하기 위해, 데이터프레임에서 필요한 변수 위주로 남겨놓습니다.\n",
    "df = df[['주문접수일시', '주문번호', '유입채널 대분류', '시간대 대분류', '주문월', '아이디', '판매자상품명', '판매가', '표준카테고리']]"
   ]
  },
  {
   "cell_type": "markdown",
   "id": "85627ee3",
   "metadata": {},
   "source": [
    "* 고안해낸 아이디어로, 각 아이디별로 묶어서 회원의 주문 패턴을 분석하도록 하겠습니다.\n",
    "\n",
    "* 주문 횟수가 1~2회인 회원의 경우 패턴을 파악하기가 어려우며, 유령회원으로 전환될 가능성이 높다고 판단하여, \n",
    "* 주문 횟수가 3회 이상인 회원들에 한하여 회원으로 판단하고, 회원들의 주문 데이터를 분석해보도록 하겠습니다."
   ]
  },
  {
   "cell_type": "code",
   "execution_count": null,
   "id": "8ebe845d",
   "metadata": {},
   "outputs": [],
   "source": [
    "df['아이디'].value_counts().loc[lambda x: x>= 3].index"
   ]
  },
  {
   "cell_type": "code",
   "execution_count": null,
   "id": "7836c91f",
   "metadata": {},
   "outputs": [],
   "source": [
    "# 주문 횟수가 3회 이상인 회원들의 주문 데이터에 한해서 다른 데이터프레임에 저장합니다.\n",
    "\n",
    "df_id = df[df['아이디'] == df['아이디'].value_counts().loc[lambda x: x>= 3].index[0]]\n",
    "for i in range(1, len(df['아이디'].value_counts().loc[lambda x: x>= 3].index)):\n",
    "    df_id = df_id.append(df[df['아이디'] == df['아이디'].value_counts().loc[lambda x: x>= 3].index[i]])\n",
    "df_id.head()"
   ]
  },
  {
   "cell_type": "code",
   "execution_count": null,
   "id": "af3d0e7b",
   "metadata": {},
   "outputs": [],
   "source": [
    "# 아이디가  *, **, ***, **** 으로만 나타나거나, null 값인 경우는 같은 회원으로 파악하기가 어려워 삭제하도록 하겠습니다.\n",
    "\n",
    "df_id = df_id[(df_id['아이디'] != '*') & (df_id['아이디'] != '**') & \n",
    "                  (df_id['아이디'] != '***') & (df_id['아이디'] != '****') & (df_id['아이디'] != '')]"
   ]
  },
  {
   "cell_type": "code",
   "execution_count": null,
   "id": "ee6acfcd",
   "metadata": {},
   "outputs": [],
   "source": [
    "len(df_id) # 34710개의 데이터가 남아있는 것을 확인할 수 있습니다."
   ]
  },
  {
   "cell_type": "code",
   "execution_count": null,
   "id": "efdec0bf",
   "metadata": {},
   "outputs": [],
   "source": [
    "# 데이터프레임을 csv 파일로 따로 저장하도록 하고, 불러오는 작업을 하였습니다.\n",
    "\n",
    "# df_id.to_csv('CJ 아이디별 조회.csv', encoding='utf-8')"
   ]
  },
  {
   "cell_type": "code",
   "execution_count": null,
   "id": "4d2218ec",
   "metadata": {},
   "outputs": [],
   "source": [
    "df_id = pd.read_csv(path+'CJ 아이디별 조회.csv')"
   ]
  },
  {
   "cell_type": "code",
   "execution_count": null,
   "id": "b6e61587",
   "metadata": {},
   "outputs": [],
   "source": [
    "df_id['주문접수일시'] = pd.to_datetime(df_id['주문접수일시'])\n",
    "df_id['주문날짜'] = df_id['주문번호']//(10**8)\n",
    "df_id['주문날짜'].astype(str)\n",
    "df_id['주문날짜'] = pd.to_datetime(df_id['주문날짜'], format = \"%Y%m%d\")"
   ]
  },
  {
   "cell_type": "markdown",
   "id": "358a9f6a",
   "metadata": {},
   "source": [
    "## 2-1) 주문 횟수가 가장 많은 회원의 데이터(예시)로 자주 주문하는 시간대 파악하기"
   ]
  },
  {
   "cell_type": "code",
   "execution_count": null,
   "id": "7049f6d2",
   "metadata": {},
   "outputs": [],
   "source": [
    "df_id_test = df_id.groupby(['아이디']).count()\n",
    "df_id_cond = df_id_test[df_id_test['주문접수일시'] >= 2]\n",
    "df_id_cond.sort_values(by='주문접수일시', ascending=False)"
   ]
  },
  {
   "cell_type": "code",
   "execution_count": null,
   "id": "944d972d",
   "metadata": {},
   "outputs": [],
   "source": [
    "df_mem1 = df_id[df_id['아이디'] == 'love****']\n",
    "df_mem1"
   ]
  },
  {
   "cell_type": "code",
   "execution_count": null,
   "id": "1aad769b",
   "metadata": {},
   "outputs": [],
   "source": [
    "# 위 회원이 자주 이용하는 시간대 파악하기\n",
    "df_mem1['시간대 대분류'].value_counts()"
   ]
  },
  {
   "cell_type": "code",
   "execution_count": null,
   "id": "40c3c52e",
   "metadata": {},
   "outputs": [],
   "source": [
    "sns.countplot(x='시간대 대분류', data=df_mem1, order=['00 ~ 03', '03 ~ 06', '06 ~ 09', '09 ~ 12', '12 ~ 15', '15 ~ 18', '18 ~ 21', '21 ~ 00'])"
   ]
  },
  {
   "cell_type": "code",
   "execution_count": null,
   "id": "4849556a",
   "metadata": {},
   "outputs": [],
   "source": [
    "# 위 회원이 자주 이용하는 유입채널 파악하기\n",
    "df_mem1['유입채널 대분류'].value_counts()"
   ]
  },
  {
   "cell_type": "code",
   "execution_count": null,
   "id": "c62041e9",
   "metadata": {},
   "outputs": [],
   "source": [
    "# 위 회원이 자주 이용하는 CJ 앱/사이트에서 시간대 파악하기\n",
    "df_mem1_1 = df_mem1[df_mem1['유입채널 대분류'] == 'CJ 앱/사이트']\n",
    "sns.countplot(x='시간대 대분류', data=df_mem1_1, \n",
    "              order=['00 ~ 03', '03 ~ 06', '06 ~ 09', '09 ~ 12', '12 ~ 15', '15 ~ 18', '18 ~ 21', '21 ~ 00'])"
   ]
  },
  {
   "cell_type": "code",
   "execution_count": null,
   "id": "9b9a6a64",
   "metadata": {},
   "outputs": [],
   "source": [
    "# 위 회원의 가격비교 이용 시간대 파악하기\n",
    "df_mem1_2 = df_mem1[df_mem1['유입채널 대분류'] == '가격비교']\n",
    "sns.countplot(x='시간대 대분류', data=df_mem1_2, \n",
    "              order=['00 ~ 03', '03 ~ 06', '06 ~ 09', '09 ~ 12', '12 ~ 15', '15 ~ 18', '18 ~ 21', '21 ~ 00'])"
   ]
  },
  {
   "cell_type": "markdown",
   "id": "360621a0",
   "metadata": {},
   "source": [
    "* love**** 회원은 전체적으로 주로 21 ~ 03시인 야간 시간대에 많이 주문하며, \n",
    "* CJ 채널에서 직접 주문은 21 ~ 03시, 가격 비교로서의 주문은 오후 시간대 12 ~ 00시에 많음을 알 수 있습니다."
   ]
  },
  {
   "cell_type": "markdown",
   "id": "54b94a9c",
   "metadata": {},
   "source": [
    "## 2-2) 주문 횟수가 가장 많은 회원이 특정 시간에 자주 주문하는 상품 파악하기"
   ]
  },
  {
   "cell_type": "code",
   "execution_count": null,
   "id": "ccecc8e1",
   "metadata": {},
   "outputs": [],
   "source": [
    "df_mem1_1['판매자상품명'].value_counts().head()"
   ]
  },
  {
   "cell_type": "code",
   "execution_count": null,
   "id": "5a4b16a4",
   "metadata": {},
   "outputs": [],
   "source": [
    "# 위 회원은 곰탕, 즉석밥, 만두, 식용유 등이 주문의 과반수를 차지하는 것을 알 수 있습니다.\n",
    "\n",
    "df_mem1_1_top10 = df_mem1_1['판매자상품명'].value_counts().head(10).index\n",
    "\n",
    "plt.figure(figsize=(12, 5))\n",
    "sns.countplot(y='판매자상품명', data=df_mem1_1, order=[df_mem1_1_top10[i] for i in range(0,10)])"
   ]
  },
  {
   "cell_type": "code",
   "execution_count": null,
   "id": "966e480d",
   "metadata": {},
   "outputs": [],
   "source": [
    "# 카테고리별로 많이 사는 제품 시각화\n",
    "# 같은 상품인데도 제품별로 이름이 조금씩 다르기 때문에, 한 번 더 확인해주겠습니다.\n",
    "# ex. 앞에 '[2+1]'이나 '[CJ직배송]', 내지는 '*1개, *3개' 처럼 같은 상품인데도 상품명이 다르기 때문에 카테고리로 묶어주겠습니다.\n",
    "\n",
    "df_mem1_1_top_category = df_mem1_1['표준카테고리'].value_counts().head(5).index\n",
    "plt.figure(figsize=(12, 10))\n",
    "sns.countplot(y='표준카테고리', data=df_mem1_1, order=[df_mem1_1_top_category[i] for i in range(0,5)], hue='시간대 대분류')"
   ]
  },
  {
   "cell_type": "code",
   "execution_count": null,
   "id": "5bbd42d1",
   "metadata": {},
   "outputs": [],
   "source": [
    "df_mem1_2_top10 = df_mem1_2['판매자상품명'].value_counts().head(10).index\n",
    "\n",
    "plt.figure(figsize=(12, 10))\n",
    "sns.countplot(y='판매자상품명', data=df_mem1_2, order=[df_mem1_2_top10[i] for i in range(0,10)], hue='시간대 대분류')"
   ]
  },
  {
   "cell_type": "markdown",
   "id": "a3762bee",
   "metadata": {},
   "source": [
    "* love**** 회원은 주로 즉석밥(볶음밥), 국/탕(곰탕), 만두(교자), 식용유(포도씨유)를 구매하는 것을 알 수 있으며,\n",
    "* 주문량이 많은 21 ~ 00 시에 국/탕을 살때 만두를 함께 구매하는 것으로도 볼 수 있을 것 같습니다.\n",
    "* 그가 주로 주문하는 제품(혹은 같은 카테고리 내 판매량 많은 제품)이 할인 기간,\n",
    "* 국/탕과 만두를 묶음으로 판매하는 할인 이벤트를 할 때\n",
    "* CJ 앱/사이트에서는 21 ~ 03시에,\n",
    "* 가격비교 사이트에서는 12 ~ 00시 사이에 광고를 활성화하여 재구매를 유도하면 좋을 것 같습니다."
   ]
  },
  {
   "cell_type": "markdown",
   "id": "c00f3d20",
   "metadata": {},
   "source": [
    "## 3) 주문 건수가 30회 이상인 회원들의 월별 주문 패턴 분석하기"
   ]
  },
  {
   "cell_type": "code",
   "execution_count": null,
   "id": "14599925",
   "metadata": {},
   "outputs": [],
   "source": [
    "df_id"
   ]
  },
  {
   "cell_type": "code",
   "execution_count": null,
   "id": "0add34d3",
   "metadata": {},
   "outputs": [],
   "source": [
    "# 월별 시간대별 주문량 시각화\n",
    "\n",
    "import matplotlib.gridspec as gridspec\n",
    "grid = gridspec.GridSpec(3, 3) \n",
    "\n",
    "plt.figure(figsize=(20,15))  \n",
    "plt.subplots_adjust(wspace=0.5, hspace=0.3) \n",
    "\n",
    "months = [i for i in range(1, 10)]\n",
    "\n",
    "for idx, month in enumerate(months):\n",
    "    ax = plt.subplot(grid[idx])\n",
    "    \n",
    "    sns.countplot(x='시간대 대분류',\n",
    "                data=df[df['주문월'] == month],\n",
    "                palette='pastel',\n",
    "                ax=ax,\n",
    "                order = ['00 ~ 03', '03 ~ 06', '06 ~ 09', '09 ~ 12', '12 ~ 15', '15 ~ 18', '18 ~ 21', '21 ~ 00']\n",
    "                )\n",
    "    ax.set_title(f'Month {month}')"
   ]
  },
  {
   "cell_type": "code",
   "execution_count": null,
   "id": "203c7592",
   "metadata": {},
   "outputs": [],
   "source": [
    "df_id[df_id['주문월'] == 1].groupby('표준카테고리')['주문번호'].count().sort_values(ascending=False)[:10]"
   ]
  },
  {
   "cell_type": "code",
   "execution_count": null,
   "id": "bbc2afba",
   "metadata": {},
   "outputs": [],
   "source": [
    "# 카테고리별로 시각화 해보겠습니다.\n",
    "\n",
    "import matplotlib.gridspec as gridspec\n",
    "grid = gridspec.GridSpec(5,2)\n",
    "\n",
    "plt.figure(figsize=(15,30))  \n",
    "plt.subplots_adjust(wspace=0.5, hspace=0.3) \n",
    "\n",
    "months = [i for i in range(1, 10)]\n",
    "\n",
    "for idx, month in enumerate(months):\n",
    "    ax = plt.subplot(grid[idx])\n",
    "    \n",
    "    sns.countplot(y='표준카테고리',\n",
    "                data=df_id[df_id['주문월'] == month],\n",
    "                order=[df_id[df_id['주문월'] == month]['표준카테고리'].value_counts().head(10).index[i] for i in range(0,10)],\n",
    "                palette='pastel',\n",
    "                ax=ax\n",
    "                )\n",
    "    ax.set_title(f'Month {month}')"
   ]
  },
  {
   "cell_type": "code",
   "execution_count": null,
   "id": "e7f3ca9b",
   "metadata": {},
   "outputs": [],
   "source": [
    "df_id_1 = df_id[df_id['주문월'] == 1]\n",
    "df_id_2 = df_id[df_id['주문월'] == 2]\n",
    "df_id_3 = df_id[df_id['주문월'] == 3]\n",
    "df_id_4 = df_id[df_id['주문월'] == 4]\n",
    "df_id_5 = df_id[df_id['주문월'] == 5]\n",
    "df_id_6 = df_id[df_id['주문월'] == 6]\n",
    "df_id_7 = df_id[df_id['주문월'] == 7]\n",
    "df_id_8 = df_id[df_id['주문월'] == 8]\n",
    "df_id_9 = df_id[df_id['주문월'] == 9]"
   ]
  },
  {
   "cell_type": "code",
   "execution_count": null,
   "id": "5fc2e2e7",
   "metadata": {},
   "outputs": [],
   "source": [
    "df_id['표준카테고리'].nunique()"
   ]
  },
  {
   "cell_type": "code",
   "execution_count": null,
   "id": "57f1af28",
   "metadata": {},
   "outputs": [],
   "source": [
    "df_id_tops = pd.DataFrame(data = [[0] * 9 for i in range(52)], \n",
    "                       columns=['1월', '2월', '3월', '4월', '5월', '6월', '7월', '8월', '9월'], \n",
    "                       index=df_id['표준카테고리'].value_counts().sort_index().index )\n",
    "df_id_tops['1월'] = df_id_1['표준카테고리'].value_counts().sort_values()\n",
    "df_id_tops['2월'] = df_id_2['표준카테고리'].value_counts().sort_values()\n",
    "df_id_tops['3월'] = df_id_3['표준카테고리'].value_counts().sort_values()\n",
    "df_id_tops['4월'] = df_id_4['표준카테고리'].value_counts().sort_values()\n",
    "df_id_tops['5월'] = df_id_5['표준카테고리'].value_counts().sort_values()\n",
    "df_id_tops['6월'] = df_id_6['표준카테고리'].value_counts().sort_values()\n",
    "df_id_tops['7월'] = df_id_7['표준카테고리'].value_counts().sort_values()\n",
    "df_id_tops['8월'] = df_id_8['표준카테고리'].value_counts().sort_values()\n",
    "df_id_tops['9월'] = df_id_9['표준카테고리'].value_counts().sort_values()\n",
    "\n",
    "df_id_tops = df_id_tops.fillna(0)"
   ]
  },
  {
   "cell_type": "code",
   "execution_count": null,
   "id": "0501a47d",
   "metadata": {},
   "outputs": [],
   "source": [
    "df_id_tops = df_id_tops.transpose()"
   ]
  },
  {
   "cell_type": "code",
   "execution_count": null,
   "id": "3379b8c7",
   "metadata": {},
   "outputs": [],
   "source": [
    "df_id_tops.corr().head()"
   ]
  },
  {
   "cell_type": "code",
   "execution_count": null,
   "id": "2c296993",
   "metadata": {},
   "outputs": [],
   "source": [
    "sns.barplot(y=df_id_tops.corr()['냉장/냉동/간편식 > 떡볶이/만두 > 만두'].sort_values(ascending=False).index[1:6],\n",
    "            x=df_id_tops.corr()['냉장/냉동/간편식 > 떡볶이/만두 > 만두'].sort_values(ascending=False)[1:6])"
   ]
  },
  {
   "cell_type": "code",
   "execution_count": null,
   "id": "ad7fcc6f",
   "metadata": {},
   "outputs": [],
   "source": [
    "sns.barplot(y=df_id_tops.corr()['냉장/냉동/간편식 > 즉석밥/죽/스프 > 즉석밥'].sort_values(ascending=False).index[1:6],\n",
    "            x=df_id_tops.corr()['냉장/냉동/간편식 > 즉석밥/죽/스프 > 즉석밥'].sort_values(ascending=False)[1:6])"
   ]
  },
  {
   "cell_type": "code",
   "execution_count": null,
   "id": "89ccf112",
   "metadata": {},
   "outputs": [],
   "source": [
    "sns.barplot(y=df_id_tops.corr()['냉장/냉동/간편식 > 국/탕/찌개 > 국/탕'].sort_values(ascending=False).index[1:11],\n",
    "            x=df_id_tops.corr()['냉장/냉동/간편식 > 국/탕/찌개 > 국/탕'].sort_values(ascending=False)[1:11])"
   ]
  },
  {
   "cell_type": "code",
   "execution_count": null,
   "id": "7f624bc3",
   "metadata": {},
   "outputs": [],
   "source": [
    "sns.barplot(y=df_id_tops.corr()['가공식품 > 식용유/오일 > 식용유/오일선물세트'].sort_values(ascending=False).index[1:11],\n",
    "            x=df_id_tops.corr()['가공식품 > 식용유/오일 > 식용유/오일선물세트'].sort_values(ascending=False)[1:11])"
   ]
  },
  {
   "cell_type": "markdown",
   "id": "ea1655eb",
   "metadata": {},
   "source": [
    "전체 주문 데이터와 비교해본 결과, \n",
    "\n",
    "7월에 푸딩의 주문 건수는 주문 횟수가 30회 이상인 단골 회원에게 큰 영향이 없었으며,\n",
    "\n",
    "특가 이벤트 및 증정 행사를 진행함으로서 주문 인기가 많아진 상품의 트렌드를 오래 따라가는 경향이 있습니다.\n",
    "\n",
    "즉, 기존 회원들의 재구매를 유도하기 위해서는, 주문 인기가 상품을 토대로 꾸준히 할인/이벤트를 진행해야 합니다."
   ]
  },
  {
   "cell_type": "code",
   "execution_count": null,
   "id": "120beaf8",
   "metadata": {},
   "outputs": [],
   "source": []
  }
 ],
 "metadata": {
  "colab": {
   "include_colab_link": true,
   "provenance": [],
   "toc_visible": true
  },
  "kernelspec": {
   "display_name": "Python 3 (ipykernel)",
   "language": "python",
   "name": "python3"
  },
  "language_info": {
   "codemirror_mode": {
    "name": "ipython",
    "version": 3
   },
   "file_extension": ".py",
   "mimetype": "text/x-python",
   "name": "python",
   "nbconvert_exporter": "python",
   "pygments_lexer": "ipython3",
   "version": "3.9.15"
  }
 },
 "nbformat": 4,
 "nbformat_minor": 5
}
