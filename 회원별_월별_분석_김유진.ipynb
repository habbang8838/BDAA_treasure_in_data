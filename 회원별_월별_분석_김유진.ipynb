{
 "cells": [
  {
   "cell_type": "markdown",
   "metadata": {
    "colab_type": "text",
    "id": "view-in-github"
   },
   "source": [
    "<a href=\"https://colab.research.google.com/github/habbang8838/BDAA_treasure_in_data/blob/main/CJ%EC%A0%9C%EC%9D%BC%EC%A0%9C%EB%8B%B9_%EC%A3%BC%EB%AC%B8_%EB%8D%B0%EC%9D%B4%ED%84%B0.ipynb\" target=\"_parent\"><img src=\"https://colab.research.google.com/assets/colab-badge.svg\" alt=\"Open In Colab\"/></a>"
   ]
  },
  {
   "cell_type": "code",
   "execution_count": null,
   "metadata": {},
   "outputs": [],
   "source": [
    "# df_id.to_csv('CJ 아이디별 조회.csv', encoding='utf-8')"
   ]
  },
  {
   "cell_type": "markdown",
   "metadata": {},
   "source": [
    "# CJ 아이디별 파일 다운받고, 여기서부터 코딩 실행해주세요!!"
   ]
  },
  {
   "cell_type": "code",
   "execution_count": 85,
   "metadata": {},
   "outputs": [],
   "source": [
    "import pandas as pd\n",
    "import numpy as np\n",
    "from datetime import datetime\n",
    "import matplotlib.pyplot as plt\n",
    "import seaborn as sns\n",
    "from matplotlib import font_manager, rc\n",
    "import matplotlib\n",
    "import platform\n",
    "import matplotlib.pyplot as plt\n",
    "\n",
    "%matplotlib inline \n",
    "\n",
    "if platform.system() == 'Windows':\n",
    "    font_name = font_manager.FontProperties(fname=\"c:/Windows/Fonts/malgun.ttf\").get_name()\n",
    "    rc('font', family = font_name)\n",
    "else:\n",
    "    rc('font',family='AppleGothic')\n",
    "    \n",
    "matplotlib.rcParams['axes.unicode_minus']=False\n",
    "%matplotlib inline"
   ]
  },
  {
   "cell_type": "code",
   "execution_count": 86,
   "metadata": {},
   "outputs": [],
   "source": [
    "df_id = pd.read_csv('CJ 아이디별 조회.csv')"
   ]
  },
  {
   "cell_type": "code",
   "execution_count": 87,
   "metadata": {},
   "outputs": [],
   "source": [
    "df_id['주문접수일시'] = pd.to_datetime(df_id['주문접수일시'])"
   ]
  },
  {
   "cell_type": "code",
   "execution_count": 88,
   "metadata": {
    "scrolled": true
   },
   "outputs": [],
   "source": [
    "df_id['주문날짜'] = df_id['주문번호']//(10**8)\n",
    "df_id['주문날짜'].astype(str)\n",
    "df_id['주문날짜'] = pd.to_datetime(df_id['주문날짜'], format = \"%Y%m%d\")"
   ]
  },
  {
   "cell_type": "code",
   "execution_count": 89,
   "metadata": {},
   "outputs": [],
   "source": [
    "df_id_test = df_id.groupby(['아이디']).count()"
   ]
  },
  {
   "cell_type": "code",
   "execution_count": 90,
   "metadata": {},
   "outputs": [],
   "source": [
    "df_id_cond = df_id_test[df_id_test['주문접수일시'] >= 2]"
   ]
  },
  {
   "cell_type": "code",
   "execution_count": 91,
   "metadata": {},
   "outputs": [
    {
     "data": {
      "text/html": [
       "<div>\n",
       "<style scoped>\n",
       "    .dataframe tbody tr th:only-of-type {\n",
       "        vertical-align: middle;\n",
       "    }\n",
       "\n",
       "    .dataframe tbody tr th {\n",
       "        vertical-align: top;\n",
       "    }\n",
       "\n",
       "    .dataframe thead th {\n",
       "        text-align: right;\n",
       "    }\n",
       "</style>\n",
       "<table border=\"1\" class=\"dataframe\">\n",
       "  <thead>\n",
       "    <tr style=\"text-align: right;\">\n",
       "      <th></th>\n",
       "      <th>주문접수일시</th>\n",
       "      <th>주문번호</th>\n",
       "      <th>유입채널 대분류</th>\n",
       "      <th>시간대 대분류</th>\n",
       "      <th>주문월</th>\n",
       "      <th>판매자상품명</th>\n",
       "      <th>판매가</th>\n",
       "      <th>표준카테고리</th>\n",
       "      <th>주문날짜</th>\n",
       "    </tr>\n",
       "    <tr>\n",
       "      <th>아이디</th>\n",
       "      <th></th>\n",
       "      <th></th>\n",
       "      <th></th>\n",
       "      <th></th>\n",
       "      <th></th>\n",
       "      <th></th>\n",
       "      <th></th>\n",
       "      <th></th>\n",
       "      <th></th>\n",
       "    </tr>\n",
       "  </thead>\n",
       "  <tbody>\n",
       "    <tr>\n",
       "      <th>love****</th>\n",
       "      <td>220</td>\n",
       "      <td>220</td>\n",
       "      <td>220</td>\n",
       "      <td>220</td>\n",
       "      <td>220</td>\n",
       "      <td>220</td>\n",
       "      <td>220</td>\n",
       "      <td>220</td>\n",
       "      <td>220</td>\n",
       "    </tr>\n",
       "    <tr>\n",
       "      <th>blue****</th>\n",
       "      <td>196</td>\n",
       "      <td>196</td>\n",
       "      <td>196</td>\n",
       "      <td>196</td>\n",
       "      <td>196</td>\n",
       "      <td>196</td>\n",
       "      <td>196</td>\n",
       "      <td>196</td>\n",
       "      <td>196</td>\n",
       "    </tr>\n",
       "    <tr>\n",
       "      <th>csh3718</th>\n",
       "      <td>165</td>\n",
       "      <td>165</td>\n",
       "      <td>165</td>\n",
       "      <td>165</td>\n",
       "      <td>165</td>\n",
       "      <td>165</td>\n",
       "      <td>165</td>\n",
       "      <td>165</td>\n",
       "      <td>165</td>\n",
       "    </tr>\n",
       "    <tr>\n",
       "      <th>jung****</th>\n",
       "      <td>135</td>\n",
       "      <td>135</td>\n",
       "      <td>135</td>\n",
       "      <td>135</td>\n",
       "      <td>135</td>\n",
       "      <td>135</td>\n",
       "      <td>135</td>\n",
       "      <td>135</td>\n",
       "      <td>135</td>\n",
       "    </tr>\n",
       "    <tr>\n",
       "      <th>yoon****</th>\n",
       "      <td>130</td>\n",
       "      <td>130</td>\n",
       "      <td>130</td>\n",
       "      <td>130</td>\n",
       "      <td>130</td>\n",
       "      <td>130</td>\n",
       "      <td>130</td>\n",
       "      <td>130</td>\n",
       "      <td>130</td>\n",
       "    </tr>\n",
       "    <tr>\n",
       "      <th>...</th>\n",
       "      <td>...</td>\n",
       "      <td>...</td>\n",
       "      <td>...</td>\n",
       "      <td>...</td>\n",
       "      <td>...</td>\n",
       "      <td>...</td>\n",
       "      <td>...</td>\n",
       "      <td>...</td>\n",
       "      <td>...</td>\n",
       "    </tr>\n",
       "    <tr>\n",
       "      <th>km92****</th>\n",
       "      <td>3</td>\n",
       "      <td>3</td>\n",
       "      <td>3</td>\n",
       "      <td>3</td>\n",
       "      <td>3</td>\n",
       "      <td>3</td>\n",
       "      <td>3</td>\n",
       "      <td>3</td>\n",
       "      <td>3</td>\n",
       "    </tr>\n",
       "    <tr>\n",
       "      <th>kma1****</th>\n",
       "      <td>3</td>\n",
       "      <td>3</td>\n",
       "      <td>3</td>\n",
       "      <td>3</td>\n",
       "      <td>3</td>\n",
       "      <td>3</td>\n",
       "      <td>3</td>\n",
       "      <td>3</td>\n",
       "      <td>3</td>\n",
       "    </tr>\n",
       "    <tr>\n",
       "      <th>kma1119</th>\n",
       "      <td>3</td>\n",
       "      <td>3</td>\n",
       "      <td>3</td>\n",
       "      <td>3</td>\n",
       "      <td>3</td>\n",
       "      <td>3</td>\n",
       "      <td>3</td>\n",
       "      <td>3</td>\n",
       "      <td>3</td>\n",
       "    </tr>\n",
       "    <tr>\n",
       "      <th>kmastin</th>\n",
       "      <td>3</td>\n",
       "      <td>3</td>\n",
       "      <td>3</td>\n",
       "      <td>3</td>\n",
       "      <td>3</td>\n",
       "      <td>3</td>\n",
       "      <td>3</td>\n",
       "      <td>3</td>\n",
       "      <td>3</td>\n",
       "    </tr>\n",
       "    <tr>\n",
       "      <th>kmhjbr1</th>\n",
       "      <td>3</td>\n",
       "      <td>3</td>\n",
       "      <td>3</td>\n",
       "      <td>3</td>\n",
       "      <td>3</td>\n",
       "      <td>3</td>\n",
       "      <td>3</td>\n",
       "      <td>3</td>\n",
       "      <td>3</td>\n",
       "    </tr>\n",
       "  </tbody>\n",
       "</table>\n",
       "<p>5774 rows × 9 columns</p>\n",
       "</div>"
      ],
      "text/plain": [
       "          주문접수일시  주문번호  유입채널 대분류  시간대 대분류  주문월  판매자상품명  판매가  표준카테고리  주문날짜\n",
       "아이디                                                                      \n",
       "love****     220   220       220      220  220     220  220     220   220\n",
       "blue****     196   196       196      196  196     196  196     196   196\n",
       "csh3718      165   165       165      165  165     165  165     165   165\n",
       "jung****     135   135       135      135  135     135  135     135   135\n",
       "yoon****     130   130       130      130  130     130  130     130   130\n",
       "...          ...   ...       ...      ...  ...     ...  ...     ...   ...\n",
       "km92****       3     3         3        3    3       3    3       3     3\n",
       "kma1****       3     3         3        3    3       3    3       3     3\n",
       "kma1119        3     3         3        3    3       3    3       3     3\n",
       "kmastin        3     3         3        3    3       3    3       3     3\n",
       "kmhjbr1        3     3         3        3    3       3    3       3     3\n",
       "\n",
       "[5774 rows x 9 columns]"
      ]
     },
     "execution_count": 91,
     "metadata": {},
     "output_type": "execute_result"
    }
   ],
   "source": [
    "df_id_cond.sort_values(by='주문접수일시', ascending=False)"
   ]
  },
  {
   "cell_type": "code",
   "execution_count": 92,
   "metadata": {},
   "outputs": [
    {
     "data": {
      "text/plain": [
       "Index(['love****'], dtype='object', name='아이디')"
      ]
     },
     "execution_count": 92,
     "metadata": {},
     "output_type": "execute_result"
    }
   ],
   "source": [
    "df_id_cond[df_id_cond['주문접수일시'] == 220].index"
   ]
  },
  {
   "cell_type": "code",
   "execution_count": 93,
   "metadata": {},
   "outputs": [],
   "source": [
    "df_mem1 = df_id[df_id['아이디'] == 'love****']"
   ]
  },
  {
   "cell_type": "code",
   "execution_count": 94,
   "metadata": {},
   "outputs": [
    {
     "data": {
      "text/html": [
       "<div>\n",
       "<style scoped>\n",
       "    .dataframe tbody tr th:only-of-type {\n",
       "        vertical-align: middle;\n",
       "    }\n",
       "\n",
       "    .dataframe tbody tr th {\n",
       "        vertical-align: top;\n",
       "    }\n",
       "\n",
       "    .dataframe thead th {\n",
       "        text-align: right;\n",
       "    }\n",
       "</style>\n",
       "<table border=\"1\" class=\"dataframe\">\n",
       "  <thead>\n",
       "    <tr style=\"text-align: right;\">\n",
       "      <th></th>\n",
       "      <th>주문접수일시</th>\n",
       "      <th>주문번호</th>\n",
       "      <th>유입채널 대분류</th>\n",
       "      <th>시간대 대분류</th>\n",
       "      <th>주문월</th>\n",
       "      <th>아이디</th>\n",
       "      <th>판매자상품명</th>\n",
       "      <th>판매가</th>\n",
       "      <th>표준카테고리</th>\n",
       "      <th>주문날짜</th>\n",
       "    </tr>\n",
       "  </thead>\n",
       "  <tbody>\n",
       "    <tr>\n",
       "      <th>0</th>\n",
       "      <td>2022-01-07 06:55:35</td>\n",
       "      <td>2022010712865550</td>\n",
       "      <td>가격비교</td>\n",
       "      <td>06 ~ 09</td>\n",
       "      <td>1</td>\n",
       "      <td>love****</td>\n",
       "      <td>[CJ직배송] CJ 햇반 매일잡곡밥 210g x 24개</td>\n",
       "      <td>36000</td>\n",
       "      <td>냉장/냉동/간편식 &gt; 즉석밥/죽/스프 &gt; 즉석밥</td>\n",
       "      <td>2022-01-07</td>\n",
       "    </tr>\n",
       "    <tr>\n",
       "      <th>1</th>\n",
       "      <td>2022-01-07 06:57:53</td>\n",
       "      <td>2022010712865630</td>\n",
       "      <td>가격비교</td>\n",
       "      <td>06 ~ 09</td>\n",
       "      <td>1</td>\n",
       "      <td>love****</td>\n",
       "      <td>[CJ직배송] CJ 햇반 매일잡곡밥 210g x 24개</td>\n",
       "      <td>36000</td>\n",
       "      <td>냉장/냉동/간편식 &gt; 즉석밥/죽/스프 &gt; 즉석밥</td>\n",
       "      <td>2022-01-07</td>\n",
       "    </tr>\n",
       "    <tr>\n",
       "      <th>2</th>\n",
       "      <td>2022-01-10 09:36:32</td>\n",
       "      <td>2022011013280040</td>\n",
       "      <td>검색</td>\n",
       "      <td>09 ~ 12</td>\n",
       "      <td>1</td>\n",
       "      <td>love****</td>\n",
       "      <td>CJ 고메 중화짜장 760Gx3개</td>\n",
       "      <td>21530</td>\n",
       "      <td>가공식품 &gt; 면류 &gt; 중화면</td>\n",
       "      <td>2022-01-10</td>\n",
       "    </tr>\n",
       "    <tr>\n",
       "      <th>3</th>\n",
       "      <td>2022-01-10 11:56:34</td>\n",
       "      <td>2022011013300450</td>\n",
       "      <td>CJ 앱/사이트</td>\n",
       "      <td>09 ~ 12</td>\n",
       "      <td>1</td>\n",
       "      <td>love****</td>\n",
       "      <td>[CJ직배송]CJ비비고왕교자1.05KG X 2개</td>\n",
       "      <td>19920</td>\n",
       "      <td>냉장/냉동/간편식 &gt; 떡볶이/만두 &gt; 만두</td>\n",
       "      <td>2022-01-10</td>\n",
       "    </tr>\n",
       "    <tr>\n",
       "      <th>4</th>\n",
       "      <td>2022-01-10 16:28:22</td>\n",
       "      <td>2022011013337260</td>\n",
       "      <td>가격비교</td>\n",
       "      <td>15 ~ 18</td>\n",
       "      <td>1</td>\n",
       "      <td>love****</td>\n",
       "      <td>[CJ직배송]쉐프솔루션 고기만땅왕교자 1.05KG X3개</td>\n",
       "      <td>20940</td>\n",
       "      <td>냉장/냉동/간편식 &gt; 떡볶이/만두 &gt; 만두</td>\n",
       "      <td>2022-01-10</td>\n",
       "    </tr>\n",
       "    <tr>\n",
       "      <th>...</th>\n",
       "      <td>...</td>\n",
       "      <td>...</td>\n",
       "      <td>...</td>\n",
       "      <td>...</td>\n",
       "      <td>...</td>\n",
       "      <td>...</td>\n",
       "      <td>...</td>\n",
       "      <td>...</td>\n",
       "      <td>...</td>\n",
       "      <td>...</td>\n",
       "    </tr>\n",
       "    <tr>\n",
       "      <th>215</th>\n",
       "      <td>2022-07-06 03:12:42</td>\n",
       "      <td>2022070618027370</td>\n",
       "      <td>CJ 앱/사이트</td>\n",
       "      <td>03 ~ 06</td>\n",
       "      <td>7</td>\n",
       "      <td>love****</td>\n",
       "      <td>[햇반 솥반 X 서울체크인]햇반 솥반 7종</td>\n",
       "      <td>27000</td>\n",
       "      <td>냉장/냉동/간편식 &gt; 즉석밥/죽/스프 &gt; 즉석밥</td>\n",
       "      <td>2022-07-06</td>\n",
       "    </tr>\n",
       "    <tr>\n",
       "      <th>216</th>\n",
       "      <td>2022-07-06 03:12:42</td>\n",
       "      <td>2022070618027370</td>\n",
       "      <td>CJ 앱/사이트</td>\n",
       "      <td>03 ~ 06</td>\n",
       "      <td>7</td>\n",
       "      <td>love****</td>\n",
       "      <td>햇반/쿡반불고기주먹밥500G+햇반/쿡반김치치즈주먹밥500G+햇반/쿡반버터장조림주먹밥...</td>\n",
       "      <td>31000</td>\n",
       "      <td>냉장/냉동/간편식 &gt; 즉석밥/죽/스프 &gt; 즉석밥</td>\n",
       "      <td>2022-07-06</td>\n",
       "    </tr>\n",
       "    <tr>\n",
       "      <th>217</th>\n",
       "      <td>2022-07-06 15:59:10</td>\n",
       "      <td>2022070618106970</td>\n",
       "      <td>기타 및 이벤트 광고</td>\n",
       "      <td>15 ~ 18</td>\n",
       "      <td>7</td>\n",
       "      <td>love****</td>\n",
       "      <td>[파티컵증정]고메 순살 후라이드 치킨 550gx3개</td>\n",
       "      <td>27090</td>\n",
       "      <td>냉장/냉동/간편식 &gt; 피자/핫도그/햄버거 &gt; 피자/햄버거</td>\n",
       "      <td>2022-07-06</td>\n",
       "    </tr>\n",
       "    <tr>\n",
       "      <th>218</th>\n",
       "      <td>2022-07-06 15:59:10</td>\n",
       "      <td>2022070618106970</td>\n",
       "      <td>기타 및 이벤트 광고</td>\n",
       "      <td>15 ~ 18</td>\n",
       "      <td>7</td>\n",
       "      <td>love****</td>\n",
       "      <td>고메 바삭쫄깃한 탕수육 450gx3개</td>\n",
       "      <td>28340</td>\n",
       "      <td>냉장/냉동/간편식 &gt; 동그랑땡/전/튀김 &gt; 튀김류</td>\n",
       "      <td>2022-07-06</td>\n",
       "    </tr>\n",
       "    <tr>\n",
       "      <th>219</th>\n",
       "      <td>2022-07-11 16:14:08</td>\n",
       "      <td>2022071118754740</td>\n",
       "      <td>CJ 앱/사이트</td>\n",
       "      <td>15 ~ 18</td>\n",
       "      <td>7</td>\n",
       "      <td>love****</td>\n",
       "      <td>다담 된장찌개양념 530G X 4개</td>\n",
       "      <td>23000</td>\n",
       "      <td>가공식품 &gt; 장류 &gt; 된장/쌈장/청국장</td>\n",
       "      <td>2022-07-11</td>\n",
       "    </tr>\n",
       "  </tbody>\n",
       "</table>\n",
       "<p>220 rows × 10 columns</p>\n",
       "</div>"
      ],
      "text/plain": [
       "                 주문접수일시              주문번호     유입채널 대분류  시간대 대분류  주문월  \\\n",
       "0   2022-01-07 06:55:35  2022010712865550         가격비교  06 ~ 09    1   \n",
       "1   2022-01-07 06:57:53  2022010712865630         가격비교  06 ~ 09    1   \n",
       "2   2022-01-10 09:36:32  2022011013280040           검색  09 ~ 12    1   \n",
       "3   2022-01-10 11:56:34  2022011013300450     CJ 앱/사이트  09 ~ 12    1   \n",
       "4   2022-01-10 16:28:22  2022011013337260         가격비교  15 ~ 18    1   \n",
       "..                  ...               ...          ...      ...  ...   \n",
       "215 2022-07-06 03:12:42  2022070618027370     CJ 앱/사이트  03 ~ 06    7   \n",
       "216 2022-07-06 03:12:42  2022070618027370     CJ 앱/사이트  03 ~ 06    7   \n",
       "217 2022-07-06 15:59:10  2022070618106970  기타 및 이벤트 광고  15 ~ 18    7   \n",
       "218 2022-07-06 15:59:10  2022070618106970  기타 및 이벤트 광고  15 ~ 18    7   \n",
       "219 2022-07-11 16:14:08  2022071118754740     CJ 앱/사이트  15 ~ 18    7   \n",
       "\n",
       "          아이디                                             판매자상품명    판매가  \\\n",
       "0    love****                     [CJ직배송] CJ 햇반 매일잡곡밥 210g x 24개  36000   \n",
       "1    love****                     [CJ직배송] CJ 햇반 매일잡곡밥 210g x 24개  36000   \n",
       "2    love****                                 CJ 고메 중화짜장 760Gx3개  21530   \n",
       "3    love****                         [CJ직배송]CJ비비고왕교자1.05KG X 2개  19920   \n",
       "4    love****                    [CJ직배송]쉐프솔루션 고기만땅왕교자 1.05KG X3개  20940   \n",
       "..        ...                                                ...    ...   \n",
       "215  love****                            [햇반 솥반 X 서울체크인]햇반 솥반 7종  27000   \n",
       "216  love****  햇반/쿡반불고기주먹밥500G+햇반/쿡반김치치즈주먹밥500G+햇반/쿡반버터장조림주먹밥...  31000   \n",
       "217  love****                       [파티컵증정]고메 순살 후라이드 치킨 550gx3개  27090   \n",
       "218  love****                               고메 바삭쫄깃한 탕수육 450gx3개  28340   \n",
       "219  love****                                다담 된장찌개양념 530G X 4개  23000   \n",
       "\n",
       "                              표준카테고리       주문날짜  \n",
       "0         냉장/냉동/간편식 > 즉석밥/죽/스프 > 즉석밥 2022-01-07  \n",
       "1         냉장/냉동/간편식 > 즉석밥/죽/스프 > 즉석밥 2022-01-07  \n",
       "2                    가공식품 > 면류 > 중화면 2022-01-10  \n",
       "3            냉장/냉동/간편식 > 떡볶이/만두 > 만두 2022-01-10  \n",
       "4            냉장/냉동/간편식 > 떡볶이/만두 > 만두 2022-01-10  \n",
       "..                               ...        ...  \n",
       "215       냉장/냉동/간편식 > 즉석밥/죽/스프 > 즉석밥 2022-07-06  \n",
       "216       냉장/냉동/간편식 > 즉석밥/죽/스프 > 즉석밥 2022-07-06  \n",
       "217  냉장/냉동/간편식 > 피자/핫도그/햄버거 > 피자/햄버거 2022-07-06  \n",
       "218      냉장/냉동/간편식 > 동그랑땡/전/튀김 > 튀김류 2022-07-06  \n",
       "219            가공식품 > 장류 > 된장/쌈장/청국장 2022-07-11  \n",
       "\n",
       "[220 rows x 10 columns]"
      ]
     },
     "execution_count": 94,
     "metadata": {},
     "output_type": "execute_result"
    }
   ],
   "source": [
    "df_mem1"
   ]
  },
  {
   "cell_type": "code",
   "execution_count": 95,
   "metadata": {},
   "outputs": [
    {
     "data": {
      "text/plain": [
       "21 ~ 00    50\n",
       "15 ~ 18    37\n",
       "00 ~ 03    33\n",
       "12 ~ 15    26\n",
       "18 ~ 21    26\n",
       "09 ~ 12    23\n",
       "06 ~ 09    16\n",
       "03 ~ 06     9\n",
       "Name: 시간대 대분류, dtype: int64"
      ]
     },
     "execution_count": 95,
     "metadata": {},
     "output_type": "execute_result"
    }
   ],
   "source": [
    "df_mem1['시간대 대분류'].value_counts()"
   ]
  },
  {
   "cell_type": "code",
   "execution_count": 96,
   "metadata": {},
   "outputs": [
    {
     "data": {
      "text/plain": [
       "CJ 앱/사이트       163\n",
       "가격비교            32\n",
       "기타 및 이벤트 광고     12\n",
       "모바일 공유           8\n",
       "검색               5\n",
       "Name: 유입채널 대분류, dtype: int64"
      ]
     },
     "execution_count": 96,
     "metadata": {},
     "output_type": "execute_result"
    }
   ],
   "source": [
    "df_mem1['유입채널 대분류'].value_counts()"
   ]
  },
  {
   "cell_type": "code",
   "execution_count": 97,
   "metadata": {},
   "outputs": [
    {
     "data": {
      "text/plain": [
       "<AxesSubplot:xlabel='시간대 대분류', ylabel='count'>"
      ]
     },
     "execution_count": 97,
     "metadata": {},
     "output_type": "execute_result"
    },
    {
     "data": {
      "image/png": "[encoded data removed]",
      "text/plain": [
       "<Figure size 432x288 with 1 Axes>"
      ]
     },
     "metadata": {
      "needs_background": "light"
     },
     "output_type": "display_data"
    }
   ],
   "source": [
    "# 위 사용자는 주로 언제 주문을 할까?\n",
    "sns.countplot(x='시간대 대분류', data=df_mem1, order=['00 ~ 03', '03 ~ 06', '06 ~ 09', '09 ~ 12', '12 ~ 15', '15 ~ 18', '18 ~ 21', '21 ~ 00'])"
   ]
  },
  {
   "cell_type": "code",
   "execution_count": 98,
   "metadata": {},
   "outputs": [],
   "source": [
    "df_mem1_1 = df_mem1[df_mem1['유입채널 대분류'] == 'CJ 앱/사이트']\n",
    "# CJ 앱/사이트에서는 언제 홍보하는게 좋을까?"
   ]
  },
  {
   "cell_type": "code",
   "execution_count": 99,
   "metadata": {},
   "outputs": [
    {
     "data": {
      "text/plain": [
       "<AxesSubplot:xlabel='시간대 대분류', ylabel='count'>"
      ]
     },
     "execution_count": 99,
     "metadata": {},
     "output_type": "execute_result"
    },
    {
     "data": {
      "image/png": "[encoded data removed]",
      "text/plain": [
       "<Figure size 432x288 with 1 Axes>"
      ]
     },
     "metadata": {
      "needs_background": "light"
     },
     "output_type": "display_data"
    }
   ],
   "source": [
    "sns.countplot(x='시간대 대분류', data=df_mem1_1, order=['00 ~ 03', '03 ~ 06', '06 ~ 09', '09 ~ 12', '12 ~ 15', '15 ~ 18', '18 ~ 21', '21 ~ 00'])"
   ]
  },
  {
   "cell_type": "code",
   "execution_count": 100,
   "metadata": {},
   "outputs": [],
   "source": [
    "df_mem1_2 = df_mem1[df_mem1['유입채널 대분류'] == '가격비교']"
   ]
  },
  {
   "cell_type": "code",
   "execution_count": 101,
   "metadata": {},
   "outputs": [
    {
     "data": {
      "text/plain": [
       "<AxesSubplot:xlabel='시간대 대분류', ylabel='count'>"
      ]
     },
     "execution_count": 101,
     "metadata": {},
     "output_type": "execute_result"
    },
    {
     "data": {
      "image/png": "[encoded data removed]",
      "text/plain": [
       "<Figure size 432x288 with 1 Axes>"
      ]
     },
     "metadata": {
      "needs_background": "light"
     },
     "output_type": "display_data"
    }
   ],
   "source": [
    "sns.countplot(x='시간대 대분류', data=df_mem1_2, order=['00 ~ 03', '03 ~ 06', '06 ~ 09', '09 ~ 12', '12 ~ 15', '15 ~ 18', '18 ~ 21', '21 ~ 00'])\n",
    "# 가격비교는 언제 활성화시키는게 좋을까?"
   ]
  },
  {
   "cell_type": "markdown",
   "metadata": {},
   "source": [
    "### -> 이 회원은 주로 21 ~ 00시, 00 ~ 03시 야간 시간대에 대체로 많이 주문하며, \n",
    "### CJ 채널에서 직접 주문은 21 ~ 03시, 가격 비교로서의 주문은 12 ~ 00시에 많음을 알 수 있습니다."
   ]
  },
  {
   "cell_type": "code",
   "execution_count": 102,
   "metadata": {},
   "outputs": [
    {
     "data": {
      "text/html": [
       "<div>\n",
       "<style scoped>\n",
       "    .dataframe tbody tr th:only-of-type {\n",
       "        vertical-align: middle;\n",
       "    }\n",
       "\n",
       "    .dataframe tbody tr th {\n",
       "        vertical-align: top;\n",
       "    }\n",
       "\n",
       "    .dataframe thead th {\n",
       "        text-align: right;\n",
       "    }\n",
       "</style>\n",
       "<table border=\"1\" class=\"dataframe\">\n",
       "  <thead>\n",
       "    <tr style=\"text-align: right;\">\n",
       "      <th></th>\n",
       "      <th>주문접수일시</th>\n",
       "      <th>주문번호</th>\n",
       "      <th>유입채널 대분류</th>\n",
       "      <th>시간대 대분류</th>\n",
       "      <th>주문월</th>\n",
       "      <th>아이디</th>\n",
       "      <th>판매자상품명</th>\n",
       "      <th>판매가</th>\n",
       "      <th>표준카테고리</th>\n",
       "      <th>주문날짜</th>\n",
       "    </tr>\n",
       "  </thead>\n",
       "  <tbody>\n",
       "    <tr>\n",
       "      <th>3</th>\n",
       "      <td>2022-01-10 11:56:34</td>\n",
       "      <td>2022011013300450</td>\n",
       "      <td>CJ 앱/사이트</td>\n",
       "      <td>09 ~ 12</td>\n",
       "      <td>1</td>\n",
       "      <td>love****</td>\n",
       "      <td>[CJ직배송]CJ비비고왕교자1.05KG X 2개</td>\n",
       "      <td>19920</td>\n",
       "      <td>냉장/냉동/간편식 &gt; 떡볶이/만두 &gt; 만두</td>\n",
       "      <td>2022-01-10</td>\n",
       "    </tr>\n",
       "    <tr>\n",
       "      <th>6</th>\n",
       "      <td>2022-01-21 10:27:34</td>\n",
       "      <td>2022012114917170</td>\n",
       "      <td>CJ 앱/사이트</td>\n",
       "      <td>09 ~ 12</td>\n",
       "      <td>1</td>\n",
       "      <td>love****</td>\n",
       "      <td>CJ 비비고 사골곰탕 500g x18봉</td>\n",
       "      <td>25000</td>\n",
       "      <td>냉장/냉동/간편식 &gt; 국/탕/찌개 &gt; 국/탕</td>\n",
       "      <td>2022-01-21</td>\n",
       "    </tr>\n",
       "    <tr>\n",
       "      <th>7</th>\n",
       "      <td>2022-01-26 16:48:00</td>\n",
       "      <td>2022012615681210</td>\n",
       "      <td>CJ 앱/사이트</td>\n",
       "      <td>15 ~ 18</td>\n",
       "      <td>1</td>\n",
       "      <td>love****</td>\n",
       "      <td>[CJ직배송] 최저가 혜택! 22년 설 선물 스팸 S2호</td>\n",
       "      <td>30550</td>\n",
       "      <td>가공식품 &gt; 통조림/캔 &gt; 캔/통조림선물세트</td>\n",
       "      <td>2022-01-26</td>\n",
       "    </tr>\n",
       "    <tr>\n",
       "      <th>9</th>\n",
       "      <td>2022-02-05 18:05:15</td>\n",
       "      <td>2022020516790290</td>\n",
       "      <td>CJ 앱/사이트</td>\n",
       "      <td>18 ~ 21</td>\n",
       "      <td>2</td>\n",
       "      <td>love****</td>\n",
       "      <td>[CJ직배송]CJ 명가김 파래김 4G*16EA  X 2개</td>\n",
       "      <td>9960</td>\n",
       "      <td>수산/건어물 &gt; 김/해조류 &gt; 조미김/도시락김</td>\n",
       "      <td>2022-02-05</td>\n",
       "    </tr>\n",
       "    <tr>\n",
       "      <th>11</th>\n",
       "      <td>2022-02-08 22:40:48</td>\n",
       "      <td>2022020817414840</td>\n",
       "      <td>CJ 앱/사이트</td>\n",
       "      <td>21 ~ 00</td>\n",
       "      <td>2</td>\n",
       "      <td>love****</td>\n",
       "      <td>CJ 다담 우렁강된장비빔양념 140g x10</td>\n",
       "      <td>13800</td>\n",
       "      <td>가공식품 &gt; 소스/드레싱 &gt; 굴소스/중화요리소스</td>\n",
       "      <td>2022-02-08</td>\n",
       "    </tr>\n",
       "    <tr>\n",
       "      <th>...</th>\n",
       "      <td>...</td>\n",
       "      <td>...</td>\n",
       "      <td>...</td>\n",
       "      <td>...</td>\n",
       "      <td>...</td>\n",
       "      <td>...</td>\n",
       "      <td>...</td>\n",
       "      <td>...</td>\n",
       "      <td>...</td>\n",
       "      <td>...</td>\n",
       "    </tr>\n",
       "    <tr>\n",
       "      <th>213</th>\n",
       "      <td>2022-07-05 13:38:10</td>\n",
       "      <td>2022070517934160</td>\n",
       "      <td>CJ 앱/사이트</td>\n",
       "      <td>12 ~ 15</td>\n",
       "      <td>7</td>\n",
       "      <td>love****</td>\n",
       "      <td>[CJ직배송]다담 우렁강된장 비빔양념 x10개 + 정통된장찌개양념 x3개</td>\n",
       "      <td>15000</td>\n",
       "      <td>가공식품 &gt; 소스/드레싱 &gt; 기타소스</td>\n",
       "      <td>2022-07-05</td>\n",
       "    </tr>\n",
       "    <tr>\n",
       "      <th>214</th>\n",
       "      <td>2022-07-06 03:12:42</td>\n",
       "      <td>2022070618027370</td>\n",
       "      <td>CJ 앱/사이트</td>\n",
       "      <td>03 ~ 06</td>\n",
       "      <td>7</td>\n",
       "      <td>love****</td>\n",
       "      <td>햇반 작은공기/100% 현미밥130g x 36개[선택 1]</td>\n",
       "      <td>45000</td>\n",
       "      <td>냉장/냉동/간편식 &gt; 즉석밥/죽/스프 &gt; 즉석밥</td>\n",
       "      <td>2022-07-06</td>\n",
       "    </tr>\n",
       "    <tr>\n",
       "      <th>215</th>\n",
       "      <td>2022-07-06 03:12:42</td>\n",
       "      <td>2022070618027370</td>\n",
       "      <td>CJ 앱/사이트</td>\n",
       "      <td>03 ~ 06</td>\n",
       "      <td>7</td>\n",
       "      <td>love****</td>\n",
       "      <td>[햇반 솥반 X 서울체크인]햇반 솥반 7종</td>\n",
       "      <td>27000</td>\n",
       "      <td>냉장/냉동/간편식 &gt; 즉석밥/죽/스프 &gt; 즉석밥</td>\n",
       "      <td>2022-07-06</td>\n",
       "    </tr>\n",
       "    <tr>\n",
       "      <th>216</th>\n",
       "      <td>2022-07-06 03:12:42</td>\n",
       "      <td>2022070618027370</td>\n",
       "      <td>CJ 앱/사이트</td>\n",
       "      <td>03 ~ 06</td>\n",
       "      <td>7</td>\n",
       "      <td>love****</td>\n",
       "      <td>햇반/쿡반불고기주먹밥500G+햇반/쿡반김치치즈주먹밥500G+햇반/쿡반버터장조림주먹밥...</td>\n",
       "      <td>31000</td>\n",
       "      <td>냉장/냉동/간편식 &gt; 즉석밥/죽/스프 &gt; 즉석밥</td>\n",
       "      <td>2022-07-06</td>\n",
       "    </tr>\n",
       "    <tr>\n",
       "      <th>219</th>\n",
       "      <td>2022-07-11 16:14:08</td>\n",
       "      <td>2022071118754740</td>\n",
       "      <td>CJ 앱/사이트</td>\n",
       "      <td>15 ~ 18</td>\n",
       "      <td>7</td>\n",
       "      <td>love****</td>\n",
       "      <td>다담 된장찌개양념 530G X 4개</td>\n",
       "      <td>23000</td>\n",
       "      <td>가공식품 &gt; 장류 &gt; 된장/쌈장/청국장</td>\n",
       "      <td>2022-07-11</td>\n",
       "    </tr>\n",
       "  </tbody>\n",
       "</table>\n",
       "<p>163 rows × 10 columns</p>\n",
       "</div>"
      ],
      "text/plain": [
       "                 주문접수일시              주문번호  유입채널 대분류  시간대 대분류  주문월       아이디  \\\n",
       "3   2022-01-10 11:56:34  2022011013300450  CJ 앱/사이트  09 ~ 12    1  love****   \n",
       "6   2022-01-21 10:27:34  2022012114917170  CJ 앱/사이트  09 ~ 12    1  love****   \n",
       "7   2022-01-26 16:48:00  2022012615681210  CJ 앱/사이트  15 ~ 18    1  love****   \n",
       "9   2022-02-05 18:05:15  2022020516790290  CJ 앱/사이트  18 ~ 21    2  love****   \n",
       "11  2022-02-08 22:40:48  2022020817414840  CJ 앱/사이트  21 ~ 00    2  love****   \n",
       "..                  ...               ...       ...      ...  ...       ...   \n",
       "213 2022-07-05 13:38:10  2022070517934160  CJ 앱/사이트  12 ~ 15    7  love****   \n",
       "214 2022-07-06 03:12:42  2022070618027370  CJ 앱/사이트  03 ~ 06    7  love****   \n",
       "215 2022-07-06 03:12:42  2022070618027370  CJ 앱/사이트  03 ~ 06    7  love****   \n",
       "216 2022-07-06 03:12:42  2022070618027370  CJ 앱/사이트  03 ~ 06    7  love****   \n",
       "219 2022-07-11 16:14:08  2022071118754740  CJ 앱/사이트  15 ~ 18    7  love****   \n",
       "\n",
       "                                                판매자상품명    판매가  \\\n",
       "3                           [CJ직배송]CJ비비고왕교자1.05KG X 2개  19920   \n",
       "6                                CJ 비비고 사골곰탕 500g x18봉  25000   \n",
       "7                      [CJ직배송] 최저가 혜택! 22년 설 선물 스팸 S2호  30550   \n",
       "9                      [CJ직배송]CJ 명가김 파래김 4G*16EA  X 2개   9960   \n",
       "11                            CJ 다담 우렁강된장비빔양념 140g x10  13800   \n",
       "..                                                 ...    ...   \n",
       "213           [CJ직배송]다담 우렁강된장 비빔양념 x10개 + 정통된장찌개양념 x3개  15000   \n",
       "214                   햇반 작은공기/100% 현미밥130g x 36개[선택 1]  45000   \n",
       "215                            [햇반 솥반 X 서울체크인]햇반 솥반 7종  27000   \n",
       "216  햇반/쿡반불고기주먹밥500G+햇반/쿡반김치치즈주먹밥500G+햇반/쿡반버터장조림주먹밥...  31000   \n",
       "219                                다담 된장찌개양념 530G X 4개  23000   \n",
       "\n",
       "                         표준카테고리       주문날짜  \n",
       "3       냉장/냉동/간편식 > 떡볶이/만두 > 만두 2022-01-10  \n",
       "6      냉장/냉동/간편식 > 국/탕/찌개 > 국/탕 2022-01-21  \n",
       "7      가공식품 > 통조림/캔 > 캔/통조림선물세트 2022-01-26  \n",
       "9     수산/건어물 > 김/해조류 > 조미김/도시락김 2022-02-05  \n",
       "11   가공식품 > 소스/드레싱 > 굴소스/중화요리소스 2022-02-08  \n",
       "..                          ...        ...  \n",
       "213        가공식품 > 소스/드레싱 > 기타소스 2022-07-05  \n",
       "214  냉장/냉동/간편식 > 즉석밥/죽/스프 > 즉석밥 2022-07-06  \n",
       "215  냉장/냉동/간편식 > 즉석밥/죽/스프 > 즉석밥 2022-07-06  \n",
       "216  냉장/냉동/간편식 > 즉석밥/죽/스프 > 즉석밥 2022-07-06  \n",
       "219       가공식품 > 장류 > 된장/쌈장/청국장 2022-07-11  \n",
       "\n",
       "[163 rows x 10 columns]"
      ]
     },
     "execution_count": 102,
     "metadata": {},
     "output_type": "execute_result"
    }
   ],
   "source": [
    "df_mem1_1"
   ]
  },
  {
   "cell_type": "code",
   "execution_count": 103,
   "metadata": {},
   "outputs": [
    {
     "data": {
      "text/plain": [
       "비비고 사골곰탕 500g x18봉                                            22\n",
       "[Lpoint 1,000P 지급]햇반 작은공기, 100% 현미밥 x 36개 특가 (1,000set 한정)    14\n",
       "[CJ직배송]포도씨유 900ML X 2개                                        11\n",
       "비비고 BEST 볶음밥 3종 특가[불고기 비빔밥 + 매콤부추고기볶음밥 + 간장버터장조림볶음밥]           9\n",
       "비비고 왕교자 1.05KGx4개+비비고 찐만두 168gx1개                              8\n",
       "                                                              ..\n",
       "[CJ]비비고 왕교자 골라담기 + 수제고기만두 증정!                                  1\n",
       "[CJ직배송]해바라기씨유 900ML X 2개                                       1\n",
       "[CJ직배송] 햇반 작은공기 130GX24개                                       1\n",
       "사천마라탕면 2인분 434G x4                                             1\n",
       "비비고 삼치구이 60G                                                   1\n",
       "Name: 판매자상품명, Length: 73, dtype: int64"
      ]
     },
     "execution_count": 103,
     "metadata": {},
     "output_type": "execute_result"
    }
   ],
   "source": [
    "df_mem1_1['판매자상품명'].value_counts()"
   ]
  },
  {
   "cell_type": "code",
   "execution_count": 104,
   "metadata": {},
   "outputs": [
    {
     "data": {
      "text/plain": [
       "<AxesSubplot:xlabel='count', ylabel='판매자상품명'>"
      ]
     },
     "execution_count": 104,
     "metadata": {},
     "output_type": "execute_result"
    },
    {
     "data": {
      "image/png": "[encoded data removed]",
      "text/plain": [
       "<Figure size 864x360 with 1 Axes>"
      ]
     },
     "metadata": {
      "needs_background": "light"
     },
     "output_type": "display_data"
    }
   ],
   "source": [
    "# 상품별로 많이 사는 제품 시각화 -> 곰탕, 즉석밥, 만두, 식용유 등이 과반수를 차지하는 것을 알 수 있다.\n",
    "\n",
    "df_mem1_1_top10 = df_mem1_1['판매자상품명'].value_counts().head(10).index\n",
    "\n",
    "plt.figure(figsize=(12, 5))\n",
    "sns.countplot(y='판매자상품명', data=df_mem1_1, order=[df_mem1_1_top10[i] for i in range(0,10)])"
   ]
  },
  {
   "cell_type": "code",
   "execution_count": 105,
   "metadata": {},
   "outputs": [
    {
     "data": {
      "text/html": [
       "<div>\n",
       "<style scoped>\n",
       "    .dataframe tbody tr th:only-of-type {\n",
       "        vertical-align: middle;\n",
       "    }\n",
       "\n",
       "    .dataframe tbody tr th {\n",
       "        vertical-align: top;\n",
       "    }\n",
       "\n",
       "    .dataframe thead th {\n",
       "        text-align: right;\n",
       "    }\n",
       "</style>\n",
       "<table border=\"1\" class=\"dataframe\">\n",
       "  <thead>\n",
       "    <tr style=\"text-align: right;\">\n",
       "      <th></th>\n",
       "      <th></th>\n",
       "      <th>주문접수일시</th>\n",
       "      <th>주문번호</th>\n",
       "      <th>유입채널 대분류</th>\n",
       "      <th>주문월</th>\n",
       "      <th>아이디</th>\n",
       "      <th>판매자상품명</th>\n",
       "      <th>판매가</th>\n",
       "      <th>주문날짜</th>\n",
       "    </tr>\n",
       "    <tr>\n",
       "      <th>시간대 대분류</th>\n",
       "      <th>표준카테고리</th>\n",
       "      <th></th>\n",
       "      <th></th>\n",
       "      <th></th>\n",
       "      <th></th>\n",
       "      <th></th>\n",
       "      <th></th>\n",
       "      <th></th>\n",
       "      <th></th>\n",
       "    </tr>\n",
       "  </thead>\n",
       "  <tbody>\n",
       "    <tr>\n",
       "      <th rowspan=\"5\" valign=\"top\">00 ~ 03</th>\n",
       "      <th>가공식품 &gt; 면류 &gt; 기타면류</th>\n",
       "      <td>1</td>\n",
       "      <td>1</td>\n",
       "      <td>1</td>\n",
       "      <td>1</td>\n",
       "      <td>1</td>\n",
       "      <td>1</td>\n",
       "      <td>1</td>\n",
       "      <td>1</td>\n",
       "    </tr>\n",
       "    <tr>\n",
       "      <th>가공식품 &gt; 식용유/오일 &gt; 식용유/오일선물세트</th>\n",
       "      <td>2</td>\n",
       "      <td>2</td>\n",
       "      <td>2</td>\n",
       "      <td>2</td>\n",
       "      <td>2</td>\n",
       "      <td>2</td>\n",
       "      <td>2</td>\n",
       "      <td>2</td>\n",
       "    </tr>\n",
       "    <tr>\n",
       "      <th>가공식품 &gt; 식용유/오일 &gt; 카놀라유</th>\n",
       "      <td>1</td>\n",
       "      <td>1</td>\n",
       "      <td>1</td>\n",
       "      <td>1</td>\n",
       "      <td>1</td>\n",
       "      <td>1</td>\n",
       "      <td>1</td>\n",
       "      <td>1</td>\n",
       "    </tr>\n",
       "    <tr>\n",
       "      <th>과자/간식 &gt; 캔디/껌/캐러멜 &gt; 젤리/푸딩</th>\n",
       "      <td>1</td>\n",
       "      <td>1</td>\n",
       "      <td>1</td>\n",
       "      <td>1</td>\n",
       "      <td>1</td>\n",
       "      <td>1</td>\n",
       "      <td>1</td>\n",
       "      <td>1</td>\n",
       "    </tr>\n",
       "    <tr>\n",
       "      <th>김치/반찬 &gt; 김치 &gt; 포기김치</th>\n",
       "      <td>1</td>\n",
       "      <td>1</td>\n",
       "      <td>1</td>\n",
       "      <td>1</td>\n",
       "      <td>1</td>\n",
       "      <td>1</td>\n",
       "      <td>1</td>\n",
       "      <td>1</td>\n",
       "    </tr>\n",
       "    <tr>\n",
       "      <th>...</th>\n",
       "      <th>...</th>\n",
       "      <td>...</td>\n",
       "      <td>...</td>\n",
       "      <td>...</td>\n",
       "      <td>...</td>\n",
       "      <td>...</td>\n",
       "      <td>...</td>\n",
       "      <td>...</td>\n",
       "      <td>...</td>\n",
       "    </tr>\n",
       "    <tr>\n",
       "      <th rowspan=\"5\" valign=\"top\">21 ~ 00</th>\n",
       "      <th>냉장/냉동/간편식 &gt; 떡볶이/만두 &gt; 만두</th>\n",
       "      <td>9</td>\n",
       "      <td>9</td>\n",
       "      <td>9</td>\n",
       "      <td>9</td>\n",
       "      <td>9</td>\n",
       "      <td>9</td>\n",
       "      <td>9</td>\n",
       "      <td>9</td>\n",
       "    </tr>\n",
       "    <tr>\n",
       "      <th>냉장/냉동/간편식 &gt; 즉석밥/죽/스프 &gt; 볶음밥</th>\n",
       "      <td>1</td>\n",
       "      <td>1</td>\n",
       "      <td>1</td>\n",
       "      <td>1</td>\n",
       "      <td>1</td>\n",
       "      <td>1</td>\n",
       "      <td>1</td>\n",
       "      <td>1</td>\n",
       "    </tr>\n",
       "    <tr>\n",
       "      <th>냉장/냉동/간편식 &gt; 즉석밥/죽/스프 &gt; 즉석밥</th>\n",
       "      <td>5</td>\n",
       "      <td>5</td>\n",
       "      <td>5</td>\n",
       "      <td>5</td>\n",
       "      <td>5</td>\n",
       "      <td>5</td>\n",
       "      <td>5</td>\n",
       "      <td>5</td>\n",
       "    </tr>\n",
       "    <tr>\n",
       "      <th>정육/계란 &gt; 양념육 &gt; 기타양념육</th>\n",
       "      <td>1</td>\n",
       "      <td>1</td>\n",
       "      <td>1</td>\n",
       "      <td>1</td>\n",
       "      <td>1</td>\n",
       "      <td>1</td>\n",
       "      <td>1</td>\n",
       "      <td>1</td>\n",
       "    </tr>\n",
       "    <tr>\n",
       "      <th>커피/생수/음료 &gt; 주스/과즙음료 &gt; 과일음료</th>\n",
       "      <td>1</td>\n",
       "      <td>1</td>\n",
       "      <td>1</td>\n",
       "      <td>1</td>\n",
       "      <td>1</td>\n",
       "      <td>1</td>\n",
       "      <td>1</td>\n",
       "      <td>1</td>\n",
       "    </tr>\n",
       "  </tbody>\n",
       "</table>\n",
       "<p>72 rows × 8 columns</p>\n",
       "</div>"
      ],
      "text/plain": [
       "                                    주문접수일시  주문번호  유입채널 대분류  주문월  아이디  판매자상품명  \\\n",
       "시간대 대분류 표준카테고리                                                                 \n",
       "00 ~ 03 가공식품 > 면류 > 기타면류                 1     1         1    1    1       1   \n",
       "        가공식품 > 식용유/오일 > 식용유/오일선물세트       2     2         2    2    2       2   \n",
       "        가공식품 > 식용유/오일 > 카놀라유             1     1         1    1    1       1   \n",
       "        과자/간식 > 캔디/껌/캐러멜 > 젤리/푸딩         1     1         1    1    1       1   \n",
       "        김치/반찬 > 김치 > 포기김치                1     1         1    1    1       1   \n",
       "...                                    ...   ...       ...  ...  ...     ...   \n",
       "21 ~ 00 냉장/냉동/간편식 > 떡볶이/만두 > 만두          9     9         9    9    9       9   \n",
       "        냉장/냉동/간편식 > 즉석밥/죽/스프 > 볶음밥       1     1         1    1    1       1   \n",
       "        냉장/냉동/간편식 > 즉석밥/죽/스프 > 즉석밥       5     5         5    5    5       5   \n",
       "        정육/계란 > 양념육 > 기타양념육              1     1         1    1    1       1   \n",
       "        커피/생수/음료 > 주스/과즙음료 > 과일음료        1     1         1    1    1       1   \n",
       "\n",
       "                                    판매가  주문날짜  \n",
       "시간대 대분류 표준카테고리                                 \n",
       "00 ~ 03 가공식품 > 면류 > 기타면류              1     1  \n",
       "        가공식품 > 식용유/오일 > 식용유/오일선물세트    2     2  \n",
       "        가공식품 > 식용유/오일 > 카놀라유          1     1  \n",
       "        과자/간식 > 캔디/껌/캐러멜 > 젤리/푸딩      1     1  \n",
       "        김치/반찬 > 김치 > 포기김치             1     1  \n",
       "...                                 ...   ...  \n",
       "21 ~ 00 냉장/냉동/간편식 > 떡볶이/만두 > 만두       9     9  \n",
       "        냉장/냉동/간편식 > 즉석밥/죽/스프 > 볶음밥    1     1  \n",
       "        냉장/냉동/간편식 > 즉석밥/죽/스프 > 즉석밥    5     5  \n",
       "        정육/계란 > 양념육 > 기타양념육           1     1  \n",
       "        커피/생수/음료 > 주스/과즙음료 > 과일음료     1     1  \n",
       "\n",
       "[72 rows x 8 columns]"
      ]
     },
     "execution_count": 105,
     "metadata": {},
     "output_type": "execute_result"
    }
   ],
   "source": [
    "df_mem1_1.groupby(['시간대 대분류','표준카테고리']).count()"
   ]
  },
  {
   "cell_type": "code",
   "execution_count": 106,
   "metadata": {},
   "outputs": [
    {
     "data": {
      "text/plain": [
       "<AxesSubplot:xlabel='count', ylabel='표준카테고리'>"
      ]
     },
     "execution_count": 106,
     "metadata": {},
     "output_type": "execute_result"
    },
    {
     "data": {
      "image/png": "[encoded data removed]",
      "text/plain": [
       "<Figure size 864x720 with 1 Axes>"
      ]
     },
     "metadata": {
      "needs_background": "light"
     },
     "output_type": "display_data"
    }
   ],
   "source": [
    "# 카테고리별로 많이 사는 제품 시각화\n",
    "# 같은 상품인데도 제품별로 이름이 조금씩 다르기 때문에, 한 번 더 확인해줍니다.\n",
    "# ex. 앞에 '[2+1]'이나 '[CJ직배송]'', 내지는 '*1개, *3개' 처럼 같은 상품인데도 상품명이 다르기 때문에 카테고리로 묶어주겠습니다.\n",
    "\n",
    "df_mem1_1_top_category = df_mem1_1['표준카테고리'].value_counts().head(5).index\n",
    "plt.figure(figsize=(12, 10))\n",
    "sns.countplot(y='표준카테고리', data=df_mem1_1, order=[df_mem1_1_top_category[i] for i in range(0,5)], hue='시간대 대분류')"
   ]
  },
  {
   "cell_type": "code",
   "execution_count": 107,
   "metadata": {},
   "outputs": [
    {
     "data": {
      "text/plain": [
       "<AxesSubplot:xlabel='count', ylabel='판매자상품명'>"
      ]
     },
     "execution_count": 107,
     "metadata": {},
     "output_type": "execute_result"
    },
    {
     "data": {
      "image/png": "[encoded data removed]",
      "text/plain": [
       "<Figure size 864x720 with 1 Axes>"
      ]
     },
     "metadata": {
      "needs_background": "light"
     },
     "output_type": "display_data"
    }
   ],
   "source": [
    "df_mem1_2_top10 = df_mem1_2['판매자상품명'].value_counts().head(10).index\n",
    "\n",
    "plt.figure(figsize=(12, 10))\n",
    "sns.countplot(y='판매자상품명', data=df_mem1_2, order=[df_mem1_2_top10[i] for i in range(0,10)], hue='시간대 대분류')"
   ]
  },
  {
   "cell_type": "markdown",
   "metadata": {},
   "source": [
    "* 이 회원은 주로 즉석밥(볶음밥), 국/탕(곰탕), 만두(교자), 식용유(포도씨유)를 구매하는 것을 알 수 있으며,\n",
    "* 주문량이 많은 21 ~ 00 시에 국/탕을 살때 만두를 함께 구매하는 것으로도 볼 수 있을 것 같습니다.\n",
    "* 그가 주로 주문하는 제품(혹은 같은 카테고리 내 판매량 많은 제품)이 할인 기간이거나,\n",
    "* 국/탕과 만두를 묶음으로 판매하는 할인 이벤트를 할 때\n",
    "* CJ 앱/사이트에서는 21 ~ 03시에,\n",
    "* 가격비교 사이트에서는 12 ~ 00시 사이에 광고를 활성화하여 재구매를 유도하면 좋을 것 같습니다."
   ]
  },
  {
   "cell_type": "markdown",
   "metadata": {},
   "source": [
    "# 1. 아이디와 카테고리로 그룹화하여 개인별 구매 패턴을 확인해보겠습니다."
   ]
  },
  {
   "cell_type": "code",
   "execution_count": 108,
   "metadata": {},
   "outputs": [],
   "source": [
    "df_id_test1 = df_id.groupby(['아이디', '표준카테고리']).count()"
   ]
  },
  {
   "cell_type": "code",
   "execution_count": 109,
   "metadata": {},
   "outputs": [],
   "source": [
    "# 그래도 2번 이상 특정 회원이 특정 상품을 구매한 데이터들에 대하여 패턴을 찾는 것이 중요할 것이라고 생각하였습니다.\n",
    "# 변수별로 na 값이 아니고서야, count수가 모두 같기에, 대표하는 변수 '주문접수 일시'로 검색하였습니다.\n",
    "\n",
    "df_id_cond1 = df_id_test1[df_id_test1['주문접수일시'] >= 2]"
   ]
  },
  {
   "cell_type": "code",
   "execution_count": 110,
   "metadata": {},
   "outputs": [
    {
     "data": {
      "text/html": [
       "<div>\n",
       "<style scoped>\n",
       "    .dataframe tbody tr th:only-of-type {\n",
       "        vertical-align: middle;\n",
       "    }\n",
       "\n",
       "    .dataframe tbody tr th {\n",
       "        vertical-align: top;\n",
       "    }\n",
       "\n",
       "    .dataframe thead th {\n",
       "        text-align: right;\n",
       "    }\n",
       "</style>\n",
       "<table border=\"1\" class=\"dataframe\">\n",
       "  <thead>\n",
       "    <tr style=\"text-align: right;\">\n",
       "      <th></th>\n",
       "      <th></th>\n",
       "      <th>주문접수일시</th>\n",
       "      <th>주문번호</th>\n",
       "      <th>유입채널 대분류</th>\n",
       "      <th>시간대 대분류</th>\n",
       "      <th>주문월</th>\n",
       "      <th>판매자상품명</th>\n",
       "      <th>판매가</th>\n",
       "      <th>주문날짜</th>\n",
       "    </tr>\n",
       "    <tr>\n",
       "      <th>아이디</th>\n",
       "      <th>표준카테고리</th>\n",
       "      <th></th>\n",
       "      <th></th>\n",
       "      <th></th>\n",
       "      <th></th>\n",
       "      <th></th>\n",
       "      <th></th>\n",
       "      <th></th>\n",
       "      <th></th>\n",
       "    </tr>\n",
       "  </thead>\n",
       "  <tbody>\n",
       "    <tr>\n",
       "      <th>-_-i****</th>\n",
       "      <th>냉장/냉동/간편식 &gt; 떡볶이/만두 &gt; 만두</th>\n",
       "      <td>14</td>\n",
       "      <td>14</td>\n",
       "      <td>14</td>\n",
       "      <td>14</td>\n",
       "      <td>14</td>\n",
       "      <td>14</td>\n",
       "      <td>14</td>\n",
       "      <td>14</td>\n",
       "    </tr>\n",
       "    <tr>\n",
       "      <th>-_-ing</th>\n",
       "      <th>냉장/냉동/간편식 &gt; 떡볶이/만두 &gt; 만두</th>\n",
       "      <td>7</td>\n",
       "      <td>7</td>\n",
       "      <td>7</td>\n",
       "      <td>7</td>\n",
       "      <td>7</td>\n",
       "      <td>7</td>\n",
       "      <td>7</td>\n",
       "      <td>7</td>\n",
       "    </tr>\n",
       "    <tr>\n",
       "      <th>0107****</th>\n",
       "      <th>냉장/냉동/간편식 &gt; 즉석밥/죽/스프 &gt; 즉석밥</th>\n",
       "      <td>15</td>\n",
       "      <td>15</td>\n",
       "      <td>15</td>\n",
       "      <td>15</td>\n",
       "      <td>15</td>\n",
       "      <td>15</td>\n",
       "      <td>15</td>\n",
       "      <td>15</td>\n",
       "    </tr>\n",
       "    <tr>\n",
       "      <th>0109eun</th>\n",
       "      <th>냉장/냉동/간편식 &gt; 돈가스/고로케/너겟 &gt; 너겟</th>\n",
       "      <td>2</td>\n",
       "      <td>2</td>\n",
       "      <td>2</td>\n",
       "      <td>2</td>\n",
       "      <td>2</td>\n",
       "      <td>2</td>\n",
       "      <td>2</td>\n",
       "      <td>2</td>\n",
       "    </tr>\n",
       "    <tr>\n",
       "      <th>0111125</th>\n",
       "      <th>냉장/냉동/간편식 &gt; 즉석밥/죽/스프 &gt; 즉석밥</th>\n",
       "      <td>3</td>\n",
       "      <td>3</td>\n",
       "      <td>3</td>\n",
       "      <td>3</td>\n",
       "      <td>3</td>\n",
       "      <td>3</td>\n",
       "      <td>3</td>\n",
       "      <td>3</td>\n",
       "    </tr>\n",
       "    <tr>\n",
       "      <th>...</th>\n",
       "      <th>...</th>\n",
       "      <td>...</td>\n",
       "      <td>...</td>\n",
       "      <td>...</td>\n",
       "      <td>...</td>\n",
       "      <td>...</td>\n",
       "      <td>...</td>\n",
       "      <td>...</td>\n",
       "      <td>...</td>\n",
       "    </tr>\n",
       "    <tr>\n",
       "      <th>zzqz****</th>\n",
       "      <th>냉장/냉동/간편식 &gt; 떡볶이/만두 &gt; 만두</th>\n",
       "      <td>2</td>\n",
       "      <td>2</td>\n",
       "      <td>2</td>\n",
       "      <td>2</td>\n",
       "      <td>2</td>\n",
       "      <td>2</td>\n",
       "      <td>2</td>\n",
       "      <td>2</td>\n",
       "    </tr>\n",
       "    <tr>\n",
       "      <th>zzx1832aa</th>\n",
       "      <th>냉장/냉동/간편식 &gt; 국/탕/찌개 &gt; 국/탕</th>\n",
       "      <td>3</td>\n",
       "      <td>3</td>\n",
       "      <td>3</td>\n",
       "      <td>3</td>\n",
       "      <td>3</td>\n",
       "      <td>3</td>\n",
       "      <td>3</td>\n",
       "      <td>3</td>\n",
       "    </tr>\n",
       "    <tr>\n",
       "      <th rowspan=\"3\" valign=\"top\">zzzz****</th>\n",
       "      <th>가공식품 &gt; 식용유/오일 &gt; 식용유/오일선물세트</th>\n",
       "      <td>2</td>\n",
       "      <td>2</td>\n",
       "      <td>2</td>\n",
       "      <td>2</td>\n",
       "      <td>2</td>\n",
       "      <td>2</td>\n",
       "      <td>2</td>\n",
       "      <td>2</td>\n",
       "    </tr>\n",
       "    <tr>\n",
       "      <th>냉장/냉동/간편식 &gt; 떡볶이/만두 &gt; 만두</th>\n",
       "      <td>2</td>\n",
       "      <td>2</td>\n",
       "      <td>2</td>\n",
       "      <td>2</td>\n",
       "      <td>2</td>\n",
       "      <td>2</td>\n",
       "      <td>2</td>\n",
       "      <td>2</td>\n",
       "    </tr>\n",
       "    <tr>\n",
       "      <th>냉장/냉동/간편식 &gt; 즉석밥/죽/스프 &gt; 즉석밥</th>\n",
       "      <td>4</td>\n",
       "      <td>4</td>\n",
       "      <td>4</td>\n",
       "      <td>4</td>\n",
       "      <td>4</td>\n",
       "      <td>4</td>\n",
       "      <td>4</td>\n",
       "      <td>4</td>\n",
       "    </tr>\n",
       "  </tbody>\n",
       "</table>\n",
       "<p>6513 rows × 8 columns</p>\n",
       "</div>"
      ],
      "text/plain": [
       "                                       주문접수일시  주문번호  유입채널 대분류  시간대 대분류  주문월  \\\n",
       "아이디       표준카테고리                                                              \n",
       "-_-i****  냉장/냉동/간편식 > 떡볶이/만두 > 만두          14    14        14       14   14   \n",
       "-_-ing    냉장/냉동/간편식 > 떡볶이/만두 > 만두           7     7         7        7    7   \n",
       "0107****  냉장/냉동/간편식 > 즉석밥/죽/스프 > 즉석밥       15    15        15       15   15   \n",
       "0109eun   냉장/냉동/간편식 > 돈가스/고로케/너겟 > 너겟       2     2         2        2    2   \n",
       "0111125   냉장/냉동/간편식 > 즉석밥/죽/스프 > 즉석밥        3     3         3        3    3   \n",
       "...                                       ...   ...       ...      ...  ...   \n",
       "zzqz****  냉장/냉동/간편식 > 떡볶이/만두 > 만두           2     2         2        2    2   \n",
       "zzx1832aa 냉장/냉동/간편식 > 국/탕/찌개 > 국/탕          3     3         3        3    3   \n",
       "zzzz****  가공식품 > 식용유/오일 > 식용유/오일선물세트        2     2         2        2    2   \n",
       "          냉장/냉동/간편식 > 떡볶이/만두 > 만두           2     2         2        2    2   \n",
       "          냉장/냉동/간편식 > 즉석밥/죽/스프 > 즉석밥        4     4         4        4    4   \n",
       "\n",
       "                                       판매자상품명  판매가  주문날짜  \n",
       "아이디       표준카테고리                                          \n",
       "-_-i****  냉장/냉동/간편식 > 떡볶이/만두 > 만두          14   14    14  \n",
       "-_-ing    냉장/냉동/간편식 > 떡볶이/만두 > 만두           7    7     7  \n",
       "0107****  냉장/냉동/간편식 > 즉석밥/죽/스프 > 즉석밥       15   15    15  \n",
       "0109eun   냉장/냉동/간편식 > 돈가스/고로케/너겟 > 너겟       2    2     2  \n",
       "0111125   냉장/냉동/간편식 > 즉석밥/죽/스프 > 즉석밥        3    3     3  \n",
       "...                                       ...  ...   ...  \n",
       "zzqz****  냉장/냉동/간편식 > 떡볶이/만두 > 만두           2    2     2  \n",
       "zzx1832aa 냉장/냉동/간편식 > 국/탕/찌개 > 국/탕          3    3     3  \n",
       "zzzz****  가공식품 > 식용유/오일 > 식용유/오일선물세트        2    2     2  \n",
       "          냉장/냉동/간편식 > 떡볶이/만두 > 만두           2    2     2  \n",
       "          냉장/냉동/간편식 > 즉석밥/죽/스프 > 즉석밥        4    4     4  \n",
       "\n",
       "[6513 rows x 8 columns]"
      ]
     },
     "execution_count": 110,
     "metadata": {},
     "output_type": "execute_result"
    }
   ],
   "source": [
    "df_id_cond1"
   ]
  },
  {
   "cell_type": "code",
   "execution_count": 111,
   "metadata": {
    "scrolled": true
   },
   "outputs": [
    {
     "data": {
      "text/html": [
       "<div>\n",
       "<style scoped>\n",
       "    .dataframe tbody tr th:only-of-type {\n",
       "        vertical-align: middle;\n",
       "    }\n",
       "\n",
       "    .dataframe tbody tr th {\n",
       "        vertical-align: top;\n",
       "    }\n",
       "\n",
       "    .dataframe thead th {\n",
       "        text-align: right;\n",
       "    }\n",
       "</style>\n",
       "<table border=\"1\" class=\"dataframe\">\n",
       "  <thead>\n",
       "    <tr style=\"text-align: right;\">\n",
       "      <th></th>\n",
       "      <th></th>\n",
       "      <th>주문접수일시</th>\n",
       "      <th>주문번호</th>\n",
       "      <th>유입채널 대분류</th>\n",
       "      <th>시간대 대분류</th>\n",
       "      <th>주문월</th>\n",
       "      <th>판매자상품명</th>\n",
       "      <th>판매가</th>\n",
       "      <th>주문날짜</th>\n",
       "    </tr>\n",
       "    <tr>\n",
       "      <th>아이디</th>\n",
       "      <th>표준카테고리</th>\n",
       "      <th></th>\n",
       "      <th></th>\n",
       "      <th></th>\n",
       "      <th></th>\n",
       "      <th></th>\n",
       "      <th></th>\n",
       "      <th></th>\n",
       "      <th></th>\n",
       "    </tr>\n",
       "  </thead>\n",
       "  <tbody>\n",
       "    <tr>\n",
       "      <th>csh3718</th>\n",
       "      <th>냉장/냉동/간편식 &gt; 즉석밥/죽/스프 &gt; 즉석밥</th>\n",
       "      <td>165</td>\n",
       "      <td>165</td>\n",
       "      <td>165</td>\n",
       "      <td>165</td>\n",
       "      <td>165</td>\n",
       "      <td>165</td>\n",
       "      <td>165</td>\n",
       "      <td>165</td>\n",
       "    </tr>\n",
       "    <tr>\n",
       "      <th>jackal1104</th>\n",
       "      <th>냉장/냉동/간편식 &gt; 즉석밥/죽/스프 &gt; 즉석밥</th>\n",
       "      <td>122</td>\n",
       "      <td>122</td>\n",
       "      <td>122</td>\n",
       "      <td>122</td>\n",
       "      <td>122</td>\n",
       "      <td>122</td>\n",
       "      <td>122</td>\n",
       "      <td>122</td>\n",
       "    </tr>\n",
       "    <tr>\n",
       "      <th>urimiracle</th>\n",
       "      <th>냉장/냉동/간편식 &gt; 즉석밥/죽/스프 &gt; 즉석밥</th>\n",
       "      <td>91</td>\n",
       "      <td>91</td>\n",
       "      <td>91</td>\n",
       "      <td>91</td>\n",
       "      <td>91</td>\n",
       "      <td>91</td>\n",
       "      <td>91</td>\n",
       "      <td>91</td>\n",
       "    </tr>\n",
       "    <tr>\n",
       "      <th>dpalwl12</th>\n",
       "      <th>냉장/냉동/간편식 &gt; 즉석밥/죽/스프 &gt; 즉석밥</th>\n",
       "      <td>88</td>\n",
       "      <td>88</td>\n",
       "      <td>88</td>\n",
       "      <td>88</td>\n",
       "      <td>88</td>\n",
       "      <td>88</td>\n",
       "      <td>88</td>\n",
       "      <td>88</td>\n",
       "    </tr>\n",
       "    <tr>\n",
       "      <th>yoon****</th>\n",
       "      <th>냉장/냉동/간편식 &gt; 즉석밥/죽/스프 &gt; 즉석밥</th>\n",
       "      <td>79</td>\n",
       "      <td>79</td>\n",
       "      <td>79</td>\n",
       "      <td>79</td>\n",
       "      <td>79</td>\n",
       "      <td>79</td>\n",
       "      <td>79</td>\n",
       "      <td>79</td>\n",
       "    </tr>\n",
       "    <tr>\n",
       "      <th>...</th>\n",
       "      <th>...</th>\n",
       "      <td>...</td>\n",
       "      <td>...</td>\n",
       "      <td>...</td>\n",
       "      <td>...</td>\n",
       "      <td>...</td>\n",
       "      <td>...</td>\n",
       "      <td>...</td>\n",
       "      <td>...</td>\n",
       "    </tr>\n",
       "    <tr>\n",
       "      <th>kysw****</th>\n",
       "      <th>김치/반찬 &gt; 김치 &gt; 포기김치</th>\n",
       "      <td>2</td>\n",
       "      <td>2</td>\n",
       "      <td>2</td>\n",
       "      <td>2</td>\n",
       "      <td>2</td>\n",
       "      <td>2</td>\n",
       "      <td>2</td>\n",
       "      <td>2</td>\n",
       "    </tr>\n",
       "    <tr>\n",
       "      <th rowspan=\"2\" valign=\"top\">kyun****</th>\n",
       "      <th>가공식품 &gt; 장류 &gt; 된장/쌈장/청국장</th>\n",
       "      <td>2</td>\n",
       "      <td>2</td>\n",
       "      <td>2</td>\n",
       "      <td>2</td>\n",
       "      <td>2</td>\n",
       "      <td>2</td>\n",
       "      <td>2</td>\n",
       "      <td>2</td>\n",
       "    </tr>\n",
       "    <tr>\n",
       "      <th>냉장/냉동/간편식 &gt; 햄/소시지/베이컨 &gt; 햄/소시지</th>\n",
       "      <td>2</td>\n",
       "      <td>2</td>\n",
       "      <td>2</td>\n",
       "      <td>2</td>\n",
       "      <td>2</td>\n",
       "      <td>2</td>\n",
       "      <td>2</td>\n",
       "      <td>2</td>\n",
       "    </tr>\n",
       "    <tr>\n",
       "      <th>chanheumchol</th>\n",
       "      <th>냉장/냉동/간편식 &gt; 국/탕/찌개 &gt; 국/탕</th>\n",
       "      <td>2</td>\n",
       "      <td>2</td>\n",
       "      <td>2</td>\n",
       "      <td>2</td>\n",
       "      <td>2</td>\n",
       "      <td>2</td>\n",
       "      <td>2</td>\n",
       "      <td>2</td>\n",
       "    </tr>\n",
       "    <tr>\n",
       "      <th>ko11****</th>\n",
       "      <th>가공식품 &gt; 식용유/오일 &gt; 식용유/오일선물세트</th>\n",
       "      <td>2</td>\n",
       "      <td>2</td>\n",
       "      <td>2</td>\n",
       "      <td>2</td>\n",
       "      <td>2</td>\n",
       "      <td>2</td>\n",
       "      <td>2</td>\n",
       "      <td>2</td>\n",
       "    </tr>\n",
       "  </tbody>\n",
       "</table>\n",
       "<p>6513 rows × 8 columns</p>\n",
       "</div>"
      ],
      "text/plain": [
       "                                            주문접수일시  주문번호  유입채널 대분류  시간대 대분류  \\\n",
       "아이디          표준카테고리                                                           \n",
       "csh3718      냉장/냉동/간편식 > 즉석밥/죽/스프 > 즉석밥        165   165       165      165   \n",
       "jackal1104   냉장/냉동/간편식 > 즉석밥/죽/스프 > 즉석밥        122   122       122      122   \n",
       "urimiracle   냉장/냉동/간편식 > 즉석밥/죽/스프 > 즉석밥         91    91        91       91   \n",
       "dpalwl12     냉장/냉동/간편식 > 즉석밥/죽/스프 > 즉석밥         88    88        88       88   \n",
       "yoon****     냉장/냉동/간편식 > 즉석밥/죽/스프 > 즉석밥         79    79        79       79   \n",
       "...                                            ...   ...       ...      ...   \n",
       "kysw****     김치/반찬 > 김치 > 포기김치                   2     2         2        2   \n",
       "kyun****     가공식품 > 장류 > 된장/쌈장/청국장               2     2         2        2   \n",
       "             냉장/냉동/간편식 > 햄/소시지/베이컨 > 햄/소시지       2     2         2        2   \n",
       "chanheumchol 냉장/냉동/간편식 > 국/탕/찌개 > 국/탕            2     2         2        2   \n",
       "ko11****     가공식품 > 식용유/오일 > 식용유/오일선물세트          2     2         2        2   \n",
       "\n",
       "                                            주문월  판매자상품명  판매가  주문날짜  \n",
       "아이디          표준카테고리                                                 \n",
       "csh3718      냉장/냉동/간편식 > 즉석밥/죽/스프 > 즉석밥     165     165  165   165  \n",
       "jackal1104   냉장/냉동/간편식 > 즉석밥/죽/스프 > 즉석밥     122     122  122   122  \n",
       "urimiracle   냉장/냉동/간편식 > 즉석밥/죽/스프 > 즉석밥      91      91   91    91  \n",
       "dpalwl12     냉장/냉동/간편식 > 즉석밥/죽/스프 > 즉석밥      88      88   88    88  \n",
       "yoon****     냉장/냉동/간편식 > 즉석밥/죽/스프 > 즉석밥      79      79   79    79  \n",
       "...                                         ...     ...  ...   ...  \n",
       "kysw****     김치/반찬 > 김치 > 포기김치                2       2    2     2  \n",
       "kyun****     가공식품 > 장류 > 된장/쌈장/청국장            2       2    2     2  \n",
       "             냉장/냉동/간편식 > 햄/소시지/베이컨 > 햄/소시지    2       2    2     2  \n",
       "chanheumchol 냉장/냉동/간편식 > 국/탕/찌개 > 국/탕         2       2    2     2  \n",
       "ko11****     가공식품 > 식용유/오일 > 식용유/오일선물세트       2       2    2     2  \n",
       "\n",
       "[6513 rows x 8 columns]"
      ]
     },
     "execution_count": 111,
     "metadata": {},
     "output_type": "execute_result"
    }
   ],
   "source": [
    "df_id_cond1.sort_values(by='주문접수일시', ascending=False)"
   ]
  },
  {
   "cell_type": "code",
   "execution_count": 160,
   "metadata": {},
   "outputs": [],
   "source": [
    "df_uri = df_id[(df_id['아이디'] == 'urimiracle') & (df_id['표준카테고리'] == '냉장/냉동/간편식 > 즉석밥/죽/스프 > 즉석밥')]"
   ]
  },
  {
   "cell_type": "code",
   "execution_count": 161,
   "metadata": {},
   "outputs": [
    {
     "data": {
      "text/plain": [
       "MultiIndex([('urimiracle', '냉장/냉동/간편식 > 즉석밥/죽/스프 > 즉석밥')],\n",
       "           names=['아이디', '표준카테고리'])"
      ]
     },
     "execution_count": 161,
     "metadata": {},
     "output_type": "execute_result"
    }
   ],
   "source": [
    "# (아이디, 상품명)을 카운트하여, 예시로 urimiracle님의 데이터를 조사해보겠습니다.\n",
    "\n",
    "df_id_cond1[df_id_cond1['주문접수일시'] == 91].index"
   ]
  },
  {
   "cell_type": "code",
   "execution_count": 114,
   "metadata": {},
   "outputs": [],
   "source": [
    "df_uri = df_id[(df_id['아이디'] == 'urimiracle') & (df_id['표준카테고리'] == '냉장/냉동/간편식 > 즉석밥/죽/스프 > 즉석밥')]"
   ]
  },
  {
   "cell_type": "code",
   "execution_count": 163,
   "metadata": {},
   "outputs": [
    {
     "data": {
      "text/plain": [
       "[CJ직배송] New 햇반 210g*3입X 8개(총24개)    34\n",
       "[CJ직배송]햇반 발아현미밥 210gX36개[1박스]       28\n",
       "[CJ직배송]햇반 매일찰잡곡밥 210G*3 X6개         10\n",
       "[CJ직배송]햇반 100%현미로 지은밥 130G x36개      9\n",
       "햇반 100% 현미로 지은밥 130G*3 x12           4\n",
       "[CJ직배송]햇반 발아현미밥210g*3EA X6개          3\n",
       "CJ 햇반 큰공기 300G x18                   2\n",
       "[CJ직배송]햇반 매일콩잡곡밥 210G*3EA X6개        1\n",
       "Name: 판매자상품명, dtype: int64"
      ]
     },
     "execution_count": 163,
     "metadata": {},
     "output_type": "execute_result"
    }
   ],
   "source": [
    "df_uri['판매자상품명'].value_counts()"
   ]
  },
  {
   "cell_type": "markdown",
   "metadata": {},
   "source": [
    "### urimiracle님의 경우, 가격 비교를 통해서 주로 06~18시에 즉석밥 종류를 주문하는구나!!, -> 패턴 파악"
   ]
  },
  {
   "cell_type": "code",
   "execution_count": 164,
   "metadata": {},
   "outputs": [
    {
     "data": {
      "text/plain": [
       "가격비교        83\n",
       "CJ 앱/사이트     6\n",
       "검색           2\n",
       "Name: 유입채널 대분류, dtype: int64"
      ]
     },
     "execution_count": 164,
     "metadata": {},
     "output_type": "execute_result"
    }
   ],
   "source": [
    "df_uri['유입채널 대분류'].value_counts()"
   ]
  },
  {
   "cell_type": "code",
   "execution_count": 165,
   "metadata": {},
   "outputs": [
    {
     "data": {
      "text/plain": [
       "06 ~ 09    36\n",
       "09 ~ 12    27\n",
       "12 ~ 15    16\n",
       "15 ~ 18    12\n",
       "Name: 시간대 대분류, dtype: int64"
      ]
     },
     "execution_count": 165,
     "metadata": {},
     "output_type": "execute_result"
    }
   ],
   "source": [
    "df_uri['시간대 대분류'].value_counts()"
   ]
  },
  {
   "cell_type": "code",
   "execution_count": 118,
   "metadata": {},
   "outputs": [
    {
     "data": {
      "text/html": [
       "<div>\n",
       "<style scoped>\n",
       "    .dataframe tbody tr th:only-of-type {\n",
       "        vertical-align: middle;\n",
       "    }\n",
       "\n",
       "    .dataframe tbody tr th {\n",
       "        vertical-align: top;\n",
       "    }\n",
       "\n",
       "    .dataframe thead th {\n",
       "        text-align: right;\n",
       "    }\n",
       "</style>\n",
       "<table border=\"1\" class=\"dataframe\">\n",
       "  <thead>\n",
       "    <tr style=\"text-align: right;\">\n",
       "      <th></th>\n",
       "      <th></th>\n",
       "      <th>주문접수일시</th>\n",
       "      <th>주문번호</th>\n",
       "      <th>유입채널 대분류</th>\n",
       "      <th>시간대 대분류</th>\n",
       "      <th>주문월</th>\n",
       "      <th>아이디</th>\n",
       "      <th>표준카테고리</th>\n",
       "      <th>주문날짜</th>\n",
       "    </tr>\n",
       "    <tr>\n",
       "      <th>판매자상품명</th>\n",
       "      <th>판매가</th>\n",
       "      <th></th>\n",
       "      <th></th>\n",
       "      <th></th>\n",
       "      <th></th>\n",
       "      <th></th>\n",
       "      <th></th>\n",
       "      <th></th>\n",
       "      <th></th>\n",
       "    </tr>\n",
       "  </thead>\n",
       "  <tbody>\n",
       "    <tr>\n",
       "      <th>CJ 햇반 큰공기 300G x18</th>\n",
       "      <th>38800</th>\n",
       "      <td>2</td>\n",
       "      <td>2</td>\n",
       "      <td>2</td>\n",
       "      <td>2</td>\n",
       "      <td>2</td>\n",
       "      <td>2</td>\n",
       "      <td>2</td>\n",
       "      <td>2</td>\n",
       "    </tr>\n",
       "    <tr>\n",
       "      <th>[CJ직배송] New 햇반 210g*3입X 8개(총24개)</th>\n",
       "      <th>33000</th>\n",
       "      <td>34</td>\n",
       "      <td>34</td>\n",
       "      <td>34</td>\n",
       "      <td>34</td>\n",
       "      <td>34</td>\n",
       "      <td>34</td>\n",
       "      <td>34</td>\n",
       "      <td>34</td>\n",
       "    </tr>\n",
       "    <tr>\n",
       "      <th rowspan=\"3\" valign=\"top\">[CJ직배송]햇반 100%현미로 지은밥 130G x36개</th>\n",
       "      <th>43200</th>\n",
       "      <td>5</td>\n",
       "      <td>5</td>\n",
       "      <td>5</td>\n",
       "      <td>5</td>\n",
       "      <td>5</td>\n",
       "      <td>5</td>\n",
       "      <td>5</td>\n",
       "      <td>5</td>\n",
       "    </tr>\n",
       "    <tr>\n",
       "      <th>45000</th>\n",
       "      <td>1</td>\n",
       "      <td>1</td>\n",
       "      <td>1</td>\n",
       "      <td>1</td>\n",
       "      <td>1</td>\n",
       "      <td>1</td>\n",
       "      <td>1</td>\n",
       "      <td>1</td>\n",
       "    </tr>\n",
       "    <tr>\n",
       "      <th>60000</th>\n",
       "      <td>3</td>\n",
       "      <td>3</td>\n",
       "      <td>3</td>\n",
       "      <td>3</td>\n",
       "      <td>3</td>\n",
       "      <td>3</td>\n",
       "      <td>3</td>\n",
       "      <td>3</td>\n",
       "    </tr>\n",
       "    <tr>\n",
       "      <th>[CJ직배송]햇반 매일찰잡곡밥 210G*3 X6개</th>\n",
       "      <th>26920</th>\n",
       "      <td>10</td>\n",
       "      <td>10</td>\n",
       "      <td>10</td>\n",
       "      <td>10</td>\n",
       "      <td>10</td>\n",
       "      <td>10</td>\n",
       "      <td>10</td>\n",
       "      <td>10</td>\n",
       "    </tr>\n",
       "    <tr>\n",
       "      <th>[CJ직배송]햇반 매일콩잡곡밥 210G*3EA X6개</th>\n",
       "      <th>26920</th>\n",
       "      <td>1</td>\n",
       "      <td>1</td>\n",
       "      <td>1</td>\n",
       "      <td>1</td>\n",
       "      <td>1</td>\n",
       "      <td>1</td>\n",
       "      <td>1</td>\n",
       "      <td>1</td>\n",
       "    </tr>\n",
       "    <tr>\n",
       "      <th>[CJ직배송]햇반 발아현미밥 210gX36개[1박스]</th>\n",
       "      <th>47800</th>\n",
       "      <td>28</td>\n",
       "      <td>28</td>\n",
       "      <td>28</td>\n",
       "      <td>28</td>\n",
       "      <td>28</td>\n",
       "      <td>28</td>\n",
       "      <td>28</td>\n",
       "      <td>28</td>\n",
       "    </tr>\n",
       "    <tr>\n",
       "      <th>[CJ직배송]햇반 발아현미밥210g*3EA X6개</th>\n",
       "      <th>28770</th>\n",
       "      <td>3</td>\n",
       "      <td>3</td>\n",
       "      <td>3</td>\n",
       "      <td>3</td>\n",
       "      <td>3</td>\n",
       "      <td>3</td>\n",
       "      <td>3</td>\n",
       "      <td>3</td>\n",
       "    </tr>\n",
       "    <tr>\n",
       "      <th>햇반 100% 현미로 지은밥 130G*3 x12</th>\n",
       "      <th>53000</th>\n",
       "      <td>4</td>\n",
       "      <td>4</td>\n",
       "      <td>4</td>\n",
       "      <td>4</td>\n",
       "      <td>4</td>\n",
       "      <td>4</td>\n",
       "      <td>4</td>\n",
       "      <td>4</td>\n",
       "    </tr>\n",
       "  </tbody>\n",
       "</table>\n",
       "</div>"
      ],
      "text/plain": [
       "                                        주문접수일시  주문번호  유입채널 대분류  시간대 대분류  주문월  \\\n",
       "판매자상품명                           판매가                                           \n",
       "CJ 햇반 큰공기 300G x18               38800       2     2         2        2    2   \n",
       "[CJ직배송] New 햇반 210g*3입X 8개(총24개) 33000      34    34        34       34   34   \n",
       "[CJ직배송]햇반 100%현미로 지은밥 130G x36개  43200       5     5         5        5    5   \n",
       "                                 45000       1     1         1        1    1   \n",
       "                                 60000       3     3         3        3    3   \n",
       "[CJ직배송]햇반 매일찰잡곡밥 210G*3 X6개      26920      10    10        10       10   10   \n",
       "[CJ직배송]햇반 매일콩잡곡밥 210G*3EA X6개    26920       1     1         1        1    1   \n",
       "[CJ직배송]햇반 발아현미밥 210gX36개[1박스]    47800      28    28        28       28   28   \n",
       "[CJ직배송]햇반 발아현미밥210g*3EA X6개      28770       3     3         3        3    3   \n",
       "햇반 100% 현미로 지은밥 130G*3 x12       53000       4     4         4        4    4   \n",
       "\n",
       "                                        아이디  표준카테고리  주문날짜  \n",
       "판매자상품명                           판매가                       \n",
       "CJ 햇반 큰공기 300G x18               38800    2       2     2  \n",
       "[CJ직배송] New 햇반 210g*3입X 8개(총24개) 33000   34      34    34  \n",
       "[CJ직배송]햇반 100%현미로 지은밥 130G x36개  43200    5       5     5  \n",
       "                                 45000    1       1     1  \n",
       "                                 60000    3       3     3  \n",
       "[CJ직배송]햇반 매일찰잡곡밥 210G*3 X6개      26920   10      10    10  \n",
       "[CJ직배송]햇반 매일콩잡곡밥 210G*3EA X6개    26920    1       1     1  \n",
       "[CJ직배송]햇반 발아현미밥 210gX36개[1박스]    47800   28      28    28  \n",
       "[CJ직배송]햇반 발아현미밥210g*3EA X6개      28770    3       3     3  \n",
       "햇반 100% 현미로 지은밥 130G*3 x12       53000    4       4     4  "
      ]
     },
     "execution_count": 118,
     "metadata": {},
     "output_type": "execute_result"
    }
   ],
   "source": [
    "# 판매가는 대략 어느 정도에서 형성하거나, 할인하는 것이 좋을까?\n",
    "\n",
    "df_chs.groupby(['판매자상품명', '판매가']).count()"
   ]
  },
  {
   "cell_type": "markdown",
   "metadata": {
    "id": "YJKelu4fnn5g"
   },
   "source": [
    "가격비교로 구매한 상품 중 많이 산 상품을 파악해서 가격대를 모니터링한다."
   ]
  },
  {
   "cell_type": "code",
   "execution_count": 119,
   "metadata": {},
   "outputs": [
    {
     "data": {
      "text/html": [
       "<div>\n",
       "<style scoped>\n",
       "    .dataframe tbody tr th:only-of-type {\n",
       "        vertical-align: middle;\n",
       "    }\n",
       "\n",
       "    .dataframe tbody tr th {\n",
       "        vertical-align: top;\n",
       "    }\n",
       "\n",
       "    .dataframe thead th {\n",
       "        text-align: right;\n",
       "    }\n",
       "</style>\n",
       "<table border=\"1\" class=\"dataframe\">\n",
       "  <thead>\n",
       "    <tr style=\"text-align: right;\">\n",
       "      <th></th>\n",
       "      <th>주문접수일시</th>\n",
       "      <th>주문번호</th>\n",
       "      <th>유입채널 대분류</th>\n",
       "      <th>시간대 대분류</th>\n",
       "      <th>주문월</th>\n",
       "      <th>아이디</th>\n",
       "      <th>판매자상품명</th>\n",
       "      <th>판매가</th>\n",
       "      <th>표준카테고리</th>\n",
       "      <th>주문날짜</th>\n",
       "    </tr>\n",
       "  </thead>\n",
       "  <tbody>\n",
       "    <tr>\n",
       "      <th>0</th>\n",
       "      <td>2022-01-07 06:55:35</td>\n",
       "      <td>2022010712865550</td>\n",
       "      <td>가격비교</td>\n",
       "      <td>06 ~ 09</td>\n",
       "      <td>1</td>\n",
       "      <td>love****</td>\n",
       "      <td>[CJ직배송] CJ 햇반 매일잡곡밥 210g x 24개</td>\n",
       "      <td>36000</td>\n",
       "      <td>냉장/냉동/간편식 &gt; 즉석밥/죽/스프 &gt; 즉석밥</td>\n",
       "      <td>2022-01-07</td>\n",
       "    </tr>\n",
       "    <tr>\n",
       "      <th>1</th>\n",
       "      <td>2022-01-07 06:57:53</td>\n",
       "      <td>2022010712865630</td>\n",
       "      <td>가격비교</td>\n",
       "      <td>06 ~ 09</td>\n",
       "      <td>1</td>\n",
       "      <td>love****</td>\n",
       "      <td>[CJ직배송] CJ 햇반 매일잡곡밥 210g x 24개</td>\n",
       "      <td>36000</td>\n",
       "      <td>냉장/냉동/간편식 &gt; 즉석밥/죽/스프 &gt; 즉석밥</td>\n",
       "      <td>2022-01-07</td>\n",
       "    </tr>\n",
       "    <tr>\n",
       "      <th>2</th>\n",
       "      <td>2022-01-10 09:36:32</td>\n",
       "      <td>2022011013280040</td>\n",
       "      <td>검색</td>\n",
       "      <td>09 ~ 12</td>\n",
       "      <td>1</td>\n",
       "      <td>love****</td>\n",
       "      <td>CJ 고메 중화짜장 760Gx3개</td>\n",
       "      <td>21530</td>\n",
       "      <td>가공식품 &gt; 면류 &gt; 중화면</td>\n",
       "      <td>2022-01-10</td>\n",
       "    </tr>\n",
       "    <tr>\n",
       "      <th>3</th>\n",
       "      <td>2022-01-10 11:56:34</td>\n",
       "      <td>2022011013300450</td>\n",
       "      <td>CJ 앱/사이트</td>\n",
       "      <td>09 ~ 12</td>\n",
       "      <td>1</td>\n",
       "      <td>love****</td>\n",
       "      <td>[CJ직배송]CJ비비고왕교자1.05KG X 2개</td>\n",
       "      <td>19920</td>\n",
       "      <td>냉장/냉동/간편식 &gt; 떡볶이/만두 &gt; 만두</td>\n",
       "      <td>2022-01-10</td>\n",
       "    </tr>\n",
       "    <tr>\n",
       "      <th>4</th>\n",
       "      <td>2022-01-10 16:28:22</td>\n",
       "      <td>2022011013337260</td>\n",
       "      <td>가격비교</td>\n",
       "      <td>15 ~ 18</td>\n",
       "      <td>1</td>\n",
       "      <td>love****</td>\n",
       "      <td>[CJ직배송]쉐프솔루션 고기만땅왕교자 1.05KG X3개</td>\n",
       "      <td>20940</td>\n",
       "      <td>냉장/냉동/간편식 &gt; 떡볶이/만두 &gt; 만두</td>\n",
       "      <td>2022-01-10</td>\n",
       "    </tr>\n",
       "    <tr>\n",
       "      <th>...</th>\n",
       "      <td>...</td>\n",
       "      <td>...</td>\n",
       "      <td>...</td>\n",
       "      <td>...</td>\n",
       "      <td>...</td>\n",
       "      <td>...</td>\n",
       "      <td>...</td>\n",
       "      <td>...</td>\n",
       "      <td>...</td>\n",
       "      <td>...</td>\n",
       "    </tr>\n",
       "    <tr>\n",
       "      <th>34705</th>\n",
       "      <td>2022-06-08 19:13:02</td>\n",
       "      <td>2022060814395670</td>\n",
       "      <td>CJ 앱/사이트</td>\n",
       "      <td>18 ~ 21</td>\n",
       "      <td>6</td>\n",
       "      <td>casc****</td>\n",
       "      <td>육개장 X 5개 + 사골곰탕 X2개 +육개장300g 증정</td>\n",
       "      <td>24000</td>\n",
       "      <td>냉장/냉동/간편식 &gt; 국/탕/찌개 &gt; 국/탕</td>\n",
       "      <td>2022-06-08</td>\n",
       "    </tr>\n",
       "    <tr>\n",
       "      <th>34706</th>\n",
       "      <td>2022-06-25 17:55:19</td>\n",
       "      <td>2022062516572530</td>\n",
       "      <td>CJ 앱/사이트</td>\n",
       "      <td>15 ~ 18</td>\n",
       "      <td>6</td>\n",
       "      <td>casc****</td>\n",
       "      <td>[CJ직배송]햇반 매일찰잡곡밥 210G*3 X6개</td>\n",
       "      <td>26920</td>\n",
       "      <td>냉장/냉동/간편식 &gt; 즉석밥/죽/스프 &gt; 즉석밥</td>\n",
       "      <td>2022-06-25</td>\n",
       "    </tr>\n",
       "    <tr>\n",
       "      <th>34707</th>\n",
       "      <td>2022-03-15 21:52:39</td>\n",
       "      <td>2022031512208870</td>\n",
       "      <td>CJ 앱/사이트</td>\n",
       "      <td>21 ~ 00</td>\n",
       "      <td>3</td>\n",
       "      <td>okji****</td>\n",
       "      <td>[CJ직배송] 햇반 작은공기 130GX24개</td>\n",
       "      <td>36800</td>\n",
       "      <td>냉장/냉동/간편식 &gt; 즉석밥/죽/스프 &gt; 즉석밥</td>\n",
       "      <td>2022-03-15</td>\n",
       "    </tr>\n",
       "    <tr>\n",
       "      <th>34708</th>\n",
       "      <td>2022-06-09 23:00:26</td>\n",
       "      <td>2022060914561580</td>\n",
       "      <td>CJ 앱/사이트</td>\n",
       "      <td>21 ~ 00</td>\n",
       "      <td>6</td>\n",
       "      <td>okji****</td>\n",
       "      <td>미역국 X 5개 + 사골곰탕 X2개+ 영양꼬리곰탕 1봉 증정</td>\n",
       "      <td>22000</td>\n",
       "      <td>냉장/냉동/간편식 &gt; 국/탕/찌개 &gt; 국/탕</td>\n",
       "      <td>2022-06-09</td>\n",
       "    </tr>\n",
       "    <tr>\n",
       "      <th>34709</th>\n",
       "      <td>2022-06-09 23:00:26</td>\n",
       "      <td>2022060914561580</td>\n",
       "      <td>CJ 앱/사이트</td>\n",
       "      <td>21 ~ 00</td>\n",
       "      <td>6</td>\n",
       "      <td>okji****</td>\n",
       "      <td>[CJ직배송]CJ 꼬마 돈까스 400G X3개</td>\n",
       "      <td>15890</td>\n",
       "      <td>냉장/냉동/간편식 &gt; 돈가스/고로케/너겟 &gt; 돈가스</td>\n",
       "      <td>2022-06-09</td>\n",
       "    </tr>\n",
       "  </tbody>\n",
       "</table>\n",
       "<p>34710 rows × 10 columns</p>\n",
       "</div>"
      ],
      "text/plain": [
       "                   주문접수일시              주문번호  유입채널 대분류  시간대 대분류  주문월       아이디  \\\n",
       "0     2022-01-07 06:55:35  2022010712865550      가격비교  06 ~ 09    1  love****   \n",
       "1     2022-01-07 06:57:53  2022010712865630      가격비교  06 ~ 09    1  love****   \n",
       "2     2022-01-10 09:36:32  2022011013280040        검색  09 ~ 12    1  love****   \n",
       "3     2022-01-10 11:56:34  2022011013300450  CJ 앱/사이트  09 ~ 12    1  love****   \n",
       "4     2022-01-10 16:28:22  2022011013337260      가격비교  15 ~ 18    1  love****   \n",
       "...                   ...               ...       ...      ...  ...       ...   \n",
       "34705 2022-06-08 19:13:02  2022060814395670  CJ 앱/사이트  18 ~ 21    6  casc****   \n",
       "34706 2022-06-25 17:55:19  2022062516572530  CJ 앱/사이트  15 ~ 18    6  casc****   \n",
       "34707 2022-03-15 21:52:39  2022031512208870  CJ 앱/사이트  21 ~ 00    3  okji****   \n",
       "34708 2022-06-09 23:00:26  2022060914561580  CJ 앱/사이트  21 ~ 00    6  okji****   \n",
       "34709 2022-06-09 23:00:26  2022060914561580  CJ 앱/사이트  21 ~ 00    6  okji****   \n",
       "\n",
       "                                  판매자상품명    판매가                        표준카테고리  \\\n",
       "0         [CJ직배송] CJ 햇반 매일잡곡밥 210g x 24개  36000    냉장/냉동/간편식 > 즉석밥/죽/스프 > 즉석밥   \n",
       "1         [CJ직배송] CJ 햇반 매일잡곡밥 210g x 24개  36000    냉장/냉동/간편식 > 즉석밥/죽/스프 > 즉석밥   \n",
       "2                     CJ 고메 중화짜장 760Gx3개  21530               가공식품 > 면류 > 중화면   \n",
       "3             [CJ직배송]CJ비비고왕교자1.05KG X 2개  19920       냉장/냉동/간편식 > 떡볶이/만두 > 만두   \n",
       "4        [CJ직배송]쉐프솔루션 고기만땅왕교자 1.05KG X3개  20940       냉장/냉동/간편식 > 떡볶이/만두 > 만두   \n",
       "...                                  ...    ...                           ...   \n",
       "34705    육개장 X 5개 + 사골곰탕 X2개 +육개장300g 증정  24000      냉장/냉동/간편식 > 국/탕/찌개 > 국/탕   \n",
       "34706        [CJ직배송]햇반 매일찰잡곡밥 210G*3 X6개  26920    냉장/냉동/간편식 > 즉석밥/죽/스프 > 즉석밥   \n",
       "34707           [CJ직배송] 햇반 작은공기 130GX24개  36800    냉장/냉동/간편식 > 즉석밥/죽/스프 > 즉석밥   \n",
       "34708  미역국 X 5개 + 사골곰탕 X2개+ 영양꼬리곰탕 1봉 증정  22000      냉장/냉동/간편식 > 국/탕/찌개 > 국/탕   \n",
       "34709          [CJ직배송]CJ 꼬마 돈까스 400G X3개  15890  냉장/냉동/간편식 > 돈가스/고로케/너겟 > 돈가스   \n",
       "\n",
       "            주문날짜  \n",
       "0     2022-01-07  \n",
       "1     2022-01-07  \n",
       "2     2022-01-10  \n",
       "3     2022-01-10  \n",
       "4     2022-01-10  \n",
       "...          ...  \n",
       "34705 2022-06-08  \n",
       "34706 2022-06-25  \n",
       "34707 2022-03-15  \n",
       "34708 2022-06-09  \n",
       "34709 2022-06-09  \n",
       "\n",
       "[34710 rows x 10 columns]"
      ]
     },
     "execution_count": 119,
     "metadata": {},
     "output_type": "execute_result"
    }
   ],
   "source": [
    "df_id"
   ]
  },
  {
   "cell_type": "code",
   "execution_count": 120,
   "metadata": {},
   "outputs": [
    {
     "data": {
      "text/plain": [
       "<AxesSubplot:xlabel='시간대 대분류', ylabel='count'>"
      ]
     },
     "execution_count": 120,
     "metadata": {},
     "output_type": "execute_result"
    },
    {
     "data": {
      "image/png": "[encoded data removed]",
      "text/plain": [
       "<Figure size 432x288 with 1 Axes>"
      ]
     },
     "metadata": {
      "needs_background": "light"
     },
     "output_type": "display_data"
    }
   ],
   "source": [
    "sns.countplot(x = '시간대 대분류', data = df_id, order=['00 ~ 03', '03 ~ 06', '06 ~ 09', '09 ~ 12', '12 ~ 15', '15 ~ 18', '18 ~ 21', '21 ~ 00']) #잠들기 전 시간인 21-00시를 노리자"
   ]
  },
  {
   "cell_type": "code",
   "execution_count": 121,
   "metadata": {},
   "outputs": [
    {
     "data": {
      "text/plain": [
       "판매자상품명\n",
       "비비고 사골곰탕 500g x18봉                                            1919\n",
       "[CJ직배송]포도씨유 900ML X 2개                                        1500\n",
       "[Lpoint 1,000P 지급]햇반 작은공기, 100% 현미밥 x 36개 특가 (1,000set 한정)    1426\n",
       "[CJ직배송] CJ 햇반 백미 210g x 36개                                   1407\n",
       "비비고 BEST 볶음밥 3종 특가[불고기 비빔밥 + 매콤부추고기볶음밥 + 간장버터장조림볶음밥]          1125\n",
       "CJ 햇반 쿡반 주먹밥 5종 골라담기                                           861\n",
       "[CJ직배송]햇반작은공기130G x36개                                         715\n",
       "[CJ직배송] New 햇반 210g*3입X 8개(총24개)                               715\n",
       "비비고 왕교자 1.05KGx4개+비비고 찐만두 168gx1개                              591\n",
       "햇반 작은공기/100% 현미밥130g x 36개                                     554\n",
       "[6+3+5%추가쿠폰]비비고 프리미엄 죽 6개 골라담기 +보양닭백숙죽 3개 증정                   534\n",
       "CJ 스팸 25%라이트/ 스팸클래식 4개 골라담기 [ 택 1]                             506\n",
       "[CJ직배송][CJ] 비비고 왕교자1.05KG X 3봉 + 수제고기만두 증정                     495\n",
       "[6+3]비비고 프리미엄 죽 6개 골라담기 +통단팥죽 3개 증정                            488\n",
       "미역국 X 5개 + 사골곰탕 X2개+ 육개장300g 2봉 증정(증정품 유통기한 22년 10월 7일까지)      439\n",
       "[CJ직배송]햇반 흑미밥 210gX36개[1박스]                                    419\n",
       "[CJ직배송]백설100%통참깨참기름300ML X 2개                                  406\n",
       "[2+1][3+2]CJ제일제당 쁘띠첼 미초 석류+청포도+복숭아 外 골라담기                      390\n",
       "[전참시 속 보양식사]누룽지닭백숙죽/전복삼계죽/녹두닭죽 外 + 보양닭백숙죽 증정                   382\n",
       "왕교자 1.05kgx2 + 김치왕교자 420gx2                                    302\n",
       "Name: 주문번호, dtype: int64"
      ]
     },
     "execution_count": 121,
     "metadata": {},
     "output_type": "execute_result"
    }
   ],
   "source": [
    "df_id.groupby('판매자상품명')['주문번호'].count().sort_values(ascending=False)[:20]"
   ]
  },
  {
   "cell_type": "code",
   "execution_count": 122,
   "metadata": {},
   "outputs": [
    {
     "data": {
      "text/plain": [
       "표준카테고리\n",
       "냉장/냉동/간편식 > 즉석밥/죽/스프 > 즉석밥       11318\n",
       "냉장/냉동/간편식 > 국/탕/찌개 > 국/탕          3859\n",
       "냉장/냉동/간편식 > 떡볶이/만두 > 만두           3383\n",
       "냉장/냉동/간편식 > 즉석밥/죽/스프 > 볶음밥        1903\n",
       "냉장/냉동/간편식 > 돈가스/고로케/너겟 > 돈가스      1673\n",
       "가공식품 > 식용유/오일 > 식용유/오일선물세트        1480\n",
       "과자/간식 > 캔디/껌/캐러멜 > 젤리/푸딩           952\n",
       "가공식품 > 장류 > 고추장/초고추장               837\n",
       "가공식품 > 식용유/오일 > 카놀라유               729\n",
       "가공식품 > 소스/드레싱 > 기타소스               712\n",
       "가공식품 > 장류 > 된장/쌈장/청국장              709\n",
       "가공식품 > 면류 > 기타면류                   685\n",
       "가공식품 > 통조림/캔 > 캔/통조림선물세트           656\n",
       "김치/반찬 > 김치 > 포기김치                  648\n",
       "가공식품 > 통조림/캔 > 햄통조림                573\n",
       "냉장/냉동/간편식 > 햄/소시지/베이컨 > 햄/소시지      452\n",
       "냉장/냉동/간편식 > 피자/핫도그/햄버거 > 핫도그       427\n",
       "가공식품 > 소스/드레싱 > 굴소스/중화요리소스         392\n",
       "가공식품 > 조미료/양념 > 가공조미료              375\n",
       "김치/반찬 > 반찬 > 기타반찬                  286\n",
       "Name: 주문번호, dtype: int64"
      ]
     },
     "execution_count": 122,
     "metadata": {},
     "output_type": "execute_result"
    }
   ],
   "source": [
    "df_id.groupby('표준카테고리')['주문번호'].count().sort_values(ascending=False)[:20]"
   ]
  },
  {
   "cell_type": "markdown",
   "metadata": {},
   "source": [
    "# 각 월마다 21-00시가 제일 많다."
   ]
  },
  {
   "cell_type": "markdown",
   "metadata": {},
   "source": [
    "# 1월"
   ]
  },
  {
   "cell_type": "code",
   "execution_count": 123,
   "metadata": {},
   "outputs": [],
   "source": [
    "df_id_1=df_id[df_id['주문월']==1]"
   ]
  },
  {
   "cell_type": "code",
   "execution_count": 124,
   "metadata": {},
   "outputs": [
    {
     "data": {
      "text/plain": [
       "<AxesSubplot:xlabel='시간대 대분류', ylabel='count'>"
      ]
     },
     "execution_count": 124,
     "metadata": {},
     "output_type": "execute_result"
    },
    {
     "data": {
      "image/png": "[encoded data removed]",
      "text/plain": [
       "<Figure size 432x288 with 1 Axes>"
      ]
     },
     "metadata": {
      "needs_background": "light"
     },
     "output_type": "display_data"
    }
   ],
   "source": [
    "sns.countplot(x = '시간대 대분류', data = df_id_1, order=['00 ~ 03', '03 ~ 06', '06 ~ 09', '09 ~ 12', '12 ~ 15', '15 ~ 18', '18 ~ 21', '21 ~ 00'])"
   ]
  },
  {
   "cell_type": "code",
   "execution_count": 125,
   "metadata": {},
   "outputs": [
    {
     "data": {
      "text/plain": [
       "판매자상품명\n",
       "[CJ직배송]CJ비비고왕교자1.05KG X 2개           87\n",
       "CJ 비비고 사골곰탕 500g x18봉                61\n",
       "[CJ직배송][22년 설 선물세트]스팸마일드8호           59\n",
       "[CJ직배송]특별한선택 Y호                      54\n",
       "[CJ직배송]포도씨유 900ML X 2개               43\n",
       "[CJ직배송][22년 설 선물세트]스팸3호              33\n",
       "CJ 다담 된장찌개양념 530G X 4개               32\n",
       "[CJ직배송]더건강한 닭가슴살 직화 통살구이100G X 6개    26\n",
       "CJ 비비고 새우볶음밥 420g x3                 25\n",
       "CJ 비비고 차돌깍두기볶음밥 410g x3              24\n",
       "Name: 주문번호, dtype: int64"
      ]
     },
     "execution_count": 125,
     "metadata": {},
     "output_type": "execute_result"
    }
   ],
   "source": [
    "df_id_1.groupby('판매자상품명')['주문번호'].count().sort_values(ascending=False)[:10]"
   ]
  },
  {
   "cell_type": "code",
   "execution_count": 126,
   "metadata": {},
   "outputs": [
    {
     "data": {
      "text/plain": [
       "표준카테고리\n",
       "가공식품 > 통조림/캔 > 캔/통조림선물세트         234\n",
       "냉장/냉동/간편식 > 떡볶이/만두 > 만두          195\n",
       "냉장/냉동/간편식 > 즉석밥/죽/스프 > 즉석밥       102\n",
       "냉장/냉동/간편식 > 국/탕/찌개 > 국/탕          92\n",
       "냉장/냉동/간편식 > 즉석밥/죽/스프 > 볶음밥        80\n",
       "냉장/냉동/간편식 > 햄/소시지/베이컨 > 햄/소시지     75\n",
       "가공식품 > 장류 > 된장/쌈장/청국장             68\n",
       "가공식품 > 식용유/오일 > 카놀라유              61\n",
       "김치/반찬 > 반찬 > 기타반찬                 58\n",
       "가공식품 > 소스/드레싱 > 굴소스/중화요리소스        52\n",
       "Name: 주문번호, dtype: int64"
      ]
     },
     "execution_count": 126,
     "metadata": {},
     "output_type": "execute_result"
    }
   ],
   "source": [
    "df_id_1.groupby('표준카테고리')['주문번호'].count().sort_values(ascending=False)[:10]"
   ]
  },
  {
   "cell_type": "markdown",
   "metadata": {},
   "source": [
    "# 2월"
   ]
  },
  {
   "cell_type": "code",
   "execution_count": 127,
   "metadata": {},
   "outputs": [],
   "source": [
    "df_id_2=df_id[df_id['주문월']==2]"
   ]
  },
  {
   "cell_type": "code",
   "execution_count": 128,
   "metadata": {},
   "outputs": [
    {
     "data": {
      "text/plain": [
       "<AxesSubplot:xlabel='시간대 대분류', ylabel='count'>"
      ]
     },
     "execution_count": 128,
     "metadata": {},
     "output_type": "execute_result"
    },
    {
     "data": {
      "image/png": "[encoded data removed]",
      "text/plain": [
       "<Figure size 432x288 with 1 Axes>"
      ]
     },
     "metadata": {
      "needs_background": "light"
     },
     "output_type": "display_data"
    }
   ],
   "source": [
    "sns.countplot(x = '시간대 대분류', data = df_id_2, order=['00 ~ 03', '03 ~ 06', '06 ~ 09', '09 ~ 12', '12 ~ 15', '15 ~ 18', '18 ~ 21', '21 ~ 00'])"
   ]
  },
  {
   "cell_type": "code",
   "execution_count": 129,
   "metadata": {},
   "outputs": [
    {
     "data": {
      "text/plain": [
       "판매자상품명\n",
       "[CJ]비비고 왕교자 골라담기 + 수제고기만두 증정!              22\n",
       "[CJ직배송] CJ 고메 함박스테이크 152gx10개              21\n",
       "CJ 다담 부대찌개양념 140g x10                      19\n",
       "[특가+증정] CJ 비비고 왕교자 1.05kg X 3개 + 찐만두 증정    19\n",
       "CJ 고메 바삭튀겨낸통등심돈카츠 450Gx3개                  18\n",
       "CJ 다담 순두부찌개 양념 140g x10                    17\n",
       "CJ 비비고 사골곰탕 500g x18봉                      15\n",
       "CJ 고메 바삭튀겨낸모짜렐라돈카츠 450Gx3개                 15\n",
       "[CJ직배송]다담 순두부찌개양념 130G X10개                14\n",
       "[CJ직배송]CJ비비고왕교자1.05KG X 2개                 13\n",
       "Name: 주문번호, dtype: int64"
      ]
     },
     "execution_count": 129,
     "metadata": {},
     "output_type": "execute_result"
    }
   ],
   "source": [
    "df_id_2.groupby('판매자상품명')['주문번호'].count().sort_values(ascending=False)[:10]"
   ]
  },
  {
   "cell_type": "code",
   "execution_count": 130,
   "metadata": {},
   "outputs": [
    {
     "data": {
      "text/plain": [
       "표준카테고리\n",
       "냉장/냉동/간편식 > 떡볶이/만두 > 만두            172\n",
       "가공식품 > 소스/드레싱 > 굴소스/중화요리소스          87\n",
       "냉장/냉동/간편식 > 즉석밥/죽/스프 > 즉석밥          63\n",
       "냉장/냉동/간편식 > 국/탕/찌개 > 국/탕            58\n",
       "냉장/냉동/간편식 > 돈가스/고로케/너겟 > 돈가스        41\n",
       "냉장/냉동/간편식 > 즉석밥/죽/스프 > 볶음밥          38\n",
       "정육/계란 > 양념육 > 기타양념육                 35\n",
       "냉장/냉동/간편식 > 햄/소시지/베이컨 > 햄/소시지       28\n",
       "냉장/냉동/간편식 > 피자/핫도그/햄버거 > 피자/햄버거     26\n",
       "김치/반찬 > 김치 > 포기김치                   22\n",
       "Name: 주문번호, dtype: int64"
      ]
     },
     "execution_count": 130,
     "metadata": {},
     "output_type": "execute_result"
    }
   ],
   "source": [
    "df_id_2.groupby('표준카테고리')['주문번호'].count().sort_values(ascending=False)[:10]"
   ]
  },
  {
   "cell_type": "markdown",
   "metadata": {},
   "source": [
    "# 3월"
   ]
  },
  {
   "cell_type": "code",
   "execution_count": 131,
   "metadata": {},
   "outputs": [
    {
     "data": {
      "text/plain": [
       "<AxesSubplot:xlabel='시간대 대분류', ylabel='count'>"
      ]
     },
     "execution_count": 131,
     "metadata": {},
     "output_type": "execute_result"
    },
    {
     "data": {
      "image/png": "[encoded data removed]",
      "text/plain": [
       "<Figure size 432x288 with 1 Axes>"
      ]
     },
     "metadata": {
      "needs_background": "light"
     },
     "output_type": "display_data"
    }
   ],
   "source": [
    "df_id_3=df_id[df_id['주문월']==3]\n",
    "sns.countplot(x = '시간대 대분류', data = df_id_3, order=['00 ~ 03', '03 ~ 06', '06 ~ 09', '09 ~ 12', '12 ~ 15', '15 ~ 18', '18 ~ 21', '21 ~ 00'])"
   ]
  },
  {
   "cell_type": "code",
   "execution_count": 132,
   "metadata": {},
   "outputs": [
    {
     "data": {
      "text/plain": [
       "판매자상품명\n",
       "[CJ직배송][CJ] 비비고 왕교자1.05KG X 3봉 + 수제고기만두 증정    484\n",
       "천일염 소금/ 사골곰탕/비비고 죽/더비비고 특가 골라담기               130\n",
       "[특가+증정] CJ 비비고 왕교자 1.05kg X 3개 + 찐만두 증정        55\n",
       "고메 바삭쫄깃한 탕수육 450gx3개                           33\n",
       "비비고 사골곰탕 500g X18                              29\n",
       "CJ 브랜드데이 특가! 소금, 사골곰탕, 비비고 죽, 더비비고 최저가 보장      23\n",
       "CJ 고메 바삭튀겨낸통등심돈카츠 450Gx3개                      22\n",
       "비비고 왕교자 1.05KGx4개+비비고 찐만두 168gx1개              22\n",
       "[CJ직배송]백설100%통참깨참기름300ML X 2개                  21\n",
       "고메 순살 후라이드 치킨 550gx3개                          18\n",
       "Name: 주문번호, dtype: int64"
      ]
     },
     "execution_count": 132,
     "metadata": {},
     "output_type": "execute_result"
    }
   ],
   "source": [
    "df_id_3.groupby('판매자상품명')['주문번호'].count().sort_values(ascending=False)[:10]"
   ]
  },
  {
   "cell_type": "code",
   "execution_count": 133,
   "metadata": {},
   "outputs": [
    {
     "data": {
      "text/plain": [
       "표준카테고리\n",
       "냉장/냉동/간편식 > 떡볶이/만두 > 만두            756\n",
       "가공식품 > 조미료/양념 > 가공조미료              170\n",
       "냉장/냉동/간편식 > 국/탕/찌개 > 국/탕           110\n",
       "냉장/냉동/간편식 > 즉석밥/죽/스프 > 즉석밥         102\n",
       "냉장/냉동/간편식 > 즉석밥/죽/스프 > 볶음밥          71\n",
       "냉장/냉동/간편식 > 돈가스/고로케/너겟 > 돈가스        64\n",
       "가공식품 > 장류 > 된장/쌈장/청국장               64\n",
       "가공식품 > 장류 > 고추장/초고추장                63\n",
       "냉장/냉동/간편식 > 피자/핫도그/햄버거 > 피자/햄버거     39\n",
       "가공식품 > 소스/드레싱 > 굴소스/중화요리소스          39\n",
       "Name: 주문번호, dtype: int64"
      ]
     },
     "execution_count": 133,
     "metadata": {},
     "output_type": "execute_result"
    }
   ],
   "source": [
    "df_id_3.groupby('표준카테고리')['주문번호'].count().sort_values(ascending=False)[:10]"
   ]
  },
  {
   "cell_type": "markdown",
   "metadata": {},
   "source": [
    "# 4월"
   ]
  },
  {
   "cell_type": "code",
   "execution_count": 134,
   "metadata": {},
   "outputs": [
    {
     "data": {
      "text/plain": [
       "<AxesSubplot:xlabel='시간대 대분류', ylabel='count'>"
      ]
     },
     "execution_count": 134,
     "metadata": {},
     "output_type": "execute_result"
    },
    {
     "data": {
      "image/png": "[encoded data removed]",
      "text/plain": [
       "<Figure size 432x288 with 1 Axes>"
      ]
     },
     "metadata": {
      "needs_background": "light"
     },
     "output_type": "display_data"
    }
   ],
   "source": [
    "df_id_4=df_id[df_id['주문월']==4]\n",
    "sns.countplot(x = '시간대 대분류', data = df_id_4, order=['00 ~ 03', '03 ~ 06', '06 ~ 09', '09 ~ 12', '12 ~ 15', '15 ~ 18', '18 ~ 21', '21 ~ 00'])"
   ]
  },
  {
   "cell_type": "code",
   "execution_count": 135,
   "metadata": {},
   "outputs": [
    {
     "data": {
      "text/plain": [
       "판매자상품명\n",
       "[CJ직배송]포도씨유 900ML X 2개                   91\n",
       "천일염 소금/ 사골곰탕/비비고 죽/더비비고 특가 골라담기          63\n",
       "다담 된장찌개양념 530Gx3개                        51\n",
       "다담 된장찌개양념 530G X 4개                      46\n",
       "CJ 해찬들 우리쌀로만든태양초골드고추장2kgP X 2개           33\n",
       "CJ 햇반 쿡반 주먹밥 5종 골라담기                     32\n",
       "[CJ직배송]더건강한 닭가슴살 직화 통살구이100G X 6개        26\n",
       "[6+3]비비고 프리미엄 죽 6개 골라담기 +보양닭백숙죽 3개 증정    21\n",
       "고메 바삭쫄깃한 탕수육 450gx3개                     21\n",
       "C J하선정 집김치처럼 시원한 포기김치 5kg                17\n",
       "Name: 주문번호, dtype: int64"
      ]
     },
     "execution_count": 135,
     "metadata": {},
     "output_type": "execute_result"
    }
   ],
   "source": [
    "df_id_4.groupby('판매자상품명')['주문번호'].count().sort_values(ascending=False)[:10]"
   ]
  },
  {
   "cell_type": "code",
   "execution_count": 136,
   "metadata": {},
   "outputs": [
    {
     "data": {
      "text/plain": [
       "표준카테고리\n",
       "냉장/냉동/간편식 > 떡볶이/만두 > 만두         197\n",
       "냉장/냉동/간편식 > 즉석밥/죽/스프 > 즉석밥      197\n",
       "가공식품 > 장류 > 된장/쌈장/청국장           123\n",
       "냉장/냉동/간편식 > 돈가스/고로케/너겟 > 돈가스    115\n",
       "냉장/냉동/간편식 > 국/탕/찌개 > 국/탕         92\n",
       "가공식품 > 식용유/오일 > 식용유/오일선물세트       91\n",
       "냉장/냉동/간편식 > 즉석밥/죽/스프 > 볶음밥       87\n",
       "가공식품 > 조미료/양념 > 가공조미료            87\n",
       "가공식품 > 장류 > 고추장/초고추장             68\n",
       "김치/반찬 > 김치 > 포기김치                65\n",
       "Name: 주문번호, dtype: int64"
      ]
     },
     "execution_count": 136,
     "metadata": {},
     "output_type": "execute_result"
    }
   ],
   "source": [
    "df_id_4.groupby('표준카테고리')['주문번호'].count().sort_values(ascending=False)[:10]"
   ]
  },
  {
   "cell_type": "markdown",
   "metadata": {},
   "source": [
    "# 5월"
   ]
  },
  {
   "cell_type": "code",
   "execution_count": 137,
   "metadata": {},
   "outputs": [
    {
     "data": {
      "text/plain": [
       "<AxesSubplot:xlabel='시간대 대분류', ylabel='count'>"
      ]
     },
     "execution_count": 137,
     "metadata": {},
     "output_type": "execute_result"
    },
    {
     "data": {
      "image/png": "[encoded data removed]",
      "text/plain": [
       "<Figure size 432x288 with 1 Axes>"
      ]
     },
     "metadata": {
      "needs_background": "light"
     },
     "output_type": "display_data"
    }
   ],
   "source": [
    "df_id_5=df_id[df_id['주문월']==5]\n",
    "sns.countplot(x = '시간대 대분류', data = df_id_5, order=['00 ~ 03', '03 ~ 06', '06 ~ 09', '09 ~ 12', '12 ~ 15', '15 ~ 18', '18 ~ 21', '21 ~ 00'])"
   ]
  },
  {
   "cell_type": "code",
   "execution_count": 138,
   "metadata": {},
   "outputs": [
    {
     "data": {
      "text/plain": [
       "판매자상품명\n",
       "[CJ직배송]포도씨유 900ML X 2개                           1302\n",
       "[6+3+5%추가쿠폰]비비고 프리미엄 죽 6개 골라담기 +보양닭백숙죽 3개 증정      534\n",
       "비비고 왕교자 1.05KGx4개+비비고 찐만두 168gx1개                 386\n",
       "[5%추가쿠폰 확인!]비비고 왕교자 1.05KGx4개+비비고 찐만두 168gx1개     277\n",
       "[2+1][3+2]CJ제일제당 쁘띠첼 미초 석류+청포도+복숭아 外 골라담기         167\n",
       "[6+3]비비고 프리미엄 죽 6개 골라담기 +통단팥죽 3개 증정               161\n",
       "[3번들 초특가]CJ제일제당 쁘띠첼 미초 석류+청포도                     150\n",
       "[선착순 시크릿 쿠폰 확인!]고메 오리지널 핫도그 外 골라담기                136\n",
       "[CJ직배송]압착올리브유900ML X 2개                           104\n",
       "[CJ직배송]해바라기씨유 900ML X 2개                           74\n",
       "Name: 주문번호, dtype: int64"
      ]
     },
     "execution_count": 138,
     "metadata": {},
     "output_type": "execute_result"
    }
   ],
   "source": [
    "df_id_5.groupby('판매자상품명')['주문번호'].count().sort_values(ascending=False)[:10]"
   ]
  },
  {
   "cell_type": "code",
   "execution_count": 139,
   "metadata": {},
   "outputs": [
    {
     "data": {
      "text/plain": [
       "표준카테고리\n",
       "가공식품 > 식용유/오일 > 식용유/오일선물세트      1303\n",
       "냉장/냉동/간편식 > 즉석밥/죽/스프 > 즉석밥       926\n",
       "냉장/냉동/간편식 > 떡볶이/만두 > 만두          876\n",
       "과자/간식 > 캔디/껌/캐러멜 > 젤리/푸딩         325\n",
       "가공식품 > 식용유/오일 > 카놀라유             232\n",
       "냉장/냉동/간편식 > 피자/핫도그/햄버거 > 핫도그     168\n",
       "가공식품 > 장류 > 고추장/초고추장             149\n",
       "냉장/냉동/간편식 > 돈가스/고로케/너겟 > 돈가스     144\n",
       "김치/반찬 > 김치 > 포기김치                116\n",
       "가공식품 > 장류 > 된장/쌈장/청국장            110\n",
       "Name: 주문번호, dtype: int64"
      ]
     },
     "execution_count": 139,
     "metadata": {},
     "output_type": "execute_result"
    }
   ],
   "source": [
    "df_id_5.groupby('표준카테고리')['주문번호'].count().sort_values(ascending=False)[:10]"
   ]
  },
  {
   "cell_type": "markdown",
   "metadata": {},
   "source": [
    "# 6월"
   ]
  },
  {
   "cell_type": "code",
   "execution_count": 140,
   "metadata": {},
   "outputs": [
    {
     "data": {
      "text/plain": [
       "<AxesSubplot:xlabel='시간대 대분류', ylabel='count'>"
      ]
     },
     "execution_count": 140,
     "metadata": {},
     "output_type": "execute_result"
    },
    {
     "data": {
      "image/png": "[encoded data removed]",
      "text/plain": [
       "<Figure size 432x288 with 1 Axes>"
      ]
     },
     "metadata": {
      "needs_background": "light"
     },
     "output_type": "display_data"
    }
   ],
   "source": [
    "df_id_6=df_id[df_id['주문월']==6]\n",
    "sns.countplot(x = '시간대 대분류', data = df_id_6, order=['00 ~ 03', '03 ~ 06', '06 ~ 09', '09 ~ 12', '12 ~ 15', '15 ~ 18', '18 ~ 21', '21 ~ 00'])"
   ]
  },
  {
   "cell_type": "code",
   "execution_count": 141,
   "metadata": {},
   "outputs": [
    {
     "data": {
      "text/plain": [
       "판매자상품명\n",
       "비비고 사골곰탕 500g x18봉                                               1545\n",
       "[Lpoint 1,000P 지급]햇반 작은공기, 100% 현미밥 x 36개 특가 (1,000set 한정)       1426\n",
       "비비고 BEST 볶음밥 3종 특가[불고기 비빔밥 + 매콤부추고기볶음밥 + 간장버터장조림볶음밥]             1091\n",
       "CJ 햇반 쿡반 주먹밥 5종 골라담기                                              334\n",
       "[6+3]비비고 프리미엄 죽 6개 골라담기 +통단팥죽 3개 증정                               327\n",
       "[복날 준비 특가]누룽지닭백숙죽/전복삼계죽/녹두닭죽 外 + 보양닭백숙죽 증정                        281\n",
       "왕교자 1.05kgx2 + 김치왕교자 420gx2                                       259\n",
       "[Lpoint 1,000P 지급]햇반 작은공기/100% 현미밥130g x 36개 특가 (1,000set 한정)     244\n",
       "햇반 쿡반불고기500+치즈500+버터장조림500+치즈닭갈비500G                              238\n",
       "미역국 X 5개 + 사골곰탕 X2개+ 영양꼬리곰탕 1봉 증정                                 234\n",
       "Name: 주문번호, dtype: int64"
      ]
     },
     "execution_count": 141,
     "metadata": {},
     "output_type": "execute_result"
    }
   ],
   "source": [
    "df_id_6.groupby('판매자상품명')['주문번호'].count().sort_values(ascending=False)[:10]"
   ]
  },
  {
   "cell_type": "code",
   "execution_count": 142,
   "metadata": {},
   "outputs": [
    {
     "data": {
      "text/plain": [
       "표준카테고리\n",
       "냉장/냉동/간편식 > 즉석밥/죽/스프 > 즉석밥      3270\n",
       "냉장/냉동/간편식 > 국/탕/찌개 > 국/탕        2368\n",
       "냉장/냉동/간편식 > 즉석밥/죽/스프 > 볶음밥      1286\n",
       "냉장/냉동/간편식 > 떡볶이/만두 > 만두          736\n",
       "냉장/냉동/간편식 > 돈가스/고로케/너겟 > 돈가스     514\n",
       "가공식품 > 소스/드레싱 > 기타소스             276\n",
       "가공식품 > 면류 > 기타면류                 225\n",
       "가공식품 > 장류 > 고추장/초고추장             220\n",
       "커피/생수/음료 > 주스/과즙음료 > 과일음료        182\n",
       "냉장/냉동/간편식 > 피자/핫도그/햄버거 > 핫도그     171\n",
       "Name: 주문번호, dtype: int64"
      ]
     },
     "execution_count": 142,
     "metadata": {},
     "output_type": "execute_result"
    }
   ],
   "source": [
    "df_id_6.groupby('표준카테고리')['주문번호'].count().sort_values(ascending=False)[:10]"
   ]
  },
  {
   "cell_type": "markdown",
   "metadata": {},
   "source": [
    "# 7월"
   ]
  },
  {
   "cell_type": "code",
   "execution_count": 143,
   "metadata": {},
   "outputs": [
    {
     "data": {
      "text/plain": [
       "<AxesSubplot:xlabel='시간대 대분류', ylabel='count'>"
      ]
     },
     "execution_count": 143,
     "metadata": {},
     "output_type": "execute_result"
    },
    {
     "data": {
      "image/png": "[encoded data removed]",
      "text/plain": [
       "<Figure size 432x288 with 1 Axes>"
      ]
     },
     "metadata": {
      "needs_background": "light"
     },
     "output_type": "display_data"
    }
   ],
   "source": [
    "df_id_7=df_id[df_id['주문월']==7]\n",
    "sns.countplot(x = '시간대 대분류', data = df_id_7, order=['00 ~ 03', '03 ~ 06', '06 ~ 09', '09 ~ 12', '12 ~ 15', '15 ~ 18', '18 ~ 21', '21 ~ 00'])"
   ]
  },
  {
   "cell_type": "code",
   "execution_count": 144,
   "metadata": {},
   "outputs": [
    {
     "data": {
      "text/plain": [
       "판매자상품명\n",
       "햇반 작은공기/100% 현미밥130g x 36개                        554\n",
       "[CJ직배송]햇반작은공기130G x36개                            536\n",
       "[전참시 속 보양식사]누룽지닭백숙죽/전복삼계죽/녹두닭죽 外 + 보양닭백숙죽 증정      220\n",
       "비비고 사골곰탕 500g x18봉                                188\n",
       "[6+6+6 선착순 특가]다담 정통된장찌개/청국장찌개/순두부찌개 外 골라담기        138\n",
       "CJ 햇반 쿡반 주먹밥 5종 골라담기                              106\n",
       "[Lpoint&스벅커피쿠폰증정]햇반 솥반 프리미엄 6종 골라담기[택 1]          101\n",
       "[CJ직배송]햇반 100%현미로 지은밥 130G x36개                    98\n",
       "[CJ직배송]CJ 고메 중화짬뽕 + 중화짜장 + 탕수육 + 깐풍기 세트            97\n",
       "[6+2]비비고 용기형 단호박죽/통단팥죽/흑임자죽 + 버섯야채죽 280GX2개 증정     79\n",
       "Name: 주문번호, dtype: int64"
      ]
     },
     "execution_count": 144,
     "metadata": {},
     "output_type": "execute_result"
    }
   ],
   "source": [
    "df_id_7.groupby('판매자상품명')['주문번호'].count().sort_values(ascending=False)[:10]"
   ]
  },
  {
   "cell_type": "code",
   "execution_count": 145,
   "metadata": {},
   "outputs": [
    {
     "data": {
      "text/plain": [
       "표준카테고리\n",
       "냉장/냉동/간편식 > 즉석밥/죽/스프 > 즉석밥      1913\n",
       "냉장/냉동/간편식 > 국/탕/찌개 > 국/탕         337\n",
       "과자/간식 > 캔디/껌/캐러멜 > 젤리/푸딩         257\n",
       "냉장/냉동/간편식 > 돈가스/고로케/너겟 > 돈가스     253\n",
       "가공식품 > 면류 > 기타면류                 200\n",
       "가공식품 > 소스/드레싱 > 기타소스             191\n",
       "냉장/냉동/간편식 > 떡볶이/만두 > 만두          162\n",
       "김치/반찬 > 김치 > 포기김치                100\n",
       "가공식품 > 통조림/캔 > 닭가슴살통조림            94\n",
       "냉장/냉동/간편식 > 즉석밥/죽/스프 > 볶음밥        94\n",
       "Name: 주문번호, dtype: int64"
      ]
     },
     "execution_count": 145,
     "metadata": {},
     "output_type": "execute_result"
    }
   ],
   "source": [
    "df_id_7.groupby('표준카테고리')['주문번호'].count().sort_values(ascending=False)[:10]"
   ]
  },
  {
   "cell_type": "markdown",
   "metadata": {},
   "source": [
    "# 8월"
   ]
  },
  {
   "cell_type": "code",
   "execution_count": 146,
   "metadata": {},
   "outputs": [
    {
     "data": {
      "text/plain": [
       "<AxesSubplot:xlabel='시간대 대분류', ylabel='count'>"
      ]
     },
     "execution_count": 146,
     "metadata": {},
     "output_type": "execute_result"
    },
    {
     "data": {
      "image/png": "[encoded data removed]",
      "text/plain": [
       "<Figure size 432x288 with 1 Axes>"
      ]
     },
     "metadata": {
      "needs_background": "light"
     },
     "output_type": "display_data"
    }
   ],
   "source": [
    "df_id_8=df_id[df_id['주문월']==8]\n",
    "sns.countplot(x = '시간대 대분류', data = df_id_8, order=['00 ~ 03', '03 ~ 06', '06 ~ 09', '09 ~ 12', '12 ~ 15', '15 ~ 18', '18 ~ 21', '21 ~ 00'])"
   ]
  },
  {
   "cell_type": "code",
   "execution_count": 147,
   "metadata": {},
   "outputs": [
    {
     "data": {
      "text/plain": [
       "판매자상품명\n",
       "[CJ직배송] CJ 햇반 백미 210g x 36개                                  1367\n",
       "[CJ직배송] New 햇반 210g*3입X 8개(총24개)                              664\n",
       "CJ 스팸 25%라이트/ 스팸클래식 4개 골라담기 [ 택 1]                            505\n",
       "[CJ직배송]햇반 흑미밥 210gX36개[1박스]                                   419\n",
       "미역국 X 5개 + 사골곰탕 X2개+ 육개장300g 2봉 증정(증정품 유통기한 22년 10월 7일까지)     385\n",
       "[CJ직배송]백설100%통참깨참기름300ML X 2개                                 316\n",
       "[L.Point 3,000p 증정]햇반 오곡밥 24입/ 솥반 7종 골라담기 [ 택 1]              297\n",
       "CJ 햇반 쿡반 주먹밥 5종 골라담기                                          291\n",
       "[컵반 배그에디션]이겼닭! 오늘 저녁은 치킨이닭(컵반 1개당 G코인 100~10,000코인 랜덤 증정)     233\n",
       "[햇반 솥반 X 서울체크인]햇반 솥반 7종                                       213\n",
       "Name: 주문번호, dtype: int64"
      ]
     },
     "execution_count": 147,
     "metadata": {},
     "output_type": "execute_result"
    }
   ],
   "source": [
    "df_id_8.groupby('판매자상품명')['주문번호'].count().sort_values(ascending=False)[:10]"
   ]
  },
  {
   "cell_type": "code",
   "execution_count": 148,
   "metadata": {},
   "outputs": [
    {
     "data": {
      "text/plain": [
       "표준카테고리\n",
       "냉장/냉동/간편식 > 즉석밥/죽/스프 > 즉석밥      4341\n",
       "냉장/냉동/간편식 > 국/탕/찌개 > 국/탕         652\n",
       "가공식품 > 통조림/캔 > 햄통조림              530\n",
       "냉장/냉동/간편식 > 돈가스/고로케/너겟 > 돈가스     407\n",
       "가공식품 > 통조림/캔 > 캔/통조림선물세트         319\n",
       "가공식품 > 식용유/오일 > 카놀라유             319\n",
       "냉장/냉동/간편식 > 떡볶이/만두 > 만두          219\n",
       "가공식품 > 장류 > 고추장/초고추장             210\n",
       "냉장/냉동/간편식 > 즉석밥/죽/스프 > 볶음밥       159\n",
       "과자/간식 > 캔디/껌/캐러멜 > 젤리/푸딩         126\n",
       "Name: 주문번호, dtype: int64"
      ]
     },
     "execution_count": 148,
     "metadata": {},
     "output_type": "execute_result"
    }
   ],
   "source": [
    "df_id_8.groupby('표준카테고리')['주문번호'].count().sort_values(ascending=False)[:10]"
   ]
  },
  {
   "cell_type": "markdown",
   "metadata": {},
   "source": [
    "# 9월"
   ]
  },
  {
   "cell_type": "code",
   "execution_count": 149,
   "metadata": {},
   "outputs": [
    {
     "data": {
      "text/plain": [
       "<AxesSubplot:xlabel='시간대 대분류', ylabel='count'>"
      ]
     },
     "execution_count": 149,
     "metadata": {},
     "output_type": "execute_result"
    },
    {
     "data": {
      "image/png": "[encoded data removed]",
      "text/plain": [
       "<Figure size 432x288 with 1 Axes>"
      ]
     },
     "metadata": {
      "needs_background": "light"
     },
     "output_type": "display_data"
    }
   ],
   "source": [
    "df_id_9=df_id[df_id['주문월']==9]\n",
    "sns.countplot(x = '시간대 대분류', data = df_id_1, order=['00 ~ 03', '03 ~ 06', '06 ~ 09', '09 ~ 12', '12 ~ 15', '15 ~ 18', '18 ~ 21', '21 ~ 00'])"
   ]
  },
  {
   "cell_type": "code",
   "execution_count": 150,
   "metadata": {},
   "outputs": [
    {
     "data": {
      "text/plain": [
       "판매자상품명\n",
       "[CJ직배송]햇반작은공기130G x36개                                     155\n",
       "다담 된장찌개양념 530Gx2개                                           74\n",
       "CJ 햇반 쿡반 주먹밥 5종 골라담기                                        61\n",
       "[구매확정시 주문건당 5,000 Lpoint 자동적립] 스팸마일드8호 / *엘포인트 통합회원만 가능     52\n",
       "[CJ직배송]햇반 발아현미밥 210gX36개[1박스]                               50\n",
       "비비고 사골곰탕 500g x18봉                                          39\n",
       "[CJ직배송]포도+사과+오렌지 워터젤리 총 30개[각10개씩]                          31\n",
       "[L포인트 3000p 증정]★LAST DAY EVENT★                             29\n",
       "[CJ직배송]비비고 파김치800g                                          23\n",
       "[CJ직배송]햇반 매일찰잡곡밥 210G*3 X6개                                 17\n",
       "Name: 주문번호, dtype: int64"
      ]
     },
     "execution_count": 150,
     "metadata": {},
     "output_type": "execute_result"
    }
   ],
   "source": [
    "df_id_9.groupby('판매자상품명')['주문번호'].count().sort_values(ascending=False)[:10]"
   ]
  },
  {
   "cell_type": "code",
   "execution_count": 151,
   "metadata": {},
   "outputs": [
    {
     "data": {
      "text/plain": [
       "표준카테고리\n",
       "냉장/냉동/간편식 > 즉석밥/죽/스프 > 즉석밥      404\n",
       "냉장/냉동/간편식 > 돈가스/고로케/너겟 > 돈가스    101\n",
       "과자/간식 > 캔디/껌/캐러멜 > 젤리/푸딩         98\n",
       "가공식품 > 통조림/캔 > 캔/통조림선물세트         85\n",
       "냉장/냉동/간편식 > 국/탕/찌개 > 국/탕         81\n",
       "가공식품 > 소스/드레싱 > 칠리/살사소스          75\n",
       "김치/반찬 > 김치 > 포기김치                73\n",
       "냉장/냉동/간편식 > 떡볶이/만두 > 만두          70\n",
       "가공식품 > 소스/드레싱 > 기타소스             46\n",
       "가공식품 > 통조림/캔 > 닭가슴살통조림           44\n",
       "Name: 주문번호, dtype: int64"
      ]
     },
     "execution_count": 151,
     "metadata": {},
     "output_type": "execute_result"
    }
   ],
   "source": [
    "df_id_9.groupby('표준카테고리')['주문번호'].count().sort_values(ascending=False)[:10]"
   ]
  },
  {
   "cell_type": "markdown",
   "metadata": {},
   "source": [
    "# 가격비교로 들어온 손님들 분석"
   ]
  },
  {
   "cell_type": "code",
   "execution_count": 152,
   "metadata": {},
   "outputs": [
    {
     "data": {
      "text/html": [
       "<div>\n",
       "<style scoped>\n",
       "    .dataframe tbody tr th:only-of-type {\n",
       "        vertical-align: middle;\n",
       "    }\n",
       "\n",
       "    .dataframe tbody tr th {\n",
       "        vertical-align: top;\n",
       "    }\n",
       "\n",
       "    .dataframe thead th {\n",
       "        text-align: right;\n",
       "    }\n",
       "</style>\n",
       "<table border=\"1\" class=\"dataframe\">\n",
       "  <thead>\n",
       "    <tr style=\"text-align: right;\">\n",
       "      <th></th>\n",
       "      <th>주문접수일시</th>\n",
       "      <th>주문번호</th>\n",
       "      <th>유입채널 대분류</th>\n",
       "      <th>시간대 대분류</th>\n",
       "      <th>주문월</th>\n",
       "      <th>아이디</th>\n",
       "      <th>판매자상품명</th>\n",
       "      <th>판매가</th>\n",
       "      <th>표준카테고리</th>\n",
       "      <th>주문날짜</th>\n",
       "    </tr>\n",
       "  </thead>\n",
       "  <tbody>\n",
       "    <tr>\n",
       "      <th>0</th>\n",
       "      <td>2022-01-07 06:55:35</td>\n",
       "      <td>2022010712865550</td>\n",
       "      <td>가격비교</td>\n",
       "      <td>06 ~ 09</td>\n",
       "      <td>1</td>\n",
       "      <td>love****</td>\n",
       "      <td>[CJ직배송] CJ 햇반 매일잡곡밥 210g x 24개</td>\n",
       "      <td>36000</td>\n",
       "      <td>냉장/냉동/간편식 &gt; 즉석밥/죽/스프 &gt; 즉석밥</td>\n",
       "      <td>2022-01-07</td>\n",
       "    </tr>\n",
       "    <tr>\n",
       "      <th>1</th>\n",
       "      <td>2022-01-07 06:57:53</td>\n",
       "      <td>2022010712865630</td>\n",
       "      <td>가격비교</td>\n",
       "      <td>06 ~ 09</td>\n",
       "      <td>1</td>\n",
       "      <td>love****</td>\n",
       "      <td>[CJ직배송] CJ 햇반 매일잡곡밥 210g x 24개</td>\n",
       "      <td>36000</td>\n",
       "      <td>냉장/냉동/간편식 &gt; 즉석밥/죽/스프 &gt; 즉석밥</td>\n",
       "      <td>2022-01-07</td>\n",
       "    </tr>\n",
       "    <tr>\n",
       "      <th>2</th>\n",
       "      <td>2022-01-10 09:36:32</td>\n",
       "      <td>2022011013280040</td>\n",
       "      <td>검색</td>\n",
       "      <td>09 ~ 12</td>\n",
       "      <td>1</td>\n",
       "      <td>love****</td>\n",
       "      <td>CJ 고메 중화짜장 760Gx3개</td>\n",
       "      <td>21530</td>\n",
       "      <td>가공식품 &gt; 면류 &gt; 중화면</td>\n",
       "      <td>2022-01-10</td>\n",
       "    </tr>\n",
       "    <tr>\n",
       "      <th>3</th>\n",
       "      <td>2022-01-10 11:56:34</td>\n",
       "      <td>2022011013300450</td>\n",
       "      <td>CJ 앱/사이트</td>\n",
       "      <td>09 ~ 12</td>\n",
       "      <td>1</td>\n",
       "      <td>love****</td>\n",
       "      <td>[CJ직배송]CJ비비고왕교자1.05KG X 2개</td>\n",
       "      <td>19920</td>\n",
       "      <td>냉장/냉동/간편식 &gt; 떡볶이/만두 &gt; 만두</td>\n",
       "      <td>2022-01-10</td>\n",
       "    </tr>\n",
       "    <tr>\n",
       "      <th>4</th>\n",
       "      <td>2022-01-10 16:28:22</td>\n",
       "      <td>2022011013337260</td>\n",
       "      <td>가격비교</td>\n",
       "      <td>15 ~ 18</td>\n",
       "      <td>1</td>\n",
       "      <td>love****</td>\n",
       "      <td>[CJ직배송]쉐프솔루션 고기만땅왕교자 1.05KG X3개</td>\n",
       "      <td>20940</td>\n",
       "      <td>냉장/냉동/간편식 &gt; 떡볶이/만두 &gt; 만두</td>\n",
       "      <td>2022-01-10</td>\n",
       "    </tr>\n",
       "    <tr>\n",
       "      <th>...</th>\n",
       "      <td>...</td>\n",
       "      <td>...</td>\n",
       "      <td>...</td>\n",
       "      <td>...</td>\n",
       "      <td>...</td>\n",
       "      <td>...</td>\n",
       "      <td>...</td>\n",
       "      <td>...</td>\n",
       "      <td>...</td>\n",
       "      <td>...</td>\n",
       "    </tr>\n",
       "    <tr>\n",
       "      <th>34705</th>\n",
       "      <td>2022-06-08 19:13:02</td>\n",
       "      <td>2022060814395670</td>\n",
       "      <td>CJ 앱/사이트</td>\n",
       "      <td>18 ~ 21</td>\n",
       "      <td>6</td>\n",
       "      <td>casc****</td>\n",
       "      <td>육개장 X 5개 + 사골곰탕 X2개 +육개장300g 증정</td>\n",
       "      <td>24000</td>\n",
       "      <td>냉장/냉동/간편식 &gt; 국/탕/찌개 &gt; 국/탕</td>\n",
       "      <td>2022-06-08</td>\n",
       "    </tr>\n",
       "    <tr>\n",
       "      <th>34706</th>\n",
       "      <td>2022-06-25 17:55:19</td>\n",
       "      <td>2022062516572530</td>\n",
       "      <td>CJ 앱/사이트</td>\n",
       "      <td>15 ~ 18</td>\n",
       "      <td>6</td>\n",
       "      <td>casc****</td>\n",
       "      <td>[CJ직배송]햇반 매일찰잡곡밥 210G*3 X6개</td>\n",
       "      <td>26920</td>\n",
       "      <td>냉장/냉동/간편식 &gt; 즉석밥/죽/스프 &gt; 즉석밥</td>\n",
       "      <td>2022-06-25</td>\n",
       "    </tr>\n",
       "    <tr>\n",
       "      <th>34707</th>\n",
       "      <td>2022-03-15 21:52:39</td>\n",
       "      <td>2022031512208870</td>\n",
       "      <td>CJ 앱/사이트</td>\n",
       "      <td>21 ~ 00</td>\n",
       "      <td>3</td>\n",
       "      <td>okji****</td>\n",
       "      <td>[CJ직배송] 햇반 작은공기 130GX24개</td>\n",
       "      <td>36800</td>\n",
       "      <td>냉장/냉동/간편식 &gt; 즉석밥/죽/스프 &gt; 즉석밥</td>\n",
       "      <td>2022-03-15</td>\n",
       "    </tr>\n",
       "    <tr>\n",
       "      <th>34708</th>\n",
       "      <td>2022-06-09 23:00:26</td>\n",
       "      <td>2022060914561580</td>\n",
       "      <td>CJ 앱/사이트</td>\n",
       "      <td>21 ~ 00</td>\n",
       "      <td>6</td>\n",
       "      <td>okji****</td>\n",
       "      <td>미역국 X 5개 + 사골곰탕 X2개+ 영양꼬리곰탕 1봉 증정</td>\n",
       "      <td>22000</td>\n",
       "      <td>냉장/냉동/간편식 &gt; 국/탕/찌개 &gt; 국/탕</td>\n",
       "      <td>2022-06-09</td>\n",
       "    </tr>\n",
       "    <tr>\n",
       "      <th>34709</th>\n",
       "      <td>2022-06-09 23:00:26</td>\n",
       "      <td>2022060914561580</td>\n",
       "      <td>CJ 앱/사이트</td>\n",
       "      <td>21 ~ 00</td>\n",
       "      <td>6</td>\n",
       "      <td>okji****</td>\n",
       "      <td>[CJ직배송]CJ 꼬마 돈까스 400G X3개</td>\n",
       "      <td>15890</td>\n",
       "      <td>냉장/냉동/간편식 &gt; 돈가스/고로케/너겟 &gt; 돈가스</td>\n",
       "      <td>2022-06-09</td>\n",
       "    </tr>\n",
       "  </tbody>\n",
       "</table>\n",
       "<p>34710 rows × 10 columns</p>\n",
       "</div>"
      ],
      "text/plain": [
       "                   주문접수일시              주문번호  유입채널 대분류  시간대 대분류  주문월       아이디  \\\n",
       "0     2022-01-07 06:55:35  2022010712865550      가격비교  06 ~ 09    1  love****   \n",
       "1     2022-01-07 06:57:53  2022010712865630      가격비교  06 ~ 09    1  love****   \n",
       "2     2022-01-10 09:36:32  2022011013280040        검색  09 ~ 12    1  love****   \n",
       "3     2022-01-10 11:56:34  2022011013300450  CJ 앱/사이트  09 ~ 12    1  love****   \n",
       "4     2022-01-10 16:28:22  2022011013337260      가격비교  15 ~ 18    1  love****   \n",
       "...                   ...               ...       ...      ...  ...       ...   \n",
       "34705 2022-06-08 19:13:02  2022060814395670  CJ 앱/사이트  18 ~ 21    6  casc****   \n",
       "34706 2022-06-25 17:55:19  2022062516572530  CJ 앱/사이트  15 ~ 18    6  casc****   \n",
       "34707 2022-03-15 21:52:39  2022031512208870  CJ 앱/사이트  21 ~ 00    3  okji****   \n",
       "34708 2022-06-09 23:00:26  2022060914561580  CJ 앱/사이트  21 ~ 00    6  okji****   \n",
       "34709 2022-06-09 23:00:26  2022060914561580  CJ 앱/사이트  21 ~ 00    6  okji****   \n",
       "\n",
       "                                  판매자상품명    판매가                        표준카테고리  \\\n",
       "0         [CJ직배송] CJ 햇반 매일잡곡밥 210g x 24개  36000    냉장/냉동/간편식 > 즉석밥/죽/스프 > 즉석밥   \n",
       "1         [CJ직배송] CJ 햇반 매일잡곡밥 210g x 24개  36000    냉장/냉동/간편식 > 즉석밥/죽/스프 > 즉석밥   \n",
       "2                     CJ 고메 중화짜장 760Gx3개  21530               가공식품 > 면류 > 중화면   \n",
       "3             [CJ직배송]CJ비비고왕교자1.05KG X 2개  19920       냉장/냉동/간편식 > 떡볶이/만두 > 만두   \n",
       "4        [CJ직배송]쉐프솔루션 고기만땅왕교자 1.05KG X3개  20940       냉장/냉동/간편식 > 떡볶이/만두 > 만두   \n",
       "...                                  ...    ...                           ...   \n",
       "34705    육개장 X 5개 + 사골곰탕 X2개 +육개장300g 증정  24000      냉장/냉동/간편식 > 국/탕/찌개 > 국/탕   \n",
       "34706        [CJ직배송]햇반 매일찰잡곡밥 210G*3 X6개  26920    냉장/냉동/간편식 > 즉석밥/죽/스프 > 즉석밥   \n",
       "34707           [CJ직배송] 햇반 작은공기 130GX24개  36800    냉장/냉동/간편식 > 즉석밥/죽/스프 > 즉석밥   \n",
       "34708  미역국 X 5개 + 사골곰탕 X2개+ 영양꼬리곰탕 1봉 증정  22000      냉장/냉동/간편식 > 국/탕/찌개 > 국/탕   \n",
       "34709          [CJ직배송]CJ 꼬마 돈까스 400G X3개  15890  냉장/냉동/간편식 > 돈가스/고로케/너겟 > 돈가스   \n",
       "\n",
       "            주문날짜  \n",
       "0     2022-01-07  \n",
       "1     2022-01-07  \n",
       "2     2022-01-10  \n",
       "3     2022-01-10  \n",
       "4     2022-01-10  \n",
       "...          ...  \n",
       "34705 2022-06-08  \n",
       "34706 2022-06-25  \n",
       "34707 2022-03-15  \n",
       "34708 2022-06-09  \n",
       "34709 2022-06-09  \n",
       "\n",
       "[34710 rows x 10 columns]"
      ]
     },
     "execution_count": 152,
     "metadata": {},
     "output_type": "execute_result"
    }
   ],
   "source": [
    "df_id"
   ]
  },
  {
   "cell_type": "code",
   "execution_count": 153,
   "metadata": {},
   "outputs": [],
   "source": [
    "df_id_g=df_id[df_id['유입채널 대분류']==\"가격비교\"]"
   ]
  },
  {
   "cell_type": "code",
   "execution_count": 154,
   "metadata": {},
   "outputs": [
    {
     "data": {
      "text/html": [
       "<div>\n",
       "<style scoped>\n",
       "    .dataframe tbody tr th:only-of-type {\n",
       "        vertical-align: middle;\n",
       "    }\n",
       "\n",
       "    .dataframe tbody tr th {\n",
       "        vertical-align: top;\n",
       "    }\n",
       "\n",
       "    .dataframe thead th {\n",
       "        text-align: right;\n",
       "    }\n",
       "</style>\n",
       "<table border=\"1\" class=\"dataframe\">\n",
       "  <thead>\n",
       "    <tr style=\"text-align: right;\">\n",
       "      <th></th>\n",
       "      <th>주문접수일시</th>\n",
       "      <th>주문번호</th>\n",
       "      <th>유입채널 대분류</th>\n",
       "      <th>시간대 대분류</th>\n",
       "      <th>주문월</th>\n",
       "      <th>아이디</th>\n",
       "      <th>판매자상품명</th>\n",
       "      <th>판매가</th>\n",
       "      <th>표준카테고리</th>\n",
       "      <th>주문날짜</th>\n",
       "    </tr>\n",
       "  </thead>\n",
       "  <tbody>\n",
       "    <tr>\n",
       "      <th>0</th>\n",
       "      <td>2022-01-07 06:55:35</td>\n",
       "      <td>2022010712865550</td>\n",
       "      <td>가격비교</td>\n",
       "      <td>06 ~ 09</td>\n",
       "      <td>1</td>\n",
       "      <td>love****</td>\n",
       "      <td>[CJ직배송] CJ 햇반 매일잡곡밥 210g x 24개</td>\n",
       "      <td>36000</td>\n",
       "      <td>냉장/냉동/간편식 &gt; 즉석밥/죽/스프 &gt; 즉석밥</td>\n",
       "      <td>2022-01-07</td>\n",
       "    </tr>\n",
       "    <tr>\n",
       "      <th>1</th>\n",
       "      <td>2022-01-07 06:57:53</td>\n",
       "      <td>2022010712865630</td>\n",
       "      <td>가격비교</td>\n",
       "      <td>06 ~ 09</td>\n",
       "      <td>1</td>\n",
       "      <td>love****</td>\n",
       "      <td>[CJ직배송] CJ 햇반 매일잡곡밥 210g x 24개</td>\n",
       "      <td>36000</td>\n",
       "      <td>냉장/냉동/간편식 &gt; 즉석밥/죽/스프 &gt; 즉석밥</td>\n",
       "      <td>2022-01-07</td>\n",
       "    </tr>\n",
       "    <tr>\n",
       "      <th>4</th>\n",
       "      <td>2022-01-10 16:28:22</td>\n",
       "      <td>2022011013337260</td>\n",
       "      <td>가격비교</td>\n",
       "      <td>15 ~ 18</td>\n",
       "      <td>1</td>\n",
       "      <td>love****</td>\n",
       "      <td>[CJ직배송]쉐프솔루션 고기만땅왕교자 1.05KG X3개</td>\n",
       "      <td>20940</td>\n",
       "      <td>냉장/냉동/간편식 &gt; 떡볶이/만두 &gt; 만두</td>\n",
       "      <td>2022-01-10</td>\n",
       "    </tr>\n",
       "    <tr>\n",
       "      <th>17</th>\n",
       "      <td>2022-03-01 16:16:20</td>\n",
       "      <td>2022030110171340</td>\n",
       "      <td>가격비교</td>\n",
       "      <td>15 ~ 18</td>\n",
       "      <td>3</td>\n",
       "      <td>love****</td>\n",
       "      <td>[CJ직배송]고메포테이토+불고기+콤비네이션 피자</td>\n",
       "      <td>20940</td>\n",
       "      <td>냉장/냉동/간편식 &gt; 피자/핫도그/햄버거 &gt; 피자/햄버거</td>\n",
       "      <td>2022-03-01</td>\n",
       "    </tr>\n",
       "    <tr>\n",
       "      <th>21</th>\n",
       "      <td>2022-03-10 13:32:41</td>\n",
       "      <td>2022031011458640</td>\n",
       "      <td>가격비교</td>\n",
       "      <td>12 ~ 15</td>\n",
       "      <td>3</td>\n",
       "      <td>love****</td>\n",
       "      <td>[CJ직배송]비비고 우리아이한입 썰은김치270GX4개</td>\n",
       "      <td>20270</td>\n",
       "      <td>김치/반찬 &gt; 김치 &gt; 포기김치</td>\n",
       "      <td>2022-03-10</td>\n",
       "    </tr>\n",
       "    <tr>\n",
       "      <th>...</th>\n",
       "      <td>...</td>\n",
       "      <td>...</td>\n",
       "      <td>...</td>\n",
       "      <td>...</td>\n",
       "      <td>...</td>\n",
       "      <td>...</td>\n",
       "      <td>...</td>\n",
       "      <td>...</td>\n",
       "      <td>...</td>\n",
       "      <td>...</td>\n",
       "    </tr>\n",
       "    <tr>\n",
       "      <th>34649</th>\n",
       "      <td>2022-07-01 08:05:17</td>\n",
       "      <td>2022070117332820</td>\n",
       "      <td>가격비교</td>\n",
       "      <td>06 ~ 09</td>\n",
       "      <td>7</td>\n",
       "      <td>csh7****</td>\n",
       "      <td>고메바삭튀겨낸통등심돈카츠450g*3</td>\n",
       "      <td>27090</td>\n",
       "      <td>냉장/냉동/간편식 &gt; 기타즉석식품 &gt; 기타즉석식품</td>\n",
       "      <td>2022-07-01</td>\n",
       "    </tr>\n",
       "    <tr>\n",
       "      <th>34677</th>\n",
       "      <td>2022-03-13 23:12:43</td>\n",
       "      <td>2022031311936770</td>\n",
       "      <td>가격비교</td>\n",
       "      <td>21 ~ 00</td>\n",
       "      <td>3</td>\n",
       "      <td>newn****</td>\n",
       "      <td>[CJ직배송][CJ] 비비고 왕교자1.05KG X 3봉 + 수제고기만두 증정</td>\n",
       "      <td>30560</td>\n",
       "      <td>냉장/냉동/간편식 &gt; 떡볶이/만두 &gt; 만두</td>\n",
       "      <td>2022-03-13</td>\n",
       "    </tr>\n",
       "    <tr>\n",
       "      <th>34679</th>\n",
       "      <td>2022-07-09 00:51:15</td>\n",
       "      <td>2022070918421180</td>\n",
       "      <td>가격비교</td>\n",
       "      <td>00 ~ 03</td>\n",
       "      <td>7</td>\n",
       "      <td>newn****</td>\n",
       "      <td>[CJ직배송][한박스]더건강한 닭가슴살 직화 통살구이100gx24개</td>\n",
       "      <td>54000</td>\n",
       "      <td>가공식품 &gt; 통조림/캔 &gt; 닭가슴살통조림</td>\n",
       "      <td>2022-07-09</td>\n",
       "    </tr>\n",
       "    <tr>\n",
       "      <th>34686</th>\n",
       "      <td>2022-02-07 02:52:55</td>\n",
       "      <td>2022020717007150</td>\n",
       "      <td>가격비교</td>\n",
       "      <td>00 ~ 03</td>\n",
       "      <td>2</td>\n",
       "      <td>limm****</td>\n",
       "      <td>[CJ직배송]쇠고기 다시다골드 전문식당용 1kg X2개</td>\n",
       "      <td>32000</td>\n",
       "      <td>가공식품 &gt; 조미료/양념 &gt; 가공조미료</td>\n",
       "      <td>2022-02-07</td>\n",
       "    </tr>\n",
       "    <tr>\n",
       "      <th>34687</th>\n",
       "      <td>2022-05-02 20:07:05</td>\n",
       "      <td>2022050219469290</td>\n",
       "      <td>가격비교</td>\n",
       "      <td>18 ~ 21</td>\n",
       "      <td>5</td>\n",
       "      <td>limm****</td>\n",
       "      <td>[CJ직배송]포도씨유 900ML X 2개</td>\n",
       "      <td>20000</td>\n",
       "      <td>가공식품 &gt; 식용유/오일 &gt; 식용유/오일선물세트</td>\n",
       "      <td>2022-05-02</td>\n",
       "    </tr>\n",
       "  </tbody>\n",
       "</table>\n",
       "<p>3408 rows × 10 columns</p>\n",
       "</div>"
      ],
      "text/plain": [
       "                   주문접수일시              주문번호 유입채널 대분류  시간대 대분류  주문월       아이디  \\\n",
       "0     2022-01-07 06:55:35  2022010712865550     가격비교  06 ~ 09    1  love****   \n",
       "1     2022-01-07 06:57:53  2022010712865630     가격비교  06 ~ 09    1  love****   \n",
       "4     2022-01-10 16:28:22  2022011013337260     가격비교  15 ~ 18    1  love****   \n",
       "17    2022-03-01 16:16:20  2022030110171340     가격비교  15 ~ 18    3  love****   \n",
       "21    2022-03-10 13:32:41  2022031011458640     가격비교  12 ~ 15    3  love****   \n",
       "...                   ...               ...      ...      ...  ...       ...   \n",
       "34649 2022-07-01 08:05:17  2022070117332820     가격비교  06 ~ 09    7  csh7****   \n",
       "34677 2022-03-13 23:12:43  2022031311936770     가격비교  21 ~ 00    3  newn****   \n",
       "34679 2022-07-09 00:51:15  2022070918421180     가격비교  00 ~ 03    7  newn****   \n",
       "34686 2022-02-07 02:52:55  2022020717007150     가격비교  00 ~ 03    2  limm****   \n",
       "34687 2022-05-02 20:07:05  2022050219469290     가격비교  18 ~ 21    5  limm****   \n",
       "\n",
       "                                           판매자상품명    판매가  \\\n",
       "0                  [CJ직배송] CJ 햇반 매일잡곡밥 210g x 24개  36000   \n",
       "1                  [CJ직배송] CJ 햇반 매일잡곡밥 210g x 24개  36000   \n",
       "4                 [CJ직배송]쉐프솔루션 고기만땅왕교자 1.05KG X3개  20940   \n",
       "17                     [CJ직배송]고메포테이토+불고기+콤비네이션 피자  20940   \n",
       "21                  [CJ직배송]비비고 우리아이한입 썰은김치270GX4개  20270   \n",
       "...                                           ...    ...   \n",
       "34649                         고메바삭튀겨낸통등심돈카츠450g*3  27090   \n",
       "34677  [CJ직배송][CJ] 비비고 왕교자1.05KG X 3봉 + 수제고기만두 증정  30560   \n",
       "34679       [CJ직배송][한박스]더건강한 닭가슴살 직화 통살구이100gx24개  54000   \n",
       "34686              [CJ직배송]쇠고기 다시다골드 전문식당용 1kg X2개  32000   \n",
       "34687                      [CJ직배송]포도씨유 900ML X 2개  20000   \n",
       "\n",
       "                                표준카테고리       주문날짜  \n",
       "0           냉장/냉동/간편식 > 즉석밥/죽/스프 > 즉석밥 2022-01-07  \n",
       "1           냉장/냉동/간편식 > 즉석밥/죽/스프 > 즉석밥 2022-01-07  \n",
       "4              냉장/냉동/간편식 > 떡볶이/만두 > 만두 2022-01-10  \n",
       "17     냉장/냉동/간편식 > 피자/핫도그/햄버거 > 피자/햄버거 2022-03-01  \n",
       "21                   김치/반찬 > 김치 > 포기김치 2022-03-10  \n",
       "...                                ...        ...  \n",
       "34649      냉장/냉동/간편식 > 기타즉석식품 > 기타즉석식품 2022-07-01  \n",
       "34677          냉장/냉동/간편식 > 떡볶이/만두 > 만두 2022-03-13  \n",
       "34679           가공식품 > 통조림/캔 > 닭가슴살통조림 2022-07-09  \n",
       "34686            가공식품 > 조미료/양념 > 가공조미료 2022-02-07  \n",
       "34687       가공식품 > 식용유/오일 > 식용유/오일선물세트 2022-05-02  \n",
       "\n",
       "[3408 rows x 10 columns]"
      ]
     },
     "execution_count": 154,
     "metadata": {},
     "output_type": "execute_result"
    }
   ],
   "source": [
    "df_id_g"
   ]
  },
  {
   "cell_type": "code",
   "execution_count": 155,
   "metadata": {},
   "outputs": [
    {
     "data": {
      "text/plain": [
       "<AxesSubplot:xlabel='시간대 대분류', ylabel='count'>"
      ]
     },
     "execution_count": 155,
     "metadata": {},
     "output_type": "execute_result"
    },
    {
     "data": {
      "image/png": "[encoded data removed]",
      "text/plain": [
       "<Figure size 432x288 with 1 Axes>"
      ]
     },
     "metadata": {
      "needs_background": "light"
     },
     "output_type": "display_data"
    }
   ],
   "source": [
    "sns.countplot(x = '시간대 대분류', data = df_id_g, order=['00 ~ 03', '03 ~ 06', '06 ~ 09', '09 ~ 12', '12 ~ 15', '15 ~ 18', '18 ~ 21', '21 ~ 00'])#역시 21-00시 많음"
   ]
  },
  {
   "cell_type": "code",
   "execution_count": 156,
   "metadata": {},
   "outputs": [
    {
     "data": {
      "text/plain": [
       "판매자상품명\n",
       "[CJ직배송]포도씨유 900ML X 2개                        274\n",
       "[CJ직배송][CJ] 비비고 왕교자1.05KG X 3봉 + 수제고기만두 증정    206\n",
       "CJ 햇반 쿡반 주먹밥 5종 골라담기                          121\n",
       "[CJ직배송]햇반 100%현미로 지은밥 130G x36개               112\n",
       "다담 된장찌개양념 530G X 4개                           107\n",
       "[CJ직배송] New 햇반 210g*3입X 8개(총24개)              103\n",
       "[CJ직배송] CJ 햇반 백미 210g x 36개                    93\n",
       "[CJ직배송]비비고 파김치800g                             77\n",
       "비비고 사골곰탕 500g x18봉                             75\n",
       "[CJ직배송]더건강한 닭가슴살 직화 통살구이100G X 6개              59\n",
       "다담 된장찌개양념 530Gx3개                              55\n",
       "[CJ직배송]햇반 발아현미밥 210gX36개[1박스]                  47\n",
       "CJ 해찬들 우리쌀로만든태양초골드고추장2kgP X 2개                 47\n",
       "[CJ직배송] 햇반 작은공기 130GX24개                       45\n",
       "[특가+증정] CJ 비비고 왕교자 1.05kg X 3개 + 찐만두 증정        41\n",
       "C J하선정 집김치처럼 시원한 포기김치 5kg                      39\n",
       "[CJ직배송]CJ비비고왕교자1.05KG X 2개                     36\n",
       "[CJ직배송]더건강한 닭가슴살 직화 스테이크100G X 6개              34\n",
       "[CJ직배송][한박스]더건강한 닭가슴살 직화 통살구이100gx24개          28\n",
       "다담 순두부찌개 양념 140g x10                           28\n",
       "Name: 주문번호, dtype: int64"
      ]
     },
     "execution_count": 156,
     "metadata": {},
     "output_type": "execute_result"
    }
   ],
   "source": [
    "df_id_g.groupby('판매자상품명')['주문번호'].count().sort_values(ascending=False)[:20]"
   ]
  },
  {
   "cell_type": "code",
   "execution_count": 157,
   "metadata": {
    "scrolled": false
   },
   "outputs": [
    {
     "data": {
      "text/plain": [
       "표준카테고리\n",
       "냉장/냉동/간편식 > 즉석밥/죽/스프 > 즉석밥       671\n",
       "냉장/냉동/간편식 > 떡볶이/만두 > 만두          538\n",
       "가공식품 > 식용유/오일 > 식용유/오일선물세트       272\n",
       "냉장/냉동/간편식 > 돈가스/고로케/너겟 > 돈가스     231\n",
       "가공식품 > 장류 > 된장/쌈장/청국장            231\n",
       "김치/반찬 > 김치 > 포기김치                180\n",
       "냉장/냉동/간편식 > 국/탕/찌개 > 국/탕         164\n",
       "냉장/냉동/간편식 > 햄/소시지/베이컨 > 햄/소시지    147\n",
       "가공식품 > 장류 > 고추장/초고추장             144\n",
       "가공식품 > 소스/드레싱 > 굴소스/중화요리소스        98\n",
       "Name: 주문번호, dtype: int64"
      ]
     },
     "execution_count": 157,
     "metadata": {},
     "output_type": "execute_result"
    }
   ],
   "source": [
    "df_id_g.groupby('표준카테고리')['주문번호'].count().sort_values(ascending=False)[:10]"
   ]
  },
  {
   "cell_type": "code",
   "execution_count": 227,
   "metadata": {},
   "outputs": [
    {
     "data": {
      "text/html": [
       "<div>\n",
       "<style scoped>\n",
       "    .dataframe tbody tr th:only-of-type {\n",
       "        vertical-align: middle;\n",
       "    }\n",
       "\n",
       "    .dataframe tbody tr th {\n",
       "        vertical-align: top;\n",
       "    }\n",
       "\n",
       "    .dataframe thead th {\n",
       "        text-align: right;\n",
       "    }\n",
       "</style>\n",
       "<table border=\"1\" class=\"dataframe\">\n",
       "  <thead>\n",
       "    <tr style=\"text-align: right;\">\n",
       "      <th></th>\n",
       "      <th></th>\n",
       "      <th>주문번호</th>\n",
       "    </tr>\n",
       "    <tr>\n",
       "      <th>판매자상품명</th>\n",
       "      <th>판매가</th>\n",
       "      <th></th>\n",
       "    </tr>\n",
       "  </thead>\n",
       "  <tbody>\n",
       "    <tr>\n",
       "      <th rowspan=\"3\" valign=\"top\">CJ 햇반 큰공기 300G x18</th>\n",
       "      <th>32400</th>\n",
       "      <td>3</td>\n",
       "    </tr>\n",
       "    <tr>\n",
       "      <th>38690</th>\n",
       "      <td>1</td>\n",
       "    </tr>\n",
       "    <tr>\n",
       "      <th>38800</th>\n",
       "      <td>3</td>\n",
       "    </tr>\n",
       "    <tr>\n",
       "      <th>[3/9 이후 출고][CJ직배송] CJ 햇반 발아현미밥 210Gx24개</th>\n",
       "      <th>40340</th>\n",
       "      <td>1</td>\n",
       "    </tr>\n",
       "    <tr>\n",
       "      <th>[4/25 출고][CJ직배송] 햇반 100% 현미로 지은밥 130G x24</th>\n",
       "      <th>38890</th>\n",
       "      <td>2</td>\n",
       "    </tr>\n",
       "    <tr>\n",
       "      <th>...</th>\n",
       "      <th>...</th>\n",
       "      <td>...</td>\n",
       "    </tr>\n",
       "    <tr>\n",
       "      <th>비비고 프리미엄 죽 6개 골라담기</th>\n",
       "      <th>30700</th>\n",
       "      <td>2</td>\n",
       "    </tr>\n",
       "    <tr>\n",
       "      <th>햇반 100% 현미로 지은밥 130G*3 x12</th>\n",
       "      <th>53000</th>\n",
       "      <td>11</td>\n",
       "    </tr>\n",
       "    <tr>\n",
       "      <th>햇반 BIG 컵반 골라담기</th>\n",
       "      <th>30480</th>\n",
       "      <td>2</td>\n",
       "    </tr>\n",
       "    <tr>\n",
       "      <th>햇반 오곡밥 210g x24</th>\n",
       "      <th>31200</th>\n",
       "      <td>1</td>\n",
       "    </tr>\n",
       "    <tr>\n",
       "      <th>햇반 작은공기/100% 현미밥130g x 36개</th>\n",
       "      <th>34800</th>\n",
       "      <td>19</td>\n",
       "    </tr>\n",
       "  </tbody>\n",
       "</table>\n",
       "<p>116 rows × 1 columns</p>\n",
       "</div>"
      ],
      "text/plain": [
       "                                                 주문번호\n",
       "판매자상품명                                    판매가        \n",
       "CJ 햇반 큰공기 300G x18                        32400     3\n",
       "                                          38690     1\n",
       "                                          38800     3\n",
       "[3/9 이후 출고][CJ직배송] CJ 햇반 발아현미밥 210Gx24개   40340     1\n",
       "[4/25 출고][CJ직배송] 햇반 100% 현미로 지은밥 130G x24 38890     2\n",
       "...                                               ...\n",
       "비비고 프리미엄 죽 6개 골라담기                        30700     2\n",
       "햇반 100% 현미로 지은밥 130G*3 x12                53000    11\n",
       "햇반 BIG 컵반 골라담기                            30480     2\n",
       "햇반 오곡밥 210g x24                           31200     1\n",
       "햇반 작은공기/100% 현미밥130g x 36개                34800    19\n",
       "\n",
       "[116 rows x 1 columns]"
      ]
     },
     "execution_count": 227,
     "metadata": {},
     "output_type": "execute_result"
    }
   ],
   "source": [
    "# 즉석밥 모니터링\n",
    "df_id_g1 = df_id_g[df_id_g['표준카테고리'] == df_id_g.groupby('표준카테고리')['주문번호'].count().sort_values(ascending=False).index[0]]\n",
    "df_id_g1[['판매자상품명', '판매가']]\n",
    "df_id_g1.groupby(['판매자상품명', '판매가'])[['주문번호']].count()"
   ]
  },
  {
   "cell_type": "markdown",
   "metadata": {},
   "source": [
    "### 다음과 같이 가격대를 모니터링하여, 가격비교 사이트에서는, 사람들이 많이 주문하는 가격대 상한선에서 이벤트를 진행하면 좋을 것 같다."
   ]
  },
  {
   "cell_type": "code",
   "execution_count": 169,
   "metadata": {
    "scrolled": true
   },
   "outputs": [
    {
     "data": {
      "text/html": [
       "<div>\n",
       "<style scoped>\n",
       "    .dataframe tbody tr th:only-of-type {\n",
       "        vertical-align: middle;\n",
       "    }\n",
       "\n",
       "    .dataframe tbody tr th {\n",
       "        vertical-align: top;\n",
       "    }\n",
       "\n",
       "    .dataframe thead th {\n",
       "        text-align: right;\n",
       "    }\n",
       "</style>\n",
       "<table border=\"1\" class=\"dataframe\">\n",
       "  <thead>\n",
       "    <tr style=\"text-align: right;\">\n",
       "      <th></th>\n",
       "      <th>주문접수일시</th>\n",
       "      <th>주문번호</th>\n",
       "      <th>유입채널 대분류</th>\n",
       "      <th>시간대 대분류</th>\n",
       "      <th>주문월</th>\n",
       "      <th>아이디</th>\n",
       "      <th>판매자상품명</th>\n",
       "      <th>판매가</th>\n",
       "      <th>표준카테고리</th>\n",
       "      <th>주문날짜</th>\n",
       "    </tr>\n",
       "  </thead>\n",
       "  <tbody>\n",
       "    <tr>\n",
       "      <th>0</th>\n",
       "      <td>2022-01-07 06:55:35</td>\n",
       "      <td>2022010712865550</td>\n",
       "      <td>가격비교</td>\n",
       "      <td>06 ~ 09</td>\n",
       "      <td>1</td>\n",
       "      <td>love****</td>\n",
       "      <td>[CJ직배송] CJ 햇반 매일잡곡밥 210g x 24개</td>\n",
       "      <td>36000</td>\n",
       "      <td>냉장/냉동/간편식 &gt; 즉석밥/죽/스프 &gt; 즉석밥</td>\n",
       "      <td>2022-01-07</td>\n",
       "    </tr>\n",
       "    <tr>\n",
       "      <th>1</th>\n",
       "      <td>2022-01-07 06:57:53</td>\n",
       "      <td>2022010712865630</td>\n",
       "      <td>가격비교</td>\n",
       "      <td>06 ~ 09</td>\n",
       "      <td>1</td>\n",
       "      <td>love****</td>\n",
       "      <td>[CJ직배송] CJ 햇반 매일잡곡밥 210g x 24개</td>\n",
       "      <td>36000</td>\n",
       "      <td>냉장/냉동/간편식 &gt; 즉석밥/죽/스프 &gt; 즉석밥</td>\n",
       "      <td>2022-01-07</td>\n",
       "    </tr>\n",
       "    <tr>\n",
       "      <th>2</th>\n",
       "      <td>2022-01-10 09:36:32</td>\n",
       "      <td>2022011013280040</td>\n",
       "      <td>검색</td>\n",
       "      <td>09 ~ 12</td>\n",
       "      <td>1</td>\n",
       "      <td>love****</td>\n",
       "      <td>CJ 고메 중화짜장 760Gx3개</td>\n",
       "      <td>21530</td>\n",
       "      <td>가공식품 &gt; 면류 &gt; 중화면</td>\n",
       "      <td>2022-01-10</td>\n",
       "    </tr>\n",
       "    <tr>\n",
       "      <th>3</th>\n",
       "      <td>2022-01-10 11:56:34</td>\n",
       "      <td>2022011013300450</td>\n",
       "      <td>CJ 앱/사이트</td>\n",
       "      <td>09 ~ 12</td>\n",
       "      <td>1</td>\n",
       "      <td>love****</td>\n",
       "      <td>[CJ직배송]CJ비비고왕교자1.05KG X 2개</td>\n",
       "      <td>19920</td>\n",
       "      <td>냉장/냉동/간편식 &gt; 떡볶이/만두 &gt; 만두</td>\n",
       "      <td>2022-01-10</td>\n",
       "    </tr>\n",
       "    <tr>\n",
       "      <th>4</th>\n",
       "      <td>2022-01-10 16:28:22</td>\n",
       "      <td>2022011013337260</td>\n",
       "      <td>가격비교</td>\n",
       "      <td>15 ~ 18</td>\n",
       "      <td>1</td>\n",
       "      <td>love****</td>\n",
       "      <td>[CJ직배송]쉐프솔루션 고기만땅왕교자 1.05KG X3개</td>\n",
       "      <td>20940</td>\n",
       "      <td>냉장/냉동/간편식 &gt; 떡볶이/만두 &gt; 만두</td>\n",
       "      <td>2022-01-10</td>\n",
       "    </tr>\n",
       "  </tbody>\n",
       "</table>\n",
       "</div>"
      ],
      "text/plain": [
       "               주문접수일시              주문번호  유입채널 대분류  시간대 대분류  주문월       아이디  \\\n",
       "0 2022-01-07 06:55:35  2022010712865550      가격비교  06 ~ 09    1  love****   \n",
       "1 2022-01-07 06:57:53  2022010712865630      가격비교  06 ~ 09    1  love****   \n",
       "2 2022-01-10 09:36:32  2022011013280040        검색  09 ~ 12    1  love****   \n",
       "3 2022-01-10 11:56:34  2022011013300450  CJ 앱/사이트  09 ~ 12    1  love****   \n",
       "4 2022-01-10 16:28:22  2022011013337260      가격비교  15 ~ 18    1  love****   \n",
       "\n",
       "                            판매자상품명    판매가                      표준카테고리  \\\n",
       "0   [CJ직배송] CJ 햇반 매일잡곡밥 210g x 24개  36000  냉장/냉동/간편식 > 즉석밥/죽/스프 > 즉석밥   \n",
       "1   [CJ직배송] CJ 햇반 매일잡곡밥 210g x 24개  36000  냉장/냉동/간편식 > 즉석밥/죽/스프 > 즉석밥   \n",
       "2               CJ 고메 중화짜장 760Gx3개  21530             가공식품 > 면류 > 중화면   \n",
       "3       [CJ직배송]CJ비비고왕교자1.05KG X 2개  19920     냉장/냉동/간편식 > 떡볶이/만두 > 만두   \n",
       "4  [CJ직배송]쉐프솔루션 고기만땅왕교자 1.05KG X3개  20940     냉장/냉동/간편식 > 떡볶이/만두 > 만두   \n",
       "\n",
       "        주문날짜  \n",
       "0 2022-01-07  \n",
       "1 2022-01-07  \n",
       "2 2022-01-10  \n",
       "3 2022-01-10  \n",
       "4 2022-01-10  "
      ]
     },
     "execution_count": 169,
     "metadata": {},
     "output_type": "execute_result"
    }
   ],
   "source": [
    "df_id.head()"
   ]
  },
  {
   "cell_type": "code",
   "execution_count": 230,
   "metadata": {},
   "outputs": [
    {
     "data": {
      "text/html": [
       "<div>\n",
       "<style scoped>\n",
       "    .dataframe tbody tr th:only-of-type {\n",
       "        vertical-align: middle;\n",
       "    }\n",
       "\n",
       "    .dataframe tbody tr th {\n",
       "        vertical-align: top;\n",
       "    }\n",
       "\n",
       "    .dataframe thead th {\n",
       "        text-align: right;\n",
       "    }\n",
       "</style>\n",
       "<table border=\"1\" class=\"dataframe\">\n",
       "  <thead>\n",
       "    <tr style=\"text-align: right;\">\n",
       "      <th></th>\n",
       "      <th>주문접수일시</th>\n",
       "      <th>주문번호</th>\n",
       "      <th>유입채널 대분류</th>\n",
       "      <th>시간대 대분류</th>\n",
       "      <th>주문월</th>\n",
       "      <th>아이디</th>\n",
       "      <th>판매자상품명</th>\n",
       "      <th>판매가</th>\n",
       "      <th>표준카테고리</th>\n",
       "      <th>주문날짜</th>\n",
       "    </tr>\n",
       "  </thead>\n",
       "  <tbody>\n",
       "    <tr>\n",
       "      <th>63</th>\n",
       "      <td>2022-05-16 01:37:14</td>\n",
       "      <td>2022051611214510</td>\n",
       "      <td>모바일 공유</td>\n",
       "      <td>00 ~ 03</td>\n",
       "      <td>5</td>\n",
       "      <td>love****</td>\n",
       "      <td>[CJ직배송]포도씨유 900ML X 2개</td>\n",
       "      <td>20000</td>\n",
       "      <td>가공식품 &gt; 식용유/오일 &gt; 식용유/오일선물세트</td>\n",
       "      <td>2022-05-16</td>\n",
       "    </tr>\n",
       "    <tr>\n",
       "      <th>65</th>\n",
       "      <td>2022-05-16 01:47:55</td>\n",
       "      <td>2022051611215230</td>\n",
       "      <td>모바일 공유</td>\n",
       "      <td>00 ~ 03</td>\n",
       "      <td>5</td>\n",
       "      <td>love****</td>\n",
       "      <td>[CJ직배송]포도씨유 900ML X 2개</td>\n",
       "      <td>20000</td>\n",
       "      <td>가공식품 &gt; 식용유/오일 &gt; 식용유/오일선물세트</td>\n",
       "      <td>2022-05-16</td>\n",
       "    </tr>\n",
       "    <tr>\n",
       "      <th>66</th>\n",
       "      <td>2022-05-16 06:16:09</td>\n",
       "      <td>2022051611222460</td>\n",
       "      <td>모바일 공유</td>\n",
       "      <td>06 ~ 09</td>\n",
       "      <td>5</td>\n",
       "      <td>love****</td>\n",
       "      <td>[CJ직배송]포도씨유 900ML X 2개</td>\n",
       "      <td>20000</td>\n",
       "      <td>가공식품 &gt; 식용유/오일 &gt; 식용유/오일선물세트</td>\n",
       "      <td>2022-05-16</td>\n",
       "    </tr>\n",
       "    <tr>\n",
       "      <th>67</th>\n",
       "      <td>2022-05-16 07:10:43</td>\n",
       "      <td>2022051611224810</td>\n",
       "      <td>모바일 공유</td>\n",
       "      <td>06 ~ 09</td>\n",
       "      <td>5</td>\n",
       "      <td>love****</td>\n",
       "      <td>[CJ직배송]포도씨유 900ML X 2개</td>\n",
       "      <td>20000</td>\n",
       "      <td>가공식품 &gt; 식용유/오일 &gt; 식용유/오일선물세트</td>\n",
       "      <td>2022-05-16</td>\n",
       "    </tr>\n",
       "    <tr>\n",
       "      <th>68</th>\n",
       "      <td>2022-05-16 08:37:09</td>\n",
       "      <td>2022051611231930</td>\n",
       "      <td>모바일 공유</td>\n",
       "      <td>06 ~ 09</td>\n",
       "      <td>5</td>\n",
       "      <td>love****</td>\n",
       "      <td>[CJ직배송]포도씨유 900ML X 2개</td>\n",
       "      <td>20000</td>\n",
       "      <td>가공식품 &gt; 식용유/오일 &gt; 식용유/오일선물세트</td>\n",
       "      <td>2022-05-16</td>\n",
       "    </tr>\n",
       "    <tr>\n",
       "      <th>...</th>\n",
       "      <td>...</td>\n",
       "      <td>...</td>\n",
       "      <td>...</td>\n",
       "      <td>...</td>\n",
       "      <td>...</td>\n",
       "      <td>...</td>\n",
       "      <td>...</td>\n",
       "      <td>...</td>\n",
       "      <td>...</td>\n",
       "      <td>...</td>\n",
       "    </tr>\n",
       "    <tr>\n",
       "      <th>34441</th>\n",
       "      <td>2022-05-16 01:32:23</td>\n",
       "      <td>2022051611214130</td>\n",
       "      <td>모바일 공유</td>\n",
       "      <td>00 ~ 03</td>\n",
       "      <td>5</td>\n",
       "      <td>ibbu****</td>\n",
       "      <td>[CJ직배송]포도씨유 900ML X 2개</td>\n",
       "      <td>20000</td>\n",
       "      <td>가공식품 &gt; 식용유/오일 &gt; 식용유/오일선물세트</td>\n",
       "      <td>2022-05-16</td>\n",
       "    </tr>\n",
       "    <tr>\n",
       "      <th>34467</th>\n",
       "      <td>2022-06-08 05:43:46</td>\n",
       "      <td>2022060814305580</td>\n",
       "      <td>모바일 공유</td>\n",
       "      <td>03 ~ 06</td>\n",
       "      <td>6</td>\n",
       "      <td>pro2****</td>\n",
       "      <td>비비고 사골곰탕 500g x18봉</td>\n",
       "      <td>24000</td>\n",
       "      <td>냉장/냉동/간편식 &gt; 국/탕/찌개 &gt; 국/탕</td>\n",
       "      <td>2022-06-08</td>\n",
       "    </tr>\n",
       "    <tr>\n",
       "      <th>34468</th>\n",
       "      <td>2022-06-09 22:47:08</td>\n",
       "      <td>2022060914559760</td>\n",
       "      <td>모바일 공유</td>\n",
       "      <td>21 ~ 00</td>\n",
       "      <td>6</td>\n",
       "      <td>pro2****</td>\n",
       "      <td>비비고 BEST 볶음밥 3종 특가[불고기 비빔밥 + 매콤부추고기볶음밥 + 간장버터장...</td>\n",
       "      <td>14700</td>\n",
       "      <td>냉장/냉동/간편식 &gt; 즉석밥/죽/스프 &gt; 볶음밥</td>\n",
       "      <td>2022-06-09</td>\n",
       "    </tr>\n",
       "    <tr>\n",
       "      <th>34469</th>\n",
       "      <td>2022-06-09 22:53:54</td>\n",
       "      <td>2022060914560770</td>\n",
       "      <td>모바일 공유</td>\n",
       "      <td>21 ~ 00</td>\n",
       "      <td>6</td>\n",
       "      <td>pro2****</td>\n",
       "      <td>비비고 새우볶음밥 420g x3개</td>\n",
       "      <td>16050</td>\n",
       "      <td>냉장/냉동/간편식 &gt; 즉석밥/죽/스프 &gt; 볶음밥</td>\n",
       "      <td>2022-06-09</td>\n",
       "    </tr>\n",
       "    <tr>\n",
       "      <th>34525</th>\n",
       "      <td>2022-05-16 01:19:08</td>\n",
       "      <td>2022051611212910</td>\n",
       "      <td>모바일 공유</td>\n",
       "      <td>00 ~ 03</td>\n",
       "      <td>5</td>\n",
       "      <td>whal****</td>\n",
       "      <td>[CJ직배송]포도씨유 900ML X 2개</td>\n",
       "      <td>20000</td>\n",
       "      <td>가공식품 &gt; 식용유/오일 &gt; 식용유/오일선물세트</td>\n",
       "      <td>2022-05-16</td>\n",
       "    </tr>\n",
       "  </tbody>\n",
       "</table>\n",
       "<p>833 rows × 10 columns</p>\n",
       "</div>"
      ],
      "text/plain": [
       "                   주문접수일시              주문번호 유입채널 대분류  시간대 대분류  주문월       아이디  \\\n",
       "63    2022-05-16 01:37:14  2022051611214510   모바일 공유  00 ~ 03    5  love****   \n",
       "65    2022-05-16 01:47:55  2022051611215230   모바일 공유  00 ~ 03    5  love****   \n",
       "66    2022-05-16 06:16:09  2022051611222460   모바일 공유  06 ~ 09    5  love****   \n",
       "67    2022-05-16 07:10:43  2022051611224810   모바일 공유  06 ~ 09    5  love****   \n",
       "68    2022-05-16 08:37:09  2022051611231930   모바일 공유  06 ~ 09    5  love****   \n",
       "...                   ...               ...      ...      ...  ...       ...   \n",
       "34441 2022-05-16 01:32:23  2022051611214130   모바일 공유  00 ~ 03    5  ibbu****   \n",
       "34467 2022-06-08 05:43:46  2022060814305580   모바일 공유  03 ~ 06    6  pro2****   \n",
       "34468 2022-06-09 22:47:08  2022060914559760   모바일 공유  21 ~ 00    6  pro2****   \n",
       "34469 2022-06-09 22:53:54  2022060914560770   모바일 공유  21 ~ 00    6  pro2****   \n",
       "34525 2022-05-16 01:19:08  2022051611212910   모바일 공유  00 ~ 03    5  whal****   \n",
       "\n",
       "                                                  판매자상품명    판매가  \\\n",
       "63                                [CJ직배송]포도씨유 900ML X 2개  20000   \n",
       "65                                [CJ직배송]포도씨유 900ML X 2개  20000   \n",
       "66                                [CJ직배송]포도씨유 900ML X 2개  20000   \n",
       "67                                [CJ직배송]포도씨유 900ML X 2개  20000   \n",
       "68                                [CJ직배송]포도씨유 900ML X 2개  20000   \n",
       "...                                                  ...    ...   \n",
       "34441                             [CJ직배송]포도씨유 900ML X 2개  20000   \n",
       "34467                                 비비고 사골곰탕 500g x18봉  24000   \n",
       "34468  비비고 BEST 볶음밥 3종 특가[불고기 비빔밥 + 매콤부추고기볶음밥 + 간장버터장...  14700   \n",
       "34469                                 비비고 새우볶음밥 420g x3개  16050   \n",
       "34525                             [CJ직배송]포도씨유 900ML X 2개  20000   \n",
       "\n",
       "                           표준카테고리       주문날짜  \n",
       "63     가공식품 > 식용유/오일 > 식용유/오일선물세트 2022-05-16  \n",
       "65     가공식품 > 식용유/오일 > 식용유/오일선물세트 2022-05-16  \n",
       "66     가공식품 > 식용유/오일 > 식용유/오일선물세트 2022-05-16  \n",
       "67     가공식품 > 식용유/오일 > 식용유/오일선물세트 2022-05-16  \n",
       "68     가공식품 > 식용유/오일 > 식용유/오일선물세트 2022-05-16  \n",
       "...                           ...        ...  \n",
       "34441  가공식품 > 식용유/오일 > 식용유/오일선물세트 2022-05-16  \n",
       "34467    냉장/냉동/간편식 > 국/탕/찌개 > 국/탕 2022-06-08  \n",
       "34468  냉장/냉동/간편식 > 즉석밥/죽/스프 > 볶음밥 2022-06-09  \n",
       "34469  냉장/냉동/간편식 > 즉석밥/죽/스프 > 볶음밥 2022-06-09  \n",
       "34525  가공식품 > 식용유/오일 > 식용유/오일선물세트 2022-05-16  \n",
       "\n",
       "[833 rows x 10 columns]"
      ]
     },
     "execution_count": 230,
     "metadata": {},
     "output_type": "execute_result"
    }
   ],
   "source": [
    "df_id_m=df_id[df_id['유입채널 대분류']==\"모바일 공유\"]\n",
    "df_id_m"
   ]
  },
  {
   "cell_type": "code",
   "execution_count": 231,
   "metadata": {},
   "outputs": [
    {
     "data": {
      "text/plain": [
       "<AxesSubplot:xlabel='시간대 대분류', ylabel='count'>"
      ]
     },
     "execution_count": 231,
     "metadata": {},
     "output_type": "execute_result"
    },
    {
     "data": {
      "image/png": "[encoded data removed]",
      "text/plain": [
       "<Figure size 432x288 with 1 Axes>"
      ]
     },
     "metadata": {
      "needs_background": "light"
     },
     "output_type": "display_data"
    }
   ],
   "source": [
    "sns.countplot(x = '시간대 대분류', data = df_id_m, order=['00 ~ 03', '03 ~ 06', '06 ~ 09', '09 ~ 12', '12 ~ 15', '15 ~ 18', '18 ~ 21', '21 ~ 00'])"
   ]
  },
  {
   "cell_type": "markdown",
   "metadata": {},
   "source": [
    "### -> 모바일 공유 플랫폼은 주로 오전시간대에 많이 이용하는 것으로 파악되며, 이 시간대에 CJ 광고를 활성화 하면 좋을 것 같다."
   ]
  },
  {
   "cell_type": "code",
   "execution_count": 236,
   "metadata": {},
   "outputs": [
    {
     "data": {
      "text/html": [
       "<div>\n",
       "<style scoped>\n",
       "    .dataframe tbody tr th:only-of-type {\n",
       "        vertical-align: middle;\n",
       "    }\n",
       "\n",
       "    .dataframe tbody tr th {\n",
       "        vertical-align: top;\n",
       "    }\n",
       "\n",
       "    .dataframe thead th {\n",
       "        text-align: right;\n",
       "    }\n",
       "</style>\n",
       "<table border=\"1\" class=\"dataframe\">\n",
       "  <thead>\n",
       "    <tr style=\"text-align: right;\">\n",
       "      <th></th>\n",
       "      <th>주문접수일시</th>\n",
       "      <th>주문번호</th>\n",
       "      <th>유입채널 대분류</th>\n",
       "      <th>시간대 대분류</th>\n",
       "      <th>주문월</th>\n",
       "      <th>아이디</th>\n",
       "      <th>판매자상품명</th>\n",
       "      <th>판매가</th>\n",
       "      <th>표준카테고리</th>\n",
       "      <th>주문날짜</th>\n",
       "    </tr>\n",
       "  </thead>\n",
       "  <tbody>\n",
       "    <tr>\n",
       "      <th>2</th>\n",
       "      <td>2022-01-10 09:36:32</td>\n",
       "      <td>2022011013280040</td>\n",
       "      <td>검색</td>\n",
       "      <td>09 ~ 12</td>\n",
       "      <td>1</td>\n",
       "      <td>love****</td>\n",
       "      <td>CJ 고메 중화짜장 760Gx3개</td>\n",
       "      <td>21530</td>\n",
       "      <td>가공식품 &gt; 면류 &gt; 중화면</td>\n",
       "      <td>2022-01-10</td>\n",
       "    </tr>\n",
       "    <tr>\n",
       "      <th>5</th>\n",
       "      <td>2022-01-13 22:17:23</td>\n",
       "      <td>2022011313815590</td>\n",
       "      <td>검색</td>\n",
       "      <td>21 ~ 00</td>\n",
       "      <td>1</td>\n",
       "      <td>love****</td>\n",
       "      <td>CJ 다담 정통된장찌개양념 140g x10</td>\n",
       "      <td>13800</td>\n",
       "      <td>가공식품 &gt; 소스/드레싱 &gt; 굴소스/중화요리소스</td>\n",
       "      <td>2022-01-13</td>\n",
       "    </tr>\n",
       "    <tr>\n",
       "      <th>58</th>\n",
       "      <td>2022-05-09 15:20:15</td>\n",
       "      <td>2022050910368990</td>\n",
       "      <td>검색</td>\n",
       "      <td>15 ~ 18</td>\n",
       "      <td>5</td>\n",
       "      <td>love****</td>\n",
       "      <td>다담 된장찌개양념 530Gx2개</td>\n",
       "      <td>10670</td>\n",
       "      <td>가공식품 &gt; 소스/드레싱 &gt; 칠리/살사소스</td>\n",
       "      <td>2022-05-09</td>\n",
       "    </tr>\n",
       "    <tr>\n",
       "      <th>59</th>\n",
       "      <td>2022-05-09 15:20:15</td>\n",
       "      <td>2022050910368990</td>\n",
       "      <td>검색</td>\n",
       "      <td>15 ~ 18</td>\n",
       "      <td>5</td>\n",
       "      <td>love****</td>\n",
       "      <td>[CJ직배송]다담 보리쌈장 570G 냉장 X 3개</td>\n",
       "      <td>14000</td>\n",
       "      <td>가공식품 &gt; 장류 &gt; 된장/쌈장/청국장</td>\n",
       "      <td>2022-05-09</td>\n",
       "    </tr>\n",
       "    <tr>\n",
       "      <th>138</th>\n",
       "      <td>2022-06-14 14:45:15</td>\n",
       "      <td>2022061415143200</td>\n",
       "      <td>검색</td>\n",
       "      <td>12 ~ 15</td>\n",
       "      <td>6</td>\n",
       "      <td>love****</td>\n",
       "      <td>비비고 김치볶음 80G x10개</td>\n",
       "      <td>15000</td>\n",
       "      <td>김치/반찬 &gt; 김치 &gt; 기타김치</td>\n",
       "      <td>2022-06-14</td>\n",
       "    </tr>\n",
       "    <tr>\n",
       "      <th>...</th>\n",
       "      <td>...</td>\n",
       "      <td>...</td>\n",
       "      <td>...</td>\n",
       "      <td>...</td>\n",
       "      <td>...</td>\n",
       "      <td>...</td>\n",
       "      <td>...</td>\n",
       "      <td>...</td>\n",
       "      <td>...</td>\n",
       "      <td>...</td>\n",
       "    </tr>\n",
       "    <tr>\n",
       "      <th>33777</th>\n",
       "      <td>2022-05-05 17:16:47</td>\n",
       "      <td>2022050519865240</td>\n",
       "      <td>검색</td>\n",
       "      <td>15 ~ 18</td>\n",
       "      <td>5</td>\n",
       "      <td>spoo****</td>\n",
       "      <td>다담 된장찌개양념 530Gx3개</td>\n",
       "      <td>16000</td>\n",
       "      <td>가공식품 &gt; 장류 &gt; 된장/쌈장/청국장</td>\n",
       "      <td>2022-05-05</td>\n",
       "    </tr>\n",
       "    <tr>\n",
       "      <th>34050</th>\n",
       "      <td>2022-01-25 14:41:38</td>\n",
       "      <td>2022012515534390</td>\n",
       "      <td>검색</td>\n",
       "      <td>12 ~ 15</td>\n",
       "      <td>1</td>\n",
       "      <td>saka****</td>\n",
       "      <td>CJ 다담 된장찌개양념 530G *2</td>\n",
       "      <td>9800</td>\n",
       "      <td>가공식품 &gt; 소스/드레싱 &gt; 칠리/살사소스</td>\n",
       "      <td>2022-01-25</td>\n",
       "    </tr>\n",
       "    <tr>\n",
       "      <th>34210</th>\n",
       "      <td>2022-05-26 23:21:18</td>\n",
       "      <td>2022052612722350</td>\n",
       "      <td>검색</td>\n",
       "      <td>21 ~ 00</td>\n",
       "      <td>5</td>\n",
       "      <td>saei****</td>\n",
       "      <td>[비비고X사내맞선] 비비고 한우사골곰탕500G X6개</td>\n",
       "      <td>13080</td>\n",
       "      <td>냉장/냉동/간편식 &gt; 국/탕/찌개 &gt; 국/탕</td>\n",
       "      <td>2022-05-26</td>\n",
       "    </tr>\n",
       "    <tr>\n",
       "      <th>34211</th>\n",
       "      <td>2022-05-26 23:21:18</td>\n",
       "      <td>2022052612722350</td>\n",
       "      <td>검색</td>\n",
       "      <td>21 ~ 00</td>\n",
       "      <td>5</td>\n",
       "      <td>saei****</td>\n",
       "      <td>[2+1][3+2]CJ제일제당 쁘띠첼 미초 석류+청포도+복숭아 外 골라담기</td>\n",
       "      <td>22080</td>\n",
       "      <td>과자/간식 &gt; 캔디/껌/캐러멜 &gt; 젤리/푸딩</td>\n",
       "      <td>2022-05-26</td>\n",
       "    </tr>\n",
       "    <tr>\n",
       "      <th>34440</th>\n",
       "      <td>2022-05-11 20:24:01</td>\n",
       "      <td>2022051110682590</td>\n",
       "      <td>검색</td>\n",
       "      <td>18 ~ 21</td>\n",
       "      <td>5</td>\n",
       "      <td>ibbu****</td>\n",
       "      <td>다담 된장찌개양념 530Gx2개</td>\n",
       "      <td>10670</td>\n",
       "      <td>가공식품 &gt; 소스/드레싱 &gt; 칠리/살사소스</td>\n",
       "      <td>2022-05-11</td>\n",
       "    </tr>\n",
       "  </tbody>\n",
       "</table>\n",
       "<p>465 rows × 10 columns</p>\n",
       "</div>"
      ],
      "text/plain": [
       "                   주문접수일시              주문번호 유입채널 대분류  시간대 대분류  주문월       아이디  \\\n",
       "2     2022-01-10 09:36:32  2022011013280040       검색  09 ~ 12    1  love****   \n",
       "5     2022-01-13 22:17:23  2022011313815590       검색  21 ~ 00    1  love****   \n",
       "58    2022-05-09 15:20:15  2022050910368990       검색  15 ~ 18    5  love****   \n",
       "59    2022-05-09 15:20:15  2022050910368990       검색  15 ~ 18    5  love****   \n",
       "138   2022-06-14 14:45:15  2022061415143200       검색  12 ~ 15    6  love****   \n",
       "...                   ...               ...      ...      ...  ...       ...   \n",
       "33777 2022-05-05 17:16:47  2022050519865240       검색  15 ~ 18    5  spoo****   \n",
       "34050 2022-01-25 14:41:38  2022012515534390       검색  12 ~ 15    1  saka****   \n",
       "34210 2022-05-26 23:21:18  2022052612722350       검색  21 ~ 00    5  saei****   \n",
       "34211 2022-05-26 23:21:18  2022052612722350       검색  21 ~ 00    5  saei****   \n",
       "34440 2022-05-11 20:24:01  2022051110682590       검색  18 ~ 21    5  ibbu****   \n",
       "\n",
       "                                          판매자상품명    판매가  \\\n",
       "2                             CJ 고메 중화짜장 760Gx3개  21530   \n",
       "5                        CJ 다담 정통된장찌개양념 140g x10  13800   \n",
       "58                             다담 된장찌개양념 530Gx2개  10670   \n",
       "59                   [CJ직배송]다담 보리쌈장 570G 냉장 X 3개  14000   \n",
       "138                            비비고 김치볶음 80G x10개  15000   \n",
       "...                                          ...    ...   \n",
       "33777                          다담 된장찌개양념 530Gx3개  16000   \n",
       "34050                       CJ 다담 된장찌개양념 530G *2   9800   \n",
       "34210              [비비고X사내맞선] 비비고 한우사골곰탕500G X6개  13080   \n",
       "34211  [2+1][3+2]CJ제일제당 쁘띠첼 미초 석류+청포도+복숭아 外 골라담기  22080   \n",
       "34440                          다담 된장찌개양념 530Gx2개  10670   \n",
       "\n",
       "                           표준카테고리       주문날짜  \n",
       "2                 가공식품 > 면류 > 중화면 2022-01-10  \n",
       "5      가공식품 > 소스/드레싱 > 굴소스/중화요리소스 2022-01-13  \n",
       "58        가공식품 > 소스/드레싱 > 칠리/살사소스 2022-05-09  \n",
       "59          가공식품 > 장류 > 된장/쌈장/청국장 2022-05-09  \n",
       "138             김치/반찬 > 김치 > 기타김치 2022-06-14  \n",
       "...                           ...        ...  \n",
       "33777       가공식품 > 장류 > 된장/쌈장/청국장 2022-05-05  \n",
       "34050     가공식품 > 소스/드레싱 > 칠리/살사소스 2022-01-25  \n",
       "34210    냉장/냉동/간편식 > 국/탕/찌개 > 국/탕 2022-05-26  \n",
       "34211    과자/간식 > 캔디/껌/캐러멜 > 젤리/푸딩 2022-05-26  \n",
       "34440     가공식품 > 소스/드레싱 > 칠리/살사소스 2022-05-11  \n",
       "\n",
       "[465 rows x 10 columns]"
      ]
     },
     "execution_count": 236,
     "metadata": {},
     "output_type": "execute_result"
    }
   ],
   "source": [
    "df_id_s=df_id[df_id['유입채널 대분류']==\"검색\"]\n",
    "df_id_s"
   ]
  },
  {
   "cell_type": "code",
   "execution_count": 237,
   "metadata": {},
   "outputs": [
    {
     "data": {
      "text/plain": [
       "<AxesSubplot:xlabel='시간대 대분류', ylabel='count'>"
      ]
     },
     "execution_count": 237,
     "metadata": {},
     "output_type": "execute_result"
    },
    {
     "data": {
      "image/png": "[encoded data removed]",
      "text/plain": [
       "<Figure size 432x288 with 1 Axes>"
      ]
     },
     "metadata": {
      "needs_background": "light"
     },
     "output_type": "display_data"
    }
   ],
   "source": [
    "sns.countplot(x = '시간대 대분류', data = df_id_s, order=['00 ~ 03', '03 ~ 06', '06 ~ 09', '09 ~ 12', '12 ~ 15', '15 ~ 18', '18 ~ 21', '21 ~ 00'])"
   ]
  },
  {
   "cell_type": "markdown",
   "metadata": {},
   "source": [
    "### 21~00 시에 많이 이용하는 추세로 이 시간대에 활성화!"
   ]
  },
  {
   "cell_type": "code",
   "execution_count": 239,
   "metadata": {},
   "outputs": [
    {
     "data": {
      "text/html": [
       "<div>\n",
       "<style scoped>\n",
       "    .dataframe tbody tr th:only-of-type {\n",
       "        vertical-align: middle;\n",
       "    }\n",
       "\n",
       "    .dataframe tbody tr th {\n",
       "        vertical-align: top;\n",
       "    }\n",
       "\n",
       "    .dataframe thead th {\n",
       "        text-align: right;\n",
       "    }\n",
       "</style>\n",
       "<table border=\"1\" class=\"dataframe\">\n",
       "  <thead>\n",
       "    <tr style=\"text-align: right;\">\n",
       "      <th></th>\n",
       "      <th>주문접수일시</th>\n",
       "      <th>주문번호</th>\n",
       "      <th>유입채널 대분류</th>\n",
       "      <th>시간대 대분류</th>\n",
       "      <th>주문월</th>\n",
       "      <th>아이디</th>\n",
       "      <th>판매자상품명</th>\n",
       "      <th>판매가</th>\n",
       "      <th>표준카테고리</th>\n",
       "      <th>주문날짜</th>\n",
       "    </tr>\n",
       "  </thead>\n",
       "  <tbody>\n",
       "    <tr>\n",
       "      <th>8</th>\n",
       "      <td>2022-02-01 16:46:03</td>\n",
       "      <td>2022020116254690</td>\n",
       "      <td>기타 및 이벤트 광고</td>\n",
       "      <td>15 ~ 18</td>\n",
       "      <td>2</td>\n",
       "      <td>love****</td>\n",
       "      <td>비비고 한섬만두 384G*2EA *2</td>\n",
       "      <td>15960</td>\n",
       "      <td>냉장/냉동/간편식 &gt; 떡볶이/만두 &gt; 만두</td>\n",
       "      <td>2022-02-01</td>\n",
       "    </tr>\n",
       "    <tr>\n",
       "      <th>10</th>\n",
       "      <td>2022-02-05 23:55:52</td>\n",
       "      <td>2022020516835790</td>\n",
       "      <td>기타 및 이벤트 광고</td>\n",
       "      <td>21 ~ 00</td>\n",
       "      <td>2</td>\n",
       "      <td>love****</td>\n",
       "      <td>사천마라탕면 2인분 434G x4</td>\n",
       "      <td>26560</td>\n",
       "      <td>가공식품 &gt; 면류 &gt; 중화면</td>\n",
       "      <td>2022-02-05</td>\n",
       "    </tr>\n",
       "    <tr>\n",
       "      <th>27</th>\n",
       "      <td>2022-03-14 12:25:54</td>\n",
       "      <td>2022031411999810</td>\n",
       "      <td>기타 및 이벤트 광고</td>\n",
       "      <td>12 ~ 15</td>\n",
       "      <td>3</td>\n",
       "      <td>love****</td>\n",
       "      <td>[롯데ON] 햇반쿡반 4종/불고기500+치즈500+버터장조림500+치즈닭갈비500G</td>\n",
       "      <td>38780</td>\n",
       "      <td>냉장/냉동/간편식 &gt; 즉석밥/죽/스프 &gt; 즉석밥</td>\n",
       "      <td>2022-03-14</td>\n",
       "    </tr>\n",
       "    <tr>\n",
       "      <th>88</th>\n",
       "      <td>2022-05-25 21:22:03</td>\n",
       "      <td>2022052512579100</td>\n",
       "      <td>기타 및 이벤트 광고</td>\n",
       "      <td>21 ~ 00</td>\n",
       "      <td>5</td>\n",
       "      <td>love****</td>\n",
       "      <td>[6+3+5%추가쿠폰]비비고 프리미엄 죽 6개 골라담기 +보양닭백숙죽 3개 증정</td>\n",
       "      <td>30700</td>\n",
       "      <td>냉장/냉동/간편식 &gt; 즉석밥/죽/스프 &gt; 즉석밥</td>\n",
       "      <td>2022-05-25</td>\n",
       "    </tr>\n",
       "    <tr>\n",
       "      <th>97</th>\n",
       "      <td>2022-05-30 23:05:14</td>\n",
       "      <td>2022053013194100</td>\n",
       "      <td>기타 및 이벤트 광고</td>\n",
       "      <td>21 ~ 00</td>\n",
       "      <td>5</td>\n",
       "      <td>love****</td>\n",
       "      <td>비비고 왕교자 1.05KGx4개+비비고 찐만두 168gx1개</td>\n",
       "      <td>39680</td>\n",
       "      <td>냉장/냉동/간편식 &gt; 떡볶이/만두 &gt; 만두</td>\n",
       "      <td>2022-05-30</td>\n",
       "    </tr>\n",
       "    <tr>\n",
       "      <th>...</th>\n",
       "      <td>...</td>\n",
       "      <td>...</td>\n",
       "      <td>...</td>\n",
       "      <td>...</td>\n",
       "      <td>...</td>\n",
       "      <td>...</td>\n",
       "      <td>...</td>\n",
       "      <td>...</td>\n",
       "      <td>...</td>\n",
       "      <td>...</td>\n",
       "    </tr>\n",
       "    <tr>\n",
       "      <th>34559</th>\n",
       "      <td>2022-06-26 20:29:25</td>\n",
       "      <td>2022062616701110</td>\n",
       "      <td>기타 및 이벤트 광고</td>\n",
       "      <td>18 ~ 21</td>\n",
       "      <td>6</td>\n",
       "      <td>smja****</td>\n",
       "      <td>해찬들 우리쌀로만든태양초골드고추장 1kg X2개</td>\n",
       "      <td>16000</td>\n",
       "      <td>가공식품 &gt; 장류 &gt; 고추장/초고추장</td>\n",
       "      <td>2022-06-26</td>\n",
       "    </tr>\n",
       "    <tr>\n",
       "      <th>34647</th>\n",
       "      <td>2022-06-19 21:50:10</td>\n",
       "      <td>2022061915769800</td>\n",
       "      <td>기타 및 이벤트 광고</td>\n",
       "      <td>21 ~ 00</td>\n",
       "      <td>6</td>\n",
       "      <td>csh7****</td>\n",
       "      <td>[6+2]비비고 용기형 단호박죽/통단팥죽/흑임자죽 + 버섯야채죽 280G  X 2개 증정</td>\n",
       "      <td>17500</td>\n",
       "      <td>냉장/냉동/간편식 &gt; 즉석밥/죽/스프 &gt; 즉석밥</td>\n",
       "      <td>2022-06-19</td>\n",
       "    </tr>\n",
       "    <tr>\n",
       "      <th>34648</th>\n",
       "      <td>2022-06-23 21:57:28</td>\n",
       "      <td>2022062316356330</td>\n",
       "      <td>기타 및 이벤트 광고</td>\n",
       "      <td>21 ~ 00</td>\n",
       "      <td>6</td>\n",
       "      <td>csh7****</td>\n",
       "      <td>[CJ직배송]비비고 도톰동그랑땡 425G*2 X2개</td>\n",
       "      <td>20480</td>\n",
       "      <td>냉장/냉동/간편식 &gt; 돈가스/고로케/너겟 &gt; 돈가스</td>\n",
       "      <td>2022-06-23</td>\n",
       "    </tr>\n",
       "    <tr>\n",
       "      <th>34653</th>\n",
       "      <td>2022-02-10 09:39:49</td>\n",
       "      <td>2022021017616530</td>\n",
       "      <td>기타 및 이벤트 광고</td>\n",
       "      <td>09 ~ 12</td>\n",
       "      <td>2</td>\n",
       "      <td>hjd0****</td>\n",
       "      <td>[한정특가]우리쌀로만든태양초골드고추장1kgP X 2개</td>\n",
       "      <td>20140</td>\n",
       "      <td>가공식품 &gt; 장류 &gt; 고추장/초고추장</td>\n",
       "      <td>2022-02-10</td>\n",
       "    </tr>\n",
       "    <tr>\n",
       "      <th>34703</th>\n",
       "      <td>2022-09-01 09:53:52</td>\n",
       "      <td>2022090115054160</td>\n",
       "      <td>기타 및 이벤트 광고</td>\n",
       "      <td>09 ~ 12</td>\n",
       "      <td>9</td>\n",
       "      <td>ischo228</td>\n",
       "      <td>[구매확정시 주문건당 5,000 Lpoint 자동적립] 스팸마일드8호 / *엘포인트...</td>\n",
       "      <td>41420</td>\n",
       "      <td>가공식품 &gt; 통조림/캔 &gt; 캔/통조림선물세트</td>\n",
       "      <td>2022-09-01</td>\n",
       "    </tr>\n",
       "  </tbody>\n",
       "</table>\n",
       "<p>2157 rows × 10 columns</p>\n",
       "</div>"
      ],
      "text/plain": [
       "                   주문접수일시              주문번호     유입채널 대분류  시간대 대분류  주문월  \\\n",
       "8     2022-02-01 16:46:03  2022020116254690  기타 및 이벤트 광고  15 ~ 18    2   \n",
       "10    2022-02-05 23:55:52  2022020516835790  기타 및 이벤트 광고  21 ~ 00    2   \n",
       "27    2022-03-14 12:25:54  2022031411999810  기타 및 이벤트 광고  12 ~ 15    3   \n",
       "88    2022-05-25 21:22:03  2022052512579100  기타 및 이벤트 광고  21 ~ 00    5   \n",
       "97    2022-05-30 23:05:14  2022053013194100  기타 및 이벤트 광고  21 ~ 00    5   \n",
       "...                   ...               ...          ...      ...  ...   \n",
       "34559 2022-06-26 20:29:25  2022062616701110  기타 및 이벤트 광고  18 ~ 21    6   \n",
       "34647 2022-06-19 21:50:10  2022061915769800  기타 및 이벤트 광고  21 ~ 00    6   \n",
       "34648 2022-06-23 21:57:28  2022062316356330  기타 및 이벤트 광고  21 ~ 00    6   \n",
       "34653 2022-02-10 09:39:49  2022021017616530  기타 및 이벤트 광고  09 ~ 12    2   \n",
       "34703 2022-09-01 09:53:52  2022090115054160  기타 및 이벤트 광고  09 ~ 12    9   \n",
       "\n",
       "            아이디                                             판매자상품명    판매가  \\\n",
       "8      love****                               비비고 한섬만두 384G*2EA *2  15960   \n",
       "10     love****                                 사천마라탕면 2인분 434G x4  26560   \n",
       "27     love****     [롯데ON] 햇반쿡반 4종/불고기500+치즈500+버터장조림500+치즈닭갈비500G  38780   \n",
       "88     love****       [6+3+5%추가쿠폰]비비고 프리미엄 죽 6개 골라담기 +보양닭백숙죽 3개 증정  30700   \n",
       "97     love****                  비비고 왕교자 1.05KGx4개+비비고 찐만두 168gx1개  39680   \n",
       "...         ...                                                ...    ...   \n",
       "34559  smja****                         해찬들 우리쌀로만든태양초골드고추장 1kg X2개  16000   \n",
       "34647  csh7****  [6+2]비비고 용기형 단호박죽/통단팥죽/흑임자죽 + 버섯야채죽 280G  X 2개 증정  17500   \n",
       "34648  csh7****                       [CJ직배송]비비고 도톰동그랑땡 425G*2 X2개  20480   \n",
       "34653  hjd0****                      [한정특가]우리쌀로만든태양초골드고추장1kgP X 2개  20140   \n",
       "34703  ischo228  [구매확정시 주문건당 5,000 Lpoint 자동적립] 스팸마일드8호 / *엘포인트...  41420   \n",
       "\n",
       "                             표준카테고리       주문날짜  \n",
       "8           냉장/냉동/간편식 > 떡볶이/만두 > 만두 2022-02-01  \n",
       "10                  가공식품 > 면류 > 중화면 2022-02-05  \n",
       "27       냉장/냉동/간편식 > 즉석밥/죽/스프 > 즉석밥 2022-03-14  \n",
       "88       냉장/냉동/간편식 > 즉석밥/죽/스프 > 즉석밥 2022-05-25  \n",
       "97          냉장/냉동/간편식 > 떡볶이/만두 > 만두 2022-05-30  \n",
       "...                             ...        ...  \n",
       "34559          가공식품 > 장류 > 고추장/초고추장 2022-06-26  \n",
       "34647    냉장/냉동/간편식 > 즉석밥/죽/스프 > 즉석밥 2022-06-19  \n",
       "34648  냉장/냉동/간편식 > 돈가스/고로케/너겟 > 돈가스 2022-06-23  \n",
       "34653          가공식품 > 장류 > 고추장/초고추장 2022-02-10  \n",
       "34703      가공식품 > 통조림/캔 > 캔/통조림선물세트 2022-09-01  \n",
       "\n",
       "[2157 rows x 10 columns]"
      ]
     },
     "execution_count": 239,
     "metadata": {},
     "output_type": "execute_result"
    }
   ],
   "source": [
    "df_id_e=df_id[df_id['유입채널 대분류']==\"기타 및 이벤트 광고\"]\n",
    "df_id_e"
   ]
  },
  {
   "cell_type": "code",
   "execution_count": 240,
   "metadata": {},
   "outputs": [
    {
     "data": {
      "text/plain": [
       "<AxesSubplot:xlabel='시간대 대분류', ylabel='count'>"
      ]
     },
     "execution_count": 240,
     "metadata": {},
     "output_type": "execute_result"
    },
    {
     "data": {
      "image/png": "[encoded data removed]",
      "text/plain": [
       "<Figure size 432x288 with 1 Axes>"
      ]
     },
     "metadata": {
      "needs_background": "light"
     },
     "output_type": "display_data"
    }
   ],
   "source": [
    "sns.countplot(x = '시간대 대분류', data = df_id_e, order=['00 ~ 03', '03 ~ 06', '06 ~ 09', '09 ~ 12', '12 ~ 15', '15 ~ 18', '18 ~ 21', '21 ~ 00'])"
   ]
  },
  {
   "cell_type": "markdown",
   "metadata": {},
   "source": [
    "### 이건 이벤트를 통해 유입한 것이며, 다양한 배너에 홍보가 되어 사람들 활동 시간(취침 시간 이외)에 골고루 주문량이 많은 것을 확인할 수 있다. "
   ]
  },
  {
   "cell_type": "code",
   "execution_count": null,
   "metadata": {},
   "outputs": [],
   "source": []
  }
 ],
 "metadata": {
  "colab": {
   "authorship_tag": "ABX9TyMe/Dj25YyR51lWnA+yoEA9",
   "include_colab_link": true,
   "provenance": []
  },
  "kernelspec": {
   "display_name": "Python 3",
   "language": "python",
   "name": "python3"
  },
  "language_info": {
   "codemirror_mode": {
    "name": "ipython",
    "version": 3
   },
   "file_extension": ".py",
   "mimetype": "text/x-python",
   "name": "python",
   "nbconvert_exporter": "python",
   "pygments_lexer": "ipython3",
   "version": "3.8.8"
  }
 },
 "nbformat": 4,
 "nbformat_minor": 1
}
