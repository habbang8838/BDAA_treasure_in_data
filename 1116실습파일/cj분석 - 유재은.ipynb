{
  "nbformat": 4,
  "nbformat_minor": 0,
  "metadata": {
    "colab": {
      "provenance": [],
      "collapsed_sections": []
    },
    "kernelspec": {
      "name": "python3",
      "display_name": "Python 3"
    },
    "language_info": {
      "name": "python"
    }
  },
  "cells": [
    {
      "cell_type": "code",
      "execution_count": 1,
      "metadata": {
        "colab": {
          "base_uri": "https://localhost:8080/"
        },
        "id": "NDFSeUzwAzaq",
        "outputId": "0e81659e-2479-4ab5-e751-625c238ce972"
      },
      "outputs": [
        {
          "output_type": "stream",
          "name": "stdout",
          "text": [
            "Reading package lists... Done\n",
            "Building dependency tree       \n",
            "Reading state information... Done\n",
            "fonts-nanum is already the newest version (20170925-1).\n",
            "The following package was automatically installed and is no longer required:\n",
            "  libnvidia-common-460\n",
            "Use 'sudo apt autoremove' to remove it.\n",
            "0 upgraded, 0 newly installed, 0 to remove and 5 not upgraded.\n",
            "/usr/share/fonts: caching, new cache contents: 0 fonts, 1 dirs\n",
            "/usr/share/fonts/truetype: caching, new cache contents: 0 fonts, 3 dirs\n",
            "/usr/share/fonts/truetype/humor-sans: caching, new cache contents: 1 fonts, 0 dirs\n",
            "/usr/share/fonts/truetype/liberation: caching, new cache contents: 16 fonts, 0 dirs\n",
            "/usr/share/fonts/truetype/nanum: caching, new cache contents: 10 fonts, 0 dirs\n",
            "/usr/local/share/fonts: caching, new cache contents: 0 fonts, 0 dirs\n",
            "/root/.local/share/fonts: skipping, no such directory\n",
            "/root/.fonts: skipping, no such directory\n",
            "/var/cache/fontconfig: cleaning cache directory\n",
            "/root/.cache/fontconfig: not cleaning non-existent cache directory\n",
            "/root/.fontconfig: not cleaning non-existent cache directory\n",
            "fc-cache: succeeded\n"
          ]
        }
      ],
      "source": [
        "# 한글폰트 설치\n",
        "!sudo apt-get install -y fonts-nanum\n",
        "\n",
        "# 시스템에 있는 폰트를 읽어서 cache 정보를 만드는 유틸리티\n",
        "!sudo fc-cache -fv\n",
        "\n",
        "# removing matplotlib cache \n",
        "!rm ~/.cache/matplotlib -rf\n",
        "\n",
        "# 런타임 다시 시작\n",
        "\n",
        "#--------------------------------------------------\n",
        "# from matplotlib import font_manager, rc\n",
        "# font_path = \"/usr/share/fonts/truetype/nanum/NanumGothic.ttf\"\n",
        "# font = font_manager.FontProperties(fname=font_path).get_name()\n",
        "# plt.rc('font', family=font)"
      ]
    },
    {
      "cell_type": "code",
      "source": [
        "import numpy as np\n",
        "import pandas as pd\n",
        "import matplotlib.pyplot as plt\n",
        "import seaborn as sns"
      ],
      "metadata": {
        "id": "dfTkiEZ9A8NK"
      },
      "execution_count": 2,
      "outputs": []
    },
    {
      "cell_type": "code",
      "source": [
        "plt.rc('font', family='NanumGothic')      \n",
        "plt.rc('axes', unicode_minus = False)   "
      ],
      "metadata": {
        "id": "Hkp5BjQSA8K7"
      },
      "execution_count": 3,
      "outputs": []
    },
    {
      "cell_type": "code",
      "source": [
        "from google.colab import drive\n",
        "drive.mount(\"/content/drive\")"
      ],
      "metadata": {
        "colab": {
          "base_uri": "https://localhost:8080/"
        },
        "id": "13322TEIA8IR",
        "outputId": "be7cf783-fea6-4e9a-be21-134ddae0c2fa"
      },
      "execution_count": 4,
      "outputs": [
        {
          "output_type": "stream",
          "name": "stdout",
          "text": [
            "Drive already mounted at /content/drive; to attempt to forcibly remount, call drive.mount(\"/content/drive\", force_remount=True).\n"
          ]
        }
      ]
    },
    {
      "cell_type": "code",
      "source": [
        "df = pd.read_excel('/content/drive/MyDrive/bdaa.xlsx')"
      ],
      "metadata": {
        "id": "x-ZHVtyKA8F4"
      },
      "execution_count": 5,
      "outputs": []
    },
    {
      "cell_type": "code",
      "source": [
        "df"
      ],
      "metadata": {
        "colab": {
          "base_uri": "https://localhost:8080/",
          "height": 1000
        },
        "id": "_jiHvlw5A8DI",
        "outputId": "dfbf194f-7d44-4a4a-8817-c3b9c1919896"
      },
      "execution_count": 6,
      "outputs": [
        {
          "output_type": "execute_result",
          "data": {
            "text/plain": [
              "                   주문접수일시              주문번호    유입매체  주문구분  \\\n",
              "0     2022-01-31 23:59:43  2022013116206973  MO WEB  일반주문   \n",
              "1     2022-01-31 23:44:09  2022013116204996  MO WEB  일반주문   \n",
              "2     2022-01-31 23:44:09  2022013116204996  MO WEB  일반주문   \n",
              "3     2022-01-31 23:35:27  2022013116204259     APP  일반주문   \n",
              "4     2022-01-31 23:21:06  2022013116202890     APP  일반주문   \n",
              "...                   ...               ...     ...   ...   \n",
              "3262  2022-01-01 02:56:35  2022010111873774     APP  일반주문   \n",
              "3263  2022-01-01 02:54:53  2022010111873735     APP  일반주문   \n",
              "3264  2022-01-01 00:38:42  2022010111866938     APP  일반주문   \n",
              "3265  2022-01-01 00:38:13  2022010111866837  MO WEB  일반주문   \n",
              "3266  2022-01-01 00:17:11  2022010111864975  MO WEB  일반주문   \n",
              "\n",
              "                       유입채널        회원구분       아이디     전시유입코드  \\\n",
              "0                  디폴트 채널상세  LPOINT통합회원  alls****        NaN   \n",
              "1                  디폴트 채널상세  LPOINT통합회원  okok****        CHT   \n",
              "2                  디폴트 채널상세  LPOINT통합회원  okok****        CHT   \n",
              "3                  디폴트 채널상세  LPOINT통합회원  fire****      SCH스팸   \n",
              "4                  디폴트 채널상세  LPOINT통합회원  dkfm****    SCH비비고국   \n",
              "...                     ...         ...       ...        ...   \n",
              "3262               디폴트 채널상세  LPOINT통합회원  savi****        RSI   \n",
              "3263               디폴트 채널상세  LPOINT통합회원  savi****        RSI   \n",
              "3264               디폴트 채널상세  LPOINT통합회원  ggg9****  SCH쁘띠첼복숭아   \n",
              "3265  [다음카카오] PCS 가격비교_롯데ON  LPOINT통합회원  kim6****        CHT   \n",
              "3266               디폴트 채널상세  LPOINT통합회원  jsda****  SCH비비고갈비탕   \n",
              "\n",
              "                  상품주문번호        유형  ...  \\\n",
              "0     2022013116206973_1        주문  ...   \n",
              "1     2022013116204996_1        주문  ...   \n",
              "2     2022013116204996_2        주문  ...   \n",
              "3     2022013116204259_1        주문  ...   \n",
              "4     2022013116202890_1        주문  ...   \n",
              "...                  ...       ...  ...   \n",
              "3262  2022010111873774_1        주문  ...   \n",
              "3263  2022010111873735_1        주문  ...   \n",
              "3264  2022010111866938_5  취소(주문취소)  ...   \n",
              "3265  2022010111866837_1        주문  ...   \n",
              "3266  2022010111864975_1  취소(주문취소)  ...   \n",
              "\n",
              "                                        판매자상품명                  판매자단품번호  \\\n",
              "0                   [CJ직배송]비비고 플랜테이블왕교자420gX5개  LO1661932052_1661932053   \n",
              "1     CJ 해찬들 우리쌀로만든태양초골드고추장2kgP X 2개 + 초고추장 증정  LO1501739050_1501739051   \n",
              "2                   CJ 비비고 수제고기만두x2개+수제김치만두x2개  LO1255043241_1255043242   \n",
              "3                        스팸 25% 라이트 340g x 6입   LO1135070765_1135070766   \n",
              "4                           비비고 소고기장터국 500G *5  LO1234937569_1234937574   \n",
              "...                                        ...                      ...   \n",
              "3262                          비비고 국물요리 BEST 9종  LO1495023715_1495023716   \n",
              "3263                          비비고 국물요리 BEST 9종  LO1495023715_1495023716   \n",
              "3264              [CJ제일제당] 쁘띠첼 복숭아 90g*9번들X2EA  LO1354545470_1354545471   \n",
              "3265                      CJ 다담 된장찌개양념 530G x3  LO1135162715_1135162716   \n",
              "3266                        CJ 비비고 갈비탕 400g x4  LO1031678373_1031678374   \n",
              "\n",
              "      판매자단품명 추가옵션  주문판매유형       상품유형      브랜드    판매가 수량  \\\n",
              "0       단일상품   []  일반판매상품  일반판매_일반상품  씨제이제일제당  24900  1   \n",
              "1       단일상품   []  일반판매상품  일반판매_일반상품  씨제이제일제당  26050  1   \n",
              "2       단일상품   []  일반판매상품  일반판매_일반상품  씨제이제일제당  22620  1   \n",
              "3       단일상품   []  일반판매상품  일반판매_일반상품  씨제이제일제당  40000  1   \n",
              "4       단일상품   []  일반판매상품  일반판매_일반상품  씨제이제일제당  22030  1   \n",
              "...      ...  ...     ...        ...      ...    ... ..   \n",
              "3262    단일상품   []  일반판매상품  일반판매_일반상품  씨제이제일제당  33240  1   \n",
              "3263    단일상품   []  일반판매상품  일반판매_일반상품  씨제이제일제당  33240  1   \n",
              "3264    단일상품   []  일반판매상품  일반판매_일반상품  씨제이제일제당  22300  1   \n",
              "3265    단일상품   []  일반판매상품  일반판매_일반상품  씨제이제일제당  16240  1   \n",
              "3266    단일상품   []  일반판매상품  일반판매_일반상품  씨제이제일제당  18830  1   \n",
              "\n",
              "                          표준카테고리  \n",
              "0        냉장/냉동/간편식 > 떡볶이/만두 > 만두  \n",
              "1           가공식품 > 장류 > 고추장/초고추장  \n",
              "2        냉장/냉동/간편식 > 떡볶이/만두 > 만두  \n",
              "3            가공식품 > 통조림/캔 > 햄통조림  \n",
              "4       냉장/냉동/간편식 > 국/탕/찌개 > 국/탕  \n",
              "...                          ...  \n",
              "3262  냉장/냉동/간편식 > 즉석밥/죽/스프 > 즉석밥  \n",
              "3263  냉장/냉동/간편식 > 즉석밥/죽/스프 > 즉석밥  \n",
              "3264        과자/간식 > 디저트/케이크 > 푸딩  \n",
              "3265       가공식품 > 장류 > 된장/쌈장/청국장  \n",
              "3266    냉장/냉동/간편식 > 국/탕/찌개 > 국/탕  \n",
              "\n",
              "[3267 rows x 37 columns]"
            ],
            "text/html": [
              "\n",
              "  <div id=\"df-f99c3463-9398-4929-bf47-21e6e82c3b23\">\n",
              "    <div class=\"colab-df-container\">\n",
              "      <div>\n",
              "<style scoped>\n",
              "    .dataframe tbody tr th:only-of-type {\n",
              "        vertical-align: middle;\n",
              "    }\n",
              "\n",
              "    .dataframe tbody tr th {\n",
              "        vertical-align: top;\n",
              "    }\n",
              "\n",
              "    .dataframe thead th {\n",
              "        text-align: right;\n",
              "    }\n",
              "</style>\n",
              "<table border=\"1\" class=\"dataframe\">\n",
              "  <thead>\n",
              "    <tr style=\"text-align: right;\">\n",
              "      <th></th>\n",
              "      <th>주문접수일시</th>\n",
              "      <th>주문번호</th>\n",
              "      <th>유입매체</th>\n",
              "      <th>주문구분</th>\n",
              "      <th>유입채널</th>\n",
              "      <th>회원구분</th>\n",
              "      <th>아이디</th>\n",
              "      <th>전시유입코드</th>\n",
              "      <th>상품주문번호</th>\n",
              "      <th>유형</th>\n",
              "      <th>...</th>\n",
              "      <th>판매자상품명</th>\n",
              "      <th>판매자단품번호</th>\n",
              "      <th>판매자단품명</th>\n",
              "      <th>추가옵션</th>\n",
              "      <th>주문판매유형</th>\n",
              "      <th>상품유형</th>\n",
              "      <th>브랜드</th>\n",
              "      <th>판매가</th>\n",
              "      <th>수량</th>\n",
              "      <th>표준카테고리</th>\n",
              "    </tr>\n",
              "  </thead>\n",
              "  <tbody>\n",
              "    <tr>\n",
              "      <th>0</th>\n",
              "      <td>2022-01-31 23:59:43</td>\n",
              "      <td>2022013116206973</td>\n",
              "      <td>MO WEB</td>\n",
              "      <td>일반주문</td>\n",
              "      <td>디폴트 채널상세</td>\n",
              "      <td>LPOINT통합회원</td>\n",
              "      <td>alls****</td>\n",
              "      <td>NaN</td>\n",
              "      <td>2022013116206973_1</td>\n",
              "      <td>주문</td>\n",
              "      <td>...</td>\n",
              "      <td>[CJ직배송]비비고 플랜테이블왕교자420gX5개</td>\n",
              "      <td>LO1661932052_1661932053</td>\n",
              "      <td>단일상품</td>\n",
              "      <td>[]</td>\n",
              "      <td>일반판매상품</td>\n",
              "      <td>일반판매_일반상품</td>\n",
              "      <td>씨제이제일제당</td>\n",
              "      <td>24900</td>\n",
              "      <td>1</td>\n",
              "      <td>냉장/냉동/간편식 &gt; 떡볶이/만두 &gt; 만두</td>\n",
              "    </tr>\n",
              "    <tr>\n",
              "      <th>1</th>\n",
              "      <td>2022-01-31 23:44:09</td>\n",
              "      <td>2022013116204996</td>\n",
              "      <td>MO WEB</td>\n",
              "      <td>일반주문</td>\n",
              "      <td>디폴트 채널상세</td>\n",
              "      <td>LPOINT통합회원</td>\n",
              "      <td>okok****</td>\n",
              "      <td>CHT</td>\n",
              "      <td>2022013116204996_1</td>\n",
              "      <td>주문</td>\n",
              "      <td>...</td>\n",
              "      <td>CJ 해찬들 우리쌀로만든태양초골드고추장2kgP X 2개 + 초고추장 증정</td>\n",
              "      <td>LO1501739050_1501739051</td>\n",
              "      <td>단일상품</td>\n",
              "      <td>[]</td>\n",
              "      <td>일반판매상품</td>\n",
              "      <td>일반판매_일반상품</td>\n",
              "      <td>씨제이제일제당</td>\n",
              "      <td>26050</td>\n",
              "      <td>1</td>\n",
              "      <td>가공식품 &gt; 장류 &gt; 고추장/초고추장</td>\n",
              "    </tr>\n",
              "    <tr>\n",
              "      <th>2</th>\n",
              "      <td>2022-01-31 23:44:09</td>\n",
              "      <td>2022013116204996</td>\n",
              "      <td>MO WEB</td>\n",
              "      <td>일반주문</td>\n",
              "      <td>디폴트 채널상세</td>\n",
              "      <td>LPOINT통합회원</td>\n",
              "      <td>okok****</td>\n",
              "      <td>CHT</td>\n",
              "      <td>2022013116204996_2</td>\n",
              "      <td>주문</td>\n",
              "      <td>...</td>\n",
              "      <td>CJ 비비고 수제고기만두x2개+수제김치만두x2개</td>\n",
              "      <td>LO1255043241_1255043242</td>\n",
              "      <td>단일상품</td>\n",
              "      <td>[]</td>\n",
              "      <td>일반판매상품</td>\n",
              "      <td>일반판매_일반상품</td>\n",
              "      <td>씨제이제일제당</td>\n",
              "      <td>22620</td>\n",
              "      <td>1</td>\n",
              "      <td>냉장/냉동/간편식 &gt; 떡볶이/만두 &gt; 만두</td>\n",
              "    </tr>\n",
              "    <tr>\n",
              "      <th>3</th>\n",
              "      <td>2022-01-31 23:35:27</td>\n",
              "      <td>2022013116204259</td>\n",
              "      <td>APP</td>\n",
              "      <td>일반주문</td>\n",
              "      <td>디폴트 채널상세</td>\n",
              "      <td>LPOINT통합회원</td>\n",
              "      <td>fire****</td>\n",
              "      <td>SCH스팸</td>\n",
              "      <td>2022013116204259_1</td>\n",
              "      <td>주문</td>\n",
              "      <td>...</td>\n",
              "      <td>스팸 25% 라이트 340g x 6입</td>\n",
              "      <td>LO1135070765_1135070766</td>\n",
              "      <td>단일상품</td>\n",
              "      <td>[]</td>\n",
              "      <td>일반판매상품</td>\n",
              "      <td>일반판매_일반상품</td>\n",
              "      <td>씨제이제일제당</td>\n",
              "      <td>40000</td>\n",
              "      <td>1</td>\n",
              "      <td>가공식품 &gt; 통조림/캔 &gt; 햄통조림</td>\n",
              "    </tr>\n",
              "    <tr>\n",
              "      <th>4</th>\n",
              "      <td>2022-01-31 23:21:06</td>\n",
              "      <td>2022013116202890</td>\n",
              "      <td>APP</td>\n",
              "      <td>일반주문</td>\n",
              "      <td>디폴트 채널상세</td>\n",
              "      <td>LPOINT통합회원</td>\n",
              "      <td>dkfm****</td>\n",
              "      <td>SCH비비고국</td>\n",
              "      <td>2022013116202890_1</td>\n",
              "      <td>주문</td>\n",
              "      <td>...</td>\n",
              "      <td>비비고 소고기장터국 500G *5</td>\n",
              "      <td>LO1234937569_1234937574</td>\n",
              "      <td>단일상품</td>\n",
              "      <td>[]</td>\n",
              "      <td>일반판매상품</td>\n",
              "      <td>일반판매_일반상품</td>\n",
              "      <td>씨제이제일제당</td>\n",
              "      <td>22030</td>\n",
              "      <td>1</td>\n",
              "      <td>냉장/냉동/간편식 &gt; 국/탕/찌개 &gt; 국/탕</td>\n",
              "    </tr>\n",
              "    <tr>\n",
              "      <th>...</th>\n",
              "      <td>...</td>\n",
              "      <td>...</td>\n",
              "      <td>...</td>\n",
              "      <td>...</td>\n",
              "      <td>...</td>\n",
              "      <td>...</td>\n",
              "      <td>...</td>\n",
              "      <td>...</td>\n",
              "      <td>...</td>\n",
              "      <td>...</td>\n",
              "      <td>...</td>\n",
              "      <td>...</td>\n",
              "      <td>...</td>\n",
              "      <td>...</td>\n",
              "      <td>...</td>\n",
              "      <td>...</td>\n",
              "      <td>...</td>\n",
              "      <td>...</td>\n",
              "      <td>...</td>\n",
              "      <td>...</td>\n",
              "      <td>...</td>\n",
              "    </tr>\n",
              "    <tr>\n",
              "      <th>3262</th>\n",
              "      <td>2022-01-01 02:56:35</td>\n",
              "      <td>2022010111873774</td>\n",
              "      <td>APP</td>\n",
              "      <td>일반주문</td>\n",
              "      <td>디폴트 채널상세</td>\n",
              "      <td>LPOINT통합회원</td>\n",
              "      <td>savi****</td>\n",
              "      <td>RSI</td>\n",
              "      <td>2022010111873774_1</td>\n",
              "      <td>주문</td>\n",
              "      <td>...</td>\n",
              "      <td>비비고 국물요리 BEST 9종</td>\n",
              "      <td>LO1495023715_1495023716</td>\n",
              "      <td>단일상품</td>\n",
              "      <td>[]</td>\n",
              "      <td>일반판매상품</td>\n",
              "      <td>일반판매_일반상품</td>\n",
              "      <td>씨제이제일제당</td>\n",
              "      <td>33240</td>\n",
              "      <td>1</td>\n",
              "      <td>냉장/냉동/간편식 &gt; 즉석밥/죽/스프 &gt; 즉석밥</td>\n",
              "    </tr>\n",
              "    <tr>\n",
              "      <th>3263</th>\n",
              "      <td>2022-01-01 02:54:53</td>\n",
              "      <td>2022010111873735</td>\n",
              "      <td>APP</td>\n",
              "      <td>일반주문</td>\n",
              "      <td>디폴트 채널상세</td>\n",
              "      <td>LPOINT통합회원</td>\n",
              "      <td>savi****</td>\n",
              "      <td>RSI</td>\n",
              "      <td>2022010111873735_1</td>\n",
              "      <td>주문</td>\n",
              "      <td>...</td>\n",
              "      <td>비비고 국물요리 BEST 9종</td>\n",
              "      <td>LO1495023715_1495023716</td>\n",
              "      <td>단일상품</td>\n",
              "      <td>[]</td>\n",
              "      <td>일반판매상품</td>\n",
              "      <td>일반판매_일반상품</td>\n",
              "      <td>씨제이제일제당</td>\n",
              "      <td>33240</td>\n",
              "      <td>1</td>\n",
              "      <td>냉장/냉동/간편식 &gt; 즉석밥/죽/스프 &gt; 즉석밥</td>\n",
              "    </tr>\n",
              "    <tr>\n",
              "      <th>3264</th>\n",
              "      <td>2022-01-01 00:38:42</td>\n",
              "      <td>2022010111866938</td>\n",
              "      <td>APP</td>\n",
              "      <td>일반주문</td>\n",
              "      <td>디폴트 채널상세</td>\n",
              "      <td>LPOINT통합회원</td>\n",
              "      <td>ggg9****</td>\n",
              "      <td>SCH쁘띠첼복숭아</td>\n",
              "      <td>2022010111866938_5</td>\n",
              "      <td>취소(주문취소)</td>\n",
              "      <td>...</td>\n",
              "      <td>[CJ제일제당] 쁘띠첼 복숭아 90g*9번들X2EA</td>\n",
              "      <td>LO1354545470_1354545471</td>\n",
              "      <td>단일상품</td>\n",
              "      <td>[]</td>\n",
              "      <td>일반판매상품</td>\n",
              "      <td>일반판매_일반상품</td>\n",
              "      <td>씨제이제일제당</td>\n",
              "      <td>22300</td>\n",
              "      <td>1</td>\n",
              "      <td>과자/간식 &gt; 디저트/케이크 &gt; 푸딩</td>\n",
              "    </tr>\n",
              "    <tr>\n",
              "      <th>3265</th>\n",
              "      <td>2022-01-01 00:38:13</td>\n",
              "      <td>2022010111866837</td>\n",
              "      <td>MO WEB</td>\n",
              "      <td>일반주문</td>\n",
              "      <td>[다음카카오] PCS 가격비교_롯데ON</td>\n",
              "      <td>LPOINT통합회원</td>\n",
              "      <td>kim6****</td>\n",
              "      <td>CHT</td>\n",
              "      <td>2022010111866837_1</td>\n",
              "      <td>주문</td>\n",
              "      <td>...</td>\n",
              "      <td>CJ 다담 된장찌개양념 530G x3</td>\n",
              "      <td>LO1135162715_1135162716</td>\n",
              "      <td>단일상품</td>\n",
              "      <td>[]</td>\n",
              "      <td>일반판매상품</td>\n",
              "      <td>일반판매_일반상품</td>\n",
              "      <td>씨제이제일제당</td>\n",
              "      <td>16240</td>\n",
              "      <td>1</td>\n",
              "      <td>가공식품 &gt; 장류 &gt; 된장/쌈장/청국장</td>\n",
              "    </tr>\n",
              "    <tr>\n",
              "      <th>3266</th>\n",
              "      <td>2022-01-01 00:17:11</td>\n",
              "      <td>2022010111864975</td>\n",
              "      <td>MO WEB</td>\n",
              "      <td>일반주문</td>\n",
              "      <td>디폴트 채널상세</td>\n",
              "      <td>LPOINT통합회원</td>\n",
              "      <td>jsda****</td>\n",
              "      <td>SCH비비고갈비탕</td>\n",
              "      <td>2022010111864975_1</td>\n",
              "      <td>취소(주문취소)</td>\n",
              "      <td>...</td>\n",
              "      <td>CJ 비비고 갈비탕 400g x4</td>\n",
              "      <td>LO1031678373_1031678374</td>\n",
              "      <td>단일상품</td>\n",
              "      <td>[]</td>\n",
              "      <td>일반판매상품</td>\n",
              "      <td>일반판매_일반상품</td>\n",
              "      <td>씨제이제일제당</td>\n",
              "      <td>18830</td>\n",
              "      <td>1</td>\n",
              "      <td>냉장/냉동/간편식 &gt; 국/탕/찌개 &gt; 국/탕</td>\n",
              "    </tr>\n",
              "  </tbody>\n",
              "</table>\n",
              "<p>3267 rows × 37 columns</p>\n",
              "</div>\n",
              "      <button class=\"colab-df-convert\" onclick=\"convertToInteractive('df-f99c3463-9398-4929-bf47-21e6e82c3b23')\"\n",
              "              title=\"Convert this dataframe to an interactive table.\"\n",
              "              style=\"display:none;\">\n",
              "        \n",
              "  <svg xmlns=\"http://www.w3.org/2000/svg\" height=\"24px\"viewBox=\"0 0 24 24\"\n",
              "       width=\"24px\">\n",
              "    <path d=\"M0 0h24v24H0V0z\" fill=\"none\"/>\n",
              "    <path d=\"M18.56 5.44l.94 2.06.94-2.06 2.06-.94-2.06-.94-.94-2.06-.94 2.06-2.06.94zm-11 1L8.5 8.5l.94-2.06 2.06-.94-2.06-.94L8.5 2.5l-.94 2.06-2.06.94zm10 10l.94 2.06.94-2.06 2.06-.94-2.06-.94-.94-2.06-.94 2.06-2.06.94z\"/><path d=\"M17.41 7.96l-1.37-1.37c-.4-.4-.92-.59-1.43-.59-.52 0-1.04.2-1.43.59L10.3 9.45l-7.72 7.72c-.78.78-.78 2.05 0 2.83L4 21.41c.39.39.9.59 1.41.59.51 0 1.02-.2 1.41-.59l7.78-7.78 2.81-2.81c.8-.78.8-2.07 0-2.86zM5.41 20L4 18.59l7.72-7.72 1.47 1.35L5.41 20z\"/>\n",
              "  </svg>\n",
              "      </button>\n",
              "      \n",
              "  <style>\n",
              "    .colab-df-container {\n",
              "      display:flex;\n",
              "      flex-wrap:wrap;\n",
              "      gap: 12px;\n",
              "    }\n",
              "\n",
              "    .colab-df-convert {\n",
              "      background-color: #E8F0FE;\n",
              "      border: none;\n",
              "      border-radius: 50%;\n",
              "      cursor: pointer;\n",
              "      display: none;\n",
              "      fill: #1967D2;\n",
              "      height: 32px;\n",
              "      padding: 0 0 0 0;\n",
              "      width: 32px;\n",
              "    }\n",
              "\n",
              "    .colab-df-convert:hover {\n",
              "      background-color: #E2EBFA;\n",
              "      box-shadow: 0px 1px 2px rgba(60, 64, 67, 0.3), 0px 1px 3px 1px rgba(60, 64, 67, 0.15);\n",
              "      fill: #174EA6;\n",
              "    }\n",
              "\n",
              "    [theme=dark] .colab-df-convert {\n",
              "      background-color: #3B4455;\n",
              "      fill: #D2E3FC;\n",
              "    }\n",
              "\n",
              "    [theme=dark] .colab-df-convert:hover {\n",
              "      background-color: #434B5C;\n",
              "      box-shadow: 0px 1px 3px 1px rgba(0, 0, 0, 0.15);\n",
              "      filter: drop-shadow(0px 1px 2px rgba(0, 0, 0, 0.3));\n",
              "      fill: #FFFFFF;\n",
              "    }\n",
              "  </style>\n",
              "\n",
              "      <script>\n",
              "        const buttonEl =\n",
              "          document.querySelector('#df-f99c3463-9398-4929-bf47-21e6e82c3b23 button.colab-df-convert');\n",
              "        buttonEl.style.display =\n",
              "          google.colab.kernel.accessAllowed ? 'block' : 'none';\n",
              "\n",
              "        async function convertToInteractive(key) {\n",
              "          const element = document.querySelector('#df-f99c3463-9398-4929-bf47-21e6e82c3b23');\n",
              "          const dataTable =\n",
              "            await google.colab.kernel.invokeFunction('convertToInteractive',\n",
              "                                                     [key], {});\n",
              "          if (!dataTable) return;\n",
              "\n",
              "          const docLinkHtml = 'Like what you see? Visit the ' +\n",
              "            '<a target=\"_blank\" href=https://colab.research.google.com/notebooks/data_table.ipynb>data table notebook</a>'\n",
              "            + ' to learn more about interactive tables.';\n",
              "          element.innerHTML = '';\n",
              "          dataTable['output_type'] = 'display_data';\n",
              "          await google.colab.output.renderOutput(dataTable, element);\n",
              "          const docLink = document.createElement('div');\n",
              "          docLink.innerHTML = docLinkHtml;\n",
              "          element.appendChild(docLink);\n",
              "        }\n",
              "      </script>\n",
              "    </div>\n",
              "  </div>\n",
              "  "
            ]
          },
          "metadata": {},
          "execution_count": 6
        }
      ]
    },
    {
      "cell_type": "code",
      "source": [
        "df.info()"
      ],
      "metadata": {
        "colab": {
          "base_uri": "https://localhost:8080/"
        },
        "id": "phVy46fKA8Ao",
        "outputId": "9d5e1da0-68c0-45d4-b661-e1c5cf284508"
      },
      "execution_count": 7,
      "outputs": [
        {
          "output_type": "stream",
          "name": "stdout",
          "text": [
            "<class 'pandas.core.frame.DataFrame'>\n",
            "RangeIndex: 3267 entries, 0 to 3266\n",
            "Data columns (total 37 columns):\n",
            " #   Column     Non-Null Count  Dtype  \n",
            "---  ------     --------------  -----  \n",
            " 0   주문접수일시     3267 non-null   object \n",
            " 1   주문번호       3267 non-null   int64  \n",
            " 2   유입매체       3267 non-null   object \n",
            " 3   주문구분       3267 non-null   object \n",
            " 4   유입채널       3267 non-null   object \n",
            " 5   회원구분       3267 non-null   object \n",
            " 6   아이디        3034 non-null   object \n",
            " 7   전시유입코드     3219 non-null   object \n",
            " 8   상품주문번호     3267 non-null   object \n",
            " 9   유형         3267 non-null   object \n",
            " 10  배송회수구분     3267 non-null   object \n",
            " 11  진행단계       3267 non-null   object \n",
            " 12  진행상태 (약식)  0 non-null      float64\n",
            " 13  구매확정       3267 non-null   object \n",
            " 14  주문완료일시     3240 non-null   object \n",
            " 15  구매확정일시     2989 non-null   object \n",
            " 16  출고지시일      2983 non-null   object \n",
            " 17  예외처리구분     5 non-null      object \n",
            " 18  상태처리일시     3267 non-null   object \n",
            " 19  배송상품유형     3267 non-null   object \n",
            " 20  배송처리유형     3267 non-null   object \n",
            " 21  배송수단       3267 non-null   object \n",
            " 22  배송예약구분     3267 non-null   object \n",
            " 23  배송회차       0 non-null      float64\n",
            " 24  전시상품명      3267 non-null   object \n",
            " 25  전시단품명      3267 non-null   object \n",
            " 26  판매자상품번호    3267 non-null   object \n",
            " 27  판매자상품명     3267 non-null   object \n",
            " 28  판매자단품번호    3267 non-null   object \n",
            " 29  판매자단품명     3267 non-null   object \n",
            " 30  추가옵션       3267 non-null   object \n",
            " 31  주문판매유형     3267 non-null   object \n",
            " 32  상품유형       3267 non-null   object \n",
            " 33  브랜드        3267 non-null   object \n",
            " 34  판매가        3267 non-null   int64  \n",
            " 35  수량         3267 non-null   int64  \n",
            " 36  표준카테고리     3267 non-null   object \n",
            "dtypes: float64(2), int64(3), object(32)\n",
            "memory usage: 944.5+ KB\n"
          ]
        }
      ]
    },
    {
      "cell_type": "code",
      "source": [
        "df['추가옵션'].nunique()"
      ],
      "metadata": {
        "colab": {
          "base_uri": "https://localhost:8080/"
        },
        "id": "-ZFZb5V6Smvy",
        "outputId": "aadd969b-c9dd-4534-829f-f426a69c9ac4"
      },
      "execution_count": 8,
      "outputs": [
        {
          "output_type": "execute_result",
          "data": {
            "text/plain": [
              "1"
            ]
          },
          "metadata": {},
          "execution_count": 8
        }
      ]
    },
    {
      "cell_type": "code",
      "source": [
        "df.drop(['진행상태 (약식)','배송회차','추가옵션'],axis=1, inplace=True)"
      ],
      "metadata": {
        "id": "m0VV9wlsDJsS"
      },
      "execution_count": 9,
      "outputs": []
    },
    {
      "cell_type": "code",
      "source": [
        "df.isnull().sum()"
      ],
      "metadata": {
        "colab": {
          "base_uri": "https://localhost:8080/"
        },
        "id": "2LmyGAMDC4tG",
        "outputId": "153b1486-d18b-45cf-b3ee-9eec58d6b294"
      },
      "execution_count": 10,
      "outputs": [
        {
          "output_type": "execute_result",
          "data": {
            "text/plain": [
              "주문접수일시        0\n",
              "주문번호          0\n",
              "유입매체          0\n",
              "주문구분          0\n",
              "유입채널          0\n",
              "회원구분          0\n",
              "아이디         233\n",
              "전시유입코드       48\n",
              "상품주문번호        0\n",
              "유형            0\n",
              "배송회수구분        0\n",
              "진행단계          0\n",
              "구매확정          0\n",
              "주문완료일시       27\n",
              "구매확정일시      278\n",
              "출고지시일       284\n",
              "예외처리구분     3262\n",
              "상태처리일시        0\n",
              "배송상품유형        0\n",
              "배송처리유형        0\n",
              "배송수단          0\n",
              "배송예약구분        0\n",
              "전시상품명         0\n",
              "전시단품명         0\n",
              "판매자상품번호       0\n",
              "판매자상품명        0\n",
              "판매자단품번호       0\n",
              "판매자단품명        0\n",
              "주문판매유형        0\n",
              "상품유형          0\n",
              "브랜드           0\n",
              "판매가           0\n",
              "수량            0\n",
              "표준카테고리        0\n",
              "dtype: int64"
            ]
          },
          "metadata": {},
          "execution_count": 10
        }
      ]
    },
    {
      "cell_type": "markdown",
      "source": [
        "아이디가 없는 사람의 회원은?\n"
      ],
      "metadata": {
        "id": "H9zhYMPZEYNP"
      }
    },
    {
      "cell_type": "code",
      "source": [
        "df[df['아이디'].isnull()]['회원구분'].unique()"
      ],
      "metadata": {
        "colab": {
          "base_uri": "https://localhost:8080/"
        },
        "id": "aEvBDQBSE0Ox",
        "outputId": "fc4c747e-5e92-402f-d3f9-8318a5c5d09c"
      },
      "execution_count": 11,
      "outputs": [
        {
          "output_type": "execute_result",
          "data": {
            "text/plain": [
              "array(['소셜간편회원', '휴대폰간편회원'], dtype=object)"
            ]
          },
          "metadata": {},
          "execution_count": 11
        }
      ]
    },
    {
      "cell_type": "code",
      "source": [
        "df['회원구분'].unique()"
      ],
      "metadata": {
        "colab": {
          "base_uri": "https://localhost:8080/"
        },
        "id": "QD1UlxP2FllA",
        "outputId": "ed8bedf7-3646-4f3d-cfd2-4df95184b0ad"
      },
      "execution_count": 12,
      "outputs": [
        {
          "output_type": "execute_result",
          "data": {
            "text/plain": [
              "array(['LPOINT통합회원', '소셜간편회원', '이메일간편회원', '법인회원', '휴대폰간편회원'], dtype=object)"
            ]
          },
          "metadata": {},
          "execution_count": 12
        }
      ]
    },
    {
      "cell_type": "markdown",
      "source": [
        "아이디가 없는 회원은 소셜간편회원, 휴대폰간편회원\n",
        "아이디가 있는 회원은 LPOINT통합회원, 이메일간편회원, 법인회원"
      ],
      "metadata": {
        "id": "y20mIPnXF_RT"
      }
    },
    {
      "cell_type": "markdown",
      "source": [
        "회원구분에 따른 배송완료 비율?"
      ],
      "metadata": {
        "id": "CLjDlwOWHRaD"
      }
    },
    {
      "cell_type": "code",
      "source": [
        "sns.countplot(x=\"회원구분\", data=df);"
      ],
      "metadata": {
        "colab": {
          "base_uri": "https://localhost:8080/",
          "height": 278
        },
        "id": "EGWnSdWzJWis",
        "outputId": "ff8099be-f2b6-439d-b8de-1241c45705e6"
      },
      "execution_count": 13,
      "outputs": [
        {
          "output_type": "display_data",
          "data": {
            "text/plain": [
              "<Figure size 432x288 with 1 Axes>"
            ],
            "image/png": "[encoded data removed]"
          },
          "metadata": {
            "needs_background": "light"
          }
        }
      ]
    },
    {
      "cell_type": "markdown",
      "source": [
        "LPOINT통합회원이 압도적으로 많다"
      ],
      "metadata": {
        "id": "pFu3O38kJscI"
      }
    },
    {
      "cell_type": "code",
      "source": [
        "sns.catplot(x=\"진행단계\", data=df, kind=\"count\", col=\"회원구분\")"
      ],
      "metadata": {
        "colab": {
          "base_uri": "https://localhost:8080/",
          "height": 313
        },
        "id": "HsYtFBGpGrzO",
        "outputId": "1278ace5-f007-499f-c40c-968f8f542a8a"
      },
      "execution_count": 14,
      "outputs": [
        {
          "output_type": "execute_result",
          "data": {
            "text/plain": [
              "<seaborn.axisgrid.FacetGrid at 0x7f87c3887e50>"
            ]
          },
          "metadata": {},
          "execution_count": 14
        },
        {
          "output_type": "display_data",
          "data": {
            "text/plain": [
              "<Figure size 1800x360 with 5 Axes>"
            ],
            "image/png": "[encoded data removed]"
          },
          "metadata": {
            "needs_background": "light"
          }
        }
      ]
    },
    {
      "cell_type": "code",
      "source": [
        "sns.countplot(x=\"유입매체\", data=df,order = df['유입매체'].value_counts().index);"
      ],
      "metadata": {
        "colab": {
          "base_uri": "https://localhost:8080/",
          "height": 277
        },
        "id": "8ZAZm8EmJ8O0",
        "outputId": "9e007f67-8deb-41cd-e972-644d9f4f2e64"
      },
      "execution_count": 15,
      "outputs": [
        {
          "output_type": "display_data",
          "data": {
            "text/plain": [
              "<Figure size 432x288 with 1 Axes>"
            ],
            "image/png": "[encoded data removed]"
          },
          "metadata": {
            "needs_background": "light"
          }
        }
      ]
    },
    {
      "cell_type": "markdown",
      "source": [
        "유입매체는 APP, Mobile web, PC, Tablet순\n",
        "Tablet은 크게 고려 안해도 될 듯"
      ],
      "metadata": {
        "id": "nyQAslQgLB2K"
      }
    },
    {
      "cell_type": "code",
      "source": [
        "sns.catplot(x=\"진행단계\", data=df, kind=\"count\", col=\"유입매체\")"
      ],
      "metadata": {
        "colab": {
          "base_uri": "https://localhost:8080/",
          "height": 383
        },
        "id": "pNZ_-cspKKSm",
        "outputId": "ab2f0857-cf16-4cd1-893c-8a3d6c87153f"
      },
      "execution_count": 16,
      "outputs": [
        {
          "output_type": "execute_result",
          "data": {
            "text/plain": [
              "<seaborn.axisgrid.FacetGrid at 0x7f87c36e4450>"
            ]
          },
          "metadata": {},
          "execution_count": 16
        },
        {
          "output_type": "display_data",
          "data": {
            "text/plain": [
              "<Figure size 1440x360 with 4 Axes>"
            ],
            "image/png": "[encoded data removed]"
          },
          "metadata": {
            "needs_background": "light"
          }
        }
      ]
    },
    {
      "cell_type": "markdown",
      "source": [
        "취소를 하게 된 변수를 찾으면 좋을 듯"
      ],
      "metadata": {
        "id": "oIEOcg5vK5cs"
      }
    },
    {
      "cell_type": "code",
      "source": [
        "df['주문구분'].value_counts()"
      ],
      "metadata": {
        "colab": {
          "base_uri": "https://localhost:8080/"
        },
        "id": "hufBbEXvK4aC",
        "outputId": "9236937b-14d8-4eda-b16b-c37c3ccbe4d0"
      },
      "execution_count": 17,
      "outputs": [
        {
          "output_type": "execute_result",
          "data": {
            "text/plain": [
              "일반주문    3202\n",
              "선물하기      65\n",
              "Name: 주문구분, dtype: int64"
            ]
          },
          "metadata": {},
          "execution_count": 17
        }
      ]
    },
    {
      "cell_type": "code",
      "source": [
        "df['유입채널'].nunique()"
      ],
      "metadata": {
        "colab": {
          "base_uri": "https://localhost:8080/"
        },
        "id": "3J5gcsQROlbv",
        "outputId": "f706f3d2-af92-410c-9cff-725b24e54add"
      },
      "execution_count": 19,
      "outputs": [
        {
          "output_type": "execute_result",
          "data": {
            "text/plain": [
              "76"
            ]
          },
          "metadata": {},
          "execution_count": 19
        }
      ]
    },
    {
      "cell_type": "code",
      "source": [
        "df['유입채널'].value_counts()>1"
      ],
      "metadata": {
        "colab": {
          "base_uri": "https://localhost:8080/"
        },
        "id": "EbcYuz68MvKj",
        "outputId": "1c3b3765-0ef2-4f1d-d2d1-8bb0f71c1999"
      },
      "execution_count": 20,
      "outputs": [
        {
          "output_type": "execute_result",
          "data": {
            "text/plain": [
              "디폴트 채널상세                          True\n",
              "[네이버] PCS 가격비교_롯데ON               True\n",
              "[네이버] 키워드_쇼핑검색광고_롯데ON             True\n",
              "[다음카카오] PCS 가격비교_롯데ON             True\n",
              "[에누리] PCS 가격비교_롯데ON               True\n",
              "                                 ...  \n",
              "[롯데ON][2022 New Year's gift🎁]    False\n",
              "3.썸네일_5-1                        False\n",
              "[애피어] APP 리타게팅_롯데ON              False\n",
              "[롯데ON][명품화장품 비밀매장 초대장💌]          False\n",
              "[다음카카오] PCS 네이트쇼핑_롯데ON           False\n",
              "Name: 유입채널, Length: 76, dtype: bool"
            ]
          },
          "metadata": {},
          "execution_count": 20
        }
      ]
    },
    {
      "cell_type": "code",
      "source": [
        "(df['유입채널'].value_counts()>1).value_counts()"
      ],
      "metadata": {
        "colab": {
          "base_uri": "https://localhost:8080/"
        },
        "id": "OcZ6NOOVOjtQ",
        "outputId": "5faacf96-ce26-4df4-e14d-ad0689b97ddf"
      },
      "execution_count": 21,
      "outputs": [
        {
          "output_type": "execute_result",
          "data": {
            "text/plain": [
              "True     43\n",
              "False    33\n",
              "Name: 유입채널, dtype: int64"
            ]
          },
          "metadata": {},
          "execution_count": 21
        }
      ]
    },
    {
      "cell_type": "markdown",
      "source": [
        "유입채널이 1개 이상인 채널 43개 1개인 채널 33개\n",
        "한 개 초과 것만 봐도 될 듯"
      ],
      "metadata": {
        "id": "Oul_LMT4P_jh"
      }
    },
    {
      "cell_type": "code",
      "source": [
        "df['유입채널'].value_counts().head(43)"
      ],
      "metadata": {
        "colab": {
          "base_uri": "https://localhost:8080/"
        },
        "id": "qXY0K1OSQWAa",
        "outputId": "6d1b2979-66d0-436b-b347-803f215cb31e"
      },
      "execution_count": 22,
      "outputs": [
        {
          "output_type": "execute_result",
          "data": {
            "text/plain": [
              "디폴트 채널상세                                    1763\n",
              "[네이버] PCS 가격비교_롯데ON                          742\n",
              "[네이버] 키워드_쇼핑검색광고_롯데ON                        182\n",
              "[다음카카오] PCS 가격비교_롯데ON                        118\n",
              "[에누리] PCS 가격비교_롯데ON                           75\n",
              "[다나와] PCS 가격비교_롯데ON                           64\n",
              "[네이버] PC_브랜드검색_롯데ON                           54\n",
              "[롯데ON][PUSH][실시간 BEST 🕠]                      25\n",
              "[네이버] 키워드_롯데ON                                15\n",
              "[네이버] MO_브랜드검색_롯데ON                           15\n",
              "[구글] SA_롯데ON                                  15\n",
              "[모바일]카카오톡                                     14\n",
              "[롯데ON][알림톡][[롯데ON] 상품 배송시작 안내]                12\n",
              "[롯데ON][알림톡][[롯데ON] 배송완료 안내]                   11\n",
              "(광고) 0107 타임딜                                 11\n",
              "[롯데ON][알림톡][[롯데ON] 주문 완료 안내]                  10\n",
              "[롯데ON] 개인화 추천 이메일                              9\n",
              "(광고) 0120 0900 온세일                             8\n",
              "[롯데ON][이메일][월요일은 [푸드Day] 식품 전용 쿠폰과 함께~!]       7\n",
              "유실 채널상세                                        6\n",
              "[롯데ON][PUSH][⏰10월 8일⏰]                         6\n",
              "[롯데ON] MO Web 행사장_21.07_월간APP혜택                6\n",
              "webtoapp                                       5\n",
              "브이피                                            5\n",
              "[롯데ON][PUSH][L.POINT 적립 알림]                    5\n",
              "[롯데ON][PUSH][🔔장바구니 알리미]                        5\n",
              "[롯데ON][PUSH][⏳월요일은 푸드Day⏳]                     5\n",
              "[롯데ON][알림톡][[롯데ON] 주문취소 안내]                    5\n",
              "[롯데ON][PUSH][#{map1}고객님, 내일이면 끝나요!]            4\n",
              "[위메프] PCS 가격비교 할인제외 소재_롯데ON                    3\n",
              "[롯데ON][설 선물 택배 마감🚚 [D-3]]                      3\n",
              "[롯데ON][애프터위크 ~7%카드할인💳]                         3\n",
              "[롯데ON][애프터위크 쿠폰팩 받으셨나요~?]                      3\n",
              "[롯데ON][🐯해피 뉴 퍼스트먼데이🐯]                          2\n",
              "[롯데ON][알림톡][[롯데ON] 상품Q&A 답변등록 안내]              2\n",
              "[롯데ON][퍼스트먼데이는 오늘까지🕛!]                         2\n",
              "[롯데마트][애프터위크 혜택, 이대로는 못보내지😘]                   2\n",
              "퀵메뉴_슈퍼                                         2\n",
              "[롯데ON][나이스 투 MEAT🥩 유!]                         2\n",
              "카카오톡 플러스친구                                     2\n",
              "[롯데ON][알림톡][[롯데ON] 명절상품 배송완료 안내]               2\n",
              "[모지세] CPS제휴_매출_롯데ON                            2\n",
              "나이스 제휴                                         2\n",
              "Name: 유입채널, dtype: int64"
            ]
          },
          "metadata": {},
          "execution_count": 22
        }
      ]
    },
    {
      "cell_type": "markdown",
      "source": [
        "50개 초과 것만 봐도 될 듯?"
      ],
      "metadata": {
        "id": "CEPz9NP8Q9Iw"
      }
    },
    {
      "cell_type": "markdown",
      "source": [
        "디폴트 채널상세는 모바일앱의 채널에서 본건가?\n",
        "가격비교로 온 것도 많다"
      ],
      "metadata": {
        "id": "eDsSVgb6ReKR"
      }
    },
    {
      "cell_type": "markdown",
      "source": [
        "유형, 진행단계, 구매확정은 같이 가는 것 같다.\n",
        "배송/취소"
      ],
      "metadata": {
        "id": "JDVS0vcHSIYR"
      }
    },
    {
      "cell_type": "code",
      "source": [
        "df['판매자상품명'].nunique()"
      ],
      "metadata": {
        "colab": {
          "base_uri": "https://localhost:8080/"
        },
        "id": "m9QDgF15TXUN",
        "outputId": "f44c84e6-13e9-4d10-fcd5-e9f79f47a61a"
      },
      "execution_count": 23,
      "outputs": [
        {
          "output_type": "execute_result",
          "data": {
            "text/plain": [
              "536"
            ]
          },
          "metadata": {},
          "execution_count": 23
        }
      ]
    },
    {
      "cell_type": "markdown",
      "source": [
        "취소인 것과 판매자 상품"
      ],
      "metadata": {
        "id": "lDKZs0hUTu1E"
      }
    },
    {
      "cell_type": "code",
      "source": [
        "df['주문판매유형'].nunique()"
      ],
      "metadata": {
        "colab": {
          "base_uri": "https://localhost:8080/"
        },
        "id": "yS3QG9RfThuK",
        "outputId": "2673b42d-a49c-41f7-8fcb-b91700b7302e"
      },
      "execution_count": 24,
      "outputs": [
        {
          "output_type": "execute_result",
          "data": {
            "text/plain": [
              "1"
            ]
          },
          "metadata": {},
          "execution_count": 24
        }
      ]
    },
    {
      "cell_type": "code",
      "source": [
        "df['상품유형'].nunique()"
      ],
      "metadata": {
        "colab": {
          "base_uri": "https://localhost:8080/"
        },
        "id": "CPKRFuuGkOLf",
        "outputId": "dc5b79c8-8a29-406b-d807-404a00496651"
      },
      "execution_count": 25,
      "outputs": [
        {
          "output_type": "execute_result",
          "data": {
            "text/plain": [
              "1"
            ]
          },
          "metadata": {},
          "execution_count": 25
        }
      ]
    },
    {
      "cell_type": "markdown",
      "source": [
        "주문판매유형과 상품유형은 모두 일반판매, 일반상품으로 같으므로 분석 필요 없을 것 같다."
      ],
      "metadata": {
        "id": "3KEcckrxkUDO"
      }
    },
    {
      "cell_type": "code",
      "source": [
        "df.drop(['주문판매유형','상품유형'],axis=1, inplace=True)"
      ],
      "metadata": {
        "id": "aGMbj2HUkS_F"
      },
      "execution_count": 26,
      "outputs": []
    },
    {
      "cell_type": "code",
      "source": [
        "df['브랜드'].nunique()"
      ],
      "metadata": {
        "colab": {
          "base_uri": "https://localhost:8080/"
        },
        "id": "LMCSyr0Hkjfo",
        "outputId": "4ef0ada8-5307-4568-a119-ea9ae039c215"
      },
      "execution_count": 27,
      "outputs": [
        {
          "output_type": "execute_result",
          "data": {
            "text/plain": [
              "1"
            ]
          },
          "metadata": {},
          "execution_count": 27
        }
      ]
    },
    {
      "cell_type": "markdown",
      "source": [
        "브랜드도 모두 CJ제일제당으로 같다"
      ],
      "metadata": {
        "id": "rVKJOt7TkuZi"
      }
    },
    {
      "cell_type": "code",
      "source": [
        "df.drop(['브랜드'],axis=1, inplace=True)"
      ],
      "metadata": {
        "id": "-fUn88Trkxro"
      },
      "execution_count": 28,
      "outputs": []
    },
    {
      "cell_type": "code",
      "source": [
        "df['수량'].nunique()"
      ],
      "metadata": {
        "colab": {
          "base_uri": "https://localhost:8080/"
        },
        "id": "UoKrrRi5k1_k",
        "outputId": "b58cef10-30a7-4a12-86e9-7b33379c63ba"
      },
      "execution_count": 29,
      "outputs": [
        {
          "output_type": "execute_result",
          "data": {
            "text/plain": [
              "25"
            ]
          },
          "metadata": {},
          "execution_count": 29
        }
      ]
    },
    {
      "cell_type": "code",
      "source": [
        "df['수량'].value_counts()"
      ],
      "metadata": {
        "colab": {
          "base_uri": "https://localhost:8080/"
        },
        "id": "ktWi8Txmk78p",
        "outputId": "740395a8-b6a0-409d-dfe4-6a6258f52e43"
      },
      "execution_count": 33,
      "outputs": [
        {
          "output_type": "execute_result",
          "data": {
            "text/plain": [
              "1      2545\n",
              "2       357\n",
              "3       135\n",
              "4        64\n",
              "5        64\n",
              "6        27\n",
              "10       14\n",
              "8         9\n",
              "20        9\n",
              "12        6\n",
              "9         6\n",
              "13        5\n",
              "7         5\n",
              "15        4\n",
              "11        3\n",
              "30        3\n",
              "23        2\n",
              "14        2\n",
              "100       1\n",
              "24        1\n",
              "60        1\n",
              "50        1\n",
              "17        1\n",
              "65        1\n",
              "250       1\n",
              "Name: 수량, dtype: int64"
            ]
          },
          "metadata": {},
          "execution_count": 33
        }
      ]
    },
    {
      "cell_type": "code",
      "source": [
        "df['표준카테고리'].nunique()"
      ],
      "metadata": {
        "colab": {
          "base_uri": "https://localhost:8080/"
        },
        "id": "DGe3kYUBlia8",
        "outputId": "ea897b1a-531e-43ae-8ec6-0dda7324e463"
      },
      "execution_count": 34,
      "outputs": [
        {
          "output_type": "execute_result",
          "data": {
            "text/plain": [
              "54"
            ]
          },
          "metadata": {},
          "execution_count": 34
        }
      ]
    },
    {
      "cell_type": "code",
      "source": [
        "df['표준카테고리'].value_counts()"
      ],
      "metadata": {
        "colab": {
          "base_uri": "https://localhost:8080/"
        },
        "id": "lUFgI6yDlmLH",
        "outputId": "afb020a2-58e8-4f45-ed06-383792221f96"
      },
      "execution_count": 35,
      "outputs": [
        {
          "output_type": "execute_result",
          "data": {
            "text/plain": [
              "냉장/냉동/간편식 > 떡볶이/만두 > 만두              449\n",
              "가공식품 > 통조림/캔 > 캔/통조림선물세트             412\n",
              "냉장/냉동/간편식 > 즉석밥/죽/스프 > 즉석밥           231\n",
              "냉장/냉동/간편식 > 국/탕/찌개 > 국/탕             222\n",
              "냉장/냉동/간편식 > 햄/소시지/베이컨 > 햄/소시지        181\n",
              "가공식품 > 장류 > 된장/쌈장/청국장                177\n",
              "가공식품 > 식용유/오일 > 카놀라유                 158\n",
              "냉장/냉동/간편식 > 즉석밥/죽/스프 > 볶음밥           143\n",
              "가공식품 > 소스/드레싱 > 굴소스/중화요리소스           129\n",
              "김치/반찬 > 반찬 > 기타반찬                    118\n",
              "가공식품 > 장류 > 고추장/초고추장                  92\n",
              "냉장/냉동/간편식 > 돈가스/고로케/너겟 > 돈가스          81\n",
              "수산/건어물 > 생선 > 반조리생선                   79\n",
              "수산/건어물 > 김/해조류 > 조미김/도시락김             77\n",
              "가공식품 > 식용유/오일 > 식용유/오일선물세트            61\n",
              "가공식품 > 소스/드레싱 > 칠리/살사소스               56\n",
              "냉장/냉동/간편식 > 밀키트/쿠킹박스 > 중식/일식/아시아      56\n",
              "정육/계란 > 양념육 > 기타양념육                   55\n",
              "냉장/냉동/간편식 > 즉석밥/죽/스프 > 컵밥             54\n",
              "김치/반찬 > 김치 > 포기김치                     47\n",
              "가공식품 > 면류 > 기타면류                      36\n",
              "가공식품 > 통조림/캔 > 햄통조림                   35\n",
              "냉장/냉동/간편식 > 돈가스/고로케/너겟 > 너겟           34\n",
              "냉장/냉동/간편식 > 피자/핫도그/햄버거 > 피자/햄버거       32\n",
              "가공식품 > 식용유/오일 > 참기름                   24\n",
              "가공식품 > 소스/드레싱 > 파스타소스                 24\n",
              "가공식품 > 조미료/양념 > 가공조미료                 23\n",
              "가공식품 > 면류 > 중화면                       22\n",
              "가공식품 > 소스/드레싱 > 기타소스                  20\n",
              "냉장/냉동/간편식 > 동그랑땡/전/튀김 > 튀김류           19\n",
              "김치/반찬 > 김치 > 기타김치                     16\n",
              "냉장/냉동/간편식 > 국/탕/찌개 > 찌개               12\n",
              "김치/반찬 > 김치 > 총각김치                     12\n",
              "과자/간식 > 기타간식 > 김스낵                    10\n",
              "냉장/냉동/간편식 > 피자/핫도그/햄버거 > 핫도그           9\n",
              "가공식품 > 밀가루/믹스류 > 베이킹믹스                 8\n",
              "냉장/냉동/간편식 > 즉석밥/죽/스프 > 죽               7\n",
              "가공식품 > 면류 > 당면                         7\n",
              "과자/간식 > 빵/베이커리 > 기타빵                   7\n",
              "과자/간식 > 기타간식 > 맛밤/맛고구마                 6\n",
              "과자/간식 > 캔디/껌/캐러멜 > 젤리/푸딩               5\n",
              "냉장/냉동/간편식 > 햄/소시지/베이컨 > 베이컨/슬라이스햄      5\n",
              "가공식품 > 조미료/양념 > 백설탕                    3\n",
              "가공식품 > 식용유/오일 > 기타오일                   2\n",
              "가공식품 > 식용유/오일 > 올리브유                   2\n",
              "가공식품 > 면류 > 우동                         1\n",
              "정육/계란 > 양념육 > 돼지양념육                    1\n",
              "냉장/냉동/간편식 > 어묵/맛살/핫바 > 어묵/핫바           1\n",
              "가공식품 > 면류 > 국수                         1\n",
              "가공식품 > 식용유/오일 > 해바라기유                  1\n",
              "가공식품 > 조미료/양념 > 가공/구운소금                1\n",
              "커피/생수/음료 > 차류 > 과일청                    1\n",
              "가공식품 > 조미료/양념 > 갈색설탕                   1\n",
              "과자/간식 > 디저트/케이크 > 푸딩                   1\n",
              "Name: 표준카테고리, dtype: int64"
            ]
          },
          "metadata": {},
          "execution_count": 35
        }
      ]
    },
    {
      "cell_type": "code",
      "source": [
        "df['합계'] = df['판매가'] * df['수량']"
      ],
      "metadata": {
        "id": "K-4FlW4Ll5yL"
      },
      "execution_count": 40,
      "outputs": []
    },
    {
      "cell_type": "code",
      "source": [
        "df['판매자단품명'].value_counts()"
      ],
      "metadata": {
        "colab": {
          "base_uri": "https://localhost:8080/"
        },
        "id": "ZlNmSBvKm6TA",
        "outputId": "71750811-2d08-48d4-861b-583cee395b52"
      },
      "execution_count": 41,
      "outputs": [
        {
          "output_type": "execute_result",
          "data": {
            "text/plain": [
              "단일상품                                                                                 3222\n",
              "[옵션1] CJ 비비고 육개장 500Gx4 + 한우사골곰탕 500Gx3                                                 4\n",
              "[옵션3]비비고 플랜테이블왕교자 X2개 + 플랜테이블김치왕교자 X2개                                                  3\n",
              "[옵션1][만두찜기증정]CJ 비비고 김치왕교자 X2봉 + 수제깔끔고기만두 X2봉 + 부추새우만두                                   2\n",
              "[옵션4][만두찜기증정]CJ 비비고 왕교자 1.05KG + 수제진한고기만두 X2봉 + 수제소고기한섬 X2봉                             2\n",
              "[옵션2]비비고 왕교자 455G X 4봉 + 김치왕교자 X 2봉 + 수제고기만두 증정                                         2\n",
              "[옵션1]비비고 추어탕 X 4봉 + 사골곰탕 증정                                                             2\n",
              "[옵션9]해찬들 우리쌀로만든태양초골드고추장 2kg                                                             2\n",
              "[옵션2] CJ 맛군밤 60G X 12개                                                                  2\n",
              "[옵션1][눈오리집게 증정]비비고 통단팥죽 X 2개 + 동지팥죽 X 2개 + 단호박죽                                         2\n",
              "[옵션2][만두찜기증정]CJ 비비고 새우왕교자 X2봉 + 수제진한김치만두 X2봉 + 수제소고기한섬만두 X2봉                            2\n",
              "[옵션22] CJ 비비고 수제고기만두x2개+수제김치만두x2개 + 수제깻잎고기만두x2개                                         1\n",
              "[옵션1][조리용타이머 증정] 비비고 도가니곰탕 460G X2개 + 비비고 꼬리곰탕 460G X2개                                 1\n",
              "[옵션3][특별이벤트]컵반스팸마요 X2개+컵반 치킨마요 X2개+BIG컵반스팸김치 X2개                                        1\n",
              "[옵션2][조리용타이머 증정] 비비고 도가니곰탕 460G X4개                                                     1\n",
              "[옵션1]해찬들 우리쌀로만든태양초매운고추장 1kg + 그대로바지락된장 450gX2개                                          1\n",
              "[옵션26]비비고 한섬만두 384G*2EA *2                                                              1\n",
              "[옵션2] CJ 비비고 미역국 500Gx4 + 한우사골곰탕 500Gx3                                                 1\n",
              "[옵션13][주먹밥 3종 증정]새우왕교자 X2봉+수제진한고기만두 X4봉+수제진한김치만두 X2봉+부추새우만두+수제소고기한섬 X2봉+수제군교자 X2봉       1\n",
              "[옵션1]비비고 왕교자 455G X 6봉 + 수제고기만두 증정                                                      1\n",
              "[옵션11]비비고 갈비탕 X 4봉 + 사골곰탕 증정                                                            1\n",
              "[옵션3][조리용타이머 증정] 비비고 꼬리곰탕 460G X4개                                                      1\n",
              "[옵션1]비비고 플랜테이블왕교자 X4개                                                                   1\n",
              "[옵션3][만두찜기증정]CJ 비비고 왕교자 1.05KG + 부추새우만두 + 수제평양만두 X2봉                                    1\n",
              "비비고 소고기무국 X 3개 / 비비고 한우소고기죽 X 2개                                                        1\n",
              "[옵션8]비비고 왕교자1.05KG X 3봉 + 수제고기만두 증정                                                     1\n",
              "[옵션25]비비고 왕만두 490G*2EA *2                                                               1\n",
              "[옵션17] CJ 비비고 수제고기만두400G X 6개                                                           1\n",
              "[옵션5]CJ 맥스봉 체다치즈어랏400G X 2박스 + CJ 맥스봉162G X 4박스                                         1\n",
              "[옵션1]새우왕교자X2봉+수제진한고기만두X4봉+수제진한김치만두X2봉+부추새우만두+수제소고기한섬X2봉+수제군교자X2봉                        1\n",
              "[옵션4]비비고 플랜테이블왕교자 X5개                                                                   1\n",
              "[옵션5]비비고 플랜테이블김치왕교자 X5개                                                                 1\n",
              "[옵션12][만두찜기증정]CJ 비비고 왕교자 1.05KG + 수제진한고기만두 X2봉 + 수제소고기한섬 X2봉                            1\n",
              "Name: 판매자단품명, dtype: int64"
            ]
          },
          "metadata": {},
          "execution_count": 41
        }
      ]
    },
    {
      "cell_type": "markdown",
      "source": [
        "단일상품으로 산 것만 집중적으로 봐도 좋을 듯하다."
      ],
      "metadata": {
        "id": "Eato_tbgnxdL"
      }
    },
    {
      "cell_type": "code",
      "source": [
        "df['전시단품명'].value_counts()"
      ],
      "metadata": {
        "colab": {
          "base_uri": "https://localhost:8080/"
        },
        "id": "O-aBDn-enWE0",
        "outputId": "5e39bed1-7b09-45b8-c6ca-7798cb5ef7bf"
      },
      "execution_count": 42,
      "outputs": [
        {
          "output_type": "execute_result",
          "data": {
            "text/plain": [
              "단일상품                                                                                 3222\n",
              "[옵션1] CJ 비비고 육개장 500Gx4 + 한우사골곰탕 500Gx3                                                 4\n",
              "[옵션3]비비고 플랜테이블왕교자 X2개 + 플랜테이블김치왕교자 X2개                                                  3\n",
              "[옵션1][만두찜기증정]CJ 비비고 김치왕교자 X2봉 + 수제깔끔고기만두 X2봉 + 부추새우만두                                   2\n",
              "[옵션4][만두찜기증정]CJ 비비고 왕교자 1.05KG + 수제진한고기만두 X2봉 + 수제소고기한섬 X2봉                             2\n",
              "[옵션2]비비고 왕교자 455G X 4봉 + 김치왕교자 X 2봉 + 수제고기만두 증정                                         2\n",
              "[옵션1]비비고 추어탕 X 4봉 + 사골곰탕 증정                                                             2\n",
              "[옵션9]해찬들 우리쌀로만든태양초골드고추장 2kg                                                             2\n",
              "[옵션2] CJ 맛군밤 60G X 12개                                                                  2\n",
              "[옵션1][눈오리집게 증정]비비고 통단팥죽 X 2개 + 동지팥죽 X 2개 + 단호박죽                                         2\n",
              "[옵션2][만두찜기증정]CJ 비비고 새우왕교자 X2봉 + 수제진한김치만두 X2봉 + 수제소고기한섬만두 X2봉                            2\n",
              "[옵션22] CJ 비비고 수제고기만두x2개+수제김치만두x2개 + 수제깻잎고기만두x2개                                         1\n",
              "[옵션1][조리용타이머 증정] 비비고 도가니곰탕 460G X2개 + 비비고 꼬리곰탕 460G X2개                                 1\n",
              "[옵션3][특별이벤트]컵반스팸마요 X2개+컵반 치킨마요 X2개+BIG컵반스팸김치 X2개                                        1\n",
              "[옵션2][조리용타이머 증정] 비비고 도가니곰탕 460G X4개                                                     1\n",
              "[옵션1]해찬들 우리쌀로만든태양초매운고추장 1kg + 그대로바지락된장 450gX2개                                          1\n",
              "[옵션26]비비고 한섬만두 384G*2EA *2                                                              1\n",
              "[옵션2] CJ 비비고 미역국 500Gx4 + 한우사골곰탕 500Gx3                                                 1\n",
              "[옵션13][주먹밥 3종 증정]새우왕교자 X2봉+수제진한고기만두 X4봉+수제진한김치만두 X2봉+부추새우만두+수제소고기한섬 X2봉+수제군교자 X2봉       1\n",
              "[옵션1]비비고 왕교자 455G X 6봉 + 수제고기만두 증정                                                      1\n",
              "[옵션11]비비고 갈비탕 X 4봉 + 사골곰탕 증정                                                            1\n",
              "[옵션3][조리용타이머 증정] 비비고 꼬리곰탕 460G X4개                                                      1\n",
              "[옵션1]비비고 플랜테이블왕교자 X4개                                                                   1\n",
              "[옵션3][만두찜기증정]CJ 비비고 왕교자 1.05KG + 부추새우만두 + 수제평양만두 X2봉                                    1\n",
              "비비고 소고기무국 X 3개 / 비비고 한우소고기죽 X 2개                                                        1\n",
              "[옵션8]비비고 왕교자1.05KG X 3봉 + 수제고기만두 증정                                                     1\n",
              "[옵션25]비비고 왕만두 490G*2EA *2                                                               1\n",
              "[옵션17] CJ 비비고 수제고기만두400G X 6개                                                           1\n",
              "[옵션5]CJ 맥스봉 체다치즈어랏400G X 2박스 + CJ 맥스봉162G X 4박스                                         1\n",
              "[옵션1]새우왕교자X2봉+수제진한고기만두X4봉+수제진한김치만두X2봉+부추새우만두+수제소고기한섬X2봉+수제군교자X2봉                        1\n",
              "[옵션4]비비고 플랜테이블왕교자 X5개                                                                   1\n",
              "[옵션5]비비고 플랜테이블김치왕교자 X5개                                                                 1\n",
              "[옵션12][만두찜기증정]CJ 비비고 왕교자 1.05KG + 수제진한고기만두 X2봉 + 수제소고기한섬 X2봉                            1\n",
              "Name: 전시단품명, dtype: int64"
            ]
          },
          "metadata": {},
          "execution_count": 42
        }
      ]
    },
    {
      "cell_type": "code",
      "source": [
        "df['판매자단품명'].nunique()"
      ],
      "metadata": {
        "colab": {
          "base_uri": "https://localhost:8080/"
        },
        "id": "_S16vP0LnWBc",
        "outputId": "e51f2ec7-1022-46bb-d4e5-c8f923a3a7c0"
      },
      "execution_count": 43,
      "outputs": [
        {
          "output_type": "execute_result",
          "data": {
            "text/plain": [
              "33"
            ]
          },
          "metadata": {},
          "execution_count": 43
        }
      ]
    },
    {
      "cell_type": "code",
      "source": [
        "df['전시단품명'].nunique()"
      ],
      "metadata": {
        "colab": {
          "base_uri": "https://localhost:8080/"
        },
        "id": "1ajeiyOLnV-a",
        "outputId": "b99a4721-a7c6-49b5-d91a-1de4a3cff93b"
      },
      "execution_count": 44,
      "outputs": [
        {
          "output_type": "execute_result",
          "data": {
            "text/plain": [
              "33"
            ]
          },
          "metadata": {},
          "execution_count": 44
        }
      ]
    },
    {
      "cell_type": "code",
      "source": [
        "df['판매자단품명'].equals(df['전시단품명'])"
      ],
      "metadata": {
        "colab": {
          "base_uri": "https://localhost:8080/"
        },
        "id": "sBK11aCQnV7s",
        "outputId": "7c78e1a3-b0e7-4373-86f6-36203a3e6222"
      },
      "execution_count": 45,
      "outputs": [
        {
          "output_type": "execute_result",
          "data": {
            "text/plain": [
              "True"
            ]
          },
          "metadata": {},
          "execution_count": 45
        }
      ]
    },
    {
      "cell_type": "markdown",
      "source": [
        "판매자단품명과 전시단품명은 같으니 둘 중 하나의 변수를 드롭해도 괜찮을 것 같다."
      ],
      "metadata": {
        "id": "hL4aJSSsoaaW"
      }
    },
    {
      "cell_type": "code",
      "source": [
        "df.drop(['전시단품명'],axis=1, inplace=True)"
      ],
      "metadata": {
        "id": "v-kmOksrnV4k"
      },
      "execution_count": 46,
      "outputs": []
    },
    {
      "cell_type": "code",
      "source": [
        "df['판매자상품명'].nunique()"
      ],
      "metadata": {
        "colab": {
          "base_uri": "https://localhost:8080/"
        },
        "id": "6dYm3BuQnV1t",
        "outputId": "d1040f58-07de-47c5-e51d-b5535de4dc28"
      },
      "execution_count": 47,
      "outputs": [
        {
          "output_type": "execute_result",
          "data": {
            "text/plain": [
              "536"
            ]
          },
          "metadata": {},
          "execution_count": 47
        }
      ]
    },
    {
      "cell_type": "code",
      "source": [
        "df['전시상품명'].nunique()"
      ],
      "metadata": {
        "colab": {
          "base_uri": "https://localhost:8080/"
        },
        "id": "f_SeAv10ob7v",
        "outputId": "d3e23b34-28d4-4e93-efc8-9ce8e1510f47"
      },
      "execution_count": 48,
      "outputs": [
        {
          "output_type": "execute_result",
          "data": {
            "text/plain": [
              "536"
            ]
          },
          "metadata": {},
          "execution_count": 48
        }
      ]
    },
    {
      "cell_type": "markdown",
      "source": [
        "판매자상품명과 전시상품명도 같은 것 같다."
      ],
      "metadata": {
        "id": "KDxrYH4IpAeg"
      }
    },
    {
      "cell_type": "code",
      "source": [
        "df['주문접수일시'].tail()"
      ],
      "metadata": {
        "colab": {
          "base_uri": "https://localhost:8080/"
        },
        "id": "dHZq_tS2pGEi",
        "outputId": "818d299e-2c69-4463-ce67-87a04250e1cd"
      },
      "execution_count": 50,
      "outputs": [
        {
          "output_type": "execute_result",
          "data": {
            "text/plain": [
              "3262    2022-01-01 02:56:35\n",
              "3263    2022-01-01 02:54:53\n",
              "3264    2022-01-01 00:38:42\n",
              "3265    2022-01-01 00:38:13\n",
              "3266    2022-01-01 00:17:11\n",
              "Name: 주문접수일시, dtype: object"
            ]
          },
          "metadata": {},
          "execution_count": 50
        }
      ]
    },
    {
      "cell_type": "code",
      "source": [
        "df1 = pd.read_excel('/content/drive/MyDrive/bdaa.xlsx', sheet_name = '1월')\n",
        "df2 = pd.read_excel('/content/drive/MyDrive/bdaa.xlsx', sheet_name = '2월')\n",
        "df3 = pd.read_excel('/content/drive/MyDrive/bdaa.xlsx', sheet_name = '3월')\n",
        "df4 = pd.read_excel('/content/drive/MyDrive/bdaa.xlsx', sheet_name = '4월')\n",
        "df5 = pd.read_excel('/content/drive/MyDrive/bdaa.xlsx', sheet_name = '5월')\n",
        "df6 = pd.read_excel('/content/drive/MyDrive/bdaa.xlsx', sheet_name = '6월')\n",
        "df7 = pd.read_excel('/content/drive/MyDrive/bdaa.xlsx', sheet_name = '7월')\n",
        "df8 = pd.read_excel('/content/drive/MyDrive/bdaa.xlsx', sheet_name = '8월')\n",
        "df9 = pd.read_excel('/content/drive/MyDrive/bdaa.xlsx', sheet_name = '9월')"
      ],
      "metadata": {
        "id": "f34z4L84ob4C"
      },
      "execution_count": 53,
      "outputs": []
    },
    {
      "cell_type": "code",
      "source": [
        "df3 = pd.read_excel('/content/drive/MyDrive/bdaa.xlsx', sheet_name = '3월')"
      ],
      "metadata": {
        "id": "CPyw2Ge3ob1Y"
      },
      "execution_count": 71,
      "outputs": []
    },
    {
      "cell_type": "code",
      "source": [
        "dfall=pd.concat([df1,df2,df3,df4,df5,df6,df7,df8,df9],ignore_index=True)"
      ],
      "metadata": {
        "id": "EhyuUCylobu2"
      },
      "execution_count": 59,
      "outputs": []
    },
    {
      "cell_type": "code",
      "source": [
        "dfall.info()"
      ],
      "metadata": {
        "colab": {
          "base_uri": "https://localhost:8080/"
        },
        "id": "9fBgQwL2obsO",
        "outputId": "8f207f8e-fe18-4444-a8ba-6c1cda2fe24f"
      },
      "execution_count": 61,
      "outputs": [
        {
          "output_type": "stream",
          "name": "stdout",
          "text": [
            "<class 'pandas.core.frame.DataFrame'>\n",
            "RangeIndex: 102077 entries, 0 to 102076\n",
            "Data columns (total 41 columns):\n",
            " #   Column         Non-Null Count   Dtype  \n",
            "---  ------         --------------   -----  \n",
            " 0   주문접수일시         102077 non-null  object \n",
            " 1   주문번호           102077 non-null  int64  \n",
            " 2   유입매체           102077 non-null  object \n",
            " 3   주문구분           102077 non-null  object \n",
            " 4   유입채널           102077 non-null  object \n",
            " 5   회원구분           102077 non-null  object \n",
            " 6   아이디            98430 non-null   object \n",
            " 7   전시유입코드         89492 non-null   object \n",
            " 8   상품주문번호         102077 non-null  object \n",
            " 9   유형             102077 non-null  object \n",
            " 10  배송회수구분         102077 non-null  object \n",
            " 11  진행단계           102077 non-null  object \n",
            " 12  진행상태 (약식)      0 non-null       float64\n",
            " 13  구매확정           102077 non-null  object \n",
            " 14  주문완료일시         101745 non-null  object \n",
            " 15  구매확정일시         93595 non-null   object \n",
            " 16  출고지시일          93528 non-null   object \n",
            " 17  예외처리구분         24 non-null      object \n",
            " 18  상태처리일시         102077 non-null  object \n",
            " 19  배송상품유형         102077 non-null  object \n",
            " 20  배송처리유형         102077 non-null  object \n",
            " 21  배송수단           102077 non-null  object \n",
            " 22  배송예약구분         102077 non-null  object \n",
            " 23  배송회차           0 non-null       float64\n",
            " 24  전시상품명          102077 non-null  object \n",
            " 25  전시단품명          102077 non-null  object \n",
            " 26  판매자상품번호        102077 non-null  object \n",
            " 27  판매자상품명         102077 non-null  object \n",
            " 28  판매자단품번호        102077 non-null  object \n",
            " 29  판매자단품명         102077 non-null  object \n",
            " 30  추가옵션           102077 non-null  object \n",
            " 31  주문판매유형         102077 non-null  object \n",
            " 32  상품유형           102077 non-null  object \n",
            " 33  브랜드            102076 non-null  object \n",
            " 34  판매가            102077 non-null  int64  \n",
            " 35  수량             102077 non-null  int64  \n",
            " 36  표준카테고리         102077 non-null  object \n",
            " 37  모델번호           0 non-null       float64\n",
            " 38  롯데맴버스오프라인고객번호  35597 non-null   float64\n",
            " 39  롯데맴버스온라인고객번호   35713 non-null   float64\n",
            " 40  회원번호           39709 non-null   float64\n",
            "dtypes: float64(6), int64(3), object(32)\n",
            "memory usage: 31.9+ MB\n"
          ]
        }
      ]
    },
    {
      "cell_type": "markdown",
      "source": [
        "모델번호, 롯데맴버스오프라인고객번호,롯데맴버스온라인고객번호,회원번호가 추가되었다."
      ],
      "metadata": {
        "id": "FU4sRVNhxRum"
      }
    },
    {
      "cell_type": "code",
      "source": [
        "df1['표준카테고리'].value_counts().head(20)"
      ],
      "metadata": {
        "colab": {
          "base_uri": "https://localhost:8080/"
        },
        "id": "tmVw3hstobo0",
        "outputId": "b45aa44e-68e4-4bde-8e9d-ede0f5287040"
      },
      "execution_count": 67,
      "outputs": [
        {
          "output_type": "execute_result",
          "data": {
            "text/plain": [
              "냉장/냉동/간편식 > 떡볶이/만두 > 만두             449\n",
              "가공식품 > 통조림/캔 > 캔/통조림선물세트            412\n",
              "냉장/냉동/간편식 > 즉석밥/죽/스프 > 즉석밥          231\n",
              "냉장/냉동/간편식 > 국/탕/찌개 > 국/탕            222\n",
              "냉장/냉동/간편식 > 햄/소시지/베이컨 > 햄/소시지       181\n",
              "가공식품 > 장류 > 된장/쌈장/청국장               177\n",
              "가공식품 > 식용유/오일 > 카놀라유                158\n",
              "냉장/냉동/간편식 > 즉석밥/죽/스프 > 볶음밥          143\n",
              "가공식품 > 소스/드레싱 > 굴소스/중화요리소스          129\n",
              "김치/반찬 > 반찬 > 기타반찬                   118\n",
              "가공식품 > 장류 > 고추장/초고추장                 92\n",
              "냉장/냉동/간편식 > 돈가스/고로케/너겟 > 돈가스         81\n",
              "수산/건어물 > 생선 > 반조리생선                  79\n",
              "수산/건어물 > 김/해조류 > 조미김/도시락김            77\n",
              "가공식품 > 식용유/오일 > 식용유/오일선물세트           61\n",
              "가공식품 > 소스/드레싱 > 칠리/살사소스              56\n",
              "냉장/냉동/간편식 > 밀키트/쿠킹박스 > 중식/일식/아시아     56\n",
              "정육/계란 > 양념육 > 기타양념육                  55\n",
              "냉장/냉동/간편식 > 즉석밥/죽/스프 > 컵밥            54\n",
              "김치/반찬 > 김치 > 포기김치                    47\n",
              "Name: 표준카테고리, dtype: int64"
            ]
          },
          "metadata": {},
          "execution_count": 67
        }
      ]
    },
    {
      "cell_type": "markdown",
      "source": [
        "1월은 설날이 있어서 선물세트 구매비율이 높은 것 같다."
      ],
      "metadata": {
        "id": "XYi_vvZszkWC"
      }
    },
    {
      "cell_type": "code",
      "source": [
        "df2['표준카테고리'].value_counts().head(20)"
      ],
      "metadata": {
        "colab": {
          "base_uri": "https://localhost:8080/"
        },
        "id": "5HKZUAiNoblv",
        "outputId": "09ffabe9-89ef-4179-e72d-3fdf6eda4b8c"
      },
      "execution_count": 68,
      "outputs": [
        {
          "output_type": "execute_result",
          "data": {
            "text/plain": [
              "냉장/냉동/간편식 > 떡볶이/만두 > 만두             403\n",
              "가공식품 > 소스/드레싱 > 굴소스/중화요리소스          167\n",
              "냉장/냉동/간편식 > 즉석밥/죽/스프 > 즉석밥          124\n",
              "냉장/냉동/간편식 > 국/탕/찌개 > 국/탕            108\n",
              "냉장/냉동/간편식 > 돈가스/고로케/너겟 > 돈가스         78\n",
              "냉장/냉동/간편식 > 햄/소시지/베이컨 > 햄/소시지        77\n",
              "정육/계란 > 양념육 > 기타양념육                  62\n",
              "냉장/냉동/간편식 > 즉석밥/죽/스프 > 볶음밥           57\n",
              "가공식품 > 면류 > 기타면류                     48\n",
              "김치/반찬 > 김치 > 포기김치                    48\n",
              "냉장/냉동/간편식 > 피자/핫도그/햄버거 > 피자/햄버거      47\n",
              "가공식품 > 장류 > 고추장/초고추장                 46\n",
              "가공식품 > 소스/드레싱 > 기타소스                 43\n",
              "가공식품 > 식용유/오일 > 카놀라유                 40\n",
              "김치/반찬 > 반찬 > 기타반찬                    40\n",
              "수산/건어물 > 생선 > 반조리생선                  29\n",
              "냉장/냉동/간편식 > 피자/핫도그/햄버거 > 핫도그         28\n",
              "냉장/냉동/간편식 > 밀키트/쿠킹박스 > 중식/일식/아시아     26\n",
              "가공식품 > 장류 > 된장/쌈장/청국장                25\n",
              "수산/건어물 > 김/해조류 > 조미김/도시락김            23\n",
              "Name: 표준카테고리, dtype: int64"
            ]
          },
          "metadata": {},
          "execution_count": 68
        }
      ]
    },
    {
      "cell_type": "code",
      "source": [
        "df3['표준카테고리'].value_counts().head(20)"
      ],
      "metadata": {
        "colab": {
          "base_uri": "https://localhost:8080/"
        },
        "id": "8ZWWjwkLzwrY",
        "outputId": "6253d057-b516-48f4-9bfa-c39d36b6f5ef"
      },
      "execution_count": 69,
      "outputs": [
        {
          "output_type": "execute_result",
          "data": {
            "text/plain": [
              "냉장/냉동/간편식 > 떡볶이/만두 > 만두            1844\n",
              "가공식품 > 조미료/양념 > 가공조미료               221\n",
              "냉장/냉동/간편식 > 국/탕/찌개 > 국/탕            219\n",
              "냉장/냉동/간편식 > 즉석밥/죽/스프 > 즉석밥          212\n",
              "가공식품 > 장류 > 고추장/초고추장                162\n",
              "냉장/냉동/간편식 > 즉석밥/죽/스프 > 볶음밥          145\n",
              "냉장/냉동/간편식 > 돈가스/고로케/너겟 > 돈가스        138\n",
              "가공식품 > 소스/드레싱 > 굴소스/중화요리소스          136\n",
              "가공식품 > 장류 > 된장/쌈장/청국장               120\n",
              "냉장/냉동/간편식 > 피자/핫도그/햄버거 > 피자/햄버거     107\n",
              "냉장/냉동/간편식 > 햄/소시지/베이컨 > 햄/소시지       100\n",
              "냉장/냉동/간편식 > 동그랑땡/전/튀김 > 튀김류          97\n",
              "김치/반찬 > 김치 > 포기김치                    74\n",
              "가공식품 > 면류 > 기타면류                     60\n",
              "가공식품 > 식용유/오일 > 카놀라유                 60\n",
              "정육/계란 > 양념육 > 기타양념육                  58\n",
              "수산/건어물 > 김/해조류 > 조미김/도시락김            49\n",
              "김치/반찬 > 반찬 > 기타반찬                    41\n",
              "냉장/냉동/간편식 > 피자/핫도그/햄버거 > 핫도그         41\n",
              "가공식품 > 소스/드레싱 > 칠리/살사소스              39\n",
              "Name: 표준카테고리, dtype: int64"
            ]
          },
          "metadata": {},
          "execution_count": 69
        }
      ]
    },
    {
      "cell_type": "markdown",
      "source": [
        "3월은 만두 구매율이 높다. 이벤트를 진행하였나?"
      ],
      "metadata": {
        "id": "pPNAuv8Yz3vy"
      }
    },
    {
      "cell_type": "code",
      "source": [
        "만두=df3['표준카테고리']=='냉장/냉동/간편식 > 떡볶이/만두 > 만두'"
      ],
      "metadata": {
        "id": "-vRPzKR90LD6"
      },
      "execution_count": 72,
      "outputs": []
    },
    {
      "cell_type": "code",
      "source": [
        "df3[만두]['유입매체'].value_counts()"
      ],
      "metadata": {
        "colab": {
          "base_uri": "https://localhost:8080/"
        },
        "id": "Wy9x6szw1J4N",
        "outputId": "100a3489-2b02-4546-a959-9860bd1c714a"
      },
      "execution_count": 78,
      "outputs": [
        {
          "output_type": "execute_result",
          "data": {
            "text/plain": [
              "MO WEB    965\n",
              "APP       675\n",
              "PC        202\n",
              "TABLET      2\n",
              "Name: 유입매체, dtype: int64"
            ]
          },
          "metadata": {},
          "execution_count": 78
        }
      ]
    },
    {
      "cell_type": "code",
      "source": [
        "df3[만두]['유입채널'].value_counts()"
      ],
      "metadata": {
        "colab": {
          "base_uri": "https://localhost:8080/"
        },
        "id": "5IIDCziN1sPS",
        "outputId": "3005dc2f-18b3-441b-bd59-47192ce2e3c1"
      },
      "execution_count": 79,
      "outputs": [
        {
          "output_type": "execute_result",
          "data": {
            "text/plain": [
              "디폴트 채널상세                             620\n",
              "[네이버] PCS 가격비교_롯데ON                  544\n",
              "유실 채널상세                              301\n",
              "[다음카카오] PCS 가격비교_롯데ON                120\n",
              "[에누리] PCS 가격비교_롯데ON                   67\n",
              "[다나와] PCS 가격비교_롯데ON                   62\n",
              "[네이버] 키워드_쇼핑검색광고_롯데ON                 22\n",
              "[모바일]카카오톡                             11\n",
              "[클릭즈] 키워드CPS_애드타겟_롯데ON                 7\n",
              "[구글] SA_롯데ON                           6\n",
              "[네이버] PC_브랜드검색_롯데ON                    5\n",
              "[롯데ON][알림톡][[롯데ON] 상품 배송시작 안내]         5\n",
              "[네이버] MO_브랜드검색_롯데ON                    5\n",
              "[롯데ON][PUSH][실시간 BEST 🕠]               5\n",
              "[롯데ON][알림톡][[롯데ON] 주문 완료 안내]           5\n",
              "[네이버] 키워드_롯데ON                         4\n",
              "[롯데ON][PUSH][🔔장바구니 알리미]                4\n",
              "[롯데ON][PUSH][⚠️애프터위크 종료 D-1⚠️]         4\n",
              "[다음카카오] PCS 네이트쇼핑_롯데ON                 3\n",
              "[롯데ON][🚨퍼스트먼데이 종료 임박!!]                3\n",
              "[롯데ON] MO Web 행사장_21.07_월간APP혜택        3\n",
              "[애피어] APP 리타게팅_롯데ON                    3\n",
              "[롯데ON][고객님 온세일🚂 출발해요!]                 3\n",
              "[롯데ON][아쉬워 벌써 마지막~🕛🙏]                  3\n",
              "[롯데ON][알림톡][[롯데ON] 배송완료 안내]            3\n",
              "[롯데ON][알림톡][[롯데ON] App에서 상품 확인]        2\n",
              "[롯데ON][PUSH][이번주 고객님이 💗찜💗하셨어요!]        2\n",
              "[모바일]다른앱공유하기                           2\n",
              "[롯데ON][온세일쿠폰💸 사용하셨나요?]                 2\n",
              "[롯데ON][3월 33%쿠폰💸 받으세요!]                2\n",
              "[롯데ON][알림톡][[롯데ON] 주문취소 안내]            2\n",
              "[클릭즈] 키워드CPS_포춘팝(2)_롯데ON               1\n",
              "[네이버] 키워드(lottemart)_롯데마트              1\n",
              "브이피                                    1\n",
              "[롯데ON][PUSH][⏰10월 8일⏰]                 1\n",
              "[롯데ON][PUSH][오늘의 BIG BRAND [풀무원]]      1\n",
              "[롯데ON][먼데이브랜드 7천P 적립💸]                 1\n",
              "[롯데ON][PUSH][나이스 투 MEAT 유🥩]            1\n",
              "[롯데ON][샤넬 루쥬 코코 립 밤]                   1\n",
              "[롯데ON][PUSH][🛎️슈퍼 시크릿쿠폰 도착]            1\n",
              "[롯데ON][지금 브랜드를 PICK하면🙋]                1\n",
              "[롯데ON][♻️이로온 DAY [롯데칠성]]               1\n",
              "(광고) 0307 1800 퍼먼종료                    1\n",
              "슈퍼_퍼스트먼데이                              1\n",
              "[롯데ON][PUSH][⏳목요일은 홈리빙Day⏳]            1\n",
              "Name: 유입채널, dtype: int64"
            ]
          },
          "metadata": {},
          "execution_count": 79
        }
      ]
    },
    {
      "cell_type": "markdown",
      "source": [
        "만두 왜 많이 샀을까..."
      ],
      "metadata": {
        "id": "SEvr6uNs14m0"
      }
    },
    {
      "cell_type": "code",
      "source": [
        "df3[만두]['판매가'].value_counts().head(10)"
      ],
      "metadata": {
        "colab": {
          "base_uri": "https://localhost:8080/"
        },
        "id": "UAAzbs7e168E",
        "outputId": "24334c59-8fea-4e66-f554-3b8f6f729bfe"
      },
      "execution_count": 83,
      "outputs": [
        {
          "output_type": "execute_result",
          "data": {
            "text/plain": [
              "30560    730\n",
              "27000    431\n",
              "31920    120\n",
              "21120     66\n",
              "29450     51\n",
              "24900     39\n",
              "33000     34\n",
              "35000     27\n",
              "41640     26\n",
              "28000     21\n",
              "Name: 판매가, dtype: int64"
            ]
          },
          "metadata": {},
          "execution_count": 83
        }
      ]
    },
    {
      "cell_type": "code",
      "source": [
        "df3[만두]['전시상품명'].value_counts().head(10)"
      ],
      "metadata": {
        "colab": {
          "base_uri": "https://localhost:8080/"
        },
        "id": "0yfCSCQb2euG",
        "outputId": "fe3fe4d5-ce24-432e-bc1f-76ba535c9bd3"
      },
      "execution_count": 84,
      "outputs": [
        {
          "output_type": "execute_result",
          "data": {
            "text/plain": [
              "[CJ직배송][CJ] 비비고 왕교자1.05KG X 3봉 + 수제고기만두 증정    1170\n",
              "[특가+증정] CJ 비비고 왕교자 1.05kg X 3개 + 찐만두 증정        151\n",
              "비비고 왕교자 1.05KGx4개+비비고 찐만두 168gx1개               74\n",
              "CJ 비비고 왕교자 1.05x2개+새우왕교자315gx2개                 40\n",
              "CJ 비비고 수제고기만두x2개+수제김치만두x2개                      36\n",
              "[CJ제일제당] 비비고 수제만둣집 맛 진한고기만두400g*2번들X2EA         33\n",
              "비비고 찰보리감자만두 600G x6                             32\n",
              "비비고 왕교자 1.05kgx2개+한섬만두 384gx2개                  27\n",
              "[100%식물성] 비비고 플랜테이블왕교자420gX5개                   22\n",
              "[CJ직배송]비비고 김치 왕교자 420gx2개x3(총6봉)                19\n",
              "Name: 전시상품명, dtype: int64"
            ]
          },
          "metadata": {},
          "execution_count": 84
        }
      ]
    },
    {
      "cell_type": "markdown",
      "source": [
        "절반넘게 왕교자 3개에 수제고기만두 증정을 골랐다."
      ],
      "metadata": {
        "id": "7Q2AsTMs2toh"
      }
    },
    {
      "cell_type": "code",
      "source": [
        "수제고기만두=df3['전시상품명']=='[CJ직배송][CJ] 비비고 왕교자1.05KG X 3봉 + 수제고기만두 증정'"
      ],
      "metadata": {
        "id": "FUFr9Bx22mVY"
      },
      "execution_count": 95,
      "outputs": []
    },
    {
      "cell_type": "code",
      "source": [
        "df3[수제고기만두]['판매가'].value_counts()"
      ],
      "metadata": {
        "colab": {
          "base_uri": "https://localhost:8080/"
        },
        "id": "QpnBSlTF35t0",
        "outputId": "04db19a8-edbd-4d1b-f8e1-8c6ffd6d9353"
      },
      "execution_count": 98,
      "outputs": [
        {
          "output_type": "execute_result",
          "data": {
            "text/plain": [
              "30560    726\n",
              "27000    429\n",
              "33440      8\n",
              "34000      7\n",
              "Name: 판매가, dtype: int64"
            ]
          },
          "metadata": {},
          "execution_count": 98
        }
      ]
    }
  ]
}