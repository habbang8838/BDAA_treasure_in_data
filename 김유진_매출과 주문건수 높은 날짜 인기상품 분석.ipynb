{
 "cells": [
  {
   "cell_type": "code",
   "execution_count": 4,
   "id": "e7dd3922",
   "metadata": {},
   "outputs": [],
   "source": [
    "import pandas as pd\n",
    "from datetime import datetime\n",
    "import matplotlib.pyplot as plt\n",
    "import seaborn as sns"
   ]
  },
  {
   "cell_type": "code",
   "execution_count": 5,
   "id": "6f5aa528",
   "metadata": {},
   "outputs": [],
   "source": [
    "from matplotlib import font_manager, rc\n",
    "import matplotlib\n",
    "import platform\n",
    "import matplotlib.pyplot as plt\n",
    "\n",
    "%matplotlib inline \n",
    "\n",
    "if platform.system() == 'Windows':\n",
    "    font_name = font_manager.FontProperties(fname=\"c:/Windows/Fonts/malgun.ttf\").get_name()\n",
    "    rc('font', family = font_name)\n",
    "else:\n",
    "    rc('font',family='AppleGothic')\n",
    "    \n",
    "matplotlib.rcParams['axes.unicode_minus']=False\n",
    "%matplotlib inline"
   ]
  },
  {
   "cell_type": "code",
   "execution_count": 6,
   "id": "87b968a7",
   "metadata": {},
   "outputs": [],
   "source": [
    "df=pd.read_excel(\"CJ제일제당 주문 데이터(전처리).xlsx\")\n",
    "#전처리 데이터 저장"
   ]
  },
  {
   "cell_type": "code",
   "execution_count": 7,
   "id": "22bb101b",
   "metadata": {},
   "outputs": [
    {
     "data": {
      "text/html": [
       "<div>\n",
       "<style scoped>\n",
       "    .dataframe tbody tr th:only-of-type {\n",
       "        vertical-align: middle;\n",
       "    }\n",
       "\n",
       "    .dataframe tbody tr th {\n",
       "        vertical-align: top;\n",
       "    }\n",
       "\n",
       "    .dataframe thead th {\n",
       "        text-align: right;\n",
       "    }\n",
       "</style>\n",
       "<table border=\"1\" class=\"dataframe\">\n",
       "  <thead>\n",
       "    <tr style=\"text-align: right;\">\n",
       "      <th></th>\n",
       "      <th>주문접수일시</th>\n",
       "      <th>주문번호</th>\n",
       "      <th>유입매체</th>\n",
       "      <th>주문구분</th>\n",
       "      <th>유입채널</th>\n",
       "      <th>회원구분</th>\n",
       "      <th>아이디</th>\n",
       "      <th>전시유입코드</th>\n",
       "      <th>상품주문번호</th>\n",
       "      <th>진행단계</th>\n",
       "      <th>...</th>\n",
       "      <th>전시단품명</th>\n",
       "      <th>판매자상품번호</th>\n",
       "      <th>판매자상품명</th>\n",
       "      <th>판매자단품번호</th>\n",
       "      <th>판매자단품명</th>\n",
       "      <th>판매가</th>\n",
       "      <th>수량</th>\n",
       "      <th>표준카테고리</th>\n",
       "      <th>판매액</th>\n",
       "      <th>주문월</th>\n",
       "    </tr>\n",
       "  </thead>\n",
       "  <tbody>\n",
       "    <tr>\n",
       "      <th>0</th>\n",
       "      <td>2022-01-01 00:38:13</td>\n",
       "      <td>2022010111866837</td>\n",
       "      <td>MO WEB</td>\n",
       "      <td>일반주문</td>\n",
       "      <td>[다음카카오] PCS 가격비교_롯데ON</td>\n",
       "      <td>LPOINT통합회원</td>\n",
       "      <td>kim6****</td>\n",
       "      <td>CHT</td>\n",
       "      <td>2022010111866837_1</td>\n",
       "      <td>배송완료</td>\n",
       "      <td>...</td>\n",
       "      <td>단일상품</td>\n",
       "      <td>LO1135162715</td>\n",
       "      <td>CJ 다담 된장찌개양념 530G x3</td>\n",
       "      <td>LO1135162715_1135162716</td>\n",
       "      <td>단일상품</td>\n",
       "      <td>16240</td>\n",
       "      <td>1</td>\n",
       "      <td>가공식품 &gt; 장류 &gt; 된장/쌈장/청국장</td>\n",
       "      <td>16240</td>\n",
       "      <td>1</td>\n",
       "    </tr>\n",
       "    <tr>\n",
       "      <th>1</th>\n",
       "      <td>2022-01-01 02:54:53</td>\n",
       "      <td>2022010111873735</td>\n",
       "      <td>APP</td>\n",
       "      <td>일반주문</td>\n",
       "      <td>디폴트 채널상세</td>\n",
       "      <td>LPOINT통합회원</td>\n",
       "      <td>savi****</td>\n",
       "      <td>RSI</td>\n",
       "      <td>2022010111873735_1</td>\n",
       "      <td>배송완료</td>\n",
       "      <td>...</td>\n",
       "      <td>단일상품</td>\n",
       "      <td>LO1495023715</td>\n",
       "      <td>비비고 국물요리 BEST 9종</td>\n",
       "      <td>LO1495023715_1495023716</td>\n",
       "      <td>단일상품</td>\n",
       "      <td>33240</td>\n",
       "      <td>1</td>\n",
       "      <td>냉장/냉동/간편식 &gt; 즉석밥/죽/스프 &gt; 즉석밥</td>\n",
       "      <td>33240</td>\n",
       "      <td>1</td>\n",
       "    </tr>\n",
       "    <tr>\n",
       "      <th>2</th>\n",
       "      <td>2022-01-01 02:56:35</td>\n",
       "      <td>2022010111873774</td>\n",
       "      <td>APP</td>\n",
       "      <td>일반주문</td>\n",
       "      <td>디폴트 채널상세</td>\n",
       "      <td>LPOINT통합회원</td>\n",
       "      <td>savi****</td>\n",
       "      <td>RSI</td>\n",
       "      <td>2022010111873774_1</td>\n",
       "      <td>배송완료</td>\n",
       "      <td>...</td>\n",
       "      <td>단일상품</td>\n",
       "      <td>LO1495023715</td>\n",
       "      <td>비비고 국물요리 BEST 9종</td>\n",
       "      <td>LO1495023715_1495023716</td>\n",
       "      <td>단일상품</td>\n",
       "      <td>33240</td>\n",
       "      <td>1</td>\n",
       "      <td>냉장/냉동/간편식 &gt; 즉석밥/죽/스프 &gt; 즉석밥</td>\n",
       "      <td>33240</td>\n",
       "      <td>1</td>\n",
       "    </tr>\n",
       "    <tr>\n",
       "      <th>3</th>\n",
       "      <td>2022-01-01 04:35:17</td>\n",
       "      <td>2022010111875631</td>\n",
       "      <td>MO WEB</td>\n",
       "      <td>일반주문</td>\n",
       "      <td>[다음카카오] PCS 가격비교_롯데ON</td>\n",
       "      <td>LPOINT통합회원</td>\n",
       "      <td>happ****</td>\n",
       "      <td>CHT</td>\n",
       "      <td>2022010111875631_1</td>\n",
       "      <td>배송완료</td>\n",
       "      <td>...</td>\n",
       "      <td>단일상품</td>\n",
       "      <td>LO1517718327</td>\n",
       "      <td>CJ 다담 된장찌개양념 530G X 4개</td>\n",
       "      <td>LO1517718327_1517718328</td>\n",
       "      <td>단일상품</td>\n",
       "      <td>21660</td>\n",
       "      <td>1</td>\n",
       "      <td>가공식품 &gt; 장류 &gt; 된장/쌈장/청국장</td>\n",
       "      <td>21660</td>\n",
       "      <td>1</td>\n",
       "    </tr>\n",
       "    <tr>\n",
       "      <th>4</th>\n",
       "      <td>2022-01-01 08:00:37</td>\n",
       "      <td>2022010111879668</td>\n",
       "      <td>APP</td>\n",
       "      <td>일반주문</td>\n",
       "      <td>디폴트 채널상세</td>\n",
       "      <td>LPOINT통합회원</td>\n",
       "      <td>cats****</td>\n",
       "      <td>SCH비비고추어탕</td>\n",
       "      <td>2022010111879668_2</td>\n",
       "      <td>배송완료</td>\n",
       "      <td>...</td>\n",
       "      <td>단일상품</td>\n",
       "      <td>LO1249549902</td>\n",
       "      <td>비비고 남도식 추어탕 460Gx5개</td>\n",
       "      <td>LO1249549902_1249549903</td>\n",
       "      <td>단일상품</td>\n",
       "      <td>23680</td>\n",
       "      <td>1</td>\n",
       "      <td>냉장/냉동/간편식 &gt; 국/탕/찌개 &gt; 국/탕</td>\n",
       "      <td>23680</td>\n",
       "      <td>1</td>\n",
       "    </tr>\n",
       "    <tr>\n",
       "      <th>...</th>\n",
       "      <td>...</td>\n",
       "      <td>...</td>\n",
       "      <td>...</td>\n",
       "      <td>...</td>\n",
       "      <td>...</td>\n",
       "      <td>...</td>\n",
       "      <td>...</td>\n",
       "      <td>...</td>\n",
       "      <td>...</td>\n",
       "      <td>...</td>\n",
       "      <td>...</td>\n",
       "      <td>...</td>\n",
       "      <td>...</td>\n",
       "      <td>...</td>\n",
       "      <td>...</td>\n",
       "      <td>...</td>\n",
       "      <td>...</td>\n",
       "      <td>...</td>\n",
       "      <td>...</td>\n",
       "      <td>...</td>\n",
       "      <td>...</td>\n",
       "    </tr>\n",
       "    <tr>\n",
       "      <th>93315</th>\n",
       "      <td>2022-09-30 23:52:25</td>\n",
       "      <td>2022093018638708</td>\n",
       "      <td>MO WEB</td>\n",
       "      <td>일반주문</td>\n",
       "      <td>[네이버] PCS 가격비교_롯데ON</td>\n",
       "      <td>LPOINT통합회원</td>\n",
       "      <td>cha2844</td>\n",
       "      <td>CHT</td>\n",
       "      <td>2022093018638708_1</td>\n",
       "      <td>배송완료</td>\n",
       "      <td>...</td>\n",
       "      <td>단일상품</td>\n",
       "      <td>LO1520770627</td>\n",
       "      <td>[CJ직배송]더건강한 닭가슴살 직화 스테이크100G X 6개</td>\n",
       "      <td>LO1520770627_1520770628</td>\n",
       "      <td>단일상품</td>\n",
       "      <td>17400</td>\n",
       "      <td>1</td>\n",
       "      <td>가공식품 &gt; 통조림/캔 &gt; 닭가슴살통조림</td>\n",
       "      <td>17400</td>\n",
       "      <td>9</td>\n",
       "    </tr>\n",
       "    <tr>\n",
       "      <th>93316</th>\n",
       "      <td>2022-09-30 23:52:41</td>\n",
       "      <td>2022093018638709</td>\n",
       "      <td>APP</td>\n",
       "      <td>일반주문</td>\n",
       "      <td>디폴트 채널상세</td>\n",
       "      <td>LPOINT통합회원</td>\n",
       "      <td>wocns2</td>\n",
       "      <td>CHT</td>\n",
       "      <td>2022093018638709_1</td>\n",
       "      <td>배송완료</td>\n",
       "      <td>...</td>\n",
       "      <td>비비고 사골곰탕 500g x18봉</td>\n",
       "      <td>LO1978869746</td>\n",
       "      <td>[L포인트 3000p 증정]★LAST DAY EVENT★</td>\n",
       "      <td>LO1978869746_1978869755</td>\n",
       "      <td>비비고 사골곰탕 500g x18봉</td>\n",
       "      <td>24500</td>\n",
       "      <td>2</td>\n",
       "      <td>냉장/냉동/간편식 &gt; 국/탕/찌개 &gt; 국/탕</td>\n",
       "      <td>49000</td>\n",
       "      <td>9</td>\n",
       "    </tr>\n",
       "    <tr>\n",
       "      <th>93317</th>\n",
       "      <td>2022-09-30 23:56:28</td>\n",
       "      <td>2022093018639349</td>\n",
       "      <td>APP</td>\n",
       "      <td>일반주문</td>\n",
       "      <td>디폴트 채널상세</td>\n",
       "      <td>LPOINT통합회원</td>\n",
       "      <td>xraydos</td>\n",
       "      <td>RSI</td>\n",
       "      <td>2022093018639349_1</td>\n",
       "      <td>배송완료</td>\n",
       "      <td>...</td>\n",
       "      <td>햇반 매일오곡밥 210Gx24개</td>\n",
       "      <td>LO1978869746</td>\n",
       "      <td>[L포인트 3000p 증정]★LAST DAY EVENT★</td>\n",
       "      <td>LO1978869746_1978869753</td>\n",
       "      <td>햇반 매일오곡밥 210Gx24개</td>\n",
       "      <td>37000</td>\n",
       "      <td>1</td>\n",
       "      <td>냉장/냉동/간편식 &gt; 국/탕/찌개 &gt; 국/탕</td>\n",
       "      <td>37000</td>\n",
       "      <td>9</td>\n",
       "    </tr>\n",
       "    <tr>\n",
       "      <th>93318</th>\n",
       "      <td>2022-09-30 23:58:52</td>\n",
       "      <td>2022093018639892</td>\n",
       "      <td>APP</td>\n",
       "      <td>일반주문</td>\n",
       "      <td>[링크프라이스] CPS_롯데온</td>\n",
       "      <td>LPOINT통합회원</td>\n",
       "      <td>badamit</td>\n",
       "      <td>NaN</td>\n",
       "      <td>2022093018639892_1</td>\n",
       "      <td>배송완료</td>\n",
       "      <td>...</td>\n",
       "      <td>프리미엄 육수세트 18봉[한우사골곰탕+진국육수 3종]</td>\n",
       "      <td>LO1978869746</td>\n",
       "      <td>[L포인트 3000p 증정]★LAST DAY EVENT★</td>\n",
       "      <td>LO1978869746_1978869749</td>\n",
       "      <td>프리미엄 육수세트 18봉[한우사골곰탕+진국육수 3종]</td>\n",
       "      <td>38000</td>\n",
       "      <td>1</td>\n",
       "      <td>냉장/냉동/간편식 &gt; 국/탕/찌개 &gt; 국/탕</td>\n",
       "      <td>38000</td>\n",
       "      <td>9</td>\n",
       "    </tr>\n",
       "    <tr>\n",
       "      <th>93319</th>\n",
       "      <td>2022-09-30 23:59:27</td>\n",
       "      <td>2022093018640098</td>\n",
       "      <td>APP</td>\n",
       "      <td>일반주문</td>\n",
       "      <td>디폴트 채널상세</td>\n",
       "      <td>LPOINT통합회원</td>\n",
       "      <td>simsimfreeya</td>\n",
       "      <td>SCH사골곰탕</td>\n",
       "      <td>2022093018640098_1</td>\n",
       "      <td>배송완료</td>\n",
       "      <td>...</td>\n",
       "      <td>비비고 사골곰탕 500g x18봉</td>\n",
       "      <td>LO1978869746</td>\n",
       "      <td>[L포인트 3000p 증정]★LAST DAY EVENT★</td>\n",
       "      <td>LO1978869746_1978869755</td>\n",
       "      <td>비비고 사골곰탕 500g x18봉</td>\n",
       "      <td>24500</td>\n",
       "      <td>2</td>\n",
       "      <td>냉장/냉동/간편식 &gt; 국/탕/찌개 &gt; 국/탕</td>\n",
       "      <td>49000</td>\n",
       "      <td>9</td>\n",
       "    </tr>\n",
       "  </tbody>\n",
       "</table>\n",
       "<p>93320 rows × 25 columns</p>\n",
       "</div>"
      ],
      "text/plain": [
       "                   주문접수일시              주문번호    유입매체  주문구분  \\\n",
       "0     2022-01-01 00:38:13  2022010111866837  MO WEB  일반주문   \n",
       "1     2022-01-01 02:54:53  2022010111873735     APP  일반주문   \n",
       "2     2022-01-01 02:56:35  2022010111873774     APP  일반주문   \n",
       "3     2022-01-01 04:35:17  2022010111875631  MO WEB  일반주문   \n",
       "4     2022-01-01 08:00:37  2022010111879668     APP  일반주문   \n",
       "...                   ...               ...     ...   ...   \n",
       "93315 2022-09-30 23:52:25  2022093018638708  MO WEB  일반주문   \n",
       "93316 2022-09-30 23:52:41  2022093018638709     APP  일반주문   \n",
       "93317 2022-09-30 23:56:28  2022093018639349     APP  일반주문   \n",
       "93318 2022-09-30 23:58:52  2022093018639892     APP  일반주문   \n",
       "93319 2022-09-30 23:59:27  2022093018640098     APP  일반주문   \n",
       "\n",
       "                        유입채널        회원구분           아이디     전시유입코드  \\\n",
       "0      [다음카카오] PCS 가격비교_롯데ON  LPOINT통합회원      kim6****        CHT   \n",
       "1                   디폴트 채널상세  LPOINT통합회원      savi****        RSI   \n",
       "2                   디폴트 채널상세  LPOINT통합회원      savi****        RSI   \n",
       "3      [다음카카오] PCS 가격비교_롯데ON  LPOINT통합회원      happ****        CHT   \n",
       "4                   디폴트 채널상세  LPOINT통합회원      cats****  SCH비비고추어탕   \n",
       "...                      ...         ...           ...        ...   \n",
       "93315    [네이버] PCS 가격비교_롯데ON  LPOINT통합회원       cha2844        CHT   \n",
       "93316               디폴트 채널상세  LPOINT통합회원        wocns2        CHT   \n",
       "93317               디폴트 채널상세  LPOINT통합회원       xraydos        RSI   \n",
       "93318       [링크프라이스] CPS_롯데온  LPOINT통합회원       badamit        NaN   \n",
       "93319               디폴트 채널상세  LPOINT통합회원  simsimfreeya    SCH사골곰탕   \n",
       "\n",
       "                   상품주문번호  진행단계  ...                          전시단품명  \\\n",
       "0      2022010111866837_1  배송완료  ...                           단일상품   \n",
       "1      2022010111873735_1  배송완료  ...                           단일상품   \n",
       "2      2022010111873774_1  배송완료  ...                           단일상품   \n",
       "3      2022010111875631_1  배송완료  ...                           단일상품   \n",
       "4      2022010111879668_2  배송완료  ...                           단일상품   \n",
       "...                   ...   ...  ...                            ...   \n",
       "93315  2022093018638708_1  배송완료  ...                           단일상품   \n",
       "93316  2022093018638709_1  배송완료  ...             비비고 사골곰탕 500g x18봉   \n",
       "93317  2022093018639349_1  배송완료  ...              햇반 매일오곡밥 210Gx24개   \n",
       "93318  2022093018639892_1  배송완료  ...  프리미엄 육수세트 18봉[한우사골곰탕+진국육수 3종]   \n",
       "93319  2022093018640098_1  배송완료  ...             비비고 사골곰탕 500g x18봉   \n",
       "\n",
       "            판매자상품번호                             판매자상품명  \\\n",
       "0      LO1135162715               CJ 다담 된장찌개양념 530G x3   \n",
       "1      LO1495023715                   비비고 국물요리 BEST 9종   \n",
       "2      LO1495023715                   비비고 국물요리 BEST 9종   \n",
       "3      LO1517718327             CJ 다담 된장찌개양념 530G X 4개   \n",
       "4      LO1249549902                비비고 남도식 추어탕 460Gx5개   \n",
       "...             ...                                ...   \n",
       "93315  LO1520770627  [CJ직배송]더건강한 닭가슴살 직화 스테이크100G X 6개   \n",
       "93316  LO1978869746    [L포인트 3000p 증정]★LAST DAY EVENT★   \n",
       "93317  LO1978869746    [L포인트 3000p 증정]★LAST DAY EVENT★   \n",
       "93318  LO1978869746    [L포인트 3000p 증정]★LAST DAY EVENT★   \n",
       "93319  LO1978869746    [L포인트 3000p 증정]★LAST DAY EVENT★   \n",
       "\n",
       "                       판매자단품번호                         판매자단품명    판매가 수량  \\\n",
       "0      LO1135162715_1135162716                           단일상품  16240  1   \n",
       "1      LO1495023715_1495023716                           단일상품  33240  1   \n",
       "2      LO1495023715_1495023716                           단일상품  33240  1   \n",
       "3      LO1517718327_1517718328                           단일상품  21660  1   \n",
       "4      LO1249549902_1249549903                           단일상품  23680  1   \n",
       "...                        ...                            ...    ... ..   \n",
       "93315  LO1520770627_1520770628                           단일상품  17400  1   \n",
       "93316  LO1978869746_1978869755             비비고 사골곰탕 500g x18봉  24500  2   \n",
       "93317  LO1978869746_1978869753              햇반 매일오곡밥 210Gx24개  37000  1   \n",
       "93318  LO1978869746_1978869749  프리미엄 육수세트 18봉[한우사골곰탕+진국육수 3종]  38000  1   \n",
       "93319  LO1978869746_1978869755             비비고 사골곰탕 500g x18봉  24500  2   \n",
       "\n",
       "                           표준카테고리    판매액 주문월  \n",
       "0           가공식품 > 장류 > 된장/쌈장/청국장  16240   1  \n",
       "1      냉장/냉동/간편식 > 즉석밥/죽/스프 > 즉석밥  33240   1  \n",
       "2      냉장/냉동/간편식 > 즉석밥/죽/스프 > 즉석밥  33240   1  \n",
       "3           가공식품 > 장류 > 된장/쌈장/청국장  21660   1  \n",
       "4        냉장/냉동/간편식 > 국/탕/찌개 > 국/탕  23680   1  \n",
       "...                           ...    ...  ..  \n",
       "93315      가공식품 > 통조림/캔 > 닭가슴살통조림  17400   9  \n",
       "93316    냉장/냉동/간편식 > 국/탕/찌개 > 국/탕  49000   9  \n",
       "93317    냉장/냉동/간편식 > 국/탕/찌개 > 국/탕  37000   9  \n",
       "93318    냉장/냉동/간편식 > 국/탕/찌개 > 국/탕  38000   9  \n",
       "93319    냉장/냉동/간편식 > 국/탕/찌개 > 국/탕  49000   9  \n",
       "\n",
       "[93320 rows x 25 columns]"
      ]
     },
     "execution_count": 7,
     "metadata": {},
     "output_type": "execute_result"
    }
   ],
   "source": [
    "df #93320 rows × 25 columns"
   ]
  },
  {
   "cell_type": "code",
   "execution_count": 8,
   "id": "23c1d700",
   "metadata": {},
   "outputs": [
    {
     "name": "stdout",
     "output_type": "stream",
     "text": [
      "<class 'pandas.core.frame.DataFrame'>\n",
      "RangeIndex: 93320 entries, 0 to 93319\n",
      "Data columns (total 25 columns):\n",
      " #   Column   Non-Null Count  Dtype         \n",
      "---  ------   --------------  -----         \n",
      " 0   주문접수일시   93320 non-null  datetime64[ns]\n",
      " 1   주문번호     93320 non-null  int64         \n",
      " 2   유입매체     93320 non-null  object        \n",
      " 3   주문구분     93320 non-null  object        \n",
      " 4   유입채널     93320 non-null  object        \n",
      " 5   회원구분     93320 non-null  object        \n",
      " 6   아이디      89959 non-null  object        \n",
      " 7   전시유입코드   81662 non-null  object        \n",
      " 8   상품주문번호   93320 non-null  object        \n",
      " 9   진행단계     93320 non-null  object        \n",
      " 10  주문완료일시   93320 non-null  datetime64[ns]\n",
      " 11  구매확정일시   93320 non-null  datetime64[ns]\n",
      " 12  출고지시일    93263 non-null  datetime64[ns]\n",
      " 13  상태처리일시   93320 non-null  datetime64[ns]\n",
      " 14  전시상품명    93320 non-null  object        \n",
      " 15  전시단품명    93320 non-null  object        \n",
      " 16  판매자상품번호  93320 non-null  object        \n",
      " 17  판매자상품명   93320 non-null  object        \n",
      " 18  판매자단품번호  93320 non-null  object        \n",
      " 19  판매자단품명   93320 non-null  object        \n",
      " 20  판매가      93320 non-null  int64         \n",
      " 21  수량       93320 non-null  int64         \n",
      " 22  표준카테고리   93320 non-null  object        \n",
      " 23  판매액      93320 non-null  int64         \n",
      " 24  주문월      93320 non-null  int64         \n",
      "dtypes: datetime64[ns](5), int64(5), object(15)\n",
      "memory usage: 17.8+ MB\n"
     ]
    }
   ],
   "source": [
    "df.info()"
   ]
  },
  {
   "cell_type": "markdown",
   "id": "1afc0320",
   "metadata": {},
   "source": [
    "# 각 월의 주문양 많았던 일자 분석\n",
    "#### 지수님 코드 참고\n",
    "#### 매출과 주문건수 모두 큰 날짜\n",
    "#### 1월-9, 24\n",
    "#### 3월-13, 14, 21\n",
    "#### 4월-24\n",
    "#### 5월-16,25\n",
    "#### 6월-8,9,12,25\n",
    "#### 7월-4,13,21,27,29\n",
    "#### 8월-3,6,7,31\n",
    "#### 9월 1,2\n"
   ]
  },
  {
   "cell_type": "code",
   "execution_count": 9,
   "id": "95177ec9",
   "metadata": {},
   "outputs": [],
   "source": [
    "df['주문일']=df[\"주문접수일시\"].dt.day #주문일 컬럼 생성"
   ]
  },
  {
   "cell_type": "code",
   "execution_count": 10,
   "id": "bb68e679",
   "metadata": {},
   "outputs": [
    {
     "data": {
      "text/html": [
       "<div>\n",
       "<style scoped>\n",
       "    .dataframe tbody tr th:only-of-type {\n",
       "        vertical-align: middle;\n",
       "    }\n",
       "\n",
       "    .dataframe tbody tr th {\n",
       "        vertical-align: top;\n",
       "    }\n",
       "\n",
       "    .dataframe thead th {\n",
       "        text-align: right;\n",
       "    }\n",
       "</style>\n",
       "<table border=\"1\" class=\"dataframe\">\n",
       "  <thead>\n",
       "    <tr style=\"text-align: right;\">\n",
       "      <th></th>\n",
       "      <th>주문접수일시</th>\n",
       "      <th>주문번호</th>\n",
       "      <th>유입매체</th>\n",
       "      <th>주문구분</th>\n",
       "      <th>유입채널</th>\n",
       "      <th>회원구분</th>\n",
       "      <th>아이디</th>\n",
       "      <th>전시유입코드</th>\n",
       "      <th>상품주문번호</th>\n",
       "      <th>진행단계</th>\n",
       "      <th>...</th>\n",
       "      <th>판매자상품번호</th>\n",
       "      <th>판매자상품명</th>\n",
       "      <th>판매자단품번호</th>\n",
       "      <th>판매자단품명</th>\n",
       "      <th>판매가</th>\n",
       "      <th>수량</th>\n",
       "      <th>표준카테고리</th>\n",
       "      <th>판매액</th>\n",
       "      <th>주문월</th>\n",
       "      <th>주문일</th>\n",
       "    </tr>\n",
       "  </thead>\n",
       "  <tbody>\n",
       "    <tr>\n",
       "      <th>0</th>\n",
       "      <td>2022-01-01 00:38:13</td>\n",
       "      <td>2022010111866837</td>\n",
       "      <td>MO WEB</td>\n",
       "      <td>일반주문</td>\n",
       "      <td>[다음카카오] PCS 가격비교_롯데ON</td>\n",
       "      <td>LPOINT통합회원</td>\n",
       "      <td>kim6****</td>\n",
       "      <td>CHT</td>\n",
       "      <td>2022010111866837_1</td>\n",
       "      <td>배송완료</td>\n",
       "      <td>...</td>\n",
       "      <td>LO1135162715</td>\n",
       "      <td>CJ 다담 된장찌개양념 530G x3</td>\n",
       "      <td>LO1135162715_1135162716</td>\n",
       "      <td>단일상품</td>\n",
       "      <td>16240</td>\n",
       "      <td>1</td>\n",
       "      <td>가공식품 &gt; 장류 &gt; 된장/쌈장/청국장</td>\n",
       "      <td>16240</td>\n",
       "      <td>1</td>\n",
       "      <td>1</td>\n",
       "    </tr>\n",
       "    <tr>\n",
       "      <th>1</th>\n",
       "      <td>2022-01-01 02:54:53</td>\n",
       "      <td>2022010111873735</td>\n",
       "      <td>APP</td>\n",
       "      <td>일반주문</td>\n",
       "      <td>디폴트 채널상세</td>\n",
       "      <td>LPOINT통합회원</td>\n",
       "      <td>savi****</td>\n",
       "      <td>RSI</td>\n",
       "      <td>2022010111873735_1</td>\n",
       "      <td>배송완료</td>\n",
       "      <td>...</td>\n",
       "      <td>LO1495023715</td>\n",
       "      <td>비비고 국물요리 BEST 9종</td>\n",
       "      <td>LO1495023715_1495023716</td>\n",
       "      <td>단일상품</td>\n",
       "      <td>33240</td>\n",
       "      <td>1</td>\n",
       "      <td>냉장/냉동/간편식 &gt; 즉석밥/죽/스프 &gt; 즉석밥</td>\n",
       "      <td>33240</td>\n",
       "      <td>1</td>\n",
       "      <td>1</td>\n",
       "    </tr>\n",
       "    <tr>\n",
       "      <th>2</th>\n",
       "      <td>2022-01-01 02:56:35</td>\n",
       "      <td>2022010111873774</td>\n",
       "      <td>APP</td>\n",
       "      <td>일반주문</td>\n",
       "      <td>디폴트 채널상세</td>\n",
       "      <td>LPOINT통합회원</td>\n",
       "      <td>savi****</td>\n",
       "      <td>RSI</td>\n",
       "      <td>2022010111873774_1</td>\n",
       "      <td>배송완료</td>\n",
       "      <td>...</td>\n",
       "      <td>LO1495023715</td>\n",
       "      <td>비비고 국물요리 BEST 9종</td>\n",
       "      <td>LO1495023715_1495023716</td>\n",
       "      <td>단일상품</td>\n",
       "      <td>33240</td>\n",
       "      <td>1</td>\n",
       "      <td>냉장/냉동/간편식 &gt; 즉석밥/죽/스프 &gt; 즉석밥</td>\n",
       "      <td>33240</td>\n",
       "      <td>1</td>\n",
       "      <td>1</td>\n",
       "    </tr>\n",
       "    <tr>\n",
       "      <th>3</th>\n",
       "      <td>2022-01-01 04:35:17</td>\n",
       "      <td>2022010111875631</td>\n",
       "      <td>MO WEB</td>\n",
       "      <td>일반주문</td>\n",
       "      <td>[다음카카오] PCS 가격비교_롯데ON</td>\n",
       "      <td>LPOINT통합회원</td>\n",
       "      <td>happ****</td>\n",
       "      <td>CHT</td>\n",
       "      <td>2022010111875631_1</td>\n",
       "      <td>배송완료</td>\n",
       "      <td>...</td>\n",
       "      <td>LO1517718327</td>\n",
       "      <td>CJ 다담 된장찌개양념 530G X 4개</td>\n",
       "      <td>LO1517718327_1517718328</td>\n",
       "      <td>단일상품</td>\n",
       "      <td>21660</td>\n",
       "      <td>1</td>\n",
       "      <td>가공식품 &gt; 장류 &gt; 된장/쌈장/청국장</td>\n",
       "      <td>21660</td>\n",
       "      <td>1</td>\n",
       "      <td>1</td>\n",
       "    </tr>\n",
       "    <tr>\n",
       "      <th>4</th>\n",
       "      <td>2022-01-01 08:00:37</td>\n",
       "      <td>2022010111879668</td>\n",
       "      <td>APP</td>\n",
       "      <td>일반주문</td>\n",
       "      <td>디폴트 채널상세</td>\n",
       "      <td>LPOINT통합회원</td>\n",
       "      <td>cats****</td>\n",
       "      <td>SCH비비고추어탕</td>\n",
       "      <td>2022010111879668_2</td>\n",
       "      <td>배송완료</td>\n",
       "      <td>...</td>\n",
       "      <td>LO1249549902</td>\n",
       "      <td>비비고 남도식 추어탕 460Gx5개</td>\n",
       "      <td>LO1249549902_1249549903</td>\n",
       "      <td>단일상품</td>\n",
       "      <td>23680</td>\n",
       "      <td>1</td>\n",
       "      <td>냉장/냉동/간편식 &gt; 국/탕/찌개 &gt; 국/탕</td>\n",
       "      <td>23680</td>\n",
       "      <td>1</td>\n",
       "      <td>1</td>\n",
       "    </tr>\n",
       "  </tbody>\n",
       "</table>\n",
       "<p>5 rows × 26 columns</p>\n",
       "</div>"
      ],
      "text/plain": [
       "               주문접수일시              주문번호    유입매체  주문구분                   유입채널  \\\n",
       "0 2022-01-01 00:38:13  2022010111866837  MO WEB  일반주문  [다음카카오] PCS 가격비교_롯데ON   \n",
       "1 2022-01-01 02:54:53  2022010111873735     APP  일반주문               디폴트 채널상세   \n",
       "2 2022-01-01 02:56:35  2022010111873774     APP  일반주문               디폴트 채널상세   \n",
       "3 2022-01-01 04:35:17  2022010111875631  MO WEB  일반주문  [다음카카오] PCS 가격비교_롯데ON   \n",
       "4 2022-01-01 08:00:37  2022010111879668     APP  일반주문               디폴트 채널상세   \n",
       "\n",
       "         회원구분       아이디     전시유입코드              상품주문번호  진행단계  ...  \\\n",
       "0  LPOINT통합회원  kim6****        CHT  2022010111866837_1  배송완료  ...   \n",
       "1  LPOINT통합회원  savi****        RSI  2022010111873735_1  배송완료  ...   \n",
       "2  LPOINT통합회원  savi****        RSI  2022010111873774_1  배송완료  ...   \n",
       "3  LPOINT통합회원  happ****        CHT  2022010111875631_1  배송완료  ...   \n",
       "4  LPOINT통합회원  cats****  SCH비비고추어탕  2022010111879668_2  배송완료  ...   \n",
       "\n",
       "        판매자상품번호                  판매자상품명                  판매자단품번호 판매자단품명  \\\n",
       "0  LO1135162715    CJ 다담 된장찌개양념 530G x3  LO1135162715_1135162716   단일상품   \n",
       "1  LO1495023715        비비고 국물요리 BEST 9종  LO1495023715_1495023716   단일상품   \n",
       "2  LO1495023715        비비고 국물요리 BEST 9종  LO1495023715_1495023716   단일상품   \n",
       "3  LO1517718327  CJ 다담 된장찌개양념 530G X 4개  LO1517718327_1517718328   단일상품   \n",
       "4  LO1249549902     비비고 남도식 추어탕 460Gx5개  LO1249549902_1249549903   단일상품   \n",
       "\n",
       "     판매가 수량                      표준카테고리    판매액 주문월 주문일  \n",
       "0  16240  1       가공식품 > 장류 > 된장/쌈장/청국장  16240   1   1  \n",
       "1  33240  1  냉장/냉동/간편식 > 즉석밥/죽/스프 > 즉석밥  33240   1   1  \n",
       "2  33240  1  냉장/냉동/간편식 > 즉석밥/죽/스프 > 즉석밥  33240   1   1  \n",
       "3  21660  1       가공식품 > 장류 > 된장/쌈장/청국장  21660   1   1  \n",
       "4  23680  1    냉장/냉동/간편식 > 국/탕/찌개 > 국/탕  23680   1   1  \n",
       "\n",
       "[5 rows x 26 columns]"
      ]
     },
     "execution_count": 10,
     "metadata": {},
     "output_type": "execute_result"
    }
   ],
   "source": [
    "df.head()"
   ]
  },
  {
   "cell_type": "code",
   "execution_count": 41,
   "id": "fb798a3d",
   "metadata": {},
   "outputs": [],
   "source": [
    "df_day=df.groupby(['주문월','주문일']).agg(count=('주문일','count'))"
   ]
  },
  {
   "cell_type": "markdown",
   "id": "ba6c5664",
   "metadata": {},
   "source": [
    "# 1월 9, 24일 매출에 영향을 준 상품 찾기"
   ]
  },
  {
   "cell_type": "code",
   "execution_count": 52,
   "id": "334e66ea",
   "metadata": {},
   "outputs": [],
   "source": [
    "df1=df[df['주문월']==1]"
   ]
  },
  {
   "cell_type": "code",
   "execution_count": 53,
   "id": "f0643aba",
   "metadata": {},
   "outputs": [
    {
     "data": {
      "text/plain": [
       "전시상품명\n",
       "[CJ직배송]CJ비비고왕교자1.05KG X 2개           150\n",
       "CJ 비비고 사골곰탕 500g x18봉                 60\n",
       "[CJ직배송]포도씨유 900ML X 2개                28\n",
       "[롯데ON]고메 중화짬뽕 652g X 4개               25\n",
       "[CJ직배송]더건강한 닭가슴살 직화 통살구이100G X 6개     13\n",
       "고메 바삭쫄깃한 탕수육 450gx3개                  12\n",
       "[CJ직배송] CJ 햇반 백미 210g x 36개           10\n",
       "CJ 스팸 클래식 340gx4개                      9\n",
       "CJ 다담 된장찌개양념 530G X 4개                 7\n",
       "CJ 다담 매운버섯칼국수양념 150g x10               6\n",
       "Name: 주문번호, dtype: int64"
      ]
     },
     "execution_count": 53,
     "metadata": {},
     "output_type": "execute_result"
    }
   ],
   "source": [
    "df1[df1[\"주문일\"]==9].groupby('전시상품명')['주문번호'].count().sort_values(ascending=False)[:10]"
   ]
  },
  {
   "cell_type": "code",
   "execution_count": 58,
   "id": "c1092744",
   "metadata": {},
   "outputs": [
    {
     "data": {
      "text/plain": [
       "표준카테고리\n",
       "냉장/냉동/간편식 > 떡볶이/만두 > 만두             159\n",
       "냉장/냉동/간편식 > 국/탕/찌개 > 국/탕             61\n",
       "가공식품 > 식용유/오일 > 카놀라유                 34\n",
       "냉장/냉동/간편식 > 밀키트/쿠킹박스 > 중식/일식/아시아     25\n",
       "냉장/냉동/간편식 > 햄/소시지/베이컨 > 햄/소시지        19\n",
       "냉장/냉동/간편식 > 즉석밥/죽/스프 > 즉석밥           18\n",
       "가공식품 > 식용유/오일 > 식용유/오일선물세트           13\n",
       "가공식품 > 통조림/캔 > 캔/통조림선물세트             13\n",
       "냉장/냉동/간편식 > 동그랑땡/전/튀김 > 튀김류          12\n",
       "가공식품 > 소스/드레싱 > 굴소스/중화요리소스           11\n",
       "Name: 주문번호, dtype: int64"
      ]
     },
     "execution_count": 58,
     "metadata": {},
     "output_type": "execute_result"
    }
   ],
   "source": [
    "df1[df1[\"주문일\"]==9].groupby('표준카테고리')['주문번호'].count().sort_values(ascending=False)[:10]\n",
    "#1월 9일에는 만두가 많았고 사골도 많았음"
   ]
  },
  {
   "cell_type": "code",
   "execution_count": 54,
   "id": "559e4470",
   "metadata": {},
   "outputs": [
    {
     "data": {
      "text/plain": [
       "전시상품명\n",
       "[CJ직배송]특별한선택 Y호                    37\n",
       "[CJ직배송][22년 설 선물세트]스팸3호            25\n",
       "[CJ직배송] 최저가 혜택 22년 설 선물 스팸 S2호     16\n",
       "[CJ직배송]백설100%통참깨참기름300ML X 2개       4\n",
       "[CJ직배송][22년 설 선물세트]유러피안 P2호 x4개     4\n",
       "비비고 한섬만두 384G*2EA *2                3\n",
       "[CJ직배송]비비고 도톰동그랑땡 425G*2 X2개        3\n",
       "[CJ직배송][22년 설 선물세트]스팸고급유7호          3\n",
       "CJ 비비고 새우볶음밥 420g x3                2\n",
       "[CJ직배송] CJ 고메 함박스테이크 152gx10개       2\n",
       "Name: 주문번호, dtype: int64"
      ]
     },
     "execution_count": 54,
     "metadata": {},
     "output_type": "execute_result"
    }
   ],
   "source": [
    "df1[df1[\"주문일\"]==24].groupby('전시상품명')['주문번호'].count().sort_values(ascending=False)[:10]"
   ]
  },
  {
   "cell_type": "code",
   "execution_count": null,
   "id": "9f7122e2",
   "metadata": {},
   "outputs": [],
   "source": [
    "df1[df1[\"주문일\"]==24].groupby('표준카테고리')['주문번호'].count().sort_values(ascending=False)[:10]\n",
    "#1월 24일에는 선물세트가 인기!"
   ]
  },
  {
   "cell_type": "markdown",
   "id": "a9d3caef",
   "metadata": {},
   "source": [
    "# 3월 13,14,21"
   ]
  },
  {
   "cell_type": "code",
   "execution_count": 60,
   "id": "9a63f31f",
   "metadata": {},
   "outputs": [],
   "source": [
    "df3=df[df['주문월']==3]"
   ]
  },
  {
   "cell_type": "code",
   "execution_count": 61,
   "id": "a00dfd17",
   "metadata": {},
   "outputs": [
    {
     "data": {
      "text/plain": [
       "전시상품명\n",
       "[CJ직배송][CJ] 비비고 왕교자1.05KG X 3봉 + 수제고기만두 증정    292\n",
       "고메 바삭쫄깃한 탕수육 450gx3개                           15\n",
       "CJ 브랜드데이 특가 소금, 사골곰탕, 비비고 죽, 더비비고 최저가 보장        9\n",
       "[특가+증정] CJ 비비고 왕교자 1.05kg X 3개 + 찐만두 증정         6\n",
       "[CJ직배송]더건강한 닭가슴살 직화 통살구이100G X 6개               5\n",
       "CJ 비비고 수제고기만두x2개+수제김치만두x2개                      5\n",
       "고메 순살 후라이드 치킨 550gx3개                           4\n",
       "CJ 비비고 왕교자 1.05x2개+새우왕교자315gx2개                 3\n",
       "CJ 해찬들 우리쌀로만든태양초골드고추장2kgP X 2개                  3\n",
       "CJ 다담 안동찜닭 양념 220g x8                           3\n",
       "Name: 주문번호, dtype: int64"
      ]
     },
     "execution_count": 61,
     "metadata": {},
     "output_type": "execute_result"
    }
   ],
   "source": [
    "df3[df3[\"주문일\"]==13].groupby('전시상품명')['주문번호'].count().sort_values(ascending=False)[:10]"
   ]
  },
  {
   "cell_type": "code",
   "execution_count": 62,
   "id": "d15cac2d",
   "metadata": {},
   "outputs": [
    {
     "data": {
      "text/plain": [
       "표준카테고리\n",
       "냉장/냉동/간편식 > 떡볶이/만두 > 만두            322\n",
       "냉장/냉동/간편식 > 동그랑땡/전/튀김 > 튀김류         15\n",
       "냉장/냉동/간편식 > 즉석밥/죽/스프 > 즉석밥          13\n",
       "가공식품 > 조미료/양념 > 가공조미료               11\n",
       "냉장/냉동/간편식 > 피자/핫도그/햄버거 > 피자/햄버거      8\n",
       "냉장/냉동/간편식 > 즉석밥/죽/스프 > 볶음밥           8\n",
       "가공식품 > 소스/드레싱 > 굴소스/중화요리소스           6\n",
       "냉장/냉동/간편식 > 햄/소시지/베이컨 > 햄/소시지        6\n",
       "가공식품 > 장류 > 고추장/초고추장                 5\n",
       "가공식품 > 면류 > 기타면류                     4\n",
       "Name: 주문번호, dtype: int64"
      ]
     },
     "execution_count": 62,
     "metadata": {},
     "output_type": "execute_result"
    }
   ],
   "source": [
    "df3[df3[\"주문일\"]==13].groupby('표준카테고리')['주문번호'].count().sort_values(ascending=False)[:10]\n",
    "#3월 13일 만두 인기"
   ]
  },
  {
   "cell_type": "code",
   "execution_count": 63,
   "id": "a7bb1400",
   "metadata": {},
   "outputs": [
    {
     "data": {
      "text/plain": [
       "전시상품명\n",
       "천일염 소금/ 사골곰탕/비비고 죽/더비비고 특가 골라담기               96\n",
       "[CJ직배송][CJ] 비비고 왕교자1.05KG X 3봉 + 수제고기만두 증정    89\n",
       "고메 바삭쫄깃한 탕수육 450gx3개                           9\n",
       "비비고 왕교자 1.05KGx4개+비비고 찐만두 168gx1개              9\n",
       "다담 된장찌개양념 530Gx2개                              9\n",
       "[CJ직배송]사골곰탕 500G X 15봉 +영양꼬리곰탕 증정              8\n",
       "고메 순살 후라이드 치킨 550gx3개                          8\n",
       "[3/9 이후 출고][CJ직배송] CJ 햇반 발아현미밥 210Gx24개        8\n",
       "CJ 다담 양념듬뿍쌈장570G X 3개                          6\n",
       "CJ 비비고 왕교자 1.05x2개+새우왕교자315gx2개                5\n",
       "Name: 주문번호, dtype: int64"
      ]
     },
     "execution_count": 63,
     "metadata": {},
     "output_type": "execute_result"
    }
   ],
   "source": [
    "df3[df3[\"주문일\"]==14].groupby('전시상품명')['주문번호'].count().sort_values(ascending=False)[:10]"
   ]
  },
  {
   "cell_type": "code",
   "execution_count": 64,
   "id": "ef9da4c2",
   "metadata": {},
   "outputs": [
    {
     "data": {
      "text/plain": [
       "표준카테고리\n",
       "냉장/냉동/간편식 > 떡볶이/만두 > 만두            136\n",
       "가공식품 > 조미료/양념 > 가공조미료              107\n",
       "가공식품 > 장류 > 고추장/초고추장                33\n",
       "가공식품 > 장류 > 된장/쌈장/청국장               29\n",
       "냉장/냉동/간편식 > 국/탕/찌개 > 국/탕            28\n",
       "냉장/냉동/간편식 > 즉석밥/죽/스프 > 즉석밥          23\n",
       "가공식품 > 소스/드레싱 > 칠리/살사소스             16\n",
       "냉장/냉동/간편식 > 즉석밥/죽/스프 > 볶음밥          15\n",
       "냉장/냉동/간편식 > 피자/핫도그/햄버거 > 피자/햄버거     12\n",
       "가공식품 > 소스/드레싱 > 굴소스/중화요리소스          10\n",
       "Name: 주문번호, dtype: int64"
      ]
     },
     "execution_count": 64,
     "metadata": {},
     "output_type": "execute_result"
    }
   ],
   "source": [
    "df3[df3[\"주문일\"]==14].groupby('표준카테고리')['주문번호'].count().sort_values(ascending=False)[:10]\n",
    "#이벤트와 만두 인기"
   ]
  },
  {
   "cell_type": "code",
   "execution_count": 65,
   "id": "3c230821",
   "metadata": {},
   "outputs": [
    {
     "data": {
      "text/plain": [
       "전시상품명\n",
       "[CJ직배송][CJ] 비비고 왕교자1.05KG X 3봉 + 수제고기만두 증정    305\n",
       "비비고 왕교자 1.05KGx4개+비비고 찐만두 168gx1개              12\n",
       "비비고 사골곰탕 500g X18                               8\n",
       "[특가+증정] CJ 비비고 왕교자 1.05kg X 3개 + 찐만두 증정         5\n",
       "CJ 해찬들 우리쌀로만든태양초골드고추장2kgP X 2개                  5\n",
       "고메 함박스테이크 152g X 5 + 고메 토마토미트볼 147g X 5         3\n",
       "[CJ제일제당] 비비고 수제만둣집 맛 진한고기만두400g*2번들X2EA         3\n",
       "비비고 찰보리감자만두 600G x6                             3\n",
       "[CJ직배송]비비고 김치 왕교자 420gx2개x3(총6봉)                3\n",
       "CJ 비비고 왕교자 1.05x2개+새우왕교자315gx2개                 3\n",
       "Name: 주문번호, dtype: int64"
      ]
     },
     "execution_count": 65,
     "metadata": {},
     "output_type": "execute_result"
    }
   ],
   "source": [
    "df3[df3[\"주문일\"]==21].groupby('전시상품명')['주문번호'].count().sort_values(ascending=False)[:10]"
   ]
  },
  {
   "cell_type": "code",
   "execution_count": 66,
   "id": "73040c6a",
   "metadata": {},
   "outputs": [
    {
     "data": {
      "text/plain": [
       "표준카테고리\n",
       "냉장/냉동/간편식 > 떡볶이/만두 > 만두         352\n",
       "냉장/냉동/간편식 > 국/탕/찌개 > 국/탕         13\n",
       "냉장/냉동/간편식 > 즉석밥/죽/스프 > 볶음밥        8\n",
       "냉장/냉동/간편식 > 돈가스/고로케/너겟 > 돈가스      7\n",
       "가공식품 > 장류 > 고추장/초고추장              6\n",
       "냉장/냉동/간편식 > 돈가스/고로케/너겟 > 너겟       4\n",
       "정육/계란 > 양념육 > 기타양념육               4\n",
       "냉장/냉동/간편식 > 즉석밥/죽/스프 > 즉석밥        3\n",
       "가공식품 > 소스/드레싱 > 굴소스/중화요리소스        3\n",
       "과자/간식 > 기타간식 > 맛밤/맛고구마            3\n",
       "Name: 주문번호, dtype: int64"
      ]
     },
     "execution_count": 66,
     "metadata": {},
     "output_type": "execute_result"
    }
   ],
   "source": [
    "df3[df3[\"주문일\"]==21].groupby('표준카테고리')['주문번호'].count().sort_values(ascending=False)[:10]\n",
    "#3월은 전체적으로 만두가 인기"
   ]
  },
  {
   "cell_type": "markdown",
   "id": "39e5fc08",
   "metadata": {},
   "source": [
    "# 4월 24일"
   ]
  },
  {
   "cell_type": "code",
   "execution_count": 67,
   "id": "7f2fba5a",
   "metadata": {},
   "outputs": [],
   "source": [
    "df4=df[df['주문월']==4]"
   ]
  },
  {
   "cell_type": "code",
   "execution_count": 68,
   "id": "2b1195a7",
   "metadata": {},
   "outputs": [
    {
     "data": {
      "text/plain": [
       "전시상품명\n",
       "천일염 소금/ 사골곰탕/비비고 죽/더비비고 특가 골라담기          28\n",
       "[CJ직배송]포도씨유 900ML X 2개                   26\n",
       "[6+3]비비고 프리미엄 죽 6개 골라담기 +보양닭백숙죽 3개 증정    13\n",
       "다담 된장찌개양념 530Gx3개                        11\n",
       "다담 된장찌개양념 530G X 4개                      11\n",
       "고메 바삭쫄깃한 탕수육 450gx3개                     11\n",
       "[채식만두]비비고 플랜테이블 왕교자 골라담기                  9\n",
       "다담 된장찌개양념 530Gx2개                         8\n",
       "[비비고X사내맞선]왕교자 1.05kgx2 + 김치왕교자 420gx2     7\n",
       "[파티컵증정]고메 순살 후라이드 치킨 550gx3개              6\n",
       "Name: 주문번호, dtype: int64"
      ]
     },
     "execution_count": 68,
     "metadata": {},
     "output_type": "execute_result"
    }
   ],
   "source": [
    "df4[df4[\"주문일\"]==24].groupby('전시상품명')['주문번호'].count().sort_values(ascending=False)[:10]"
   ]
  },
  {
   "cell_type": "code",
   "execution_count": 71,
   "id": "7345bc22",
   "metadata": {},
   "outputs": [
    {
     "data": {
      "text/plain": [
       "표준카테고리\n",
       "냉장/냉동/간편식 > 즉석밥/죽/스프 > 즉석밥      58\n",
       "냉장/냉동/간편식 > 떡볶이/만두 > 만두         41\n",
       "가공식품 > 조미료/양념 > 가공조미료           32\n",
       "가공식품 > 장류 > 된장/쌈장/청국장           29\n",
       "가공식품 > 식용유/오일 > 식용유/오일선물세트      26\n",
       "냉장/냉동/간편식 > 국/탕/찌개 > 국/탕        22\n",
       "냉장/냉동/간편식 > 즉석밥/죽/스프 > 볶음밥      20\n",
       "냉장/냉동/간편식 > 돈가스/고로케/너겟 > 돈가스    17\n",
       "김치/반찬 > 김치 > 포기김치               12\n",
       "가공식품 > 소스/드레싱 > 칠리/살사소스         12\n",
       "Name: 주문번호, dtype: int64"
      ]
     },
     "execution_count": 71,
     "metadata": {},
     "output_type": "execute_result"
    }
   ],
   "source": [
    "df4[df4[\"주문일\"]==24].groupby('표준카테고리')['주문번호'].count().sort_values(ascending=False)[:10]\n",
    "#이벤트때문에 밥이 조금 많이 팔림"
   ]
  },
  {
   "cell_type": "markdown",
   "id": "c69bfb49",
   "metadata": {},
   "source": [
    "# 5월 16,25"
   ]
  },
  {
   "cell_type": "code",
   "execution_count": 72,
   "id": "1c15c0c0",
   "metadata": {},
   "outputs": [],
   "source": [
    "df5=df[df['주문월']==5]"
   ]
  },
  {
   "cell_type": "code",
   "execution_count": 73,
   "id": "ae503d46",
   "metadata": {},
   "outputs": [
    {
     "data": {
      "text/plain": [
       "전시상품명\n",
       "[CJ직배송]포도씨유 900ML X 2개                      1716\n",
       "[CJ직배송]카놀라유 900ML X 2개                        47\n",
       "[비비고X사내맞선]비비고 왕교자1.05KG X 3봉 + 수제고기만두 증정      33\n",
       "[CJ직배송]해바라기씨유 900ML X 2개                      30\n",
       "[사은품]  해찬들 우리쌀로만든태양초골드고추장 1kg X2개             28\n",
       "C J하선정 집김치처럼 시원한 포기김치 5kg                      7\n",
       "[CJ직배송][한박스]카놀라유 900mlx12개                     6\n",
       "CJ 다담 안동찜닭 양념 220g x8                          4\n",
       "[CJ직배송]백설소불고기양념500g X 2개                       3\n",
       "[사은품] 그대로끓여먹는된장찌개전용(청양초) 450G x3               3\n",
       "Name: 주문번호, dtype: int64"
      ]
     },
     "execution_count": 73,
     "metadata": {},
     "output_type": "execute_result"
    }
   ],
   "source": [
    "df5[df5[\"주문일\"]==16].groupby('전시상품명')['주문번호'].count().sort_values(ascending=False)[:10]"
   ]
  },
  {
   "cell_type": "code",
   "execution_count": 74,
   "id": "494a6dff",
   "metadata": {},
   "outputs": [
    {
     "data": {
      "text/plain": [
       "표준카테고리\n",
       "가공식품 > 식용유/오일 > 식용유/오일선물세트      1716\n",
       "가공식품 > 식용유/오일 > 카놀라유              91\n",
       "냉장/냉동/간편식 > 떡볶이/만두 > 만두           50\n",
       "가공식품 > 장류 > 고추장/초고추장              38\n",
       "냉장/냉동/간편식 > 돈가스/고로케/너겟 > 돈가스      15\n",
       "가공식품 > 조미료/양념 > 가공조미료             10\n",
       "가공식품 > 소스/드레싱 > 굴소스/중화요리소스        10\n",
       "가공식품 > 소스/드레싱 > 파스타소스             10\n",
       "김치/반찬 > 김치 > 포기김치                  9\n",
       "가공식품 > 장류 > 된장/쌈장/청국장              9\n",
       "Name: 주문번호, dtype: int64"
      ]
     },
     "execution_count": 74,
     "metadata": {},
     "output_type": "execute_result"
    }
   ],
   "source": [
    "df5[df5[\"주문일\"]==16].groupby('표준카테고리')['주문번호'].count().sort_values(ascending=False)[:10]\n",
    "#선물세트,,?가 갑자기 인기 오일이 인기였다."
   ]
  },
  {
   "cell_type": "code",
   "execution_count": 75,
   "id": "e4cd0a3d",
   "metadata": {},
   "outputs": [
    {
     "data": {
      "text/plain": [
       "전시상품명\n",
       "[6+3+5%추가쿠폰]비비고 프리미엄 죽 6개 골라담기 +보양닭백숙죽 3개 증정              951\n",
       "[5%추가쿠폰 확인]비비고 왕교자 1.05KGx4개+비비고 찐만두 168gx1개              692\n",
       "비비고 왕교자 1.05KGx4개+비비고 찐만두 168gx1개                         138\n",
       "[6+3+5%추가쿠폰]비비고 프리미엄 죽 6개 골라담기 +보양닭백숙죽/통단팥죽 (택1) 3개 증정     36\n",
       "[2+1][3+2]CJ제일제당 쁘띠첼 미초 석류+청포도+복숭아 外 골라담기                  13\n",
       "[포토후기쓰면 햇반라이스크림 증정]햇반 솥반 4종 각 1개(총 4개)                     11\n",
       "[비비고X사내맞선]비비고 왕교자1.05KG X 3봉 + 수제고기만두 증정                    9\n",
       "해찬들 우리쌀로만든태양초골드고추장 1kg X2개                                  9\n",
       "[비비고X사내맞선]비비고 김치볶음 80G x10개                                 9\n",
       "C J하선정 집김치처럼 시원한 포기김치 5kg                                   7\n",
       "Name: 주문번호, dtype: int64"
      ]
     },
     "execution_count": 75,
     "metadata": {},
     "output_type": "execute_result"
    }
   ],
   "source": [
    "df5[df5[\"주문일\"]==25].groupby('전시상품명')['주문번호'].count().sort_values(ascending=False)[:10]"
   ]
  },
  {
   "cell_type": "code",
   "execution_count": 77,
   "id": "3e256e46",
   "metadata": {},
   "outputs": [
    {
     "data": {
      "text/plain": [
       "표준카테고리\n",
       "냉장/냉동/간편식 > 즉석밥/죽/스프 > 즉석밥       1051\n",
       "냉장/냉동/간편식 > 떡볶이/만두 > 만두           867\n",
       "김치/반찬 > 김치 > 포기김치                  20\n",
       "가공식품 > 장류 > 고추장/초고추장               15\n",
       "가공식품 > 면류 > 기타면류                   15\n",
       "냉장/냉동/간편식 > 즉석밥/죽/스프 > 볶음밥         14\n",
       "과자/간식 > 캔디/껌/캐러멜 > 젤리/푸딩           13\n",
       "냉장/냉동/간편식 > 돈가스/고로케/너겟 > 돈가스       12\n",
       "냉장/냉동/간편식 > 국/탕/찌개 > 국/탕           10\n",
       "냉장/냉동/간편식 > 햄/소시지/베이컨 > 햄/소시지       9\n",
       "Name: 주문번호, dtype: int64"
      ]
     },
     "execution_count": 77,
     "metadata": {},
     "output_type": "execute_result"
    }
   ],
   "source": [
    "df5[df5[\"주문일\"]==25].groupby('표준카테고리')['주문번호'].count().sort_values(ascending=False)[:10]\n",
    "#이벤트로 밥과 만두 인기"
   ]
  },
  {
   "cell_type": "markdown",
   "id": "572b5058",
   "metadata": {},
   "source": [
    "# 7월 4,13,21,27,29"
   ]
  },
  {
   "cell_type": "code",
   "execution_count": 79,
   "id": "f508ba92",
   "metadata": {},
   "outputs": [],
   "source": [
    "df7=df[df['주문월']==7]"
   ]
  },
  {
   "cell_type": "code",
   "execution_count": 80,
   "id": "6fe905e5",
   "metadata": {},
   "outputs": [
    {
     "data": {
      "text/plain": [
       "전시상품명\n",
       "햇반 작은공기/100% 현미밥130g x 36개                        255\n",
       "비비고 사골곰탕 500g x18봉                                 42\n",
       "[CJ직배송] CJ 고메 함박스테이크 152gx10개                      19\n",
       "다담 된장찌개양념 530G X 4개                                14\n",
       "[CJ직배송][한박스]더건강한 닭가슴살 직화 통살구이100gx24개              13\n",
       "CJ 햇반 쿡반 주먹밥 5종 골라담기                               13\n",
       "[6+2]비비고 용기형 단호박죽/통단팥죽/흑임자죽 + 버섯야채죽 280GX2개 증정     10\n",
       "비비고 왕교자 1.05KGx4개+비비고 찐만두 168gx1개                  10\n",
       "[CJ직배송]햇반작은공기130G x36개                              9\n",
       "고메바삭튀겨낸통등심돈카츠450g*3                                 7\n",
       "Name: 주문번호, dtype: int64"
      ]
     },
     "execution_count": 80,
     "metadata": {},
     "output_type": "execute_result"
    }
   ],
   "source": [
    "df7[df7[\"주문일\"]==4].groupby('전시상품명')['주문번호'].count().sort_values(ascending=False)[:10]"
   ]
  },
  {
   "cell_type": "code",
   "execution_count": 81,
   "id": "c18db915",
   "metadata": {},
   "outputs": [
    {
     "data": {
      "text/plain": [
       "표준카테고리\n",
       "냉장/냉동/간편식 > 즉석밥/죽/스프 > 즉석밥      322\n",
       "냉장/냉동/간편식 > 떡볶이/만두 > 만두          63\n",
       "냉장/냉동/간편식 > 국/탕/찌개 > 국/탕         53\n",
       "냉장/냉동/간편식 > 돈가스/고로케/너겟 > 돈가스     27\n",
       "정육/계란 > 양념육 > 기타양념육              20\n",
       "가공식품 > 통조림/캔 > 닭가슴살통조림           20\n",
       "가공식품 > 장류 > 된장/쌈장/청국장            18\n",
       "가공식품 > 면류 > 기타면류                 17\n",
       "김치/반찬 > 김치 > 포기김치                10\n",
       "가공식품 > 소스/드레싱 > 굴소스/중화요리소스       10\n",
       "Name: 주문번호, dtype: int64"
      ]
     },
     "execution_count": 81,
     "metadata": {},
     "output_type": "execute_result"
    }
   ],
   "source": [
    "df7[df7[\"주문일\"]==4].groupby('표준카테고리')['주문번호'].count().sort_values(ascending=False)[:10]\n",
    "#밥이 인기"
   ]
  },
  {
   "cell_type": "code",
   "execution_count": 82,
   "id": "6293c3f2",
   "metadata": {},
   "outputs": [
    {
     "data": {
      "text/plain": [
       "전시상품명\n",
       "[전참시 속 보양식사]누룽지닭백숙죽/전복삼계죽/녹두닭죽 外 + 보양닭백숙죽 증정      566\n",
       "비비고 사골곰탕 500g x18봉                                 22\n",
       "비비고 프리미엄 죽 6개 골라담기                                 17\n",
       "[6+2]비비고 용기형 단호박죽/통단팥죽/흑임자죽 + 버섯야채죽 280GX2개 증정     16\n",
       "[CJ직배송]햇반 100%현미로 지은밥 130G x36개                    11\n",
       "[CJ직배송]버섯야채죽 420gx2개+단호박죽 420gx2개+소고기죽 420gx2개      9\n",
       "비비고 왕교자 1.05KGx4개+비비고 찐만두 168gx1개                   7\n",
       "다담 된장찌개양념 530G X 4개                                 7\n",
       "[CJ직배송][한박스]더건강한 닭가슴살 직화 통살구이100gx24개               6\n",
       "비비고 김치볶음 80G x10개                                   4\n",
       "Name: 주문번호, dtype: int64"
      ]
     },
     "execution_count": 82,
     "metadata": {},
     "output_type": "execute_result"
    }
   ],
   "source": [
    "df7[df7[\"주문일\"]==13].groupby('전시상품명')['주문번호'].count().sort_values(ascending=False)[:10]"
   ]
  },
  {
   "cell_type": "code",
   "execution_count": 83,
   "id": "33ec18c6",
   "metadata": {},
   "outputs": [
    {
     "data": {
      "text/plain": [
       "표준카테고리\n",
       "냉장/냉동/간편식 > 즉석밥/죽/스프 > 즉석밥      649\n",
       "냉장/냉동/간편식 > 국/탕/찌개 > 국/탕         35\n",
       "냉장/냉동/간편식 > 떡볶이/만두 > 만두          19\n",
       "가공식품 > 통조림/캔 > 닭가슴살통조림           18\n",
       "김치/반찬 > 김치 > 포기김치                11\n",
       "가공식품 > 장류 > 된장/쌈장/청국장            10\n",
       "냉장/냉동/간편식 > 즉석밥/죽/스프 > 볶음밥        8\n",
       "냉장/냉동/간편식 > 돈가스/고로케/너겟 > 돈가스      8\n",
       "가공식품 > 면류 > 기타면류                  6\n",
       "김치/반찬 > 김치 > 기타김치                 5\n",
       "Name: 주문번호, dtype: int64"
      ]
     },
     "execution_count": 83,
     "metadata": {},
     "output_type": "execute_result"
    }
   ],
   "source": [
    "df7[df7[\"주문일\"]==13].groupby('표준카테고리')['주문번호'].count().sort_values(ascending=False)[:10]\n",
    "#이벤트 영향으로 밥 인기"
   ]
  },
  {
   "cell_type": "code",
   "execution_count": 84,
   "id": "639286b4",
   "metadata": {},
   "outputs": [
    {
     "data": {
      "text/plain": [
       "전시상품명\n",
       "[CJ직배송]CJ 고메 중화짬뽕 + 중화짜장 + 탕수육 + 깐풍기 세트         697\n",
       "더위야 물러가라 제일제당 맛있는 냉면 골라담기[택 1]                  113\n",
       "[CJ직배송]고메 깐풍기세트                                  26\n",
       "[CJ직배송]고메 바삭촉촉한 깐풍기 450g X 3개                    20\n",
       "[CJ직배송]고메 중화짬뽕 652g X 3개                         18\n",
       "[CJ직배송]고메 바삭쫄깃한 탕수육 450G x 2봉+대용량900G 1봉         16\n",
       "[CJ직배송][한박스]더건강한 닭가슴살 직화 통살구이100gx24개            13\n",
       "[전참시 속 보양식사]누룽지닭백숙죽/전복삼계죽/녹두닭죽 外 + 보양닭백숙죽 증정     13\n",
       "[CJ직배송]포도씨유 900ML X 2개                           12\n",
       "다담 된장찌개양념 530G X 4개                              11\n",
       "Name: 주문번호, dtype: int64"
      ]
     },
     "execution_count": 84,
     "metadata": {},
     "output_type": "execute_result"
    }
   ],
   "source": [
    "df7[df7[\"주문일\"]==21].groupby('전시상품명')['주문번호'].count().sort_values(ascending=False)[:10]"
   ]
  },
  {
   "cell_type": "code",
   "execution_count": 91,
   "id": "aead957d",
   "metadata": {},
   "outputs": [
    {
     "data": {
      "text/plain": [
       "표준카테고리\n",
       "가공식품 > 면류 > 기타면류                839\n",
       "냉장/냉동/간편식 > 떡볶이/만두 > 만두          68\n",
       "냉장/냉동/간편식 > 돈가스/고로케/너겟 > 돈가스     61\n",
       "냉장/냉동/간편식 > 즉석밥/죽/스프 > 즉석밥       41\n",
       "가공식품 > 통조림/캔 > 닭가슴살통조림           19\n",
       "가공식품 > 장류 > 된장/쌈장/청국장            17\n",
       "김치/반찬 > 김치 > 포기김치                14\n",
       "냉장/냉동/간편식 > 국/탕/찌개 > 국/탕         13\n",
       "가공식품 > 식용유/오일 > 식용유/오일선물세트       12\n",
       "가공식품 > 장류 > 고추장/초고추장             10\n",
       "Name: 주문번호, dtype: int64"
      ]
     },
     "execution_count": 91,
     "metadata": {},
     "output_type": "execute_result"
    }
   ],
   "source": [
    "df7[df7[\"주문일\"]==21].groupby('표준카테고리')['주문번호'].count().sort_values(ascending=False)[:10]\n",
    "#갑자기,,?이벤트를 했나"
   ]
  },
  {
   "cell_type": "code",
   "execution_count": 86,
   "id": "8a428ed7",
   "metadata": {},
   "outputs": [
    {
     "data": {
      "text/plain": [
       "전시상품명\n",
       "[CJ직배송]쁘띠첼 5종 세트_30개(포도파인애플복숭아밀감 망고)                         429\n",
       "[CJ직배송]포도+사과+오렌지 워터젤리 총 30개[각10개씩]                           359\n",
       "미역국 X 5개 + 사골곰탕 X2개+ 육개장300g 2봉 증정(증정품 유통기한 22년 10월 7일까지)    251\n",
       "[CJ직배송][한박스]쁘띠첼 복숭아 90g x30개                                  74\n",
       "[CJ직배송]파인애플+망고+자몽 듬뿍 워터젤리 총 30개[각10개씩]                        53\n",
       "[CJ직배송]쁘띠첼 3종 10개(파인애플복숭아밀감)                                  48\n",
       "[CJ직배송][한박스]쁘띠첼 밀감 90g x30개                                   40\n",
       "[CJ직배송]쁘띠첼 워터젤리포도 130mlx30개                                   31\n",
       "[CJ직배송][한박스]쁘띠첼 포도 90g x30개                                   28\n",
       "[CJ직배송]쁘띠첼워터젤리 복숭아 130mlx30개                                  16\n",
       "Name: 주문번호, dtype: int64"
      ]
     },
     "execution_count": 86,
     "metadata": {},
     "output_type": "execute_result"
    }
   ],
   "source": [
    "df7[df7[\"주문일\"]==27].groupby('전시상품명')['주문번호'].count().sort_values(ascending=False)[:10]"
   ]
  },
  {
   "cell_type": "code",
   "execution_count": 90,
   "id": "03c1a6cd",
   "metadata": {},
   "outputs": [
    {
     "data": {
      "text/plain": [
       "표준카테고리\n",
       "과자/간식 > 캔디/껌/캐러멜 > 젤리/푸딩        1130\n",
       "냉장/냉동/간편식 > 국/탕/찌개 > 국/탕         281\n",
       "냉장/냉동/간편식 > 돈가스/고로케/너겟 > 돈가스      42\n",
       "냉장/냉동/간편식 > 즉석밥/죽/스프 > 즉석밥        18\n",
       "가공식품 > 소스/드레싱 > 기타소스              17\n",
       "냉장/냉동/간편식 > 즉석밥/죽/스프 > 볶음밥        14\n",
       "냉장/냉동/간편식 > 떡볶이/만두 > 만두           14\n",
       "냉장/냉동/간편식 > 돈가스/고로케/너겟 > 너겟        9\n",
       "가공식품 > 장류 > 고추장/초고추장               9\n",
       "가공식품 > 통조림/캔 > 닭가슴살통조림             9\n",
       "Name: 주문번호, dtype: int64"
      ]
     },
     "execution_count": 90,
     "metadata": {},
     "output_type": "execute_result"
    }
   ],
   "source": [
    "df7[df7[\"주문일\"]==27].groupby('표준카테고리')['주문번호'].count().sort_values(ascending=False)[:10]\n",
    "#처음으로 간식이 1등"
   ]
  },
  {
   "cell_type": "code",
   "execution_count": 88,
   "id": "1771f205",
   "metadata": {},
   "outputs": [
    {
     "data": {
      "text/plain": [
       "전시상품명\n",
       "[Lpoint&스벅커피쿠폰증정]햇반 솥반 프리미엄 6종 골라담기[택 1]                     575\n",
       "[Lpoint 5000P 증정]햇반 솥반 프리미엄 6종 골라담기[택 1]                     152\n",
       "[CJ직배송]쁘띠첼 5종 세트_30개(포도파인애플복숭아밀감 망고)                          67\n",
       "미역국 X 5개 + 사골곰탕 X2개+ 육개장300g 2봉 증정(증정품 유통기한 22년 10월 7일까지)     55\n",
       "[6+6+6 선착순 특가]다담 정통된장찌개/청국장찌개/순두부찌개 外 골라담기                    46\n",
       "[CJ직배송]포도+사과+오렌지 워터젤리 총 30개[각10개씩]                            41\n",
       "CJ 햇반 쿡반 주먹밥 5종 골라담기                                          41\n",
       "[Lpoint&스벅커피쿠폰증정]햇반 솥반 프리미엄 6종 골라담기                           32\n",
       "[CJ직배송]포도씨유 900ML X 2개                                        23\n",
       "비비고 사골곰탕 500g x18봉                                            21\n",
       "Name: 주문번호, dtype: int64"
      ]
     },
     "execution_count": 88,
     "metadata": {},
     "output_type": "execute_result"
    }
   ],
   "source": [
    "df7[df7[\"주문일\"]==29].groupby('전시상품명')['주문번호'].count().sort_values(ascending=False)[:10]"
   ]
  },
  {
   "cell_type": "code",
   "execution_count": 92,
   "id": "5afc9152",
   "metadata": {},
   "outputs": [
    {
     "data": {
      "text/plain": [
       "표준카테고리\n",
       "냉장/냉동/간편식 > 즉석밥/죽/스프 > 즉석밥      931\n",
       "과자/간식 > 캔디/껌/캐러멜 > 젤리/푸딩        128\n",
       "냉장/냉동/간편식 > 국/탕/찌개 > 국/탕         98\n",
       "냉장/냉동/간편식 > 돈가스/고로케/너겟 > 돈가스     86\n",
       "가공식품 > 소스/드레싱 > 기타소스             59\n",
       "가공식품 > 면류 > 기타면류                 43\n",
       "냉장/냉동/간편식 > 떡볶이/만두 > 만두          40\n",
       "김치/반찬 > 김치 > 포기김치                27\n",
       "김치/반찬 > 반찬 > 기타반찬                24\n",
       "가공식품 > 식용유/오일 > 식용유/오일선물세트       23\n",
       "Name: 주문번호, dtype: int64"
      ]
     },
     "execution_count": 92,
     "metadata": {},
     "output_type": "execute_result"
    }
   ],
   "source": [
    "df7[df7[\"주문일\"]==29].groupby('표준카테고리')['주문번호'].count().sort_values(ascending=False)[:10]\n",
    "#이벤트로 밥 인기"
   ]
  },
  {
   "cell_type": "markdown",
   "id": "6ad7d769",
   "metadata": {},
   "source": [
    "# 8월 31, 9월 1,2"
   ]
  },
  {
   "cell_type": "code",
   "execution_count": 93,
   "id": "5a38a98b",
   "metadata": {},
   "outputs": [],
   "source": [
    "df8=df[df['주문월']==8]"
   ]
  },
  {
   "cell_type": "code",
   "execution_count": 94,
   "id": "bb5a1645",
   "metadata": {},
   "outputs": [
    {
     "data": {
      "text/plain": [
       "전시상품명\n",
       "[L.Point 5,000p 증정]햇반 오곡밥 24입/ 솥반 7종 골라담기 [ 택 1]                 313\n",
       "[GS25 3,000원권+L.Point 3,000점증정]비비고 전복미역죽 런칭기념 세트 구성 골라담기 [택1]    290\n",
       "[ L.Point 5,000점 증정]비비고 전복미역죽 런칭기념 세트 구성 골라담기 [ 택1]              257\n",
       "[구매확정시 주문건당 20,000 Lpoint 자동적립] 스팸1호 / *엘포인트 통합회원만 가능             11\n",
       "CJ 햇반 쿡반 주먹밥 5종 골라담기                                              11\n",
       "[구매확정시 주문건당 5,000 Lpoint 자동적립] 스팸마일드8호 / *엘포인트 통합회원만 가능            9\n",
       "[구매확정시 주문건당 15,000 Lpoint 자동적립] 스팸6호 / *엘포인트 통합회원만 가능              8\n",
       "[100%국산]하선정 국산 포기김치 5KG X2개 (10KG)                                 7\n",
       "[전참시 속 보양식사]누룽지닭백숙죽/전복삼계죽/녹두닭죽 外 + 보양닭백숙죽 증정                       7\n",
       "[22년 추석 선물세트] 스팸12호 x5개                                            6\n",
       "Name: 주문번호, dtype: int64"
      ]
     },
     "execution_count": 94,
     "metadata": {},
     "output_type": "execute_result"
    }
   ],
   "source": [
    "df8[df8[\"주문일\"]==31].groupby('전시상품명')['주문번호'].count().sort_values(ascending=False)[:10]"
   ]
  },
  {
   "cell_type": "code",
   "execution_count": 96,
   "id": "ca39e0fb",
   "metadata": {},
   "outputs": [
    {
     "data": {
      "text/plain": [
       "표준카테고리\n",
       "냉장/냉동/간편식 > 즉석밥/죽/스프 > 즉석밥      886\n",
       "가공식품 > 통조림/캔 > 캔/통조림선물세트         47\n",
       "냉장/냉동/간편식 > 돈가스/고로케/너겟 > 돈가스     17\n",
       "김치/반찬 > 김치 > 포기김치                16\n",
       "가공식품 > 소스/드레싱 > 기타소스              5\n",
       "냉장/냉동/간편식 > 떡볶이/만두 > 만두           5\n",
       "가공식품 > 통조림/캔 > 닭가슴살통조림            5\n",
       "냉장/냉동/간편식 > 국/탕/찌개 > 국/탕          4\n",
       "가공식품 > 장류 > 된장/쌈장/청국장             4\n",
       "과자/간식 > 캔디/껌/캐러멜 > 젤리/푸딩          3\n",
       "Name: 주문번호, dtype: int64"
      ]
     },
     "execution_count": 96,
     "metadata": {},
     "output_type": "execute_result"
    }
   ],
   "source": [
    "df8[df8[\"주문일\"]==31].groupby('표준카테고리')['주문번호'].count().sort_values(ascending=False)[:10]\n",
    "#이벤트로 밥 인기"
   ]
  },
  {
   "cell_type": "code",
   "execution_count": 98,
   "id": "234563cc",
   "metadata": {},
   "outputs": [],
   "source": [
    "df9=df[df['주문월']==9]"
   ]
  },
  {
   "cell_type": "code",
   "execution_count": 99,
   "id": "789f76e3",
   "metadata": {},
   "outputs": [
    {
     "data": {
      "text/plain": [
       "전시상품명\n",
       "[구매확정시 주문건당 5,000 Lpoint 자동적립] 스팸마일드8호 / *엘포인트 통합회원만 가능       33\n",
       "[구매확정시 주문건당 15,000 Lpoint 자동적립] 스팸6호 / *엘포인트 통합회원만 가능         13\n",
       "CJ 햇반 쿡반 주먹밥 5종 골라담기                                          12\n",
       "[100%국산]하선정 국산 포기김치 5KG X2개 (10KG)                            10\n",
       "[구매확정시 주문건당 5,000 Lpoint 자동적립] 스팸12호  / *엘포인트 통합회원만 가능         8\n",
       "다담 된장찌개양념 530G X 4개                                            7\n",
       "[구매확정시 주문건당 20,000 Lpoint 자동적립] 스팸1호 / *엘포인트 통합회원만 가능          5\n",
       "[CJ직배송][한박스]더건강한 닭가슴살 직화 스테이크100gx24개                          5\n",
       "[구매확정시 주문건당 60,000 Lpoint 자동적립] 스팸6호 x4개  / *엘포인트 통합회원만 가능     4\n",
       "[구매확정시 주문건당 15,000 Lpoint 자동적립] 스팸3호 / *엘포인트 통합회원만 가능          4\n",
       "Name: 주문번호, dtype: int64"
      ]
     },
     "execution_count": 99,
     "metadata": {},
     "output_type": "execute_result"
    }
   ],
   "source": [
    "df9[df9[\"주문일\"]==1].groupby('전시상품명')['주문번호'].count().sort_values(ascending=False)[:10]"
   ]
  },
  {
   "cell_type": "code",
   "execution_count": 100,
   "id": "16f50ceb",
   "metadata": {},
   "outputs": [
    {
     "data": {
      "text/plain": [
       "표준카테고리\n",
       "가공식품 > 통조림/캔 > 캔/통조림선물세트        79\n",
       "냉장/냉동/간편식 > 돈가스/고로케/너겟 > 돈가스    15\n",
       "냉장/냉동/간편식 > 즉석밥/죽/스프 > 즉석밥      14\n",
       "김치/반찬 > 김치 > 포기김치               12\n",
       "냉장/냉동/간편식 > 떡볶이/만두 > 만두         11\n",
       "가공식품 > 장류 > 된장/쌈장/청국장            8\n",
       "가공식품 > 통조림/캔 > 닭가슴살통조림           8\n",
       "가공식품 > 소스/드레싱 > 굴소스/중화요리소스       5\n",
       "가공식품 > 식용유/오일 > 식용유/오일선물세트       5\n",
       "가공식품 > 소스/드레싱 > 기타소스             5\n",
       "Name: 주문번호, dtype: int64"
      ]
     },
     "execution_count": 100,
     "metadata": {},
     "output_type": "execute_result"
    }
   ],
   "source": [
    "df9[df9[\"주문일\"]==1].groupby('표준카테고리')['주문번호'].count().sort_values(ascending=False)[:10]"
   ]
  },
  {
   "cell_type": "code",
   "execution_count": 102,
   "id": "77a9cf6e",
   "metadata": {},
   "outputs": [
    {
     "data": {
      "text/plain": [
       "전시상품명\n",
       "[구매확정시 주문건당 5,000 Lpoint 자동적립] 스팸마일드8호 / *엘포인트 통합회원만 가능          28\n",
       "[구매확정시 주문건당 15,000 Lpoint 자동적립] 스팸6호 / *엘포인트 통합회원만 가능            22\n",
       "[100%국산]하선정 국산 포기김치 5KG X2개 (10KG)                                9\n",
       "[구매확정시 주문건당 20,000 Lpoint 자동적립] 스팸1호 / *엘포인트 통합회원만 가능             9\n",
       "CJ 햇반 쿡반 주먹밥 5종 골라담기                                              8\n",
       "[구매확정시 주문건당 60,000 Lpoint 자동적립] 스팸6호 x4개  / *엘포인트 통합회원만 가능        7\n",
       "[구매확정시 주문건당 5,000 Lpoint 자동적립] 스팸12호  / *엘포인트 통합회원만 가능            5\n",
       "[구매확정시 주문건당 30,000 Lpoint 자동적립] 스팸마일드8호 x5개  / *엘포인트 통합회원만 가능     5\n",
       "비비고 왕교자1.05KG X 2개                                                4\n",
       "[22년 추석 선물세트]백설 압착 올리브유2호                                         3\n",
       "Name: 주문번호, dtype: int64"
      ]
     },
     "execution_count": 102,
     "metadata": {},
     "output_type": "execute_result"
    }
   ],
   "source": [
    "df9[df9[\"주문일\"]==2].groupby('전시상품명')['주문번호'].count().sort_values(ascending=False)[:10]"
   ]
  },
  {
   "cell_type": "code",
   "execution_count": 103,
   "id": "f095f5b7",
   "metadata": {},
   "outputs": [
    {
     "data": {
      "text/plain": [
       "표준카테고리\n",
       "가공식품 > 통조림/캔 > 캔/통조림선물세트        85\n",
       "냉장/냉동/간편식 > 돈가스/고로케/너겟 > 돈가스    14\n",
       "김치/반찬 > 김치 > 포기김치               13\n",
       "냉장/냉동/간편식 > 즉석밥/죽/스프 > 즉석밥      10\n",
       "냉장/냉동/간편식 > 떡볶이/만두 > 만두          8\n",
       "가공식품 > 통조림/캔 > 닭가슴살통조림           6\n",
       "가공식품 > 식용유/오일 > 식용유/오일선물세트       5\n",
       "가공식품 > 소스/드레싱 > 기타소스             4\n",
       "냉장/냉동/간편식 > 국/탕/찌개 > 국/탕         3\n",
       "가공식품 > 소스/드레싱 > 굴소스/중화요리소스       3\n",
       "Name: 주문번호, dtype: int64"
      ]
     },
     "execution_count": 103,
     "metadata": {},
     "output_type": "execute_result"
    }
   ],
   "source": [
    "df9[df9[\"주문일\"]==2].groupby('표준카테고리')['주문번호'].count().sort_values(ascending=False)[:10]\n",
    "#추석 전이라 9월 1,2"
   ]
  },
  {
   "cell_type": "markdown",
   "id": "109efc93",
   "metadata": {},
   "source": [
    "# 6월 판매량이 많은 이유 살펴보기"
   ]
  },
  {
   "cell_type": "code",
   "execution_count": 14,
   "id": "31100e43",
   "metadata": {},
   "outputs": [],
   "source": [
    "df6=df[df['주문월']==6]"
   ]
  },
  {
   "cell_type": "code",
   "execution_count": 15,
   "id": "7f800072",
   "metadata": {},
   "outputs": [
    {
     "data": {
      "text/plain": [
       "유입매체\n",
       "APP       2964\n",
       "MO WEB     321\n",
       "PC          92\n",
       "TABLET       1\n",
       "Name: 주문번호, dtype: int64"
      ]
     },
     "execution_count": 15,
     "metadata": {},
     "output_type": "execute_result"
    }
   ],
   "source": [
    "df6[df6[\"주문일\"]==9].groupby('유입매체')['주문번호'].count() \n",
    "#6월 9일에 app으로 들어온 비율 높음"
   ]
  },
  {
   "cell_type": "code",
   "execution_count": 16,
   "id": "83893f35",
   "metadata": {},
   "outputs": [
    {
     "data": {
      "text/plain": [
       "유입채널\n",
       "디폴트 채널상세                           1852\n",
       "유실 채널상세                            1416\n",
       "[롯데ON] MO Web 행사장_21.07_월간APP혜택      17\n",
       "[모바일]카카오톡                            16\n",
       "[샵백] CPS제휴_매출_롯데ON                    8\n",
       "[롯데ON][착한 소비하고 증정품 받아요!]              7\n",
       "[네이버] PCS 가격비교_롯데ON                   7\n",
       "[롯데ON][알림톡][[롯데ON] 상품 배송시작 안내]        6\n",
       "[롯데ON][VIBE ON [패션관]✨]                6\n",
       "[UAC] 앱설치                             5\n",
       "Name: 주문번호, dtype: int64"
      ]
     },
     "execution_count": 16,
     "metadata": {},
     "output_type": "execute_result"
    }
   ],
   "source": [
    "df6[df6[\"주문일\"]==9].groupby('유입채널')['주문번호'].count().sort_values(ascending=False)[:10]\n",
    "#app내에서 찾아온 손님들이 많았음"
   ]
  },
  {
   "cell_type": "code",
   "execution_count": 17,
   "id": "62a638a1",
   "metadata": {},
   "outputs": [
    {
     "data": {
      "text/plain": [
       "회원구분\n",
       "LPOINT통합회원    3310\n",
       "법인회원             1\n",
       "소셜간편회원          59\n",
       "이메일간편회원          5\n",
       "휴대폰간편회원          3\n",
       "Name: 주문번호, dtype: int64"
      ]
     },
     "execution_count": 17,
     "metadata": {},
     "output_type": "execute_result"
    }
   ],
   "source": [
    "df6[df6[\"주문일\"]==9].groupby('회원구분')['주문번호'].count()"
   ]
  },
  {
   "cell_type": "code",
   "execution_count": 18,
   "id": "02e26bf4",
   "metadata": {},
   "outputs": [
    {
     "data": {
      "text/plain": [
       "전시상품명\n",
       "비비고 BEST 볶음밥 3종 특가[불고기 비빔밥 + 매콤부추고기볶음밥 + 간장버터장조림볶음밥]    2100\n",
       "햇반 쿡반불고기500+치즈500+버터장조림500+치즈닭갈비500G                     408\n",
       "CJ 햇반 쿡반 주먹밥 5종 골라담기                                     355\n",
       "비비고 사골곰탕 500g x18봉                                        77\n",
       "비비고 차돌깍두기볶음밥 410g x3개                                     26\n",
       "미역국 X 5개 + 사골곰탕 X2개+ 영양꼬리곰탕 1봉 증정                         24\n",
       "[CJ직배송][한박스]비비고 한우사골곰탕 500gx18개                           19\n",
       "[2+1][3+2]CJ제일제당 쁘띠첼 미초 석류+청포도+복숭아 外 골라담기                 18\n",
       "비비고 새우볶음밥 420g x3개                                        18\n",
       "비비고 왕교자1.05KG X 3봉 + 수제고기만두 증정                            16\n",
       "Name: 주문번호, dtype: int64"
      ]
     },
     "execution_count": 18,
     "metadata": {},
     "output_type": "execute_result"
    }
   ],
   "source": [
    "df6[df6[\"주문일\"]==9].groupby('전시상품명')['주문번호'].count().sort_values(ascending=False)[:10]\n",
    "#비비고 BEST 볶음밥 3종 특가 상품이 압도적으로 많음"
   ]
  },
  {
   "cell_type": "code",
   "execution_count": 19,
   "id": "e405fc51",
   "metadata": {},
   "outputs": [
    {
     "data": {
      "text/plain": [
       "표준카테고리\n",
       "냉장/냉동/간편식 > 즉석밥/죽/스프 > 볶음밥      2203\n",
       "냉장/냉동/간편식 > 즉석밥/죽/스프 > 즉석밥       432\n",
       "냉장/냉동/간편식 > 돈가스/고로케/너겟 > 돈가스     377\n",
       "냉장/냉동/간편식 > 국/탕/찌개 > 국/탕         147\n",
       "냉장/냉동/간편식 > 떡볶이/만두 > 만두           65\n",
       "가공식품 > 면류 > 기타면류                  31\n",
       "커피/생수/음료 > 주스/과즙음료 > 과일음료         22\n",
       "김치/반찬 > 김치 > 포기김치                 15\n",
       "가공식품 > 장류 > 고추장/초고추장              15\n",
       "가공식품 > 통조림/캔 > 닭가슴살통조림             7\n",
       "Name: 주문번호, dtype: int64"
      ]
     },
     "execution_count": 19,
     "metadata": {},
     "output_type": "execute_result"
    }
   ],
   "source": [
    "df6[df6[\"주문일\"]==9].groupby('표준카테고리')['주문번호'].count().sort_values(ascending=False)[:10]\n",
    "#볶음밥 종류를 세일했을 확률이 높음"
   ]
  },
  {
   "cell_type": "code",
   "execution_count": 20,
   "id": "78874509",
   "metadata": {},
   "outputs": [
    {
     "data": {
      "text/plain": [
       "전시상품명\n",
       "비비고 사골곰탕 500g x18봉                             1171\n",
       "미역국 X 5개 + 사골곰탕 X2개+ 영양꼬리곰탕 1봉 증정               273\n",
       "[CJ직배송][한박스]비비고 한우사골곰탕 500gx18개                 125\n",
       "육개장 X 5개 + 사골곰탕 X2개 +육개장300g 증정                  55\n",
       "비비고 진국육수 3종 + 한우사골곰탕 500G 구매시 육개장300g 1봉 증정      42\n",
       "사골곰탕 500G X 15봉                                  10\n",
       "해찬들 우리쌀로만든태양초골드고추장 1kg X2개                       10\n",
       "비비고 국물요리 BEST 9종                                  8\n",
       "[2+1][3+2]CJ제일제당 쁘띠첼 미초 석류+청포도+복숭아 外 골라담기         8\n",
       "CJ 해찬들 우리쌀로만든태양초골드고추장2kgP X 2개                    4\n",
       "Name: 주문번호, dtype: int64"
      ]
     },
     "execution_count": 20,
     "metadata": {},
     "output_type": "execute_result"
    }
   ],
   "source": [
    "df6[df6[\"주문일\"]==8].groupby('전시상품명')['주문번호'].count().sort_values(ascending=False)[:10]\n",
    "#전날인 8일에는 비비고 사골곰탕이 압도적"
   ]
  },
  {
   "cell_type": "code",
   "execution_count": 78,
   "id": "1c282189",
   "metadata": {},
   "outputs": [
    {
     "data": {
      "text/plain": [
       "전시상품명\n",
       "CJ 비비고 사골곰탕 500g x18봉                                13\n",
       "[CJ직배송]더건강한 닭가슴살 직화 통살구이100G X 6개                    10\n",
       "CJ 다담 된장찌개양념 530G X 4개                                6\n",
       "CJ 햇반 큰공기 300G x18                                    5\n",
       "[롯데ON] 비비고 주먹밥 4종/불고기500+치즈500+버터장조림500+치즈닭갈비500G     4\n",
       "[CJ직배송]비비고 주먹밥김치치즈500G X 2개                           4\n",
       "CJ 비비고 소고기장조림 125g*8개                                 4\n",
       "CJ 다담 매운버섯칼국수양념 150g x10                              3\n",
       "CJ 스팸 클래식 340gx4개                                     3\n",
       "CJ 비비고 새우볶음밥 420g x3                                  3\n",
       "Name: 주문번호, dtype: int64"
      ]
     },
     "execution_count": 78,
     "metadata": {},
     "output_type": "execute_result"
    }
   ],
   "source": [
    "df6[df6[\"주문일\"]==11].groupby('전시상품명')['주문번호'].count().sort_values(ascending=False)[:10]"
   ]
  },
  {
   "cell_type": "code",
   "execution_count": 23,
   "id": "5a3f6ba3",
   "metadata": {},
   "outputs": [
    {
     "data": {
      "text/plain": [
       "표준카테고리\n",
       "냉장/냉동/간편식 > 국/탕/찌개 > 국/탕        1718\n",
       "냉장/냉동/간편식 > 즉석밥/죽/스프 > 즉석밥        20\n",
       "가공식품 > 장류 > 고추장/초고추장              18\n",
       "커피/생수/음료 > 주스/과즙음료 > 과일음료         11\n",
       "냉장/냉동/간편식 > 떡볶이/만두 > 만두           11\n",
       "가공식품 > 면류 > 기타면류                   9\n",
       "냉장/냉동/간편식 > 돈가스/고로케/너겟 > 돈가스       8\n",
       "냉장/냉동/간편식 > 즉석밥/죽/스프 > 볶음밥         7\n",
       "가공식품 > 장류 > 된장/쌈장/청국장              4\n",
       "가공식품 > 통조림/캔 > 닭가슴살통조림             4\n",
       "Name: 주문번호, dtype: int64"
      ]
     },
     "execution_count": 23,
     "metadata": {},
     "output_type": "execute_result"
    }
   ],
   "source": [
    "df6[df6[\"주문일\"]==8].groupby('표준카테고리')['주문번호'].count().sort_values(ascending=False)[:10]\n",
    "#전날에는 국/탕 종류를 세일하지 않았을까?"
   ]
  },
  {
   "cell_type": "code",
   "execution_count": 24,
   "id": "58a2ebf1",
   "metadata": {},
   "outputs": [
    {
     "data": {
      "text/plain": [
       "유입매체\n",
       "APP       715\n",
       "MO WEB    994\n",
       "PC        113\n",
       "TABLET      2\n",
       "Name: 주문번호, dtype: int64"
      ]
     },
     "execution_count": 24,
     "metadata": {},
     "output_type": "execute_result"
    }
   ],
   "source": [
    "df6[df6[\"주문일\"]==25].groupby('유입매체')['주문번호'].count() #25일에는 app, mo web이 높음"
   ]
  },
  {
   "cell_type": "code",
   "execution_count": 25,
   "id": "0cadbc42",
   "metadata": {},
   "outputs": [
    {
     "data": {
      "text/plain": [
       "유입채널\n",
       "디폴트 채널상세                           1084\n",
       "유실 채널상세                             645\n",
       "[모바일]카카오톡                            18\n",
       "[네이버] PCS 가격비교_롯데ON                  17\n",
       "[롯데ON] MO Web 행사장_21.07_월간APP혜택       9\n",
       "[네이버] MO_브랜드검색_롯데ON                   8\n",
       "[샵백] CPS제휴_매출_롯데ON                    8\n",
       "[롯데ON][PUSH][[온세일 쿠폰] 마감임박⏱️]         5\n",
       "[모지세] CPS제휴_매출_롯데ON                   4\n",
       "(광고) 0625_온세일 종료임박                    4\n",
       "Name: 주문번호, dtype: int64"
      ]
     },
     "execution_count": 25,
     "metadata": {},
     "output_type": "execute_result"
    }
   ],
   "source": [
    "df6[df6[\"주문일\"]==25].groupby('유입채널')['주문번호'].count().sort_values(ascending=False)[:10]\n",
    "#다들 검색해서 들어오신듯"
   ]
  },
  {
   "cell_type": "code",
   "execution_count": 26,
   "id": "8c02ec56",
   "metadata": {},
   "outputs": [
    {
     "data": {
      "text/plain": [
       "회원구분\n",
       "LPOINT통합회원    1748\n",
       "소셜간편회원          70\n",
       "이메일간편회원          5\n",
       "휴대폰간편회원          1\n",
       "Name: 주문번호, dtype: int64"
      ]
     },
     "execution_count": 26,
     "metadata": {},
     "output_type": "execute_result"
    }
   ],
   "source": [
    "df6[df6[\"주문일\"]==25].groupby('회원구분')['주문번호'].count()"
   ]
  },
  {
   "cell_type": "code",
   "execution_count": 27,
   "id": "f35c1ad7",
   "metadata": {},
   "outputs": [
    {
     "data": {
      "text/plain": [
       "전시상품명\n",
       "[Lpoint 1,000P 지급]햇반 작은공기, 100% 현미밥 x 36개 특가 (1,000set 한정)    1495\n",
       "비비고 사골곰탕 500g x18봉                                              67\n",
       "[한박스]비비고 한우사골곰탕 500gx18개                                        39\n",
       "[CJ직배송]햇반 100%현미로 지은밥 130G x36개                                 21\n",
       "[복날 준비 특가]누룽지닭백숙죽/전복삼계죽/녹두닭죽 外 + 보양닭백숙죽 증정                      17\n",
       "[6+2]비비고 용기형 단호박죽/통단팥죽/흑임자죽 + 버섯야채죽 280GX2개 증정                  12\n",
       "CJ 햇반 쿡반 주먹밥 5종 골라담기                                            10\n",
       "비비고 왕교자 1.05KGx4개+비비고 찐만두 168gx1개                                6\n",
       "비비고 BEST 볶음밥 3종 특가[불고기 비빔밥 + 매콤부추고기볶음밥 + 간장버터장조림볶음밥]             6\n",
       "[CJ직배송]햇반작은공기130G x36개                                           6\n",
       "Name: 주문번호, dtype: int64"
      ]
     },
     "execution_count": 27,
     "metadata": {},
     "output_type": "execute_result"
    }
   ],
   "source": [
    "df6[df6[\"주문일\"]==25].groupby('전시상품명')['주문번호'].count().sort_values(ascending=False)[:10]\n",
    "#즉석밥 이벤트가 있었네"
   ]
  },
  {
   "cell_type": "code",
   "execution_count": 28,
   "id": "b295f4b7",
   "metadata": {},
   "outputs": [
    {
     "data": {
      "text/plain": [
       "표준카테고리\n",
       "냉장/냉동/간편식 > 즉석밥/죽/스프 > 즉석밥      1593\n",
       "냉장/냉동/간편식 > 국/탕/찌개 > 국/탕         115\n",
       "냉장/냉동/간편식 > 떡볶이/만두 > 만두           16\n",
       "냉장/냉동/간편식 > 돈가스/고로케/너겟 > 돈가스      15\n",
       "냉장/냉동/간편식 > 즉석밥/죽/스프 > 볶음밥        12\n",
       "커피/생수/음료 > 주스/과즙음료 > 과일음료         10\n",
       "가공식품 > 장류 > 된장/쌈장/청국장              9\n",
       "가공식품 > 통조림/캔 > 닭가슴살통조림             9\n",
       "가공식품 > 장류 > 고추장/초고추장               7\n",
       "가공식품 > 소스/드레싱 > 기타소스               6\n",
       "Name: 주문번호, dtype: int64"
      ]
     },
     "execution_count": 28,
     "metadata": {},
     "output_type": "execute_result"
    }
   ],
   "source": [
    "df6[df6[\"주문일\"]==25].groupby('표준카테고리')['주문번호'].count().sort_values(ascending=False)[:10]"
   ]
  },
  {
   "cell_type": "markdown",
   "id": "9d450c08",
   "metadata": {},
   "source": [
    "# 8월달 많은 이유 찾아보기"
   ]
  },
  {
   "cell_type": "code",
   "execution_count": 29,
   "id": "518419b3",
   "metadata": {},
   "outputs": [],
   "source": [
    "df8=df[df['주문월']==8]"
   ]
  },
  {
   "cell_type": "code",
   "execution_count": 30,
   "id": "4e28cbfd",
   "metadata": {},
   "outputs": [
    {
     "data": {
      "text/plain": [
       "유입매체\n",
       "APP       5455\n",
       "MO WEB     198\n",
       "PC         271\n",
       "Name: 주문번호, dtype: int64"
      ]
     },
     "execution_count": 30,
     "metadata": {},
     "output_type": "execute_result"
    }
   ],
   "source": [
    "df8[df8[\"주문일\"]==3].groupby('유입매체')['주문번호'].count()#app 비율 월등"
   ]
  },
  {
   "cell_type": "code",
   "execution_count": 31,
   "id": "8a22073e",
   "metadata": {},
   "outputs": [
    {
     "data": {
      "text/plain": [
       "유입채널\n",
       "디폴트 채널상세                           2967\n",
       "유실 채널상세                            2654\n",
       "[모바일]카카오톡                           134\n",
       "[롯데ON] MO Web 행사장_21.07_월간APP혜택      41\n",
       "[네이버] PCS 가격비교_롯데ON                  24\n",
       "webtoapp_coupon                      17\n",
       "[네이버] MO_브랜드검색_롯데ON                  12\n",
       "[롯데ON][알림톡][[롯데ON] 배송완료 안내]          10\n",
       "[롯데ON][알림톡][[롯데ON] 주문 완료 안내]         10\n",
       "[롯데ON][알림톡][[롯데ON] 상품 배송시작 안내]        7\n",
       "Name: 주문번호, dtype: int64"
      ]
     },
     "execution_count": 31,
     "metadata": {},
     "output_type": "execute_result"
    }
   ],
   "source": [
    "df8[df8[\"주문일\"]==3].groupby('유입채널')['주문번호'].count().sort_values(ascending=False)[:10]"
   ]
  },
  {
   "cell_type": "code",
   "execution_count": 32,
   "id": "1d73f5fa",
   "metadata": {},
   "outputs": [
    {
     "data": {
      "text/plain": [
       "회원구분\n",
       "LPOINT통합회원    5746\n",
       "법인회원            14\n",
       "소셜간편회원          61\n",
       "이메일간편회원        100\n",
       "휴대폰간편회원          3\n",
       "Name: 주문번호, dtype: int64"
      ]
     },
     "execution_count": 32,
     "metadata": {},
     "output_type": "execute_result"
    }
   ],
   "source": [
    "df8[df8[\"주문일\"]==3].groupby('회원구분')['주문번호'].count()"
   ]
  },
  {
   "cell_type": "code",
   "execution_count": 33,
   "id": "5f75a837",
   "metadata": {},
   "outputs": [
    {
     "data": {
      "text/plain": [
       "전시상품명\n",
       "CJ 스팸 25%라이트/ 스팸클래식 4개 골라담기 [ 택 1]            3583\n",
       "비비고 왕교자1.05KG X 2개                            1156\n",
       "비비고 사골곰탕 500g x18봉                             161\n",
       "[CJ직배송] New 햇반 210g*3입X 8개(총24개)               142\n",
       "[CJ직배송] CJ 햇반 백미 210g x 36개                    133\n",
       "[6+6+6 선착순 특가]다담 정통된장찌개/청국장찌개/순두부찌개 外 골라담기     118\n",
       "CJ 햇반 큰공기 300G x18                              82\n",
       "왕교자 1.05kgx2 + 김치왕교자 420gx2                     75\n",
       "CJ 햇반 쿡반 주먹밥 5종 골라담기                            36\n",
       "[햇반 솥반 X 서울체크인]햇반 솥반 7종                         26\n",
       "Name: 주문번호, dtype: int64"
      ]
     },
     "execution_count": 33,
     "metadata": {},
     "output_type": "execute_result"
    }
   ],
   "source": [
    "df8[df8[\"주문일\"]==3].groupby('전시상품명')['주문번호'].count().sort_values(ascending=False)[:10]"
   ]
  },
  {
   "cell_type": "code",
   "execution_count": 34,
   "id": "c8d9d1d5",
   "metadata": {},
   "outputs": [
    {
     "data": {
      "text/plain": [
       "표준카테고리\n",
       "가공식품 > 통조림/캔 > 햄통조림              3585\n",
       "냉장/냉동/간편식 > 떡볶이/만두 > 만두          1275\n",
       "냉장/냉동/간편식 > 즉석밥/죽/스프 > 즉석밥        497\n",
       "냉장/냉동/간편식 > 국/탕/찌개 > 국/탕          191\n",
       "가공식품 > 소스/드레싱 > 기타소스              128\n",
       "냉장/냉동/간편식 > 돈가스/고로케/너겟 > 돈가스       60\n",
       "가공식품 > 면류 > 기타면류                   24\n",
       "가공식품 > 장류 > 고추장/초고추장               17\n",
       "김치/반찬 > 김치 > 포기김치                  16\n",
       "냉장/냉동/간편식 > 햄/소시지/베이컨 > 햄/소시지      15\n",
       "Name: 주문번호, dtype: int64"
      ]
     },
     "execution_count": 34,
     "metadata": {},
     "output_type": "execute_result"
    }
   ],
   "source": [
    "df8[df8[\"주문일\"]==3].groupby('표준카테고리')['주문번호'].count().sort_values(ascending=False)[:10]\n",
    "#만두랑 햄 종류가 인기가 많았음"
   ]
  },
  {
   "cell_type": "code",
   "execution_count": 35,
   "id": "7da0a909",
   "metadata": {},
   "outputs": [
    {
     "data": {
      "text/plain": [
       "전시상품명\n",
       "미역국 X 5개 + 사골곰탕 X2개+ 육개장300g 2봉 증정(증정품 유통기한 22년 10월 7일까지)    1365\n",
       "[CJ직배송]백설100%통참깨참기름300ML X 2개                                 726\n",
       "CJ 햇반 쿡반 주먹밥 5종 골라담기                                          703\n",
       "[CJ직배송] CJ 햇반 백미 210g x 36개                                   124\n",
       "[컵반 배그에디션]이겼닭 오늘 저녁은 치킨이닭(컵반 1개당 G코인 100~10,000코인 랜덤 증정)      120\n",
       "해찬들 우리쌀로만든태양초골드고추장 1kg X2개                                     83\n",
       "[CJ직배송]스팸볶음밥 660G X3개                                          78\n",
       "[CJ직배송] New 햇반 210g*3입X 8개(총24개)                               71\n",
       "비비고 사골곰탕 500g x18봉                                             50\n",
       "볶음밥 3종 특가[불고기 비빔밥 + 매콤부추고기볶음밥 + 간장버터장조림볶음밥]                    48\n",
       "Name: 주문번호, dtype: int64"
      ]
     },
     "execution_count": 35,
     "metadata": {},
     "output_type": "execute_result"
    }
   ],
   "source": [
    "df8[df8[\"주문일\"]==6].groupby('전시상품명')['주문번호'].count().sort_values(ascending=False)[:10]"
   ]
  },
  {
   "cell_type": "code",
   "execution_count": 36,
   "id": "464471bd",
   "metadata": {},
   "outputs": [
    {
     "data": {
      "text/plain": [
       "표준카테고리\n",
       "냉장/냉동/간편식 > 국/탕/찌개 > 국/탕        1482\n",
       "가공식품 > 식용유/오일 > 카놀라유             726\n",
       "냉장/냉동/간편식 > 돈가스/고로케/너겟 > 돈가스     720\n",
       "냉장/냉동/간편식 > 즉석밥/죽/스프 > 즉석밥       384\n",
       "냉장/냉동/간편식 > 즉석밥/죽/스프 > 볶음밥       184\n",
       "가공식품 > 장류 > 고추장/초고추장              99\n",
       "냉장/냉동/간편식 > 떡볶이/만두 > 만두           68\n",
       "가공식품 > 통조림/캔 > 햄통조림               24\n",
       "가공식품 > 소스/드레싱 > 기타소스              15\n",
       "김치/반찬 > 김치 > 포기김치                 14\n",
       "Name: 주문번호, dtype: int64"
      ]
     },
     "execution_count": 36,
     "metadata": {},
     "output_type": "execute_result"
    }
   ],
   "source": [
    "df8[df8[\"주문일\"]==6].groupby('표준카테고리')['주문번호'].count().sort_values(ascending=False)[:10]\n",
    "#다들 세일을 어떻게 알고 들어오는지 분석해보자"
   ]
  },
  {
   "cell_type": "markdown",
   "id": "5b821ac9",
   "metadata": {},
   "source": [
    "# 세일을 어떻게 알고 사는지 알아보자"
   ]
  },
  {
   "cell_type": "code",
   "execution_count": 37,
   "id": "84a09d79",
   "metadata": {},
   "outputs": [],
   "source": [
    "#대부분 직접 검색해서 들어옴\n",
    "#판매량이 높은 날들을 보면 세일을 하거나 이벤트를 하는 곳에서 판매량이 몰리는걸 볼 수 있다."
   ]
  },
  {
   "cell_type": "code",
   "execution_count": 38,
   "id": "f65a0064",
   "metadata": {},
   "outputs": [],
   "source": [
    "# https://blog.naver.com/jtljt111/222765347099"
   ]
  },
  {
   "cell_type": "code",
   "execution_count": 39,
   "id": "d332d35e",
   "metadata": {},
   "outputs": [],
   "source": [
    "#롯데온에서 특가 상품이라고 광고해주면 입소문 타서 사람들이 사러오는 듯하다\n",
    "#특가 채널을 사용한게 아닌가라는 추측,,,,"
   ]
  },
  {
   "cell_type": "code",
   "execution_count": null,
   "id": "be6fb254",
   "metadata": {},
   "outputs": [],
   "source": []
  }
 ],
 "metadata": {
  "kernelspec": {
   "display_name": "Python 3 (ipykernel)",
   "language": "python",
   "name": "python3"
  },
  "language_info": {
   "codemirror_mode": {
    "name": "ipython",
    "version": 3
   },
   "file_extension": ".py",
   "mimetype": "text/x-python",
   "name": "python",
   "nbconvert_exporter": "python",
   "pygments_lexer": "ipython3",
   "version": "3.9.15"
  }
 },
 "nbformat": 4,
 "nbformat_minor": 5
}
