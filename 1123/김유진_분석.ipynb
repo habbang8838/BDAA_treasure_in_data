{
 "cells": [
  {
   "cell_type": "code",
   "execution_count": 1,
   "id": "e7dd3922",
   "metadata": {},
   "outputs": [],
   "source": [
    "import pandas as pd\n",
    "from datetime import datetime\n",
    "import matplotlib.pyplot as plt\n",
    "import seaborn as sns"
   ]
  },
  {
   "cell_type": "code",
   "execution_count": 2,
   "id": "6f5aa528",
   "metadata": {},
   "outputs": [],
   "source": [
    "from matplotlib import font_manager, rc\n",
    "import matplotlib\n",
    "import platform\n",
    "import matplotlib.pyplot as plt\n",
    "\n",
    "%matplotlib inline \n",
    "\n",
    "if platform.system() == 'Windows':\n",
    "    font_name = font_manager.FontProperties(fname=\"c:/Windows/Fonts/malgun.ttf\").get_name()\n",
    "    rc('font', family = font_name)\n",
    "else:\n",
    "    rc('font',family='AppleGothic')\n",
    "    \n",
    "matplotlib.rcParams['axes.unicode_minus']=False\n",
    "%matplotlib inline"
   ]
  },
  {
   "cell_type": "code",
   "execution_count": 3,
   "id": "87b968a7",
   "metadata": {},
   "outputs": [],
   "source": [
    "df=pd.read_excel(\"CJ제일제당 주문 데이터(전처리).xlsx\")\n",
    "#전처리 데이터 저장"
   ]
  },
  {
   "cell_type": "code",
   "execution_count": 4,
   "id": "22bb101b",
   "metadata": {},
   "outputs": [
    {
     "data": {
      "text/html": [
       "<div>\n",
       "<style scoped>\n",
       "    .dataframe tbody tr th:only-of-type {\n",
       "        vertical-align: middle;\n",
       "    }\n",
       "\n",
       "    .dataframe tbody tr th {\n",
       "        vertical-align: top;\n",
       "    }\n",
       "\n",
       "    .dataframe thead th {\n",
       "        text-align: right;\n",
       "    }\n",
       "</style>\n",
       "<table border=\"1\" class=\"dataframe\">\n",
       "  <thead>\n",
       "    <tr style=\"text-align: right;\">\n",
       "      <th></th>\n",
       "      <th>주문접수일시</th>\n",
       "      <th>주문번호</th>\n",
       "      <th>유입매체</th>\n",
       "      <th>주문구분</th>\n",
       "      <th>유입채널</th>\n",
       "      <th>회원구분</th>\n",
       "      <th>아이디</th>\n",
       "      <th>전시유입코드</th>\n",
       "      <th>상품주문번호</th>\n",
       "      <th>진행단계</th>\n",
       "      <th>...</th>\n",
       "      <th>전시단품명</th>\n",
       "      <th>판매자상품번호</th>\n",
       "      <th>판매자상품명</th>\n",
       "      <th>판매자단품번호</th>\n",
       "      <th>판매자단품명</th>\n",
       "      <th>판매가</th>\n",
       "      <th>수량</th>\n",
       "      <th>표준카테고리</th>\n",
       "      <th>판매액</th>\n",
       "      <th>주문월</th>\n",
       "    </tr>\n",
       "  </thead>\n",
       "  <tbody>\n",
       "    <tr>\n",
       "      <th>0</th>\n",
       "      <td>2022-01-01 00:38:13</td>\n",
       "      <td>2022010111866837</td>\n",
       "      <td>MO WEB</td>\n",
       "      <td>일반주문</td>\n",
       "      <td>[다음카카오] PCS 가격비교_롯데ON</td>\n",
       "      <td>LPOINT통합회원</td>\n",
       "      <td>kim6****</td>\n",
       "      <td>CHT</td>\n",
       "      <td>2022010111866837_1</td>\n",
       "      <td>배송완료</td>\n",
       "      <td>...</td>\n",
       "      <td>단일상품</td>\n",
       "      <td>LO1135162715</td>\n",
       "      <td>CJ 다담 된장찌개양념 530G x3</td>\n",
       "      <td>LO1135162715_1135162716</td>\n",
       "      <td>단일상품</td>\n",
       "      <td>16240</td>\n",
       "      <td>1</td>\n",
       "      <td>가공식품 &gt; 장류 &gt; 된장/쌈장/청국장</td>\n",
       "      <td>16240</td>\n",
       "      <td>1</td>\n",
       "    </tr>\n",
       "    <tr>\n",
       "      <th>1</th>\n",
       "      <td>2022-01-01 02:54:53</td>\n",
       "      <td>2022010111873735</td>\n",
       "      <td>APP</td>\n",
       "      <td>일반주문</td>\n",
       "      <td>디폴트 채널상세</td>\n",
       "      <td>LPOINT통합회원</td>\n",
       "      <td>savi****</td>\n",
       "      <td>RSI</td>\n",
       "      <td>2022010111873735_1</td>\n",
       "      <td>배송완료</td>\n",
       "      <td>...</td>\n",
       "      <td>단일상품</td>\n",
       "      <td>LO1495023715</td>\n",
       "      <td>비비고 국물요리 BEST 9종</td>\n",
       "      <td>LO1495023715_1495023716</td>\n",
       "      <td>단일상품</td>\n",
       "      <td>33240</td>\n",
       "      <td>1</td>\n",
       "      <td>냉장/냉동/간편식 &gt; 즉석밥/죽/스프 &gt; 즉석밥</td>\n",
       "      <td>33240</td>\n",
       "      <td>1</td>\n",
       "    </tr>\n",
       "    <tr>\n",
       "      <th>2</th>\n",
       "      <td>2022-01-01 02:56:35</td>\n",
       "      <td>2022010111873774</td>\n",
       "      <td>APP</td>\n",
       "      <td>일반주문</td>\n",
       "      <td>디폴트 채널상세</td>\n",
       "      <td>LPOINT통합회원</td>\n",
       "      <td>savi****</td>\n",
       "      <td>RSI</td>\n",
       "      <td>2022010111873774_1</td>\n",
       "      <td>배송완료</td>\n",
       "      <td>...</td>\n",
       "      <td>단일상품</td>\n",
       "      <td>LO1495023715</td>\n",
       "      <td>비비고 국물요리 BEST 9종</td>\n",
       "      <td>LO1495023715_1495023716</td>\n",
       "      <td>단일상품</td>\n",
       "      <td>33240</td>\n",
       "      <td>1</td>\n",
       "      <td>냉장/냉동/간편식 &gt; 즉석밥/죽/스프 &gt; 즉석밥</td>\n",
       "      <td>33240</td>\n",
       "      <td>1</td>\n",
       "    </tr>\n",
       "    <tr>\n",
       "      <th>3</th>\n",
       "      <td>2022-01-01 04:35:17</td>\n",
       "      <td>2022010111875631</td>\n",
       "      <td>MO WEB</td>\n",
       "      <td>일반주문</td>\n",
       "      <td>[다음카카오] PCS 가격비교_롯데ON</td>\n",
       "      <td>LPOINT통합회원</td>\n",
       "      <td>happ****</td>\n",
       "      <td>CHT</td>\n",
       "      <td>2022010111875631_1</td>\n",
       "      <td>배송완료</td>\n",
       "      <td>...</td>\n",
       "      <td>단일상품</td>\n",
       "      <td>LO1517718327</td>\n",
       "      <td>CJ 다담 된장찌개양념 530G X 4개</td>\n",
       "      <td>LO1517718327_1517718328</td>\n",
       "      <td>단일상품</td>\n",
       "      <td>21660</td>\n",
       "      <td>1</td>\n",
       "      <td>가공식품 &gt; 장류 &gt; 된장/쌈장/청국장</td>\n",
       "      <td>21660</td>\n",
       "      <td>1</td>\n",
       "    </tr>\n",
       "    <tr>\n",
       "      <th>4</th>\n",
       "      <td>2022-01-01 08:00:37</td>\n",
       "      <td>2022010111879668</td>\n",
       "      <td>APP</td>\n",
       "      <td>일반주문</td>\n",
       "      <td>디폴트 채널상세</td>\n",
       "      <td>LPOINT통합회원</td>\n",
       "      <td>cats****</td>\n",
       "      <td>SCH비비고추어탕</td>\n",
       "      <td>2022010111879668_2</td>\n",
       "      <td>배송완료</td>\n",
       "      <td>...</td>\n",
       "      <td>단일상품</td>\n",
       "      <td>LO1249549902</td>\n",
       "      <td>비비고 남도식 추어탕 460Gx5개</td>\n",
       "      <td>LO1249549902_1249549903</td>\n",
       "      <td>단일상품</td>\n",
       "      <td>23680</td>\n",
       "      <td>1</td>\n",
       "      <td>냉장/냉동/간편식 &gt; 국/탕/찌개 &gt; 국/탕</td>\n",
       "      <td>23680</td>\n",
       "      <td>1</td>\n",
       "    </tr>\n",
       "    <tr>\n",
       "      <th>...</th>\n",
       "      <td>...</td>\n",
       "      <td>...</td>\n",
       "      <td>...</td>\n",
       "      <td>...</td>\n",
       "      <td>...</td>\n",
       "      <td>...</td>\n",
       "      <td>...</td>\n",
       "      <td>...</td>\n",
       "      <td>...</td>\n",
       "      <td>...</td>\n",
       "      <td>...</td>\n",
       "      <td>...</td>\n",
       "      <td>...</td>\n",
       "      <td>...</td>\n",
       "      <td>...</td>\n",
       "      <td>...</td>\n",
       "      <td>...</td>\n",
       "      <td>...</td>\n",
       "      <td>...</td>\n",
       "      <td>...</td>\n",
       "      <td>...</td>\n",
       "    </tr>\n",
       "    <tr>\n",
       "      <th>93315</th>\n",
       "      <td>2022-09-30 23:52:25</td>\n",
       "      <td>2022093018638708</td>\n",
       "      <td>MO WEB</td>\n",
       "      <td>일반주문</td>\n",
       "      <td>[네이버] PCS 가격비교_롯데ON</td>\n",
       "      <td>LPOINT통합회원</td>\n",
       "      <td>cha2844</td>\n",
       "      <td>CHT</td>\n",
       "      <td>2022093018638708_1</td>\n",
       "      <td>배송완료</td>\n",
       "      <td>...</td>\n",
       "      <td>단일상품</td>\n",
       "      <td>LO1520770627</td>\n",
       "      <td>[CJ직배송]더건강한 닭가슴살 직화 스테이크100G X 6개</td>\n",
       "      <td>LO1520770627_1520770628</td>\n",
       "      <td>단일상품</td>\n",
       "      <td>17400</td>\n",
       "      <td>1</td>\n",
       "      <td>가공식품 &gt; 통조림/캔 &gt; 닭가슴살통조림</td>\n",
       "      <td>17400</td>\n",
       "      <td>9</td>\n",
       "    </tr>\n",
       "    <tr>\n",
       "      <th>93316</th>\n",
       "      <td>2022-09-30 23:52:41</td>\n",
       "      <td>2022093018638709</td>\n",
       "      <td>APP</td>\n",
       "      <td>일반주문</td>\n",
       "      <td>디폴트 채널상세</td>\n",
       "      <td>LPOINT통합회원</td>\n",
       "      <td>wocns2</td>\n",
       "      <td>CHT</td>\n",
       "      <td>2022093018638709_1</td>\n",
       "      <td>배송완료</td>\n",
       "      <td>...</td>\n",
       "      <td>비비고 사골곰탕 500g x18봉</td>\n",
       "      <td>LO1978869746</td>\n",
       "      <td>[L포인트 3000p 증정]★LAST DAY EVENT★</td>\n",
       "      <td>LO1978869746_1978869755</td>\n",
       "      <td>비비고 사골곰탕 500g x18봉</td>\n",
       "      <td>24500</td>\n",
       "      <td>2</td>\n",
       "      <td>냉장/냉동/간편식 &gt; 국/탕/찌개 &gt; 국/탕</td>\n",
       "      <td>49000</td>\n",
       "      <td>9</td>\n",
       "    </tr>\n",
       "    <tr>\n",
       "      <th>93317</th>\n",
       "      <td>2022-09-30 23:56:28</td>\n",
       "      <td>2022093018639349</td>\n",
       "      <td>APP</td>\n",
       "      <td>일반주문</td>\n",
       "      <td>디폴트 채널상세</td>\n",
       "      <td>LPOINT통합회원</td>\n",
       "      <td>xraydos</td>\n",
       "      <td>RSI</td>\n",
       "      <td>2022093018639349_1</td>\n",
       "      <td>배송완료</td>\n",
       "      <td>...</td>\n",
       "      <td>햇반 매일오곡밥 210Gx24개</td>\n",
       "      <td>LO1978869746</td>\n",
       "      <td>[L포인트 3000p 증정]★LAST DAY EVENT★</td>\n",
       "      <td>LO1978869746_1978869753</td>\n",
       "      <td>햇반 매일오곡밥 210Gx24개</td>\n",
       "      <td>37000</td>\n",
       "      <td>1</td>\n",
       "      <td>냉장/냉동/간편식 &gt; 국/탕/찌개 &gt; 국/탕</td>\n",
       "      <td>37000</td>\n",
       "      <td>9</td>\n",
       "    </tr>\n",
       "    <tr>\n",
       "      <th>93318</th>\n",
       "      <td>2022-09-30 23:58:52</td>\n",
       "      <td>2022093018639892</td>\n",
       "      <td>APP</td>\n",
       "      <td>일반주문</td>\n",
       "      <td>[링크프라이스] CPS_롯데온</td>\n",
       "      <td>LPOINT통합회원</td>\n",
       "      <td>badamit</td>\n",
       "      <td>NaN</td>\n",
       "      <td>2022093018639892_1</td>\n",
       "      <td>배송완료</td>\n",
       "      <td>...</td>\n",
       "      <td>프리미엄 육수세트 18봉[한우사골곰탕+진국육수 3종]</td>\n",
       "      <td>LO1978869746</td>\n",
       "      <td>[L포인트 3000p 증정]★LAST DAY EVENT★</td>\n",
       "      <td>LO1978869746_1978869749</td>\n",
       "      <td>프리미엄 육수세트 18봉[한우사골곰탕+진국육수 3종]</td>\n",
       "      <td>38000</td>\n",
       "      <td>1</td>\n",
       "      <td>냉장/냉동/간편식 &gt; 국/탕/찌개 &gt; 국/탕</td>\n",
       "      <td>38000</td>\n",
       "      <td>9</td>\n",
       "    </tr>\n",
       "    <tr>\n",
       "      <th>93319</th>\n",
       "      <td>2022-09-30 23:59:27</td>\n",
       "      <td>2022093018640098</td>\n",
       "      <td>APP</td>\n",
       "      <td>일반주문</td>\n",
       "      <td>디폴트 채널상세</td>\n",
       "      <td>LPOINT통합회원</td>\n",
       "      <td>simsimfreeya</td>\n",
       "      <td>SCH사골곰탕</td>\n",
       "      <td>2022093018640098_1</td>\n",
       "      <td>배송완료</td>\n",
       "      <td>...</td>\n",
       "      <td>비비고 사골곰탕 500g x18봉</td>\n",
       "      <td>LO1978869746</td>\n",
       "      <td>[L포인트 3000p 증정]★LAST DAY EVENT★</td>\n",
       "      <td>LO1978869746_1978869755</td>\n",
       "      <td>비비고 사골곰탕 500g x18봉</td>\n",
       "      <td>24500</td>\n",
       "      <td>2</td>\n",
       "      <td>냉장/냉동/간편식 &gt; 국/탕/찌개 &gt; 국/탕</td>\n",
       "      <td>49000</td>\n",
       "      <td>9</td>\n",
       "    </tr>\n",
       "  </tbody>\n",
       "</table>\n",
       "<p>93320 rows × 25 columns</p>\n",
       "</div>"
      ],
      "text/plain": [
       "                   주문접수일시              주문번호    유입매체  주문구분  \\\n",
       "0     2022-01-01 00:38:13  2022010111866837  MO WEB  일반주문   \n",
       "1     2022-01-01 02:54:53  2022010111873735     APP  일반주문   \n",
       "2     2022-01-01 02:56:35  2022010111873774     APP  일반주문   \n",
       "3     2022-01-01 04:35:17  2022010111875631  MO WEB  일반주문   \n",
       "4     2022-01-01 08:00:37  2022010111879668     APP  일반주문   \n",
       "...                   ...               ...     ...   ...   \n",
       "93315 2022-09-30 23:52:25  2022093018638708  MO WEB  일반주문   \n",
       "93316 2022-09-30 23:52:41  2022093018638709     APP  일반주문   \n",
       "93317 2022-09-30 23:56:28  2022093018639349     APP  일반주문   \n",
       "93318 2022-09-30 23:58:52  2022093018639892     APP  일반주문   \n",
       "93319 2022-09-30 23:59:27  2022093018640098     APP  일반주문   \n",
       "\n",
       "                        유입채널        회원구분           아이디     전시유입코드  \\\n",
       "0      [다음카카오] PCS 가격비교_롯데ON  LPOINT통합회원      kim6****        CHT   \n",
       "1                   디폴트 채널상세  LPOINT통합회원      savi****        RSI   \n",
       "2                   디폴트 채널상세  LPOINT통합회원      savi****        RSI   \n",
       "3      [다음카카오] PCS 가격비교_롯데ON  LPOINT통합회원      happ****        CHT   \n",
       "4                   디폴트 채널상세  LPOINT통합회원      cats****  SCH비비고추어탕   \n",
       "...                      ...         ...           ...        ...   \n",
       "93315    [네이버] PCS 가격비교_롯데ON  LPOINT통합회원       cha2844        CHT   \n",
       "93316               디폴트 채널상세  LPOINT통합회원        wocns2        CHT   \n",
       "93317               디폴트 채널상세  LPOINT통합회원       xraydos        RSI   \n",
       "93318       [링크프라이스] CPS_롯데온  LPOINT통합회원       badamit        NaN   \n",
       "93319               디폴트 채널상세  LPOINT통합회원  simsimfreeya    SCH사골곰탕   \n",
       "\n",
       "                   상품주문번호  진행단계  ...                          전시단품명  \\\n",
       "0      2022010111866837_1  배송완료  ...                           단일상품   \n",
       "1      2022010111873735_1  배송완료  ...                           단일상품   \n",
       "2      2022010111873774_1  배송완료  ...                           단일상품   \n",
       "3      2022010111875631_1  배송완료  ...                           단일상품   \n",
       "4      2022010111879668_2  배송완료  ...                           단일상품   \n",
       "...                   ...   ...  ...                            ...   \n",
       "93315  2022093018638708_1  배송완료  ...                           단일상품   \n",
       "93316  2022093018638709_1  배송완료  ...             비비고 사골곰탕 500g x18봉   \n",
       "93317  2022093018639349_1  배송완료  ...              햇반 매일오곡밥 210Gx24개   \n",
       "93318  2022093018639892_1  배송완료  ...  프리미엄 육수세트 18봉[한우사골곰탕+진국육수 3종]   \n",
       "93319  2022093018640098_1  배송완료  ...             비비고 사골곰탕 500g x18봉   \n",
       "\n",
       "            판매자상품번호                             판매자상품명  \\\n",
       "0      LO1135162715               CJ 다담 된장찌개양념 530G x3   \n",
       "1      LO1495023715                   비비고 국물요리 BEST 9종   \n",
       "2      LO1495023715                   비비고 국물요리 BEST 9종   \n",
       "3      LO1517718327             CJ 다담 된장찌개양념 530G X 4개   \n",
       "4      LO1249549902                비비고 남도식 추어탕 460Gx5개   \n",
       "...             ...                                ...   \n",
       "93315  LO1520770627  [CJ직배송]더건강한 닭가슴살 직화 스테이크100G X 6개   \n",
       "93316  LO1978869746    [L포인트 3000p 증정]★LAST DAY EVENT★   \n",
       "93317  LO1978869746    [L포인트 3000p 증정]★LAST DAY EVENT★   \n",
       "93318  LO1978869746    [L포인트 3000p 증정]★LAST DAY EVENT★   \n",
       "93319  LO1978869746    [L포인트 3000p 증정]★LAST DAY EVENT★   \n",
       "\n",
       "                       판매자단품번호                         판매자단품명    판매가 수량  \\\n",
       "0      LO1135162715_1135162716                           단일상품  16240  1   \n",
       "1      LO1495023715_1495023716                           단일상품  33240  1   \n",
       "2      LO1495023715_1495023716                           단일상품  33240  1   \n",
       "3      LO1517718327_1517718328                           단일상품  21660  1   \n",
       "4      LO1249549902_1249549903                           단일상품  23680  1   \n",
       "...                        ...                            ...    ... ..   \n",
       "93315  LO1520770627_1520770628                           단일상품  17400  1   \n",
       "93316  LO1978869746_1978869755             비비고 사골곰탕 500g x18봉  24500  2   \n",
       "93317  LO1978869746_1978869753              햇반 매일오곡밥 210Gx24개  37000  1   \n",
       "93318  LO1978869746_1978869749  프리미엄 육수세트 18봉[한우사골곰탕+진국육수 3종]  38000  1   \n",
       "93319  LO1978869746_1978869755             비비고 사골곰탕 500g x18봉  24500  2   \n",
       "\n",
       "                           표준카테고리    판매액 주문월  \n",
       "0           가공식품 > 장류 > 된장/쌈장/청국장  16240   1  \n",
       "1      냉장/냉동/간편식 > 즉석밥/죽/스프 > 즉석밥  33240   1  \n",
       "2      냉장/냉동/간편식 > 즉석밥/죽/스프 > 즉석밥  33240   1  \n",
       "3           가공식품 > 장류 > 된장/쌈장/청국장  21660   1  \n",
       "4        냉장/냉동/간편식 > 국/탕/찌개 > 국/탕  23680   1  \n",
       "...                           ...    ...  ..  \n",
       "93315      가공식품 > 통조림/캔 > 닭가슴살통조림  17400   9  \n",
       "93316    냉장/냉동/간편식 > 국/탕/찌개 > 국/탕  49000   9  \n",
       "93317    냉장/냉동/간편식 > 국/탕/찌개 > 국/탕  37000   9  \n",
       "93318    냉장/냉동/간편식 > 국/탕/찌개 > 국/탕  38000   9  \n",
       "93319    냉장/냉동/간편식 > 국/탕/찌개 > 국/탕  49000   9  \n",
       "\n",
       "[93320 rows x 25 columns]"
      ]
     },
     "execution_count": 4,
     "metadata": {},
     "output_type": "execute_result"
    }
   ],
   "source": [
    "df #93320 rows × 25 columns"
   ]
  },
  {
   "cell_type": "code",
   "execution_count": 5,
   "id": "23c1d700",
   "metadata": {},
   "outputs": [
    {
     "name": "stdout",
     "output_type": "stream",
     "text": [
      "<class 'pandas.core.frame.DataFrame'>\n",
      "RangeIndex: 93320 entries, 0 to 93319\n",
      "Data columns (total 25 columns):\n",
      " #   Column   Non-Null Count  Dtype         \n",
      "---  ------   --------------  -----         \n",
      " 0   주문접수일시   93320 non-null  datetime64[ns]\n",
      " 1   주문번호     93320 non-null  int64         \n",
      " 2   유입매체     93320 non-null  object        \n",
      " 3   주문구분     93320 non-null  object        \n",
      " 4   유입채널     93320 non-null  object        \n",
      " 5   회원구분     93320 non-null  object        \n",
      " 6   아이디      89959 non-null  object        \n",
      " 7   전시유입코드   81662 non-null  object        \n",
      " 8   상품주문번호   93320 non-null  object        \n",
      " 9   진행단계     93320 non-null  object        \n",
      " 10  주문완료일시   93320 non-null  datetime64[ns]\n",
      " 11  구매확정일시   93320 non-null  datetime64[ns]\n",
      " 12  출고지시일    93263 non-null  datetime64[ns]\n",
      " 13  상태처리일시   93320 non-null  datetime64[ns]\n",
      " 14  전시상품명    93320 non-null  object        \n",
      " 15  전시단품명    93320 non-null  object        \n",
      " 16  판매자상품번호  93320 non-null  object        \n",
      " 17  판매자상품명   93320 non-null  object        \n",
      " 18  판매자단품번호  93320 non-null  object        \n",
      " 19  판매자단품명   93320 non-null  object        \n",
      " 20  판매가      93320 non-null  int64         \n",
      " 21  수량       93320 non-null  int64         \n",
      " 22  표준카테고리   93320 non-null  object        \n",
      " 23  판매액      93320 non-null  int64         \n",
      " 24  주문월      93320 non-null  int64         \n",
      "dtypes: datetime64[ns](5), int64(5), object(15)\n",
      "memory usage: 17.8+ MB\n"
     ]
    }
   ],
   "source": [
    "df.info()"
   ]
  },
  {
   "cell_type": "markdown",
   "id": "1afc0320",
   "metadata": {},
   "source": [
    "# 각 월의 주문양 많았던 일자 분석"
   ]
  },
  {
   "cell_type": "code",
   "execution_count": 6,
   "id": "95177ec9",
   "metadata": {},
   "outputs": [],
   "source": [
    "df['주문일']=df[\"주문접수일시\"].dt.day #주문일 컬럼 생성"
   ]
  },
  {
   "cell_type": "code",
   "execution_count": 7,
   "id": "bb68e679",
   "metadata": {},
   "outputs": [
    {
     "data": {
      "text/html": [
       "<div>\n",
       "<style scoped>\n",
       "    .dataframe tbody tr th:only-of-type {\n",
       "        vertical-align: middle;\n",
       "    }\n",
       "\n",
       "    .dataframe tbody tr th {\n",
       "        vertical-align: top;\n",
       "    }\n",
       "\n",
       "    .dataframe thead th {\n",
       "        text-align: right;\n",
       "    }\n",
       "</style>\n",
       "<table border=\"1\" class=\"dataframe\">\n",
       "  <thead>\n",
       "    <tr style=\"text-align: right;\">\n",
       "      <th></th>\n",
       "      <th>주문접수일시</th>\n",
       "      <th>주문번호</th>\n",
       "      <th>유입매체</th>\n",
       "      <th>주문구분</th>\n",
       "      <th>유입채널</th>\n",
       "      <th>회원구분</th>\n",
       "      <th>아이디</th>\n",
       "      <th>전시유입코드</th>\n",
       "      <th>상품주문번호</th>\n",
       "      <th>진행단계</th>\n",
       "      <th>...</th>\n",
       "      <th>판매자상품번호</th>\n",
       "      <th>판매자상품명</th>\n",
       "      <th>판매자단품번호</th>\n",
       "      <th>판매자단품명</th>\n",
       "      <th>판매가</th>\n",
       "      <th>수량</th>\n",
       "      <th>표준카테고리</th>\n",
       "      <th>판매액</th>\n",
       "      <th>주문월</th>\n",
       "      <th>주문일</th>\n",
       "    </tr>\n",
       "  </thead>\n",
       "  <tbody>\n",
       "    <tr>\n",
       "      <th>0</th>\n",
       "      <td>2022-01-01 00:38:13</td>\n",
       "      <td>2022010111866837</td>\n",
       "      <td>MO WEB</td>\n",
       "      <td>일반주문</td>\n",
       "      <td>[다음카카오] PCS 가격비교_롯데ON</td>\n",
       "      <td>LPOINT통합회원</td>\n",
       "      <td>kim6****</td>\n",
       "      <td>CHT</td>\n",
       "      <td>2022010111866837_1</td>\n",
       "      <td>배송완료</td>\n",
       "      <td>...</td>\n",
       "      <td>LO1135162715</td>\n",
       "      <td>CJ 다담 된장찌개양념 530G x3</td>\n",
       "      <td>LO1135162715_1135162716</td>\n",
       "      <td>단일상품</td>\n",
       "      <td>16240</td>\n",
       "      <td>1</td>\n",
       "      <td>가공식품 &gt; 장류 &gt; 된장/쌈장/청국장</td>\n",
       "      <td>16240</td>\n",
       "      <td>1</td>\n",
       "      <td>1</td>\n",
       "    </tr>\n",
       "    <tr>\n",
       "      <th>1</th>\n",
       "      <td>2022-01-01 02:54:53</td>\n",
       "      <td>2022010111873735</td>\n",
       "      <td>APP</td>\n",
       "      <td>일반주문</td>\n",
       "      <td>디폴트 채널상세</td>\n",
       "      <td>LPOINT통합회원</td>\n",
       "      <td>savi****</td>\n",
       "      <td>RSI</td>\n",
       "      <td>2022010111873735_1</td>\n",
       "      <td>배송완료</td>\n",
       "      <td>...</td>\n",
       "      <td>LO1495023715</td>\n",
       "      <td>비비고 국물요리 BEST 9종</td>\n",
       "      <td>LO1495023715_1495023716</td>\n",
       "      <td>단일상품</td>\n",
       "      <td>33240</td>\n",
       "      <td>1</td>\n",
       "      <td>냉장/냉동/간편식 &gt; 즉석밥/죽/스프 &gt; 즉석밥</td>\n",
       "      <td>33240</td>\n",
       "      <td>1</td>\n",
       "      <td>1</td>\n",
       "    </tr>\n",
       "    <tr>\n",
       "      <th>2</th>\n",
       "      <td>2022-01-01 02:56:35</td>\n",
       "      <td>2022010111873774</td>\n",
       "      <td>APP</td>\n",
       "      <td>일반주문</td>\n",
       "      <td>디폴트 채널상세</td>\n",
       "      <td>LPOINT통합회원</td>\n",
       "      <td>savi****</td>\n",
       "      <td>RSI</td>\n",
       "      <td>2022010111873774_1</td>\n",
       "      <td>배송완료</td>\n",
       "      <td>...</td>\n",
       "      <td>LO1495023715</td>\n",
       "      <td>비비고 국물요리 BEST 9종</td>\n",
       "      <td>LO1495023715_1495023716</td>\n",
       "      <td>단일상품</td>\n",
       "      <td>33240</td>\n",
       "      <td>1</td>\n",
       "      <td>냉장/냉동/간편식 &gt; 즉석밥/죽/스프 &gt; 즉석밥</td>\n",
       "      <td>33240</td>\n",
       "      <td>1</td>\n",
       "      <td>1</td>\n",
       "    </tr>\n",
       "    <tr>\n",
       "      <th>3</th>\n",
       "      <td>2022-01-01 04:35:17</td>\n",
       "      <td>2022010111875631</td>\n",
       "      <td>MO WEB</td>\n",
       "      <td>일반주문</td>\n",
       "      <td>[다음카카오] PCS 가격비교_롯데ON</td>\n",
       "      <td>LPOINT통합회원</td>\n",
       "      <td>happ****</td>\n",
       "      <td>CHT</td>\n",
       "      <td>2022010111875631_1</td>\n",
       "      <td>배송완료</td>\n",
       "      <td>...</td>\n",
       "      <td>LO1517718327</td>\n",
       "      <td>CJ 다담 된장찌개양념 530G X 4개</td>\n",
       "      <td>LO1517718327_1517718328</td>\n",
       "      <td>단일상품</td>\n",
       "      <td>21660</td>\n",
       "      <td>1</td>\n",
       "      <td>가공식품 &gt; 장류 &gt; 된장/쌈장/청국장</td>\n",
       "      <td>21660</td>\n",
       "      <td>1</td>\n",
       "      <td>1</td>\n",
       "    </tr>\n",
       "    <tr>\n",
       "      <th>4</th>\n",
       "      <td>2022-01-01 08:00:37</td>\n",
       "      <td>2022010111879668</td>\n",
       "      <td>APP</td>\n",
       "      <td>일반주문</td>\n",
       "      <td>디폴트 채널상세</td>\n",
       "      <td>LPOINT통합회원</td>\n",
       "      <td>cats****</td>\n",
       "      <td>SCH비비고추어탕</td>\n",
       "      <td>2022010111879668_2</td>\n",
       "      <td>배송완료</td>\n",
       "      <td>...</td>\n",
       "      <td>LO1249549902</td>\n",
       "      <td>비비고 남도식 추어탕 460Gx5개</td>\n",
       "      <td>LO1249549902_1249549903</td>\n",
       "      <td>단일상품</td>\n",
       "      <td>23680</td>\n",
       "      <td>1</td>\n",
       "      <td>냉장/냉동/간편식 &gt; 국/탕/찌개 &gt; 국/탕</td>\n",
       "      <td>23680</td>\n",
       "      <td>1</td>\n",
       "      <td>1</td>\n",
       "    </tr>\n",
       "  </tbody>\n",
       "</table>\n",
       "<p>5 rows × 26 columns</p>\n",
       "</div>"
      ],
      "text/plain": [
       "               주문접수일시              주문번호    유입매체  주문구분                   유입채널  \\\n",
       "0 2022-01-01 00:38:13  2022010111866837  MO WEB  일반주문  [다음카카오] PCS 가격비교_롯데ON   \n",
       "1 2022-01-01 02:54:53  2022010111873735     APP  일반주문               디폴트 채널상세   \n",
       "2 2022-01-01 02:56:35  2022010111873774     APP  일반주문               디폴트 채널상세   \n",
       "3 2022-01-01 04:35:17  2022010111875631  MO WEB  일반주문  [다음카카오] PCS 가격비교_롯데ON   \n",
       "4 2022-01-01 08:00:37  2022010111879668     APP  일반주문               디폴트 채널상세   \n",
       "\n",
       "         회원구분       아이디     전시유입코드              상품주문번호  진행단계  ...  \\\n",
       "0  LPOINT통합회원  kim6****        CHT  2022010111866837_1  배송완료  ...   \n",
       "1  LPOINT통합회원  savi****        RSI  2022010111873735_1  배송완료  ...   \n",
       "2  LPOINT통합회원  savi****        RSI  2022010111873774_1  배송완료  ...   \n",
       "3  LPOINT통합회원  happ****        CHT  2022010111875631_1  배송완료  ...   \n",
       "4  LPOINT통합회원  cats****  SCH비비고추어탕  2022010111879668_2  배송완료  ...   \n",
       "\n",
       "        판매자상품번호                  판매자상품명                  판매자단품번호 판매자단품명  \\\n",
       "0  LO1135162715    CJ 다담 된장찌개양념 530G x3  LO1135162715_1135162716   단일상품   \n",
       "1  LO1495023715        비비고 국물요리 BEST 9종  LO1495023715_1495023716   단일상품   \n",
       "2  LO1495023715        비비고 국물요리 BEST 9종  LO1495023715_1495023716   단일상품   \n",
       "3  LO1517718327  CJ 다담 된장찌개양념 530G X 4개  LO1517718327_1517718328   단일상품   \n",
       "4  LO1249549902     비비고 남도식 추어탕 460Gx5개  LO1249549902_1249549903   단일상품   \n",
       "\n",
       "     판매가 수량                      표준카테고리    판매액 주문월 주문일  \n",
       "0  16240  1       가공식품 > 장류 > 된장/쌈장/청국장  16240   1   1  \n",
       "1  33240  1  냉장/냉동/간편식 > 즉석밥/죽/스프 > 즉석밥  33240   1   1  \n",
       "2  33240  1  냉장/냉동/간편식 > 즉석밥/죽/스프 > 즉석밥  33240   1   1  \n",
       "3  21660  1       가공식품 > 장류 > 된장/쌈장/청국장  21660   1   1  \n",
       "4  23680  1    냉장/냉동/간편식 > 국/탕/찌개 > 국/탕  23680   1   1  \n",
       "\n",
       "[5 rows x 26 columns]"
      ]
     },
     "execution_count": 7,
     "metadata": {},
     "output_type": "execute_result"
    }
   ],
   "source": [
    "df.head()"
   ]
  },
  {
   "cell_type": "code",
   "execution_count": 8,
   "id": "fb798a3d",
   "metadata": {},
   "outputs": [],
   "source": [
    "df_day=df.groupby(['주문월','주문일']).agg(count=('주문일','count'))"
   ]
  },
  {
   "cell_type": "code",
   "execution_count": 9,
   "id": "9cf75aad",
   "metadata": {},
   "outputs": [
    {
     "data": {
      "text/html": [
       "<div>\n",
       "<style scoped>\n",
       "    .dataframe tbody tr th:only-of-type {\n",
       "        vertical-align: middle;\n",
       "    }\n",
       "\n",
       "    .dataframe tbody tr th {\n",
       "        vertical-align: top;\n",
       "    }\n",
       "\n",
       "    .dataframe thead th {\n",
       "        text-align: right;\n",
       "    }\n",
       "</style>\n",
       "<table border=\"1\" class=\"dataframe\">\n",
       "  <thead>\n",
       "    <tr style=\"text-align: right;\">\n",
       "      <th></th>\n",
       "      <th></th>\n",
       "      <th>count</th>\n",
       "    </tr>\n",
       "    <tr>\n",
       "      <th>주문월</th>\n",
       "      <th>주문일</th>\n",
       "      <th></th>\n",
       "    </tr>\n",
       "  </thead>\n",
       "  <tbody>\n",
       "    <tr>\n",
       "      <th rowspan=\"30\" valign=\"top\">6</th>\n",
       "      <th>1</th>\n",
       "      <td>85</td>\n",
       "    </tr>\n",
       "    <tr>\n",
       "      <th>2</th>\n",
       "      <td>80</td>\n",
       "    </tr>\n",
       "    <tr>\n",
       "      <th>3</th>\n",
       "      <td>63</td>\n",
       "    </tr>\n",
       "    <tr>\n",
       "      <th>4</th>\n",
       "      <td>40</td>\n",
       "    </tr>\n",
       "    <tr>\n",
       "      <th>5</th>\n",
       "      <td>48</td>\n",
       "    </tr>\n",
       "    <tr>\n",
       "      <th>6</th>\n",
       "      <td>438</td>\n",
       "    </tr>\n",
       "    <tr>\n",
       "      <th>7</th>\n",
       "      <td>555</td>\n",
       "    </tr>\n",
       "    <tr>\n",
       "      <th>8</th>\n",
       "      <td>1837</td>\n",
       "    </tr>\n",
       "    <tr>\n",
       "      <th>9</th>\n",
       "      <td>3378</td>\n",
       "    </tr>\n",
       "    <tr>\n",
       "      <th>10</th>\n",
       "      <td>681</td>\n",
       "    </tr>\n",
       "    <tr>\n",
       "      <th>11</th>\n",
       "      <td>324</td>\n",
       "    </tr>\n",
       "    <tr>\n",
       "      <th>12</th>\n",
       "      <td>1936</td>\n",
       "    </tr>\n",
       "    <tr>\n",
       "      <th>13</th>\n",
       "      <td>416</td>\n",
       "    </tr>\n",
       "    <tr>\n",
       "      <th>14</th>\n",
       "      <td>141</td>\n",
       "    </tr>\n",
       "    <tr>\n",
       "      <th>15</th>\n",
       "      <td>135</td>\n",
       "    </tr>\n",
       "    <tr>\n",
       "      <th>16</th>\n",
       "      <td>253</td>\n",
       "    </tr>\n",
       "    <tr>\n",
       "      <th>17</th>\n",
       "      <td>88</td>\n",
       "    </tr>\n",
       "    <tr>\n",
       "      <th>18</th>\n",
       "      <td>441</td>\n",
       "    </tr>\n",
       "    <tr>\n",
       "      <th>19</th>\n",
       "      <td>184</td>\n",
       "    </tr>\n",
       "    <tr>\n",
       "      <th>20</th>\n",
       "      <td>822</td>\n",
       "    </tr>\n",
       "    <tr>\n",
       "      <th>21</th>\n",
       "      <td>1026</td>\n",
       "    </tr>\n",
       "    <tr>\n",
       "      <th>22</th>\n",
       "      <td>652</td>\n",
       "    </tr>\n",
       "    <tr>\n",
       "      <th>23</th>\n",
       "      <td>915</td>\n",
       "    </tr>\n",
       "    <tr>\n",
       "      <th>24</th>\n",
       "      <td>501</td>\n",
       "    </tr>\n",
       "    <tr>\n",
       "      <th>25</th>\n",
       "      <td>1824</td>\n",
       "    </tr>\n",
       "    <tr>\n",
       "      <th>26</th>\n",
       "      <td>1025</td>\n",
       "    </tr>\n",
       "    <tr>\n",
       "      <th>27</th>\n",
       "      <td>1138</td>\n",
       "    </tr>\n",
       "    <tr>\n",
       "      <th>28</th>\n",
       "      <td>414</td>\n",
       "    </tr>\n",
       "    <tr>\n",
       "      <th>29</th>\n",
       "      <td>382</td>\n",
       "    </tr>\n",
       "    <tr>\n",
       "      <th>30</th>\n",
       "      <td>782</td>\n",
       "    </tr>\n",
       "  </tbody>\n",
       "</table>\n",
       "</div>"
      ],
      "text/plain": [
       "         count\n",
       "주문월 주문일       \n",
       "6   1       85\n",
       "    2       80\n",
       "    3       63\n",
       "    4       40\n",
       "    5       48\n",
       "    6      438\n",
       "    7      555\n",
       "    8     1837\n",
       "    9     3378\n",
       "    10     681\n",
       "    11     324\n",
       "    12    1936\n",
       "    13     416\n",
       "    14     141\n",
       "    15     135\n",
       "    16     253\n",
       "    17      88\n",
       "    18     441\n",
       "    19     184\n",
       "    20     822\n",
       "    21    1026\n",
       "    22     652\n",
       "    23     915\n",
       "    24     501\n",
       "    25    1824\n",
       "    26    1025\n",
       "    27    1138\n",
       "    28     414\n",
       "    29     382\n",
       "    30     782"
      ]
     },
     "execution_count": 9,
     "metadata": {},
     "output_type": "execute_result"
    }
   ],
   "source": [
    "df_day.query(\"주문월==6\") #9일, 25일 즈음 살펴보기"
   ]
  },
  {
   "cell_type": "code",
   "execution_count": 10,
   "id": "ee12bbe6",
   "metadata": {},
   "outputs": [
    {
     "data": {
      "text/html": [
       "<div>\n",
       "<style scoped>\n",
       "    .dataframe tbody tr th:only-of-type {\n",
       "        vertical-align: middle;\n",
       "    }\n",
       "\n",
       "    .dataframe tbody tr th {\n",
       "        vertical-align: top;\n",
       "    }\n",
       "\n",
       "    .dataframe thead th {\n",
       "        text-align: right;\n",
       "    }\n",
       "</style>\n",
       "<table border=\"1\" class=\"dataframe\">\n",
       "  <thead>\n",
       "    <tr style=\"text-align: right;\">\n",
       "      <th></th>\n",
       "      <th></th>\n",
       "      <th>count</th>\n",
       "    </tr>\n",
       "    <tr>\n",
       "      <th>주문월</th>\n",
       "      <th>주문일</th>\n",
       "      <th></th>\n",
       "    </tr>\n",
       "  </thead>\n",
       "  <tbody>\n",
       "    <tr>\n",
       "      <th rowspan=\"31\" valign=\"top\">8</th>\n",
       "      <th>1</th>\n",
       "      <td>487</td>\n",
       "    </tr>\n",
       "    <tr>\n",
       "      <th>2</th>\n",
       "      <td>509</td>\n",
       "    </tr>\n",
       "    <tr>\n",
       "      <th>3</th>\n",
       "      <td>5924</td>\n",
       "    </tr>\n",
       "    <tr>\n",
       "      <th>4</th>\n",
       "      <td>1986</td>\n",
       "    </tr>\n",
       "    <tr>\n",
       "      <th>5</th>\n",
       "      <td>2048</td>\n",
       "    </tr>\n",
       "    <tr>\n",
       "      <th>6</th>\n",
       "      <td>3807</td>\n",
       "    </tr>\n",
       "    <tr>\n",
       "      <th>7</th>\n",
       "      <td>7719</td>\n",
       "    </tr>\n",
       "    <tr>\n",
       "      <th>8</th>\n",
       "      <td>664</td>\n",
       "    </tr>\n",
       "    <tr>\n",
       "      <th>9</th>\n",
       "      <td>541</td>\n",
       "    </tr>\n",
       "    <tr>\n",
       "      <th>10</th>\n",
       "      <td>293</td>\n",
       "    </tr>\n",
       "    <tr>\n",
       "      <th>11</th>\n",
       "      <td>343</td>\n",
       "    </tr>\n",
       "    <tr>\n",
       "      <th>12</th>\n",
       "      <td>582</td>\n",
       "    </tr>\n",
       "    <tr>\n",
       "      <th>13</th>\n",
       "      <td>191</td>\n",
       "    </tr>\n",
       "    <tr>\n",
       "      <th>14</th>\n",
       "      <td>168</td>\n",
       "    </tr>\n",
       "    <tr>\n",
       "      <th>15</th>\n",
       "      <td>553</td>\n",
       "    </tr>\n",
       "    <tr>\n",
       "      <th>16</th>\n",
       "      <td>346</td>\n",
       "    </tr>\n",
       "    <tr>\n",
       "      <th>17</th>\n",
       "      <td>1897</td>\n",
       "    </tr>\n",
       "    <tr>\n",
       "      <th>18</th>\n",
       "      <td>158</td>\n",
       "    </tr>\n",
       "    <tr>\n",
       "      <th>19</th>\n",
       "      <td>110</td>\n",
       "    </tr>\n",
       "    <tr>\n",
       "      <th>20</th>\n",
       "      <td>43</td>\n",
       "    </tr>\n",
       "    <tr>\n",
       "      <th>21</th>\n",
       "      <td>40</td>\n",
       "    </tr>\n",
       "    <tr>\n",
       "      <th>22</th>\n",
       "      <td>51</td>\n",
       "    </tr>\n",
       "    <tr>\n",
       "      <th>23</th>\n",
       "      <td>66</td>\n",
       "    </tr>\n",
       "    <tr>\n",
       "      <th>24</th>\n",
       "      <td>257</td>\n",
       "    </tr>\n",
       "    <tr>\n",
       "      <th>25</th>\n",
       "      <td>490</td>\n",
       "    </tr>\n",
       "    <tr>\n",
       "      <th>26</th>\n",
       "      <td>109</td>\n",
       "    </tr>\n",
       "    <tr>\n",
       "      <th>27</th>\n",
       "      <td>64</td>\n",
       "    </tr>\n",
       "    <tr>\n",
       "      <th>28</th>\n",
       "      <td>76</td>\n",
       "    </tr>\n",
       "    <tr>\n",
       "      <th>29</th>\n",
       "      <td>199</td>\n",
       "    </tr>\n",
       "    <tr>\n",
       "      <th>30</th>\n",
       "      <td>187</td>\n",
       "    </tr>\n",
       "    <tr>\n",
       "      <th>31</th>\n",
       "      <td>1014</td>\n",
       "    </tr>\n",
       "  </tbody>\n",
       "</table>\n",
       "</div>"
      ],
      "text/plain": [
       "         count\n",
       "주문월 주문일       \n",
       "8   1      487\n",
       "    2      509\n",
       "    3     5924\n",
       "    4     1986\n",
       "    5     2048\n",
       "    6     3807\n",
       "    7     7719\n",
       "    8      664\n",
       "    9      541\n",
       "    10     293\n",
       "    11     343\n",
       "    12     582\n",
       "    13     191\n",
       "    14     168\n",
       "    15     553\n",
       "    16     346\n",
       "    17    1897\n",
       "    18     158\n",
       "    19     110\n",
       "    20      43\n",
       "    21      40\n",
       "    22      51\n",
       "    23      66\n",
       "    24     257\n",
       "    25     490\n",
       "    26     109\n",
       "    27      64\n",
       "    28      76\n",
       "    29     199\n",
       "    30     187\n",
       "    31    1014"
      ]
     },
     "execution_count": 10,
     "metadata": {},
     "output_type": "execute_result"
    }
   ],
   "source": [
    "df_day.query(\"주문월==8\") #3일 즈음 살펴보기"
   ]
  },
  {
   "cell_type": "markdown",
   "id": "109efc93",
   "metadata": {},
   "source": [
    "# 6월 판매량이 많은 이유 살펴보기"
   ]
  },
  {
   "cell_type": "code",
   "execution_count": 11,
   "id": "31100e43",
   "metadata": {},
   "outputs": [],
   "source": [
    "df6=df[df['주문월']==6]"
   ]
  },
  {
   "cell_type": "code",
   "execution_count": 12,
   "id": "7f800072",
   "metadata": {},
   "outputs": [
    {
     "data": {
      "text/plain": [
       "유입매체\n",
       "APP       2964\n",
       "MO WEB     321\n",
       "PC          92\n",
       "TABLET       1\n",
       "Name: 주문번호, dtype: int64"
      ]
     },
     "execution_count": 12,
     "metadata": {},
     "output_type": "execute_result"
    }
   ],
   "source": [
    "df6[df6[\"주문일\"]==9].groupby('유입매체')['주문번호'].count() \n",
    "#6월 9일에 app으로 들어온 비율 높음"
   ]
  },
  {
   "cell_type": "code",
   "execution_count": 13,
   "id": "83893f35",
   "metadata": {},
   "outputs": [
    {
     "data": {
      "text/plain": [
       "유입채널\n",
       "디폴트 채널상세                           1852\n",
       "유실 채널상세                            1416\n",
       "[롯데ON] MO Web 행사장_21.07_월간APP혜택      17\n",
       "[모바일]카카오톡                            16\n",
       "[샵백] CPS제휴_매출_롯데ON                    8\n",
       "[롯데ON][착한 소비하고 증정품 받아요!]              7\n",
       "[네이버] PCS 가격비교_롯데ON                   7\n",
       "[롯데ON][알림톡][[롯데ON] 상품 배송시작 안내]        6\n",
       "[롯데ON][VIBE ON [패션관]✨]                6\n",
       "[UAC] 앱설치                             5\n",
       "Name: 주문번호, dtype: int64"
      ]
     },
     "execution_count": 13,
     "metadata": {},
     "output_type": "execute_result"
    }
   ],
   "source": [
    "df6[df6[\"주문일\"]==9].groupby('유입채널')['주문번호'].count().sort_values(ascending=False)[:10]\n",
    "#app내에서 찾아온 손님들이 많았음"
   ]
  },
  {
   "cell_type": "code",
   "execution_count": 14,
   "id": "62a638a1",
   "metadata": {},
   "outputs": [
    {
     "data": {
      "text/plain": [
       "회원구분\n",
       "LPOINT통합회원    3310\n",
       "법인회원             1\n",
       "소셜간편회원          59\n",
       "이메일간편회원          5\n",
       "휴대폰간편회원          3\n",
       "Name: 주문번호, dtype: int64"
      ]
     },
     "execution_count": 14,
     "metadata": {},
     "output_type": "execute_result"
    }
   ],
   "source": [
    "df6[df6[\"주문일\"]==9].groupby('회원구분')['주문번호'].count()"
   ]
  },
  {
   "cell_type": "code",
   "execution_count": 15,
   "id": "02e26bf4",
   "metadata": {},
   "outputs": [
    {
     "data": {
      "text/plain": [
       "전시상품명\n",
       "비비고 BEST 볶음밥 3종 특가[불고기 비빔밥 + 매콤부추고기볶음밥 + 간장버터장조림볶음밥]    2100\n",
       "햇반 쿡반불고기500+치즈500+버터장조림500+치즈닭갈비500G                     408\n",
       "CJ 햇반 쿡반 주먹밥 5종 골라담기                                     355\n",
       "비비고 사골곰탕 500g x18봉                                        77\n",
       "비비고 차돌깍두기볶음밥 410g x3개                                     26\n",
       "미역국 X 5개 + 사골곰탕 X2개+ 영양꼬리곰탕 1봉 증정                         24\n",
       "[CJ직배송][한박스]비비고 한우사골곰탕 500gx18개                           19\n",
       "[2+1][3+2]CJ제일제당 쁘띠첼 미초 석류+청포도+복숭아 外 골라담기                 18\n",
       "비비고 새우볶음밥 420g x3개                                        18\n",
       "비비고 왕교자1.05KG X 3봉 + 수제고기만두 증정                            16\n",
       "Name: 주문번호, dtype: int64"
      ]
     },
     "execution_count": 15,
     "metadata": {},
     "output_type": "execute_result"
    }
   ],
   "source": [
    "df6[df6[\"주문일\"]==9].groupby('전시상품명')['주문번호'].count().sort_values(ascending=False)[:10]\n",
    "#비비고 BEST 볶음밥 3종 특가 상품이 압도적으로 많음"
   ]
  },
  {
   "cell_type": "code",
   "execution_count": 16,
   "id": "e405fc51",
   "metadata": {},
   "outputs": [
    {
     "data": {
      "text/plain": [
       "표준카테고리\n",
       "냉장/냉동/간편식 > 즉석밥/죽/스프 > 볶음밥      2203\n",
       "냉장/냉동/간편식 > 즉석밥/죽/스프 > 즉석밥       432\n",
       "냉장/냉동/간편식 > 돈가스/고로케/너겟 > 돈가스     377\n",
       "냉장/냉동/간편식 > 국/탕/찌개 > 국/탕         147\n",
       "냉장/냉동/간편식 > 떡볶이/만두 > 만두           65\n",
       "가공식품 > 면류 > 기타면류                  31\n",
       "커피/생수/음료 > 주스/과즙음료 > 과일음료         22\n",
       "김치/반찬 > 김치 > 포기김치                 15\n",
       "가공식품 > 장류 > 고추장/초고추장              15\n",
       "가공식품 > 통조림/캔 > 닭가슴살통조림             7\n",
       "Name: 주문번호, dtype: int64"
      ]
     },
     "execution_count": 16,
     "metadata": {},
     "output_type": "execute_result"
    }
   ],
   "source": [
    "df6[df6[\"주문일\"]==9].groupby('표준카테고리')['주문번호'].count().sort_values(ascending=False)[:10]\n",
    "#볶음밥 종류를 세일했을 확률이 높음"
   ]
  },
  {
   "cell_type": "code",
   "execution_count": 17,
   "id": "78874509",
   "metadata": {},
   "outputs": [
    {
     "data": {
      "text/plain": [
       "전시상품명\n",
       "비비고 사골곰탕 500g x18봉                             1171\n",
       "미역국 X 5개 + 사골곰탕 X2개+ 영양꼬리곰탕 1봉 증정               273\n",
       "[CJ직배송][한박스]비비고 한우사골곰탕 500gx18개                 125\n",
       "육개장 X 5개 + 사골곰탕 X2개 +육개장300g 증정                  55\n",
       "비비고 진국육수 3종 + 한우사골곰탕 500G 구매시 육개장300g 1봉 증정      42\n",
       "사골곰탕 500G X 15봉                                  10\n",
       "해찬들 우리쌀로만든태양초골드고추장 1kg X2개                       10\n",
       "비비고 국물요리 BEST 9종                                  8\n",
       "[2+1][3+2]CJ제일제당 쁘띠첼 미초 석류+청포도+복숭아 外 골라담기         8\n",
       "CJ 해찬들 우리쌀로만든태양초골드고추장2kgP X 2개                    4\n",
       "Name: 주문번호, dtype: int64"
      ]
     },
     "execution_count": 17,
     "metadata": {},
     "output_type": "execute_result"
    }
   ],
   "source": [
    "df6[df6[\"주문일\"]==8].groupby('전시상품명')['주문번호'].count().sort_values(ascending=False)[:10]\n",
    "#전날인 8일에는 비비고 사골곰탕이 압도적"
   ]
  },
  {
   "cell_type": "code",
   "execution_count": 18,
   "id": "4af8494c",
   "metadata": {},
   "outputs": [
    {
     "data": {
      "text/plain": [
       "전시상품명\n",
       "비비고 사골곰탕 500g x18봉                             186\n",
       "미역국 X 5개 + 사골곰탕 X2개+ 영양꼬리곰탕 1봉 증정               73\n",
       "[2+1][3+2]CJ제일제당 쁘띠첼 미초 석류+청포도+복숭아 外 골라담기       28\n",
       "[CJ직배송][한박스]비비고 한우사골곰탕 500gx18개                 21\n",
       "육개장 X 5개 + 사골곰탕 X2개 +육개장300g 증정                 19\n",
       "비비고 국물요리 BEST 9종                                12\n",
       "비비고 왕교자1.05KG X 3봉 + 수제고기만두 증정                   8\n",
       "CJ 햇반 쿡반 주먹밥 5종 골라담기                             8\n",
       "비비고 왕교자 1.05KGx4개+비비고 찐만두 168gx1개                7\n",
       "비비고 진국육수 3종 + 한우사골곰탕 500G 구매시 육개장300g 1봉 증정      6\n",
       "Name: 주문번호, dtype: int64"
      ]
     },
     "execution_count": 18,
     "metadata": {},
     "output_type": "execute_result"
    }
   ],
   "source": [
    "df6[df6[\"주문일\"]==7].groupby('전시상품명')['주문번호'].count().sort_values(ascending=False)[:10]"
   ]
  },
  {
   "cell_type": "code",
   "execution_count": 19,
   "id": "1c282189",
   "metadata": {},
   "outputs": [
    {
     "data": {
      "text/plain": [
       "전시상품명\n",
       "고메 오리지널 핫도그 外 골라담기                                      263\n",
       "비비고 BEST 볶음밥 3종 특가[불고기 비빔밥 + 매콤부추고기볶음밥 + 간장버터장조림볶음밥]     58\n",
       "[CJ직배송]CJ 맥스봉 숯불구이맛핫바 등 핫바 모음(골고루 13개)                   58\n",
       "CJ 햇반 쿡반 주먹밥 5종 골라담기                                     38\n",
       "[CJ직배송]CJ 맥스봉 숯불구이맛핫바 등 핫바 모음                            35\n",
       "비비고 사골곰탕 500g x18봉                                       26\n",
       "미역국 X 5개 + 사골곰탕 X2개+ 영양꼬리곰탕 1봉 증정                        20\n",
       "햇반 쿡반불고기500+치즈500+버터장조림500+치즈닭갈비500G                     20\n",
       "[2+1][3+2]CJ제일제당 쁘띠첼 미초 석류+청포도+복숭아 外 골라담기                10\n",
       "비비고 수제고기만두x2개+수제김치만두x2개                                   8\n",
       "Name: 주문번호, dtype: int64"
      ]
     },
     "execution_count": 19,
     "metadata": {},
     "output_type": "execute_result"
    }
   ],
   "source": [
    "df6[df6[\"주문일\"]==10].groupby('전시상품명')['주문번호'].count().sort_values(ascending=False)[:10]"
   ]
  },
  {
   "cell_type": "code",
   "execution_count": 20,
   "id": "5a3f6ba3",
   "metadata": {},
   "outputs": [
    {
     "data": {
      "text/plain": [
       "표준카테고리\n",
       "냉장/냉동/간편식 > 국/탕/찌개 > 국/탕        1718\n",
       "냉장/냉동/간편식 > 즉석밥/죽/스프 > 즉석밥        20\n",
       "가공식품 > 장류 > 고추장/초고추장              18\n",
       "커피/생수/음료 > 주스/과즙음료 > 과일음료         11\n",
       "냉장/냉동/간편식 > 떡볶이/만두 > 만두           11\n",
       "가공식품 > 면류 > 기타면류                   9\n",
       "냉장/냉동/간편식 > 돈가스/고로케/너겟 > 돈가스       8\n",
       "냉장/냉동/간편식 > 즉석밥/죽/스프 > 볶음밥         7\n",
       "가공식품 > 장류 > 된장/쌈장/청국장              4\n",
       "가공식품 > 통조림/캔 > 닭가슴살통조림             4\n",
       "Name: 주문번호, dtype: int64"
      ]
     },
     "execution_count": 20,
     "metadata": {},
     "output_type": "execute_result"
    }
   ],
   "source": [
    "df6[df6[\"주문일\"]==8].groupby('표준카테고리')['주문번호'].count().sort_values(ascending=False)[:10]\n",
    "#전날에는 국/탕 종류를 세일하지 않았을까?"
   ]
  },
  {
   "cell_type": "code",
   "execution_count": 21,
   "id": "58a2ebf1",
   "metadata": {},
   "outputs": [
    {
     "data": {
      "text/plain": [
       "유입매체\n",
       "APP       715\n",
       "MO WEB    994\n",
       "PC        113\n",
       "TABLET      2\n",
       "Name: 주문번호, dtype: int64"
      ]
     },
     "execution_count": 21,
     "metadata": {},
     "output_type": "execute_result"
    }
   ],
   "source": [
    "df6[df6[\"주문일\"]==25].groupby('유입매체')['주문번호'].count() #25일에는 app, mo web이 높음"
   ]
  },
  {
   "cell_type": "code",
   "execution_count": 22,
   "id": "0cadbc42",
   "metadata": {},
   "outputs": [
    {
     "data": {
      "text/plain": [
       "유입채널\n",
       "디폴트 채널상세                           1084\n",
       "유실 채널상세                             645\n",
       "[모바일]카카오톡                            18\n",
       "[네이버] PCS 가격비교_롯데ON                  17\n",
       "[롯데ON] MO Web 행사장_21.07_월간APP혜택       9\n",
       "[네이버] MO_브랜드검색_롯데ON                   8\n",
       "[샵백] CPS제휴_매출_롯데ON                    8\n",
       "[롯데ON][PUSH][[온세일 쿠폰] 마감임박⏱️]         5\n",
       "[모지세] CPS제휴_매출_롯데ON                   4\n",
       "(광고) 0625_온세일 종료임박                    4\n",
       "Name: 주문번호, dtype: int64"
      ]
     },
     "execution_count": 22,
     "metadata": {},
     "output_type": "execute_result"
    }
   ],
   "source": [
    "df6[df6[\"주문일\"]==25].groupby('유입채널')['주문번호'].count().sort_values(ascending=False)[:10]\n",
    "#다들 검색해서 들어오신듯"
   ]
  },
  {
   "cell_type": "code",
   "execution_count": 23,
   "id": "8c02ec56",
   "metadata": {},
   "outputs": [
    {
     "data": {
      "text/plain": [
       "회원구분\n",
       "LPOINT통합회원    1748\n",
       "소셜간편회원          70\n",
       "이메일간편회원          5\n",
       "휴대폰간편회원          1\n",
       "Name: 주문번호, dtype: int64"
      ]
     },
     "execution_count": 23,
     "metadata": {},
     "output_type": "execute_result"
    }
   ],
   "source": [
    "df6[df6[\"주문일\"]==25].groupby('회원구분')['주문번호'].count()"
   ]
  },
  {
   "cell_type": "code",
   "execution_count": 24,
   "id": "f35c1ad7",
   "metadata": {},
   "outputs": [
    {
     "data": {
      "text/plain": [
       "전시상품명\n",
       "[Lpoint 1,000P 지급]햇반 작은공기, 100% 현미밥 x 36개 특가 (1,000set 한정)    1495\n",
       "비비고 사골곰탕 500g x18봉                                              67\n",
       "[한박스]비비고 한우사골곰탕 500gx18개                                        39\n",
       "[CJ직배송]햇반 100%현미로 지은밥 130G x36개                                 21\n",
       "[복날 준비 특가]누룽지닭백숙죽/전복삼계죽/녹두닭죽 外 + 보양닭백숙죽 증정                      17\n",
       "[6+2]비비고 용기형 단호박죽/통단팥죽/흑임자죽 + 버섯야채죽 280GX2개 증정                  12\n",
       "CJ 햇반 쿡반 주먹밥 5종 골라담기                                            10\n",
       "비비고 왕교자 1.05KGx4개+비비고 찐만두 168gx1개                                6\n",
       "비비고 BEST 볶음밥 3종 특가[불고기 비빔밥 + 매콤부추고기볶음밥 + 간장버터장조림볶음밥]             6\n",
       "[CJ직배송]햇반작은공기130G x36개                                           6\n",
       "Name: 주문번호, dtype: int64"
      ]
     },
     "execution_count": 24,
     "metadata": {},
     "output_type": "execute_result"
    }
   ],
   "source": [
    "df6[df6[\"주문일\"]==25].groupby('전시상품명')['주문번호'].count().sort_values(ascending=False)[:10]\n",
    "#즉석밥 이벤트가 있었네"
   ]
  },
  {
   "cell_type": "code",
   "execution_count": 25,
   "id": "b295f4b7",
   "metadata": {},
   "outputs": [
    {
     "data": {
      "text/plain": [
       "표준카테고리\n",
       "냉장/냉동/간편식 > 즉석밥/죽/스프 > 즉석밥      1593\n",
       "냉장/냉동/간편식 > 국/탕/찌개 > 국/탕         115\n",
       "냉장/냉동/간편식 > 떡볶이/만두 > 만두           16\n",
       "냉장/냉동/간편식 > 돈가스/고로케/너겟 > 돈가스      15\n",
       "냉장/냉동/간편식 > 즉석밥/죽/스프 > 볶음밥        12\n",
       "커피/생수/음료 > 주스/과즙음료 > 과일음료         10\n",
       "가공식품 > 장류 > 된장/쌈장/청국장              9\n",
       "가공식품 > 통조림/캔 > 닭가슴살통조림             9\n",
       "가공식품 > 장류 > 고추장/초고추장               7\n",
       "가공식품 > 소스/드레싱 > 기타소스               6\n",
       "Name: 주문번호, dtype: int64"
      ]
     },
     "execution_count": 25,
     "metadata": {},
     "output_type": "execute_result"
    }
   ],
   "source": [
    "df6[df6[\"주문일\"]==25].groupby('표준카테고리')['주문번호'].count().sort_values(ascending=False)[:10]"
   ]
  },
  {
   "cell_type": "markdown",
   "id": "9d450c08",
   "metadata": {},
   "source": [
    "# 8월달 많은 이유 찾아보기"
   ]
  },
  {
   "cell_type": "code",
   "execution_count": 26,
   "id": "518419b3",
   "metadata": {},
   "outputs": [],
   "source": [
    "df8=df[df['주문월']==8]"
   ]
  },
  {
   "cell_type": "code",
   "execution_count": 27,
   "id": "4e28cbfd",
   "metadata": {},
   "outputs": [
    {
     "data": {
      "text/plain": [
       "유입매체\n",
       "APP       5455\n",
       "MO WEB     198\n",
       "PC         271\n",
       "Name: 주문번호, dtype: int64"
      ]
     },
     "execution_count": 27,
     "metadata": {},
     "output_type": "execute_result"
    }
   ],
   "source": [
    "df8[df8[\"주문일\"]==3].groupby('유입매체')['주문번호'].count()#app 비율 월등"
   ]
  },
  {
   "cell_type": "code",
   "execution_count": 28,
   "id": "8a22073e",
   "metadata": {},
   "outputs": [
    {
     "data": {
      "text/plain": [
       "유입채널\n",
       "디폴트 채널상세                           2967\n",
       "유실 채널상세                            2654\n",
       "[모바일]카카오톡                           134\n",
       "[롯데ON] MO Web 행사장_21.07_월간APP혜택      41\n",
       "[네이버] PCS 가격비교_롯데ON                  24\n",
       "webtoapp_coupon                      17\n",
       "[네이버] MO_브랜드검색_롯데ON                  12\n",
       "[롯데ON][알림톡][[롯데ON] 배송완료 안내]          10\n",
       "[롯데ON][알림톡][[롯데ON] 주문 완료 안내]         10\n",
       "[롯데ON][알림톡][[롯데ON] 상품 배송시작 안내]        7\n",
       "Name: 주문번호, dtype: int64"
      ]
     },
     "execution_count": 28,
     "metadata": {},
     "output_type": "execute_result"
    }
   ],
   "source": [
    "df8[df8[\"주문일\"]==3].groupby('유입채널')['주문번호'].count().sort_values(ascending=False)[:10]"
   ]
  },
  {
   "cell_type": "code",
   "execution_count": 29,
   "id": "1d73f5fa",
   "metadata": {},
   "outputs": [
    {
     "data": {
      "text/plain": [
       "회원구분\n",
       "LPOINT통합회원    5746\n",
       "법인회원            14\n",
       "소셜간편회원          61\n",
       "이메일간편회원        100\n",
       "휴대폰간편회원          3\n",
       "Name: 주문번호, dtype: int64"
      ]
     },
     "execution_count": 29,
     "metadata": {},
     "output_type": "execute_result"
    }
   ],
   "source": [
    "df8[df8[\"주문일\"]==3].groupby('회원구분')['주문번호'].count()"
   ]
  },
  {
   "cell_type": "code",
   "execution_count": 30,
   "id": "5f75a837",
   "metadata": {},
   "outputs": [
    {
     "data": {
      "text/plain": [
       "전시상품명\n",
       "CJ 스팸 25%라이트/ 스팸클래식 4개 골라담기 [ 택 1]            3583\n",
       "비비고 왕교자1.05KG X 2개                            1156\n",
       "비비고 사골곰탕 500g x18봉                             161\n",
       "[CJ직배송] New 햇반 210g*3입X 8개(총24개)               142\n",
       "[CJ직배송] CJ 햇반 백미 210g x 36개                    133\n",
       "[6+6+6 선착순 특가]다담 정통된장찌개/청국장찌개/순두부찌개 外 골라담기     118\n",
       "CJ 햇반 큰공기 300G x18                              82\n",
       "왕교자 1.05kgx2 + 김치왕교자 420gx2                     75\n",
       "CJ 햇반 쿡반 주먹밥 5종 골라담기                            36\n",
       "[햇반 솥반 X 서울체크인]햇반 솥반 7종                         26\n",
       "Name: 주문번호, dtype: int64"
      ]
     },
     "execution_count": 30,
     "metadata": {},
     "output_type": "execute_result"
    }
   ],
   "source": [
    "df8[df8[\"주문일\"]==3].groupby('전시상품명')['주문번호'].count().sort_values(ascending=False)[:10]"
   ]
  },
  {
   "cell_type": "code",
   "execution_count": 31,
   "id": "c8d9d1d5",
   "metadata": {},
   "outputs": [
    {
     "data": {
      "text/plain": [
       "표준카테고리\n",
       "가공식품 > 통조림/캔 > 햄통조림              3585\n",
       "냉장/냉동/간편식 > 떡볶이/만두 > 만두          1275\n",
       "냉장/냉동/간편식 > 즉석밥/죽/스프 > 즉석밥        497\n",
       "냉장/냉동/간편식 > 국/탕/찌개 > 국/탕          191\n",
       "가공식품 > 소스/드레싱 > 기타소스              128\n",
       "냉장/냉동/간편식 > 돈가스/고로케/너겟 > 돈가스       60\n",
       "가공식품 > 면류 > 기타면류                   24\n",
       "가공식품 > 장류 > 고추장/초고추장               17\n",
       "김치/반찬 > 김치 > 포기김치                  16\n",
       "냉장/냉동/간편식 > 햄/소시지/베이컨 > 햄/소시지      15\n",
       "Name: 주문번호, dtype: int64"
      ]
     },
     "execution_count": 31,
     "metadata": {},
     "output_type": "execute_result"
    }
   ],
   "source": [
    "df8[df8[\"주문일\"]==3].groupby('표준카테고리')['주문번호'].count().sort_values(ascending=False)[:10]\n",
    "#만두랑 햄 종류가 인기가 많았음"
   ]
  },
  {
   "cell_type": "code",
   "execution_count": 32,
   "id": "7da0a909",
   "metadata": {},
   "outputs": [
    {
     "data": {
      "text/plain": [
       "전시상품명\n",
       "미역국 X 5개 + 사골곰탕 X2개+ 육개장300g 2봉 증정(증정품 유통기한 22년 10월 7일까지)    1365\n",
       "[CJ직배송]백설100%통참깨참기름300ML X 2개                                 726\n",
       "CJ 햇반 쿡반 주먹밥 5종 골라담기                                          703\n",
       "[CJ직배송] CJ 햇반 백미 210g x 36개                                   124\n",
       "[컵반 배그에디션]이겼닭 오늘 저녁은 치킨이닭(컵반 1개당 G코인 100~10,000코인 랜덤 증정)      120\n",
       "해찬들 우리쌀로만든태양초골드고추장 1kg X2개                                     83\n",
       "[CJ직배송]스팸볶음밥 660G X3개                                          78\n",
       "[CJ직배송] New 햇반 210g*3입X 8개(총24개)                               71\n",
       "비비고 사골곰탕 500g x18봉                                             50\n",
       "볶음밥 3종 특가[불고기 비빔밥 + 매콤부추고기볶음밥 + 간장버터장조림볶음밥]                    48\n",
       "Name: 주문번호, dtype: int64"
      ]
     },
     "execution_count": 32,
     "metadata": {},
     "output_type": "execute_result"
    }
   ],
   "source": [
    "df8[df8[\"주문일\"]==6].groupby('전시상품명')['주문번호'].count().sort_values(ascending=False)[:10]"
   ]
  },
  {
   "cell_type": "code",
   "execution_count": 33,
   "id": "464471bd",
   "metadata": {},
   "outputs": [
    {
     "data": {
      "text/plain": [
       "표준카테고리\n",
       "냉장/냉동/간편식 > 국/탕/찌개 > 국/탕        1482\n",
       "가공식품 > 식용유/오일 > 카놀라유             726\n",
       "냉장/냉동/간편식 > 돈가스/고로케/너겟 > 돈가스     720\n",
       "냉장/냉동/간편식 > 즉석밥/죽/스프 > 즉석밥       384\n",
       "냉장/냉동/간편식 > 즉석밥/죽/스프 > 볶음밥       184\n",
       "가공식품 > 장류 > 고추장/초고추장              99\n",
       "냉장/냉동/간편식 > 떡볶이/만두 > 만두           68\n",
       "가공식품 > 통조림/캔 > 햄통조림               24\n",
       "가공식품 > 소스/드레싱 > 기타소스              15\n",
       "김치/반찬 > 김치 > 포기김치                 14\n",
       "Name: 주문번호, dtype: int64"
      ]
     },
     "execution_count": 33,
     "metadata": {},
     "output_type": "execute_result"
    }
   ],
   "source": [
    "df8[df8[\"주문일\"]==6].groupby('표준카테고리')['주문번호'].count().sort_values(ascending=False)[:10]\n",
    "#다들 세일을 어떻게 알고 들어오는지 분석해보자"
   ]
  },
  {
   "cell_type": "markdown",
   "id": "5b821ac9",
   "metadata": {},
   "source": [
    "# 세일을 어떻게 알고 사는지 알아보자"
   ]
  },
  {
   "cell_type": "code",
   "execution_count": 34,
   "id": "84a09d79",
   "metadata": {},
   "outputs": [],
   "source": [
    "#대부분 직접 검색해서 들어옴\n",
    "#판매량이 높은 날들을 보면 세일을 하거나 이벤트를 하는 곳에서 판매량이 몰리는걸 볼 수 있다."
   ]
  },
  {
   "cell_type": "code",
   "execution_count": 35,
   "id": "33f62b71",
   "metadata": {},
   "outputs": [],
   "source": [
    "# https://blog.naver.com/jtljt111/222765347099"
   ]
  },
  {
   "cell_type": "code",
   "execution_count": 36,
   "id": "5c190a9c",
   "metadata": {},
   "outputs": [],
   "source": [
    "#롯데온에서 특가 상품이라고 광고해주면 입소문 타서 사람들이 사러오는 듯하다\n",
    "#특가 채널을 사용한게 아닌가라는 추측,,,,"
   ]
  },
  {
   "cell_type": "markdown",
   "id": "15a472cb",
   "metadata": {},
   "source": [
    "# 구매미확정 및 취소된 제품\n",
    "품절상품만 취소 항목을 선택한건 아닐까?->아이디 별로 다른 물품은 구매했는지 확인 필요"
   ]
  },
  {
   "cell_type": "code",
   "execution_count": 37,
   "id": "39d08314",
   "metadata": {},
   "outputs": [],
   "source": [
    "df_cancel=pd.read_excel(\"구매미확정 및 취소된 제품.xlsx\")"
   ]
  },
  {
   "cell_type": "code",
   "execution_count": 38,
   "id": "74c48ecc",
   "metadata": {},
   "outputs": [
    {
     "data": {
      "text/html": [
       "<div>\n",
       "<style scoped>\n",
       "    .dataframe tbody tr th:only-of-type {\n",
       "        vertical-align: middle;\n",
       "    }\n",
       "\n",
       "    .dataframe tbody tr th {\n",
       "        vertical-align: top;\n",
       "    }\n",
       "\n",
       "    .dataframe thead th {\n",
       "        text-align: right;\n",
       "    }\n",
       "</style>\n",
       "<table border=\"1\" class=\"dataframe\">\n",
       "  <thead>\n",
       "    <tr style=\"text-align: right;\">\n",
       "      <th></th>\n",
       "      <th>주문접수일시</th>\n",
       "      <th>주문번호</th>\n",
       "      <th>유입매체</th>\n",
       "      <th>주문구분</th>\n",
       "      <th>유입채널</th>\n",
       "      <th>회원구분</th>\n",
       "      <th>아이디</th>\n",
       "      <th>전시유입코드</th>\n",
       "      <th>상품주문번호</th>\n",
       "      <th>유형</th>\n",
       "      <th>...</th>\n",
       "      <th>전시단품명</th>\n",
       "      <th>판매자상품번호</th>\n",
       "      <th>판매자상품명</th>\n",
       "      <th>판매자단품번호</th>\n",
       "      <th>판매자단품명</th>\n",
       "      <th>판매가</th>\n",
       "      <th>수량</th>\n",
       "      <th>표준카테고리</th>\n",
       "      <th>판매액</th>\n",
       "      <th>주문월</th>\n",
       "    </tr>\n",
       "  </thead>\n",
       "  <tbody>\n",
       "    <tr>\n",
       "      <th>0</th>\n",
       "      <td>2022-01-01 00:17:11</td>\n",
       "      <td>2022010111864975</td>\n",
       "      <td>MO WEB</td>\n",
       "      <td>일반주문</td>\n",
       "      <td>디폴트 채널상세</td>\n",
       "      <td>LPOINT통합회원</td>\n",
       "      <td>jsda****</td>\n",
       "      <td>SCH비비고갈비탕</td>\n",
       "      <td>2022010111864975_1</td>\n",
       "      <td>취소(주문취소)</td>\n",
       "      <td>...</td>\n",
       "      <td>단일상품</td>\n",
       "      <td>LO1031678373</td>\n",
       "      <td>CJ 비비고 갈비탕 400g x4</td>\n",
       "      <td>LO1031678373_1031678374</td>\n",
       "      <td>단일상품</td>\n",
       "      <td>18830</td>\n",
       "      <td>1</td>\n",
       "      <td>냉장/냉동/간편식 &gt; 국/탕/찌개 &gt; 국/탕</td>\n",
       "      <td>18830</td>\n",
       "      <td>1</td>\n",
       "    </tr>\n",
       "    <tr>\n",
       "      <th>1</th>\n",
       "      <td>2022-01-01 00:38:42</td>\n",
       "      <td>2022010111866938</td>\n",
       "      <td>APP</td>\n",
       "      <td>일반주문</td>\n",
       "      <td>디폴트 채널상세</td>\n",
       "      <td>LPOINT통합회원</td>\n",
       "      <td>ggg9****</td>\n",
       "      <td>SCH쁘띠첼복숭아</td>\n",
       "      <td>2022010111866938_5</td>\n",
       "      <td>취소(주문취소)</td>\n",
       "      <td>...</td>\n",
       "      <td>단일상품</td>\n",
       "      <td>LO1354545470</td>\n",
       "      <td>[CJ제일제당] 쁘띠첼 복숭아 90g*9번들X2EA</td>\n",
       "      <td>LO1354545470_1354545471</td>\n",
       "      <td>단일상품</td>\n",
       "      <td>22300</td>\n",
       "      <td>1</td>\n",
       "      <td>과자/간식 &gt; 디저트/케이크 &gt; 푸딩</td>\n",
       "      <td>22300</td>\n",
       "      <td>1</td>\n",
       "    </tr>\n",
       "    <tr>\n",
       "      <th>2</th>\n",
       "      <td>2022-01-01 17:16:48</td>\n",
       "      <td>2022010111935204</td>\n",
       "      <td>APP</td>\n",
       "      <td>일반주문</td>\n",
       "      <td>디폴트 채널상세</td>\n",
       "      <td>LPOINT통합회원</td>\n",
       "      <td>love****</td>\n",
       "      <td>SCH파래김</td>\n",
       "      <td>2022010111935204_1</td>\n",
       "      <td>취소(주문취소)</td>\n",
       "      <td>...</td>\n",
       "      <td>단일상품</td>\n",
       "      <td>LO1511816458</td>\n",
       "      <td>[CJ직배송]CJ 명가김 파래김 4G*16EA  X 2개</td>\n",
       "      <td>LO1511816458_1511816459</td>\n",
       "      <td>단일상품</td>\n",
       "      <td>6960</td>\n",
       "      <td>3</td>\n",
       "      <td>수산/건어물 &gt; 김/해조류 &gt; 조미김/도시락김</td>\n",
       "      <td>20880</td>\n",
       "      <td>1</td>\n",
       "    </tr>\n",
       "    <tr>\n",
       "      <th>3</th>\n",
       "      <td>2022-01-02 13:03:20</td>\n",
       "      <td>2022010212023381</td>\n",
       "      <td>MO WEB</td>\n",
       "      <td>일반주문</td>\n",
       "      <td>디폴트 채널상세</td>\n",
       "      <td>LPOINT통합회원</td>\n",
       "      <td>pilj****</td>\n",
       "      <td>BSGP2566</td>\n",
       "      <td>2022010212023381_2</td>\n",
       "      <td>취소(주문취소)</td>\n",
       "      <td>...</td>\n",
       "      <td>단일상품</td>\n",
       "      <td>LO1631718294</td>\n",
       "      <td>[특별이벤트] 햇반 BIG 컵반 스팸 2종 X 3개 + 주식선물</td>\n",
       "      <td>LO1631718294_1631718295</td>\n",
       "      <td>단일상품</td>\n",
       "      <td>19920</td>\n",
       "      <td>1</td>\n",
       "      <td>냉장/냉동/간편식 &gt; 즉석밥/죽/스프 &gt; 즉석밥</td>\n",
       "      <td>19920</td>\n",
       "      <td>1</td>\n",
       "    </tr>\n",
       "    <tr>\n",
       "      <th>4</th>\n",
       "      <td>2022-01-02 13:03:20</td>\n",
       "      <td>2022010212023381</td>\n",
       "      <td>MO WEB</td>\n",
       "      <td>일반주문</td>\n",
       "      <td>디폴트 채널상세</td>\n",
       "      <td>LPOINT통합회원</td>\n",
       "      <td>pilj****</td>\n",
       "      <td>BSGP2566</td>\n",
       "      <td>2022010212023381_1</td>\n",
       "      <td>취소(주문취소)</td>\n",
       "      <td>...</td>\n",
       "      <td>단일상품</td>\n",
       "      <td>LO1630046529</td>\n",
       "      <td>[특별이벤트]햇반 BIG 컵반 마요 2종 X 3개+주식선물</td>\n",
       "      <td>LO1630046529_1630046530</td>\n",
       "      <td>단일상품</td>\n",
       "      <td>19920</td>\n",
       "      <td>1</td>\n",
       "      <td>냉장/냉동/간편식 &gt; 즉석밥/죽/스프 &gt; 즉석밥</td>\n",
       "      <td>19920</td>\n",
       "      <td>1</td>\n",
       "    </tr>\n",
       "    <tr>\n",
       "      <th>...</th>\n",
       "      <td>...</td>\n",
       "      <td>...</td>\n",
       "      <td>...</td>\n",
       "      <td>...</td>\n",
       "      <td>...</td>\n",
       "      <td>...</td>\n",
       "      <td>...</td>\n",
       "      <td>...</td>\n",
       "      <td>...</td>\n",
       "      <td>...</td>\n",
       "      <td>...</td>\n",
       "      <td>...</td>\n",
       "      <td>...</td>\n",
       "      <td>...</td>\n",
       "      <td>...</td>\n",
       "      <td>...</td>\n",
       "      <td>...</td>\n",
       "      <td>...</td>\n",
       "      <td>...</td>\n",
       "      <td>...</td>\n",
       "      <td>...</td>\n",
       "    </tr>\n",
       "    <tr>\n",
       "      <th>8697</th>\n",
       "      <td>2022-09-30 22:49:16</td>\n",
       "      <td>2022093018630370</td>\n",
       "      <td>APP</td>\n",
       "      <td>일반주문</td>\n",
       "      <td>[링크프라이스] CPS_롯데온</td>\n",
       "      <td>LPOINT통합회원</td>\n",
       "      <td>pete****</td>\n",
       "      <td>NaN</td>\n",
       "      <td>2022093018630370_1</td>\n",
       "      <td>취소(주문취소)</td>\n",
       "      <td>...</td>\n",
       "      <td>비비고 사골곰탕 500g x18봉</td>\n",
       "      <td>LO1978869746</td>\n",
       "      <td>[L포인트 3000p 증정]★LAST DAY EVENT★</td>\n",
       "      <td>LO1978869746_1978869755</td>\n",
       "      <td>비비고 사골곰탕 500g x18봉</td>\n",
       "      <td>24500</td>\n",
       "      <td>2</td>\n",
       "      <td>냉장/냉동/간편식 &gt; 국/탕/찌개 &gt; 국/탕</td>\n",
       "      <td>49000</td>\n",
       "      <td>9</td>\n",
       "    </tr>\n",
       "    <tr>\n",
       "      <th>8698</th>\n",
       "      <td>2022-09-30 22:56:31</td>\n",
       "      <td>2022093018631261</td>\n",
       "      <td>APP</td>\n",
       "      <td>일반주문</td>\n",
       "      <td>디폴트 채널상세</td>\n",
       "      <td>LPOINT통합회원</td>\n",
       "      <td>yeop****</td>\n",
       "      <td>NaN</td>\n",
       "      <td>2022093018631261_1</td>\n",
       "      <td>취소(주문취소)</td>\n",
       "      <td>...</td>\n",
       "      <td>단일상품</td>\n",
       "      <td>LO1032764663</td>\n",
       "      <td>비비고 사골곰탕 500g x18봉</td>\n",
       "      <td>LO1032764663_1032764664</td>\n",
       "      <td>단일상품</td>\n",
       "      <td>24600</td>\n",
       "      <td>2</td>\n",
       "      <td>냉장/냉동/간편식 &gt; 국/탕/찌개 &gt; 국/탕</td>\n",
       "      <td>49200</td>\n",
       "      <td>9</td>\n",
       "    </tr>\n",
       "    <tr>\n",
       "      <th>8699</th>\n",
       "      <td>2022-09-30 23:02:38</td>\n",
       "      <td>2022093018631923</td>\n",
       "      <td>APP</td>\n",
       "      <td>일반주문</td>\n",
       "      <td>[링크프라이스] CPS_롯데온</td>\n",
       "      <td>LPOINT통합회원</td>\n",
       "      <td>tae0****</td>\n",
       "      <td>CHT</td>\n",
       "      <td>2022093018631923_1</td>\n",
       "      <td>취소(주문취소)</td>\n",
       "      <td>...</td>\n",
       "      <td>단일상품</td>\n",
       "      <td>LO1032764663</td>\n",
       "      <td>비비고 사골곰탕 500g x18봉</td>\n",
       "      <td>LO1032764663_1032764664</td>\n",
       "      <td>단일상품</td>\n",
       "      <td>24600</td>\n",
       "      <td>1</td>\n",
       "      <td>냉장/냉동/간편식 &gt; 국/탕/찌개 &gt; 국/탕</td>\n",
       "      <td>24600</td>\n",
       "      <td>9</td>\n",
       "    </tr>\n",
       "    <tr>\n",
       "      <th>8700</th>\n",
       "      <td>2022-09-30 23:05:50</td>\n",
       "      <td>2022093018632420</td>\n",
       "      <td>APP</td>\n",
       "      <td>일반주문</td>\n",
       "      <td>디폴트 채널상세</td>\n",
       "      <td>LPOINT통합회원</td>\n",
       "      <td>dmsd****</td>\n",
       "      <td>RSI</td>\n",
       "      <td>2022093018632420_1</td>\n",
       "      <td>취소(주문취소)</td>\n",
       "      <td>...</td>\n",
       "      <td>단일상품</td>\n",
       "      <td>LO1032764663</td>\n",
       "      <td>비비고 사골곰탕 500g x18봉</td>\n",
       "      <td>LO1032764663_1032764664</td>\n",
       "      <td>단일상품</td>\n",
       "      <td>24600</td>\n",
       "      <td>1</td>\n",
       "      <td>냉장/냉동/간편식 &gt; 국/탕/찌개 &gt; 국/탕</td>\n",
       "      <td>24600</td>\n",
       "      <td>9</td>\n",
       "    </tr>\n",
       "    <tr>\n",
       "      <th>8701</th>\n",
       "      <td>2022-09-30 23:49:32</td>\n",
       "      <td>2022093018638203</td>\n",
       "      <td>APP</td>\n",
       "      <td>일반주문</td>\n",
       "      <td>[링크프라이스] CPS_롯데온</td>\n",
       "      <td>LPOINT통합회원</td>\n",
       "      <td>20re****</td>\n",
       "      <td>NaN</td>\n",
       "      <td>2022093018638203_1</td>\n",
       "      <td>취소(주문취소)</td>\n",
       "      <td>...</td>\n",
       "      <td>단일상품</td>\n",
       "      <td>LO1032764663</td>\n",
       "      <td>비비고 사골곰탕 500g x18봉</td>\n",
       "      <td>LO1032764663_1032764664</td>\n",
       "      <td>단일상품</td>\n",
       "      <td>24600</td>\n",
       "      <td>2</td>\n",
       "      <td>냉장/냉동/간편식 &gt; 국/탕/찌개 &gt; 국/탕</td>\n",
       "      <td>49200</td>\n",
       "      <td>9</td>\n",
       "    </tr>\n",
       "  </tbody>\n",
       "</table>\n",
       "<p>8702 rows × 29 columns</p>\n",
       "</div>"
      ],
      "text/plain": [
       "                  주문접수일시              주문번호    유입매체  주문구분              유입채널  \\\n",
       "0    2022-01-01 00:17:11  2022010111864975  MO WEB  일반주문          디폴트 채널상세   \n",
       "1    2022-01-01 00:38:42  2022010111866938     APP  일반주문          디폴트 채널상세   \n",
       "2    2022-01-01 17:16:48  2022010111935204     APP  일반주문          디폴트 채널상세   \n",
       "3    2022-01-02 13:03:20  2022010212023381  MO WEB  일반주문          디폴트 채널상세   \n",
       "4    2022-01-02 13:03:20  2022010212023381  MO WEB  일반주문          디폴트 채널상세   \n",
       "...                  ...               ...     ...   ...               ...   \n",
       "8697 2022-09-30 22:49:16  2022093018630370     APP  일반주문  [링크프라이스] CPS_롯데온   \n",
       "8698 2022-09-30 22:56:31  2022093018631261     APP  일반주문          디폴트 채널상세   \n",
       "8699 2022-09-30 23:02:38  2022093018631923     APP  일반주문  [링크프라이스] CPS_롯데온   \n",
       "8700 2022-09-30 23:05:50  2022093018632420     APP  일반주문          디폴트 채널상세   \n",
       "8701 2022-09-30 23:49:32  2022093018638203     APP  일반주문  [링크프라이스] CPS_롯데온   \n",
       "\n",
       "            회원구분       아이디     전시유입코드              상품주문번호        유형  ...  \\\n",
       "0     LPOINT통합회원  jsda****  SCH비비고갈비탕  2022010111864975_1  취소(주문취소)  ...   \n",
       "1     LPOINT통합회원  ggg9****  SCH쁘띠첼복숭아  2022010111866938_5  취소(주문취소)  ...   \n",
       "2     LPOINT통합회원  love****     SCH파래김  2022010111935204_1  취소(주문취소)  ...   \n",
       "3     LPOINT통합회원  pilj****   BSGP2566  2022010212023381_2  취소(주문취소)  ...   \n",
       "4     LPOINT통합회원  pilj****   BSGP2566  2022010212023381_1  취소(주문취소)  ...   \n",
       "...          ...       ...        ...                 ...       ...  ...   \n",
       "8697  LPOINT통합회원  pete****        NaN  2022093018630370_1  취소(주문취소)  ...   \n",
       "8698  LPOINT통합회원  yeop****        NaN  2022093018631261_1  취소(주문취소)  ...   \n",
       "8699  LPOINT통합회원  tae0****        CHT  2022093018631923_1  취소(주문취소)  ...   \n",
       "8700  LPOINT통합회원  dmsd****        RSI  2022093018632420_1  취소(주문취소)  ...   \n",
       "8701  LPOINT통합회원  20re****        NaN  2022093018638203_1  취소(주문취소)  ...   \n",
       "\n",
       "                   전시단품명       판매자상품번호                               판매자상품명  \\\n",
       "0                   단일상품  LO1031678373                   CJ 비비고 갈비탕 400g x4   \n",
       "1                   단일상품  LO1354545470         [CJ제일제당] 쁘띠첼 복숭아 90g*9번들X2EA   \n",
       "2                   단일상품  LO1511816458      [CJ직배송]CJ 명가김 파래김 4G*16EA  X 2개   \n",
       "3                   단일상품  LO1631718294  [특별이벤트] 햇반 BIG 컵반 스팸 2종 X 3개 + 주식선물   \n",
       "4                   단일상품  LO1630046529     [특별이벤트]햇반 BIG 컵반 마요 2종 X 3개+주식선물   \n",
       "...                  ...           ...                                  ...   \n",
       "8697  비비고 사골곰탕 500g x18봉  LO1978869746      [L포인트 3000p 증정]★LAST DAY EVENT★   \n",
       "8698                단일상품  LO1032764663                   비비고 사골곰탕 500g x18봉   \n",
       "8699                단일상품  LO1032764663                   비비고 사골곰탕 500g x18봉   \n",
       "8700                단일상품  LO1032764663                   비비고 사골곰탕 500g x18봉   \n",
       "8701                단일상품  LO1032764663                   비비고 사골곰탕 500g x18봉   \n",
       "\n",
       "                      판매자단품번호              판매자단품명    판매가 수량  \\\n",
       "0     LO1031678373_1031678374                단일상품  18830  1   \n",
       "1     LO1354545470_1354545471                단일상품  22300  1   \n",
       "2     LO1511816458_1511816459                단일상품   6960  3   \n",
       "3     LO1631718294_1631718295                단일상품  19920  1   \n",
       "4     LO1630046529_1630046530                단일상품  19920  1   \n",
       "...                       ...                 ...    ... ..   \n",
       "8697  LO1978869746_1978869755  비비고 사골곰탕 500g x18봉  24500  2   \n",
       "8698  LO1032764663_1032764664                단일상품  24600  2   \n",
       "8699  LO1032764663_1032764664                단일상품  24600  1   \n",
       "8700  LO1032764663_1032764664                단일상품  24600  1   \n",
       "8701  LO1032764663_1032764664                단일상품  24600  2   \n",
       "\n",
       "                          표준카테고리    판매액 주문월  \n",
       "0       냉장/냉동/간편식 > 국/탕/찌개 > 국/탕  18830   1  \n",
       "1           과자/간식 > 디저트/케이크 > 푸딩  22300   1  \n",
       "2      수산/건어물 > 김/해조류 > 조미김/도시락김  20880   1  \n",
       "3     냉장/냉동/간편식 > 즉석밥/죽/스프 > 즉석밥  19920   1  \n",
       "4     냉장/냉동/간편식 > 즉석밥/죽/스프 > 즉석밥  19920   1  \n",
       "...                          ...    ...  ..  \n",
       "8697    냉장/냉동/간편식 > 국/탕/찌개 > 국/탕  49000   9  \n",
       "8698    냉장/냉동/간편식 > 국/탕/찌개 > 국/탕  49200   9  \n",
       "8699    냉장/냉동/간편식 > 국/탕/찌개 > 국/탕  24600   9  \n",
       "8700    냉장/냉동/간편식 > 국/탕/찌개 > 국/탕  24600   9  \n",
       "8701    냉장/냉동/간편식 > 국/탕/찌개 > 국/탕  49200   9  \n",
       "\n",
       "[8702 rows x 29 columns]"
      ]
     },
     "execution_count": 38,
     "metadata": {},
     "output_type": "execute_result"
    }
   ],
   "source": [
    "df_cancel"
   ]
  },
  {
   "cell_type": "code",
   "execution_count": 39,
   "id": "261df20b",
   "metadata": {},
   "outputs": [
    {
     "data": {
      "text/plain": [
       "회원구분\n",
       "LPOINT통합회원    8300\n",
       "법인회원            24\n",
       "소셜간편회원         273\n",
       "이메일간편회원         95\n",
       "휴대폰간편회원         10\n",
       "Name: 주문번호, dtype: int64"
      ]
     },
     "execution_count": 39,
     "metadata": {},
     "output_type": "execute_result"
    }
   ],
   "source": [
    "df_cancel.groupby('회원구분')['주문번호'].count()"
   ]
  },
  {
   "cell_type": "code",
   "execution_count": 40,
   "id": "e100309b",
   "metadata": {},
   "outputs": [
    {
     "data": {
      "text/plain": [
       "유입매체\n",
       "APP       5508\n",
       "MO WEB    2147\n",
       "PC        1034\n",
       "TABLET      13\n",
       "Name: 주문번호, dtype: int64"
      ]
     },
     "execution_count": 40,
     "metadata": {},
     "output_type": "execute_result"
    }
   ],
   "source": [
    "df_cancel.groupby('유입매체')['주문번호'].count()"
   ]
  },
  {
   "cell_type": "code",
   "execution_count": 41,
   "id": "bc383470",
   "metadata": {},
   "outputs": [
    {
     "data": {
      "text/plain": [
       "주문구분\n",
       "선물하기     166\n",
       "일반주문    8536\n",
       "Name: 주문번호, dtype: int64"
      ]
     },
     "execution_count": 41,
     "metadata": {},
     "output_type": "execute_result"
    }
   ],
   "source": [
    "df_cancel.groupby('주문구분')['주문번호'].count()"
   ]
  },
  {
   "cell_type": "code",
   "execution_count": 42,
   "id": "3ddc71d4",
   "metadata": {},
   "outputs": [
    {
     "data": {
      "text/plain": [
       "유입채널\n",
       "디폴트 채널상세                 5355\n",
       "유실 채널상세                  1530\n",
       "[네이버] PCS 가격비교_롯데ON       731\n",
       "[모바일]다른앱공유하기              167\n",
       "[다음카카오] PCS 가격비교_롯데ON     104\n",
       "[에누리] PCS 가격비교_롯데ON        96\n",
       "[모바일]카카오톡                  88\n",
       "[네이버] 키워드_쇼핑검색광고_롯데ON      60\n",
       "[다나와] PCS 가격비교_롯데ON        49\n",
       "[샵백] CPS제휴_매출_롯데ON         42\n",
       "Name: 주문번호, dtype: int64"
      ]
     },
     "execution_count": 42,
     "metadata": {},
     "output_type": "execute_result"
    }
   ],
   "source": [
    "df_cancel.groupby('유입채널')['주문번호'].count().sort_values(ascending=False)[:10]\n",
    "#크게 이상한 점이 보이지 않음"
   ]
  },
  {
   "cell_type": "code",
   "execution_count": 43,
   "id": "80f16bd3",
   "metadata": {},
   "outputs": [
    {
     "data": {
      "text/plain": [
       "전시상품명\n",
       "[CJ직배송]포도씨유 900ML X 2개                                        507\n",
       "비비고 사골곰탕 500g x18봉                                            372\n",
       "미역국 X 5개 + 사골곰탕 X2개+ 육개장300g 2봉 증정(증정품 유통기한 22년 10월 7일까지)     356\n",
       "CJ 스팸 25%라이트/ 스팸클래식 4개 골라담기 [ 택 1]                            355\n",
       "[Lpoint 1,000P 지급]햇반 작은공기, 100% 현미밥 x 36개 특가 (1,000set 한정)    314\n",
       "CJ 햇반 쿡반 주먹밥 5종 골라담기                                          224\n",
       "[L.Point 3,000p 증정]햇반 오곡밥 24입/ 솥반 7종 골라담기 [ 택 1]              212\n",
       "비비고 왕교자1.05KG X 2개                                            206\n",
       "비비고 BEST 볶음밥 3종 특가[불고기 비빔밥 + 매콤부추고기볶음밥 + 간장버터장조림볶음밥]          164\n",
       "[CJ직배송]백설100%통참깨참기름300ML X 2개                                 148\n",
       "Name: 주문번호, dtype: int64"
      ]
     },
     "execution_count": 43,
     "metadata": {},
     "output_type": "execute_result"
    }
   ],
   "source": [
    "df_cancel.groupby('전시상품명')['주문번호'].count().sort_values(ascending=False)[:10]"
   ]
  },
  {
   "cell_type": "code",
   "execution_count": 44,
   "id": "63d0f85c",
   "metadata": {},
   "outputs": [
    {
     "data": {
      "text/plain": [
       "판매자상품명\n",
       "[CJ직배송]포도씨유 900ML X 2개                                        507\n",
       "비비고 사골곰탕 500g x18봉                                            372\n",
       "미역국 X 5개 + 사골곰탕 X2개+ 육개장300g 2봉 증정(증정품 유통기한 22년 10월 7일까지)     356\n",
       "CJ 스팸 25%라이트/ 스팸클래식 4개 골라담기 [ 택 1]                            355\n",
       "[Lpoint 1,000P 지급]햇반 작은공기, 100% 현미밥 x 36개 특가 (1,000set 한정)    314\n",
       "CJ 햇반 쿡반 주먹밥 5종 골라담기                                          224\n",
       "[L.Point 3,000p 증정]햇반 오곡밥 24입/ 솥반 7종 골라담기 [ 택 1]              212\n",
       "비비고 왕교자1.05KG X 2개                                            206\n",
       "비비고 BEST 볶음밥 3종 특가[불고기 비빔밥 + 매콤부추고기볶음밥 + 간장버터장조림볶음밥]          164\n",
       "[CJ직배송]백설100%통참깨참기름300ML X 2개                                 148\n",
       "Name: 수량, dtype: int64"
      ]
     },
     "execution_count": 44,
     "metadata": {},
     "output_type": "execute_result"
    }
   ],
   "source": [
    "df_cancel.groupby('판매자상품명')['수량'].count().sort_values(ascending=False)[:10]\n",
    "#위랑 똑같은데 포도씨유가 엄청 많고 국/탕 종류도 엄청 많네"
   ]
  },
  {
   "cell_type": "code",
   "execution_count": 45,
   "id": "3d57153c",
   "metadata": {},
   "outputs": [
    {
     "data": {
      "text/plain": [
       "표준카테고리\n",
       "냉장/냉동/간편식 > 즉석밥/죽/스프 > 즉석밥      2068\n",
       "냉장/냉동/간편식 > 국/탕/찌개 > 국/탕        1055\n",
       "냉장/냉동/간편식 > 떡볶이/만두 > 만두          978\n",
       "가공식품 > 식용유/오일 > 식용유/오일선물세트       512\n",
       "냉장/냉동/간편식 > 돈가스/고로케/너겟 > 돈가스     421\n",
       "가공식품 > 통조림/캔 > 햄통조림              374\n",
       "과자/간식 > 캔디/껌/캐러멜 > 젤리/푸딩         335\n",
       "김치/반찬 > 김치 > 포기김치                315\n",
       "냉장/냉동/간편식 > 즉석밥/죽/스프 > 볶음밥       315\n",
       "가공식품 > 면류 > 기타면류                 277\n",
       "Name: 주문번호, dtype: int64"
      ]
     },
     "execution_count": 45,
     "metadata": {},
     "output_type": "execute_result"
    }
   ],
   "source": [
    "df_cancel.groupby('표준카테고리')['주문번호'].count().sort_values(ascending=False)[:10]\n",
    "#즉석밥 종류가 갑자기 많아짐"
   ]
  },
  {
   "cell_type": "code",
   "execution_count": 46,
   "id": "9582cd95",
   "metadata": {},
   "outputs": [],
   "source": [
    "df_cancel1=df_cancel[df_cancel[\"주문월\"]==1]\n",
    "df_cancel2=df_cancel[df_cancel[\"주문월\"]==2]\n",
    "df_cancel3=df_cancel[df_cancel[\"주문월\"]==3]\n",
    "df_cancel4=df_cancel[df_cancel[\"주문월\"]==4]\n",
    "df_cancel5=df_cancel[df_cancel[\"주문월\"]==5]\n",
    "df_cancel6=df_cancel[df_cancel[\"주문월\"]==6]\n",
    "df_cancel7=df_cancel[df_cancel[\"주문월\"]==7]\n",
    "df_cancel8=df_cancel[df_cancel[\"주문월\"]==8]\n",
    "df_cancel9=df_cancel[df_cancel[\"주문월\"]==9]"
   ]
  },
  {
   "cell_type": "code",
   "execution_count": 47,
   "id": "9069f27c",
   "metadata": {},
   "outputs": [
    {
     "data": {
      "image/png": "[encoded data removed]",
      "text/plain": [
       "<Figure size 1080x720 with 9 Axes>"
      ]
     },
     "metadata": {
      "needs_background": "light"
     },
     "output_type": "display_data"
    }
   ],
   "source": [
    "a1=df_cancel1['주문접수일시'].dt.day\n",
    "a2=df_cancel2['주문접수일시'].dt.day\n",
    "a3=df_cancel3['주문접수일시'].dt.day\n",
    "a4=df_cancel4['주문접수일시'].dt.day\n",
    "a5=df_cancel5['주문접수일시'].dt.day\n",
    "a6=df_cancel6['주문접수일시'].dt.day\n",
    "a7=df_cancel7['주문접수일시'].dt.day\n",
    "a8=df_cancel8['주문접수일시'].dt.day\n",
    "a9=df_cancel9['주문접수일시'].dt.day\n",
    "\n",
    "import matplotlib.gridspec as gridspec\n",
    "grid = gridspec.GridSpec(3,3)\n",
    "plt.figure(figsize=(15,10))\n",
    "plt.subplots_adjust(wspace=0.5, hspace=0.2)\n",
    "\n",
    "cj_features = [a1,a2,a3,a4,a5,a6,a7,a8,a9]\n",
    "\n",
    "for idx, feature in enumerate(cj_features):\n",
    "    ax = plt.subplot(grid[idx])\n",
    "    \n",
    "    plt.hist(feature)\n",
    "    ax.set_title(f'{idx+1} Distribution')\n",
    "    \n",
    "#판매량 히스토그램이랑 분포가 매우 비슷함    "
   ]
  },
  {
   "cell_type": "code",
   "execution_count": 48,
   "id": "e6f27cf8",
   "metadata": {},
   "outputs": [],
   "source": [
    "#5,6,7,8분석해보자\n",
    "df_cancel['주문일']=df_cancel[\"주문접수일시\"].dt.day"
   ]
  },
  {
   "cell_type": "markdown",
   "id": "e07ebdd6",
   "metadata": {},
   "source": [
    "# 6월 취소 이유"
   ]
  },
  {
   "cell_type": "code",
   "execution_count": 49,
   "id": "6dac7499",
   "metadata": {},
   "outputs": [
    {
     "data": {
      "text/html": [
       "<div>\n",
       "<style scoped>\n",
       "    .dataframe tbody tr th:only-of-type {\n",
       "        vertical-align: middle;\n",
       "    }\n",
       "\n",
       "    .dataframe tbody tr th {\n",
       "        vertical-align: top;\n",
       "    }\n",
       "\n",
       "    .dataframe thead th {\n",
       "        text-align: right;\n",
       "    }\n",
       "</style>\n",
       "<table border=\"1\" class=\"dataframe\">\n",
       "  <thead>\n",
       "    <tr style=\"text-align: right;\">\n",
       "      <th></th>\n",
       "      <th></th>\n",
       "      <th>count</th>\n",
       "    </tr>\n",
       "    <tr>\n",
       "      <th>주문월</th>\n",
       "      <th>주문일</th>\n",
       "      <th></th>\n",
       "    </tr>\n",
       "  </thead>\n",
       "  <tbody>\n",
       "    <tr>\n",
       "      <th rowspan=\"30\" valign=\"top\">6</th>\n",
       "      <th>1</th>\n",
       "      <td>13</td>\n",
       "    </tr>\n",
       "    <tr>\n",
       "      <th>2</th>\n",
       "      <td>5</td>\n",
       "    </tr>\n",
       "    <tr>\n",
       "      <th>3</th>\n",
       "      <td>5</td>\n",
       "    </tr>\n",
       "    <tr>\n",
       "      <th>4</th>\n",
       "      <td>12</td>\n",
       "    </tr>\n",
       "    <tr>\n",
       "      <th>5</th>\n",
       "      <td>6</td>\n",
       "    </tr>\n",
       "    <tr>\n",
       "      <th>6</th>\n",
       "      <td>33</td>\n",
       "    </tr>\n",
       "    <tr>\n",
       "      <th>7</th>\n",
       "      <td>79</td>\n",
       "    </tr>\n",
       "    <tr>\n",
       "      <th>8</th>\n",
       "      <td>134</td>\n",
       "    </tr>\n",
       "    <tr>\n",
       "      <th>9</th>\n",
       "      <td>239</td>\n",
       "    </tr>\n",
       "    <tr>\n",
       "      <th>10</th>\n",
       "      <td>42</td>\n",
       "    </tr>\n",
       "    <tr>\n",
       "      <th>11</th>\n",
       "      <td>26</td>\n",
       "    </tr>\n",
       "    <tr>\n",
       "      <th>12</th>\n",
       "      <td>138</td>\n",
       "    </tr>\n",
       "    <tr>\n",
       "      <th>13</th>\n",
       "      <td>29</td>\n",
       "    </tr>\n",
       "    <tr>\n",
       "      <th>14</th>\n",
       "      <td>11</td>\n",
       "    </tr>\n",
       "    <tr>\n",
       "      <th>15</th>\n",
       "      <td>7</td>\n",
       "    </tr>\n",
       "    <tr>\n",
       "      <th>16</th>\n",
       "      <td>22</td>\n",
       "    </tr>\n",
       "    <tr>\n",
       "      <th>17</th>\n",
       "      <td>9</td>\n",
       "    </tr>\n",
       "    <tr>\n",
       "      <th>18</th>\n",
       "      <td>28</td>\n",
       "    </tr>\n",
       "    <tr>\n",
       "      <th>19</th>\n",
       "      <td>10</td>\n",
       "    </tr>\n",
       "    <tr>\n",
       "      <th>20</th>\n",
       "      <td>43</td>\n",
       "    </tr>\n",
       "    <tr>\n",
       "      <th>21</th>\n",
       "      <td>79</td>\n",
       "    </tr>\n",
       "    <tr>\n",
       "      <th>22</th>\n",
       "      <td>46</td>\n",
       "    </tr>\n",
       "    <tr>\n",
       "      <th>23</th>\n",
       "      <td>71</td>\n",
       "    </tr>\n",
       "    <tr>\n",
       "      <th>24</th>\n",
       "      <td>38</td>\n",
       "    </tr>\n",
       "    <tr>\n",
       "      <th>25</th>\n",
       "      <td>167</td>\n",
       "    </tr>\n",
       "    <tr>\n",
       "      <th>26</th>\n",
       "      <td>118</td>\n",
       "    </tr>\n",
       "    <tr>\n",
       "      <th>27</th>\n",
       "      <td>98</td>\n",
       "    </tr>\n",
       "    <tr>\n",
       "      <th>28</th>\n",
       "      <td>29</td>\n",
       "    </tr>\n",
       "    <tr>\n",
       "      <th>29</th>\n",
       "      <td>22</td>\n",
       "    </tr>\n",
       "    <tr>\n",
       "      <th>30</th>\n",
       "      <td>128</td>\n",
       "    </tr>\n",
       "  </tbody>\n",
       "</table>\n",
       "</div>"
      ],
      "text/plain": [
       "         count\n",
       "주문월 주문일       \n",
       "6   1       13\n",
       "    2        5\n",
       "    3        5\n",
       "    4       12\n",
       "    5        6\n",
       "    6       33\n",
       "    7       79\n",
       "    8      134\n",
       "    9      239\n",
       "    10      42\n",
       "    11      26\n",
       "    12     138\n",
       "    13      29\n",
       "    14      11\n",
       "    15       7\n",
       "    16      22\n",
       "    17       9\n",
       "    18      28\n",
       "    19      10\n",
       "    20      43\n",
       "    21      79\n",
       "    22      46\n",
       "    23      71\n",
       "    24      38\n",
       "    25     167\n",
       "    26     118\n",
       "    27      98\n",
       "    28      29\n",
       "    29      22\n",
       "    30     128"
      ]
     },
     "execution_count": 49,
     "metadata": {},
     "output_type": "execute_result"
    }
   ],
   "source": [
    "df_day=df_cancel.groupby(['주문월','주문일']).agg(count=('주문일','count'))\n",
    "df_day.query(\"주문월==6\") #판매량이 많았던 날짜에 취소도 많았음"
   ]
  },
  {
   "cell_type": "code",
   "execution_count": 50,
   "id": "926d3c77",
   "metadata": {},
   "outputs": [],
   "source": [
    "df_cancel6=df_cancel[df_cancel['주문월']==6]"
   ]
  },
  {
   "cell_type": "code",
   "execution_count": 51,
   "id": "c2440ac1",
   "metadata": {},
   "outputs": [
    {
     "data": {
      "text/plain": [
       "유입매체\n",
       "APP       176\n",
       "MO WEB     48\n",
       "PC         15\n",
       "Name: 주문번호, dtype: int64"
      ]
     },
     "execution_count": 51,
     "metadata": {},
     "output_type": "execute_result"
    }
   ],
   "source": [
    "df_cancel6[df_cancel6[\"주문일\"]==9].groupby('유입매체')['주문번호'].count() \n",
    "#확실히 app비율 높음"
   ]
  },
  {
   "cell_type": "code",
   "execution_count": 52,
   "id": "ef9ba7ac",
   "metadata": {},
   "outputs": [
    {
     "data": {
      "text/plain": [
       "유입채널\n",
       "디폴트 채널상세                           121\n",
       "유실 채널상세                            101\n",
       "[롯데ON] MO Web 행사장_21.07_월간APP혜택      3\n",
       "[롯데ON][알림톡][[롯데ON] 발송지연 안내]          3\n",
       "[모바일]카카오톡                            3\n",
       "[네이버] MO_브랜드검색_롯데ON                  2\n",
       "[샵백] CPS제휴_매출_롯데ON                   2\n",
       "[네이버] PCS 가격비교_롯데ON                  1\n",
       "[롯데ON][PUSH][상품 Q&A 답변 등록]           1\n",
       "[롯데ON][PUSH][🔔장바구니 알리미]              1\n",
       "Name: 주문번호, dtype: int64"
      ]
     },
     "execution_count": 52,
     "metadata": {},
     "output_type": "execute_result"
    }
   ],
   "source": [
    "df_cancel6[df_cancel6[\"주문일\"]==9].groupby('유입채널')['주문번호'].count().sort_values(ascending=False)[:10]"
   ]
  },
  {
   "cell_type": "code",
   "execution_count": 53,
   "id": "f4d3b8e5",
   "metadata": {},
   "outputs": [
    {
     "data": {
      "text/plain": [
       "전시상품명\n",
       "비비고 BEST 볶음밥 3종 특가[불고기 비빔밥 + 매콤부추고기볶음밥 + 간장버터장조림볶음밥]    129\n",
       "햇반 쿡반불고기500+치즈500+버터장조림500+치즈닭갈비500G                     41\n",
       "CJ 햇반 쿡반 주먹밥 5종 골라담기                                     32\n",
       "[2+1][3+2]CJ제일제당 쁘띠첼 미초 석류+청포도+복숭아 外 골라담기                 4\n",
       "비비고 차돌깍두기볶음밥 410g x3개                                     4\n",
       "구운주먹밥 치즈닭갈비 500G X 2개                                     4\n",
       "비비고 사골곰탕 500g x18봉                                        4\n",
       "구운주먹밥 버터장조림 500G X 2개                                     2\n",
       "비비고 왕교자1.05KG X 3봉 + 수제고기만두 증정                            2\n",
       "비비고 수제고기만두x2개+수제김치만두x2개                                   1\n",
       "Name: 주문번호, dtype: int64"
      ]
     },
     "execution_count": 53,
     "metadata": {},
     "output_type": "execute_result"
    }
   ],
   "source": [
    "df_cancel6[df_cancel6[\"주문일\"]==9].groupby('전시상품명')['주문번호'].count().sort_values(ascending=False)[:10]\n",
    "#역시 많이 주문한 걸 많이 취소함"
   ]
  },
  {
   "cell_type": "code",
   "execution_count": 54,
   "id": "3691d473",
   "metadata": {},
   "outputs": [
    {
     "data": {
      "text/plain": [
       "표준카테고리\n",
       "냉장/냉동/간편식 > 즉석밥/죽/스프 > 볶음밥      143\n",
       "냉장/냉동/간편식 > 즉석밥/죽/스프 > 즉석밥       44\n",
       "냉장/냉동/간편식 > 돈가스/고로케/너겟 > 돈가스     32\n",
       "냉장/냉동/간편식 > 국/탕/찌개 > 국/탕          7\n",
       "커피/생수/음료 > 주스/과즙음료 > 과일음료         4\n",
       "냉장/냉동/간편식 > 떡볶이/만두 > 만두           3\n",
       "가공식품 > 면류 > 기타면류                  2\n",
       "가공식품 > 장류 > 고추장/초고추장              1\n",
       "가공식품 > 조미료/양념 > 가공조미료             1\n",
       "가공식품 > 통조림/캔 > 닭가슴살통조림            1\n",
       "Name: 주문번호, dtype: int64"
      ]
     },
     "execution_count": 54,
     "metadata": {},
     "output_type": "execute_result"
    }
   ],
   "source": [
    "df_cancel6[df_cancel6[\"주문일\"]==9].groupby('표준카테고리')['주문번호'].count().sort_values(ascending=False)[:10]"
   ]
  },
  {
   "cell_type": "code",
   "execution_count": 55,
   "id": "bc47882b",
   "metadata": {},
   "outputs": [
    {
     "data": {
      "text/plain": [
       "전시상품명\n",
       "비비고 사골곰탕 500g x18봉                                79\n",
       "미역국 X 5개 + 사골곰탕 X2개+ 영양꼬리곰탕 1봉 증정                 18\n",
       "육개장 X 5개 + 사골곰탕 X2개 +육개장300g 증정                    7\n",
       "비비고 진국육수 3종 + 한우사골곰탕 500G 구매시 육개장300g 1봉 증정        6\n",
       "[CJ직배송][한박스]비비고 한우사골곰탕 500gx18개                    5\n",
       "비비고 왕교자 1.05KGx4개+비비고 찐만두 168gx1개                  3\n",
       "사골곰탕 500G X 15봉                                    2\n",
       "[CJ직배송]New 중력1등1kg                                 1\n",
       "비비고 새우볶음밥 420g x3개                                 1\n",
       "[CJ] 고메 마르게리타피자300g+칠리감바스피자350g+콰트로 포르마지피자310g     1\n",
       "Name: 주문번호, dtype: int64"
      ]
     },
     "execution_count": 55,
     "metadata": {},
     "output_type": "execute_result"
    }
   ],
   "source": [
    "df_cancel6[df_cancel6[\"주문일\"]==8].groupby('전시상품명')['주문번호'].count().sort_values(ascending=False)[:10]"
   ]
  },
  {
   "cell_type": "code",
   "execution_count": 56,
   "id": "fe19b9dd",
   "metadata": {},
   "outputs": [
    {
     "data": {
      "text/plain": [
       "표준카테고리\n",
       "냉장/냉동/간편식 > 국/탕/찌개 > 국/탕           122\n",
       "냉장/냉동/간편식 > 떡볶이/만두 > 만두              3\n",
       "냉장/냉동/간편식 > 즉석밥/죽/스프 > 볶음밥           2\n",
       "가공식품 > 밀가루/믹스류 > 밀가루                 1\n",
       "가공식품 > 밀가루/믹스류 > 베이킹믹스               1\n",
       "과자/간식 > 기타간식 > 맛밤/맛고구마               1\n",
       "냉장/냉동/간편식 > 돈가스/고로케/너겟 > 돈가스         1\n",
       "냉장/냉동/간편식 > 즉석밥/죽/스프 > 즉석밥           1\n",
       "냉장/냉동/간편식 > 피자/핫도그/햄버거 > 피자/햄버거      1\n",
       "커피/생수/음료 > 주스/과즙음료 > 과일음료            1\n",
       "Name: 주문번호, dtype: int64"
      ]
     },
     "execution_count": 56,
     "metadata": {},
     "output_type": "execute_result"
    }
   ],
   "source": [
    "df_cancel6[df_cancel6[\"주문일\"]==8].groupby('표준카테고리')['주문번호'].count().sort_values(ascending=False)[:10]\n",
    "#전날도 많이 팔린게 많이 취소"
   ]
  },
  {
   "cell_type": "code",
   "execution_count": 57,
   "id": "254cc527",
   "metadata": {},
   "outputs": [
    {
     "data": {
      "text/plain": [
       "전시상품명\n",
       "[Lpoint 1,000P 지급]햇반 작은공기, 100% 현미밥 x 36개 특가 (1,000set 한정)    137\n",
       "비비고 사골곰탕 500g x18봉                                              4\n",
       "햇반작은공기130GX24개                                                  3\n",
       "[CJ직배송][한박스]비비고칩 오리지널40g x24개                                   3\n",
       "[햇반 솥반 X 서울체크인]햇반솥반 꿀약밥 210g X 4개                               3\n",
       "[복날 준비 특가]누룽지닭백숙죽/전복삼계죽/녹두닭죽 外 + 보양닭백숙죽 증정                      2\n",
       "[2+1][3+2]CJ제일제당 쁘띠첼 미초 석류+청포도+복숭아 外 골라담기                       2\n",
       "[CJ직배송]쁘띠첼 망고달달함듬뿍워터젤리130ML X 10개                               1\n",
       "[CJ직배송]햇반 발아현미밥 작은공기 130G*3번들 X7개                               1\n",
       "[CJ직배송]햇반작은공기130G x36개                                          1\n",
       "Name: 주문번호, dtype: int64"
      ]
     },
     "execution_count": 57,
     "metadata": {},
     "output_type": "execute_result"
    }
   ],
   "source": [
    "df_cancel6[df_cancel6[\"주문일\"]==25].groupby('전시상품명')['주문번호'].count().sort_values(ascending=False)[:10]"
   ]
  },
  {
   "cell_type": "code",
   "execution_count": 58,
   "id": "b403ff55",
   "metadata": {},
   "outputs": [
    {
     "data": {
      "text/plain": [
       "표준카테고리\n",
       "냉장/냉동/간편식 > 즉석밥/죽/스프 > 즉석밥    149\n",
       "냉장/냉동/간편식 > 국/탕/찌개 > 국/탕        6\n",
       "과자/간식 > 기타간식 > 김스낵              3\n",
       "냉장/냉동/간편식 > 떡볶이/만두 > 만두         3\n",
       "커피/생수/음료 > 주스/과즙음료 > 과일음료       3\n",
       "가공식품 > 장류 > 된장/쌈장/청국장           1\n",
       "과자/간식 > 빵/베이커리 > 기타빵            1\n",
       "과자/간식 > 캔디/껌/캐러멜 > 젤리/푸딩        1\n",
       "Name: 주문번호, dtype: int64"
      ]
     },
     "execution_count": 58,
     "metadata": {},
     "output_type": "execute_result"
    }
   ],
   "source": [
    "df_cancel6[df_cancel6[\"주문일\"]==25].groupby('표준카테고리')['주문번호'].count().sort_values(ascending=False)[:10]\n",
    "#25일도 같았음"
   ]
  },
  {
   "cell_type": "markdown",
   "id": "b60201b2",
   "metadata": {},
   "source": [
    "# 8월도 살펴보자"
   ]
  },
  {
   "cell_type": "code",
   "execution_count": 59,
   "id": "aa1b6c91",
   "metadata": {},
   "outputs": [
    {
     "data": {
      "text/html": [
       "<div>\n",
       "<style scoped>\n",
       "    .dataframe tbody tr th:only-of-type {\n",
       "        vertical-align: middle;\n",
       "    }\n",
       "\n",
       "    .dataframe tbody tr th {\n",
       "        vertical-align: top;\n",
       "    }\n",
       "\n",
       "    .dataframe thead th {\n",
       "        text-align: right;\n",
       "    }\n",
       "</style>\n",
       "<table border=\"1\" class=\"dataframe\">\n",
       "  <thead>\n",
       "    <tr style=\"text-align: right;\">\n",
       "      <th></th>\n",
       "      <th></th>\n",
       "      <th>count</th>\n",
       "    </tr>\n",
       "    <tr>\n",
       "      <th>주문월</th>\n",
       "      <th>주문일</th>\n",
       "      <th></th>\n",
       "    </tr>\n",
       "  </thead>\n",
       "  <tbody>\n",
       "    <tr>\n",
       "      <th rowspan=\"31\" valign=\"top\">8</th>\n",
       "      <th>1</th>\n",
       "      <td>35</td>\n",
       "    </tr>\n",
       "    <tr>\n",
       "      <th>2</th>\n",
       "      <td>32</td>\n",
       "    </tr>\n",
       "    <tr>\n",
       "      <th>3</th>\n",
       "      <td>534</td>\n",
       "    </tr>\n",
       "    <tr>\n",
       "      <th>4</th>\n",
       "      <td>132</td>\n",
       "    </tr>\n",
       "    <tr>\n",
       "      <th>5</th>\n",
       "      <td>122</td>\n",
       "    </tr>\n",
       "    <tr>\n",
       "      <th>6</th>\n",
       "      <td>314</td>\n",
       "    </tr>\n",
       "    <tr>\n",
       "      <th>7</th>\n",
       "      <td>676</td>\n",
       "    </tr>\n",
       "    <tr>\n",
       "      <th>8</th>\n",
       "      <td>92</td>\n",
       "    </tr>\n",
       "    <tr>\n",
       "      <th>9</th>\n",
       "      <td>42</td>\n",
       "    </tr>\n",
       "    <tr>\n",
       "      <th>10</th>\n",
       "      <td>13</td>\n",
       "    </tr>\n",
       "    <tr>\n",
       "      <th>11</th>\n",
       "      <td>14</td>\n",
       "    </tr>\n",
       "    <tr>\n",
       "      <th>12</th>\n",
       "      <td>43</td>\n",
       "    </tr>\n",
       "    <tr>\n",
       "      <th>13</th>\n",
       "      <td>15</td>\n",
       "    </tr>\n",
       "    <tr>\n",
       "      <th>14</th>\n",
       "      <td>16</td>\n",
       "    </tr>\n",
       "    <tr>\n",
       "      <th>15</th>\n",
       "      <td>8</td>\n",
       "    </tr>\n",
       "    <tr>\n",
       "      <th>16</th>\n",
       "      <td>15</td>\n",
       "    </tr>\n",
       "    <tr>\n",
       "      <th>17</th>\n",
       "      <td>192</td>\n",
       "    </tr>\n",
       "    <tr>\n",
       "      <th>18</th>\n",
       "      <td>27</td>\n",
       "    </tr>\n",
       "    <tr>\n",
       "      <th>19</th>\n",
       "      <td>8</td>\n",
       "    </tr>\n",
       "    <tr>\n",
       "      <th>20</th>\n",
       "      <td>6</td>\n",
       "    </tr>\n",
       "    <tr>\n",
       "      <th>21</th>\n",
       "      <td>3</td>\n",
       "    </tr>\n",
       "    <tr>\n",
       "      <th>22</th>\n",
       "      <td>5</td>\n",
       "    </tr>\n",
       "    <tr>\n",
       "      <th>23</th>\n",
       "      <td>6</td>\n",
       "    </tr>\n",
       "    <tr>\n",
       "      <th>24</th>\n",
       "      <td>17</td>\n",
       "    </tr>\n",
       "    <tr>\n",
       "      <th>25</th>\n",
       "      <td>87</td>\n",
       "    </tr>\n",
       "    <tr>\n",
       "      <th>26</th>\n",
       "      <td>13</td>\n",
       "    </tr>\n",
       "    <tr>\n",
       "      <th>27</th>\n",
       "      <td>8</td>\n",
       "    </tr>\n",
       "    <tr>\n",
       "      <th>28</th>\n",
       "      <td>13</td>\n",
       "    </tr>\n",
       "    <tr>\n",
       "      <th>29</th>\n",
       "      <td>20</td>\n",
       "    </tr>\n",
       "    <tr>\n",
       "      <th>30</th>\n",
       "      <td>22</td>\n",
       "    </tr>\n",
       "    <tr>\n",
       "      <th>31</th>\n",
       "      <td>102</td>\n",
       "    </tr>\n",
       "  </tbody>\n",
       "</table>\n",
       "</div>"
      ],
      "text/plain": [
       "         count\n",
       "주문월 주문일       \n",
       "8   1       35\n",
       "    2       32\n",
       "    3      534\n",
       "    4      132\n",
       "    5      122\n",
       "    6      314\n",
       "    7      676\n",
       "    8       92\n",
       "    9       42\n",
       "    10      13\n",
       "    11      14\n",
       "    12      43\n",
       "    13      15\n",
       "    14      16\n",
       "    15       8\n",
       "    16      15\n",
       "    17     192\n",
       "    18      27\n",
       "    19       8\n",
       "    20       6\n",
       "    21       3\n",
       "    22       5\n",
       "    23       6\n",
       "    24      17\n",
       "    25      87\n",
       "    26      13\n",
       "    27       8\n",
       "    28      13\n",
       "    29      20\n",
       "    30      22\n",
       "    31     102"
      ]
     },
     "execution_count": 59,
     "metadata": {},
     "output_type": "execute_result"
    }
   ],
   "source": [
    "df_day2=df_cancel.groupby(['주문월','주문일']).agg(count=('주문일','count'))\n",
    "df_day2.query(\"주문월==8\")#6월이랑 똑같이 판매량 많은게 많이 취소"
   ]
  },
  {
   "cell_type": "code",
   "execution_count": 60,
   "id": "3826d1ef",
   "metadata": {},
   "outputs": [],
   "source": [
    "df_cancel8=df_cancel[df_cancel['주문월']==8]"
   ]
  },
  {
   "cell_type": "code",
   "execution_count": 61,
   "id": "65a2c7a0",
   "metadata": {},
   "outputs": [
    {
     "data": {
      "text/plain": [
       "유입매체\n",
       "APP       417\n",
       "MO WEB     93\n",
       "PC         24\n",
       "Name: 주문번호, dtype: int64"
      ]
     },
     "execution_count": 61,
     "metadata": {},
     "output_type": "execute_result"
    }
   ],
   "source": [
    "df_cancel8[df_cancel8[\"주문일\"]==3].groupby('유입매체')['주문번호'].count() "
   ]
  },
  {
   "cell_type": "code",
   "execution_count": 62,
   "id": "fc160714",
   "metadata": {},
   "outputs": [
    {
     "data": {
      "text/plain": [
       "전시상품명\n",
       "CJ 스팸 25%라이트/ 스팸클래식 4개 골라담기 [ 택 1]                287\n",
       "비비고 왕교자1.05KG X 2개                                152\n",
       "비비고 사골곰탕 500g x18봉                                 28\n",
       "왕교자 1.05kgx2 + 김치왕교자 420gx2                        12\n",
       "[6+6+6 선착순 특가]다담 정통된장찌개/청국장찌개/순두부찌개 外 골라담기          6\n",
       "CJ 햇반 쿡반 주먹밥 5종 골라담기                                4\n",
       "[CJ직배송] New 햇반 210g*3입X 8개(총24개)                    3\n",
       "[CJ직배송] CJ 햇반 백미 210g x 36개                         3\n",
       "[6+2]비비고 용기형 단호박죽/통단팥죽/흑임자죽 + 버섯야채죽 280GX2개 증정      3\n",
       "햇반 솥반 프리미엄 6종 골라담기[택 1]                             3\n",
       "Name: 주문번호, dtype: int64"
      ]
     },
     "execution_count": 62,
     "metadata": {},
     "output_type": "execute_result"
    }
   ],
   "source": [
    "df_cancel8[df_cancel8[\"주문일\"]==3].groupby('전시상품명')['주문번호'].count().sort_values(ascending=False)[:10]"
   ]
  },
  {
   "cell_type": "code",
   "execution_count": 63,
   "id": "5fe60113",
   "metadata": {},
   "outputs": [
    {
     "data": {
      "text/plain": [
       "표준카테고리\n",
       "가공식품 > 통조림/캔 > 햄통조림             288\n",
       "냉장/냉동/간편식 > 떡볶이/만두 > 만두         172\n",
       "냉장/냉동/간편식 > 국/탕/찌개 > 국/탕         28\n",
       "냉장/냉동/간편식 > 즉석밥/죽/스프 > 즉석밥       22\n",
       "가공식품 > 소스/드레싱 > 기타소스              7\n",
       "냉장/냉동/간편식 > 돈가스/고로케/너겟 > 돈가스      6\n",
       "가공식품 > 면류 > 기타면류                  4\n",
       "가공식품 > 장류 > 고추장/초고추장              2\n",
       "과자/간식 > 캔디/껌/캐러멜 > 젤리/푸딩          2\n",
       "가공식품 > 통조림/캔 > 캔/통조림선물세트          1\n",
       "Name: 주문번호, dtype: int64"
      ]
     },
     "execution_count": 63,
     "metadata": {},
     "output_type": "execute_result"
    }
   ],
   "source": [
    "df_cancel8[df_cancel8[\"주문일\"]==3].groupby('표준카테고리')['주문번호'].count().sort_values(ascending=False)[:10]\n",
    "#역시나 예상과 같음"
   ]
  },
  {
   "cell_type": "markdown",
   "id": "4dfd6e8e",
   "metadata": {},
   "source": [
    "# 반품한 이유를 알아보자\n",
    "주문접수일시만 나와있어서 언제 반품했는지 정확한 날짜를 모름->반품한 이유를 찾지 못함\n",
    "-상태처리일시는 무엇을 뜻하는거지?"
   ]
  },
  {
   "cell_type": "code",
   "execution_count": 64,
   "id": "0258150e",
   "metadata": {},
   "outputs": [
    {
     "data": {
      "text/plain": [
       "204"
      ]
     },
     "execution_count": 64,
     "metadata": {},
     "output_type": "execute_result"
    }
   ],
   "source": [
    "(df_cancel[\"유형\"]==\"반품\").sum()"
   ]
  },
  {
   "cell_type": "code",
   "execution_count": 65,
   "id": "72631bae",
   "metadata": {},
   "outputs": [],
   "source": [
    "df_b=df_cancel[df_cancel[\"유형\"]==\"반품\"]"
   ]
  },
  {
   "cell_type": "code",
   "execution_count": 66,
   "id": "99676d04",
   "metadata": {},
   "outputs": [
    {
     "data": {
      "text/html": [
       "<div>\n",
       "<style scoped>\n",
       "    .dataframe tbody tr th:only-of-type {\n",
       "        vertical-align: middle;\n",
       "    }\n",
       "\n",
       "    .dataframe tbody tr th {\n",
       "        vertical-align: top;\n",
       "    }\n",
       "\n",
       "    .dataframe thead th {\n",
       "        text-align: right;\n",
       "    }\n",
       "</style>\n",
       "<table border=\"1\" class=\"dataframe\">\n",
       "  <thead>\n",
       "    <tr style=\"text-align: right;\">\n",
       "      <th></th>\n",
       "      <th>주문접수일시</th>\n",
       "      <th>주문번호</th>\n",
       "      <th>유입매체</th>\n",
       "      <th>주문구분</th>\n",
       "      <th>유입채널</th>\n",
       "      <th>회원구분</th>\n",
       "      <th>아이디</th>\n",
       "      <th>전시유입코드</th>\n",
       "      <th>상품주문번호</th>\n",
       "      <th>유형</th>\n",
       "      <th>...</th>\n",
       "      <th>판매자상품번호</th>\n",
       "      <th>판매자상품명</th>\n",
       "      <th>판매자단품번호</th>\n",
       "      <th>판매자단품명</th>\n",
       "      <th>판매가</th>\n",
       "      <th>수량</th>\n",
       "      <th>표준카테고리</th>\n",
       "      <th>판매액</th>\n",
       "      <th>주문월</th>\n",
       "      <th>주문일</th>\n",
       "    </tr>\n",
       "  </thead>\n",
       "  <tbody>\n",
       "    <tr>\n",
       "      <th>5</th>\n",
       "      <td>2022-01-02 19:13:13</td>\n",
       "      <td>2022010212067466</td>\n",
       "      <td>MO WEB</td>\n",
       "      <td>일반주문</td>\n",
       "      <td>[네이버] PCS 가격비교_롯데ON</td>\n",
       "      <td>LPOINT통합회원</td>\n",
       "      <td>moya****</td>\n",
       "      <td>CHT</td>\n",
       "      <td>2022010212067466_1</td>\n",
       "      <td>반품</td>\n",
       "      <td>...</td>\n",
       "      <td>LO1637707729</td>\n",
       "      <td>[CJ직배송]콘치즈 피자(꼬깔콘 콜라보레이션)x4개</td>\n",
       "      <td>LO1637707729_1637707730</td>\n",
       "      <td>단일상품</td>\n",
       "      <td>27920</td>\n",
       "      <td>1</td>\n",
       "      <td>냉장/냉동/간편식 &gt; 돈가스/고로케/너겟 &gt; 돈가스</td>\n",
       "      <td>27920</td>\n",
       "      <td>1</td>\n",
       "      <td>2</td>\n",
       "    </tr>\n",
       "    <tr>\n",
       "      <th>8</th>\n",
       "      <td>2022-01-02 22:50:48</td>\n",
       "      <td>2022010212100756</td>\n",
       "      <td>MO WEB</td>\n",
       "      <td>일반주문</td>\n",
       "      <td>[네이버] 키워드_쇼핑검색광고_롯데ON</td>\n",
       "      <td>LPOINT통합회원</td>\n",
       "      <td>bmwo****</td>\n",
       "      <td>CHT</td>\n",
       "      <td>2022010212100756_1</td>\n",
       "      <td>반품</td>\n",
       "      <td>...</td>\n",
       "      <td>LO1489582703</td>\n",
       "      <td>[롯데ON] 비비고 가자미구이 70g X 5개</td>\n",
       "      <td>LO1489582703_1489582704</td>\n",
       "      <td>단일상품</td>\n",
       "      <td>15790</td>\n",
       "      <td>1</td>\n",
       "      <td>수산/건어물 &gt; 생선 &gt; 반조리생선</td>\n",
       "      <td>15790</td>\n",
       "      <td>1</td>\n",
       "      <td>2</td>\n",
       "    </tr>\n",
       "    <tr>\n",
       "      <th>17</th>\n",
       "      <td>2022-01-03 09:23:19</td>\n",
       "      <td>2022010312162066</td>\n",
       "      <td>APP</td>\n",
       "      <td>일반주문</td>\n",
       "      <td>[롯데ON][알림톡][[롯데ON] 상품Q&amp;A 답변등록 안내]</td>\n",
       "      <td>LPOINT통합회원</td>\n",
       "      <td>psmd****</td>\n",
       "      <td>NaN</td>\n",
       "      <td>2022010312162066_1</td>\n",
       "      <td>반품</td>\n",
       "      <td>...</td>\n",
       "      <td>LO1001452350</td>\n",
       "      <td>CJ 비비고 언양식바싹불고기460g*3개</td>\n",
       "      <td>LO1001452350_1001452351</td>\n",
       "      <td>단일상품</td>\n",
       "      <td>22440</td>\n",
       "      <td>1</td>\n",
       "      <td>냉장/냉동/간편식 &gt; 돈가스/고로케/너겟 &gt; 너겟</td>\n",
       "      <td>22440</td>\n",
       "      <td>1</td>\n",
       "      <td>3</td>\n",
       "    </tr>\n",
       "    <tr>\n",
       "      <th>26</th>\n",
       "      <td>2022-01-03 14:57:33</td>\n",
       "      <td>2022010312257335</td>\n",
       "      <td>PC</td>\n",
       "      <td>일반주문</td>\n",
       "      <td>[다음카카오] PCS 가격비교_롯데ON</td>\n",
       "      <td>LPOINT통합회원</td>\n",
       "      <td>yoon****</td>\n",
       "      <td>CHT</td>\n",
       "      <td>2022010312257335_1</td>\n",
       "      <td>반품</td>\n",
       "      <td>...</td>\n",
       "      <td>LO1135162715</td>\n",
       "      <td>CJ 다담 된장찌개양념 530G x3</td>\n",
       "      <td>LO1135162715_1135162716</td>\n",
       "      <td>단일상품</td>\n",
       "      <td>16240</td>\n",
       "      <td>1</td>\n",
       "      <td>가공식품 &gt; 장류 &gt; 된장/쌈장/청국장</td>\n",
       "      <td>16240</td>\n",
       "      <td>1</td>\n",
       "      <td>3</td>\n",
       "    </tr>\n",
       "    <tr>\n",
       "      <th>38</th>\n",
       "      <td>2022-01-05 14:17:40</td>\n",
       "      <td>2022010512615049</td>\n",
       "      <td>MO WEB</td>\n",
       "      <td>일반주문</td>\n",
       "      <td>[네이버] 키워드_쇼핑검색광고_롯데ON</td>\n",
       "      <td>LPOINT통합회원</td>\n",
       "      <td>aaks****</td>\n",
       "      <td>CHT</td>\n",
       "      <td>2022010512615049_1</td>\n",
       "      <td>반품</td>\n",
       "      <td>...</td>\n",
       "      <td>LO1237517827</td>\n",
       "      <td>CJ 다담 된장찌개양념 530G *2</td>\n",
       "      <td>LO1237517827_1237517828</td>\n",
       "      <td>단일상품</td>\n",
       "      <td>9800</td>\n",
       "      <td>2</td>\n",
       "      <td>가공식품 &gt; 소스/드레싱 &gt; 칠리/살사소스</td>\n",
       "      <td>19600</td>\n",
       "      <td>1</td>\n",
       "      <td>5</td>\n",
       "    </tr>\n",
       "  </tbody>\n",
       "</table>\n",
       "<p>5 rows × 30 columns</p>\n",
       "</div>"
      ],
      "text/plain": [
       "                주문접수일시              주문번호    유입매체  주문구분  \\\n",
       "5  2022-01-02 19:13:13  2022010212067466  MO WEB  일반주문   \n",
       "8  2022-01-02 22:50:48  2022010212100756  MO WEB  일반주문   \n",
       "17 2022-01-03 09:23:19  2022010312162066     APP  일반주문   \n",
       "26 2022-01-03 14:57:33  2022010312257335      PC  일반주문   \n",
       "38 2022-01-05 14:17:40  2022010512615049  MO WEB  일반주문   \n",
       "\n",
       "                                 유입채널        회원구분       아이디 전시유입코드  \\\n",
       "5                 [네이버] PCS 가격비교_롯데ON  LPOINT통합회원  moya****    CHT   \n",
       "8               [네이버] 키워드_쇼핑검색광고_롯데ON  LPOINT통합회원  bmwo****    CHT   \n",
       "17  [롯데ON][알림톡][[롯데ON] 상품Q&A 답변등록 안내]  LPOINT통합회원  psmd****    NaN   \n",
       "26              [다음카카오] PCS 가격비교_롯데ON  LPOINT통합회원  yoon****    CHT   \n",
       "38              [네이버] 키워드_쇼핑검색광고_롯데ON  LPOINT통합회원  aaks****    CHT   \n",
       "\n",
       "                상품주문번호  유형  ...       판매자상품번호                        판매자상품명  \\\n",
       "5   2022010212067466_1  반품  ...  LO1637707729  [CJ직배송]콘치즈 피자(꼬깔콘 콜라보레이션)x4개   \n",
       "8   2022010212100756_1  반품  ...  LO1489582703     [롯데ON] 비비고 가자미구이 70g X 5개   \n",
       "17  2022010312162066_1  반품  ...  LO1001452350        CJ 비비고 언양식바싹불고기460g*3개   \n",
       "26  2022010312257335_1  반품  ...  LO1135162715          CJ 다담 된장찌개양념 530G x3   \n",
       "38  2022010512615049_1  반품  ...  LO1237517827          CJ 다담 된장찌개양념 530G *2   \n",
       "\n",
       "                    판매자단품번호 판매자단품명    판매가 수량                        표준카테고리  \\\n",
       "5   LO1637707729_1637707730   단일상품  27920  1  냉장/냉동/간편식 > 돈가스/고로케/너겟 > 돈가스   \n",
       "8   LO1489582703_1489582704   단일상품  15790  1           수산/건어물 > 생선 > 반조리생선   \n",
       "17  LO1001452350_1001452351   단일상품  22440  1   냉장/냉동/간편식 > 돈가스/고로케/너겟 > 너겟   \n",
       "26  LO1135162715_1135162716   단일상품  16240  1         가공식품 > 장류 > 된장/쌈장/청국장   \n",
       "38  LO1237517827_1237517828   단일상품   9800  2       가공식품 > 소스/드레싱 > 칠리/살사소스   \n",
       "\n",
       "      판매액 주문월 주문일  \n",
       "5   27920   1   2  \n",
       "8   15790   1   2  \n",
       "17  22440   1   3  \n",
       "26  16240   1   3  \n",
       "38  19600   1   5  \n",
       "\n",
       "[5 rows x 30 columns]"
      ]
     },
     "execution_count": 66,
     "metadata": {},
     "output_type": "execute_result"
    }
   ],
   "source": [
    "df_b.head()"
   ]
  },
  {
   "cell_type": "code",
   "execution_count": 67,
   "id": "4cec1fac",
   "metadata": {},
   "outputs": [],
   "source": [
    "df_b1=df_b[df_b[\"주문월\"]==1]\n",
    "df_b2=df_b[df_b[\"주문월\"]==2]\n",
    "df_b3=df_b[df_b[\"주문월\"]==3]\n",
    "df_b4=df_b[df_b[\"주문월\"]==4]\n",
    "df_b5=df_b[df_b[\"주문월\"]==5]\n",
    "df_b6=df_b[df_b[\"주문월\"]==6]\n",
    "df_b7=df_b[df_b[\"주문월\"]==7]\n",
    "df_b8=df_b[df_b[\"주문월\"]==8]\n",
    "df_b9=df_b[df_b[\"주문월\"]==9]"
   ]
  },
  {
   "cell_type": "code",
   "execution_count": 68,
   "id": "d509e4e7",
   "metadata": {},
   "outputs": [
    {
     "data": {
      "image/png": "[encoded data removed]",
      "text/plain": [
       "<Figure size 1080x720 with 9 Axes>"
      ]
     },
     "metadata": {
      "needs_background": "light"
     },
     "output_type": "display_data"
    }
   ],
   "source": [
    "a1=df_b1['주문접수일시'].dt.day\n",
    "a2=df_b2['주문접수일시'].dt.day\n",
    "a3=df_b3['주문접수일시'].dt.day\n",
    "a4=df_b4['주문접수일시'].dt.day\n",
    "a5=df_b5['주문접수일시'].dt.day\n",
    "a6=df_b6['주문접수일시'].dt.day\n",
    "a7=df_b7['주문접수일시'].dt.day\n",
    "a8=df_b8['주문접수일시'].dt.day\n",
    "a9=df_b9['주문접수일시'].dt.day\n",
    "\n",
    "import matplotlib.gridspec as gridspec\n",
    "grid = gridspec.GridSpec(3,3)\n",
    "plt.figure(figsize=(15,10))\n",
    "plt.subplots_adjust(wspace=0.5, hspace=0.2)\n",
    "\n",
    "cj_features = [a1,a2,a3,a4,a5,a6,a7,a8,a9]\n",
    "\n",
    "for idx, feature in enumerate(cj_features):\n",
    "    ax = plt.subplot(grid[idx])\n",
    "    \n",
    "    plt.hist(feature)\n",
    "    ax.set_title(f'{idx+1} Distribution')\n",
    "\n",
    "    \n",
    "#10개 이상만 본다면 1, 6, 8월달 분석 필요"
   ]
  },
  {
   "cell_type": "code",
   "execution_count": 69,
   "id": "cd1446b3",
   "metadata": {},
   "outputs": [
    {
     "data": {
      "text/html": [
       "<div>\n",
       "<style scoped>\n",
       "    .dataframe tbody tr th:only-of-type {\n",
       "        vertical-align: middle;\n",
       "    }\n",
       "\n",
       "    .dataframe tbody tr th {\n",
       "        vertical-align: top;\n",
       "    }\n",
       "\n",
       "    .dataframe thead th {\n",
       "        text-align: right;\n",
       "    }\n",
       "</style>\n",
       "<table border=\"1\" class=\"dataframe\">\n",
       "  <thead>\n",
       "    <tr style=\"text-align: right;\">\n",
       "      <th></th>\n",
       "      <th></th>\n",
       "      <th>count</th>\n",
       "    </tr>\n",
       "    <tr>\n",
       "      <th>주문월</th>\n",
       "      <th>주문일</th>\n",
       "      <th></th>\n",
       "    </tr>\n",
       "  </thead>\n",
       "  <tbody>\n",
       "    <tr>\n",
       "      <th rowspan=\"16\" valign=\"top\">1</th>\n",
       "      <th>2</th>\n",
       "      <td>2</td>\n",
       "    </tr>\n",
       "    <tr>\n",
       "      <th>3</th>\n",
       "      <td>2</td>\n",
       "    </tr>\n",
       "    <tr>\n",
       "      <th>5</th>\n",
       "      <td>2</td>\n",
       "    </tr>\n",
       "    <tr>\n",
       "      <th>6</th>\n",
       "      <td>1</td>\n",
       "    </tr>\n",
       "    <tr>\n",
       "      <th>8</th>\n",
       "      <td>1</td>\n",
       "    </tr>\n",
       "    <tr>\n",
       "      <th>9</th>\n",
       "      <td>6</td>\n",
       "    </tr>\n",
       "    <tr>\n",
       "      <th>10</th>\n",
       "      <td>3</td>\n",
       "    </tr>\n",
       "    <tr>\n",
       "      <th>11</th>\n",
       "      <td>2</td>\n",
       "    </tr>\n",
       "    <tr>\n",
       "      <th>13</th>\n",
       "      <td>1</td>\n",
       "    </tr>\n",
       "    <tr>\n",
       "      <th>14</th>\n",
       "      <td>2</td>\n",
       "    </tr>\n",
       "    <tr>\n",
       "      <th>17</th>\n",
       "      <td>1</td>\n",
       "    </tr>\n",
       "    <tr>\n",
       "      <th>18</th>\n",
       "      <td>1</td>\n",
       "    </tr>\n",
       "    <tr>\n",
       "      <th>19</th>\n",
       "      <td>1</td>\n",
       "    </tr>\n",
       "    <tr>\n",
       "      <th>24</th>\n",
       "      <td>1</td>\n",
       "    </tr>\n",
       "    <tr>\n",
       "      <th>28</th>\n",
       "      <td>1</td>\n",
       "    </tr>\n",
       "    <tr>\n",
       "      <th>29</th>\n",
       "      <td>1</td>\n",
       "    </tr>\n",
       "  </tbody>\n",
       "</table>\n",
       "</div>"
      ],
      "text/plain": [
       "         count\n",
       "주문월 주문일       \n",
       "1   2        2\n",
       "    3        2\n",
       "    5        2\n",
       "    6        1\n",
       "    8        1\n",
       "    9        6\n",
       "    10       3\n",
       "    11       2\n",
       "    13       1\n",
       "    14       2\n",
       "    17       1\n",
       "    18       1\n",
       "    19       1\n",
       "    24       1\n",
       "    28       1\n",
       "    29       1"
      ]
     },
     "execution_count": 69,
     "metadata": {},
     "output_type": "execute_result"
    }
   ],
   "source": [
    "df_1=df_b.groupby(['주문월','주문일']).agg(count=('주문일','count'))\n",
    "df_1.query(\"주문월==1\") #10개 안 넘음"
   ]
  },
  {
   "cell_type": "code",
   "execution_count": 70,
   "id": "6a739880",
   "metadata": {},
   "outputs": [
    {
     "data": {
      "text/html": [
       "<div>\n",
       "<style scoped>\n",
       "    .dataframe tbody tr th:only-of-type {\n",
       "        vertical-align: middle;\n",
       "    }\n",
       "\n",
       "    .dataframe tbody tr th {\n",
       "        vertical-align: top;\n",
       "    }\n",
       "\n",
       "    .dataframe thead th {\n",
       "        text-align: right;\n",
       "    }\n",
       "</style>\n",
       "<table border=\"1\" class=\"dataframe\">\n",
       "  <thead>\n",
       "    <tr style=\"text-align: right;\">\n",
       "      <th></th>\n",
       "      <th></th>\n",
       "      <th>count</th>\n",
       "    </tr>\n",
       "    <tr>\n",
       "      <th>주문월</th>\n",
       "      <th>주문일</th>\n",
       "      <th></th>\n",
       "    </tr>\n",
       "  </thead>\n",
       "  <tbody>\n",
       "    <tr>\n",
       "      <th rowspan=\"12\" valign=\"top\">6</th>\n",
       "      <th>1</th>\n",
       "      <td>2</td>\n",
       "    </tr>\n",
       "    <tr>\n",
       "      <th>2</th>\n",
       "      <td>1</td>\n",
       "    </tr>\n",
       "    <tr>\n",
       "      <th>3</th>\n",
       "      <td>1</td>\n",
       "    </tr>\n",
       "    <tr>\n",
       "      <th>8</th>\n",
       "      <td>1</td>\n",
       "    </tr>\n",
       "    <tr>\n",
       "      <th>9</th>\n",
       "      <td>11</td>\n",
       "    </tr>\n",
       "    <tr>\n",
       "      <th>12</th>\n",
       "      <td>2</td>\n",
       "    </tr>\n",
       "    <tr>\n",
       "      <th>21</th>\n",
       "      <td>1</td>\n",
       "    </tr>\n",
       "    <tr>\n",
       "      <th>23</th>\n",
       "      <td>3</td>\n",
       "    </tr>\n",
       "    <tr>\n",
       "      <th>25</th>\n",
       "      <td>4</td>\n",
       "    </tr>\n",
       "    <tr>\n",
       "      <th>26</th>\n",
       "      <td>3</td>\n",
       "    </tr>\n",
       "    <tr>\n",
       "      <th>27</th>\n",
       "      <td>4</td>\n",
       "    </tr>\n",
       "    <tr>\n",
       "      <th>30</th>\n",
       "      <td>3</td>\n",
       "    </tr>\n",
       "  </tbody>\n",
       "</table>\n",
       "</div>"
      ],
      "text/plain": [
       "         count\n",
       "주문월 주문일       \n",
       "6   1        2\n",
       "    2        1\n",
       "    3        1\n",
       "    8        1\n",
       "    9       11\n",
       "    12       2\n",
       "    21       1\n",
       "    23       3\n",
       "    25       4\n",
       "    26       3\n",
       "    27       4\n",
       "    30       3"
      ]
     },
     "execution_count": 70,
     "metadata": {},
     "output_type": "execute_result"
    }
   ],
   "source": [
    "df_1=df_b.groupby(['주문월','주문일']).agg(count=('주문일','count'))\n",
    "df_1.query(\"주문월==6\") #얘도 주문량 많았던 날짜"
   ]
  },
  {
   "cell_type": "code",
   "execution_count": 71,
   "id": "ebc9f51d",
   "metadata": {},
   "outputs": [
    {
     "data": {
      "text/html": [
       "<div>\n",
       "<style scoped>\n",
       "    .dataframe tbody tr th:only-of-type {\n",
       "        vertical-align: middle;\n",
       "    }\n",
       "\n",
       "    .dataframe tbody tr th {\n",
       "        vertical-align: top;\n",
       "    }\n",
       "\n",
       "    .dataframe thead th {\n",
       "        text-align: right;\n",
       "    }\n",
       "</style>\n",
       "<table border=\"1\" class=\"dataframe\">\n",
       "  <thead>\n",
       "    <tr style=\"text-align: right;\">\n",
       "      <th></th>\n",
       "      <th></th>\n",
       "      <th>count</th>\n",
       "    </tr>\n",
       "    <tr>\n",
       "      <th>주문월</th>\n",
       "      <th>주문일</th>\n",
       "      <th></th>\n",
       "    </tr>\n",
       "  </thead>\n",
       "  <tbody>\n",
       "    <tr>\n",
       "      <th rowspan=\"22\" valign=\"top\">8</th>\n",
       "      <th>1</th>\n",
       "      <td>2</td>\n",
       "    </tr>\n",
       "    <tr>\n",
       "      <th>2</th>\n",
       "      <td>1</td>\n",
       "    </tr>\n",
       "    <tr>\n",
       "      <th>3</th>\n",
       "      <td>4</td>\n",
       "    </tr>\n",
       "    <tr>\n",
       "      <th>4</th>\n",
       "      <td>5</td>\n",
       "    </tr>\n",
       "    <tr>\n",
       "      <th>5</th>\n",
       "      <td>3</td>\n",
       "    </tr>\n",
       "    <tr>\n",
       "      <th>6</th>\n",
       "      <td>10</td>\n",
       "    </tr>\n",
       "    <tr>\n",
       "      <th>7</th>\n",
       "      <td>10</td>\n",
       "    </tr>\n",
       "    <tr>\n",
       "      <th>8</th>\n",
       "      <td>2</td>\n",
       "    </tr>\n",
       "    <tr>\n",
       "      <th>9</th>\n",
       "      <td>3</td>\n",
       "    </tr>\n",
       "    <tr>\n",
       "      <th>10</th>\n",
       "      <td>1</td>\n",
       "    </tr>\n",
       "    <tr>\n",
       "      <th>11</th>\n",
       "      <td>1</td>\n",
       "    </tr>\n",
       "    <tr>\n",
       "      <th>14</th>\n",
       "      <td>4</td>\n",
       "    </tr>\n",
       "    <tr>\n",
       "      <th>15</th>\n",
       "      <td>1</td>\n",
       "    </tr>\n",
       "    <tr>\n",
       "      <th>16</th>\n",
       "      <td>1</td>\n",
       "    </tr>\n",
       "    <tr>\n",
       "      <th>18</th>\n",
       "      <td>1</td>\n",
       "    </tr>\n",
       "    <tr>\n",
       "      <th>19</th>\n",
       "      <td>1</td>\n",
       "    </tr>\n",
       "    <tr>\n",
       "      <th>23</th>\n",
       "      <td>1</td>\n",
       "    </tr>\n",
       "    <tr>\n",
       "      <th>25</th>\n",
       "      <td>3</td>\n",
       "    </tr>\n",
       "    <tr>\n",
       "      <th>28</th>\n",
       "      <td>4</td>\n",
       "    </tr>\n",
       "    <tr>\n",
       "      <th>29</th>\n",
       "      <td>1</td>\n",
       "    </tr>\n",
       "    <tr>\n",
       "      <th>30</th>\n",
       "      <td>1</td>\n",
       "    </tr>\n",
       "    <tr>\n",
       "      <th>31</th>\n",
       "      <td>1</td>\n",
       "    </tr>\n",
       "  </tbody>\n",
       "</table>\n",
       "</div>"
      ],
      "text/plain": [
       "         count\n",
       "주문월 주문일       \n",
       "8   1        2\n",
       "    2        1\n",
       "    3        4\n",
       "    4        5\n",
       "    5        3\n",
       "    6       10\n",
       "    7       10\n",
       "    8        2\n",
       "    9        3\n",
       "    10       1\n",
       "    11       1\n",
       "    14       4\n",
       "    15       1\n",
       "    16       1\n",
       "    18       1\n",
       "    19       1\n",
       "    23       1\n",
       "    25       3\n",
       "    28       4\n",
       "    29       1\n",
       "    30       1\n",
       "    31       1"
      ]
     },
     "execution_count": 71,
     "metadata": {},
     "output_type": "execute_result"
    }
   ],
   "source": [
    "df_1=df_b.groupby(['주문월','주문일']).agg(count=('주문일','count'))\n",
    "df_1.query(\"주문월==8\") #주문량 많았던 날짜"
   ]
  },
  {
   "cell_type": "code",
   "execution_count": 72,
   "id": "2c5ad811",
   "metadata": {},
   "outputs": [],
   "source": [
    "df_b6=df_b[df_b['주문월']==6]"
   ]
  },
  {
   "cell_type": "code",
   "execution_count": 73,
   "id": "ce4a5ea3",
   "metadata": {},
   "outputs": [
    {
     "data": {
      "text/plain": [
       "유입매체\n",
       "APP       8\n",
       "MO WEB    1\n",
       "PC        2\n",
       "Name: 주문번호, dtype: int64"
      ]
     },
     "execution_count": 73,
     "metadata": {},
     "output_type": "execute_result"
    }
   ],
   "source": [
    "df_b6[df_b6[\"주문일\"]==9].groupby('유입매체')['주문번호'].count()"
   ]
  },
  {
   "cell_type": "code",
   "execution_count": 74,
   "id": "4036fe93",
   "metadata": {},
   "outputs": [
    {
     "data": {
      "text/plain": [
       "유입채널\n",
       "디폴트 채널상세    7\n",
       "유실 채널상세     4\n",
       "Name: 주문번호, dtype: int64"
      ]
     },
     "execution_count": 74,
     "metadata": {},
     "output_type": "execute_result"
    }
   ],
   "source": [
    "df_b6[df_b6[\"주문일\"]==9].groupby('유입채널')['주문번호'].count().sort_values(ascending=False)[:10]"
   ]
  },
  {
   "cell_type": "code",
   "execution_count": 75,
   "id": "83e1fde3",
   "metadata": {},
   "outputs": [
    {
     "data": {
      "text/plain": [
       "전시상품명\n",
       "비비고 BEST 볶음밥 3종 특가[불고기 비빔밥 + 매콤부추고기볶음밥 + 간장버터장조림볶음밥]    8\n",
       "CJ 햇반 쿡반 주먹밥 5종 골라담기                                    1\n",
       "구운주먹밥 버터장조림 500G X 2개                                   1\n",
       "구운주먹밥 치즈닭갈비 500G X 2개                                   1\n",
       "Name: 주문번호, dtype: int64"
      ]
     },
     "execution_count": 75,
     "metadata": {},
     "output_type": "execute_result"
    }
   ],
   "source": [
    "df_b6[df_b6[\"주문일\"]==9].groupby('전시상품명')['주문번호'].count().sort_values(ascending=False)[:10]\n",
    "#판매량 높았던걸 많이 반품"
   ]
  },
  {
   "cell_type": "code",
   "execution_count": 76,
   "id": "eb2ba791",
   "metadata": {},
   "outputs": [],
   "source": [
    "df_b8=df_b[df_b['주문월']==8]"
   ]
  },
  {
   "cell_type": "code",
   "execution_count": 77,
   "id": "877b658a",
   "metadata": {},
   "outputs": [
    {
     "data": {
      "text/plain": [
       "유입매체\n",
       "APP    9\n",
       "PC     1\n",
       "Name: 주문번호, dtype: int64"
      ]
     },
     "execution_count": 77,
     "metadata": {},
     "output_type": "execute_result"
    }
   ],
   "source": [
    "df_b8[df_b8[\"주문일\"]==6].groupby('유입매체')['주문번호'].count()"
   ]
  },
  {
   "cell_type": "code",
   "execution_count": 78,
   "id": "87ea0492",
   "metadata": {},
   "outputs": [
    {
     "data": {
      "text/plain": [
       "유입채널\n",
       "디폴트 채널상세               7\n",
       "유실 채널상세                2\n",
       "[몰로코] APP 리타게팅_롯데ON    1\n",
       "Name: 주문번호, dtype: int64"
      ]
     },
     "execution_count": 78,
     "metadata": {},
     "output_type": "execute_result"
    }
   ],
   "source": [
    "df_b8[df_b8[\"주문일\"]==6].groupby('유입채널')['주문번호'].count().sort_values(ascending=False)[:10]"
   ]
  },
  {
   "cell_type": "code",
   "execution_count": 79,
   "id": "945301a3",
   "metadata": {},
   "outputs": [
    {
     "data": {
      "text/plain": [
       "전시상품명\n",
       "CJ 햇반 쿡반 주먹밥 5종 골라담기                                        3\n",
       "[CJ직배송]백설100%통참깨참기름300ML X 2개                               2\n",
       "CJ 스팸 25%라이트/ 스팸클래식 4개 골라담기 [ 택 1]                          1\n",
       "[CJ직배송] CJ 햇반 백미 210g x 36개                                 1\n",
       "[CJ직배송]스팸볶음밥 660G X3개                                       1\n",
       "[전참시 속 보양식사]누룽지닭백숙죽/전복삼계죽/녹두닭죽 外 + 보양닭백숙죽 증정                1\n",
       "[컵반 배그에디션]이겼닭 오늘 저녁은 치킨이닭(컵반 1개당 G코인 100~10,000코인 랜덤 증정)    1\n",
       "Name: 주문번호, dtype: int64"
      ]
     },
     "execution_count": 79,
     "metadata": {},
     "output_type": "execute_result"
    }
   ],
   "source": [
    "df_b8[df_b8[\"주문일\"]==6].groupby('전시상품명')['주문번호'].count().sort_values(ascending=False)[:10]\n",
    "#8월 6일 판매량은 국/탕이 젤 많았는데 2,3위가 반품됨"
   ]
  },
  {
   "cell_type": "code",
   "execution_count": 80,
   "id": "391032d0",
   "metadata": {},
   "outputs": [
    {
     "data": {
      "text/plain": [
       "전시상품명\n",
       "[CJ직배송]백설100%통참깨참기름300ML X 2개                                3\n",
       "미역국 X 5개 + 사골곰탕 X2개+ 육개장300g 2봉 증정(증정품 유통기한 22년 10월 7일까지)    3\n",
       "[6+6+6 선착순 특가]다담 정통된장찌개/청국장찌개/순두부찌개 外 골라담기                   1\n",
       "[CJ직배송]고메 중화짬뽕 652g X 3개                                     1\n",
       "[햇반 솥반 X 서울체크인]햇반 솥반 7종                                      1\n",
       "해찬들 우리쌀로만든태양초골드고추장 1kg X2개                                   1\n",
       "Name: 주문번호, dtype: int64"
      ]
     },
     "execution_count": 80,
     "metadata": {},
     "output_type": "execute_result"
    }
   ],
   "source": [
    "df_b8[df_b8[\"주문일\"]==7].groupby('전시상품명')['주문번호'].count().sort_values(ascending=False)[:10]\n",
    "#참기름과 국/탕"
   ]
  },
  {
   "cell_type": "markdown",
   "id": "da8258fb",
   "metadata": {},
   "source": [
    "# 선물하기"
   ]
  },
  {
   "cell_type": "code",
   "execution_count": 81,
   "id": "f39d6c28",
   "metadata": {},
   "outputs": [],
   "source": [
    "df_gift=df[df[\"주문구분\"]==\"선물하기\"]"
   ]
  },
  {
   "cell_type": "code",
   "execution_count": 82,
   "id": "d9485ccf",
   "metadata": {},
   "outputs": [
    {
     "data": {
      "text/plain": [
       "주문접수일시     472\n",
       "주문번호       472\n",
       "유입매체       472\n",
       "주문구분       472\n",
       "유입채널       472\n",
       "회원구분       472\n",
       "아이디        466\n",
       "전시유입코드     438\n",
       "상품주문번호     472\n",
       "진행단계       472\n",
       "주문완료일시     472\n",
       "구매확정일시     472\n",
       "출고지시일      472\n",
       "상태처리일시     472\n",
       "전시상품명      472\n",
       "전시단품명      472\n",
       "판매자상품번호    472\n",
       "판매자상품명     472\n",
       "판매자단품번호    472\n",
       "판매자단품명     472\n",
       "판매가        472\n",
       "수량         472\n",
       "표준카테고리     472\n",
       "판매액        472\n",
       "주문월        472\n",
       "주문일        472\n",
       "dtype: int64"
      ]
     },
     "execution_count": 82,
     "metadata": {},
     "output_type": "execute_result"
    }
   ],
   "source": [
    "df_gift.count()"
   ]
  },
  {
   "cell_type": "code",
   "execution_count": 83,
   "id": "9941ba48",
   "metadata": {},
   "outputs": [
    {
     "data": {
      "text/plain": [
       "전시상품명\n",
       "CJ 스팸 25%라이트/ 스팸클래식 4개 골라담기 [ 택 1]                           23\n",
       "[CJ직배송]포도씨유 900ML X 2개                                       23\n",
       "[22년 추석 선물세트]스팸12호                                           22\n",
       "[CJ직배송]특별한선택 Y호                                              20\n",
       "[구매확정시 주문건당 15,000 Lpoint 자동적립] 스팸6호 / *엘포인트 통합회원만 가능        15\n",
       "CJ 햇반 쿡반 주먹밥 5종 골라담기                                         13\n",
       "[구매확정시 주문건당 5,000 Lpoint 자동적립] 스팸마일드8호 / *엘포인트 통합회원만 가능      11\n",
       "[구매확정시 주문건당 20,000 Lpoint 자동적립] 스팸1호 / *엘포인트 통합회원만 가능        10\n",
       "미역국 X 5개 + 사골곰탕 X2개+ 육개장300g 2봉 증정(증정품 유통기한 22년 10월 7일까지)    10\n",
       "[CJ직배송][22년 설 선물세트]스팸마일드8호                                   10\n",
       "Name: 주문번호, dtype: int64"
      ]
     },
     "execution_count": 83,
     "metadata": {},
     "output_type": "execute_result"
    }
   ],
   "source": [
    "df_gift.groupby('전시상품명')['주문번호'].count().sort_values(ascending=False)[:10]\n",
    "#명절 선물세트 선물이 많음"
   ]
  },
  {
   "cell_type": "code",
   "execution_count": 84,
   "id": "78080d30",
   "metadata": {},
   "outputs": [
    {
     "data": {
      "text/plain": [
       "표준카테고리\n",
       "가공식품 > 통조림/캔 > 캔/통조림선물세트        130\n",
       "냉장/냉동/간편식 > 즉석밥/죽/스프 > 즉석밥      110\n",
       "냉장/냉동/간편식 > 국/탕/찌개 > 국/탕         38\n",
       "냉장/냉동/간편식 > 떡볶이/만두 > 만두          30\n",
       "가공식품 > 통조림/캔 > 햄통조림              25\n",
       "가공식품 > 식용유/오일 > 식용유/오일선물세트       24\n",
       "냉장/냉동/간편식 > 돈가스/고로케/너겟 > 돈가스     19\n",
       "과자/간식 > 캔디/껌/캐러멜 > 젤리/푸딩         17\n",
       "냉장/냉동/간편식 > 즉석밥/죽/스프 > 볶음밥       16\n",
       "가공식품 > 장류 > 고추장/초고추장             10\n",
       "Name: 주문번호, dtype: int64"
      ]
     },
     "execution_count": 84,
     "metadata": {},
     "output_type": "execute_result"
    }
   ],
   "source": [
    "df_gift.groupby('표준카테고리')['주문번호'].count().sort_values(ascending=False)[:10]"
   ]
  },
  {
   "cell_type": "code",
   "execution_count": 85,
   "id": "17309a03",
   "metadata": {},
   "outputs": [
    {
     "data": {
      "text/plain": [
       "전시상품명\n",
       "[ L.Point 5,000점 증정]비비고 전복미역죽 런칭기념 세트 구성 골라담기 [ 택1]              9\n",
       "[햇반 솥반 X 서울체크인]햇반 솥반 7종                                          8\n",
       "[L.Point 3,000p 증정]햇반 오곡밥 24입/ 솥반 7종 골라담기 [ 택 1]                 8\n",
       "말복준비 힘냅시닭 세트 골라담기[ 택1] / 1만원 상당 휴대용 선풍기도 있어요                     8\n",
       "[컵반 배그에디션]이겼닭 오늘 저녁은 치킨이닭(컵반 1개당 G코인 100~10,000코인 랜덤 증정)         7\n",
       "이겼닭 오늘 저녁은 치킨이닭(컵반 배틀그라운드)                                       6\n",
       "[6+3]비비고 프리미엄 죽 6개 골라담기 +통단팥죽 3개 증정                              6\n",
       "[6+3+5%추가쿠폰]비비고 프리미엄 죽 6개 골라담기 +보양닭백숙죽 3개 증정                     6\n",
       "[Lpoint 1,000P 지급]햇반 작은공기, 100% 현미밥 x 36개 특가 (1,000set 한정)       6\n",
       "[전참시 속 보양식사]누룽지닭백숙죽/전복삼계죽/녹두닭죽 外 + 보양닭백숙죽 증정                     6\n",
       "[L.Point 5,000p 증정]햇반 오곡밥 24입/ 솥반 7종 골라담기 [ 택 1]                 5\n",
       "비비고 전복죽 280g X 5개                                                4\n",
       "[GS25 3,000원권+L.Point 3,000점증정]비비고 전복미역죽 런칭기념 세트 구성 골라담기 [택1]    4\n",
       "[6+2]비비고 용기형 단호박죽/통단팥죽/흑임자죽 + 버섯야채죽 280GX2개 증정                   4\n",
       "[CJ직배송]햇반 발아현미밥 작은공기 130G*3번들 X7개                                3\n",
       "비비고 국물요리 BEST 9종                                                 2\n",
       "[Lpoint&스벅커피쿠폰증정]햇반 솥반 프리미엄 6종 골라담기[택 1]                         2\n",
       "햇반 쿡반불고기500+치즈500+버터장조림500+치즈닭갈비500G                             2\n",
       "[롯데ON] 비비고 주먹밥 4종/불고기500+치즈500+버터장조림500+치즈닭갈비500G                1\n",
       "[복날 준비 특가]누룽지닭백숙죽/전복삼계죽/녹두닭죽 外 + 보양닭백숙죽 증정                       1\n",
       "[6+2]비비고 용기형 단호박죽/통단팥죽/흑임자죽 + 버섯야채죽 280G  X 2개 증정                1\n",
       "[CJ직배송]햇반 솥반 7종                                                  1\n",
       "[CJ직배송]햇반 발아현미밥210g*3EA X6개                                      1\n",
       "[햇반솥반 X 우리들의 블루스]햇반솥반 꿀약밥 210g X 4개                              1\n",
       "[CJ직배송]햇반 매일찰잡곡밥 210G*3 X6개                                      1\n",
       "무더위에 지쳤을 때 힘냅시닭 세트 골라담기[ 택1] / 1만원 상당 휴대용 선풍기도 있어요               1\n",
       "[CJ직배송]비비고 전복내장죽 420G X 3개                                       1\n",
       "[CJ직배송] CJ 햇반 발아현미밥 210Gx24개                                     1\n",
       "비비고 프리미엄 죽 6개 골라담기                                               1\n",
       "비비고 한우소고기죽 420G X 3개                                             1\n",
       "[6+3]비비고 프리미엄 죽 6개 골라담기 +보양닭백숙죽 3개 증정                            1\n",
       "[Lpoint 1,000P 지급]햇반 작은공기/100% 현미밥130g x 36개 특가 (1,000set 한정)    1\n",
       "Name: 주문번호, dtype: int64"
      ]
     },
     "execution_count": 85,
     "metadata": {},
     "output_type": "execute_result"
    }
   ],
   "source": [
    "df_gift[df_gift[\"표준카테고리\"]==\"냉장/냉동/간편식 > 즉석밥/죽/스프 > 즉석밥\"].groupby('전시상품명')['주문번호'].count().sort_values(ascending=False)\n",
    "#이벤트 때문인지는 모르겠지만 죽이 많음"
   ]
  },
  {
   "cell_type": "markdown",
   "id": "783c17a4",
   "metadata": {},
   "source": []
  }
 ],
 "metadata": {
  "kernelspec": {
   "display_name": "Python 3 (ipykernel)",
   "language": "python",
   "name": "python3"
  },
  "language_info": {
   "codemirror_mode": {
    "name": "ipython",
    "version": 3
   },
   "file_extension": ".py",
   "mimetype": "text/x-python",
   "name": "python",
   "nbconvert_exporter": "python",
   "pygments_lexer": "ipython3",
   "version": "3.9.12"
  }
 },
 "nbformat": 4,
 "nbformat_minor": 5
}
