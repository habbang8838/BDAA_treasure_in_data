{
 "cells": [
  {
   "cell_type": "code",
   "execution_count": 1,
   "id": "fbd8d6bd",
   "metadata": {},
   "outputs": [],
   "source": [
    "import pandas as pd\n",
    "from datetime import datetime\n",
    "import matplotlib.pyplot as plt\n",
    "import seaborn as sns"
   ]
  },
  {
   "cell_type": "code",
   "execution_count": 2,
   "id": "28e63a01",
   "metadata": {},
   "outputs": [],
   "source": [
    "# 시각화 과정에서 한글 깨짐 방지!!!!\n",
    "\n",
    "from matplotlib import font_manager, rc\n",
    "import matplotlib\n",
    "import platform\n",
    "import matplotlib.pyplot as plt\n",
    "\n",
    "%matplotlib inline \n",
    "\n",
    "if platform.system() == 'Windows':\n",
    "    font_name = font_manager.FontProperties(fname=\"c:/Windows/Fonts/malgun.ttf\").get_name()\n",
    "    rc('font', family = font_name)\n",
    "else:\n",
    "    rc('font',family='AppleGothic')\n",
    "    \n",
    "matplotlib.rcParams['axes.unicode_minus']=False\n",
    "%matplotlib inline"
   ]
  },
  {
   "cell_type": "code",
   "execution_count": 3,
   "id": "5c55f96f",
   "metadata": {
    "scrolled": true
   },
   "outputs": [],
   "source": [
    "df = pd.read_csv('CJ제일제당 주문 데이터(전처리).csv')"
   ]
  },
  {
   "cell_type": "code",
   "execution_count": 4,
   "id": "06383154",
   "metadata": {},
   "outputs": [
    {
     "data": {
      "text/html": [
       "<div>\n",
       "<style scoped>\n",
       "    .dataframe tbody tr th:only-of-type {\n",
       "        vertical-align: middle;\n",
       "    }\n",
       "\n",
       "    .dataframe tbody tr th {\n",
       "        vertical-align: top;\n",
       "    }\n",
       "\n",
       "    .dataframe thead th {\n",
       "        text-align: right;\n",
       "    }\n",
       "</style>\n",
       "<table border=\"1\" class=\"dataframe\">\n",
       "  <thead>\n",
       "    <tr style=\"text-align: right;\">\n",
       "      <th></th>\n",
       "      <th>주문접수일시</th>\n",
       "      <th>주문번호</th>\n",
       "      <th>유입매체</th>\n",
       "      <th>주문구분</th>\n",
       "      <th>유입채널</th>\n",
       "      <th>회원구분</th>\n",
       "      <th>아이디</th>\n",
       "      <th>전시유입코드</th>\n",
       "      <th>상품주문번호</th>\n",
       "      <th>진행단계</th>\n",
       "      <th>...</th>\n",
       "      <th>전시단품명</th>\n",
       "      <th>판매자상품번호</th>\n",
       "      <th>판매자상품명</th>\n",
       "      <th>판매자단품번호</th>\n",
       "      <th>판매자단품명</th>\n",
       "      <th>판매가</th>\n",
       "      <th>수량</th>\n",
       "      <th>표준카테고리</th>\n",
       "      <th>판매액</th>\n",
       "      <th>주문월</th>\n",
       "    </tr>\n",
       "  </thead>\n",
       "  <tbody>\n",
       "    <tr>\n",
       "      <th>0</th>\n",
       "      <td>2022-01-01 00:38:13</td>\n",
       "      <td>2022010111866840</td>\n",
       "      <td>MO WEB</td>\n",
       "      <td>일반주문</td>\n",
       "      <td>[다음카카오] PCS 가격비교_롯데ON</td>\n",
       "      <td>LPOINT통합회원</td>\n",
       "      <td>kim6****</td>\n",
       "      <td>CHT</td>\n",
       "      <td>2022010111866837_1</td>\n",
       "      <td>배송완료</td>\n",
       "      <td>...</td>\n",
       "      <td>단일상품</td>\n",
       "      <td>LO1135162715</td>\n",
       "      <td>CJ 다담 된장찌개양념 530G x3</td>\n",
       "      <td>LO1135162715_1135162716</td>\n",
       "      <td>단일상품</td>\n",
       "      <td>16240</td>\n",
       "      <td>1</td>\n",
       "      <td>가공식품 &gt; 장류 &gt; 된장/쌈장/청국장</td>\n",
       "      <td>16240</td>\n",
       "      <td>1</td>\n",
       "    </tr>\n",
       "    <tr>\n",
       "      <th>1</th>\n",
       "      <td>2022-01-01 02:54:53</td>\n",
       "      <td>2022010111873730</td>\n",
       "      <td>APP</td>\n",
       "      <td>일반주문</td>\n",
       "      <td>디폴트 채널상세</td>\n",
       "      <td>LPOINT통합회원</td>\n",
       "      <td>savi****</td>\n",
       "      <td>RSI</td>\n",
       "      <td>2022010111873735_1</td>\n",
       "      <td>배송완료</td>\n",
       "      <td>...</td>\n",
       "      <td>단일상품</td>\n",
       "      <td>LO1495023715</td>\n",
       "      <td>비비고 국물요리 BEST 9종</td>\n",
       "      <td>LO1495023715_1495023716</td>\n",
       "      <td>단일상품</td>\n",
       "      <td>33240</td>\n",
       "      <td>1</td>\n",
       "      <td>냉장/냉동/간편식 &gt; 즉석밥/죽/스프 &gt; 즉석밥</td>\n",
       "      <td>33240</td>\n",
       "      <td>1</td>\n",
       "    </tr>\n",
       "    <tr>\n",
       "      <th>2</th>\n",
       "      <td>2022-01-01 02:56:35</td>\n",
       "      <td>2022010111873770</td>\n",
       "      <td>APP</td>\n",
       "      <td>일반주문</td>\n",
       "      <td>디폴트 채널상세</td>\n",
       "      <td>LPOINT통합회원</td>\n",
       "      <td>savi****</td>\n",
       "      <td>RSI</td>\n",
       "      <td>2022010111873774_1</td>\n",
       "      <td>배송완료</td>\n",
       "      <td>...</td>\n",
       "      <td>단일상품</td>\n",
       "      <td>LO1495023715</td>\n",
       "      <td>비비고 국물요리 BEST 9종</td>\n",
       "      <td>LO1495023715_1495023716</td>\n",
       "      <td>단일상품</td>\n",
       "      <td>33240</td>\n",
       "      <td>1</td>\n",
       "      <td>냉장/냉동/간편식 &gt; 즉석밥/죽/스프 &gt; 즉석밥</td>\n",
       "      <td>33240</td>\n",
       "      <td>1</td>\n",
       "    </tr>\n",
       "    <tr>\n",
       "      <th>3</th>\n",
       "      <td>2022-01-01 04:35:17</td>\n",
       "      <td>2022010111875630</td>\n",
       "      <td>MO WEB</td>\n",
       "      <td>일반주문</td>\n",
       "      <td>[다음카카오] PCS 가격비교_롯데ON</td>\n",
       "      <td>LPOINT통합회원</td>\n",
       "      <td>happ****</td>\n",
       "      <td>CHT</td>\n",
       "      <td>2022010111875631_1</td>\n",
       "      <td>배송완료</td>\n",
       "      <td>...</td>\n",
       "      <td>단일상품</td>\n",
       "      <td>LO1517718327</td>\n",
       "      <td>CJ 다담 된장찌개양념 530G X 4개</td>\n",
       "      <td>LO1517718327_1517718328</td>\n",
       "      <td>단일상품</td>\n",
       "      <td>21660</td>\n",
       "      <td>1</td>\n",
       "      <td>가공식품 &gt; 장류 &gt; 된장/쌈장/청국장</td>\n",
       "      <td>21660</td>\n",
       "      <td>1</td>\n",
       "    </tr>\n",
       "    <tr>\n",
       "      <th>4</th>\n",
       "      <td>2022-01-01 08:00:37</td>\n",
       "      <td>2022010111879670</td>\n",
       "      <td>APP</td>\n",
       "      <td>일반주문</td>\n",
       "      <td>디폴트 채널상세</td>\n",
       "      <td>LPOINT통합회원</td>\n",
       "      <td>cats****</td>\n",
       "      <td>SCH비비고추어탕</td>\n",
       "      <td>2022010111879668_2</td>\n",
       "      <td>배송완료</td>\n",
       "      <td>...</td>\n",
       "      <td>단일상품</td>\n",
       "      <td>LO1249549902</td>\n",
       "      <td>비비고 남도식 추어탕 460Gx5개</td>\n",
       "      <td>LO1249549902_1249549903</td>\n",
       "      <td>단일상품</td>\n",
       "      <td>23680</td>\n",
       "      <td>1</td>\n",
       "      <td>냉장/냉동/간편식 &gt; 국/탕/찌개 &gt; 국/탕</td>\n",
       "      <td>23680</td>\n",
       "      <td>1</td>\n",
       "    </tr>\n",
       "    <tr>\n",
       "      <th>...</th>\n",
       "      <td>...</td>\n",
       "      <td>...</td>\n",
       "      <td>...</td>\n",
       "      <td>...</td>\n",
       "      <td>...</td>\n",
       "      <td>...</td>\n",
       "      <td>...</td>\n",
       "      <td>...</td>\n",
       "      <td>...</td>\n",
       "      <td>...</td>\n",
       "      <td>...</td>\n",
       "      <td>...</td>\n",
       "      <td>...</td>\n",
       "      <td>...</td>\n",
       "      <td>...</td>\n",
       "      <td>...</td>\n",
       "      <td>...</td>\n",
       "      <td>...</td>\n",
       "      <td>...</td>\n",
       "      <td>...</td>\n",
       "      <td>...</td>\n",
       "    </tr>\n",
       "    <tr>\n",
       "      <th>93315</th>\n",
       "      <td>2022-09-30 23:52:25</td>\n",
       "      <td>2022093018638710</td>\n",
       "      <td>MO WEB</td>\n",
       "      <td>일반주문</td>\n",
       "      <td>[네이버] PCS 가격비교_롯데ON</td>\n",
       "      <td>LPOINT통합회원</td>\n",
       "      <td>cha2844</td>\n",
       "      <td>CHT</td>\n",
       "      <td>2022093018638708_1</td>\n",
       "      <td>배송완료</td>\n",
       "      <td>...</td>\n",
       "      <td>단일상품</td>\n",
       "      <td>LO1520770627</td>\n",
       "      <td>[CJ직배송]더건강한 닭가슴살 직화 스테이크100G X 6개</td>\n",
       "      <td>LO1520770627_1520770628</td>\n",
       "      <td>단일상품</td>\n",
       "      <td>17400</td>\n",
       "      <td>1</td>\n",
       "      <td>가공식품 &gt; 통조림/캔 &gt; 닭가슴살통조림</td>\n",
       "      <td>17400</td>\n",
       "      <td>9</td>\n",
       "    </tr>\n",
       "    <tr>\n",
       "      <th>93316</th>\n",
       "      <td>2022-09-30 23:52:41</td>\n",
       "      <td>2022093018638710</td>\n",
       "      <td>APP</td>\n",
       "      <td>일반주문</td>\n",
       "      <td>디폴트 채널상세</td>\n",
       "      <td>LPOINT통합회원</td>\n",
       "      <td>wocns2</td>\n",
       "      <td>CHT</td>\n",
       "      <td>2022093018638709_1</td>\n",
       "      <td>배송완료</td>\n",
       "      <td>...</td>\n",
       "      <td>비비고 사골곰탕 500g x18봉</td>\n",
       "      <td>LO1978869746</td>\n",
       "      <td>[L포인트 3000p 증정]★LAST DAY EVENT★</td>\n",
       "      <td>LO1978869746_1978869755</td>\n",
       "      <td>비비고 사골곰탕 500g x18봉</td>\n",
       "      <td>24500</td>\n",
       "      <td>2</td>\n",
       "      <td>냉장/냉동/간편식 &gt; 국/탕/찌개 &gt; 국/탕</td>\n",
       "      <td>49000</td>\n",
       "      <td>9</td>\n",
       "    </tr>\n",
       "    <tr>\n",
       "      <th>93317</th>\n",
       "      <td>2022-09-30 23:56:28</td>\n",
       "      <td>2022093018639350</td>\n",
       "      <td>APP</td>\n",
       "      <td>일반주문</td>\n",
       "      <td>디폴트 채널상세</td>\n",
       "      <td>LPOINT통합회원</td>\n",
       "      <td>xraydos</td>\n",
       "      <td>RSI</td>\n",
       "      <td>2022093018639349_1</td>\n",
       "      <td>배송완료</td>\n",
       "      <td>...</td>\n",
       "      <td>햇반 매일오곡밥 210Gx24개</td>\n",
       "      <td>LO1978869746</td>\n",
       "      <td>[L포인트 3000p 증정]★LAST DAY EVENT★</td>\n",
       "      <td>LO1978869746_1978869753</td>\n",
       "      <td>햇반 매일오곡밥 210Gx24개</td>\n",
       "      <td>37000</td>\n",
       "      <td>1</td>\n",
       "      <td>냉장/냉동/간편식 &gt; 국/탕/찌개 &gt; 국/탕</td>\n",
       "      <td>37000</td>\n",
       "      <td>9</td>\n",
       "    </tr>\n",
       "    <tr>\n",
       "      <th>93318</th>\n",
       "      <td>2022-09-30 23:58:52</td>\n",
       "      <td>2022093018639890</td>\n",
       "      <td>APP</td>\n",
       "      <td>일반주문</td>\n",
       "      <td>[링크프라이스] CPS_롯데온</td>\n",
       "      <td>LPOINT통합회원</td>\n",
       "      <td>badamit</td>\n",
       "      <td>NaN</td>\n",
       "      <td>2022093018639892_1</td>\n",
       "      <td>배송완료</td>\n",
       "      <td>...</td>\n",
       "      <td>프리미엄 육수세트 18봉[한우사골곰탕+진국육수 3종]</td>\n",
       "      <td>LO1978869746</td>\n",
       "      <td>[L포인트 3000p 증정]★LAST DAY EVENT★</td>\n",
       "      <td>LO1978869746_1978869749</td>\n",
       "      <td>프리미엄 육수세트 18봉[한우사골곰탕+진국육수 3종]</td>\n",
       "      <td>38000</td>\n",
       "      <td>1</td>\n",
       "      <td>냉장/냉동/간편식 &gt; 국/탕/찌개 &gt; 국/탕</td>\n",
       "      <td>38000</td>\n",
       "      <td>9</td>\n",
       "    </tr>\n",
       "    <tr>\n",
       "      <th>93319</th>\n",
       "      <td>2022-09-30 23:59:27</td>\n",
       "      <td>2022093018640100</td>\n",
       "      <td>APP</td>\n",
       "      <td>일반주문</td>\n",
       "      <td>디폴트 채널상세</td>\n",
       "      <td>LPOINT통합회원</td>\n",
       "      <td>simsimfreeya</td>\n",
       "      <td>SCH사골곰탕</td>\n",
       "      <td>2022093018640098_1</td>\n",
       "      <td>배송완료</td>\n",
       "      <td>...</td>\n",
       "      <td>비비고 사골곰탕 500g x18봉</td>\n",
       "      <td>LO1978869746</td>\n",
       "      <td>[L포인트 3000p 증정]★LAST DAY EVENT★</td>\n",
       "      <td>LO1978869746_1978869755</td>\n",
       "      <td>비비고 사골곰탕 500g x18봉</td>\n",
       "      <td>24500</td>\n",
       "      <td>2</td>\n",
       "      <td>냉장/냉동/간편식 &gt; 국/탕/찌개 &gt; 국/탕</td>\n",
       "      <td>49000</td>\n",
       "      <td>9</td>\n",
       "    </tr>\n",
       "  </tbody>\n",
       "</table>\n",
       "<p>93320 rows × 25 columns</p>\n",
       "</div>"
      ],
      "text/plain": [
       "                    주문접수일시              주문번호    유입매체  주문구분  \\\n",
       "0      2022-01-01 00:38:13  2022010111866840  MO WEB  일반주문   \n",
       "1      2022-01-01 02:54:53  2022010111873730     APP  일반주문   \n",
       "2      2022-01-01 02:56:35  2022010111873770     APP  일반주문   \n",
       "3      2022-01-01 04:35:17  2022010111875630  MO WEB  일반주문   \n",
       "4      2022-01-01 08:00:37  2022010111879670     APP  일반주문   \n",
       "...                    ...               ...     ...   ...   \n",
       "93315  2022-09-30 23:52:25  2022093018638710  MO WEB  일반주문   \n",
       "93316  2022-09-30 23:52:41  2022093018638710     APP  일반주문   \n",
       "93317  2022-09-30 23:56:28  2022093018639350     APP  일반주문   \n",
       "93318  2022-09-30 23:58:52  2022093018639890     APP  일반주문   \n",
       "93319  2022-09-30 23:59:27  2022093018640100     APP  일반주문   \n",
       "\n",
       "                        유입채널        회원구분           아이디     전시유입코드  \\\n",
       "0      [다음카카오] PCS 가격비교_롯데ON  LPOINT통합회원      kim6****        CHT   \n",
       "1                   디폴트 채널상세  LPOINT통합회원      savi****        RSI   \n",
       "2                   디폴트 채널상세  LPOINT통합회원      savi****        RSI   \n",
       "3      [다음카카오] PCS 가격비교_롯데ON  LPOINT통합회원      happ****        CHT   \n",
       "4                   디폴트 채널상세  LPOINT통합회원      cats****  SCH비비고추어탕   \n",
       "...                      ...         ...           ...        ...   \n",
       "93315    [네이버] PCS 가격비교_롯데ON  LPOINT통합회원       cha2844        CHT   \n",
       "93316               디폴트 채널상세  LPOINT통합회원        wocns2        CHT   \n",
       "93317               디폴트 채널상세  LPOINT통합회원       xraydos        RSI   \n",
       "93318       [링크프라이스] CPS_롯데온  LPOINT통합회원       badamit        NaN   \n",
       "93319               디폴트 채널상세  LPOINT통합회원  simsimfreeya    SCH사골곰탕   \n",
       "\n",
       "                   상품주문번호  진행단계  ...                          전시단품명  \\\n",
       "0      2022010111866837_1  배송완료  ...                           단일상품   \n",
       "1      2022010111873735_1  배송완료  ...                           단일상품   \n",
       "2      2022010111873774_1  배송완료  ...                           단일상품   \n",
       "3      2022010111875631_1  배송완료  ...                           단일상품   \n",
       "4      2022010111879668_2  배송완료  ...                           단일상품   \n",
       "...                   ...   ...  ...                            ...   \n",
       "93315  2022093018638708_1  배송완료  ...                           단일상품   \n",
       "93316  2022093018638709_1  배송완료  ...             비비고 사골곰탕 500g x18봉   \n",
       "93317  2022093018639349_1  배송완료  ...              햇반 매일오곡밥 210Gx24개   \n",
       "93318  2022093018639892_1  배송완료  ...  프리미엄 육수세트 18봉[한우사골곰탕+진국육수 3종]   \n",
       "93319  2022093018640098_1  배송완료  ...             비비고 사골곰탕 500g x18봉   \n",
       "\n",
       "            판매자상품번호                             판매자상품명  \\\n",
       "0      LO1135162715               CJ 다담 된장찌개양념 530G x3   \n",
       "1      LO1495023715                   비비고 국물요리 BEST 9종   \n",
       "2      LO1495023715                   비비고 국물요리 BEST 9종   \n",
       "3      LO1517718327             CJ 다담 된장찌개양념 530G X 4개   \n",
       "4      LO1249549902                비비고 남도식 추어탕 460Gx5개   \n",
       "...             ...                                ...   \n",
       "93315  LO1520770627  [CJ직배송]더건강한 닭가슴살 직화 스테이크100G X 6개   \n",
       "93316  LO1978869746    [L포인트 3000p 증정]★LAST DAY EVENT★   \n",
       "93317  LO1978869746    [L포인트 3000p 증정]★LAST DAY EVENT★   \n",
       "93318  LO1978869746    [L포인트 3000p 증정]★LAST DAY EVENT★   \n",
       "93319  LO1978869746    [L포인트 3000p 증정]★LAST DAY EVENT★   \n",
       "\n",
       "                       판매자단품번호                         판매자단품명    판매가 수량  \\\n",
       "0      LO1135162715_1135162716                           단일상품  16240  1   \n",
       "1      LO1495023715_1495023716                           단일상품  33240  1   \n",
       "2      LO1495023715_1495023716                           단일상품  33240  1   \n",
       "3      LO1517718327_1517718328                           단일상품  21660  1   \n",
       "4      LO1249549902_1249549903                           단일상품  23680  1   \n",
       "...                        ...                            ...    ... ..   \n",
       "93315  LO1520770627_1520770628                           단일상품  17400  1   \n",
       "93316  LO1978869746_1978869755             비비고 사골곰탕 500g x18봉  24500  2   \n",
       "93317  LO1978869746_1978869753              햇반 매일오곡밥 210Gx24개  37000  1   \n",
       "93318  LO1978869746_1978869749  프리미엄 육수세트 18봉[한우사골곰탕+진국육수 3종]  38000  1   \n",
       "93319  LO1978869746_1978869755             비비고 사골곰탕 500g x18봉  24500  2   \n",
       "\n",
       "                           표준카테고리    판매액 주문월  \n",
       "0           가공식품 > 장류 > 된장/쌈장/청국장  16240   1  \n",
       "1      냉장/냉동/간편식 > 즉석밥/죽/스프 > 즉석밥  33240   1  \n",
       "2      냉장/냉동/간편식 > 즉석밥/죽/스프 > 즉석밥  33240   1  \n",
       "3           가공식품 > 장류 > 된장/쌈장/청국장  21660   1  \n",
       "4        냉장/냉동/간편식 > 국/탕/찌개 > 국/탕  23680   1  \n",
       "...                           ...    ...  ..  \n",
       "93315      가공식품 > 통조림/캔 > 닭가슴살통조림  17400   9  \n",
       "93316    냉장/냉동/간편식 > 국/탕/찌개 > 국/탕  49000   9  \n",
       "93317    냉장/냉동/간편식 > 국/탕/찌개 > 국/탕  37000   9  \n",
       "93318    냉장/냉동/간편식 > 국/탕/찌개 > 국/탕  38000   9  \n",
       "93319    냉장/냉동/간편식 > 국/탕/찌개 > 국/탕  49000   9  \n",
       "\n",
       "[93320 rows x 25 columns]"
      ]
     },
     "execution_count": 4,
     "metadata": {},
     "output_type": "execute_result"
    }
   ],
   "source": [
    "df"
   ]
  },
  {
   "cell_type": "code",
   "execution_count": 5,
   "id": "d2b4f6cc",
   "metadata": {},
   "outputs": [],
   "source": [
    "corona = pd.read_csv('코로나바이러스감염증-19_확진환자_발생현황.csv')"
   ]
  },
  {
   "cell_type": "code",
   "execution_count": 6,
   "id": "e1dc4d81",
   "metadata": {},
   "outputs": [
    {
     "data": {
      "text/html": [
       "<div>\n",
       "<style scoped>\n",
       "    .dataframe tbody tr th:only-of-type {\n",
       "        vertical-align: middle;\n",
       "    }\n",
       "\n",
       "    .dataframe tbody tr th {\n",
       "        vertical-align: top;\n",
       "    }\n",
       "\n",
       "    .dataframe thead th {\n",
       "        text-align: right;\n",
       "    }\n",
       "</style>\n",
       "<table border=\"1\" class=\"dataframe\">\n",
       "  <thead>\n",
       "    <tr style=\"text-align: right;\">\n",
       "      <th></th>\n",
       "      <th>일자</th>\n",
       "      <th>일별 확진자수</th>\n",
       "    </tr>\n",
       "  </thead>\n",
       "  <tbody>\n",
       "    <tr>\n",
       "      <th>1033</th>\n",
       "      <td>2022-11-18</td>\n",
       "      <td>49418</td>\n",
       "    </tr>\n",
       "    <tr>\n",
       "      <th>1034</th>\n",
       "      <td>2022-11-19</td>\n",
       "      <td>50589</td>\n",
       "    </tr>\n",
       "    <tr>\n",
       "      <th>1035</th>\n",
       "      <td>2022-11-20</td>\n",
       "      <td>46011</td>\n",
       "    </tr>\n",
       "    <tr>\n",
       "      <th>1036</th>\n",
       "      <td>2022-11-21</td>\n",
       "      <td>23091</td>\n",
       "    </tr>\n",
       "    <tr>\n",
       "      <th>1037</th>\n",
       "      <td>2022-11-22</td>\n",
       "      <td>72873</td>\n",
       "    </tr>\n",
       "  </tbody>\n",
       "</table>\n",
       "</div>"
      ],
      "text/plain": [
       "              일자  일별 확진자수\n",
       "1033  2022-11-18    49418\n",
       "1034  2022-11-19    50589\n",
       "1035  2022-11-20    46011\n",
       "1036  2022-11-21    23091\n",
       "1037  2022-11-22    72873"
      ]
     },
     "execution_count": 6,
     "metadata": {},
     "output_type": "execute_result"
    }
   ],
   "source": [
    "corona.tail()"
   ]
  },
  {
   "cell_type": "code",
   "execution_count": 7,
   "id": "05f267b4",
   "metadata": {},
   "outputs": [
    {
     "name": "stdout",
     "output_type": "stream",
     "text": [
      "<class 'pandas.core.frame.DataFrame'>\n",
      "RangeIndex: 1038 entries, 0 to 1037\n",
      "Data columns (total 2 columns):\n",
      " #   Column   Non-Null Count  Dtype \n",
      "---  ------   --------------  ----- \n",
      " 0   일자       1038 non-null   object\n",
      " 1   일별 확진자수  1038 non-null   int64 \n",
      "dtypes: int64(1), object(1)\n",
      "memory usage: 16.3+ KB\n"
     ]
    }
   ],
   "source": [
    "corona.info()"
   ]
  },
  {
   "cell_type": "code",
   "execution_count": 8,
   "id": "8e6fa50e",
   "metadata": {},
   "outputs": [],
   "source": [
    "from datetime import datetime"
   ]
  },
  {
   "cell_type": "code",
   "execution_count": 9,
   "id": "46646948",
   "metadata": {},
   "outputs": [],
   "source": [
    "corona['일자'] = pd.to_datetime(corona['일자'])"
   ]
  },
  {
   "cell_type": "code",
   "execution_count": 10,
   "id": "ddacb15e",
   "metadata": {},
   "outputs": [],
   "source": [
    "corona['월'] = corona['일자'].dt.month"
   ]
  },
  {
   "cell_type": "code",
   "execution_count": 11,
   "id": "7fa766cd",
   "metadata": {},
   "outputs": [],
   "source": [
    "corona.set_index('일자', inplace=True)"
   ]
  },
  {
   "cell_type": "code",
   "execution_count": 12,
   "id": "e2daba0c",
   "metadata": {},
   "outputs": [],
   "source": [
    "corona22 = corona.loc['2022-01-01':'2022-09-30']"
   ]
  },
  {
   "cell_type": "code",
   "execution_count": 13,
   "id": "04dea940",
   "metadata": {},
   "outputs": [
    {
     "data": {
      "text/html": [
       "<div>\n",
       "<style scoped>\n",
       "    .dataframe tbody tr th:only-of-type {\n",
       "        vertical-align: middle;\n",
       "    }\n",
       "\n",
       "    .dataframe tbody tr th {\n",
       "        vertical-align: top;\n",
       "    }\n",
       "\n",
       "    .dataframe thead th {\n",
       "        text-align: right;\n",
       "    }\n",
       "</style>\n",
       "<table border=\"1\" class=\"dataframe\">\n",
       "  <thead>\n",
       "    <tr style=\"text-align: right;\">\n",
       "      <th></th>\n",
       "      <th>일별 확진자수</th>\n",
       "      <th>월</th>\n",
       "    </tr>\n",
       "    <tr>\n",
       "      <th>일자</th>\n",
       "      <th></th>\n",
       "      <th></th>\n",
       "    </tr>\n",
       "  </thead>\n",
       "  <tbody>\n",
       "    <tr>\n",
       "      <th>2022-01-01</th>\n",
       "      <td>4414</td>\n",
       "      <td>1</td>\n",
       "    </tr>\n",
       "    <tr>\n",
       "      <th>2022-01-02</th>\n",
       "      <td>3830</td>\n",
       "      <td>1</td>\n",
       "    </tr>\n",
       "    <tr>\n",
       "      <th>2022-01-03</th>\n",
       "      <td>3124</td>\n",
       "      <td>1</td>\n",
       "    </tr>\n",
       "    <tr>\n",
       "      <th>2022-01-04</th>\n",
       "      <td>3020</td>\n",
       "      <td>1</td>\n",
       "    </tr>\n",
       "    <tr>\n",
       "      <th>2022-01-05</th>\n",
       "      <td>4441</td>\n",
       "      <td>1</td>\n",
       "    </tr>\n",
       "  </tbody>\n",
       "</table>\n",
       "</div>"
      ],
      "text/plain": [
       "            일별 확진자수  월\n",
       "일자                    \n",
       "2022-01-01     4414  1\n",
       "2022-01-02     3830  1\n",
       "2022-01-03     3124  1\n",
       "2022-01-04     3020  1\n",
       "2022-01-05     4441  1"
      ]
     },
     "execution_count": 13,
     "metadata": {},
     "output_type": "execute_result"
    }
   ],
   "source": [
    "corona22.head()"
   ]
  },
  {
   "cell_type": "markdown",
   "id": "cbf2a375",
   "metadata": {},
   "source": [
    "* 월별로 시각화한 결과, 3, 4월에 가장 많이 발생하다가, 7, 8월에 다시 증가하는 추세임을 알 수 있군요!"
   ]
  },
  {
   "cell_type": "code",
   "execution_count": 14,
   "id": "89c9caa1",
   "metadata": {},
   "outputs": [
    {
     "data": {
      "text/plain": [
       "월\n",
       "1     214801\n",
       "2    2288366\n",
       "3    9960413\n",
       "4    4142553\n",
       "5     866059\n",
       "6     255816\n",
       "7    1416393\n",
       "8    3470450\n",
       "9    1523005\n",
       "Name: 일별 확진자수, dtype: int64"
      ]
     },
     "execution_count": 14,
     "metadata": {},
     "output_type": "execute_result"
    }
   ],
   "source": [
    "corona22.groupby('월')['일별 확진자수'].sum()"
   ]
  },
  {
   "cell_type": "markdown",
   "id": "80a536c9",
   "metadata": {},
   "source": [
    "* 일별 확진자수를 시각화했더니, 2,3월에 급격한 증가세를 보이다가, 4,5월에 감소세를 보였습니다."
   ]
  },
  {
   "cell_type": "code",
   "execution_count": 15,
   "id": "e4931216",
   "metadata": {},
   "outputs": [
    {
     "data": {
      "text/plain": [
       "<AxesSubplot:xlabel='일자'>"
      ]
     },
     "execution_count": 15,
     "metadata": {},
     "output_type": "execute_result"
    },
    {
     "data": {
      "image/png": "[encoded data removed]",
      "text/plain": [
       "<Figure size 1080x432 with 1 Axes>"
      ]
     },
     "metadata": {
      "needs_background": "light"
     },
     "output_type": "display_data"
    }
   ],
   "source": [
    "corona22['일별 확진자수'].plot(figsize=(15,6))"
   ]
  },
  {
   "cell_type": "code",
   "execution_count": 16,
   "id": "32616626",
   "metadata": {},
   "outputs": [],
   "source": [
    "df['주문접수일시'] = pd.to_datetime(df['주문접수일시'])"
   ]
  },
  {
   "cell_type": "code",
   "execution_count": 17,
   "id": "b9a4f00a",
   "metadata": {},
   "outputs": [],
   "source": [
    "df['주문날짜'] = df['주문번호']//(10**8)"
   ]
  },
  {
   "cell_type": "code",
   "execution_count": 18,
   "id": "0716e101",
   "metadata": {},
   "outputs": [
    {
     "data": {
      "text/plain": [
       "0        20220101\n",
       "1        20220101\n",
       "2        20220101\n",
       "3        20220101\n",
       "4        20220101\n",
       "           ...   \n",
       "93315    20220930\n",
       "93316    20220930\n",
       "93317    20220930\n",
       "93318    20220930\n",
       "93319    20220930\n",
       "Name: 주문날짜, Length: 93320, dtype: object"
      ]
     },
     "execution_count": 18,
     "metadata": {},
     "output_type": "execute_result"
    }
   ],
   "source": [
    "df['주문날짜'].astype(str)"
   ]
  },
  {
   "cell_type": "code",
   "execution_count": 19,
   "id": "4e85df28",
   "metadata": {},
   "outputs": [],
   "source": [
    "df['주문날짜'] = pd.to_datetime(df['주문날짜'], format = \"%Y%m%d\")"
   ]
  },
  {
   "cell_type": "code",
   "execution_count": 20,
   "id": "9cb3ec2d",
   "metadata": {},
   "outputs": [
    {
     "data": {
      "text/plain": [
       "0   2022-01-01\n",
       "1   2022-01-01\n",
       "2   2022-01-01\n",
       "3   2022-01-01\n",
       "4   2022-01-01\n",
       "Name: 주문날짜, dtype: datetime64[ns]"
      ]
     },
     "execution_count": 20,
     "metadata": {},
     "output_type": "execute_result"
    }
   ],
   "source": [
    "df['주문날짜'].head()"
   ]
  },
  {
   "cell_type": "code",
   "execution_count": 21,
   "id": "c16d750b",
   "metadata": {},
   "outputs": [],
   "source": [
    "df['주문day'] = df['주문날짜'].dt.day"
   ]
  },
  {
   "cell_type": "code",
   "execution_count": 22,
   "id": "cde61f4e",
   "metadata": {},
   "outputs": [
    {
     "data": {
      "text/plain": [
       "0         1\n",
       "1         1\n",
       "2         1\n",
       "3         1\n",
       "4         1\n",
       "         ..\n",
       "93315    30\n",
       "93316    30\n",
       "93317    30\n",
       "93318    30\n",
       "93319    30\n",
       "Name: 주문day, Length: 93320, dtype: int64"
      ]
     },
     "execution_count": 22,
     "metadata": {},
     "output_type": "execute_result"
    }
   ],
   "source": [
    "df['주문day']"
   ]
  },
  {
   "cell_type": "code",
   "execution_count": 23,
   "id": "2400f340",
   "metadata": {},
   "outputs": [
    {
     "data": {
      "text/plain": [
       "주문날짜\n",
       "2022-01-01     30\n",
       "2022-01-02     21\n",
       "2022-01-03    114\n",
       "2022-01-04     36\n",
       "2022-01-05     78\n",
       "             ... \n",
       "2022-09-26    284\n",
       "2022-09-27    160\n",
       "2022-09-28    371\n",
       "2022-09-29    130\n",
       "2022-09-30    330\n",
       "Name: 주문번호, Length: 273, dtype: int64"
      ]
     },
     "execution_count": 23,
     "metadata": {},
     "output_type": "execute_result"
    }
   ],
   "source": [
    "df.groupby('주문날짜')['주문번호'].count()"
   ]
  },
  {
   "cell_type": "code",
   "execution_count": 24,
   "id": "b92f5556",
   "metadata": {},
   "outputs": [
    {
     "data": {
      "image/png": "[encoded data removed]",
      "text/plain": [
       "<Figure size 1080x1080 with 9 Axes>"
      ]
     },
     "metadata": {
      "needs_background": "light"
     },
     "output_type": "display_data"
    }
   ],
   "source": [
    "import matplotlib.gridspec as gridspec\n",
    "grid = gridspec.GridSpec(3,3) # 그래프를 9개를 그려보겠습니다.\n",
    "\n",
    "plt.figure(figsize=(15,15))  \n",
    "plt.subplots_adjust(wspace=0.5, hspace=0.3) \n",
    "\n",
    "months = [i for i in range(1, 10)]\n",
    "\n",
    "for idx, month in enumerate(months):\n",
    "    ax = plt.subplot(grid[idx])\n",
    "    \n",
    "    sns.histplot(x='주문day',\n",
    "                 data=df[df['주문월'] == month],\n",
    "                 palette='pastel',\n",
    "                 bins=max(df['주문day']),\n",
    "                 ax=ax\n",
    "                )\n",
    "    ax.set_title(f'Month {month}')"
   ]
  },
  {
   "cell_type": "markdown",
   "id": "8b147fd6",
   "metadata": {},
   "source": [
    "* 급격하게 많이 구매한 날짜(주변 날짜보다 2~3배 이상 눈에 띄게 큰??, 2월이나 9월은 너무 적으므로 생략)\n",
    "* 1월 - 9일\n",
    "* 3월 - 13, 14일, 21일\n",
    "* 4월 - 24일\n",
    "* 5월 - 16일, 25일 (2천건 이상)\n",
    "* 6월 - 8일, 9일(3천건), 12일, 25일\n",
    "* 7월 - 4일, 13일, 21일, 27일, 29일\n",
    "* 8월 - 3일, 6일, 7일(가장 많음, 7천건 이상), 17일, 31일에도 유독 많음\n",
    "* 9월 - 19일 (상대적으로 다른 달에 비해 너무 적지만 그나마.. 많은??)"
   ]
  },
  {
   "cell_type": "code",
   "execution_count": 25,
   "id": "4fb62835",
   "metadata": {},
   "outputs": [
    {
     "data": {
      "image/png": "[encoded data removed]",
      "text/plain": [
       "<Figure size 1080x2160 with 9 Axes>"
      ]
     },
     "metadata": {
      "needs_background": "light"
     },
     "output_type": "display_data"
    }
   ],
   "source": [
    "import matplotlib.gridspec as gridspec\n",
    "grid = gridspec.GridSpec(5,2) # 그래프를 9개를 그려보겠습니다.\n",
    "\n",
    "plt.figure(figsize=(15,30))  \n",
    "plt.subplots_adjust(wspace=0.5, hspace=0.3) \n",
    "\n",
    "months = [i for i in range(1, 10)]\n",
    "\n",
    "for idx, month in enumerate(months):\n",
    "    ax = plt.subplot(grid[idx])\n",
    "    \n",
    "    sns.barplot(x='주문day',\n",
    "                y='판매액',\n",
    "                estimator=sum,\n",
    "                ci=None,\n",
    "                data=df[df['주문월'] == month],\n",
    "                palette='pastel',\n",
    "                ax=ax\n",
    "                )\n",
    "    ax.set_title(f'Month {month}')"
   ]
  },
  {
   "cell_type": "markdown",
   "id": "d87c5276",
   "metadata": {},
   "source": [
    "* 매출이 큰 날짜\n",
    "* 1월 - 9일, 24일\n",
    "* 3월 - 13, 14일, 21일\n",
    "* 4월 - 13, 24일\n",
    "* 5월 - 16일, 25일\n",
    "* 6월 - 8일, 9일(3천건), 12일, 25일\n",
    "* 7월 - 4일, 13일, 21일, 27일, 29일\n",
    "* 8월 - 3일, 6일, 7일(가장 많음, 7천건 이상), 17, 25, 31일에도 유독 많음"
   ]
  },
  {
   "cell_type": "markdown",
   "id": "26a13d6e",
   "metadata": {},
   "source": [
    "## -> 주문건수가 많은 날은 대체로 매출도 높은 경향이 있다.\n",
    "\n",
    "#### 특히 주문건수, 매출이 모두 높은날은??\n",
    "#### 1월 9, 24일 \n",
    "#### 3월 13, 14, 21일, \n",
    "#### 4월 24일, \n",
    "#### 5월 16, 25일 (5월부터 기하급수적으로 늘어나기 시작)\n",
    "#### \n",
    "#### 6월 8,9,11, 25일, \n",
    "#### 7월 4, 13, 21, 27, 29일, \n",
    "#### 8월 3, 6, 7일 \n",
    "#### 8월 31~9월 2일(추석 직전) 위주로 살펴보겠다."
   ]
  },
  {
   "cell_type": "code",
   "execution_count": 26,
   "id": "9ac53e4c",
   "metadata": {},
   "outputs": [
    {
     "data": {
      "text/plain": [
       "냉장/냉동/간편식 > 즉석밥/죽/스프 > 즉석밥      24487\n",
       "냉장/냉동/간편식 > 국/탕/찌개 > 국/탕        11854\n",
       "냉장/냉동/간편식 > 떡볶이/만두 > 만두          9769\n",
       "냉장/냉동/간편식 > 돈가스/고로케/너겟 > 돈가스     5259\n",
       "가공식품 > 통조림/캔 > 햄통조림              4427\n",
       "냉장/냉동/간편식 > 즉석밥/죽/스프 > 볶음밥       4069\n",
       "과자/간식 > 캔디/껌/캐러멜 > 젤리/푸딩         3631\n",
       "가공식품 > 식용유/오일 > 식용유/오일선물세트       3358\n",
       "가공식품 > 식용유/오일 > 카놀라유             2980\n",
       "가공식품 > 소스/드레싱 > 기타소스             2679\n",
       "Name: 표준카테고리, dtype: int64"
      ]
     },
     "execution_count": 26,
     "metadata": {},
     "output_type": "execute_result"
    }
   ],
   "source": [
    "# 카테고리별로 주문량이 많은 상품을 살펴보니, 밀키트(meal-kit) 형태의 제품이 압도적,\n",
    "# 밀키트 식품을 만들어먹기 위해 필요한 재료로 식용유/오일이 압도적임을 확인할 수 있다.\n",
    "\n",
    "df['표준카테고리'].value_counts().head(10)"
   ]
  },
  {
   "cell_type": "code",
   "execution_count": 27,
   "id": "f223e3fe",
   "metadata": {},
   "outputs": [
    {
     "data": {
      "text/plain": [
       "비비고 사골곰탕 500g x18봉                                            4894\n",
       "CJ 스팸 25%라이트/ 스팸클래식 4개 골라담기 [ 택 1]                            4239\n",
       "미역국 X 5개 + 사골곰탕 X2개+ 육개장300g 2봉 증정(증정품 유통기한 22년 10월 7일까지)     3832\n",
       "[CJ직배송]포도씨유 900ML X 2개                                        3386\n",
       "CJ 햇반 쿡반 주먹밥 5종 골라담기                                          3310\n",
       "[Lpoint 1,000P 지급]햇반 작은공기, 100% 현미밥 x 36개 특가 (1,000set 한정)    2924\n",
       "비비고 BEST 볶음밥 3종 특가[불고기 비빔밥 + 매콤부추고기볶음밥 + 간장버터장조림볶음밥]          2518\n",
       "[CJ직배송]백설100%통참깨참기름300ML X 2개                                 2284\n",
       "[L.Point 3,000p 증정]햇반 오곡밥 24입/ 솥반 7종 골라담기 [ 택 1]              1820\n",
       "비비고 왕교자1.05KG X 2개                                            1678\n",
       "Name: 판매자상품명, dtype: int64"
      ]
     },
     "execution_count": 27,
     "metadata": {},
     "output_type": "execute_result"
    }
   ],
   "source": [
    "# 전체적으로 가장 많은 주문이 들어온 제품들을 살펴보자!!\n",
    "\n",
    "df['판매자상품명'].value_counts().head(10)\n",
    "\n",
    "# 곰탕, 스팸, 컵밥(묶음), 만두 등등의 밀키트 제품이 압도적."
   ]
  },
  {
   "cell_type": "code",
   "execution_count": 28,
   "id": "d8b4efd5",
   "metadata": {},
   "outputs": [
    {
     "data": {
      "text/plain": [
       "디폴트 채널상세                 58484\n",
       "유실 채널상세                  15562\n",
       "[네이버] PCS 가격비교_롯데ON       7480\n",
       "[다음카카오] PCS 가격비교_롯데ON     1285\n",
       "[에누리] PCS 가격비교_롯데ON       1256\n",
       "[모바일]다른앱공유하기              1125\n",
       "[네이버] 키워드_쇼핑검색광고_롯데ON      924\n",
       "[모바일]카카오톡                  902\n",
       "[다나와] PCS 가격비교_롯데ON        799\n",
       "[링크프라이스] CPS_롯데온           340\n",
       "Name: 유입채널, dtype: int64"
      ]
     },
     "execution_count": 28,
     "metadata": {},
     "output_type": "execute_result"
    }
   ],
   "source": [
    "# 주문들의 전체적인 유입 채널은 어떻게 될까??\n",
    "\n",
    "df['유입채널'].value_counts().head(10)"
   ]
  },
  {
   "cell_type": "code",
   "execution_count": 29,
   "id": "96fa72e0",
   "metadata": {},
   "outputs": [
    {
     "name": "stdout",
     "output_type": "stream",
     "text": [
      "유입채널이 디폴트 및 유실 채널 : 74046\n",
      "유입채널이 그 이외의 채널 : 19274\n"
     ]
    }
   ],
   "source": [
    "print(\"유입채널이 디폴트 및 유실 채널 : \" + str(len(df[(df['유입채널'] == '디폴트 채널상세') | (df['유입채널'] == '유실 채널상세')])))\n",
    "print(\"유입채널이 그 이외의 채널 : \" + str(len(df[(df['유입채널'] != '디폴트 채널상세') & (df['유입채널'] != '유실 채널상세')])))"
   ]
  },
  {
   "cell_type": "markdown",
   "id": "25dfb7a0",
   "metadata": {},
   "source": [
    "# 1월 데이터 (9, 24일)"
   ]
  },
  {
   "cell_type": "code",
   "execution_count": 30,
   "id": "3d3c42b2",
   "metadata": {},
   "outputs": [],
   "source": [
    "# 1월 데이터부터 살펴볼게요!!\n",
    "\n",
    "df0109 = df[df['주문날짜'] == '2022-01-09']\n",
    "df0124 = df[df['주문날짜'] == '2022-01-24']"
   ]
  },
  {
   "cell_type": "code",
   "execution_count": 31,
   "id": "f1439b52",
   "metadata": {
    "scrolled": true
   },
   "outputs": [
    {
     "data": {
      "text/plain": [
       "[CJ직배송]CJ비비고왕교자1.05KG X 2개           150\n",
       "CJ 비비고 사골곰탕 500g x18봉                 60\n",
       "[CJ직배송]포도씨유 900ML X 2개                28\n",
       "[롯데ON]고메 중화짬뽕 652g X 4개               25\n",
       "[CJ직배송]더건강한 닭가슴살 직화 통살구이100G X 6개     13\n",
       "고메 바삭쫄깃한 탕수육 450gx3개                  12\n",
       "[CJ직배송] CJ 햇반 백미 210g x 36개           10\n",
       "CJ 스팸 클래식 340gx4개                      9\n",
       "CJ 다담 된장찌개양념 530G X 4개                 7\n",
       "CJ 다담 매운버섯칼국수양념 150g x10               6\n",
       "Name: 판매자상품명, dtype: int64"
      ]
     },
     "execution_count": 31,
     "metadata": {},
     "output_type": "execute_result"
    }
   ],
   "source": [
    "# 왕교자, 사골곰탕, 짬뽕 등이 이날 유독 많이 판매되었군요.\n",
    "# 근데 특징들을 보면, 2개, 18봉씩 묶음 단위로 판매하네요??\n",
    "# \n",
    "df0109['판매자상품명'].value_counts().head(10)"
   ]
  },
  {
   "cell_type": "code",
   "execution_count": 32,
   "id": "3961c96b",
   "metadata": {},
   "outputs": [
    {
     "data": {
      "text/plain": [
       "디폴트 채널상세                           182\n",
       "[네이버] PCS 가격비교_롯데ON                142\n",
       "[네이버] 키워드_쇼핑검색광고_롯데ON               36\n",
       "[롯데ON][PUSH][실시간 BEST 🕠]            21\n",
       "[다나와] PCS 가격비교_롯데ON                 18\n",
       "[에누리] PCS 가격비교_롯데ON                 15\n",
       "[다음카카오] PCS 가격비교_롯데ON                9\n",
       "[모바일]카카오톡                            5\n",
       "[롯데마트][애프터위크 혜택, 이대로는 못보내지😘]         2\n",
       "webtoapp                             2\n",
       "브이피                                  2\n",
       "[롯데ON] MO Web 행사장_21.07_월간APP혜택      2\n",
       "[롯데ON][알림톡][[롯데ON] 주문취소 안내]          1\n",
       "[네이버] 키워드_롯데ON                       1\n",
       "[구글] SA_롯데ON                         1\n",
       "[롯데ON][알림톡][[롯데ON] 주문 완료 안내]         1\n",
       "[롯데ON][알림톡][[롯데ON] 배송완료 안내]          1\n",
       "[네이버] PC_브랜드검색_롯데ON                  1\n",
       "[롯데ON][애프터위크 라스트찬스🙋!]                1\n",
       "[롯데ON][알림톡][ [롯데ON] 주문완료 안내]         1\n",
       "유실 채널상세                              1\n",
       "Name: 유입채널, dtype: int64"
      ]
     },
     "execution_count": 32,
     "metadata": {},
     "output_type": "execute_result"
    }
   ],
   "source": [
    "df0109['유입채널'].value_counts()"
   ]
  },
  {
   "cell_type": "code",
   "execution_count": 33,
   "id": "6d9b01eb",
   "metadata": {},
   "outputs": [
    {
     "data": {
      "text/plain": [
       "판매자상품명\n",
       "[CJ직배송]CJ비비고왕교자1.05KG X 2개             2694000\n",
       "[CJ직배송][22년 설 선물세트]21년 설 비비고 토종김 5호    2083300\n",
       "CJ 비비고 사골곰탕 500g x18봉                  1490400\n",
       "[CJ직배송][22년 설 선물세트]스팸마일드8호             1206400\n",
       "[CJ직배송][22년 설 선물세트]백설 고소함가득 참기름 A호     1044000\n",
       "                                        ...   \n",
       "CJ 다담 청국장찌개 양념 130g x10                  13800\n",
       "[CJ직배송]더건강한 닭가슴살 소시지120G X 6개            12000\n",
       "다담 부대찌개 양념 140G *8                       11040\n",
       "[CJ직배송]사계절쌈장500G X 3개                     7440\n",
       "[CJ직배송]백설소불고기양념290g X 2개                  5160\n",
       "Name: 판매액, Length: 87, dtype: int64"
      ]
     },
     "execution_count": 33,
     "metadata": {},
     "output_type": "execute_result"
    }
   ],
   "source": [
    "df0109.groupby('판매자상품명')['판매액'].sum().sort_values(ascending=False)"
   ]
  },
  {
   "cell_type": "code",
   "execution_count": 34,
   "id": "8579452f",
   "metadata": {},
   "outputs": [
    {
     "name": "stdout",
     "output_type": "stream",
     "text": [
      "[21330 17960 19920 22760 23620 23710 26620 19960 27730]\n",
      "[ 8300 10420 10000]\n"
     ]
    }
   ],
   "source": [
    "print(df[df['판매자상품명'] == '[CJ직배송]CJ비비고왕교자1.05KG X 2개']['판매가'].unique())\n",
    "print(df[df['판매자상품명'] == '[CJ직배송][22년 설 선물세트]21년 설 비비고 토종김 5호']['판매가'].unique())"
   ]
  },
  {
   "cell_type": "code",
   "execution_count": 35,
   "id": "105077fa",
   "metadata": {},
   "outputs": [
    {
     "name": "stdout",
     "output_type": "stream",
     "text": [
      "[19920 22760]\n",
      "[10420 10000]\n"
     ]
    }
   ],
   "source": [
    "df0110 = df[df['주문날짜'] == '2022-01-10']\n",
    "print(df0110[df0110['판매자상품명'] == '[CJ직배송]CJ비비고왕교자1.05KG X 2개']['판매가'].unique())\n",
    "print(df0110[df0110['판매자상품명'] == '[CJ직배송][22년 설 선물세트]21년 설 비비고 토종김 5호']['판매가'].unique())"
   ]
  },
  {
   "cell_type": "code",
   "execution_count": 36,
   "id": "38eed686",
   "metadata": {},
   "outputs": [
    {
     "name": "stdout",
     "output_type": "stream",
     "text": [
      "[17960]\n",
      "[8300]\n"
     ]
    }
   ],
   "source": [
    "# 이날 보니까 할인을 했네요..... 주변 다른 날짜랑 비교해도 이날만 가격이 싸...\n",
    "\n",
    "print(df0109[df0109['판매자상품명'] == '[CJ직배송]CJ비비고왕교자1.05KG X 2개']['판매가'].unique())\n",
    "print(df0109[df0109['판매자상품명'] == '[CJ직배송][22년 설 선물세트]21년 설 비비고 토종김 5호']['판매가'].unique())"
   ]
  },
  {
   "cell_type": "code",
   "execution_count": 37,
   "id": "23587453",
   "metadata": {},
   "outputs": [
    {
     "data": {
      "text/plain": [
       "846     250\n",
       "1078      1\n",
       "Name: 수량, dtype: int64"
      ]
     },
     "execution_count": 37,
     "metadata": {},
     "output_type": "execute_result"
    }
   ],
   "source": [
    "# 이건 매출액이 크길래, 뭔가 해서 봤는데, 주문 한 건에서 250개를 사갔네요.... \n",
    "# 이건 순간적인 효과라서 중요한 변수로 보긴 어려울 것 같아요\n",
    "# 주문 건수가 중요한 변수인 것 같아요...\n",
    "\n",
    "df0109[df0109['판매자상품명'] == '[CJ직배송][22년 설 선물세트]21년 설 비비고 토종김 5호']['수량']"
   ]
  },
  {
   "cell_type": "code",
   "execution_count": 38,
   "id": "c2e0c3d5",
   "metadata": {},
   "outputs": [
    {
     "data": {
      "text/plain": [
       "유입채널\n",
       "[네이버] PCS 가격비교_롯데ON                7715860\n",
       "디폴트 채널상세                           5619620\n",
       "[에누리] PCS 가격비교_롯데ON                1349760\n",
       "[네이버] 키워드_쇼핑검색광고_롯데ON              1036300\n",
       "[다나와] PCS 가격비교_롯데ON                 589200\n",
       "[롯데ON][PUSH][실시간 BEST 🕠]            430380\n",
       "[다음카카오] PCS 가격비교_롯데ON               265560\n",
       "[모바일]카카오톡                            99760\n",
       "[롯데ON][알림톡][[롯데ON] 주문 완료 안내]         73700\n",
       "webtoapp                             53960\n",
       "[롯데마트][애프터위크 혜택, 이대로는 못보내지😘]         41960\n",
       "[롯데ON] MO Web 행사장_21.07_월간APP혜택      35920\n",
       "[구글] SA_롯데ON                         24840\n",
       "[네이버] 키워드_롯데ON                       24840\n",
       "브이피                                  20460\n",
       "[네이버] PC_브랜드검색_롯데ON                  19000\n",
       "[롯데ON][알림톡][[롯데ON] 배송완료 안내]          17960\n",
       "[롯데ON][애프터위크 라스트찬스🙋!]                17960\n",
       "[롯데ON][알림톡][[롯데ON] 주문취소 안내]          17960\n",
       "[롯데ON][알림톡][ [롯데ON] 주문완료 안내]         17960\n",
       "유실 채널상세                              17960\n",
       "Name: 판매액, dtype: int64"
      ]
     },
     "execution_count": 38,
     "metadata": {},
     "output_type": "execute_result"
    }
   ],
   "source": [
    "## 1월 9일날은 네이버 홍보 효과가 압도적으로 높네요~!\n",
    "\n",
    "df0109.groupby('유입채널')['판매액'].sum().sort_values(ascending=False)"
   ]
  },
  {
   "cell_type": "code",
   "execution_count": 39,
   "id": "6759ef62",
   "metadata": {},
   "outputs": [
    {
     "data": {
      "text/plain": [
       "판매자상품명\n",
       "[CJ직배송]특별한선택 Y호                    3128850\n",
       "[CJ직배송][22년 설 선물세트]스팸1호            1670720\n",
       "[CJ직배송][22년 설 선물세트]스팸3호            1567280\n",
       "[CJ직배송] 최저가 혜택! 22년 설 선물 스팸 S2호    1313650\n",
       "[CJ직배송][22년 설 선물세트]유러피안 P2호 x4개     463900\n",
       "[CJ직배송]백설100%통참깨참기름300ML X 2개       167520\n",
       "[CJ직배송][22년 설 선물세트]스팸고급유7호          135000\n",
       "비비고 한섬만두 384G*2EA *2                 90480\n",
       "[CJ직배송]비비고 도톰동그랑땡 425G*2 X2개         64140\n",
       "[CJ직배송][22년 설 선물세트]스팸12호             63900\n",
       "Name: 판매액, dtype: int64"
      ]
     },
     "execution_count": 39,
     "metadata": {},
     "output_type": "execute_result"
    }
   ],
   "source": [
    "# 1/24날은 설 선물 세트로 그나마 매출을 올린 것 같네요?\n",
    "## 이벤트를 더 크게 해야 하지 않을까요?\n",
    "\n",
    "df0124.groupby('판매자상품명')['판매액'].sum().sort_values(ascending=False).head(10)"
   ]
  },
  {
   "cell_type": "code",
   "execution_count": 40,
   "id": "8a6d0d86",
   "metadata": {},
   "outputs": [
    {
     "data": {
      "text/plain": [
       "[CJ직배송]특별한선택 Y호                             37\n",
       "[CJ직배송][22년 설 선물세트]스팸3호                     25\n",
       "[CJ직배송] 최저가 혜택! 22년 설 선물 스팸 S2호             16\n",
       "[CJ직배송][22년 설 선물세트]유러피안 P2호 x4개              4\n",
       "[CJ직배송]백설100%통참깨참기름300ML X 2개                4\n",
       "[CJ직배송]비비고 도톰동그랑땡 425G*2 X2개                 3\n",
       "[CJ직배송][22년 설 선물세트]스팸고급유7호                   3\n",
       "비비고 한섬만두 384G*2EA *2                         3\n",
       "CJ 비비고 새우볶음밥 420g x3                         2\n",
       "CJ 해찬들 우리쌀로만든태양초골드고추장2kgP X 2개 + 초고추장 증정     2\n",
       "Name: 판매자상품명, dtype: int64"
      ]
     },
     "execution_count": 40,
     "metadata": {},
     "output_type": "execute_result"
    }
   ],
   "source": [
    "# 1월 24일에는 설 선물세트가 어느정도 주문들어온 것 같은데, 주문 건수도 그닥 크진 않네요...\n",
    "\n",
    "df0124['판매자상품명'].value_counts().head(10)"
   ]
  },
  {
   "cell_type": "code",
   "execution_count": 41,
   "id": "e21a97e5",
   "metadata": {},
   "outputs": [
    {
     "name": "stdout",
     "output_type": "stream",
     "text": [
      "디폴트 채널상세    25\n",
      "Name: 유입채널, dtype: int64\n",
      "\n",
      "\n",
      "[네이버] PCS 가격비교_롯데ON    19\n",
      "디폴트 채널상세               16\n",
      "[네이버] MO_브랜드검색_롯데ON     1\n",
      "[모바일]카카오톡               1\n",
      "Name: 유입채널, dtype: int64\n",
      "\n",
      "\n",
      "[2 8 1 5]\n"
     ]
    }
   ],
   "source": [
    "# 1/24날 가장 많은 주문이 들어온 상품은 수량이 극단적으로 많지는 않은 것 같으며, 네이버 등의 채널로 유입이 많이 된 듯 하다.\n",
    "\n",
    "print(df0124[df0124['판매자상품명'] == '[CJ직배송][22년 설 선물세트]스팸3호']['유입채널'].value_counts())\n",
    "print('\\n')\n",
    "print(df0124[df0124['판매자상품명'] == '[CJ직배송]특별한선택 Y호']['유입채널'].value_counts())\n",
    "print('\\n')\n",
    "print(df0124[df0124['판매자상품명'] == '[CJ직배송]특별한선택 Y호']['수량'].unique())"
   ]
  },
  {
   "cell_type": "code",
   "execution_count": 42,
   "id": "7eade60b",
   "metadata": {
    "scrolled": true
   },
   "outputs": [
    {
     "name": "stdout",
     "output_type": "stream",
     "text": [
      "[36810]\n",
      "[36810 36800]\n"
     ]
    }
   ],
   "source": [
    "print(df0124[df0124['판매자상품명'] == '[CJ직배송]특별한선택 Y호']['판매가'].unique())\n",
    "print(df[df['판매자상품명'] == '[CJ직배송]특별한선택 Y호']['판매가'].unique())"
   ]
  },
  {
   "cell_type": "code",
   "execution_count": 43,
   "id": "d7ad6541",
   "metadata": {},
   "outputs": [
    {
     "data": {
      "text/plain": [
       "디폴트 채널상세                          108\n",
       "[네이버] PCS 가격비교_롯데ON                24\n",
       "[구글] SA_롯데ON                        2\n",
       "[모바일]카카오톡                           2\n",
       "[다음카카오] PCS 가격비교_롯데ON               2\n",
       "[롯데ON][PUSH][⏳월요일은 푸드Day⏳]          1\n",
       "[모지세] CPS제휴_매출_롯데ON                 1\n",
       "[롯데ON][PUSH][L.POINT 적립 알림]         1\n",
       "[롯데마트][장바구니가 풍성해지는 1+1💞]            1\n",
       "[네이버] PC_브랜드검색_롯데ON                 1\n",
       "[네이버] 키워드_롯데ON                      1\n",
       "[롯데ON][알림톡][[롯데ON] 반품접수 완료 안내]      1\n",
       "[네이버] MO_브랜드검색_롯데ON                 1\n",
       "유실 채널상세                             1\n",
       "Name: 유입채널, dtype: int64"
      ]
     },
     "execution_count": 43,
     "metadata": {},
     "output_type": "execute_result"
    }
   ],
   "source": [
    "# 검색 수는 그렇게 크지 않네요...\n",
    "\n",
    "df0124['유입채널'].value_counts()"
   ]
  },
  {
   "cell_type": "code",
   "execution_count": 44,
   "id": "16225e1a",
   "metadata": {},
   "outputs": [
    {
     "data": {
      "text/plain": [
       "유입채널\n",
       "디폴트 채널상세                          7968706\n",
       "[네이버] PCS 가격비교_롯데ON               1167108\n",
       "[모지세] CPS제휴_매출_롯데ON                185560\n",
       "[네이버] 키워드_롯데ON                      92780\n",
       "[다음카카오] PCS 가격비교_롯데ON               66240\n",
       "[모바일]카카오톡                           54760\n",
       "[구글] SA_롯데ON                        43920\n",
       "[롯데ON][PUSH][⏳월요일은 푸드Day⏳]          42470\n",
       "[네이버] MO_브랜드검색_롯데ON                 36810\n",
       "[네이버] PC_브랜드검색_롯데ON                 30550\n",
       "[롯데마트][장바구니가 풍성해지는 1+1💞]            26560\n",
       "유실 채널상세                             25710\n",
       "[롯데ON][알림톡][[롯데ON] 반품접수 완료 안내]      21350\n",
       "[롯데ON][PUSH][L.POINT 적립 알림]         14900\n",
       "Name: 판매액, dtype: int64"
      ]
     },
     "execution_count": 44,
     "metadata": {},
     "output_type": "execute_result"
    }
   ],
   "source": [
    "# 1월 9일날은 네이버 광고로 7백 만원의 매출을 거두었는데, 이 날은 116만원을 거두었네요..\n",
    "# 네이버 광고가 이날 제대로 활성화되지 못해서일까요??\n",
    "\n",
    "df0124.groupby('유입채널')['판매액'].sum().sort_values(ascending=False)"
   ]
  },
  {
   "cell_type": "markdown",
   "id": "7ce4c587",
   "metadata": {},
   "source": [
    "* 1월 9일 판매 데이터는 네이버를 통한 PCS 가격비교_롯데ON이 142건이나 되는데, 1월 24일 판매 데이터는 디폴트 채널에서만 거의 판매되었군요... -> 특히 명절에 광고를 더 활성화해야 할까?? 하는 제 개인적인 생각입니다."
   ]
  },
  {
   "cell_type": "markdown",
   "id": "8160ab9b",
   "metadata": {},
   "source": [
    "## 2월 데이터 (2월은 상대적으로 매출, 주문이 너무 적은데 그나마 7~10일에 조금 늘어서 한 번 살펴볼게요..)"
   ]
  },
  {
   "cell_type": "code",
   "execution_count": 45,
   "id": "90226804",
   "metadata": {},
   "outputs": [],
   "source": [
    "# 2월 데이터\n",
    "df02 = df[(df['주문날짜'] >= '2022-02-07') & (df['주문날짜'] <= '2022-02-10')]"
   ]
  },
  {
   "cell_type": "code",
   "execution_count": 46,
   "id": "c33041cd",
   "metadata": {},
   "outputs": [
    {
     "data": {
      "text/plain": [
       "CJ 다담 부대찌개양념 140g x10            24\n",
       "[CJ직배송]다담 순두부찌개양념 130G X10개      21\n",
       "CJ 다담 순두부찌개 양념 140g x10          21\n",
       "[CJ]비비고 왕교자 골라담기 + 수제고기만두 증정!    18\n",
       "[CJ직배송]CJ비비고왕교자1.05KG X 2개       16\n",
       "                                 ..\n",
       "CJ 다담 된장찌개양념 530G x3              1\n",
       "[CJ직배송] CJ 햇반 흑미밥 210g*24개        1\n",
       "[CJ직배송]비비고낙지김치죽 420G X3개          1\n",
       "CJ 부침가루 1kg x5                    1\n",
       "CJ 고메 순살크리스피 치킨 스윗허니 450g x3      1\n",
       "Name: 판매자상품명, Length: 200, dtype: int64"
      ]
     },
     "execution_count": 46,
     "metadata": {},
     "output_type": "execute_result"
    }
   ],
   "source": [
    "df02['판매자상품명'].value_counts()"
   ]
  },
  {
   "cell_type": "code",
   "execution_count": 47,
   "id": "3fc474f2",
   "metadata": {},
   "outputs": [
    {
     "data": {
      "text/plain": [
       "디폴트 채널상세                   437\n",
       "유실 채널상세                     62\n",
       "[네이버] PCS 가격비교_롯데ON         21\n",
       "[롯데ON][PUSH][🔔장바구니 알리미]      6\n",
       "[롯데ON][퍼스트먼데이는 오늘까지🥺]        4\n",
       "Name: 유입채널, dtype: int64"
      ]
     },
     "execution_count": 47,
     "metadata": {},
     "output_type": "execute_result"
    }
   ],
   "source": [
    "df02['유입채널'].value_counts().head()"
   ]
  },
  {
   "cell_type": "code",
   "execution_count": 48,
   "id": "01bdb4d0",
   "metadata": {},
   "outputs": [
    {
     "data": {
      "text/plain": [
       "판매자상품명\n",
       "[CJ]비비고 왕교자 골라담기 + 수제고기만두 증정!                 517420\n",
       "[CJ직배송]CJ비비고왕교자1.05KG X 2개                    378370\n",
       "[CJ직배송] CJ 고메 함박스테이크 152gx10개                 375000\n",
       "[CJ직배송]포도씨유 900ML X 2개                        361000\n",
       "CJ 다담 부대찌개양념 140g x10                         331200\n",
       "[CJ직배송]다담 순두부찌개양념 130G X10개                   319470\n",
       "CJ 다담 순두부찌개 양념 140g x10                       291690\n",
       "CJ 고메 바삭튀겨낸모짜렐라돈카츠 450Gx3개                    287500\n",
       "[CJ직배송][CJ] 비비고 왕교자1.05KG X 3봉 + 수제고기만두 증정    241120\n",
       "[CJ직배송] CJ 햇반 백미 210g x 36개                   210800\n",
       "Name: 판매액, dtype: int64"
      ]
     },
     "execution_count": 48,
     "metadata": {},
     "output_type": "execute_result"
    }
   ],
   "source": [
    "df02.groupby('판매자상품명')['판매액'].sum().sort_values(ascending=False).head(10)"
   ]
  },
  {
   "cell_type": "code",
   "execution_count": 49,
   "id": "76ba1b92",
   "metadata": {},
   "outputs": [
    {
     "name": "stdout",
     "output_type": "stream",
     "text": [
      "28745.555555555555\n",
      "27915.883333333335\n"
     ]
    }
   ],
   "source": [
    "# 할인 효과는 없는 것 같아.. 그냥 일시적인 효과거나, 설 연휴가 끝나서 주문이 일시적으로 많이 들어온거 겠지?? ㅠㅠㅠ\n",
    "\n",
    "print(df02[df02['판매자상품명'] == '[CJ]비비고 왕교자 골라담기 + 수제고기만두 증정!']['판매가'].mean())\n",
    "print(df[df['판매자상품명'] == '[CJ]비비고 왕교자 골라담기 + 수제고기만두 증정!']['판매가'].mean())"
   ]
  },
  {
   "cell_type": "markdown",
   "id": "af15582c",
   "metadata": {},
   "source": [
    "# 3월 데이터 (13~14, 21일)"
   ]
  },
  {
   "cell_type": "code",
   "execution_count": 50,
   "id": "c1edc661",
   "metadata": {},
   "outputs": [],
   "source": [
    "df0313 = df[(df['주문날짜'] == '2022-03-13') | (df['주문날짜'] == '2022-03-14')]\n",
    "df0321 = df[df['주문날짜'] == '2022-03-21']"
   ]
  },
  {
   "cell_type": "code",
   "execution_count": 51,
   "id": "0a263084",
   "metadata": {},
   "outputs": [
    {
     "data": {
      "text/plain": [
       "[CJ직배송][CJ] 비비고 왕교자1.05KG X 3봉 + 수제고기만두 증정    381\n",
       "천일염 소금/ 사골곰탕/비비고 죽/더비비고 특가 골라담기                96\n",
       "고메 바삭쫄깃한 탕수육 450gx3개                           23\n",
       "고메 순살 후라이드 치킨 550gx3개                          12\n",
       "비비고 왕교자 1.05KGx4개+비비고 찐만두 168gx1개               9\n",
       "                                             ... \n",
       "[롯데ON] 비비고/포기배추김치더풍부한맛3.3KG X2개                 1\n",
       "고메 프리미엄 콰트로 포르마지피자 310g                         1\n",
       "[CJ직배송]비비고 도톰동그랑땡 425G*2 X2개                    1\n",
       "[CJ직배송]비비고 한우소고기죽 420G X 3개                     1\n",
       "[사은품]  해찬들 우리쌀로만든태양초골드고추장 1kg X2개               1\n",
       "Name: 판매자상품명, Length: 204, dtype: int64"
      ]
     },
     "execution_count": 51,
     "metadata": {},
     "output_type": "execute_result"
    }
   ],
   "source": [
    "# 이 날은 CJ 만두, 비비고 식품 등이 많이 팔렸네요!!\n",
    "df0313['판매자상품명'].value_counts()"
   ]
  },
  {
   "cell_type": "code",
   "execution_count": 52,
   "id": "1f48685b",
   "metadata": {},
   "outputs": [
    {
     "data": {
      "text/plain": [
       "디폴트 채널상세                         428\n",
       "[네이버] PCS 가격비교_롯데ON              341\n",
       "유실 채널상세                           46\n",
       "[네이버] 키워드_쇼핑검색광고_롯데ON             17\n",
       "[다음카카오] PCS 가격비교_롯데ON             15\n",
       "[에누리] PCS 가격비교_롯데ON               13\n",
       "[다나와] PCS 가격비교_롯데ON               11\n",
       "(광고) 0314 타임딜                      9\n",
       "[네이버] MO_브랜드검색_롯데ON                6\n",
       "[네이버] 키워드_롯데ON                     5\n",
       "[롯데ON][PUSH][⏳월요일은 푸드Day⏳]         4\n",
       "[롯데ON][PUSH][실시간 BEST 🕠]           4\n",
       "[롯데ON][아쉬워 벌써 마지막~🕛🙏]              4\n",
       "[모바일]카카오톡                          3\n",
       "[롯데ON][[온.친.소] 🌱3월의 새 친구🌱]         2\n",
       "(광고) 3월 타임딜 배너(상/하단)               2\n",
       "[네이버] PC_브랜드검색_롯데ON                2\n",
       "[롯데ON][홈쇼핑📺 Festival [20%쿠폰]]      2\n",
       "[몰로코] APP 리타게팅_롯데ON                2\n",
       "[롯데ON][알림톡][[롯데ON] 주문 완료 안내]       1\n",
       "[롯데ON][PUSH][🔔장바구니 알리미]            1\n",
       "[모지세] CPS제휴_매출_롯데ON                1\n",
       "[롯데ON][알림톡][[롯데ON] 주문취소 안내]        1\n",
       "[롯데ON][PUSH][💌비밀매장으로 초대해요!]        1\n",
       "[클릭즈] 키워드CPS_포춘팝(2)_롯데ON           1\n",
       "퀵메뉴_슈퍼                             1\n",
       "[클릭즈] 키워드CPS_애드타겟_롯데ON             1\n",
       "[구글] SA_롯데ON                       1\n",
       "[롯데ON][알림톡][[롯데ON] 교환보류 안내]        1\n",
       "[모바일]다른앱공유하기                       1\n",
       "[RTB House] APP 리타게팅_롯데ON          1\n",
       "Name: 유입채널, dtype: int64"
      ]
     },
     "execution_count": 52,
     "metadata": {},
     "output_type": "execute_result"
    }
   ],
   "source": [
    "# 네이버를 통해 약 300~400건, 기본 채널을 통해 약 500건 정도 주문이 들어왔군요.\n",
    "df0313['유입채널'].value_counts()"
   ]
  },
  {
   "cell_type": "code",
   "execution_count": 53,
   "id": "56803364",
   "metadata": {},
   "outputs": [
    {
     "data": {
      "text/plain": [
       "판매자상품명\n",
       "[CJ직배송][CJ] 비비고 왕교자1.05KG X 3봉 + 수제고기만두 증정    11877440\n",
       "천일염 소금/ 사골곰탕/비비고 죽/더비비고 특가 골라담기                 938748\n",
       "고메 바삭쫄깃한 탕수육 450gx3개                            666450\n",
       "고메 순살 후라이드 치킨 550gx3개                           549000\n",
       "[3/9 이후 출고][CJ직배송] CJ 햇반 발아현미밥 210Gx24개         363060\n",
       "비비고 왕교자 1.05KGx4개+비비고 찐만두 168gx1개               322920\n",
       "CJ 비비고 수제고기만두x2개+수제김치만두x2개                      262400\n",
       "CJ 비비고 왕교자 1.05x2개+새우왕교자315gx2개                 235600\n",
       "[CJ직배송]사골곰탕 500G X 15봉 +영양꼬리곰탕 증정               225000\n",
       "[특가+증정] CJ 비비고 왕교자 1.05kg X 3개 + 찐만두 증정         223440\n",
       "Name: 판매액, dtype: int64"
      ]
     },
     "execution_count": 53,
     "metadata": {},
     "output_type": "execute_result"
    }
   ],
   "source": [
    "# 이날은 도대체 만두가 뭐라고 매출이 1187만원이나 될까요?\n",
    "\n",
    "df0313.groupby('판매자상품명')['판매액'].sum().sort_values(ascending=False).head(10)"
   ]
  },
  {
   "cell_type": "code",
   "execution_count": 54,
   "id": "df3d21de",
   "metadata": {},
   "outputs": [
    {
     "name": "stdout",
     "output_type": "stream",
     "text": [
      "[30560 33440]\n",
      "[30140 26000 30560 33440 27000 34000]\n"
     ]
    }
   ],
   "source": [
    "# 할인도 그닥 많이 안했는데 뭐지??\n",
    "\n",
    "print(df0313[df0313['판매자상품명'] == '[CJ직배송][CJ] 비비고 왕교자1.05KG X 3봉 + 수제고기만두 증정']['판매가'].unique())\n",
    "print(df[df['판매자상품명'] == '[CJ직배송][CJ] 비비고 왕교자1.05KG X 3봉 + 수제고기만두 증정']['판매가'].unique())"
   ]
  },
  {
   "cell_type": "code",
   "execution_count": 55,
   "id": "e56e3eca",
   "metadata": {},
   "outputs": [
    {
     "data": {
      "text/plain": [
       "array([1, 2], dtype=int64)"
      ]
     },
     "execution_count": 55,
     "metadata": {},
     "output_type": "execute_result"
    }
   ],
   "source": [
    "# 다들 1개나 2개씩 밖에 주문을 안했는데???\n",
    "\n",
    "df0313[df0313['판매자상품명'] == '[CJ직배송][CJ] 비비고 왕교자1.05KG X 3봉 + 수제고기만두 증정']['수량'].unique()"
   ]
  },
  {
   "cell_type": "code",
   "execution_count": 56,
   "id": "fccba2f1",
   "metadata": {},
   "outputs": [
    {
     "data": {
      "text/plain": [
       "[네이버] PCS 가격비교_롯데ON             257\n",
       "디폴트 채널상세                         53\n",
       "유실 채널상세                          45\n",
       "[다나와] PCS 가격비교_롯데ON              10\n",
       "[다음카카오] PCS 가격비교_롯데ON             7\n",
       "[모바일]카카오톡                         3\n",
       "[롯데ON][PUSH][실시간 BEST 🕠]          2\n",
       "[네이버] MO_브랜드검색_롯데ON               2\n",
       "[롯데ON][알림톡][[롯데ON] 주문 완료 안내]      1\n",
       "[모바일]다른앱공유하기                      1\n",
       "Name: 유입채널, dtype: int64"
      ]
     },
     "execution_count": 56,
     "metadata": {},
     "output_type": "execute_result"
    }
   ],
   "source": [
    "# 음... 역시 네이버가 엄청난 매출을 올리는데 도와줬어~~~ 범인은 유입매체!\n",
    "\n",
    "df0313[df0313['판매자상품명'] == '[CJ직배송][CJ] 비비고 왕교자1.05KG X 3봉 + 수제고기만두 증정']['유입채널'].value_counts()"
   ]
  },
  {
   "cell_type": "code",
   "execution_count": 57,
   "id": "64f2949b",
   "metadata": {},
   "outputs": [
    {
     "data": {
      "text/plain": [
       "[CJ직배송][CJ] 비비고 왕교자1.05KG X 3봉 + 수제고기만두 증정    305\n",
       "비비고 왕교자 1.05KGx4개+비비고 찐만두 168gx1개              12\n",
       "비비고 사골곰탕 500g X18                               8\n",
       "[특가+증정] CJ 비비고 왕교자 1.05kg X 3개 + 찐만두 증정         5\n",
       "CJ 해찬들 우리쌀로만든태양초골드고추장2kgP X 2개                  5\n",
       "                                             ... \n",
       "비비고 닭갈비볶음밥 440G *3                              1\n",
       "[CJ직배송]물냉면908G+비빔냉면474.4GX2개                    1\n",
       "[CJ직배송]쉐프솔루션 떡갈비스테이크1kg                         1\n",
       "[CJ직배송]CJ 꼬마 돈까스 450G X3개                       1\n",
       "CJ 비비고 한섬만두 384g 4봉 + 소고기 한섬만두 320g 4봉          1\n",
       "Name: 판매자상품명, Length: 79, dtype: int64"
      ]
     },
     "execution_count": 57,
     "metadata": {},
     "output_type": "execute_result"
    }
   ],
   "source": [
    "df0321['판매자상품명'].value_counts()"
   ]
  },
  {
   "cell_type": "code",
   "execution_count": 58,
   "id": "1854c92f",
   "metadata": {},
   "outputs": [
    {
     "data": {
      "text/plain": [
       "유실 채널상세                           200\n",
       "디폴트 채널상세                          177\n",
       "[네이버] PCS 가격비교_롯데ON                18\n",
       "[다음카카오] PCS 가격비교_롯데ON               5\n",
       "[롯데ON][알림톡][[롯데ON] 상품 배송시작 안내]      5\n",
       "[롯데ON][알림톡][[롯데ON] 주문 완료 안내]        4\n",
       "[모바일]카카오톡                           4\n",
       "[롯데ON][고객님 온세일🚂 출발해요!]              3\n",
       "[구글] SA_롯데ON                        2\n",
       "[에누리] PCS 가격비교_롯데ON                 2\n",
       "[롯데ON][PUSH][실시간 BEST 🕠]            2\n",
       "[롯데ON][알림톡][[롯데ON] 주문취소 안내]         2\n",
       "[롯데ON][PUSH][⏳월요일은 푸드Day⏳]          1\n",
       "[네이버] 키워드_쇼핑검색광고_롯데ON               1\n",
       "[클릭즈] 키워드CPS_애드타겟_롯데ON              1\n",
       "[애피어] APP 리타게팅_롯데ON                 1\n",
       "[롯데프레시&델리][하루 3번 타임특가! 오늘의 핫딜]      1\n",
       "Name: 유입채널, dtype: int64"
      ]
     },
     "execution_count": 58,
     "metadata": {},
     "output_type": "execute_result"
    }
   ],
   "source": [
    "# 3/13과는 다르게 이번엔 광고 효과가 많이 없네요??\n",
    "\n",
    "df0321['유입채널'].value_counts()"
   ]
  },
  {
   "cell_type": "code",
   "execution_count": 59,
   "id": "59600203",
   "metadata": {},
   "outputs": [
    {
     "data": {
      "text/plain": [
       "판매자상품명\n",
       "[CJ직배송][CJ] 비비고 왕교자1.05KG X 3봉 + 수제고기만두 증정    8262000\n",
       "비비고 왕교자 1.05KGx4개+비비고 찐만두 168gx1개              420000\n",
       "[CJ직배송]CJ 꼬마 돈까스 450G X3개                      179100\n",
       "비비고 사골곰탕 500g X18                              176000\n",
       "[특가+증정] CJ 비비고 왕교자 1.05kg X 3개 + 찐만두 증정        140000\n",
       "CJ 해찬들 우리쌀로만든태양초골드고추장2kgP X 2개                 130250\n",
       "비비고 찰보리감자만두 600G x6                             96000\n",
       "[CJ직배송]비비고 김스낵 오리지널 36g                         87120\n",
       "고메 함박스테이크 540Gx3개                               78000\n",
       "CJ 비비고 왕교자 1.05x2개+새우왕교자315gx2개                 78000\n",
       "Name: 판매액, dtype: int64"
      ]
     },
     "execution_count": 59,
     "metadata": {},
     "output_type": "execute_result"
    }
   ],
   "source": [
    "# 만두야... 왜 또 갑자기 너 혼자 떡상한거야???\n",
    "\n",
    "df0321.groupby('판매자상품명')['판매액'].sum().sort_values(ascending=False).head(10)"
   ]
  },
  {
   "cell_type": "markdown",
   "id": "6d3f28ad",
   "metadata": {},
   "source": [
    "# 범인은 할인... 잡았다 이놈!!!!"
   ]
  },
  {
   "cell_type": "code",
   "execution_count": 60,
   "id": "53268fde",
   "metadata": {},
   "outputs": [
    {
     "name": "stdout",
     "output_type": "stream",
     "text": [
      "[27000]\n",
      "[30140 26000 30560 33440 27000 34000]\n"
     ]
    }
   ],
   "source": [
    "# 범인은 할인... 잡았다 이놈!!!!\n",
    "\n",
    "print(df0321[df0321['판매자상품명'] == '[CJ직배송][CJ] 비비고 왕교자1.05KG X 3봉 + 수제고기만두 증정']['판매가'].unique())\n",
    "print(df[df['판매자상품명'] == '[CJ직배송][CJ] 비비고 왕교자1.05KG X 3봉 + 수제고기만두 증정']['판매가'].unique())"
   ]
  },
  {
   "cell_type": "code",
   "execution_count": 61,
   "id": "c4bf265d",
   "metadata": {},
   "outputs": [
    {
     "data": {
      "text/plain": [
       "유실 채널상세                           193\n",
       "디폴트 채널상세                           95\n",
       "[다음카카오] PCS 가격비교_롯데ON               4\n",
       "[롯데ON][고객님 온세일🚂 출발해요!]              3\n",
       "[구글] SA_롯데ON                        2\n",
       "[모바일]카카오톡                           2\n",
       "[롯데ON][알림톡][[롯데ON] 상품 배송시작 안내]      2\n",
       "[롯데ON][알림톡][[롯데ON] 주문 완료 안내]        1\n",
       "[애피어] APP 리타게팅_롯데ON                 1\n",
       "[롯데ON][알림톡][[롯데ON] 주문취소 안내]         1\n",
       "[롯데ON][PUSH][실시간 BEST 🕠]            1\n",
       "Name: 유입채널, dtype: int64"
      ]
     },
     "execution_count": 61,
     "metadata": {},
     "output_type": "execute_result"
    }
   ],
   "source": [
    "# 이미 범인을 잡았으니, 유입채널은 범인이 아님이 증명되었지.\n",
    "\n",
    "df0321[df0321['판매자상품명'] == '[CJ직배송][CJ] 비비고 왕교자1.05KG X 3봉 + 수제고기만두 증정']['유입채널'].value_counts()"
   ]
  },
  {
   "cell_type": "markdown",
   "id": "b37d743f",
   "metadata": {},
   "source": [
    "# 4월 데이터 (24일)\n",
    "#### 4/13은 주문 건수가 적은데, 매출만 커서 1/9때 250개 주문한 효과인 것 같아.. 24일만 분석해볼게요!"
   ]
  },
  {
   "cell_type": "code",
   "execution_count": 62,
   "id": "5e5cd47f",
   "metadata": {},
   "outputs": [],
   "source": [
    "df0424 = df[df['주문날짜'] == '2022-04-24']"
   ]
  },
  {
   "cell_type": "code",
   "execution_count": 63,
   "id": "4ad3ebb7",
   "metadata": {},
   "outputs": [
    {
     "data": {
      "text/plain": [
       "천일염 소금/ 사골곰탕/비비고 죽/더비비고 특가 골라담기                28\n",
       "[CJ직배송]포도씨유 900ML X 2개                         26\n",
       "[6+3]비비고 프리미엄 죽 6개 골라담기 +보양닭백숙죽 3개 증정          13\n",
       "다담 된장찌개양념 530Gx3개                              11\n",
       "다담 된장찌개양념 530G X 4개                            11\n",
       "                                               ..\n",
       "[비비고X사내맞선]비비고 왕교자 1.05kg X 3개 + 찐만두 증정          1\n",
       "[비비고X사내맞선]수제고기만두x2개+수제김치만두x4개 + 고기만두200G 증정     1\n",
       "다담 새콤달콤초고추장500G X 2개                            1\n",
       "[CJ직배송]비비고 해물파전 군교자 315g*2EA                    1\n",
       "[CJ직배송]고메 사이드바이츠 치즈볼 135G X3개                   1\n",
       "Name: 판매자상품명, Length: 168, dtype: int64"
      ]
     },
     "execution_count": 63,
     "metadata": {},
     "output_type": "execute_result"
    }
   ],
   "source": [
    "# 천일염/ 곰탕 특가, 포도씨유야!!! 너는 정체가 뭐니??\n",
    "\n",
    "df0424['판매자상품명'].value_counts()"
   ]
  },
  {
   "cell_type": "code",
   "execution_count": 64,
   "id": "a0a6d876",
   "metadata": {},
   "outputs": [
    {
     "data": {
      "text/plain": [
       "디폴트 채널상세                              294\n",
       "[네이버] PCS 가격비교_롯데ON                    23\n",
       "[롯데ON][PUSH][#{map1}고객님의 쿠폰 종료일⏱️]      9\n",
       "[롯데ON][아쉽지만 'ON세상' 오늘까지!!]              4\n",
       "[에누리] PCS 가격비교_롯데ON                     2\n",
       "카카오 챗메뉴_220418_롯데ON세상                   2\n",
       "[롯데ON][알림톡][[롯데ON] 주문 완료 안내]            2\n",
       "[애피어] APP 리타게팅_롯데ON                     2\n",
       "[롯데ON][ON세상에 스파오👕👖 있다!]                 2\n",
       "[롯데ON][PUSH][🔔장바구니 알리미]                 2\n",
       "[다나와] PCS 가격비교_롯데ON                     2\n",
       "[네이버] 키워드_쇼핑검색광고_롯데ON                   2\n",
       "(광고) 202204240900 온세상 타임원               1\n",
       "[네이버] MO_브랜드검색_롯데ON                     1\n",
       "유실 채널상세                                 1\n",
       "[네이버] PC_브랜드검색_롯데ON                     1\n",
       "[모바일]카카오톡                               1\n",
       "[네이버] 키워드_롯데ON                          1\n",
       "[롯데ON]['빈폴' 패밀리위크 보러 와요👖]               1\n",
       "[롯데ON][🧼P&G 특가 확인하셨나요~?]                1\n",
       "[다음카카오] PCS 가격비교_롯데ON                   1\n",
       "Name: 유입채널, dtype: int64"
      ]
     },
     "execution_count": 64,
     "metadata": {},
     "output_type": "execute_result"
    }
   ],
   "source": [
    "# 유입채널 효과 ??\n",
    "\n",
    "df0424['유입채널'].value_counts()"
   ]
  },
  {
   "cell_type": "code",
   "execution_count": 65,
   "id": "ae479866",
   "metadata": {},
   "outputs": [
    {
     "data": {
      "text/plain": [
       "판매자상품명\n",
       "[CJ직배송]포도씨유 900ML X 2개                   741200\n",
       "[6+3]비비고 프리미엄 죽 6개 골라담기 +보양닭백숙죽 3개 증정    442000\n",
       "고메 바삭쫄깃한 탕수육 450gx3개                     344520\n",
       "천일염 소금/ 사골곰탕/비비고 죽/더비비고 특가 골라담기          276800\n",
       "다담 된장찌개양념 530G X 4개                      234740\n",
       "[CJ직배송]햇반 발아현미밥 작은공기 130G*3번들 X7개        224560\n",
       "[채식만두]비비고 플랜테이블 왕교자 골라담기                 221220\n",
       "[비비고X사내맞선]왕교자 1.05kgx2 + 김치왕교자 420gx2    202580\n",
       "[CJ직배송] CJ 햇반 매일잡곡밥 210g x 24개           193600\n",
       "[파티컵증정]고메 순살 후라이드 치킨 550gx3개             187920\n",
       "Name: 판매액, dtype: int64"
      ]
     },
     "execution_count": 65,
     "metadata": {},
     "output_type": "execute_result"
    }
   ],
   "source": [
    "# 많이 팔리고, 매출도 큰 포도씨유를 집중 분석 해봐야겠어!!\n",
    "\n",
    "df0424.groupby('판매자상품명')['판매액'].sum().sort_values(ascending=False).head(10)"
   ]
  },
  {
   "cell_type": "code",
   "execution_count": 66,
   "id": "a04f06fe",
   "metadata": {
    "scrolled": true
   },
   "outputs": [
    {
     "name": "stdout",
     "output_type": "stream",
     "text": [
      "디폴트 채널상세               22\n",
      "[에누리] PCS 가격비교_롯데ON     2\n",
      "[네이버] PCS 가격비교_롯데ON     1\n",
      "[애피어] APP 리타게팅_롯데ON     1\n",
      "Name: 유입채널, dtype: int64\n"
     ]
    }
   ],
   "source": [
    "# 유입채널은 눈씻고 봐도 아닌거 같아..\n",
    "print(df0424[df0424['판매자상품명'] == '[CJ직배송]포도씨유 900ML X 2개']['유입채널'].value_counts())"
   ]
  },
  {
   "cell_type": "code",
   "execution_count": 67,
   "id": "fefc83fa",
   "metadata": {
    "scrolled": true
   },
   "outputs": [
    {
     "name": "stdout",
     "output_type": "stream",
     "text": [
      "[21800]\n",
      "[18240 19000 17030 21800 30000 29170 20000 25000 27000 36000]\n",
      "21414.988186650917\n"
     ]
    }
   ],
   "source": [
    "# 할인의 효과인가? 근데 더 쌌던 때도 있고, 평균적인 판매가보다 오히려 더 되는데??\n",
    "\n",
    "print(df0424[df0424['판매자상품명'] == '[CJ직배송]포도씨유 900ML X 2개']['판매가'].unique())\n",
    "print(df[df['판매자상품명'] == '[CJ직배송]포도씨유 900ML X 2개']['판매가'].unique())\n",
    "print(df[df['판매자상품명'] == '[CJ직배송]포도씨유 900ML X 2개']['판매가'].mean())"
   ]
  },
  {
   "cell_type": "code",
   "execution_count": 68,
   "id": "3b9f6c41",
   "metadata": {},
   "outputs": [
    {
     "data": {
      "text/plain": [
       "array([2, 1, 3], dtype=int64)"
      ]
     },
     "execution_count": 68,
     "metadata": {},
     "output_type": "execute_result"
    }
   ],
   "source": [
    "# 수량도 그냥 무난한데..\n",
    "\n",
    "df0424[df0424['판매자상품명'] == '[CJ직배송]포도씨유 900ML X 2개']['수량'].unique()"
   ]
  },
  {
   "cell_type": "markdown",
   "id": "6c87171e",
   "metadata": {},
   "source": [
    "# 5월 데이터 16, 25일 분석"
   ]
  },
  {
   "cell_type": "code",
   "execution_count": 69,
   "id": "5a53f88b",
   "metadata": {},
   "outputs": [],
   "source": [
    "df0516 = df[df['주문날짜'] == '2022-05-16']\n",
    "df0525 = df[df['주문날짜'] == '2022-05-25']"
   ]
  },
  {
   "cell_type": "code",
   "execution_count": 70,
   "id": "c03e6f7a",
   "metadata": {},
   "outputs": [
    {
     "data": {
      "text/plain": [
       "[CJ직배송]포도씨유 900ML X 2개                      1716\n",
       "[CJ직배송]카놀라유 900ML X 2개                        47\n",
       "[비비고X사내맞선]비비고 왕교자1.05KG X 3봉 + 수제고기만두 증정      33\n",
       "[CJ직배송]해바라기씨유 900ML X 2개                      30\n",
       "[사은품]  해찬들 우리쌀로만든태양초골드고추장 1kg X2개             28\n",
       "Name: 판매자상품명, dtype: int64"
      ]
     },
     "execution_count": 70,
     "metadata": {},
     "output_type": "execute_result"
    }
   ],
   "source": [
    "# 아까 4월에도 나왔던 포도씨유야.. 너는 정체가 뭐니??\n",
    "\n",
    "df0516['판매자상품명'].value_counts().head()"
   ]
  },
  {
   "cell_type": "code",
   "execution_count": 71,
   "id": "d4e1676c",
   "metadata": {},
   "outputs": [
    {
     "data": {
      "text/plain": [
       "[모바일]다른앱공유하기           916\n",
       "디폴트 채널상세               650\n",
       "유실 채널상세                194\n",
       "[네이버] PCS 가격비교_롯데ON     95\n",
       "[모바일]카카오톡               62\n",
       "Name: 유입채널, dtype: int64"
      ]
     },
     "execution_count": 71,
     "metadata": {},
     "output_type": "execute_result"
    }
   ],
   "source": [
    "# 모바일 어디에서 갑자기 홍보를 크게한 모양이군.. 근데 디폴트 채널도 너무 많음...\n",
    "# 이건 모바일 어디에서 홍보글 보고 바로 들어왔거나, 읽고 조금 생각해보다 사야겠다 하고 채널로 직접 들어온 거 같아.\n",
    "# 결론은 이건 유입채널 효과가 있다는거지.\n",
    "\n",
    "df0516['유입채널'].value_counts().head()"
   ]
  },
  {
   "cell_type": "code",
   "execution_count": 72,
   "id": "23bbe4c9",
   "metadata": {},
   "outputs": [
    {
     "data": {
      "text/plain": [
       "판매자상품명\n",
       "[CJ직배송]포도씨유 900ML X 2개                      44311400\n",
       "[비비고X사내맞선]비비고 왕교자1.05KG X 3봉 + 수제고기만두 증정     1039346\n",
       "[CJ직배송]카놀라유 900ML X 2개                        950500\n",
       "[CJ직배송]해바라기씨유 900ML X 2개                      833000\n",
       "[사은품]  해찬들 우리쌀로만든태양초골드고추장 1kg X2개             606120\n",
       "[CJ직배송][한박스]카놀라유 900mlx12개                    446400\n",
       "C J하선정 집김치처럼 시원한 포기김치 5kg                     224000\n",
       "CJ 옥수수식빵믹스 760G x4                            114600\n",
       "[CJ직배송][한박스]해바라기씨유 900mlx12개                  100000\n",
       "CJ 고메 바삭튀겨낸모짜렐라돈카츠 450Gx3개                     87510\n",
       "Name: 판매액, dtype: int64"
      ]
     },
     "execution_count": 72,
     "metadata": {},
     "output_type": "execute_result"
    }
   ],
   "source": [
    "# 아니 근데... 갑자기 무슨 4천만원이나 매출이 생긴걸까\n",
    "\n",
    "df0516.groupby('판매자상품명')['판매액'].sum().sort_values(ascending=False).head(10)"
   ]
  },
  {
   "cell_type": "code",
   "execution_count": 73,
   "id": "42766399",
   "metadata": {},
   "outputs": [
    {
     "name": "stdout",
     "output_type": "stream",
     "text": [
      "[20000 25000 21800 27000]\n"
     ]
    }
   ],
   "source": [
    "print(df0516[df0516['판매자상품명'] == '[CJ직배송]포도씨유 900ML X 2개']['판매가'].unique())"
   ]
  },
  {
   "cell_type": "code",
   "execution_count": 74,
   "id": "1af4f8a4",
   "metadata": {},
   "outputs": [
    {
     "data": {
      "text/plain": [
       "유입매체    판매가  \n",
       "APP     20000    851\n",
       "        21800    180\n",
       "        25000     31\n",
       "        27000     15\n",
       "MO WEB  20000    444\n",
       "        21800    140\n",
       "        25000     11\n",
       "        27000      9\n",
       "PC      20000     25\n",
       "        21800      9\n",
       "        25000      1\n",
       "Name: 판매가, dtype: int64"
      ]
     },
     "execution_count": 74,
     "metadata": {},
     "output_type": "execute_result"
    }
   ],
   "source": [
    "# 앱, 웹에서 2만원에 판다는 홍보글에 사람들이 불나방처럼 달려든 모양이야...\n",
    "\n",
    "df0516[df0516['판매자상품명'] == '[CJ직배송]포도씨유 900ML X 2개'].groupby('유입매체')['판매가'].value_counts().head(20)"
   ]
  },
  {
   "cell_type": "code",
   "execution_count": 75,
   "id": "98217045",
   "metadata": {},
   "outputs": [
    {
     "data": {
      "text/plain": [
       "[6+3+5%추가쿠폰]비비고 프리미엄 죽 6개 골라담기 +보양닭백숙죽 3개 증정              945\n",
       "[5%추가쿠폰 확인!]비비고 왕교자 1.05KGx4개+비비고 찐만두 168gx1개             688\n",
       "비비고 왕교자 1.05KGx4개+비비고 찐만두 168gx1개                         142\n",
       "[6+3+5%추가쿠폰]비비고 프리미엄 죽 6개 골라담기 +보양닭백숙죽/통단팥죽 (택1) 3개 증정     43\n",
       "[2+1][3+2]CJ제일제당 쁘띠첼 미초 석류+청포도+복숭아 外 골라담기                  13\n",
       "                                                         ... \n",
       "햇반 컵반 육개장국밥 217G *6                                         1\n",
       "CJ 햇반컵반 낙지콩나물비빔밥 216g x5                                    1\n",
       "[CJ직배송]갈색설탕3KG X 3개                                         1\n",
       "[채식만두]비비고 플랜테이블 왕교자 X2개 + 플랜테이블 김치 왕교자 X2개                  1\n",
       "[CJ직배송]제일제면소 코다리냉면 2인 534.4G X2개                            1\n",
       "Name: 판매자상품명, Length: 139, dtype: int64"
      ]
     },
     "execution_count": 75,
     "metadata": {},
     "output_type": "execute_result"
    }
   ],
   "source": [
    "# 왕교자는 원래 수요가 좋았었는데, 이날은 5% 할인한다는 말에 다들 눈에 불을 키셨네...\n",
    "# 갑자기 이날은 죽 골라담기 주문이 엄청 들어왔어...\n",
    "\n",
    "df0525['판매자상품명'].value_counts()"
   ]
  },
  {
   "cell_type": "code",
   "execution_count": 76,
   "id": "506b062f",
   "metadata": {},
   "outputs": [
    {
     "data": {
      "text/plain": [
       "디폴트 채널상세               1458\n",
       "유실 채널상세                 434\n",
       "[네이버] PCS 가격비교_롯데ON      36\n",
       "[샵백] CPS제휴_매출_롯데ON       22\n",
       "[모바일]카카오톡                20\n",
       "Name: 유입채널, dtype: int64"
      ]
     },
     "execution_count": 76,
     "metadata": {},
     "output_type": "execute_result"
    }
   ],
   "source": [
    "# 채널의 효과는 읎다..\n",
    "\n",
    "df0525['유입채널'].value_counts().head()"
   ]
  },
  {
   "cell_type": "code",
   "execution_count": 77,
   "id": "65812915",
   "metadata": {},
   "outputs": [
    {
     "data": {
      "text/plain": [
       "판매자상품명\n",
       "[6+3+5%추가쿠폰]비비고 프리미엄 죽 6개 골라담기 +보양닭백숙죽 3개 증정              29840400\n",
       "[5%추가쿠폰 확인!]비비고 왕교자 1.05KGx4개+비비고 찐만두 168gx1개             27934720\n",
       "비비고 왕교자 1.05KGx4개+비비고 찐만두 168gx1개                          5674240\n",
       "[6+3+5%추가쿠폰]비비고 프리미엄 죽 6개 골라담기 +보양닭백숙죽/통단팥죽 (택1) 3개 증정     1473600\n",
       "[비비고X사내맞선]비비고 왕교자1.05KG X 3봉 + 수제고기만두 증정                    312480\n",
       "[2+1][3+2]CJ제일제당 쁘띠첼 미초 석류+청포도+복숭아 外 골라담기                   217080\n",
       "[CJ직배송] 햇반 작은공기 130GX24개                                    199980\n",
       "C J하선정 집김치처럼 시원한 포기김치 5kg                                   194600\n",
       "[CJ직배송]동치미물냉면4인분 1816G X2개                                  187500\n",
       "[비비고X사내맞선]비비고 김치볶음 80G x10개                                 180000\n",
       "Name: 판매액, dtype: int64"
      ]
     },
     "execution_count": 77,
     "metadata": {},
     "output_type": "execute_result"
    }
   ],
   "source": [
    "# 매출이 어질어질하게 크네..\n",
    "\n",
    "df0525.groupby('판매자상품명')['판매액'].sum().sort_values(ascending=False).head(10)"
   ]
  },
  {
   "cell_type": "code",
   "execution_count": 78,
   "id": "81fbb199",
   "metadata": {},
   "outputs": [
    {
     "name": "stdout",
     "output_type": "stream",
     "text": [
      "[30700]\n",
      "[30700]\n",
      "30700.0\n"
     ]
    }
   ],
   "source": [
    "# 채널과 할인의 효과는 아닌듯 하다..\n",
    "\n",
    "print(df0525[df0525['판매자상품명'] == '[6+3+5%추가쿠폰]비비고 프리미엄 죽 6개 골라담기 +보양닭백숙죽 3개 증정']['판매가'].unique())\n",
    "print(df[df['판매자상품명'] == '[6+3+5%추가쿠폰]비비고 프리미엄 죽 6개 골라담기 +보양닭백숙죽 3개 증정']['판매가'].unique())\n",
    "print(df[df['판매자상품명'] == '[6+3+5%추가쿠폰]비비고 프리미엄 죽 6개 골라담기 +보양닭백숙죽 3개 증정']['판매가'].mean())"
   ]
  },
  {
   "cell_type": "markdown",
   "id": "140b0cde",
   "metadata": {},
   "source": [
    "# 6월 8~9일, 25일 분석"
   ]
  },
  {
   "cell_type": "code",
   "execution_count": 79,
   "id": "0d605b55",
   "metadata": {},
   "outputs": [],
   "source": [
    "df0608 = df[(df['주문날짜'] == '2022-06-08') | (df['주문날짜'] == '2022-06-09')]\n",
    "df0625 = df[df['주문날짜'] == '2022-06-25']"
   ]
  },
  {
   "cell_type": "code",
   "execution_count": 80,
   "id": "7b231579",
   "metadata": {},
   "outputs": [
    {
     "data": {
      "text/plain": [
       "비비고 BEST 볶음밥 3종 특가[불고기 비빔밥 + 매콤부추고기볶음밥 + 간장버터장조림볶음밥]    2102\n",
       "비비고 사골곰탕 500g x18봉                                      1248\n",
       "햇반 쿡반불고기500+치즈500+버터장조림500+치즈닭갈비500G                     409\n",
       "CJ 햇반 쿡반 주먹밥 5종 골라담기                                     357\n",
       "미역국 X 5개 + 사골곰탕 X2개+ 영양꼬리곰탕 1봉 증정                        297\n",
       "Name: 판매자상품명, dtype: int64"
      ]
     },
     "execution_count": 80,
     "metadata": {},
     "output_type": "execute_result"
    }
   ],
   "source": [
    "# 6월에는 곰탕, 볶음밥 등의 밀키트 제품이 압도적이군..\n",
    "\n",
    "df0608['판매자상품명'].value_counts().head()"
   ]
  },
  {
   "cell_type": "code",
   "execution_count": 81,
   "id": "dad93bf0",
   "metadata": {},
   "outputs": [
    {
     "data": {
      "text/plain": [
       "디폴트 채널상세                           2774\n",
       "유실 채널상세                            2239\n",
       "[모바일]카카오톡                            37\n",
       "[롯데ON] MO Web 행사장_21.07_월간APP혜택      28\n",
       "[네이버] PCS 가격비교_롯데ON                  16\n",
       "Name: 유입채널, dtype: int64"
      ]
     },
     "execution_count": 81,
     "metadata": {},
     "output_type": "execute_result"
    }
   ],
   "source": [
    "df0608['유입채널'].value_counts().head()"
   ]
  },
  {
   "cell_type": "code",
   "execution_count": 82,
   "id": "ef40f69e",
   "metadata": {},
   "outputs": [
    {
     "data": {
      "text/plain": [
       "판매자상품명\n",
       "비비고 BEST 볶음밥 3종 특가[불고기 비빔밥 + 매콤부추고기볶음밥 + 간장버터장조림볶음밥]    61240100\n",
       "비비고 사골곰탕 500g x18봉                                      29952000\n",
       "햇반 쿡반불고기500+치즈500+버터장조림500+치즈닭갈비500G                    13175000\n",
       "CJ 햇반 쿡반 주먹밥 5종 골라담기                                     7918900\n",
       "미역국 X 5개 + 사골곰탕 X2개+ 영양꼬리곰탕 1봉 증정                        6776000\n",
       "[CJ직배송][한박스]비비고 한우사골곰탕 500gx18개                          4557000\n",
       "육개장 X 5개 + 사골곰탕 X2개 +육개장300g 증정                          1536000\n",
       "비비고 진국육수 3종 + 한우사골곰탕 500G 구매시 육개장300g 1봉 증정              1066500\n",
       "해찬들 우리쌀로만든태양초골드고추장 1kg X2개                                877815\n",
       "비비고 왕교자 1.05KGx4개+비비고 찐만두 168gx1개                         680000\n",
       "Name: 판매액, dtype: int64"
      ]
     },
     "execution_count": 82,
     "metadata": {},
     "output_type": "execute_result"
    }
   ],
   "source": [
    "df0608.groupby('판매자상품명')['판매액'].sum().sort_values(ascending=False).head(10)"
   ]
  },
  {
   "cell_type": "code",
   "execution_count": 83,
   "id": "3a17427b",
   "metadata": {},
   "outputs": [
    {
     "name": "stdout",
     "output_type": "stream",
     "text": [
      "[11000 14700]\n",
      "[11000 14700 15400 14900 15900]\n",
      "14755.401111993646\n"
     ]
    }
   ],
   "source": [
    "# 범인은 할인이었고, 할인한다는 글에 사람들이 달려들었어!\n",
    "\n",
    "print(df0608[df0608['판매자상품명'] == '비비고 BEST 볶음밥 3종 특가[불고기 비빔밥 + 매콤부추고기볶음밥 + 간장버터장조림볶음밥]']['판매가'].unique())\n",
    "print(df[df['판매자상품명'] == '비비고 BEST 볶음밥 3종 특가[불고기 비빔밥 + 매콤부추고기볶음밥 + 간장버터장조림볶음밥]']['판매가'].unique())\n",
    "print(df[df['판매자상품명'] == '비비고 BEST 볶음밥 3종 특가[불고기 비빔밥 + 매콤부추고기볶음밥 + 간장버터장조림볶음밥]']['판매가'].mean())"
   ]
  },
  {
   "cell_type": "code",
   "execution_count": 84,
   "id": "b7a25b75",
   "metadata": {},
   "outputs": [
    {
     "name": "stdout",
     "output_type": "stream",
     "text": [
      "14700    2100\n",
      "11000       2\n",
      "Name: 판매가, dtype: int64\n"
     ]
    }
   ],
   "source": [
    "print(df0608[df0608['판매자상품명'] == '비비고 BEST 볶음밥 3종 특가[불고기 비빔밥 + 매콤부추고기볶음밥 + 간장버터장조림볶음밥]']['판매가'].value_counts())"
   ]
  },
  {
   "cell_type": "code",
   "execution_count": 85,
   "id": "f2cf3904",
   "metadata": {},
   "outputs": [
    {
     "data": {
      "text/plain": [
       "[Lpoint 1,000P 지급]햇반 작은공기, 100% 현미밥 x 36개 특가 (1,000set 한정)    1495\n",
       "비비고 사골곰탕 500g x18봉                                              67\n",
       "[한박스]비비고 한우사골곰탕 500gx18개                                        39\n",
       "[CJ직배송]햇반 100%현미로 지은밥 130G x36개                                 21\n",
       "[복날 준비 특가]누룽지닭백숙죽/전복삼계죽/녹두닭죽 外 + 보양닭백숙죽 증정                      17\n",
       "Name: 판매자상품명, dtype: int64"
      ]
     },
     "execution_count": 85,
     "metadata": {},
     "output_type": "execute_result"
    }
   ],
   "source": [
    "df0625['판매자상품명'].value_counts().head()"
   ]
  },
  {
   "cell_type": "code",
   "execution_count": 86,
   "id": "667f950b",
   "metadata": {},
   "outputs": [
    {
     "data": {
      "text/plain": [
       "디폴트 채널상세                           2774\n",
       "유실 채널상세                            2239\n",
       "[모바일]카카오톡                            37\n",
       "[롯데ON] MO Web 행사장_21.07_월간APP혜택      28\n",
       "[네이버] PCS 가격비교_롯데ON                  16\n",
       "Name: 유입채널, dtype: int64"
      ]
     },
     "execution_count": 86,
     "metadata": {},
     "output_type": "execute_result"
    }
   ],
   "source": [
    "df0608['유입채널'].value_counts().head()"
   ]
  },
  {
   "cell_type": "code",
   "execution_count": 87,
   "id": "79dd2700",
   "metadata": {},
   "outputs": [
    {
     "data": {
      "text/plain": [
       "판매자상품명\n",
       "[Lpoint 1,000P 지급]햇반 작은공기, 100% 현미밥 x 36개 특가 (1,000set 한정)    59317800\n",
       "비비고 사골곰탕 500g x18봉                                             1752000\n",
       "[한박스]비비고 한우사골곰탕 500gx18개                                       1066000\n",
       "[CJ직배송]햇반 100%현미로 지은밥 130G x36개                                1035000\n",
       "[복날 준비 특가]누룽지닭백숙죽/전복삼계죽/녹두닭죽 外 + 보양닭백숙죽 증정                      335750\n",
       "비비고 왕교자 1.05KGx4개+비비고 찐만두 168gx1개                               240000\n",
       "CJ 햇반 쿡반 주먹밥 5종 골라담기                                            240000\n",
       "비비고 국물요리 BEST 9종                                                219000\n",
       "[6+2]비비고 용기형 단호박죽/통단팥죽/흑임자죽 + 버섯야채죽 280GX2개 증정                  210000\n",
       "[CJ직배송]햇반작은공기130G x36개                                          208800\n",
       "Name: 판매액, dtype: int64"
      ]
     },
     "execution_count": 87,
     "metadata": {},
     "output_type": "execute_result"
    }
   ],
   "source": [
    "df0625.groupby('판매자상품명')['판매액'].sum().sort_values(ascending=False).head(10)"
   ]
  },
  {
   "cell_type": "code",
   "execution_count": 88,
   "id": "76dc36ef",
   "metadata": {},
   "outputs": [
    {
     "name": "stdout",
     "output_type": "stream",
     "text": [
      "[34800 45000]\n",
      "[34800 45000]\n",
      "38040.6976744186\n"
     ]
    }
   ],
   "source": [
    "print(df0625[df0625['판매자상품명'] == '[Lpoint 1,000P 지급]햇반 작은공기, 100% 현미밥 x 36개 특가 (1,000set 한정)']['판매가'].unique())\n",
    "print(df[df['판매자상품명'] == '[Lpoint 1,000P 지급]햇반 작은공기, 100% 현미밥 x 36개 특가 (1,000set 한정)']['판매가'].unique())\n",
    "print(df[df['판매자상품명'] == '[Lpoint 1,000P 지급]햇반 작은공기, 100% 현미밥 x 36개 특가 (1,000set 한정)']['판매가'].mean())"
   ]
  },
  {
   "cell_type": "code",
   "execution_count": 89,
   "id": "2ee46d16",
   "metadata": {},
   "outputs": [
    {
     "name": "stdout",
     "output_type": "stream",
     "text": [
      "34800    936\n",
      "45000    559\n",
      "Name: 판매가, dtype: int64\n"
     ]
    }
   ],
   "source": [
    "# 34800원에 구매한 사람들 완전 땡잡았네...\n",
    "\n",
    "print(df0625[df0625['판매자상품명'] == '[Lpoint 1,000P 지급]햇반 작은공기, 100% 현미밥 x 36개 특가 (1,000set 한정)']['판매가'].value_counts())"
   ]
  },
  {
   "cell_type": "markdown",
   "id": "833c9e3e",
   "metadata": {},
   "source": [
    "# 코로나 확진자수와 CJ 제일제당 주문량 데이터의 상관관계는??"
   ]
  },
  {
   "cell_type": "code",
   "execution_count": 90,
   "id": "3d1a30cc",
   "metadata": {},
   "outputs": [
    {
     "data": {
      "text/html": [
       "<div>\n",
       "<style scoped>\n",
       "    .dataframe tbody tr th:only-of-type {\n",
       "        vertical-align: middle;\n",
       "    }\n",
       "\n",
       "    .dataframe tbody tr th {\n",
       "        vertical-align: top;\n",
       "    }\n",
       "\n",
       "    .dataframe thead th {\n",
       "        text-align: right;\n",
       "    }\n",
       "</style>\n",
       "<table border=\"1\" class=\"dataframe\">\n",
       "  <thead>\n",
       "    <tr style=\"text-align: right;\">\n",
       "      <th></th>\n",
       "      <th>일별 확진자수</th>\n",
       "      <th>월</th>\n",
       "    </tr>\n",
       "    <tr>\n",
       "      <th>일자</th>\n",
       "      <th></th>\n",
       "      <th></th>\n",
       "    </tr>\n",
       "  </thead>\n",
       "  <tbody>\n",
       "    <tr>\n",
       "      <th>2022-01-01</th>\n",
       "      <td>4414</td>\n",
       "      <td>1</td>\n",
       "    </tr>\n",
       "    <tr>\n",
       "      <th>2022-01-02</th>\n",
       "      <td>3830</td>\n",
       "      <td>1</td>\n",
       "    </tr>\n",
       "    <tr>\n",
       "      <th>2022-01-03</th>\n",
       "      <td>3124</td>\n",
       "      <td>1</td>\n",
       "    </tr>\n",
       "    <tr>\n",
       "      <th>2022-01-04</th>\n",
       "      <td>3020</td>\n",
       "      <td>1</td>\n",
       "    </tr>\n",
       "    <tr>\n",
       "      <th>2022-01-05</th>\n",
       "      <td>4441</td>\n",
       "      <td>1</td>\n",
       "    </tr>\n",
       "    <tr>\n",
       "      <th>...</th>\n",
       "      <td>...</td>\n",
       "      <td>...</td>\n",
       "    </tr>\n",
       "    <tr>\n",
       "      <th>2022-09-26</th>\n",
       "      <td>14152</td>\n",
       "      <td>9</td>\n",
       "    </tr>\n",
       "    <tr>\n",
       "      <th>2022-09-27</th>\n",
       "      <td>39401</td>\n",
       "      <td>9</td>\n",
       "    </tr>\n",
       "    <tr>\n",
       "      <th>2022-09-28</th>\n",
       "      <td>36131</td>\n",
       "      <td>9</td>\n",
       "    </tr>\n",
       "    <tr>\n",
       "      <th>2022-09-29</th>\n",
       "      <td>30857</td>\n",
       "      <td>9</td>\n",
       "    </tr>\n",
       "    <tr>\n",
       "      <th>2022-09-30</th>\n",
       "      <td>28487</td>\n",
       "      <td>9</td>\n",
       "    </tr>\n",
       "  </tbody>\n",
       "</table>\n",
       "<p>273 rows × 2 columns</p>\n",
       "</div>"
      ],
      "text/plain": [
       "            일별 확진자수  월\n",
       "일자                    \n",
       "2022-01-01     4414  1\n",
       "2022-01-02     3830  1\n",
       "2022-01-03     3124  1\n",
       "2022-01-04     3020  1\n",
       "2022-01-05     4441  1\n",
       "...             ... ..\n",
       "2022-09-26    14152  9\n",
       "2022-09-27    39401  9\n",
       "2022-09-28    36131  9\n",
       "2022-09-29    30857  9\n",
       "2022-09-30    28487  9\n",
       "\n",
       "[273 rows x 2 columns]"
      ]
     },
     "execution_count": 90,
     "metadata": {},
     "output_type": "execute_result"
    }
   ],
   "source": [
    "corona22"
   ]
  },
  {
   "cell_type": "code",
   "execution_count": 91,
   "id": "ce8854c6",
   "metadata": {},
   "outputs": [],
   "source": [
    "df_day_count = df.groupby('주문날짜')['주문번호'].count()"
   ]
  },
  {
   "cell_type": "code",
   "execution_count": 92,
   "id": "000c8712",
   "metadata": {},
   "outputs": [],
   "source": [
    "df_corona = corona22['일별 확진자수']"
   ]
  },
  {
   "cell_type": "code",
   "execution_count": 93,
   "id": "86020925",
   "metadata": {},
   "outputs": [],
   "source": [
    "df_count_corona = pd.DataFrame({'Day_count':df_day_count, 'Corona':df_corona})"
   ]
  },
  {
   "cell_type": "code",
   "execution_count": 94,
   "id": "feb1b027",
   "metadata": {},
   "outputs": [
    {
     "data": {
      "text/html": [
       "<div>\n",
       "<style scoped>\n",
       "    .dataframe tbody tr th:only-of-type {\n",
       "        vertical-align: middle;\n",
       "    }\n",
       "\n",
       "    .dataframe tbody tr th {\n",
       "        vertical-align: top;\n",
       "    }\n",
       "\n",
       "    .dataframe thead th {\n",
       "        text-align: right;\n",
       "    }\n",
       "</style>\n",
       "<table border=\"1\" class=\"dataframe\">\n",
       "  <thead>\n",
       "    <tr style=\"text-align: right;\">\n",
       "      <th></th>\n",
       "      <th>Day_count</th>\n",
       "      <th>Corona</th>\n",
       "    </tr>\n",
       "  </thead>\n",
       "  <tbody>\n",
       "    <tr>\n",
       "      <th>2022-01-01</th>\n",
       "      <td>30</td>\n",
       "      <td>4414</td>\n",
       "    </tr>\n",
       "    <tr>\n",
       "      <th>2022-01-02</th>\n",
       "      <td>21</td>\n",
       "      <td>3830</td>\n",
       "    </tr>\n",
       "    <tr>\n",
       "      <th>2022-01-03</th>\n",
       "      <td>114</td>\n",
       "      <td>3124</td>\n",
       "    </tr>\n",
       "    <tr>\n",
       "      <th>2022-01-04</th>\n",
       "      <td>36</td>\n",
       "      <td>3020</td>\n",
       "    </tr>\n",
       "    <tr>\n",
       "      <th>2022-01-05</th>\n",
       "      <td>78</td>\n",
       "      <td>4441</td>\n",
       "    </tr>\n",
       "    <tr>\n",
       "      <th>...</th>\n",
       "      <td>...</td>\n",
       "      <td>...</td>\n",
       "    </tr>\n",
       "    <tr>\n",
       "      <th>2022-09-26</th>\n",
       "      <td>284</td>\n",
       "      <td>14152</td>\n",
       "    </tr>\n",
       "    <tr>\n",
       "      <th>2022-09-27</th>\n",
       "      <td>160</td>\n",
       "      <td>39401</td>\n",
       "    </tr>\n",
       "    <tr>\n",
       "      <th>2022-09-28</th>\n",
       "      <td>371</td>\n",
       "      <td>36131</td>\n",
       "    </tr>\n",
       "    <tr>\n",
       "      <th>2022-09-29</th>\n",
       "      <td>130</td>\n",
       "      <td>30857</td>\n",
       "    </tr>\n",
       "    <tr>\n",
       "      <th>2022-09-30</th>\n",
       "      <td>330</td>\n",
       "      <td>28487</td>\n",
       "    </tr>\n",
       "  </tbody>\n",
       "</table>\n",
       "<p>273 rows × 2 columns</p>\n",
       "</div>"
      ],
      "text/plain": [
       "            Day_count  Corona\n",
       "2022-01-01         30    4414\n",
       "2022-01-02         21    3830\n",
       "2022-01-03        114    3124\n",
       "2022-01-04         36    3020\n",
       "2022-01-05         78    4441\n",
       "...               ...     ...\n",
       "2022-09-26        284   14152\n",
       "2022-09-27        160   39401\n",
       "2022-09-28        371   36131\n",
       "2022-09-29        130   30857\n",
       "2022-09-30        330   28487\n",
       "\n",
       "[273 rows x 2 columns]"
      ]
     },
     "execution_count": 94,
     "metadata": {},
     "output_type": "execute_result"
    }
   ],
   "source": [
    "df_count_corona"
   ]
  },
  {
   "cell_type": "markdown",
   "id": "7f5a04a0",
   "metadata": {},
   "source": [
    "### 일일 확진자 수와 주문 건수 간의 상관관계는 시각화 그래프에서 보았다시피 거의 없다... (상관계수가 -0.07)"
   ]
  },
  {
   "cell_type": "code",
   "execution_count": 95,
   "id": "0c25b870",
   "metadata": {},
   "outputs": [
    {
     "data": {
      "text/html": [
       "<div>\n",
       "<style scoped>\n",
       "    .dataframe tbody tr th:only-of-type {\n",
       "        vertical-align: middle;\n",
       "    }\n",
       "\n",
       "    .dataframe tbody tr th {\n",
       "        vertical-align: top;\n",
       "    }\n",
       "\n",
       "    .dataframe thead th {\n",
       "        text-align: right;\n",
       "    }\n",
       "</style>\n",
       "<table border=\"1\" class=\"dataframe\">\n",
       "  <thead>\n",
       "    <tr style=\"text-align: right;\">\n",
       "      <th></th>\n",
       "      <th>Day_count</th>\n",
       "      <th>Corona</th>\n",
       "    </tr>\n",
       "  </thead>\n",
       "  <tbody>\n",
       "    <tr>\n",
       "      <th>Day_count</th>\n",
       "      <td>1.000000</td>\n",
       "      <td>-0.071855</td>\n",
       "    </tr>\n",
       "    <tr>\n",
       "      <th>Corona</th>\n",
       "      <td>-0.071855</td>\n",
       "      <td>1.000000</td>\n",
       "    </tr>\n",
       "  </tbody>\n",
       "</table>\n",
       "</div>"
      ],
      "text/plain": [
       "           Day_count    Corona\n",
       "Day_count   1.000000 -0.071855\n",
       "Corona     -0.071855  1.000000"
      ]
     },
     "execution_count": 95,
     "metadata": {},
     "output_type": "execute_result"
    }
   ],
   "source": [
    "df_count_corona.corr()"
   ]
  },
  {
   "cell_type": "code",
   "execution_count": 96,
   "id": "cf83bfd8",
   "metadata": {},
   "outputs": [],
   "source": [
    "df_month_count = df.groupby('주문월')['주문번호'].count()\n",
    "df_month_corona = corona22.groupby('월')['일별 확진자수'].sum()\n",
    "df_count_month_corona = pd.DataFrame({'Day_count':df_month_count, 'Corona':df_month_corona})"
   ]
  },
  {
   "cell_type": "markdown",
   "id": "7d493838",
   "metadata": {},
   "source": [
    "### 월별로 확진자 수, 주문 건수 간의 상관계수도 -0.18로 낮다."
   ]
  },
  {
   "cell_type": "code",
   "execution_count": 97,
   "id": "f1e8ad50",
   "metadata": {
    "scrolled": true
   },
   "outputs": [
    {
     "data": {
      "text/html": [
       "<div>\n",
       "<style scoped>\n",
       "    .dataframe tbody tr th:only-of-type {\n",
       "        vertical-align: middle;\n",
       "    }\n",
       "\n",
       "    .dataframe tbody tr th {\n",
       "        vertical-align: top;\n",
       "    }\n",
       "\n",
       "    .dataframe thead th {\n",
       "        text-align: right;\n",
       "    }\n",
       "</style>\n",
       "<table border=\"1\" class=\"dataframe\">\n",
       "  <thead>\n",
       "    <tr style=\"text-align: right;\">\n",
       "      <th></th>\n",
       "      <th>Day_count</th>\n",
       "      <th>Corona</th>\n",
       "    </tr>\n",
       "  </thead>\n",
       "  <tbody>\n",
       "    <tr>\n",
       "      <th>Day_count</th>\n",
       "      <td>1.000000</td>\n",
       "      <td>-0.187193</td>\n",
       "    </tr>\n",
       "    <tr>\n",
       "      <th>Corona</th>\n",
       "      <td>-0.187193</td>\n",
       "      <td>1.000000</td>\n",
       "    </tr>\n",
       "  </tbody>\n",
       "</table>\n",
       "</div>"
      ],
      "text/plain": [
       "           Day_count    Corona\n",
       "Day_count   1.000000 -0.187193\n",
       "Corona     -0.187193  1.000000"
      ]
     },
     "execution_count": 97,
     "metadata": {},
     "output_type": "execute_result"
    }
   ],
   "source": [
    "df_count_month_corona.corr()"
   ]
  },
  {
   "cell_type": "code",
   "execution_count": 98,
   "id": "4fbb0f7c",
   "metadata": {},
   "outputs": [],
   "source": [
    "# 취소 및 반품한 데이터 불러오기\n",
    "\n",
    "canceled = pd.read_csv('구매미확정 및 취소된 제품.csv')"
   ]
  },
  {
   "cell_type": "code",
   "execution_count": 99,
   "id": "666ad977",
   "metadata": {},
   "outputs": [
    {
     "data": {
      "text/html": [
       "<div>\n",
       "<style scoped>\n",
       "    .dataframe tbody tr th:only-of-type {\n",
       "        vertical-align: middle;\n",
       "    }\n",
       "\n",
       "    .dataframe tbody tr th {\n",
       "        vertical-align: top;\n",
       "    }\n",
       "\n",
       "    .dataframe thead th {\n",
       "        text-align: right;\n",
       "    }\n",
       "</style>\n",
       "<table border=\"1\" class=\"dataframe\">\n",
       "  <thead>\n",
       "    <tr style=\"text-align: right;\">\n",
       "      <th></th>\n",
       "      <th>주문접수일시</th>\n",
       "      <th>주문번호</th>\n",
       "      <th>유입매체</th>\n",
       "      <th>주문구분</th>\n",
       "      <th>유입채널</th>\n",
       "      <th>회원구분</th>\n",
       "      <th>아이디</th>\n",
       "      <th>전시유입코드</th>\n",
       "      <th>상품주문번호</th>\n",
       "      <th>유형</th>\n",
       "      <th>...</th>\n",
       "      <th>전시단품명</th>\n",
       "      <th>판매자상품번호</th>\n",
       "      <th>판매자상품명</th>\n",
       "      <th>판매자단품번호</th>\n",
       "      <th>판매자단품명</th>\n",
       "      <th>판매가</th>\n",
       "      <th>수량</th>\n",
       "      <th>표준카테고리</th>\n",
       "      <th>판매액</th>\n",
       "      <th>주문월</th>\n",
       "    </tr>\n",
       "  </thead>\n",
       "  <tbody>\n",
       "    <tr>\n",
       "      <th>0</th>\n",
       "      <td>2022-01-01 00:17:11</td>\n",
       "      <td>2022010111864970</td>\n",
       "      <td>MO WEB</td>\n",
       "      <td>일반주문</td>\n",
       "      <td>디폴트 채널상세</td>\n",
       "      <td>LPOINT통합회원</td>\n",
       "      <td>jsda****</td>\n",
       "      <td>SCH비비고갈비탕</td>\n",
       "      <td>2022010111864975_1</td>\n",
       "      <td>취소(주문취소)</td>\n",
       "      <td>...</td>\n",
       "      <td>단일상품</td>\n",
       "      <td>LO1031678373</td>\n",
       "      <td>CJ 비비고 갈비탕 400g x4</td>\n",
       "      <td>LO1031678373_1031678374</td>\n",
       "      <td>단일상품</td>\n",
       "      <td>18830</td>\n",
       "      <td>1</td>\n",
       "      <td>냉장/냉동/간편식 &gt; 국/탕/찌개 &gt; 국/탕</td>\n",
       "      <td>18830</td>\n",
       "      <td>1</td>\n",
       "    </tr>\n",
       "    <tr>\n",
       "      <th>1</th>\n",
       "      <td>2022-01-01 00:38:42</td>\n",
       "      <td>2022010111866940</td>\n",
       "      <td>APP</td>\n",
       "      <td>일반주문</td>\n",
       "      <td>디폴트 채널상세</td>\n",
       "      <td>LPOINT통합회원</td>\n",
       "      <td>ggg9****</td>\n",
       "      <td>SCH쁘띠첼복숭아</td>\n",
       "      <td>2022010111866938_5</td>\n",
       "      <td>취소(주문취소)</td>\n",
       "      <td>...</td>\n",
       "      <td>단일상품</td>\n",
       "      <td>LO1354545470</td>\n",
       "      <td>[CJ제일제당] 쁘띠첼 복숭아 90g*9번들X2EA</td>\n",
       "      <td>LO1354545470_1354545471</td>\n",
       "      <td>단일상품</td>\n",
       "      <td>22300</td>\n",
       "      <td>1</td>\n",
       "      <td>과자/간식 &gt; 디저트/케이크 &gt; 푸딩</td>\n",
       "      <td>22300</td>\n",
       "      <td>1</td>\n",
       "    </tr>\n",
       "    <tr>\n",
       "      <th>2</th>\n",
       "      <td>2022-01-01 17:16:48</td>\n",
       "      <td>2022010111935200</td>\n",
       "      <td>APP</td>\n",
       "      <td>일반주문</td>\n",
       "      <td>디폴트 채널상세</td>\n",
       "      <td>LPOINT통합회원</td>\n",
       "      <td>love****</td>\n",
       "      <td>SCH파래김</td>\n",
       "      <td>2022010111935204_1</td>\n",
       "      <td>취소(주문취소)</td>\n",
       "      <td>...</td>\n",
       "      <td>단일상품</td>\n",
       "      <td>LO1511816458</td>\n",
       "      <td>[CJ직배송]CJ 명가김 파래김 4G*16EA  X 2개</td>\n",
       "      <td>LO1511816458_1511816459</td>\n",
       "      <td>단일상품</td>\n",
       "      <td>6960</td>\n",
       "      <td>3</td>\n",
       "      <td>수산/건어물 &gt; 김/해조류 &gt; 조미김/도시락김</td>\n",
       "      <td>20880</td>\n",
       "      <td>1</td>\n",
       "    </tr>\n",
       "    <tr>\n",
       "      <th>3</th>\n",
       "      <td>2022-01-02 13:03:20</td>\n",
       "      <td>2022010212023380</td>\n",
       "      <td>MO WEB</td>\n",
       "      <td>일반주문</td>\n",
       "      <td>디폴트 채널상세</td>\n",
       "      <td>LPOINT통합회원</td>\n",
       "      <td>pilj****</td>\n",
       "      <td>BSGP2566</td>\n",
       "      <td>2022010212023381_2</td>\n",
       "      <td>취소(주문취소)</td>\n",
       "      <td>...</td>\n",
       "      <td>단일상품</td>\n",
       "      <td>LO1631718294</td>\n",
       "      <td>[특별이벤트] 햇반 BIG 컵반 스팸 2종 X 3개 + 주식선물</td>\n",
       "      <td>LO1631718294_1631718295</td>\n",
       "      <td>단일상품</td>\n",
       "      <td>19920</td>\n",
       "      <td>1</td>\n",
       "      <td>냉장/냉동/간편식 &gt; 즉석밥/죽/스프 &gt; 즉석밥</td>\n",
       "      <td>19920</td>\n",
       "      <td>1</td>\n",
       "    </tr>\n",
       "    <tr>\n",
       "      <th>4</th>\n",
       "      <td>2022-01-02 13:03:20</td>\n",
       "      <td>2022010212023380</td>\n",
       "      <td>MO WEB</td>\n",
       "      <td>일반주문</td>\n",
       "      <td>디폴트 채널상세</td>\n",
       "      <td>LPOINT통합회원</td>\n",
       "      <td>pilj****</td>\n",
       "      <td>BSGP2566</td>\n",
       "      <td>2022010212023381_1</td>\n",
       "      <td>취소(주문취소)</td>\n",
       "      <td>...</td>\n",
       "      <td>단일상품</td>\n",
       "      <td>LO1630046529</td>\n",
       "      <td>[특별이벤트]햇반 BIG 컵반 마요 2종 X 3개+주식선물</td>\n",
       "      <td>LO1630046529_1630046530</td>\n",
       "      <td>단일상품</td>\n",
       "      <td>19920</td>\n",
       "      <td>1</td>\n",
       "      <td>냉장/냉동/간편식 &gt; 즉석밥/죽/스프 &gt; 즉석밥</td>\n",
       "      <td>19920</td>\n",
       "      <td>1</td>\n",
       "    </tr>\n",
       "  </tbody>\n",
       "</table>\n",
       "<p>5 rows × 29 columns</p>\n",
       "</div>"
      ],
      "text/plain": [
       "                주문접수일시              주문번호    유입매체  주문구분      유입채널        회원구분  \\\n",
       "0  2022-01-01 00:17:11  2022010111864970  MO WEB  일반주문  디폴트 채널상세  LPOINT통합회원   \n",
       "1  2022-01-01 00:38:42  2022010111866940     APP  일반주문  디폴트 채널상세  LPOINT통합회원   \n",
       "2  2022-01-01 17:16:48  2022010111935200     APP  일반주문  디폴트 채널상세  LPOINT통합회원   \n",
       "3  2022-01-02 13:03:20  2022010212023380  MO WEB  일반주문  디폴트 채널상세  LPOINT통합회원   \n",
       "4  2022-01-02 13:03:20  2022010212023380  MO WEB  일반주문  디폴트 채널상세  LPOINT통합회원   \n",
       "\n",
       "        아이디     전시유입코드              상품주문번호        유형  ... 전시단품명       판매자상품번호  \\\n",
       "0  jsda****  SCH비비고갈비탕  2022010111864975_1  취소(주문취소)  ...  단일상품  LO1031678373   \n",
       "1  ggg9****  SCH쁘띠첼복숭아  2022010111866938_5  취소(주문취소)  ...  단일상품  LO1354545470   \n",
       "2  love****     SCH파래김  2022010111935204_1  취소(주문취소)  ...  단일상품  LO1511816458   \n",
       "3  pilj****   BSGP2566  2022010212023381_2  취소(주문취소)  ...  단일상품  LO1631718294   \n",
       "4  pilj****   BSGP2566  2022010212023381_1  취소(주문취소)  ...  단일상품  LO1630046529   \n",
       "\n",
       "                                판매자상품명                  판매자단품번호 판매자단품명    판매가  \\\n",
       "0                   CJ 비비고 갈비탕 400g x4  LO1031678373_1031678374   단일상품  18830   \n",
       "1         [CJ제일제당] 쁘띠첼 복숭아 90g*9번들X2EA  LO1354545470_1354545471   단일상품  22300   \n",
       "2      [CJ직배송]CJ 명가김 파래김 4G*16EA  X 2개  LO1511816458_1511816459   단일상품   6960   \n",
       "3  [특별이벤트] 햇반 BIG 컵반 스팸 2종 X 3개 + 주식선물  LO1631718294_1631718295   단일상품  19920   \n",
       "4     [특별이벤트]햇반 BIG 컵반 마요 2종 X 3개+주식선물  LO1630046529_1630046530   단일상품  19920   \n",
       "\n",
       "  수량                      표준카테고리    판매액 주문월  \n",
       "0  1    냉장/냉동/간편식 > 국/탕/찌개 > 국/탕  18830   1  \n",
       "1  1        과자/간식 > 디저트/케이크 > 푸딩  22300   1  \n",
       "2  3   수산/건어물 > 김/해조류 > 조미김/도시락김  20880   1  \n",
       "3  1  냉장/냉동/간편식 > 즉석밥/죽/스프 > 즉석밥  19920   1  \n",
       "4  1  냉장/냉동/간편식 > 즉석밥/죽/스프 > 즉석밥  19920   1  \n",
       "\n",
       "[5 rows x 29 columns]"
      ]
     },
     "execution_count": 99,
     "metadata": {},
     "output_type": "execute_result"
    }
   ],
   "source": [
    "canceled.head()"
   ]
  },
  {
   "cell_type": "markdown",
   "id": "6f93a27d",
   "metadata": {},
   "source": [
    "* 카테고리별로 성공적으로 주문된 항목, 반품 및 주문취소된 항목을 개수별로 분석해보았으나, \n",
    "* 카테고리가 냉동 간편식이나 가공식품은 주문 수도 많을 뿐더러, 그 만큼 취소/반품 수도 많아, 분석이 어렵다고 판단하였다."
   ]
  },
  {
   "cell_type": "code",
   "execution_count": 100,
   "id": "53740856",
   "metadata": {},
   "outputs": [
    {
     "data": {
      "text/plain": [
       "표준카테고리\n",
       "냉장/냉동/간편식 > 즉석밥/죽/스프 > 즉석밥       24487\n",
       "냉장/냉동/간편식 > 국/탕/찌개 > 국/탕         11854\n",
       "냉장/냉동/간편식 > 떡볶이/만두 > 만두           9769\n",
       "냉장/냉동/간편식 > 돈가스/고로케/너겟 > 돈가스      5259\n",
       "가공식품 > 통조림/캔 > 햄통조림               4427\n",
       "냉장/냉동/간편식 > 즉석밥/죽/스프 > 볶음밥        4069\n",
       "과자/간식 > 캔디/껌/캐러멜 > 젤리/푸딩          3631\n",
       "가공식품 > 식용유/오일 > 식용유/오일선물세트        3358\n",
       "가공식품 > 식용유/오일 > 카놀라유              2980\n",
       "가공식품 > 소스/드레싱 > 기타소스              2679\n",
       "가공식품 > 장류 > 고추장/초고추장              2263\n",
       "가공식품 > 면류 > 기타면류                  2225\n",
       "김치/반찬 > 김치 > 포기김치                 2140\n",
       "가공식품 > 장류 > 된장/쌈장/청국장             2030\n",
       "가공식품 > 통조림/캔 > 캔/통조림선물세트          1246\n",
       "가공식품 > 통조림/캔 > 닭가슴살통조림            1200\n",
       "가공식품 > 소스/드레싱 > 굴소스/중화요리소스        1105\n",
       "냉장/냉동/간편식 > 햄/소시지/베이컨 > 햄/소시지     1030\n",
       "냉장/냉동/간편식 > 피자/핫도그/햄버거 > 핫도그       862\n",
       "김치/반찬 > 반찬 > 기타반찬                  645\n",
       "Name: 주문번호, dtype: int64"
      ]
     },
     "execution_count": 100,
     "metadata": {},
     "output_type": "execute_result"
    }
   ],
   "source": [
    "df.groupby('표준카테고리')['주문번호'].count().sort_values(ascending=False).head(20)"
   ]
  },
  {
   "cell_type": "code",
   "execution_count": 101,
   "id": "5961f36b",
   "metadata": {},
   "outputs": [
    {
     "data": {
      "text/plain": [
       "표준카테고리\n",
       "냉장/냉동/간편식 > 즉석밥/죽/스프 > 즉석밥       2068\n",
       "냉장/냉동/간편식 > 국/탕/찌개 > 국/탕         1055\n",
       "냉장/냉동/간편식 > 떡볶이/만두 > 만두           978\n",
       "가공식품 > 식용유/오일 > 식용유/오일선물세트        512\n",
       "냉장/냉동/간편식 > 돈가스/고로케/너겟 > 돈가스      421\n",
       "가공식품 > 통조림/캔 > 햄통조림               374\n",
       "과자/간식 > 캔디/껌/캐러멜 > 젤리/푸딩          335\n",
       "김치/반찬 > 김치 > 포기김치                 315\n",
       "냉장/냉동/간편식 > 즉석밥/죽/스프 > 볶음밥        315\n",
       "가공식품 > 면류 > 기타면류                  277\n",
       "가공식품 > 장류 > 고추장/초고추장              237\n",
       "가공식품 > 식용유/오일 > 카놀라유              236\n",
       "가공식품 > 통조림/캔 > 캔/통조림선물세트          226\n",
       "가공식품 > 소스/드레싱 > 기타소스              200\n",
       "가공식품 > 장류 > 된장/쌈장/청국장             166\n",
       "냉장/냉동/간편식 > 햄/소시지/베이컨 > 햄/소시지     116\n",
       "가공식품 > 소스/드레싱 > 굴소스/중화요리소스         89\n",
       "가공식품 > 통조림/캔 > 닭가슴살통조림             85\n",
       "가공식품 > 조미료/양념 > 가공조미료              57\n",
       "냉장/냉동/간편식 > 피자/핫도그/햄버거 > 핫도그       56\n",
       "Name: 주문번호, dtype: int64"
      ]
     },
     "execution_count": 101,
     "metadata": {},
     "output_type": "execute_result"
    }
   ],
   "source": [
    "canceled.groupby('표준카테고리')['주문번호'].count().sort_values(ascending=False).head(20)"
   ]
  },
  {
   "cell_type": "code",
   "execution_count": 102,
   "id": "8e31eace",
   "metadata": {},
   "outputs": [],
   "source": [
    "hot = df['표준카테고리'].value_counts()\n",
    "canceltop = canceled['표준카테고리'].value_counts()\n",
    "category = pd.DataFrame({'주문수':hot, '취소수':canceltop})\n",
    "category = category.fillna(0)"
   ]
  },
  {
   "cell_type": "markdown",
   "id": "2966b15f",
   "metadata": {},
   "source": [
    "## 주문수, 취소수가 거의 1에 가까운 양의 상관관계를 가지는 것으로 보아, 반비례 관계나 예외성을 찾기는 어려울 것 같다고 판단하였다."
   ]
  },
  {
   "cell_type": "code",
   "execution_count": 103,
   "id": "6b223f06",
   "metadata": {},
   "outputs": [
    {
     "data": {
      "text/html": [
       "<div>\n",
       "<style scoped>\n",
       "    .dataframe tbody tr th:only-of-type {\n",
       "        vertical-align: middle;\n",
       "    }\n",
       "\n",
       "    .dataframe tbody tr th {\n",
       "        vertical-align: top;\n",
       "    }\n",
       "\n",
       "    .dataframe thead th {\n",
       "        text-align: right;\n",
       "    }\n",
       "</style>\n",
       "<table border=\"1\" class=\"dataframe\">\n",
       "  <thead>\n",
       "    <tr style=\"text-align: right;\">\n",
       "      <th></th>\n",
       "      <th>주문수</th>\n",
       "      <th>취소수</th>\n",
       "    </tr>\n",
       "  </thead>\n",
       "  <tbody>\n",
       "    <tr>\n",
       "      <th>주문수</th>\n",
       "      <td>1.000000</td>\n",
       "      <td>0.991346</td>\n",
       "    </tr>\n",
       "    <tr>\n",
       "      <th>취소수</th>\n",
       "      <td>0.991346</td>\n",
       "      <td>1.000000</td>\n",
       "    </tr>\n",
       "  </tbody>\n",
       "</table>\n",
       "</div>"
      ],
      "text/plain": [
       "          주문수       취소수\n",
       "주문수  1.000000  0.991346\n",
       "취소수  0.991346  1.000000"
      ]
     },
     "execution_count": 103,
     "metadata": {},
     "output_type": "execute_result"
    }
   ],
   "source": [
    "category.corr()"
   ]
  },
  {
   "cell_type": "code",
   "execution_count": 104,
   "id": "89b733d8",
   "metadata": {},
   "outputs": [],
   "source": [
    "df['출고지시일'] = pd.to_datetime(df['출고지시일'])"
   ]
  },
  {
   "cell_type": "code",
   "execution_count": 105,
   "id": "4e9f602b",
   "metadata": {},
   "outputs": [
    {
     "data": {
      "text/plain": [
       "Timedelta('0 days 01:14:25.307785509')"
      ]
     },
     "execution_count": 105,
     "metadata": {},
     "output_type": "execute_result"
    }
   ],
   "source": [
    "df['출고까지 걸린 시간'] = df['출고지시일'] - df['주문날짜']\n",
    "df['출고까지 걸린 시간'].mean()"
   ]
  },
  {
   "cell_type": "code",
   "execution_count": 106,
   "id": "b27df8d0",
   "metadata": {},
   "outputs": [],
   "source": [
    "canceled['주문날짜'] = canceled['주문번호']//(10**8)\n",
    "canceled['주문날짜'].astype(str)\n",
    "canceled['주문날짜'] = pd.to_datetime(canceled['주문날짜'], format = \"%Y%m%d\")"
   ]
  },
  {
   "cell_type": "code",
   "execution_count": 107,
   "id": "c90fc0c5",
   "metadata": {},
   "outputs": [],
   "source": [
    "canceled['출고지시일'] = pd.to_datetime(canceled['출고지시일'])"
   ]
  },
  {
   "cell_type": "markdown",
   "id": "c88cef3d",
   "metadata": {},
   "source": [
    "### 취소한 데이터는 주문 후 출고까지 기간이 평균 5일 이상 소요되었다."
   ]
  },
  {
   "cell_type": "code",
   "execution_count": 108,
   "id": "a076ed1f",
   "metadata": {},
   "outputs": [
    {
     "data": {
      "text/plain": [
       "Timedelta('5 days 12:13:42.857142857')"
      ]
     },
     "execution_count": 108,
     "metadata": {},
     "output_type": "execute_result"
    }
   ],
   "source": [
    "canceled['출고까지 걸린 시간'] = canceled['출고지시일'] - canceled['주문날짜']\n",
    "canceled['출고까지 걸린 시간'].mean()"
   ]
  },
  {
   "cell_type": "code",
   "execution_count": 109,
   "id": "f34dd929",
   "metadata": {},
   "outputs": [],
   "source": [
    "returned = canceled[canceled['유형'] == '반품']"
   ]
  },
  {
   "cell_type": "markdown",
   "id": "e86c91c8",
   "metadata": {},
   "source": [
    "### 반품한 데이터는 주문 후 출고까지 기간이 평균 6일 이상 소요되었다."
   ]
  },
  {
   "cell_type": "code",
   "execution_count": 110,
   "id": "a909311c",
   "metadata": {},
   "outputs": [
    {
     "name": "stderr",
     "output_type": "stream",
     "text": [
      "<ipython-input-110-41bfd6b8ba67>:1: SettingWithCopyWarning: \n",
      "A value is trying to be set on a copy of a slice from a DataFrame.\n",
      "Try using .loc[row_indexer,col_indexer] = value instead\n",
      "\n",
      "See the caveats in the documentation: https://pandas.pydata.org/pandas-docs/stable/user_guide/indexing.html#returning-a-view-versus-a-copy\n",
      "  returned['출고까지 걸린 시간'] = returned['출고지시일'] - returned['주문날짜']\n"
     ]
    },
    {
     "data": {
      "text/plain": [
       "Timedelta('6 days 03:29:01.935483870')"
      ]
     },
     "execution_count": 110,
     "metadata": {},
     "output_type": "execute_result"
    }
   ],
   "source": [
    "returned['출고까지 걸린 시간'] = returned['출고지시일'] - returned['주문날짜']\n",
    "returned['출고까지 걸린 시간'].mean()"
   ]
  },
  {
   "cell_type": "code",
   "execution_count": 111,
   "id": "be913dad",
   "metadata": {},
   "outputs": [
    {
     "data": {
      "text/plain": [
       "4 days     39\n",
       "2 days     22\n",
       "5 days     19\n",
       "6 days     19\n",
       "3 days     17\n",
       "7 days     15\n",
       "8 days     12\n",
       "9 days     11\n",
       "11 days     9\n",
       "15 days     6\n",
       "10 days     4\n",
       "1 days      4\n",
       "12 days     2\n",
       "18 days     2\n",
       "13 days     2\n",
       "14 days     1\n",
       "21 days     1\n",
       "29 days     1\n",
       "Name: 출고까지 걸린 시간, dtype: int64"
      ]
     },
     "execution_count": 111,
     "metadata": {},
     "output_type": "execute_result"
    }
   ],
   "source": [
    "returned['출고까지 걸린 시간'].value_counts()"
   ]
  },
  {
   "cell_type": "code",
   "execution_count": 112,
   "id": "192423ae",
   "metadata": {},
   "outputs": [
    {
     "data": {
      "text/plain": [
       "0 days    88523\n",
       "1 days     4661\n",
       "2 days       78\n",
       "3 days        1\n",
       "Name: 출고까지 걸린 시간, dtype: int64"
      ]
     },
     "execution_count": 112,
     "metadata": {},
     "output_type": "execute_result"
    }
   ],
   "source": [
    "df['출고까지 걸린 시간'].value_counts()"
   ]
  },
  {
   "cell_type": "markdown",
   "id": "55024d20",
   "metadata": {},
   "source": [
    "## 요약\n",
    "* 취소 및 반품의 원인은 상품 카테고리로는 보기 어렵다고 판단된다.\n",
    "* 주문 후 출고까지 기간이 오래 소요되면, 취소하는 것으로 확인하였다.\n",
    "* 취소/반품 상품이 적게 나오게 하기 위해서는, 출고까지의 시간을 단축시켜야 한다고 판단하였다."
   ]
  },
  {
   "cell_type": "code",
   "execution_count": 119,
   "id": "8fb0ead1",
   "metadata": {},
   "outputs": [
    {
     "data": {
      "text/plain": [
       "93320"
      ]
     },
     "execution_count": 119,
     "metadata": {},
     "output_type": "execute_result"
    }
   ],
   "source": [
    "len(df)"
   ]
  },
  {
   "cell_type": "code",
   "execution_count": 114,
   "id": "1bef61dc",
   "metadata": {},
   "outputs": [
    {
     "data": {
      "text/plain": [
       "78956"
      ]
     },
     "execution_count": 114,
     "metadata": {},
     "output_type": "execute_result"
    }
   ],
   "source": [
    "df['주문번호'].nunique()"
   ]
  },
  {
   "cell_type": "code",
   "execution_count": 126,
   "id": "90c09a0a",
   "metadata": {},
   "outputs": [
    {
     "data": {
      "text/plain": [
       "2022083014773310    22\n",
       "2022012415416630    20\n",
       "2022011814500970    15\n",
       "2022070618091900    15\n",
       "2022082914603140    14\n",
       "2022012114942160    13\n",
       "2022041015864800    10\n",
       "2022041817028790     9\n",
       "2022012114979470     9\n",
       "2022060113375530     9\n",
       "2022072910878890     8\n",
       "2022080712028470     8\n",
       "2022080511807120     8\n",
       "2022073011011490     8\n",
       "2022080712062150     8\n",
       "2022011213628140     8\n",
       "2022080712021420     8\n",
       "2022080111177620     7\n",
       "2022080311587330     7\n",
       "2022071819514850     7\n",
       "2022052412431250     7\n",
       "2022062816953980     7\n",
       "2022021017598860     7\n",
       "2022042418229750     7\n",
       "2022073010940250     7\n",
       "2022031411954690     7\n",
       "2022062316371160     7\n",
       "2022050619992700     7\n",
       "2022072910880820     7\n",
       "2022080311580870     7\n",
       "2022031512095730     7\n",
       "2022041917338610     7\n",
       "2022080712041790     6\n",
       "2022031411952980     6\n",
       "2022012415351140     6\n",
       "2022052812890340     6\n",
       "2022080612003680     6\n",
       "2022073111052780     6\n",
       "2022062116017690     6\n",
       "2022031211703360     6\n",
       "2022083114946940     6\n",
       "2022080311598970     6\n",
       "2022061515212100     6\n",
       "2022020717035980     6\n",
       "2022062216136660     6\n",
       "2022051611359190     6\n",
       "2022060714287820     6\n",
       "2022062416483400     6\n",
       "2022060814301480     6\n",
       "2022080712148470     6\n",
       "Name: 주문번호, dtype: int64"
      ]
     },
     "execution_count": 126,
     "metadata": {},
     "output_type": "execute_result"
    }
   ],
   "source": [
    "df['주문번호'].value_counts().head(50)"
   ]
  },
  {
   "cell_type": "code",
   "execution_count": null,
   "id": "2443b7e7",
   "metadata": {},
   "outputs": [],
   "source": []
  }
 ],
 "metadata": {
  "kernelspec": {
   "display_name": "Python 3",
   "language": "python",
   "name": "python3"
  },
  "language_info": {
   "codemirror_mode": {
    "name": "ipython",
    "version": 3
   },
   "file_extension": ".py",
   "mimetype": "text/x-python",
   "name": "python",
   "nbconvert_exporter": "python",
   "pygments_lexer": "ipython3",
   "version": "3.8.8"
  }
 },
 "nbformat": 4,
 "nbformat_minor": 5
}
